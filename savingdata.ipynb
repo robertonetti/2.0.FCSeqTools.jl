{
 "cells": [
  {
   "cell_type": "code",
   "execution_count": 2,
   "metadata": {},
   "outputs": [
    {
     "name": "stderr",
     "output_type": "stream",
     "text": [
      "\u001b[36m\u001b[1m[ \u001b[22m\u001b[39m\u001b[36m\u001b[1mInfo: \u001b[22m\u001b[39mPrecompiling JLD [4138dd39-2aa7-5051-a626-17a0bb65d9c8]\n",
      "WARNING: could not import HDF5.exists into JLD\n"
     ]
    },
    {
     "data": {
      "text/plain": [
       "3×3×3 Array{Float64, 3}:\n",
       "[:, :, 1] =\n",
       " 0.544153  0.164145  0.780084\n",
       " 0.246563  0.79117   0.513685\n",
       " 0.412546  0.424156  0.85094\n",
       "\n",
       "[:, :, 2] =\n",
       " 0.507588  0.448589  0.215186\n",
       " 0.789473  0.409235  0.628966\n",
       " 0.508006  0.524239  0.149325\n",
       "\n",
       "[:, :, 3] =\n",
       " 0.360868  0.770875  0.561543\n",
       " 0.991592  0.126969  0.0435843\n",
       " 0.892471  0.215007  0.396231"
      ]
     },
     "execution_count": 2,
     "metadata": {},
     "output_type": "execute_result"
    }
   ],
   "source": [
    "using JLD\n",
    "\n",
    "r=rand(3,3,3)\n",
    "\n",
    "#save----\n",
    "JLD.save(\"data.jld\",\"data\", r)\n",
    "\n",
    "#load----\n",
    "r_copy = JLD.load(\"data.jld\")[\"data\"]\n"
   ]
  },
  {
   "cell_type": "code",
   "execution_count": null,
   "metadata": {},
   "outputs": [],
   "source": []
  }
 ],
 "metadata": {
  "kernelspec": {
   "display_name": "Julia 1.8.5",
   "language": "julia",
   "name": "julia-1.8"
  },
  "language_info": {
   "file_extension": ".jl",
   "mimetype": "application/julia",
   "name": "julia",
   "version": "1.8.5"
  },
  "orig_nbformat": 4
 },
 "nbformat": 4,
 "nbformat_minor": 2
}
