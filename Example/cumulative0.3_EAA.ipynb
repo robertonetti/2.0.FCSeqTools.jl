{
 "cells": [
  {
   "cell_type": "markdown",
   "metadata": {},
   "source": [
    "# Edge Addition Algorithm - simple implementation example"
   ]
  },
  {
   "cell_type": "markdown",
   "metadata": {},
   "source": [
    "<font size=\"3\">Run time is around ~5 minutes with the default input. \\\n",
    "\\\n",
    "In this example we will use the E.A.A. model to build a low-connectivity DCA model. \\\n",
    "The information that we have about the training RNA family consists in: the sequence alignment and the consenus secondary structure (both trough the Covariance Model) and the 3D contacts trough the PDB file. </font> \n"
   ]
  },
  {
   "cell_type": "code",
   "execution_count": 3,
   "id": "20924cd6",
   "metadata": {},
   "outputs": [],
   "source": [
    "#display(HTML(\"<style>.container { width:90% !important; }</style>\"))\n",
    "#using FCSeqTools\n",
    "#include(\"plotting_tools.jl\")\n",
    "#using Revise\n",
    "include(\"FCSeqTools.jl\");"
   ]
  },
  {
   "cell_type": "markdown",
   "metadata": {},
   "source": [
    "<font size=\"3\">Here is an example of  RF00379 molecule and its associated consensus secondary structure. \\\n",
    "To make the execution faster we will not generate full lenght molecules but just a portion from nucleotide 55 to 102. </font>"
   ]
  },
  {
   "cell_type": "code",
   "execution_count": 4,
   "metadata": {},
   "outputs": [],
   "source": [
    "first=55\n",
    "last=102\n",
    "\n",
    "#tertiary_contact_list, tertiary_contact_matrix = tertiary_plot_tools(len, \"mapp_4qln_A.pdb_A_RF00379.txt.csv\", 8);\n",
    "#natural_sequences = do_number_matrix_rna(do_letter_matrix(\"RF00379.txt\"), 0.2)\n",
    "#ss_contact_list, ss_contact_matrix = secondary_structure_plot_tools(\"RF00379.cm\")\n",
    "#natural_sequences = do_number_matrix_rna(do_letter_matrix(\"RF00379.txt\"),0.2)\n",
    "natural_sequences = do_number_matrix_rna(do_letter_matrix(\"RF00379.txt\")[:, first: last], 0.2)\n",
    "#ss_contact_matrix = ss_contact_matrix[first:last,first:last]\n",
    "#tertiary_contact_matrix = tertiary_contact_matrix[first:last,first:last]\n",
    "len = last - first + 1;\n",
    "#println(\"The segment is $len nucletodide long and has $(sum(vec(ss_contact_matrix))) secondary structure contacts. The database contains $(length(natural_sequences[:,1])) sequences.\")\n",
    "#println(\"\\n\", uppercase(join(collect(molecule)[first:last])))\n",
    "#println(\"\\n\", ss_matrix_to_dot_bracket(ss_contact_matrix))"
   ]
  },
  {
   "cell_type": "markdown",
   "metadata": {},
   "source": [
    "<font size=\"3\">Here is a segment example with its associated secondary structure. \\\n",
    "The database has a different size because the data-cleaning procedure depends on the region selected. \\\n",
    "Now we will run the E.A.A. building up our ineraction netwotk edge by edge till we reach a good performance generative model. \\\n",
    "At each iteration the algorithm reports: the added edge, the iteration number, the number of total added edges and the connectivity percentace of the fully connected case.\\\n",
    "Each 15 iterations the algorithm reports: the model score (Pearson between natural and artificial two-point correlations), the model mean energy, the model partition function and the model entropy. "
   ]
  },
  {
   "cell_type": "code",
   "execution_count": 5,
   "metadata": {},
   "outputs": [
    {
     "name": "stdout",
     "output_type": "stream",
     "text": [
      "Fully connected model has 1128 edges, 28200 elements and a score around ~ 0.95\n",
      "\n",
      "iteration = 20,   Score = 0.592,  <E> = 45.15  log(Z) = 0.45,   S = 45.6   edges: 11,   elements: 33,   edge complexity: 0.98%   elements complexity: 0.12%\n",
      "\n",
      "iteration = 40,   Score = 0.67,  <E> = 43.02  log(Z) = 0.64,   S = 43.66   edges: 21,   elements: 67,   edge complexity: 1.86%   elements complexity: 0.24%\n",
      "\n",
      "iteration = 60,   Score = 0.699,  <E> = 41.5  log(Z) = 0.68,   S = 42.17   edges: 26,   elements: 102,   edge complexity: 2.3%   elements complexity: 0.36%\n",
      "\n",
      "iteration = 80,   Score = 0.736,  <E> = 39.26  log(Z) = 0.93,   S = 40.19   edges: 37,   elements: 135,   edge complexity: 3.28%   elements complexity: 0.48%\n",
      "\n",
      "iteration = 100,   Score = 0.765,  <E> = 38.56  log(Z) = 1.18,   S = 39.75   edges: 41,   elements: 170,   edge complexity: 3.63%   elements complexity: 0.6%\n",
      "\n",
      "iteration = 120,   Score = 0.783,  <E> = 37.9  log(Z) = 1.39,   S = 39.29   edges: 52,   elements: 197,   edge complexity: 4.61%   elements complexity: 0.7%\n",
      "\n",
      "iteration = 140,   Score = 0.798,  <E> = 36.64  log(Z) = 1.64,   S = 38.28   edges: 60,   elements: 229,   edge complexity: 5.32%   elements complexity: 0.81%\n",
      "\n",
      "iteration = 160,   Score = 0.806,  <E> = 35.42  log(Z) = 1.92,   S = 37.34   edges: 71,   elements: 263,   edge complexity: 6.29%   elements complexity: 0.93%\n",
      "\n",
      "iteration = 180,   Score = 0.828,  <E> = 34.93  log(Z) = 2.16,   S = 37.09   edges: 86,   elements: 294,   edge complexity: 7.62%   elements complexity: 1.04%\n",
      "\n",
      "iteration = 200,   Score = 0.842,  <E> = 34.0  log(Z) = 2.42,   S = 36.42   edges: 95,   elements: 330,   edge complexity: 8.42%   elements complexity: 1.17%\n",
      "\n",
      "iteration = 220,   Score = 0.847,  <E> = 33.59  log(Z) = 2.7,   S = 36.28   edges: 106,   elements: 368,   edge complexity: 9.4%   elements complexity: 1.3%\n",
      "\n",
      "iteration = 240,   Score = 0.858,  <E> = 33.23  log(Z) = 2.98,   S = 36.21   edges: 118,   elements: 406,   edge complexity: 10.46%   elements complexity: 1.44%\n",
      "\n",
      "iteration = 260,   Score = 0.866,  <E> = 32.76  log(Z) = 3.22,   S = 35.98   edges: 135,   elements: 444,   edge complexity: 11.97%   elements complexity: 1.57%\n",
      "\n",
      "iteration = 280,   Score = 0.869,  <E> = 32.56  log(Z) = 3.46,   S = 36.02   edges: 142,   elements: 474,   edge complexity: 12.59%   elements complexity: 1.68%\n",
      "\n",
      "iteration = 300,   Score = 0.881,  <E> = 32.19  log(Z) = 3.73,   S = 35.91   edges: 158,   elements: 511,   edge complexity: 14.01%   elements complexity: 1.81%\n",
      "\n",
      "iteration = 320,   Score = 0.887,  <E> = 31.76  log(Z) = 4.0,   S = 35.76   edges: 167,   elements: 549,   edge complexity: 14.8%   elements complexity: 1.95%\n",
      "\n",
      "iteration = 340,   Score = 0.892,  <E> = 31.26  log(Z) = 4.24,   S = 35.5   edges: 178,   elements: 586,   edge complexity: 15.78%   elements complexity: 2.08%\n",
      "\n",
      "iteration = 360,   Score = 0.898,  <E> = 30.58  log(Z) = 4.45,   S = 35.03   edges: 185,   elements: 624,   edge complexity: 16.4%   elements complexity: 2.21%\n",
      "\n",
      "iteration = 380,   Score = 0.9,  <E> = 29.84  log(Z) = 4.67,   S = 34.52   edges: 197,   elements: 655,   edge complexity: 17.46%   elements complexity: 2.32%\n",
      "\n",
      "iteration = 400,   Score = 0.905,  <E> = 29.6  log(Z) = 4.88,   S = 34.48   edges: 206,   elements: 691,   edge complexity: 18.26%   elements complexity: 2.45%\n",
      "\n",
      "iteration = 420,   Score = 0.91,  <E> = 28.99  log(Z) = 5.09,   S = 34.09   edges: 216,   elements: 728,   edge complexity: 19.15%   elements complexity: 2.58%\n",
      "\n",
      "iteration = 440,   Score = 0.912,  <E> = 28.79  log(Z) = 5.33,   S = 34.12   edges: 225,   elements: 767,   edge complexity: 19.95%   elements complexity: 2.72%\n",
      "\n",
      "iteration = 460,   Score = 0.913,  <E> = 28.36  log(Z) = 5.53,   S = 33.89   edges: 238,   elements: 804,   edge complexity: 21.1%   elements complexity: 2.85%\n",
      "\n",
      "iteration = 480,   Score = 0.916,  <E> = 28.09  log(Z) = 5.72,   S = 33.81   edges: 249,   elements: 838,   edge complexity: 22.07%   elements complexity: 2.97%\n",
      "\n",
      "iteration = 500,   Score = 0.92,  <E> = 27.77  log(Z) = 5.92,   S = 33.69   edges: 260,   elements: 876,   edge complexity: 23.05%   elements complexity: 3.11%\n",
      "\n",
      "iteration = 520,   Score = 0.924,  <E> = 27.37  log(Z) = 6.11,   S = 33.47   edges: 272,   elements: 916,   edge complexity: 24.11%   elements complexity: 3.25%\n",
      "\n",
      "iteration = 540,   Score = 0.927,  <E> = 26.97  log(Z) = 6.29,   S = 33.26   edges: 282,   elements: 954,   edge complexity: 25.0%   elements complexity: 3.38%\n",
      "\n",
      "iteration = 560,   Score = 0.926,  <E> = 26.67  log(Z) = 6.47,   S = 33.14   edges: 295,   elements: 993,   edge complexity: 26.15%   elements complexity: 3.52%\n",
      "\n",
      "iteration = 580,   Score = 0.928,  <E> = 26.45  log(Z) = 6.68,   S = 33.13   edges: 311,   elements: 1033,   edge complexity: 27.57%   elements complexity: 3.66%\n",
      "\n",
      "iteration = 600,   Score = 0.93,  <E> = 26.32  log(Z) = 6.87,   S = 33.19   edges: 320,   elements: 1070,   edge complexity: 28.37%   elements complexity: 3.79%\n",
      "\n",
      "iteration = 620,   Score = 0.931,  <E> = 26.16  log(Z) = 7.1,   S = 33.26   edges: 329,   elements: 1108,   edge complexity: 29.17%   elements complexity: 3.93%\n",
      "\n",
      "iteration = 640,   Score = 0.935,  <E> = 25.96  log(Z) = 7.33,   S = 33.29   edges: 341,   elements: 1142,   edge complexity: 30.23%   elements complexity: 4.05%\n",
      "\n",
      "iteration = 660,   Score = 0.937,  <E> = 25.45  log(Z) = 7.49,   S = 32.93   edges: 351,   elements: 1177,   edge complexity: 31.12%   elements complexity: 4.17%\n",
      "\n",
      "iteration = 680,   Score = 0.938,  <E> = 25.11  log(Z) = 7.68,   S = 32.79   edges: 362,   elements: 1217,   edge complexity: 32.09%   elements complexity: 4.32%\n",
      "\n",
      "iteration = 700,   Score = 0.94,  <E> = 25.22  log(Z) = 7.87,   S = 33.09   edges: 370,   elements: 1258,   edge complexity: 32.8%   elements complexity: 4.46%\n",
      "\n",
      "iteration = 720,   Score = 0.941,  <E> = 24.95  log(Z) = 8.11,   S = 33.07   edges: 381,   elements: 1296,   edge complexity: 33.78%   elements complexity: 4.6%\n",
      "\n",
      "iteration = 740,   Score = 0.941,  <E> = 24.83  log(Z) = 8.32,   S = 33.15   edges: 388,   elements: 1329,   edge complexity: 34.4%   elements complexity: 4.71%\n",
      "\n",
      "iteration = 760,   Score = 0.943,  <E> = 24.51  log(Z) = 8.53,   S = 33.04   edges: 396,   elements: 1366,   edge complexity: 35.11%   elements complexity: 4.84%\n",
      "\n",
      "iteration = 780,   Score = 0.946,  <E> = 24.38  log(Z) = 8.75,   S = 33.13   edges: 403,   elements: 1410,   edge complexity: 35.73%   elements complexity: 5.0%\n",
      "\n",
      "iteration = 800,   Score = 0.946,  <E> = 24.23  log(Z) = 8.92,   S = 33.16   edges: 410,   elements: 1445,   edge complexity: 36.35%   elements complexity: 5.12%\n",
      "\n",
      "iteration = 820,   Score = 0.947,  <E> = 24.18  log(Z) = 9.12,   S = 33.31   edges: 419,   elements: 1483,   edge complexity: 37.15%   elements complexity: 5.26%\n",
      "\n",
      "iteration = 840,   Score = 0.947,  <E> = 24.02  log(Z) = 9.36,   S = 33.38   edges: 429,   elements: 1520,   edge complexity: 38.03%   elements complexity: 5.39%\n",
      "\n",
      "iteration = 860,   Score = 0.947,  <E> = 23.76  log(Z) = 9.55,   S = 33.31   edges: 434,   elements: 1561,   edge complexity: 38.48%   elements complexity: 5.54%\n",
      "\n",
      "iteration = 880,   Score = 0.949,  <E> = 23.64  log(Z) = 9.71,   S = 33.34   edges: 441,   elements: 1600,   edge complexity: 39.1%   elements complexity: 5.67%\n",
      "\n",
      "iteration = 900,   Score = 0.95,  <E> = 23.63  log(Z) = 9.9,   S = 33.53\n",
      " \n",
      "The selceted model has 447 edges and a score = 0.95\n"
     ]
    },
    {
     "data": {
      "text/plain": [
       "616.9772398471832"
      ]
     },
     "execution_count": 5,
     "metadata": {},
     "output_type": "execute_result"
    }
   ],
   "source": [
    "using Random\n",
    "\n",
    "n_step = 2000\n",
    "method = \"cumulative\"\n",
    "\n",
    "s = time()\n",
    "Random.seed!(2) \n",
    "#                                                                                                 #21            #12000                                          #stats  #cumulative\n",
    "score, likelihood_gain, generated_sequences, Jij, h, contact_list, site_degree, edge_list = E_A_A(5, n_step, 0.05, 7000, natural_sequences,\"example_output.txt\", false, method, 0.3); \n",
    "s = time() - s"
   ]
  },
  {
   "cell_type": "markdown",
   "metadata": {},
   "source": [
    "<font size=\"3\">The model obtained has a performance comparable to the fully connected DCA while having just ~20% of its connectivity. The entropy of the model is 35.08. This means that it is able to generate e³⁵ (3.5x10¹⁵) different 55-102 segments for the RF00379 family. \\\n",
    "Now we can test our artificial sequences. We do the classical statistical check of the PCA projection and the two-point correlation representation. \\\n",
    "We test the performance of our model against the one of the Covariance Model. The CM model only contains trivial one-point and secondary information so our model must do better than it. </font>"
   ]
  },
  {
   "cell_type": "code",
   "execution_count": null,
   "metadata": {},
   "outputs": [],
   "source": [
    "cm_sequences = rna_cm_model_generation(0.8,0.05,7000,natural_sequences,ss_contact_matrix);\n"
   ]
  },
  {
   "cell_type": "code",
   "execution_count": null,
   "metadata": {},
   "outputs": [],
   "source": [
    "plot_stat_check(natural_sequences, generated_sequences, cm_sequences)"
   ]
  },
  {
   "cell_type": "markdown",
   "metadata": {},
   "source": [
    "<font size=\"3\">The E.A.A. artificial molecules are practically statistically indistinguishable from the natural ones. We see that they have a very similar PCA projection (artificial one seems richer just because we have more artificial sequences than natural ones) while Covariance Model fails to capture the details of the distribution. \n",
    "    The selected model has almost a perfect two-point statistics for all site pairs while the CM model only captures it for the ones involved in secondary structure contacts. \\\n",
    "     </font>\n"
   ]
  },
  {
   "cell_type": "markdown",
   "metadata": {},
   "source": [
    "<font size=\"3\">The interpretability is one of the main reasons in our quest to find parsimonious generative models. Now that we are sure we obtained a good generative model with relatively few parameters we can try to interprete them. \\\n",
    "Dividing the added edges in secondary structure contacts, 3D contacts we have:"
   ]
  },
  {
   "cell_type": "code",
   "execution_count": null,
   "metadata": {},
   "outputs": [],
   "source": [
    "edge_interpretation_plot(len,ss_contact_matrix,tertiary_contact_matrix,edge_list[1:50,:])"
   ]
  },
  {
   "cell_type": "markdown",
   "metadata": {},
   "source": [
    "<font size=\"3\">We see that the secondary structure contacts are taken in the first few iteration. We have lot of neighbouring sites probably due to philogenic effects. It is striking that we see some 3D contacts (in particular around site 40) before the NONE edges. This\n",
    "suggests that our algorithm effectively captures some information about the tertiary structure. \\\n",
    "Those results, that are far more general than this simple example, suggest that the added edges have a co-evolutionary interpretation."
   ]
  },
  {
   "cell_type": "markdown",
   "metadata": {},
   "source": [
    "<font size=\"3\">\n",
    "This notebook serves as an example of the application of the techniques described in the main text.\n"
   ]
  }
 ],
 "metadata": {
  "kernelspec": {
   "display_name": "Julia 1.8.5",
   "language": "julia",
   "name": "julia-1.8"
  },
  "language_info": {
   "file_extension": ".jl",
   "mimetype": "application/julia",
   "name": "julia",
   "version": "1.8.5"
  },
  "vscode": {
   "interpreter": {
    "hash": "6412a36ae9b8109c1adf793ae61659867359f52a3cfb701a53c331fa90dc1d37"
   }
  }
 },
 "nbformat": 4,
 "nbformat_minor": 5
}
