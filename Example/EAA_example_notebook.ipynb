{
 "cells": [
  {
   "cell_type": "markdown",
   "metadata": {},
   "source": [
    "# Edge Addition Algorithm - simple implementation example"
   ]
  },
  {
   "cell_type": "markdown",
   "metadata": {},
   "source": [
    "<font size=\"3\">Run time is around ~5 minutes with the default input. \\\n",
    "\\\n",
    "In this example we will use the E.A.A. model to build a low-connectivity DCA model. \\\n",
    "The information that we have about the training RNA family consists in: the sequence alignment and the consenus secondary structure (both trough the Covariance Model) and the 3D contacts trough the PDB file. </font> \n"
   ]
  },
  {
   "cell_type": "code",
   "execution_count": 2,
   "metadata": {},
   "outputs": [
    {
     "data": {
      "text/html": [
       "<style>.container { width:90% !important; }</style>"
      ],
      "text/plain": [
       "HTML{String}(\"<style>.container { width:90% !important; }</style>\")"
      ]
     },
     "metadata": {},
     "output_type": "display_data"
    },
    {
     "data": {
      "text/plain": [
       "plot_stat_check (generic function with 1 method)"
      ]
     },
     "execution_count": 2,
     "metadata": {},
     "output_type": "execute_result"
    }
   ],
   "source": [
    "display(HTML(\"<style>.container { width:90% !important; }</style>\"))\n",
    "using FCSeqTools\n",
    "include(\"plotting_tools.jl\")"
   ]
  },
  {
   "cell_type": "code",
   "execution_count": 3,
   "metadata": {
    "scrolled": true
   },
   "outputs": [
    {
     "name": "stdout",
     "output_type": "stream",
     "text": [
      "The RF00379 family is 136 nucletodide long and has 20 secondary structure contacts. It contains 3808 sequences.\n",
      "\n",
      "-AAUAACAUAAGCCUAAGUU--UA-AAACGCGGGGGAACCA---UUAAUUGGGGUGAAUCACAUUUAUU-UUGUGUAGGUU-AGCCUU---UACCGAACCCGUCAGCUAACCCCGUUGGUA-AAAGGAGUGAAUAA\n",
      "\n",
      "..........((((...(((......)))..........((........))(((.....((((........))))..((((..........))))...)))................))))...............\n"
     ]
    }
   ],
   "source": [
    "ss_contact_list, ss_contact_matrix, molecule,dot_bracket,len=secondary_structure_plot_tools(\"RF00379.cm\")\n",
    "tertiary_contact_list,tertiary_contact_matrix=tertiary_plot_tools(len,\"mapp_4qln_A.pdb_A_RF00379.txt.csv\",8);\n",
    "natural_sequences=do_number_matrix_rna(do_letter_matrix(\"RF00379.txt\"),0.2);\n",
    "println(\"The RF00379 family is $len nucletodide long and has $(sum(vec(ss_contact_matrix))) secondary structure contacts. It contains $(length(natural_sequences[:,1])) sequences.\")\n",
    "println(\"\\n\", join(do_letter_matrix(\"RF00379.txt\")[1,:]))\n",
    "println(\"\\n\", ss_matrix_to_dot_bracket(ss_contact_matrix))"
   ]
  },
  {
   "cell_type": "markdown",
   "metadata": {},
   "source": [
    "<font size=\"3\">Here is an example of  RF00379 molecule and its associated consensus secondary structure. \\\n",
    "To make the execution faster we will not generate full lenght molecules but just a portion from nucleotide 55 to 102. </font>"
   ]
  },
  {
   "cell_type": "code",
   "execution_count": 4,
   "metadata": {},
   "outputs": [
    {
     "name": "stdout",
     "output_type": "stream",
     "text": [
      "The segment is 48 nucletodide long and has 8 secondary structure contacts. The database contains 3831 sequences.\n",
      "\n",
      "-----CCGGUUAUAUUAGGGG--GGGCAACCCUUUUGGCCC---CCC-\n",
      "\n",
      ".....((((........))))..((((..........)))).......\n"
     ]
    }
   ],
   "source": [
    "first=55\n",
    "last=102\n",
    "\n",
    "tertiary_contact_list,tertiary_contact_matrix=tertiary_plot_tools(len,\"mapp_4qln_A.pdb_A_RF00379.txt.csv\",8);\n",
    "natural_sequences=do_number_matrix_rna(do_letter_matrix(\"RF00379.txt\"),0.2)\n",
    "ss_contact_list, ss_contact_matrix=secondary_structure_plot_tools(\"RF00379.cm\")\n",
    "natural_sequences=do_number_matrix_rna(do_letter_matrix(\"RF00379.txt\"),0.2)\n",
    "natural_sequences=do_number_matrix_rna(do_letter_matrix(\"RF00379.txt\")[:,first:last],0.2)\n",
    "ss_contact_matrix=ss_contact_matrix[first:last,first:last]\n",
    "tertiary_contact_matrix=tertiary_contact_matrix[first:last,first:last]\n",
    "len=last-first+1;\n",
    "println(\"The segment is $len nucletodide long and has $(sum(vec(ss_contact_matrix))) secondary structure contacts. The database contains $(length(natural_sequences[:,1])) sequences.\")\n",
    "println(\"\\n\", uppercase(join(collect(molecule)[first:last])))\n",
    "println(\"\\n\", ss_matrix_to_dot_bracket(ss_contact_matrix))"
   ]
  },
  {
   "cell_type": "markdown",
   "metadata": {},
   "source": [
    "<font size=\"3\">Here is a segment example with its associated secondary structure. \\\n",
    "The database has a different size because the data-cleaning procedure depends on the region selected. \\\n",
    "Now we will run the E.A.A. building up our ineraction netwotk edge by edge till we reach a good performance generative model. \\\n",
    "At each iteration the algorithm reports: the added edge, the iteration number, the number of total added edges and the connectivity percentace of the fully connected case.\\\n",
    "Each 15 iterations the algorithm reports: the model score (Pearson between natural and artificial two-point correlations), the model mean energy, the model partition function and the model entropy. "
   ]
  },
  {
   "cell_type": "code",
   "execution_count": null,
   "metadata": {},
   "outputs": [
    {
     "name": "stdout",
     "output_type": "stream",
     "text": [
      "Fully connected model has 1128 edges and a score around ~ 0.95\n",
      "\n",
      "[7  20]  iter: 1   edges: 1   complex: 0.09%\n",
      "[8  19]  iter: 2   edges: 2   complex: 0.18%\n",
      "[9  18]  iter: 3   edges: 3   complex: 0.27%\n",
      "[27  38]  iter: 4   edges: 4   complex: 0.35%\n",
      "[6  21]  iter: 5   edges: 5   complex: 0.44%\n",
      "[5  22]  iter: 6   edges: 6   complex: 0.53%\n",
      "[1  44]  iter: 7   edges: 7   complex: 0.62%\n",
      "[10  17]  iter: 8   edges: 8   complex: 0.71%\n",
      "[10  11]  iter: 9   edges: 9   complex: 0.8%\n",
      "[22  23]  iter: 10   edges: 10   complex: 0.89%\n",
      "[13  14]  iter: 11   edges: 11   complex: 0.98%\n",
      "[25  40]  iter: 12   edges: 12   complex: 1.06%\n",
      "[26  39]  iter: 13   edges: 13   complex: 1.15%\n",
      "[14  15]  iter: 14   edges: 14   complex: 1.24%\n",
      "[22  42]  iter: 15   edges: 15   complex: 1.33%   Score = 0.685    <E> = 42.32    log(Z) = 0.07   S = 42.39\n",
      "[12  13]  iter: 16   edges: 16   complex: 1.42%\n",
      "[36  37]  iter: 17   edges: 17   complex: 1.51%\n",
      "[15  16]  iter: 18   edges: 18   complex: 1.6%\n",
      "[16  17]  iter: 19   edges: 19   complex: 1.68%\n",
      "[30  31]  iter: 20   edges: 20   complex: 1.77%\n",
      "[31  32]  iter: 21   edges: 21   complex: 1.86%\n",
      "[23  42]  iter: 22   edges: 22   complex: 1.95%\n",
      "[29  30]  iter: 23   edges: 23   complex: 2.04%\n",
      "[34  35]  iter: 24   edges: 24   complex: 2.13%\n",
      "[2  43]  iter: 25   edges: 25   complex: 2.22%\n",
      "[28  37]  iter: 26   edges: 26   complex: 2.3%\n",
      "[7  22]  iter: 27   edges: 27   complex: 2.39%\n",
      "[24  41]  iter: 28   edges: 28   complex: 2.48%\n",
      "[32  33]  iter: 29   edges: 29   complex: 2.57%\n",
      "[1  3]  iter: 30   edges: 30   complex: 2.66%   Score = 0.767    <E> = 39.29    log(Z) = 0.16   S = 39.45\n",
      "[35  36]  iter: 31   edges: 31   complex: 2.75%\n",
      "[19  20]  iter: 32   edges: 32   complex: 2.84%\n",
      "[33  34]  iter: 33   edges: 33   complex: 2.93%\n",
      "[11  15]  iter: 34   edges: 34   complex: 3.01%\n",
      "[11  12]  iter: 35   edges: 35   complex: 3.1%\n",
      "[30  36]  iter: 36   edges: 36   complex: 3.19%\n",
      "[1  40]  iter: 37   edges: 37   complex: 3.28%\n",
      "[18  19]  iter: 38   edges: 38   complex: 3.37%\n",
      "[10  13]  iter: 39   edges: 39   complex: 3.46%\n",
      "[28  29]  iter: 40   edges: 40   complex: 3.55%\n",
      "[46  47]  iter: 41   edges: 41   complex: 3.63%\n",
      "[8  23]  iter: 42   edges: 42   complex: 3.72%\n",
      "[38  39]  iter: 43   edges: 43   complex: 3.81%\n",
      "[11  16]  iter: 44   edges: 44   complex: 3.9%\n",
      "[22  44]  iter: 45   edges: 45   complex: 3.99%   Score = 0.816    <E> = 38.12    log(Z) = 0.22   S = 38.35\n",
      "[22  26]  iter: 46   edges: 46   complex: 4.08%\n",
      "[28  45]  iter: 47   edges: 47   complex: 4.17%\n",
      "[31  35]  iter: 48   edges: 48   complex: 4.26%\n",
      "[32  34]  iter: 49   edges: 49   complex: 4.34%\n",
      "[39  48]  iter: 50   edges: 50   complex: 4.43%\n",
      "[37  38]  iter: 51   edges: 51   complex: 4.52%\n",
      "[2  22]  iter: 52   edges: 52   complex: 4.61%\n",
      "[22  35]  iter: 53   edges: 53   complex: 4.7%\n",
      "[22  28]  iter: 54   edges: 54   complex: 4.79%\n",
      "[23  33]  iter: 55   edges: 55   complex: 4.88%\n",
      "[9  10]  iter: 56   edges: 56   complex: 4.96%\n",
      "[30  44]  iter: 57   edges: 57   complex: 5.05%\n",
      "[42  43]  iter: 58   edges: 58   complex: 5.14%\n",
      "[10  14]  iter: 59   edges: 59   complex: 5.23%\n",
      "[18  45]  iter: 60   edges: 60   complex: 5.32%   Score = 0.855    <E> = 37.53    log(Z) = 0.36   S = 37.89\n",
      "[16  22]  iter: 61   edges: 61   complex: 5.41%\n",
      "[20  27]  iter: 62   edges: 62   complex: 5.5%\n",
      "[27  28]  iter: 63   edges: 63   complex: 5.59%\n",
      "[3  28]  iter: 64   edges: 64   complex: 5.67%\n",
      "[22  23]  iter: 65   edges: 64   complex: 5.67%\n",
      "[9  14]  iter: 66   edges: 65   complex: 5.76%\n",
      "[34  37]  iter: 67   edges: 66   complex: 5.85%\n",
      "[6  22]  iter: 68   edges: 67   complex: 5.94%\n",
      "[10  42]  iter: 69   edges: 68   complex: 6.03%\n",
      "[25  37]  iter: 70   edges: 69   complex: 6.12%\n",
      "[31  33]  iter: 71   edges: 70   complex: 6.21%\n",
      "[12  15]  iter: 72   edges: 71   complex: 6.29%\n",
      "[28  34]  iter: 73   edges: 72   complex: 6.38%\n",
      "[11  19]  iter: 74   edges: 73   complex: 6.47%\n",
      "[26  28]  iter: 75   edges: 74   complex: 6.56%   Score = 0.875    <E> = 37.19    log(Z) = 0.46   S = 37.66\n",
      "[8  17]  iter: 76   edges: 75   complex: 6.65%\n",
      "[10  12]  iter: 77   edges: 76   complex: 6.74%\n",
      "[28  31]  iter: 78   edges: 77   complex: 6.83%\n",
      "[36  38]  iter: 79   edges: 78   complex: 6.91%\n",
      "[22  40]  iter: 80   edges: 79   complex: 7.0%\n",
      "[12  16]  iter: 81   edges: 80   complex: 7.09%\n",
      "[31  36]  iter: 82   edges: 81   complex: 7.18%\n",
      "[26  43]  iter: 83   edges: 82   complex: 7.27%\n",
      "[6  10]  iter: 84   edges: 83   complex: 7.36%\n",
      "[8  9]  iter: 85   edges: 84   complex: 7.45%\n",
      "[22  39]  iter: 86   edges: 85   complex: 7.54%\n",
      "[32  37]  iter: 87   edges: 86   complex: 7.62%\n",
      "[27  35]  iter: 88   edges: 87   complex: 7.71%\n",
      "[1  4]  iter: 89   edges: 88   complex: 7.8%\n",
      "[32  35]  iter: 90   edges: 89   complex: 7.89%   Score = 0.885    <E> = 36.75    log(Z) = 0.59   S = 37.34\n",
      "[42  45]  iter: 91   edges: 90   complex: 7.98%\n",
      "[9  11]  iter: 92   edges: 91   complex: 8.07%\n",
      "[5  15]  iter: 93   edges: 92   complex: 8.16%\n",
      "[29  35]  iter: 94   edges: 93   complex: 8.24%\n",
      "[3  42]  iter: 95   edges: 94   complex: 8.33%\n",
      "[28  35]  iter: 96   edges: 95   complex: 8.42%\n",
      "[28  42]  iter: 97   edges: 96   complex: 8.51%\n",
      "[6  39]  iter: 98   edges: 97   complex: 8.6%\n",
      "[14  27]  iter: 99   edges: 98   complex: 8.69%\n",
      "[12  28]  iter: 100   edges: 99   complex: 8.78%\n",
      "[30  32]  iter: 101   edges: 100   complex: 8.87%\n",
      "[33  35]  iter: 102   edges: 101   complex: 8.95%\n",
      "[10  35]  iter: 103   edges: 102   complex: 9.04%\n",
      "[5  23]  iter: 104   edges: 103   complex: 9.13%\n",
      "[33  36]  iter: 105   edges: 104   complex: 9.22%   Score = 0.896    <E> = 36.31    log(Z) = 0.69   S = 37.0\n",
      "[29  37]  iter: 106   edges: 105   complex: 9.31%\n",
      "[8  42]  iter: 107   edges: 106   complex: 9.4%\n",
      "[13  22]  iter: 108   edges: 107   complex: 9.49%\n",
      "[10  15]  iter: 109   edges: 108   complex: 9.57%\n",
      "[7  25]  iter: 110   edges: 109   complex: 9.66%\n",
      "[8  12]  iter: 111   edges: 110   complex: 9.75%\n",
      "[29  36]  iter: 112   edges: 111   complex: 9.84%\n",
      "[20  39]  iter: 113   edges: 112   complex: 9.93%\n",
      "[39  40]  iter: 114   edges: 113   complex: 10.02%\n",
      "[11  22]  iter: 115   edges: 114   complex: 10.11%\n",
      "[12  38]  iter: 116   edges: 115   complex: 10.2%\n",
      "[18  37]  iter: 117   edges: 116   complex: 10.28%\n",
      "[28  44]  iter: 118   edges: 117   complex: 10.37%\n",
      "[25  34]  iter: 119   edges: 118   complex: 10.46%\n",
      "[9  42]  iter: 120   edges: 119   complex: 10.55%   Score = 0.908    <E> = 35.77    log(Z) = 0.87   S = 36.63\n",
      "[33  37]  iter: 121   edges: 120   complex: 10.64%\n",
      "[31  34]  iter: 122   edges: 121   complex: 10.73%\n",
      "[22  37]  iter: 123   edges: 122   complex: 10.82%\n",
      "[21  23]  iter: 124   edges: 123   complex: 10.9%\n",
      "[18  20]  iter: 125   edges: 124   complex: 10.99%\n",
      "[29  33]  iter: 126   edges: 125   complex: 11.08%\n",
      "[5  42]  iter: 127   edges: 126   complex: 11.17%\n",
      "[38  42]  iter: 128   edges: 127   complex: 11.26%\n",
      "[36  39]  iter: 129   edges: 128   complex: 11.35%\n",
      "[35  40]  iter: 130   edges: 129   complex: 11.44%\n",
      "[22  36]  iter: 131   edges: 130   complex: 11.52%\n",
      "[15  37]  iter: 132   edges: 131   complex: 11.61%\n",
      "[30  37]  iter: 133   edges: 132   complex: 11.7%\n",
      "[28  30]  iter: 134   edges: 133   complex: 11.79%\n",
      "[19  35]  iter: 135   edges: 134   complex: 11.88%   Score = 0.915    <E> = 35.48    log(Z) = 0.99   S = 36.47\n",
      "[27  40]  iter: 136   edges: 135   complex: 11.97%\n",
      "[30  35]  iter: 137   edges: 136   complex: 12.06%\n",
      "[9  35]  iter: 138   edges: 137   complex: 12.15%\n",
      "[7  32]  iter: 139   edges: 138   complex: 12.23%\n",
      "[9  36]  iter: 140   edges: 139   complex: 12.32%\n",
      "[17  39]  iter: 141   edges: 140   complex: 12.41%\n",
      "[13  21]  iter: 142   edges: 141   complex: 12.5%\n",
      "[10  29]  iter: 143   edges: 142   complex: 12.59%\n",
      "[19  40]  iter: 144   edges: 143   complex: 12.68%\n",
      "[10  28]  iter: 145   edges: 144   complex: 12.77%\n",
      "[18  27]  iter: 146   edges: 145   complex: 12.85%\n",
      "[21  38]  iter: 147   edges: 146   complex: 12.94%\n",
      "[35  37]  iter: 148   edges: 147   complex: 13.03%\n",
      "[8  21]  iter: 149   edges: 148   complex: 13.12%\n",
      "[33  38]  iter: 150   edges: 149   complex: 13.21%   Score = 0.924    <E> = 34.95    log(Z) = 1.11   S = 36.05\n",
      "[5  6]  iter: 151   edges: 150   complex: 13.3%\n",
      "[8  33]  iter: 152   edges: 151   complex: 13.39%\n",
      "[26  36]  iter: 153   edges: 152   complex: 13.48%\n",
      "[34  39]  iter: 154   edges: 153   complex: 13.56%\n",
      "[14  34]  iter: 155   edges: 154   complex: 13.65%\n",
      "[12  18]  iter: 156   edges: 155   complex: 13.74%\n",
      "[36  42]  iter: 157   edges: 156   complex: 13.83%\n",
      "[17  34]  iter: 158   edges: 157   complex: 13.92%\n",
      "[15  16]  iter: 159   edges: 157   complex: 13.92%\n",
      "[31  42]  iter: 160   edges: 158   complex: 14.01%\n",
      "[6  20]  iter: 161   edges: 159   complex: 14.1%\n",
      "[11  30]  iter: 162   edges: 160   complex: 14.18%\n",
      "[17  38]  iter: 163   edges: 161   complex: 14.27%\n",
      "[13  20]  iter: 164   edges: 162   complex: 14.36%\n",
      "[26  35]  iter: 165   edges: 163   complex: 14.45%   Score = 0.93    <E> = 34.66    log(Z) = 1.21   S = 35.87\n",
      "[27  32]  iter: 166   edges: 164   complex: 14.54%\n",
      "[30  33]  iter: 167   edges: 165   complex: 14.63%\n",
      "[10  32]  iter: 168   edges: 166   complex: 14.72%\n",
      "[18  19]  iter: 169   edges: 166   complex: 14.72%\n",
      "[13  15]  iter: 170   edges: 167   complex: 14.8%\n",
      "[28  39]  iter: 171   edges: 168   complex: 14.89%\n",
      "[22  34]  iter: 172   edges: 169   complex: 14.98%\n",
      "[15  17]  iter: 173   edges: 170   complex: 15.07%\n",
      "[7  48]  iter: 174   edges: 171   complex: 15.16%\n",
      "[30  34]  iter: 175   edges: 172   complex: 15.25%\n",
      "[26  33]  iter: 176   edges: 173   complex: 15.34%\n",
      "[27  29]  iter: 177   edges: 174   complex: 15.43%\n",
      "[27  39]  iter: 178   edges: 175   complex: 15.51%\n",
      "[8  10]  iter: 179   edges: 176   complex: 15.6%\n",
      "[17  22]  iter: 180   edges: 177   complex: 15.69%   Score = 0.931    <E> = 34.26    log(Z) = 1.3   S = 35.57\n",
      "[12  42]  iter: 181   edges: 178   complex: 15.78%\n",
      "[28  32]  iter: 182   edges: 179   complex: 15.87%\n",
      "[36  45]  iter: 183   edges: 180   complex: 15.96%\n",
      "[5  7]  iter: 184   edges: 181   complex: 16.05%\n",
      "[25  28]  iter: 185   edges: 182   complex: 16.13%\n",
      "[9  39]  iter: 186   edges: 183   complex: 16.22%\n",
      "[23  27]  iter: 187   edges: 184   complex: 16.31%\n",
      "[16  20]  iter: 188   edges: 185   complex: 16.4%\n",
      "[5  30]  iter: 189   edges: 186   complex: 16.49%\n",
      "[7  42]  iter: 190   edges: 187   complex: 16.58%\n",
      "[12  30]  iter: 191   edges: 188   complex: 16.67%\n",
      "[34  36]  iter: 192   edges: 189   complex: 16.76%\n",
      "[22  23]  iter: 193   edges: 189   complex: 16.76%\n",
      "[17  37]  iter: 194   edges: 190   complex: 16.84%\n",
      "[2  27]  iter: 195   edges: 191   complex: 16.93%   Score = 0.937    <E> = 34.0    log(Z) = 1.45   S = 35.45\n",
      "[13  36]  iter: 196   edges: 192   complex: 17.02%\n",
      "[32  42]  iter: 197   edges: 193   complex: 17.11%\n",
      "[2  10]  iter: 198   edges: 194   complex: 17.2%\n",
      "[16  36]  iter: 199   edges: 195   complex: 17.29%\n",
      "[12  22]  iter: 200   edges: 196   complex: 17.38%\n",
      "[11  48]  iter: 201   edges: 197   complex: 17.46%\n",
      "[6  33]  iter: 202   edges: 198   complex: 17.55%\n",
      "[17  21]  iter: 203   edges: 199   complex: 17.64%\n",
      "[29  42]  iter: 204   edges: 200   complex: 17.73%\n",
      "[7  8]  iter: 205   edges: 201   complex: 17.82%\n",
      "[15  31]  iter: 206   edges: 202   complex: 17.91%\n",
      "[11  34]  iter: 207   edges: 203   complex: 18.0%\n",
      "[14  22]  iter: 208   edges: 204   complex: 18.09%\n",
      "[21  22]  iter: 209   edges: 205   complex: 18.17%\n",
      "[19  30]  iter: 210   edges: 206   complex: 18.26%   Score = 0.94    <E> = 33.82    log(Z) = 1.59   S = 35.41\n",
      "[19  36]  iter: 211   edges: 207   complex: 18.35%\n",
      "[15  42]  iter: 212   edges: 208   complex: 18.44%\n",
      "[15  27]  iter: 213   edges: 209   complex: 18.53%\n",
      "[27  38]  iter: 214   edges: 209   complex: 18.53%\n",
      "[12  14]  iter: 215   edges: 210   complex: 18.62%\n",
      "[2  23]  iter: 216   edges: 211   complex: 18.71%\n",
      "[21  35]  iter: 217   edges: 212   complex: 18.79%\n",
      "[22  38]  iter: 218   edges: 213   complex: 18.88%\n",
      "[26  30]  iter: 219   edges: 214   complex: 18.97%\n",
      "[18  34]  iter: 220   edges: 215   complex: 19.06%\n",
      "[11  17]  iter: 221   edges: 216   complex: 19.15%\n",
      "[20  28]  iter: 222   edges: 217   complex: 19.24%\n",
      "[35  36]  iter: 223   edges: 217   complex: 19.24%\n",
      "[13  33]  iter: 224   edges: 218   complex: 19.33%\n",
      "[6  28]  iter: 225   edges: 219   complex: 19.41%   Score = 0.943    <E> = 33.45    log(Z) = 1.73   S = 35.19\n",
      "[11  36]  iter: 226   edges: 220   complex: 19.5%\n",
      "[8  27]  iter: 227   edges: 221   complex: 19.59%\n",
      "[29  32]  iter: 228   edges: 222   complex: 19.68%\n",
      "[26  34]  iter: 229   edges: 223   complex: 19.77%\n",
      "[19  34]  iter: 230   edges: 224   complex: 19.86%\n",
      "[29  34]  iter: 231   edges: 225   complex: 19.95%\n",
      "[3  8]  iter: 232   edges: 226   complex: 20.04%\n",
      "[9  32]  iter: 233   edges: 227   complex: 20.12%\n",
      "[11  12]  iter: 234   edges: 227   complex: 20.12%\n",
      "[2  35]  iter: 235   edges: 228   complex: 20.21%\n",
      "[28  36]  iter: 236   edges: 229   complex: 20.3%\n",
      "[11  14]  iter: 237   edges: 230   complex: 20.39%\n",
      "[9  22]  iter: 238   edges: 231   complex: 20.48%\n",
      "[13  39]  iter: 239   edges: 232   complex: 20.57%\n",
      "[14  35]  iter: 240   edges: 233   complex: 20.66%   Score = 0.945    <E> = 33.32    log(Z) = 1.84   S = 35.16\n",
      "[12  36]  iter: 241   edges: 234   complex: 20.74%\n",
      "[12  20]  iter: 242   edges: 235   complex: 20.83%\n",
      "[37  42]  iter: 243   edges: 236   complex: 20.92%\n",
      "[17  42]  iter: 244   edges: 237   complex: 21.01%\n",
      "[17  31]  iter: 245   edges: 238   complex: 21.1%\n",
      "[14  31]  iter: 246   edges: 239   complex: 21.19%\n",
      "[7  30]  iter: 247   edges: 240   complex: 21.28%\n",
      "[1  37]  iter: 248   edges: 241   complex: 21.37%\n",
      "[7  29]  iter: 249   edges: 242   complex: 21.45%\n",
      "[30  31]  iter: 250   edges: 242   complex: 21.45%\n",
      "[10  27]  iter: 251   edges: 243   complex: 21.54%\n",
      "[13  35]  iter: 252   edges: 244   complex: 21.63%\n",
      "[27  34]  iter: 253   edges: 245   complex: 21.72%\n",
      "[16  31]  iter: 254   edges: 246   complex: 21.81%\n",
      "[17  18]  iter: 255   edges: 247   complex: 21.9%   Score = 0.948    <E> = 32.96    log(Z) = 1.96   S = 34.92\n",
      "[14  17]  iter: 256   edges: 248   complex: 21.99%\n",
      "[13  31]  iter: 257   edges: 249   complex: 22.07%\n",
      "[14  28]  iter: 258   edges: 250   complex: 22.16%\n",
      "[5  23]  iter: 259   edges: 250   complex: 22.16%\n",
      "[5  22]  iter: 260   edges: 250   complex: 22.16%\n",
      "[6  30]  iter: 261   edges: 251   complex: 22.25%\n",
      "[33  42]  iter: 262   edges: 252   complex: 22.34%\n",
      "[28  33]  iter: 263   edges: 253   complex: 22.43%\n",
      "[10  14]  iter: 264   edges: 253   complex: 22.43%"
     ]
    }
   ],
   "source": [
    "s=time()\n",
    "Random.seed!(2)\n",
    "score,likelihood_gain,generated_sequences,Jij,h,contact_list,site_degree,edge_list=E_A_A(5,0.05,7000,natural_sequences,\"example_output.txt\");\n",
    "s=time()-s"
   ]
  },
  {
   "cell_type": "markdown",
   "metadata": {},
   "source": [
    "<font size=\"3\">The model obtained has a performance comparable to the fully connected DCA while having just ~20% of its connectivity. The entropy of the model is 35.08. This means that it is able to generate e³⁵ (3.5x10¹⁵) different 55-102 segments for the RF00379 family. \\\n",
    "Now we can test our artificial sequences. We do the classical statistical check of the PCA projection and the two-point correlation representation. \\\n",
    "We test the performance of our model against the one of the Covariance Model. The CM model only contains trivial one-point and secondary information so our model must do better than it. </font>"
   ]
  },
  {
   "cell_type": "code",
   "execution_count": null,
   "metadata": {},
   "outputs": [],
   "source": [
    "cm_sequences=rna_cm_model_generation(0.8,0.05,7000,natural_sequences,ss_contact_matrix);"
   ]
  },
  {
   "cell_type": "code",
   "execution_count": null,
   "metadata": {},
   "outputs": [],
   "source": [
    "plot_stat_check(natural_sequences, generated_sequences, cm_sequences)"
   ]
  },
  {
   "cell_type": "markdown",
   "metadata": {},
   "source": [
    "<font size=\"3\">The E.A.A. artificial molecules are practically statistically indistinguishable from the natural ones. We see that they have a very similar PCA projection (artificial one seems richer just because we have more artificial sequences than natural ones) while Covariance Model fails to capture the details of the distribution. \n",
    "    The selected model has almost a perfect two-point statistics for all site pairs while the CM model only captures it for the ones involved in secondary structure contacts. \\\n",
    "     </font>\n"
   ]
  },
  {
   "cell_type": "markdown",
   "metadata": {},
   "source": [
    "<font size=\"3\">The interpretability is one of the main reasons in our quest to find parsimonious generative models. Now that we are sure we obtained a good generative model with relatively few parameters we can try to interprete them. \\\n",
    "Dividing the added edges in secondary structure contacts, 3D contacts we have:"
   ]
  },
  {
   "cell_type": "code",
   "execution_count": null,
   "metadata": {},
   "outputs": [],
   "source": [
    "edge_interpretation_plot(len,ss_contact_matrix,tertiary_contact_matrix,edge_list[1:50,:])"
   ]
  },
  {
   "cell_type": "markdown",
   "metadata": {},
   "source": [
    "<font size=\"3\">We see that the secondary structure contacts are taken in the first few iteration. We have lot of neighbouring sites probably due to philogenic effects. It is striking that we see some 3D contacts (in particular around site 40) before the NONE edges. This\n",
    "suggests that our algorithm effectively captures some information about the tertiary structure. \\\n",
    "Those results, that are far more general than this simple example, suggest that the added edges have a co-evolutionary interpretation."
   ]
  },
  {
   "cell_type": "markdown",
   "metadata": {},
   "source": [
    "<font size=\"3\">\n",
    "This notebook serves as an example of the application of the techniques described in the main text.\n"
   ]
  }
 ],
 "metadata": {
  "kernelspec": {
   "display_name": "Julia 1.8.5",
   "language": "julia",
   "name": "julia-1.8"
  },
  "language_info": {
   "file_extension": ".jl",
   "mimetype": "application/julia",
   "name": "julia",
   "version": "1.8.5"
  }
 },
 "nbformat": 4,
 "nbformat_minor": 5
}
