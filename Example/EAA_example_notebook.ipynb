{
 "cells": [
  {
   "cell_type": "markdown",
   "metadata": {},
   "source": [
    "# Edge Addition Algorithm - simple implementation example"
   ]
  },
  {
   "cell_type": "markdown",
   "metadata": {},
   "source": [
    "<font size=\"3\">Run time is around ~5 minutes with the default input. \\\n",
    "\\\n",
    "In this example we will use the E.A.A. model to build a low-connectivity DCA model. \\\n",
    "The information that we have about the training RNA family consists in: the sequence alignment and the consenus secondary structure (both trough the Covariance Model) and the 3D contacts trough the PDB file. </font> \n"
   ]
  },
  {
   "cell_type": "code",
   "execution_count": 1,
   "id": "1984f78d",
   "metadata": {},
   "outputs": [
    {
     "data": {
      "text/html": [
       "<style>.container { width:90% !important; }</style>"
      ],
      "text/plain": [
       "HTML{String}(\"<style>.container { width:90% !important; }</style>\")"
      ]
     },
     "metadata": {},
     "output_type": "display_data"
    }
   ],
   "source": [
    "display(HTML(\"<style>.container { width:90% !important; }</style>\"))\n",
    "using FCSeqTools\n",
    "#include(\"plotting_tools.jl\")"
   ]
  },
  {
   "cell_type": "markdown",
   "metadata": {},
   "source": [
    "<font size=\"3\">Here is an example of  RF00379 molecule and its associated consensus secondary structure. \\\n",
    "To make the execution faster we will not generate full lenght molecules but just a portion from nucleotide 55 to 102. </font>"
   ]
  },
  {
   "cell_type": "code",
   "execution_count": 2,
   "metadata": {},
   "outputs": [
    {
     "ename": "UndefVarError",
     "evalue": "UndefVarError: tertiary_plot_tools not defined",
     "output_type": "error",
     "traceback": [
      "UndefVarError: tertiary_plot_tools not defined\n",
      "\n",
      "Stacktrace:\n",
      " [1] top-level scope\n",
      "   @ ~/Documents/GitHub/FCSeqTools.jl/Example/EAA_example_notebook.ipynb:4"
     ]
    }
   ],
   "source": [
    "first=55\n",
    "last=102\n",
    "\n",
    "tertiary_contact_list,tertiary_contact_matrix=tertiary_plot_tools(len,\"mapp_4qln_A.pdb_A_RF00379.txt.csv\",8);\n",
    "natural_sequences=do_number_matrix_rna(do_letter_matrix(\"RF00379.txt\"),0.2)\n",
    "ss_contact_list, ss_contact_matrix=secondary_structure_plot_tools(\"RF00379.cm\")\n",
    "natural_sequences=do_number_matrix_rna(do_letter_matrix(\"RF00379.txt\"),0.2)\n",
    "natural_sequences=do_number_matrix_rna(do_letter_matrix(\"RF00379.txt\")[:,first:last],0.2)\n",
    "ss_contact_matrix=ss_contact_matrix[first:last,first:last]\n",
    "tertiary_contact_matrix=tertiary_contact_matrix[first:last,first:last]\n",
    "len=last-first+1;\n",
    "println(\"The segment is $len nucletodide long and has $(sum(vec(ss_contact_matrix))) secondary structure contacts. The database contains $(length(natural_sequences[:,1])) sequences.\")\n",
    "println(\"\\n\", uppercase(join(collect(molecule)[first:last])))\n",
    "println(\"\\n\", ss_matrix_to_dot_bracket(ss_contact_matrix))"
   ]
  },
  {
   "cell_type": "markdown",
   "metadata": {},
   "source": [
    "<font size=\"3\">Here is a segment example with its associated secondary structure. \\\n",
    "The database has a different size because the data-cleaning procedure depends on the region selected. \\\n",
    "Now we will run the E.A.A. building up our ineraction netwotk edge by edge till we reach a good performance generative model. \\\n",
    "At each iteration the algorithm reports: the added edge, the iteration number, the number of total added edges and the connectivity percentace of the fully connected case.\\\n",
    "Each 15 iterations the algorithm reports: the model score (Pearson between natural and artificial two-point correlations), the model mean energy, the model partition function and the model entropy. "
   ]
  },
  {
   "cell_type": "code",
   "execution_count": 4,
   "metadata": {},
   "outputs": [
    {
     "name": "stdout",
     "output_type": "stream",
     "text": [
      "Fully connected model has 9180 edges and a score around ~ 0.95\n"
     ]
    },
    {
     "name": "stdout",
     "output_type": "stream",
     "text": [
      "\n",
      "[62  73]  iter: 1   edges: "
     ]
    },
    {
     "name": "stdout",
     "output_type": "stream",
     "text": [
      "1   complex: 0.01%"
     ]
    },
    {
     "name": "stdout",
     "output_type": "stream",
     "text": [
      "\n",
      "[61  74]  iter: 2   edges: 2   complex: 0.02%"
     ]
    },
    {
     "name": "stdout",
     "output_type": "stream",
     "text": [
      "\n",
      "[63  72]  iter: 3   edges: 3   complex: 0.03%"
     ]
    },
    {
     "name": "stdout",
     "output_type": "stream",
     "text": [
      "\n",
      "[81  92]  iter: 4   edges: 4   complex: 0.04%"
     ]
    },
    {
     "name": "stdout",
     "output_type": "stream",
     "text": [
      "\n",
      "[42  43]  iter: 5   edges: 5   complex: 0.05%"
     ]
    },
    {
     "name": "stdout",
     "output_type": "stream",
     "text": [
      "\n",
      "[20  27]  iter: 6   edges: 6   complex: 0.07%"
     ]
    },
    {
     "name": "stdout",
     "output_type": "stream",
     "text": [
      "\n",
      "[59  76]  iter: 7   edges: 7   complex: 0.08%"
     ]
    },
    {
     "name": "stdout",
     "output_type": "stream",
     "text": [
      "\n",
      "[60  75]  iter: 8   edges: 8   complex: 0.09%"
     ]
    },
    {
     "name": "stdout",
     "output_type": "stream",
     "text": [
      "\n",
      "[19  28]  iter: 9   edges: 9   complex: 0.1%"
     ]
    },
    {
     "name": "stdout",
     "output_type": "stream",
     "text": [
      "\n",
      "[64  65]  iter: 10   edges: 10   complex: 0.11%"
     ]
    },
    {
     "name": "stdout",
     "output_type": "stream",
     "text": [
      "\n",
      "[14  118]  iter: 11   edges: 11   complex: 0.12%"
     ]
    },
    {
     "name": "stdout",
     "output_type": "stream",
     "text": [
      "\n",
      "[64  71]  iter: 12   edges: 12   complex: 0.13%"
     ]
    },
    {
     "name": "stdout",
     "output_type": "stream",
     "text": [
      "\n",
      "[55  98]  iter: 13   edges: 13   complex: 0.14%"
     ]
    },
    {
     "name": "stdout",
     "output_type": "stream",
     "text": [
      "\n",
      "[76  77]  iter: 14   edges: 14   complex: 0.15%"
     ]
    },
    {
     "name": "stdout",
     "output_type": "stream",
     "text": [
      "\n",
      "[32  114]  iter: 15   edges: 15   complex: 0.16%"
     ]
    },
    {
     "name": "stdout",
     "output_type": "stream",
     "text": [
      "   Score = 0.307"
     ]
    },
    {
     "name": "stdout",
     "output_type": "stream",
     "text": [
      "    <E> = 126.08    log(Z) = 0.17   S = 126.25\n",
      "[21  26]  iter: 16   edges: 16   complex: 0.17%"
     ]
    },
    {
     "name": "stdout",
     "output_type": "stream",
     "text": [
      "\n",
      "[67  68]  iter: 17   edges: 17   complex: 0.19%"
     ]
    },
    {
     "name": "stdout",
     "output_type": "stream",
     "text": [
      "\n",
      "[5  6]  iter: 18   edges: 18   complex: 0.2%"
     ]
    },
    {
     "name": "stdout",
     "output_type": "stream",
     "text": [
      "\n",
      "[2  4]  iter: 19   edges: 19   complex: 0.21%"
     ]
    },
    {
     "name": "stdout",
     "output_type": "stream",
     "text": [
      "\n",
      "[2  3]  iter: 20   edges: 20   complex: 0.22%"
     ]
    },
    {
     "name": "stdout",
     "output_type": "stream",
     "text": [
      "\n",
      "[1  2]  iter: 21   edges: 21   complex: 0.23%"
     ]
    },
    {
     "name": "stdout",
     "output_type": "stream",
     "text": [
      "\n",
      "[2  5]  iter: 22   edges: 22   complex: 0.24%"
     ]
    },
    {
     "name": "stdout",
     "output_type": "stream",
     "text": [
      "\n",
      "[68  69]  iter: 23   edges: 23   complex: 0.25%"
     ]
    },
    {
     "name": "stdout",
     "output_type": "stream",
     "text": [
      "\n",
      "[18  29]  iter: 24   edges: 24   complex: 0.26%"
     ]
    },
    {
     "name": "stdout",
     "output_type": "stream",
     "text": [
      "\n",
      "[6  7]  iter: 25   edges: 25   complex: 0.27%"
     ]
    },
    {
     "name": "stdout",
     "output_type": "stream",
     "text": [
      "\n",
      "[22  23]  iter: 26   edges: 26   complex: 0.28%"
     ]
    },
    {
     "name": "stdout",
     "output_type": "stream",
     "text": [
      "\n",
      "[11  121]  iter: 27   edges: 27   complex: 0.29%"
     ]
    },
    {
     "name": "stdout",
     "output_type": "stream",
     "text": [
      "\n",
      "[6  8]  iter: 28   edges: 28   complex: 0.31%"
     ]
    },
    {
     "name": "stdout",
     "output_type": "stream",
     "text": [
      "\n",
      "[23  24]  iter: 29   edges: 29   complex: 0.32%"
     ]
    },
    {
     "name": "stdout",
     "output_type": "stream",
     "text": [
      "\n",
      "[24  25]  iter: 30   edges: 30   complex: 0.33%"
     ]
    },
    {
     "name": "stdout",
     "output_type": "stream",
     "text": [
      "   Score = 0.406"
     ]
    },
    {
     "name": "stdout",
     "output_type": "stream",
     "text": [
      "    <E> = 120.74    log(Z) = 0.35   S = 121.09\n",
      "[8  10]  iter: 31   edges: 31   complex: 0.34%"
     ]
    },
    {
     "name": "stdout",
     "output_type": "stream",
     "text": [
      "\n",
      "[7  9]  iter: 32   edges: 32   complex: 0.35%"
     ]
    },
    {
     "name": "stdout",
     "output_type": "stream",
     "text": [
      "\n",
      "[10  11]  iter: 33   edges: 33   complex: 0.36%"
     ]
    },
    {
     "name": "stdout",
     "output_type": "stream",
     "text": [
      "\n",
      "[80  93]  iter: 34   edges: 34   complex: 0.37%"
     ]
    },
    {
     "name": "stdout",
     "output_type": "stream",
     "text": [
      "\n",
      "[66  67]  iter: 35   edges: 35   complex: 0.38%"
     ]
    },
    {
     "name": "stdout",
     "output_type": "stream",
     "text": [
      "\n",
      "[34  112]  iter: 36   edges: 36   complex: 0.39%"
     ]
    },
    {
     "name": "stdout",
     "output_type": "stream",
     "text": [
      "\n",
      "[12  13]  iter: 37   edges: 37   complex: 0.4%"
     ]
    },
    {
     "name": "stdout",
     "output_type": "stream",
     "text": [
      "\n",
      "[79  94]  iter: 38   edges: 38   complex: 0.41%"
     ]
    },
    {
     "name": "stdout",
     "output_type": "stream",
     "text": [
      "\n",
      "[29  116]  iter: 39   edges: 39   complex: 0.42%"
     ]
    },
    {
     "name": "stdout",
     "output_type": "stream",
     "text": [
      "\n",
      "[11  12]  iter: 40   edges: 40   complex: 0.44%"
     ]
    },
    {
     "name": "stdout",
     "output_type": "stream",
     "text": [
      "\n",
      "[76  96]  iter: 41   edges: 41   complex: 0.45%"
     ]
    },
    {
     "name": "stdout",
     "output_type": "stream",
     "text": [
      "\n",
      "[90  91]  iter: 42   edges: 42   complex: 0.46%"
     ]
    },
    {
     "name": "stdout",
     "output_type": "stream",
     "text": [
      "\n",
      "[59  109]  iter: 43   edges: 43   complex: 0.47%"
     ]
    },
    {
     "name": "stdout",
     "output_type": "stream",
     "text": [
      "\n",
      "[43  44]  iter: 44   edges: 44   complex: 0.48%"
     ]
    },
    {
     "name": "stdout",
     "output_type": "stream",
     "text": [
      "\n",
      "[39  106]  iter: 45   edges: 45   complex: 0.49%"
     ]
    },
    {
     "name": "stdout",
     "output_type": "stream",
     "text": [
      "   Score = 0.472"
     ]
    },
    {
     "name": "stdout",
     "output_type": "stream",
     "text": [
      "    <E> = 116.22    log(Z) = 0.32   S = 116.54\n",
      "[11  14]  iter: 46   edges: 46   complex: 0.5%"
     ]
    },
    {
     "name": "stdout",
     "output_type": "stream",
     "text": [
      "\n",
      "[69  70]  iter: 47   edges: 47   complex: 0.51%"
     ]
    },
    {
     "name": "stdout",
     "output_type": "stream",
     "text": [
      "\n",
      "[135  136]  iter: 48   edges: 48   complex: 0.52%"
     ]
    },
    {
     "name": "stdout",
     "output_type": "stream",
     "text": [
      "\n",
      "[44  45]  iter: 49   edges: 49   complex: 0.53%"
     ]
    },
    {
     "name": "stdout",
     "output_type": "stream",
     "text": [
      "\n",
      "[113  114]  iter: 50   edges: 50   complex: 0.54%"
     ]
    },
    {
     "name": "stdout",
     "output_type": "stream",
     "text": [
      "\n",
      "[14  15]  iter: 51   edges: 51   complex: 0.56%"
     ]
    },
    {
     "name": "stdout",
     "output_type": "stream",
     "text": [
      "\n",
      "[70  71]  iter: 52   edges: 52   complex: 0.57%"
     ]
    },
    {
     "name": "stdout",
     "output_type": "stream",
     "text": [
      "\n",
      "[85  86]  iter: 53   edges: 53   complex: 0.58%"
     ]
    },
    {
     "name": "stdout",
     "output_type": "stream",
     "text": [
      "\n",
      "[15  117]  iter: 54   edges: 54   complex: 0.59%"
     ]
    },
    {
     "name": "stdout",
     "output_type": "stream",
     "text": [
      "\n",
      "[43  103]  iter: 55   edges: 55   complex: 0.6%"
     ]
    },
    {
     "name": "stdout",
     "output_type": "stream",
     "text": [
      "\n",
      "[30  116]  iter: 56   edges: 56   complex: 0.61%"
     ]
    },
    {
     "name": "stdout",
     "output_type": "stream",
     "text": [
      "\n",
      "[84  85]  iter: 57   edges: 57   complex: 0.62%"
     ]
    },
    {
     "name": "stdout",
     "output_type": "stream",
     "text": [
      "\n",
      "[40  106]  iter: 58   edges: 58   complex: 0.63%"
     ]
    },
    {
     "name": "stdout",
     "output_type": "stream",
     "text": [
      "\n",
      "[76  103]  iter: 59   edges: 59   complex: 0.64%"
     ]
    },
    {
     "name": "stdout",
     "output_type": "stream",
     "text": [
      "\n",
      "[42  48]  iter: 60   edges: 60   complex: 0.65%"
     ]
    },
    {
     "name": "stdout",
     "output_type": "stream",
     "text": [
      "   Score = 0.528"
     ]
    },
    {
     "name": "stdout",
     "output_type": "stream",
     "text": [
      "    <E> = 113.15    log(Z) = 0.5   S = 113.65\n",
      "[15  16]  iter: 61   edges: 61   complex: 0.66%"
     ]
    },
    {
     "name": "stdout",
     "output_type": "stream",
     "text": [
      "\n",
      "[82  91]  iter: 62   edges: 62   complex: 0.68%"
     ]
    },
    {
     "name": "stdout",
     "output_type": "stream",
     "text": [
      "\n",
      "[38  39]  iter: 63   edges: 63   complex: 0.69%"
     ]
    },
    {
     "name": "stdout",
     "output_type": "stream",
     "text": [
      "\n",
      "[45  46]  iter: 64   edges: 64   complex: 0.7%"
     ]
    },
    {
     "name": "stdout",
     "output_type": "stream",
     "text": [
      "\n",
      "[15  17]  iter: 65   edges: 65   complex: 0.71%"
     ]
    },
    {
     "name": "stdout",
     "output_type": "stream",
     "text": [
      "\n",
      "[59  116]  iter: 66   edges: 66   complex: 0.72%"
     ]
    },
    {
     "name": "stdout",
     "output_type": "stream",
     "text": [
      "\n",
      "[31  115]  iter: 67   edges: 67   complex: 0.73%"
     ]
    },
    {
     "name": "stdout",
     "output_type": "stream",
     "text": [
      "\n",
      "[83  84]  iter: 68   edges: 68   complex: 0.74%"
     ]
    },
    {
     "name": "stdout",
     "output_type": "stream",
     "text": [
      "\n",
      "[86  87]  iter: 69   edges: 69   complex: 0.75%"
     ]
    },
    {
     "name": "stdout",
     "output_type": "stream",
     "text": [
      "\n",
      "[47  48]  iter: 70   edges: 70   complex: 0.76%"
     ]
    },
    {
     "name": "stdout",
     "output_type": "stream",
     "text": [
      "\n",
      "[46  47]  iter: 71   edges: 71   complex: 0.77%"
     ]
    },
    {
     "name": "stdout",
     "output_type": "stream",
     "text": [
      "\n",
      "[4  59]  iter: 72   edges: 72   complex: 0.78%"
     ]
    },
    {
     "name": "stdout",
     "output_type": "stream",
     "text": [
      "\n",
      "[35  111]  iter: 73   edges: 73   complex: 0.8%"
     ]
    },
    {
     "name": "stdout",
     "output_type": "stream",
     "text": [
      "\n",
      "[78  95]  iter: 74   edges: 74   complex: 0.81%"
     ]
    },
    {
     "name": "stdout",
     "output_type": "stream",
     "text": [
      "\n",
      "[56  97]  iter: 75   edges: 75   complex: 0.82%"
     ]
    },
    {
     "name": "stdout",
     "output_type": "stream",
     "text": [
      "   Score = 0.576"
     ]
    },
    {
     "name": "stdout",
     "output_type": "stream",
     "text": [
      "    <E> = 109.76    log(Z) = 0.65   S = 110.41\n",
      "[61  76]  iter: 76   edges: 76   complex: 0.83%"
     ]
    },
    {
     "name": "stdout",
     "output_type": "stream",
     "text": [
      "\n",
      "[99  118]  iter: 77   edges: 77   complex: 0.84%"
     ]
    },
    {
     "name": "stdout",
     "output_type": "stream",
     "text": [
      "\n",
      "[88  89]  iter: 78   edges: 78   complex: 0.85%"
     ]
    },
    {
     "name": "stdout",
     "output_type": "stream",
     "text": [
      "\n",
      "[77  96]  iter: 79   edges: 79   complex: 0.86%"
     ]
    },
    {
     "name": "stdout",
     "output_type": "stream",
     "text": [
      "\n",
      "[40  41]  iter: 80   edges: 80   complex: 0.87%"
     ]
    },
    {
     "name": "stdout",
     "output_type": "stream",
     "text": [
      "\n",
      "[123  124]  iter: 81   edges: 81   complex: 0.88%"
     ]
    },
    {
     "name": "stdout",
     "output_type": "stream",
     "text": [
      "\n",
      "[63  73]  iter: 82   edges: 82   complex: 0.89%"
     ]
    },
    {
     "name": "stdout",
     "output_type": "stream",
     "text": [
      "\n",
      "[92  93]  iter: 83   edges: 83   complex: 0.9%"
     ]
    },
    {
     "name": "stdout",
     "output_type": "stream",
     "text": [
      "\n",
      "[14  18]  iter: 84   edges: 84   complex: 0.92%"
     ]
    },
    {
     "name": "stdout",
     "output_type": "stream",
     "text": [
      "\n",
      "[26  76]  iter: 85   edges: 85   complex: 0.93%"
     ]
    },
    {
     "name": "stdout",
     "output_type": "stream",
     "text": [
      "\n",
      "[51  102]  iter: 86   edges: 86   complex: 0.94%"
     ]
    },
    {
     "name": "stdout",
     "output_type": "stream",
     "text": [
      "\n",
      "[25  26]  iter: 87   edges: 87   complex: 0.95%"
     ]
    },
    {
     "name": "stdout",
     "output_type": "stream",
     "text": [
      "\n",
      "[22  26]  iter: 88   edges: 88   complex: 0.96%"
     ]
    },
    {
     "name": "stdout",
     "output_type": "stream",
     "text": [
      "\n",
      "[130  131]  iter: 89   edges: 89   complex: 0.97%"
     ]
    },
    {
     "name": "stdout",
     "output_type": "stream",
     "text": [
      "\n",
      "[11  29]  iter: 90   edges: 90   complex: 0.98%"
     ]
    },
    {
     "name": "stdout",
     "output_type": "stream",
     "text": [
      "   Score = 0.624"
     ]
    },
    {
     "name": "stdout",
     "output_type": "stream",
     "text": [
      "    <E> = 107.7    log(Z) = 0.63   S = 108.33\n",
      "[27  32]  iter: 91   edges: 91   complex: 0.99%"
     ]
    },
    {
     "name": "stdout",
     "output_type": "stream",
     "text": [
      "\n",
      "[55  57]  iter: 92   edges: 92   complex: 1.0%"
     ]
    },
    {
     "name": "stdout",
     "output_type": "stream",
     "text": [
      "\n",
      "[87  88]  iter: 93   edges: 93   complex: 1.01%"
     ]
    },
    {
     "name": "stdout",
     "output_type": "stream",
     "text": [
      "\n",
      "[32  49]  iter: 94   edges: 94   complex: 1.02%"
     ]
    },
    {
     "name": "stdout",
     "output_type": "stream",
     "text": [
      "\n",
      "[9  10]  iter: 95   edges: 95   complex: 1.03%"
     ]
    },
    {
     "name": "stdout",
     "output_type": "stream",
     "text": [
      "\n",
      "[29  106]  iter: 96   edges: 96   complex: 1.05%"
     ]
    },
    {
     "name": "stdout",
     "output_type": "stream",
     "text": [
      "\n",
      "[48  59]  iter: 97   edges: 97   complex: 1.06%"
     ]
    },
    {
     "name": "stdout",
     "output_type": "stream",
     "text": [
      "\n",
      "[10  122]  iter: 98   edges: 98   complex: 1.07%"
     ]
    },
    {
     "name": "stdout",
     "output_type": "stream",
     "text": [
      "\n",
      "[89  90]  iter: 99   edges: 99   complex: 1.08%"
     ]
    },
    {
     "name": "stdout",
     "output_type": "stream",
     "text": [
      "\n",
      "[52  101]  iter: 100   edges: 100   complex: 1.09%"
     ]
    },
    {
     "name": "stdout",
     "output_type": "stream",
     "text": [
      "\n",
      "[61  73]  iter: 101   edges: 101   complex: 1.1%"
     ]
    },
    {
     "name": "stdout",
     "output_type": "stream",
     "text": [
      "\n",
      "[114  122]  iter: 102   edges: 102   complex: 1.11%"
     ]
    },
    {
     "name": "stdout",
     "output_type": "stream",
     "text": [
      "\n",
      "[12  120]  iter: 103   edges: 103   complex: 1.12%"
     ]
    },
    {
     "name": "stdout",
     "output_type": "stream",
     "text": [
      "\n",
      "[82  118]  iter: 104   edges: 104   complex: 1.13%"
     ]
    },
    {
     "name": "stdout",
     "output_type": "stream",
     "text": [
      "\n",
      "[49  76]  iter: 105   edges: 105   complex: 1.14%"
     ]
    },
    {
     "name": "stdout",
     "output_type": "stream",
     "text": [
      "   Score = 0.665"
     ]
    },
    {
     "name": "stdout",
     "output_type": "stream",
     "text": [
      "    <E> = 105.37    log(Z) = 0.8   S = 106.17\n",
      "[59  87]  iter: 106   edges: 106   complex: 1.15%"
     ]
    },
    {
     "name": "stdout",
     "output_type": "stream",
     "text": [
      "\n",
      "[64  69]  iter: 107   edges: 107   complex: 1.17%"
     ]
    },
    {
     "name": "stdout",
     "output_type": "stream",
     "text": [
      "\n",
      "[11  81]  iter: 108   edges: 108   complex: 1.18%"
     ]
    },
    {
     "name": "stdout",
     "output_type": "stream",
     "text": [
      "\n",
      "[42  46]  iter: 109   edges: 109   complex: 1.19%"
     ]
    },
    {
     "name": "stdout",
     "output_type": "stream",
     "text": [
      "\n",
      "[65  66]  iter: 110   edges: 110   complex: 1.2%"
     ]
    },
    {
     "name": "stdout",
     "output_type": "stream",
     "text": [
      "\n",
      "[11  42]  iter: 111   edges: 111   complex: 1.21%"
     ]
    },
    {
     "name": "stdout",
     "output_type": "stream",
     "text": [
      "\n",
      "[64  67]  iter: 112   edges: 112   complex: 1.22%"
     ]
    },
    {
     "name": "stdout",
     "output_type": "stream",
     "text": [
      "\n",
      "[122  123]  iter: 113   edges: 113   complex: 1.23%"
     ]
    },
    {
     "name": "stdout",
     "output_type": "stream",
     "text": [
      "\n",
      "[85  89]  iter: 114   edges: 114   complex: 1.24%"
     ]
    },
    {
     "name": "stdout",
     "output_type": "stream",
     "text": [
      "\n",
      "[13  119]  iter: 115   edges: 115   complex: 1.25%"
     ]
    },
    {
     "name": "stdout",
     "output_type": "stream",
     "text": [
      "\n",
      "[33  110]  iter: 116   edges: 116   complex: 1.26%"
     ]
    },
    {
     "name": "stdout",
     "output_type": "stream",
     "text": [
      "\n",
      "[55  79]  iter: 117   edges: 117   complex: 1.27%"
     ]
    },
    {
     "name": "stdout",
     "output_type": "stream",
     "text": [
      "\n",
      "[82  83]  iter: 118   edges: 118   complex: 1.29%"
     ]
    },
    {
     "name": "stdout",
     "output_type": "stream",
     "text": [
      "\n",
      "[63  64]  iter: 119   edges: 119   complex: 1.3%"
     ]
    },
    {
     "name": "stdout",
     "output_type": "stream",
     "text": [
      "\n",
      "[45  59]  iter: 120   edges: 120   complex: 1.31%"
     ]
    },
    {
     "name": "stdout",
     "output_type": "stream",
     "text": [
      "   Score = 0.703"
     ]
    },
    {
     "name": "stdout",
     "output_type": "stream",
     "text": [
      "    <E> = 104.4    log(Z) = 0.93   S = 105.33\n",
      "[76  118]  iter: 121   edges: 121   complex: 1.32%"
     ]
    },
    {
     "name": "stdout",
     "output_type": "stream",
     "text": [
      "\n",
      "[1  17]  iter: 122   edges: 122   complex: 1.33%"
     ]
    },
    {
     "name": "stdout",
     "output_type": "stream",
     "text": [
      "\n",
      "[126  128]  iter: 123   edges: 123   complex: 1.34%"
     ]
    },
    {
     "name": "stdout",
     "output_type": "stream",
     "text": [
      "\n",
      "[53  100]  iter: 124   edges: 124   complex: 1.35%"
     ]
    },
    {
     "name": "stdout",
     "output_type": "stream",
     "text": [
      "\n",
      "[19  20]  iter: 125   edges: 125   complex: 1.36%"
     ]
    },
    {
     "name": "stdout",
     "output_type": "stream",
     "text": [
      "\n",
      "[121  122]  iter: 126   edges: 126   complex: 1.37%"
     ]
    },
    {
     "name": "stdout",
     "output_type": "stream",
     "text": [
      "\n",
      "[48  49]  iter: 127   edges: 127   complex: 1.38%"
     ]
    },
    {
     "name": "stdout",
     "output_type": "stream",
     "text": [
      "\n",
      "[51  104]  iter: 128   edges: 128   complex: 1.39%"
     ]
    },
    {
     "name": "stdout",
     "output_type": "stream",
     "text": [
      "\n",
      "[14  19]  iter: 129   edges: 129   complex: 1.41%"
     ]
    },
    {
     "name": "stdout",
     "output_type": "stream",
     "text": [
      "\n",
      "[2  25]  iter: 130   edges: 130   complex: 1.42%"
     ]
    },
    {
     "name": "stdout",
     "output_type": "stream",
     "text": [
      "\n",
      "[91  92]  iter: 131   edges: 131   complex: 1.43%"
     ]
    },
    {
     "name": "stdout",
     "output_type": "stream",
     "text": [
      "\n",
      "[134  135]  iter: 132   edges: 132   complex: 1.44%"
     ]
    },
    {
     "name": "stdout",
     "output_type": "stream",
     "text": [
      "\n",
      "[127  129]  iter: 133   edges: 133   complex: 1.45%"
     ]
    },
    {
     "name": "stdout",
     "output_type": "stream",
     "text": [
      "\n",
      "[21  22]  iter: 134   edges: 134   complex: 1.46%"
     ]
    },
    {
     "name": "stdout",
     "output_type": "stream",
     "text": [
      "\n",
      "[54  108]  iter: 135   edges: 135   complex: 1.47%"
     ]
    },
    {
     "name": "stdout",
     "output_type": "stream",
     "text": [
      "   Score = 0.729"
     ]
    },
    {
     "name": "stdout",
     "output_type": "stream",
     "text": [
      "    <E> = 102.47    log(Z) = 1.06   S = 103.53\n",
      "[20  22]  iter: 136   edges: 136   complex: 1.48%"
     ]
    },
    {
     "name": "stdout",
     "output_type": "stream",
     "text": [
      "\n",
      "[38  44]  iter: 137   edges: 137   complex: 1.49%"
     ]
    },
    {
     "name": "stdout",
     "output_type": "stream",
     "text": [
      "\n",
      "[37  105]  iter: 138   edges: 138   complex: 1.5%"
     ]
    },
    {
     "name": "stdout",
     "output_type": "stream",
     "text": [
      "\n",
      "[5  62]  iter: 139   edges: 139   complex: 1.51%"
     ]
    },
    {
     "name": "stdout",
     "output_type": "stream",
     "text": [
      "\n",
      "[3  16]  iter: 140   edges: 140   complex: 1.53%"
     ]
    },
    {
     "name": "stdout",
     "output_type": "stream",
     "text": [
      "\n",
      "[130  132]  iter: 141   edges: 141   complex: 1.54%"
     ]
    },
    {
     "name": "stdout",
     "output_type": "stream",
     "text": [
      "\n",
      "[65  70]  iter: 142   edges: 142   complex: 1.55%"
     ]
    },
    {
     "name": "stdout",
     "output_type": "stream",
     "text": [
      "\n",
      "[10  89]  iter: 143   edges: 143   complex: 1.56%"
     ]
    },
    {
     "name": "stdout",
     "output_type": "stream",
     "text": [
      "\n",
      "[76  98]  iter: 144   edges: 144   complex: 1.57%"
     ]
    },
    {
     "name": "stdout",
     "output_type": "stream",
     "text": [
      "\n",
      "[29  47]  iter: 145   edges: 145   complex: 1.58%"
     ]
    },
    {
     "name": "stdout",
     "output_type": "stream",
     "text": [
      "\n",
      "[89  125]  iter: 146   edges: 146   complex: 1.59%"
     ]
    },
    {
     "name": "stdout",
     "output_type": "stream",
     "text": [
      "\n",
      "[76  80]  iter: 147   edges: 147   complex: 1.6%"
     ]
    },
    {
     "name": "stdout",
     "output_type": "stream",
     "text": [
      "\n",
      "[86  88]  iter: 148   edges: 148   complex: 1.61%"
     ]
    },
    {
     "name": "stdout",
     "output_type": "stream",
     "text": [
      "\n",
      "[88  126]  iter: 149   edges: 149   complex: 1.62%"
     ]
    },
    {
     "name": "stdout",
     "output_type": "stream",
     "text": [
      "\n",
      "[118  126]  iter: 150   edges: 150   complex: 1.63%"
     ]
    },
    {
     "name": "stdout",
     "output_type": "stream",
     "text": [
      "   Score = 0.75"
     ]
    },
    {
     "name": "stdout",
     "output_type": "stream",
     "text": [
      "    <E> = 101.28    log(Z) = 1.23   S = 102.51\n",
      "[82  85]  iter: 151   edges: 151   complex: 1.64%"
     ]
    },
    {
     "name": "stdout",
     "output_type": "stream",
     "text": [
      "\n",
      "[6  11]  iter: 152   edges: 152   complex: 1.66%"
     ]
    },
    {
     "name": "stdout",
     "output_type": "stream",
     "text": [
      "\n",
      "[6  26]  iter: 153   edges: 153   complex: 1.67%"
     ]
    },
    {
     "name": "stdout",
     "output_type": "stream",
     "text": [
      "\n",
      "[133  134]  iter: 154   edges: 154   complex: 1.68%"
     ]
    },
    {
     "name": "stdout",
     "output_type": "stream",
     "text": [
      "\n",
      "[42  50]  iter: 155   edges: 155   complex: 1.69%"
     ]
    },
    {
     "name": "stdout",
     "output_type": "stream",
     "text": [
      "\n",
      "[19  21]  iter: 156   edges: 156   complex: 1.7%"
     ]
    },
    {
     "name": "stdout",
     "output_type": "stream",
     "text": [
      "\n",
      "[98  121]  iter: 157   edges: 157   complex: 1.71%"
     ]
    },
    {
     "name": "stdout",
     "output_type": "stream",
     "text": [
      "\n",
      "[45  47]  iter: 158   edges: 158   complex: 1.72%"
     ]
    },
    {
     "name": "stdout",
     "output_type": "stream",
     "text": [
      "\n",
      "[14  89]  iter: 159   edges: 159   complex: 1.73%"
     ]
    },
    {
     "name": "stdout",
     "output_type": "stream",
     "text": [
      "\n",
      "[74  92]  iter: 160   edges: 160   complex: 1.74%"
     ]
    },
    {
     "name": "stdout",
     "output_type": "stream",
     "text": [
      "\n",
      "[44  49]  iter: 161   edges: 161   complex: 1.75%"
     ]
    },
    {
     "name": "stdout",
     "output_type": "stream",
     "text": [
      "\n",
      "[82  92]  iter: 162   edges: 162   complex: 1.76%"
     ]
    },
    {
     "name": "stdout",
     "output_type": "stream",
     "text": [
      "\n",
      "[8  27]  iter: 163   edges: 163   complex: 1.78%"
     ]
    },
    {
     "name": "stdout",
     "output_type": "stream",
     "text": [
      "\n",
      "[88  125]  iter: 164   edges: 164   complex: 1.79%"
     ]
    },
    {
     "name": "stdout",
     "output_type": "stream",
     "text": [
      "\n",
      "[4  8]  iter: 165   edges: 165   complex: 1.8%"
     ]
    },
    {
     "name": "stdout",
     "output_type": "stream",
     "text": [
      "   Score = 0.765"
     ]
    },
    {
     "name": "stdout",
     "output_type": "stream",
     "text": [
      "    <E> = 100.8    log(Z) = 1.35   S = 102.16\n",
      "[125  126]  iter: 166   edges: 166   complex: 1.81%"
     ]
    },
    {
     "name": "stdout",
     "output_type": "stream",
     "text": [
      "\n",
      "[128  130]  iter: 167   edges: 167   complex: 1.82%"
     ]
    },
    {
     "name": "stdout",
     "output_type": "stream",
     "text": [
      "\n",
      "[38  99]  iter: 168   edges: 168   complex: 1.83%"
     ]
    },
    {
     "name": "stdout",
     "output_type": "stream",
     "text": [
      "\n",
      "[91  121]  iter: 169   edges: 169   complex: 1.84%"
     ]
    },
    {
     "name": "stdout",
     "output_type": "stream",
     "text": [
      "\n",
      "[36  107]  iter: 170   edges: 170   complex: 1.85%"
     ]
    },
    {
     "name": "stdout",
     "output_type": "stream",
     "text": [
      "\n",
      "[84  90]  iter: 171   edges: 171   complex: 1.86%"
     ]
    },
    {
     "name": "stdout",
     "output_type": "stream",
     "text": [
      "\n",
      "[114  118]  iter: 172   edges: 172   complex: 1.87%"
     ]
    },
    {
     "name": "stdout",
     "output_type": "stream",
     "text": [
      "\n",
      "[56  76]  iter: 173   edges: 173   complex: 1.88%"
     ]
    },
    {
     "name": "stdout",
     "output_type": "stream",
     "text": [
      "\n",
      "[65  73]  iter: 174   edges: 174   complex: 1.9%"
     ]
    },
    {
     "name": "stdout",
     "output_type": "stream",
     "text": [
      "\n",
      "[49  103]  iter: 175   edges: 175   complex: 1.91%"
     ]
    },
    {
     "name": "stdout",
     "output_type": "stream",
     "text": [
      "\n",
      "[47  109]  iter: 176   edges: 176   complex: 1.92%"
     ]
    },
    {
     "name": "stdout",
     "output_type": "stream",
     "text": [
      "\n",
      "[66  69]  iter: 177   edges: 177   complex: 1.93%"
     ]
    },
    {
     "name": "stdout",
     "output_type": "stream",
     "text": [
      "\n",
      "[13  14]  iter: 178   edges: 178   complex: 1.94%"
     ]
    },
    {
     "name": "stdout",
     "output_type": "stream",
     "text": [
      "\n",
      "[5  43]  iter: 179   edges: 179   complex: 1.95%"
     ]
    },
    {
     "name": "stdout",
     "output_type": "stream",
     "text": [
      "\n",
      "[32  116]  iter: 180   edges: 180   complex: 1.96%"
     ]
    },
    {
     "name": "stdout",
     "output_type": "stream",
     "text": [
      "   Score = 0.777"
     ]
    },
    {
     "name": "stdout",
     "output_type": "stream",
     "text": [
      "    <E> = 99.33    log(Z) = 1.53   S = 100.86\n",
      "[29  122]  iter: 181   edges: 181   complex: 1.97%"
     ]
    },
    {
     "name": "stdout",
     "output_type": "stream",
     "text": [
      "\n",
      "[122  133]  iter: 182   edges: 182   complex: 1.98%"
     ]
    },
    {
     "name": "stdout",
     "output_type": "stream",
     "text": [
      "\n",
      "[77  124]  iter: 183   edges: 183   complex: 1.99%"
     ]
    },
    {
     "name": "stdout",
     "output_type": "stream",
     "text": [
      "\n",
      "[63  118]  iter: 184   edges: 184   complex: 2.0%"
     ]
    },
    {
     "name": "stdout",
     "output_type": "stream",
     "text": [
      "\n",
      "[72  74]  iter: 185   edges: 185   complex: 2.02%"
     ]
    },
    {
     "name": "stdout",
     "output_type": "stream",
     "text": [
      "\n",
      "[18  19]  iter: 186   edges: 186   complex: 2.03%"
     ]
    },
    {
     "name": "stdout",
     "output_type": "stream",
     "text": [
      "\n",
      "[22  59]  iter: 187   edges: 187   complex: 2.04%"
     ]
    },
    {
     "name": "stdout",
     "output_type": "stream",
     "text": [
      "\n",
      "[123  125]  iter: 188   edges: 188   complex: 2.05%"
     ]
    },
    {
     "name": "stdout",
     "output_type": "stream",
     "text": [
      "\n",
      "[55  117]  iter: 189   edges: 189   complex: 2.06%"
     ]
    },
    {
     "name": "stdout",
     "output_type": "stream",
     "text": [
      "\n",
      "[65  68]  iter: 190   edges: 190   complex: 2.07%"
     ]
    },
    {
     "name": "stdout",
     "output_type": "stream",
     "text": [
      "\n",
      "[6  32]  iter: 191   edges: 191   complex: 2.08%"
     ]
    },
    {
     "name": "stdout",
     "output_type": "stream",
     "text": [
      "\n",
      "[92  124]  iter: 192   edges: 192   complex: 2.09%"
     ]
    },
    {
     "name": "stdout",
     "output_type": "stream",
     "text": [
      "\n",
      "[1  114]  iter: 193   edges: 193   complex: 2.1%"
     ]
    },
    {
     "name": "stdout",
     "output_type": "stream",
     "text": [
      "\n",
      "[43  124]  iter: 194   edges: 194   complex: 2.11%"
     ]
    },
    {
     "name": "stdout",
     "output_type": "stream",
     "text": [
      "\n",
      "[122  128]  iter: 195   edges: 195   complex: 2.12%"
     ]
    },
    {
     "name": "stdout",
     "output_type": "stream",
     "text": [
      "   Score = 0.797"
     ]
    },
    {
     "name": "stdout",
     "output_type": "stream",
     "text": [
      "    <E> = 99.04    log(Z) = 1.7   S = 100.73\n",
      "[38  65]  iter: 196   edges: 196   complex: 2.14%"
     ]
    },
    {
     "name": "stdout",
     "output_type": "stream",
     "text": [
      "\n",
      "[3  109]  iter: 197   edges: 197   complex: 2.15%"
     ]
    },
    {
     "name": "stdout",
     "output_type": "stream",
     "text": [
      "\n",
      "[90  92]  iter: 198   edges: 198   complex: 2.16%"
     ]
    },
    {
     "name": "stdout",
     "output_type": "stream",
     "text": [
      "\n",
      "[57  82]  iter: 199   edges: 199   complex: 2.17%"
     ]
    },
    {
     "name": "stdout",
     "output_type": "stream",
     "text": [
      "\n",
      "[21  72]  iter: 200   edges: 200   complex: 2.18%"
     ]
    },
    {
     "name": "stdout",
     "output_type": "stream",
     "text": [
      "\n",
      "[26  122]  iter: 201   edges: 201   complex: 2.19%"
     ]
    },
    {
     "name": "stdout",
     "output_type": "stream",
     "text": [
      "\n",
      "[63  68]  iter: 202   edges: 202   complex: 2.2%"
     ]
    },
    {
     "name": "stdout",
     "output_type": "stream",
     "text": [
      "\n",
      "[15  116]  iter: 203   edges: 203   complex: 2.21%"
     ]
    },
    {
     "name": "stdout",
     "output_type": "stream",
     "text": [
      "\n",
      "[60  93]  iter: 204   edges: 204   complex: 2.22%"
     ]
    },
    {
     "name": "stdout",
     "output_type": "stream",
     "text": [
      "\n",
      "[29  92]  iter: 205   edges: 205   complex: 2.23%"
     ]
    },
    {
     "name": "stdout",
     "output_type": "stream",
     "text": [
      "\n",
      "[43  125]  iter: 206   edges: 206   complex: 2.24%"
     ]
    },
    {
     "name": "stdout",
     "output_type": "stream",
     "text": [
      "\n",
      "[38  41]  iter: 207   edges: 207   complex: 2.25%"
     ]
    },
    {
     "name": "stdout",
     "output_type": "stream",
     "text": [
      "\n",
      "[81  89]  iter: 208   edges: 208   complex: 2.27%"
     ]
    },
    {
     "name": "stdout",
     "output_type": "stream",
     "text": [
      "\n",
      "[28  92]  iter: 209   edges: 209   complex: 2.28%"
     ]
    },
    {
     "name": "stdout",
     "output_type": "stream",
     "text": [
      "\n",
      "[82  88]  iter: 210   edges: 210   complex: 2.29%"
     ]
    },
    {
     "name": "stdout",
     "output_type": "stream",
     "text": [
      "   Score = 0.806"
     ]
    },
    {
     "name": "stdout",
     "output_type": "stream",
     "text": [
      "    <E> = 97.83    log(Z) = 1.82   S = 99.66\n",
      "[86  89]  iter: 211   edges: 211   complex: 2.3%"
     ]
    },
    {
     "name": "stdout",
     "output_type": "stream",
     "text": [
      "\n",
      "[83  122]  iter: 212   edges: 212   complex: 2.31%"
     ]
    },
    {
     "name": "stdout",
     "output_type": "stream",
     "text": [
      "\n",
      "[42  82]  iter: 213   edges: 213   complex: 2.32%"
     ]
    },
    {
     "name": "stdout",
     "output_type": "stream",
     "text": [
      "\n",
      "[17  18]  iter: 214   edges: 214   complex: 2.33%"
     ]
    },
    {
     "name": "stdout",
     "output_type": "stream",
     "text": [
      "\n",
      "[7  59]  iter: 215   edges: 215   complex: 2.34%"
     ]
    },
    {
     "name": "stdout",
     "output_type": "stream",
     "text": [
      "\n",
      "[131  135]  iter: 216   edges: 216   complex: 2.35%"
     ]
    },
    {
     "name": "stdout",
     "output_type": "stream",
     "text": [
      "\n",
      "[2  21]  iter: 217   edges: 217   complex: 2.36%"
     ]
    },
    {
     "name": "stdout",
     "output_type": "stream",
     "text": [
      "\n",
      "[85  87]  iter: 218   edges: 218   complex: 2.37%"
     ]
    },
    {
     "name": "stdout",
     "output_type": "stream",
     "text": [
      "\n",
      "[46  49]  iter: 219   edges: 219   complex: 2.39%"
     ]
    },
    {
     "name": "stdout",
     "output_type": "stream",
     "text": [
      "\n",
      "[64  96]  iter: 220   edges: 220   complex: 2.4%"
     ]
    },
    {
     "name": "stdout",
     "output_type": "stream",
     "text": [
      "\n",
      "[38  121]  iter: 221   edges: 221   complex: 2.41%"
     ]
    },
    {
     "name": "stdout",
     "output_type": "stream",
     "text": [
      "\n",
      "[8  77]  iter: 222   edges: 222   complex: 2.42%"
     ]
    },
    {
     "name": "stdout",
     "output_type": "stream",
     "text": [
      "\n",
      "[62  71]  iter: 223   edges: 223   complex: 2.43%"
     ]
    },
    {
     "name": "stdout",
     "output_type": "stream",
     "text": [
      "\n",
      "[127  128]  iter: 224   edges: 224   complex: 2.44%"
     ]
    },
    {
     "name": "stdout",
     "output_type": "stream",
     "text": [
      "\n",
      "[61  102]  iter: 225   edges: 225   complex: 2.45%"
     ]
    },
    {
     "name": "stdout",
     "output_type": "stream",
     "text": [
      "   Score = 0.814"
     ]
    },
    {
     "name": "stdout",
     "output_type": "stream",
     "text": [
      "    <E> = 97.25    log(Z) = 1.92   S = 99.17\n",
      "[15  80]  iter: 226   edges: 226   complex: 2.46%"
     ]
    },
    {
     "name": "stdout",
     "output_type": "stream",
     "text": [
      "\n",
      "[32  129]  iter: 227   edges: 227   complex: 2.47%"
     ]
    },
    {
     "name": "stdout",
     "output_type": "stream",
     "text": [
      "\n",
      "[23  64]  iter: 228   edges: 228   complex: 2.48%"
     ]
    },
    {
     "name": "stdout",
     "output_type": "stream",
     "text": [
      "\n",
      "[124  135]  iter: 229   edges: 229   complex: 2.49%"
     ]
    },
    {
     "name": "stdout",
     "output_type": "stream",
     "text": [
      "\n",
      "[124  132]  iter: 230   edges: 230   complex: 2.51%"
     ]
    },
    {
     "name": "stdout",
     "output_type": "stream",
     "text": [
      "\n",
      "[128  129]  iter: 231   edges: 231   complex: 2.52%"
     ]
    },
    {
     "name": "stdout",
     "output_type": "stream",
     "text": [
      "\n",
      "[21  23]  iter: 232   edges: 232   complex: 2.53%"
     ]
    },
    {
     "name": "stdout",
     "output_type": "stream",
     "text": [
      "\n",
      "[93  102]  iter: 233   edges: 233   complex: 2.54%"
     ]
    },
    {
     "name": "stdout",
     "output_type": "stream",
     "text": [
      "\n",
      "[62  123]  iter: 234   edges: 234   complex: 2.55%"
     ]
    },
    {
     "name": "stdout",
     "output_type": "stream",
     "text": [
      "\n",
      "[21  82]  iter: 235   edges: 235   complex: 2.56%"
     ]
    },
    {
     "name": "stdout",
     "output_type": "stream",
     "text": [
      "\n",
      "[43  49]  iter: 236   edges: 236   complex: 2.57%"
     ]
    },
    {
     "name": "stdout",
     "output_type": "stream",
     "text": [
      "\n",
      "[3  32]  iter: 237   edges: 237   complex: 2.58%"
     ]
    },
    {
     "name": "stdout",
     "output_type": "stream",
     "text": [
      "\n",
      "[62  72]  iter: 238   edges: 238   complex: 2.59%"
     ]
    },
    {
     "name": "stdout",
     "output_type": "stream",
     "text": [
      "\n",
      "[24  74]  iter: 239   edges: 239   complex: 2.6%"
     ]
    },
    {
     "name": "stdout",
     "output_type": "stream",
     "text": [
      "\n",
      "[65  93]  iter: 240   edges: 240   complex: 2.61%"
     ]
    },
    {
     "name": "stdout",
     "output_type": "stream",
     "text": [
      "   Score = 0.825"
     ]
    },
    {
     "name": "stdout",
     "output_type": "stream",
     "text": [
      "    <E> = 96.56    log(Z) = 2.05   S = 98.6\n",
      "[38  61]  iter: 241   edges: 241   complex: 2.63%"
     ]
    },
    {
     "name": "stdout",
     "output_type": "stream",
     "text": [
      "\n",
      "[1  24]  iter: 242   edges: 242   complex: 2.64%"
     ]
    },
    {
     "name": "stdout",
     "output_type": "stream",
     "text": [
      "\n",
      "[62  89]  iter: 243   edges: 243   complex: 2.65%"
     ]
    },
    {
     "name": "stdout",
     "output_type": "stream",
     "text": [
      "\n",
      "[58  104]  iter: 244   edges: 244   complex: 2.66%"
     ]
    },
    {
     "name": "stdout",
     "output_type": "stream",
     "text": [
      "\n",
      "[80  82]  iter: 245   edges: 245   complex: 2.67%"
     ]
    },
    {
     "name": "stdout",
     "output_type": "stream",
     "text": [
      "\n",
      "[25  72]  iter: 246   edges: 246   complex: 2.68%"
     ]
    },
    {
     "name": "stdout",
     "output_type": "stream",
     "text": [
      "\n",
      "[92  122]  iter: 247   edges: 247   complex: 2.69%"
     ]
    },
    {
     "name": "stdout",
     "output_type": "stream",
     "text": [
      "\n",
      "[122  124]  iter: 248   edges: 248   complex: 2.7%"
     ]
    },
    {
     "name": "stdout",
     "output_type": "stream",
     "text": [
      "\n",
      "[124  125]  iter: 249   edges: 249   complex: 2.71%"
     ]
    },
    {
     "name": "stdout",
     "output_type": "stream",
     "text": [
      "\n",
      "[129  130]  iter: 250   edges: 250   complex: 2.72%"
     ]
    },
    {
     "name": "stdout",
     "output_type": "stream",
     "text": [
      "\n",
      "[22  25]  iter: 251   edges: 251   complex: 2.73%"
     ]
    },
    {
     "name": "stdout",
     "output_type": "stream",
     "text": [
      "\n",
      "[124  134]  iter: 252   edges: 252   complex: 2.75%"
     ]
    },
    {
     "name": "stdout",
     "output_type": "stream",
     "text": [
      "\n",
      "[3  26]  iter: 253   edges: 253   complex: 2.76%"
     ]
    },
    {
     "name": "stdout",
     "output_type": "stream",
     "text": [
      "\n",
      "[7  91]  iter: 254   edges: 254   complex: 2.77%"
     ]
    },
    {
     "name": "stdout",
     "output_type": "stream",
     "text": [
      "\n",
      "[91  99]  iter: 255   edges: 255   complex: 2.78%"
     ]
    },
    {
     "name": "stdout",
     "output_type": "stream",
     "text": [
      "   Score = 0.836"
     ]
    },
    {
     "name": "stdout",
     "output_type": "stream",
     "text": [
      "    <E> = 96.22    log(Z) = 2.2   S = 98.42\n",
      "[49  50]  iter: 256   edges: 256   complex: 2.79%"
     ]
    },
    {
     "name": "stdout",
     "output_type": "stream",
     "text": [
      "\n",
      "[63  92]  iter: 257   edges: 257   complex: 2.8%"
     ]
    },
    {
     "name": "stdout",
     "output_type": "stream",
     "text": [
      "\n",
      "[11  96]  iter: 258   edges: 258   complex: 2.81%"
     ]
    },
    {
     "name": "stdout",
     "output_type": "stream",
     "text": [
      "\n",
      "[76  127]  iter: 259   edges: 259   complex: 2.82%"
     ]
    },
    {
     "name": "stdout",
     "output_type": "stream",
     "text": [
      "\n",
      "[82  132]  iter: 260   edges: 260   complex: 2.83%"
     ]
    },
    {
     "name": "stdout",
     "output_type": "stream",
     "text": [
      "\n",
      "[47  62]  iter: 261   edges: 261   complex: 2.84%"
     ]
    },
    {
     "name": "stdout",
     "output_type": "stream",
     "text": [
      "\n",
      "[26  74]  iter: 262   edges: 262   complex: 2.85%"
     ]
    },
    {
     "name": "stdout",
     "output_type": "stream",
     "text": [
      "\n",
      "[85  116]  iter: 263   edges: 263   complex: 2.86%"
     ]
    },
    {
     "name": "stdout",
     "output_type": "stream",
     "text": [
      "\n",
      "[42  69]  iter: 264   edges: 264   complex: 2.88%"
     ]
    },
    {
     "name": "stdout",
     "output_type": "stream",
     "text": [
      "\n",
      "[70  76]  iter: 265   edges: 265   complex: 2.89%"
     ]
    },
    {
     "name": "stdout",
     "output_type": "stream",
     "text": [
      "\n",
      "[131  132]  iter: 266   edges: 266   complex: 2.9%"
     ]
    },
    {
     "name": "stdout",
     "output_type": "stream",
     "text": [
      "\n",
      "[84  98]  iter: 267   edges: 267   complex: 2.91%"
     ]
    },
    {
     "name": "stdout",
     "output_type": "stream",
     "text": [
      "\n",
      "[89  91]  iter: 268   edges: 268   complex: 2.92%"
     ]
    },
    {
     "name": "stdout",
     "output_type": "stream",
     "text": [
      "\n",
      "[59  136]  iter: 269   edges: 269   complex: 2.93%"
     ]
    },
    {
     "name": "stdout",
     "output_type": "stream",
     "text": [
      "\n",
      "[11  75]  iter: 270   edges: 270   complex: 2.94%"
     ]
    },
    {
     "name": "stdout",
     "output_type": "stream",
     "text": [
      "   Score = 0.847"
     ]
    },
    {
     "name": "stdout",
     "output_type": "stream",
     "text": [
      "    <E> = 95.14    log(Z) = 2.31   S = 97.45\n",
      "[34  56]  iter: 271   edges: 271   complex: 2.95%"
     ]
    },
    {
     "name": "stdout",
     "output_type": "stream",
     "text": [
      "\n",
      "[9  82]  iter: 272   edges: 272   complex: 2.96%"
     ]
    },
    {
     "name": "stdout",
     "output_type": "stream",
     "text": [
      "\n",
      "[17  29]  iter: 273   edges: 273   complex: 2.97%"
     ]
    },
    {
     "name": "stdout",
     "output_type": "stream",
     "text": [
      "\n",
      "[19  39]  iter: 274   edges: 274   complex: 2.98%"
     ]
    },
    {
     "name": "stdout",
     "output_type": "stream",
     "text": [
      "\n",
      "[82  122]  iter: 275   edges: 275   complex: 3.0%"
     ]
    },
    {
     "name": "stdout",
     "output_type": "stream",
     "text": [
      "\n",
      "[64  66]  iter: 276   edges: 276   complex: 3.01%"
     ]
    },
    {
     "name": "stdout",
     "output_type": "stream",
     "text": [
      "\n",
      "[28  32]  iter: 277   edges: 277   complex: 3.02%"
     ]
    },
    {
     "name": "stdout",
     "output_type": "stream",
     "text": [
      "\n",
      "[42  99]  iter: 278   edges: 278   complex: 3.03%"
     ]
    },
    {
     "name": "stdout",
     "output_type": "stream",
     "text": [
      "\n",
      "[3  11]  iter: 279   edges: 279   complex: 3.04%"
     ]
    },
    {
     "name": "stdout",
     "output_type": "stream",
     "text": [
      "\n",
      "[87  89]  iter: 280   edges: 280   complex: 3.05%"
     ]
    },
    {
     "name": "stdout",
     "output_type": "stream",
     "text": [
      "\n",
      "[87  126]  iter: 281   edges: 281   complex: 3.06%"
     ]
    },
    {
     "name": "stdout",
     "output_type": "stream",
     "text": [
      "\n",
      "[20  89]  iter: 282   edges: 282   complex: 3.07%"
     ]
    },
    {
     "name": "stdout",
     "output_type": "stream",
     "text": [
      "\n",
      "[79  113]  iter: 283   edges: 283   complex: 3.08%"
     ]
    },
    {
     "name": "stdout",
     "output_type": "stream",
     "text": [
      "\n",
      "[125  130]  iter: 284   edges: 284   complex: 3.09%"
     ]
    },
    {
     "name": "stdout",
     "output_type": "stream",
     "text": [
      "\n",
      "[4  67]  iter: 285   edges: 285   complex: 3.1%"
     ]
    },
    {
     "name": "stdout",
     "output_type": "stream",
     "text": [
      "   Score = 0.856"
     ]
    },
    {
     "name": "stdout",
     "output_type": "stream",
     "text": [
      "    <E> = 94.82    log(Z) = 2.44   S = 97.26\n",
      "[8  24]  iter: 286   edges: 286   complex: 3.12%"
     ]
    },
    {
     "name": "stdout",
     "output_type": "stream",
     "text": [
      "\n",
      "[41  42]  iter: 287   edges: 287   complex: 3.13%"
     ]
    },
    {
     "name": "stdout",
     "output_type": "stream",
     "text": [
      "\n",
      "[85  130]  iter: 288   edges: 288   complex: 3.14%"
     ]
    },
    {
     "name": "stdout",
     "output_type": "stream",
     "text": [
      "\n",
      "[5  122]  iter: 289   edges: 289   complex: 3.15%"
     ]
    },
    {
     "name": "stdout",
     "output_type": "stream",
     "text": [
      "\n",
      "[1  45]  iter: 290   edges: 290   complex: 3.16%"
     ]
    },
    {
     "name": "stdout",
     "output_type": "stream",
     "text": [
      "\n",
      "[89  126]  iter: 291   edges: 291   complex: 3.17%"
     ]
    },
    {
     "name": "stdout",
     "output_type": "stream",
     "text": [
      "\n",
      "[85  90]  iter: 292   edges: 292   complex: 3.18%"
     ]
    },
    {
     "name": "stdout",
     "output_type": "stream",
     "text": [
      "\n",
      "[44  48]  iter: 293   edges: 293   complex: 3.19%"
     ]
    },
    {
     "name": "stdout",
     "output_type": "stream",
     "text": [
      "\n",
      "[85  122]  iter: 294   edges: 294   complex: 3.2%"
     ]
    },
    {
     "name": "stdout",
     "output_type": "stream",
     "text": [
      "\n",
      "[18  42]  iter: 295   edges: 295   complex: 3.21%"
     ]
    },
    {
     "name": "stdout",
     "output_type": "stream",
     "text": [
      "\n",
      "[20  21]  iter: 296   edges: 296   complex: 3.22%"
     ]
    },
    {
     "name": "stdout",
     "output_type": "stream",
     "text": [
      "\n",
      "[59  60]  iter: 297   edges: 297   complex: 3.24%"
     ]
    },
    {
     "name": "stdout",
     "output_type": "stream",
     "text": [
      "\n",
      "[38  87]  iter: 298   edges: 298   complex: 3.25%"
     ]
    },
    {
     "name": "stdout",
     "output_type": "stream",
     "text": [
      "\n",
      "[12  76]  iter: 299   edges: 299   complex: 3.26%"
     ]
    },
    {
     "name": "stdout",
     "output_type": "stream",
     "text": [
      "\n",
      "[89  96]  iter: 300   edges: 300   complex: 3.27%"
     ]
    },
    {
     "name": "stdout",
     "output_type": "stream",
     "text": [
      "   Score = 0.863"
     ]
    },
    {
     "name": "stdout",
     "output_type": "stream",
     "text": [
      "    <E> = 94.33    log(Z) = 2.56   S = 96.88\n",
      "[130  136]  iter: 301   edges: 301   complex: 3.28%"
     ]
    },
    {
     "name": "stdout",
     "output_type": "stream",
     "text": [
      "\n",
      "[89  123]  iter: 302   edges: 302   complex: 3.29%"
     ]
    },
    {
     "name": "stdout",
     "output_type": "stream",
     "text": [
      "\n",
      "[59  96]  iter: 303   edges: 303   complex: 3.3%"
     ]
    },
    {
     "name": "stdout",
     "output_type": "stream",
     "text": [
      "\n",
      "[11  93]  iter: 304   edges: 304   complex: 3.31%"
     ]
    },
    {
     "name": "stdout",
     "output_type": "stream",
     "text": [
      "\n",
      "[85  88]  iter: 305   edges: 305   complex: 3.32%"
     ]
    },
    {
     "name": "stdout",
     "output_type": "stream",
     "text": [
      "\n",
      "[112  113]  iter: 306   edges: 306   complex: 3.33%"
     ]
    },
    {
     "name": "stdout",
     "output_type": "stream",
     "text": [
      "\n",
      "[42  130]  iter: 307   edges: 307   complex: 3.34%"
     ]
    },
    {
     "name": "stdout",
     "output_type": "stream",
     "text": [
      "\n",
      "[46  121]  iter: 308   edges: 308   complex: 3.36%"
     ]
    },
    {
     "name": "stdout",
     "output_type": "stream",
     "text": [
      "\n",
      "[84  91]  iter: 309   edges: 309   complex: 3.37%"
     ]
    },
    {
     "name": "stdout",
     "output_type": "stream",
     "text": [
      "\n",
      "[125  127]  iter: 310   edges: 310   complex: 3.38%"
     ]
    },
    {
     "name": "stdout",
     "output_type": "stream",
     "text": [
      "\n",
      "[60  64]  iter: 311   edges: 311   complex: 3.39%"
     ]
    },
    {
     "name": "stdout",
     "output_type": "stream",
     "text": [
      "\n",
      "[29  50]  iter: 312   edges: 312   complex: 3.4%"
     ]
    },
    {
     "name": "stdout",
     "output_type": "stream",
     "text": [
      "\n",
      "[10  85]  iter: 313   edges: 313   complex: 3.41%"
     ]
    },
    {
     "name": "stdout",
     "output_type": "stream",
     "text": [
      "\n",
      "[96  97]  iter: 314   edges: 314   complex: 3.42%"
     ]
    },
    {
     "name": "stdout",
     "output_type": "stream",
     "text": [
      "\n",
      "[23  62]  iter: 315   edges: 315   complex: 3.43%"
     ]
    },
    {
     "name": "stdout",
     "output_type": "stream",
     "text": [
      "   Score = 0.866"
     ]
    },
    {
     "name": "stdout",
     "output_type": "stream",
     "text": [
      "    <E> = 93.87    log(Z) = 2.68   S = 96.55\n",
      "[34  81]  iter: 316   edges: 316   complex: 3.44%"
     ]
    },
    {
     "name": "stdout",
     "output_type": "stream",
     "text": [
      "\n",
      "[1  7]  iter: 317   edges: 317   complex: 3.45%"
     ]
    },
    {
     "name": "stdout",
     "output_type": "stream",
     "text": [
      "\n",
      "[2  43]  iter: 318   edges: 318   complex: 3.46%"
     ]
    },
    {
     "name": "stdout",
     "output_type": "stream",
     "text": [
      "\n",
      "[76  134]  iter: 319   edges: 319   complex: 3.47%"
     ]
    },
    {
     "name": "stdout",
     "output_type": "stream",
     "text": [
      "\n",
      "[88  90]  iter: 320   edges: 320   complex: 3.49%"
     ]
    },
    {
     "name": "stdout",
     "output_type": "stream",
     "text": [
      "\n",
      "[129  131]  iter: 321   edges: 321   complex: 3.5%"
     ]
    },
    {
     "name": "stdout",
     "output_type": "stream",
     "text": [
      "\n",
      "[118  125]  iter: 322   edges: 322   complex: 3.51%"
     ]
    },
    {
     "name": "stdout",
     "output_type": "stream",
     "text": [
      "\n",
      "[125  135]  iter: 323   edges: 323   complex: 3.52%"
     ]
    },
    {
     "name": "stdout",
     "output_type": "stream",
     "text": [
      "\n",
      "[7  136]  iter: 324   edges: 324   complex: 3.53%"
     ]
    },
    {
     "name": "stdout",
     "output_type": "stream",
     "text": [
      "\n",
      "[26  75]  iter: 325   edges: 325   complex: 3.54%"
     ]
    },
    {
     "name": "stdout",
     "output_type": "stream",
     "text": [
      "\n",
      "[98  99]  iter: 326   edges: 326   complex: 3.55%"
     ]
    },
    {
     "name": "stdout",
     "output_type": "stream",
     "text": [
      "\n",
      "[88  93]  iter: 327   edges: 327   complex: 3.56%"
     ]
    },
    {
     "name": "stdout",
     "output_type": "stream",
     "text": [
      "\n",
      "[79  91]  iter: 328   edges: 328   complex: 3.57%"
     ]
    },
    {
     "name": "stdout",
     "output_type": "stream",
     "text": [
      "\n",
      "[42  135]  iter: 329   edges: 329   complex: 3.58%"
     ]
    },
    {
     "name": "stdout",
     "output_type": "stream",
     "text": [
      "\n",
      "[90  125]  iter: 330   edges: 330   complex: 3.59%"
     ]
    },
    {
     "name": "stdout",
     "output_type": "stream",
     "text": [
      "   Score = 0.871"
     ]
    },
    {
     "name": "stdout",
     "output_type": "stream",
     "text": [
      "    <E> = 93.21    log(Z) = 2.83   S = 96.05\n",
      "[88  127]  iter: 331   edges: 331   complex: 3.61%"
     ]
    },
    {
     "name": "stdout",
     "output_type": "stream",
     "text": [
      "\n",
      "[31  76]  iter: 332   edges: 332   complex: 3.62%"
     ]
    },
    {
     "name": "stdout",
     "output_type": "stream",
     "text": [
      "\n",
      "[76  94]  iter: 333   edges: 333   complex: 3.63%"
     ]
    },
    {
     "name": "stdout",
     "output_type": "stream",
     "text": [
      "\n",
      "[74  123]  iter: 334   edges: 334   complex: 3.64%"
     ]
    },
    {
     "name": "stdout",
     "output_type": "stream",
     "text": [
      "\n",
      "[126  133]  iter: 335   edges: 335   complex: 3.65%"
     ]
    },
    {
     "name": "stdout",
     "output_type": "stream",
     "text": [
      "\n",
      "[25  44]  iter: 336   edges: 336   complex: 3.66%"
     ]
    },
    {
     "name": "stdout",
     "output_type": "stream",
     "text": [
      "\n",
      "[2  10]  iter: 337   edges: 337   complex: 3.67%"
     ]
    },
    {
     "name": "stdout",
     "output_type": "stream",
     "text": [
      "\n",
      "[9  62]  iter: 338   edges: 338   complex: 3.68%"
     ]
    },
    {
     "name": "stdout",
     "output_type": "stream",
     "text": [
      "\n",
      "[64  89]  iter: 339   edges: 339   complex: 3.69%"
     ]
    },
    {
     "name": "stdout",
     "output_type": "stream",
     "text": [
      "\n",
      "[9  11]  iter: 340   edges: 340   complex: 3.7%"
     ]
    },
    {
     "name": "stdout",
     "output_type": "stream",
     "text": [
      "\n",
      "[128  132]  iter: 341   edges: 341   complex: 3.71%"
     ]
    },
    {
     "name": "stdout",
     "output_type": "stream",
     "text": [
      "\n",
      "[17  109]  iter: 342   edges: 342   complex: 3.73%"
     ]
    },
    {
     "name": "stdout",
     "output_type": "stream",
     "text": [
      "\n",
      "[21  24]  iter: 343   edges: 343   complex: 3.74%"
     ]
    },
    {
     "name": "stdout",
     "output_type": "stream",
     "text": [
      "\n",
      "[4  114]  iter: 344   edges: 344   complex: 3.75%"
     ]
    },
    {
     "name": "stdout",
     "output_type": "stream",
     "text": [
      "\n",
      "[29  76]  iter: 345   edges: 345   complex: 3.76%"
     ]
    },
    {
     "name": "stdout",
     "output_type": "stream",
     "text": [
      "   Score = 0.877"
     ]
    },
    {
     "name": "stdout",
     "output_type": "stream",
     "text": [
      "    <E> = 92.89    log(Z) = 3.0   S = 95.89\n",
      "[132  134]  iter: 346   edges: 346   complex: 3.77%"
     ]
    },
    {
     "name": "stdout",
     "output_type": "stream",
     "text": [
      "\n",
      "[18  116]  iter: 347   edges: 347   complex: 3.78%"
     ]
    },
    {
     "name": "stdout",
     "output_type": "stream",
     "text": [
      "\n",
      "[76  114]  iter: 348   edges: 348   complex: 3.79%"
     ]
    },
    {
     "name": "stdout",
     "output_type": "stream",
     "text": [
      "\n",
      "[66  70]  iter: 349   edges: 349   complex: 3.8%"
     ]
    },
    {
     "name": "stdout",
     "output_type": "stream",
     "text": [
      "\n",
      "[82  125]  iter: 350   edges: 350   complex: 3.81%"
     ]
    },
    {
     "name": "stdout",
     "output_type": "stream",
     "text": [
      "\n",
      "[84  86]  iter: 351   edges: 351   complex: 3.82%"
     ]
    },
    {
     "name": "stdout",
     "output_type": "stream",
     "text": [
      "\n",
      "[19  116]  iter: 352   edges: 352   complex: 3.83%"
     ]
    },
    {
     "name": "stdout",
     "output_type": "stream",
     "text": [
      "\n",
      "[21  71]  iter: 353   edges: 353   complex: 3.85%"
     ]
    },
    {
     "name": "stdout",
     "output_type": "stream",
     "text": [
      "\n",
      "[26  84]  iter: 354   edges: 354   complex: 3.86%"
     ]
    },
    {
     "name": "stdout",
     "output_type": "stream",
     "text": [
      "\n",
      "[29  109]  iter: 355   edges: 355   complex: 3.87%"
     ]
    },
    {
     "name": "stdout",
     "output_type": "stream",
     "text": [
      "\n",
      "[49  132]  iter: 356   edges: 356   complex: 3.88%"
     ]
    },
    {
     "name": "stdout",
     "output_type": "stream",
     "text": [
      "\n",
      "[84  89]  iter: 357   edges: 357   complex: 3.89%"
     ]
    },
    {
     "name": "stdout",
     "output_type": "stream",
     "text": [
      "\n",
      "[82  96]  iter: 358   edges: 358   complex: 3.9%"
     ]
    },
    {
     "name": "stdout",
     "output_type": "stream",
     "text": [
      "\n",
      "[91  134]  iter: 359   edges: 359   complex: 3.91%"
     ]
    },
    {
     "name": "stdout",
     "output_type": "stream",
     "text": [
      "\n",
      "[63  125]  iter: 360   edges: 360   complex: 3.92%"
     ]
    },
    {
     "name": "stdout",
     "output_type": "stream",
     "text": [
      "   Score = 0.881"
     ]
    },
    {
     "name": "stdout",
     "output_type": "stream",
     "text": [
      "    <E> = 92.44    log(Z) = 3.16   S = 95.61\n",
      "[45  83]  iter: 361   edges: 361   complex: 3.93%"
     ]
    },
    {
     "name": "stdout",
     "output_type": "stream",
     "text": [
      "\n",
      "[103  126]  iter: 362   edges: 362   complex: 3.94%"
     ]
    },
    {
     "name": "stdout",
     "output_type": "stream",
     "text": [
      "\n",
      "[63  65]  iter: 363   edges: 363   complex: 3.95%"
     ]
    },
    {
     "name": "stdout",
     "output_type": "stream",
     "text": [
      "\n",
      "[47  71]  iter: 364   edges: 364   complex: 3.97%"
     ]
    },
    {
     "name": "stdout",
     "output_type": "stream",
     "text": [
      "\n",
      "[41  50]  iter: 365   edges: 365   complex: 3.98%"
     ]
    },
    {
     "name": "stdout",
     "output_type": "stream",
     "text": [
      "\n",
      "[27  126]  iter: 366   edges: 366   complex: 3.99%"
     ]
    },
    {
     "name": "stdout",
     "output_type": "stream",
     "text": [
      "\n",
      "[15  21]  iter: 367   edges: 367   complex: 4.0%"
     ]
    },
    {
     "name": "stdout",
     "output_type": "stream",
     "text": [
      "\n",
      "[18  26]  iter: 368   edges: 368   complex: 4.01%"
     ]
    },
    {
     "name": "stdout",
     "output_type": "stream",
     "text": [
      "\n",
      "[82  123]  iter: 369   edges: 369   complex: 4.02%"
     ]
    },
    {
     "name": "stdout",
     "output_type": "stream",
     "text": [
      "\n",
      "[38  67]  iter: 370   edges: 370   complex: 4.03%"
     ]
    },
    {
     "name": "stdout",
     "output_type": "stream",
     "text": [
      "\n",
      "[88  94]  iter: 371   edges: 371   complex: 4.04%"
     ]
    },
    {
     "name": "stdout",
     "output_type": "stream",
     "text": [
      "\n",
      "[38  113]  iter: 372   edges: 372   complex: 4.05%"
     ]
    },
    {
     "name": "stdout",
     "output_type": "stream",
     "text": [
      "\n",
      "[24  49]  iter: 373   edges: 373   complex: 4.06%"
     ]
    },
    {
     "name": "stdout",
     "output_type": "stream",
     "text": [
      "\n",
      "[86  129]  iter: 374   edges: 374   complex: 4.07%"
     ]
    },
    {
     "name": "stdout",
     "output_type": "stream",
     "text": [
      "\n",
      "[4  122]  iter: 375   edges: 375   complex: 4.08%"
     ]
    },
    {
     "name": "stdout",
     "output_type": "stream",
     "text": [
      "   Score = 0.883"
     ]
    },
    {
     "name": "stdout",
     "output_type": "stream",
     "text": [
      "    <E> = 91.71    log(Z) = 3.29   S = 95.0\n",
      "[44  50]  iter: 376   edges: 376   complex: 4.1%"
     ]
    },
    {
     "name": "stdout",
     "output_type": "stream",
     "text": [
      "\n",
      "[45  81]  iter: 377   edges: 377   complex: 4.11%"
     ]
    },
    {
     "name": "stdout",
     "output_type": "stream",
     "text": [
      "\n",
      "[3  7]  iter: 378   edges: 378   complex: 4.12%"
     ]
    },
    {
     "name": "stdout",
     "output_type": "stream",
     "text": [
      "\n",
      "[18  20]  iter: 379   edges: 379   complex: 4.13%"
     ]
    },
    {
     "name": "stdout",
     "output_type": "stream",
     "text": [
      "\n",
      "[73  94]  iter: 380   edges: 380   complex: 4.14%"
     ]
    },
    {
     "name": "stdout",
     "output_type": "stream",
     "text": [
      "\n",
      "[6  66]  iter: 381   edges: 381   complex: 4.15%"
     ]
    },
    {
     "name": "stdout",
     "output_type": "stream",
     "text": [
      "\n",
      "[45  48]  iter: 382   edges: 382   complex: 4.16%"
     ]
    },
    {
     "name": "stdout",
     "output_type": "stream",
     "text": [
      "\n",
      "[42  128]  iter: 383   edges: 383   complex: 4.17%"
     ]
    },
    {
     "name": "stdout",
     "output_type": "stream",
     "text": [
      "\n",
      "[15  30]  iter: 384   edges: 384   complex: 4.18%"
     ]
    },
    {
     "name": "stdout",
     "output_type": "stream",
     "text": [
      "\n",
      "[82  89]  iter: 385   edges: 385   complex: 4.19%"
     ]
    },
    {
     "name": "stdout",
     "output_type": "stream",
     "text": [
      "\n",
      "[81  114]  iter: 386   edges: 386   complex: 4.2%"
     ]
    },
    {
     "name": "stdout",
     "output_type": "stream",
     "text": [
      "\n",
      "[44  46]  iter: 387   edges: 387   complex: 4.22%"
     ]
    },
    {
     "name": "stdout",
     "output_type": "stream",
     "text": [
      "\n",
      "[65  88]  iter: 388   edges: 388   complex: 4.23%"
     ]
    },
    {
     "name": "stdout",
     "output_type": "stream",
     "text": [
      "\n",
      "[67  69]  iter: 389   edges: 389   complex: 4.24%"
     ]
    },
    {
     "name": "stdout",
     "output_type": "stream",
     "text": [
      "\n",
      "[91  123]  iter: 390   edges: 390   complex: 4.25%"
     ]
    },
    {
     "name": "stdout",
     "output_type": "stream",
     "text": [
      "   Score = 0.889"
     ]
    },
    {
     "name": "stdout",
     "output_type": "stream",
     "text": [
      "    <E> = 91.41    log(Z) = 3.43   S = 94.83\n",
      "[76  77]  iter: 391   edges: 390   complex: 4.25%"
     ]
    },
    {
     "name": "stdout",
     "output_type": "stream",
     "text": [
      "\n",
      "[62  75]  iter: 392   edges: 391   complex: 4.26%"
     ]
    },
    {
     "name": "stdout",
     "output_type": "stream",
     "text": [
      "\n",
      "[132  133]  iter: 393   edges: 392   complex: 4.27%"
     ]
    },
    {
     "name": "stdout",
     "output_type": "stream",
     "text": [
      "\n",
      "[82  121]  iter: 394   edges: 393   complex: 4.28%"
     ]
    },
    {
     "name": "stdout",
     "output_type": "stream",
     "text": [
      "\n",
      "[73  81]  iter: 395   edges: 394   complex: 4.29%"
     ]
    },
    {
     "name": "stdout",
     "output_type": "stream",
     "text": [
      "\n",
      "[63  96]  iter: 396   edges: 395   complex: 4.3%"
     ]
    },
    {
     "name": "stdout",
     "output_type": "stream",
     "text": [
      "\n",
      "[50  124]  iter: 397   edges: 396   complex: 4.31%"
     ]
    },
    {
     "name": "stdout",
     "output_type": "stream",
     "text": [
      "\n",
      "[7  44]  iter: 398   edges: 397   complex: 4.32%"
     ]
    },
    {
     "name": "stdout",
     "output_type": "stream",
     "text": [
      "\n",
      "[8  22]  iter: 399   edges: 398   complex: 4.34%"
     ]
    },
    {
     "name": "stdout",
     "output_type": "stream",
     "text": [
      "\n",
      "[23  135]  iter: 400   edges: 399   complex: 4.35%"
     ]
    },
    {
     "name": "stdout",
     "output_type": "stream",
     "text": [
      "\n",
      "[86  127]  iter: 401   edges: 400   complex: 4.36%"
     ]
    },
    {
     "name": "stdout",
     "output_type": "stream",
     "text": [
      "\n",
      "[85  133]  iter: 402   edges: 401   complex: 4.37%"
     ]
    },
    {
     "name": "stdout",
     "output_type": "stream",
     "text": [
      "\n",
      "[4  68]  iter: 403   edges: 402   complex: 4.38%"
     ]
    },
    {
     "name": "stdout",
     "output_type": "stream",
     "text": [
      "\n",
      "[88  115]  iter: 404   edges: 403   complex: 4.39%"
     ]
    },
    {
     "name": "stdout",
     "output_type": "stream",
     "text": [
      "\n",
      "[45  70]  iter: 405   edges: 404   complex: 4.4%"
     ]
    },
    {
     "name": "stdout",
     "output_type": "stream",
     "text": [
      "   Score = 0.893"
     ]
    },
    {
     "name": "stdout",
     "output_type": "stream",
     "text": [
      "    <E> = 91.04    log(Z) = 3.56   S = 94.6\n",
      "[132  136]  iter: 406   edges: 405   complex: 4.41%"
     ]
    },
    {
     "name": "stdout",
     "output_type": "stream",
     "text": [
      "\n",
      "[38  98]  iter: 407   edges: 406   complex: 4.42%"
     ]
    },
    {
     "name": "stdout",
     "output_type": "stream",
     "text": [
      "\n",
      "[86  131]  iter: 408   edges: 407   complex: 4.43%"
     ]
    },
    {
     "name": "stdout",
     "output_type": "stream",
     "text": [
      "\n",
      "[66  136]  iter: 409   edges: 408   complex: 4.44%"
     ]
    },
    {
     "name": "stdout",
     "output_type": "stream",
     "text": [
      "\n",
      "[122  131]  iter: 410   edges: 409   complex: 4.46%"
     ]
    },
    {
     "name": "stdout",
     "output_type": "stream",
     "text": [
      "\n",
      "[3  23]  iter: 411   edges: 410   complex: 4.47%"
     ]
    },
    {
     "name": "stdout",
     "output_type": "stream",
     "text": [
      "\n",
      "[11  83]  iter: 412   edges: 411   complex: 4.48%"
     ]
    },
    {
     "name": "stdout",
     "output_type": "stream",
     "text": [
      "\n",
      "[20  25]  iter: 413   edges: 412   complex: 4.49%"
     ]
    },
    {
     "name": "stdout",
     "output_type": "stream",
     "text": [
      "\n",
      "[55  61]  iter: 414   edges: 413   complex: 4.5%"
     ]
    },
    {
     "name": "stdout",
     "output_type": "stream",
     "text": [
      "\n",
      "[18  29]  iter: 415   edges: 413   complex: 4.5%"
     ]
    },
    {
     "name": "stdout",
     "output_type": "stream",
     "text": [
      "\n",
      "[43  47]  iter: 416   edges: 414   complex: 4.51%"
     ]
    },
    {
     "name": "stdout",
     "output_type": "stream",
     "text": [
      "\n",
      "[23  38]  iter: 417   edges: 415   complex: 4.52%"
     ]
    },
    {
     "name": "stdout",
     "output_type": "stream",
     "text": [
      "\n",
      "[98  114]  iter: 418   edges: 416   complex: 4.53%"
     ]
    },
    {
     "name": "stdout",
     "output_type": "stream",
     "text": [
      "\n",
      "[11  116]  iter: 419   edges: 417   complex: 4.54%"
     ]
    },
    {
     "name": "stdout",
     "output_type": "stream",
     "text": [
      "\n",
      "[40  121]  iter: 420   edges: 418   complex: 4.55%"
     ]
    },
    {
     "name": "stdout",
     "output_type": "stream",
     "text": [
      "   Score = 0.893"
     ]
    },
    {
     "name": "stdout",
     "output_type": "stream",
     "text": [
      "    <E> = 90.73    log(Z) = 3.67   S = 94.4\n",
      "[11  89]  iter: 421   edges: 419   complex: 4.56%"
     ]
    },
    {
     "name": "stdout",
     "output_type": "stream",
     "text": [
      "\n",
      "[51  75]  iter: 422   edges: 420   complex: 4.58%"
     ]
    },
    {
     "name": "stdout",
     "output_type": "stream",
     "text": [
      "\n",
      "[47  48]  iter: 423   edges: 420   complex: 4.58%"
     ]
    },
    {
     "name": "stdout",
     "output_type": "stream",
     "text": [
      "\n",
      "[21  70]  iter: 424   edges: 421   complex: 4.59%"
     ]
    },
    {
     "name": "stdout",
     "output_type": "stream",
     "text": [
      "\n",
      "[81  83]  iter: 425   edges: 422   complex: 4.6%"
     ]
    },
    {
     "name": "stdout",
     "output_type": "stream",
     "text": [
      "\n",
      "[89  130]  iter: 426   edges: 423   complex: 4.61%"
     ]
    },
    {
     "name": "stdout",
     "output_type": "stream",
     "text": [
      "\n",
      "[89  124]  iter: 427   edges: 424   complex: 4.62%"
     ]
    },
    {
     "name": "stdout",
     "output_type": "stream",
     "text": [
      "\n",
      "[47  91]  iter: 428   edges: 425   complex: 4.63%"
     ]
    },
    {
     "name": "stdout",
     "output_type": "stream",
     "text": [
      "\n",
      "[71  80]  iter: 429   edges: 426   complex: 4.64%"
     ]
    },
    {
     "name": "stdout",
     "output_type": "stream",
     "text": [
      "\n",
      "[92  98]  iter: 430   edges: 427   complex: 4.65%"
     ]
    },
    {
     "name": "stdout",
     "output_type": "stream",
     "text": [
      "\n",
      "[15  71]  iter: 431   edges: 428   complex: 4.66%"
     ]
    },
    {
     "name": "stdout",
     "output_type": "stream",
     "text": [
      "\n",
      "[48  134]  iter: 432   edges: 429   complex: 4.67%"
     ]
    },
    {
     "name": "stdout",
     "output_type": "stream",
     "text": [
      "\n",
      "[42  47]  iter: 433   edges: 430   complex: 4.68%"
     ]
    },
    {
     "name": "stdout",
     "output_type": "stream",
     "text": [
      "\n",
      "[91  116]  iter: 434   edges: 431   complex: 4.69%"
     ]
    },
    {
     "name": "stdout",
     "output_type": "stream",
     "text": [
      "\n",
      "[21  49]  iter: 435   edges: 432   complex: 4.71%"
     ]
    },
    {
     "name": "stdout",
     "output_type": "stream",
     "text": [
      "   Score = 0.895"
     ]
    },
    {
     "name": "stdout",
     "output_type": "stream",
     "text": [
      "    <E> = 90.3    log(Z) = 3.79   S = 94.09\n",
      "[123  127]  iter: 436   edges: 433   complex: 4.72%"
     ]
    },
    {
     "name": "stdout",
     "output_type": "stream",
     "text": [
      "\n",
      "[18  87]  iter: 437   edges: 434   complex: 4.73%"
     ]
    },
    {
     "name": "stdout",
     "output_type": "stream",
     "text": [
      "\n",
      "[21  136]  iter: 438   edges: 435   complex: 4.74%"
     ]
    },
    {
     "name": "stdout",
     "output_type": "stream",
     "text": [
      "\n",
      "[86  91]  iter: 439   edges: 436   complex: 4.75%"
     ]
    },
    {
     "name": "stdout",
     "output_type": "stream",
     "text": [
      "\n",
      "[11  103]  iter: 440   edges: 437   complex: 4.76%"
     ]
    },
    {
     "name": "stdout",
     "output_type": "stream",
     "text": [
      "\n",
      "[91  127]  iter: 441   edges: 438   complex: 4.77%"
     ]
    },
    {
     "name": "stdout",
     "output_type": "stream",
     "text": [
      "\n",
      "[6  49]  iter: 442   edges: 439   complex: 4.78%"
     ]
    },
    {
     "name": "stdout",
     "output_type": "stream",
     "text": [
      "\n",
      "[80  81]  iter: 443   edges: 440   complex: 4.79%"
     ]
    },
    {
     "name": "stdout",
     "output_type": "stream",
     "text": [
      "\n",
      "[71  125]  iter: 444   edges: 441   complex: 4.8%"
     ]
    },
    {
     "name": "stdout",
     "output_type": "stream",
     "text": [
      "\n",
      "[73  84]  iter: 445   edges: 442   complex: 4.81%"
     ]
    },
    {
     "name": "stdout",
     "output_type": "stream",
     "text": [
      "\n",
      "[10  15]  iter: 446   edges: 443   complex: 4.83%"
     ]
    },
    {
     "name": "stdout",
     "output_type": "stream",
     "text": [
      "\n",
      "[64  81]  iter: 447   edges: 444   complex: 4.84%"
     ]
    },
    {
     "name": "stdout",
     "output_type": "stream",
     "text": [
      "\n",
      "[81  84]  iter: 448   edges: 445   complex: 4.85%"
     ]
    },
    {
     "name": "stdout",
     "output_type": "stream",
     "text": [
      "\n",
      "[81  86]  iter: 449   edges: 446   complex: 4.86%"
     ]
    },
    {
     "name": "stdout",
     "output_type": "stream",
     "text": [
      "\n",
      "[20  61]  iter: 450   edges: 447   complex: 4.87%"
     ]
    },
    {
     "name": "stdout",
     "output_type": "stream",
     "text": [
      "   Score = 0.896"
     ]
    },
    {
     "name": "stdout",
     "output_type": "stream",
     "text": [
      "    <E> = 90.31    log(Z) = 3.89   S = 94.2\n",
      "[49  99]  iter: 451   edges: 448   complex: 4.88%"
     ]
    },
    {
     "name": "stdout",
     "output_type": "stream",
     "text": [
      "\n",
      "[90  132]  iter: 452   edges: 449   complex: 4.89%"
     ]
    },
    {
     "name": "stdout",
     "output_type": "stream",
     "text": [
      "\n",
      "[4  43]  iter: 453   edges: 450   complex: 4.9%"
     ]
    },
    {
     "name": "stdout",
     "output_type": "stream",
     "text": [
      "\n",
      "[11  122]  iter: 454   edges: 451   complex: 4.91%"
     ]
    },
    {
     "name": "stdout",
     "output_type": "stream",
     "text": [
      "\n",
      "[1  77]  iter: 455   edges: 452   complex: 4.92%"
     ]
    },
    {
     "name": "stdout",
     "output_type": "stream",
     "text": [
      "\n",
      "[83  90]  iter: 456   edges: 453   complex: 4.93%"
     ]
    },
    {
     "name": "stdout",
     "output_type": "stream",
     "text": [
      "\n",
      "[83  91]  iter: 457   edges: 454   complex: 4.95%"
     ]
    },
    {
     "name": "stdout",
     "output_type": "stream",
     "text": [
      "\n",
      "[5  42]  iter: 458   edges: 455   complex: 4.96%"
     ]
    },
    {
     "name": "stdout",
     "output_type": "stream",
     "text": [
      "\n",
      "[82  90]  iter: 459   edges: 456   complex: 4.97%"
     ]
    },
    {
     "name": "stdout",
     "output_type": "stream",
     "text": [
      "\n",
      "[16  17]  iter: 460   edges: 457   complex: 4.98%"
     ]
    },
    {
     "name": "stdout",
     "output_type": "stream",
     "text": [
      "\n",
      "[10  118]  iter: 461   edges: 458   complex: 4.99%"
     ]
    },
    {
     "name": "stdout",
     "output_type": "stream",
     "text": [
      "\n",
      "[72  91]  iter: 462   edges: 459   complex: 5.0%"
     ]
    },
    {
     "name": "stdout",
     "output_type": "stream",
     "text": [
      "\n",
      "[28  109]  iter: 463   edges: 460   complex: 5.01%"
     ]
    },
    {
     "name": "stdout",
     "output_type": "stream",
     "text": [
      "\n",
      "[17  21]  iter: 464   edges: 461   complex: 5.02%"
     ]
    },
    {
     "name": "stdout",
     "output_type": "stream",
     "text": [
      "\n",
      "[89  133]  iter: 465   edges: 462   complex: 5.03%"
     ]
    },
    {
     "name": "stdout",
     "output_type": "stream",
     "text": [
      "   Score = 0.901"
     ]
    },
    {
     "name": "stdout",
     "output_type": "stream",
     "text": [
      "    <E> = 89.46    log(Z) = 4.02   S = 93.47\n",
      "[127  131]  iter: 466   edges: 463   complex: 5.04%"
     ]
    },
    {
     "name": "stdout",
     "output_type": "stream",
     "text": [
      "\n",
      "[8  20]  iter: 467   edges: 464   complex: 5.05%"
     ]
    },
    {
     "name": "stdout",
     "output_type": "stream",
     "text": [
      "\n",
      "[15  82]  iter: 468   edges: 465   complex: 5.07%"
     ]
    },
    {
     "name": "stdout",
     "output_type": "stream",
     "text": [
      "\n",
      "[24  26]  iter: 469   edges: 466   complex: 5.08%"
     ]
    },
    {
     "name": "stdout",
     "output_type": "stream",
     "text": [
      "\n",
      "[127  132]  iter: 470   edges: 467   complex: 5.09%"
     ]
    },
    {
     "name": "stdout",
     "output_type": "stream",
     "text": [
      "\n",
      "[21  73]  iter: 471   edges: 468   complex: 5.1%"
     ]
    },
    {
     "name": "stdout",
     "output_type": "stream",
     "text": [
      "\n",
      "[69  71]  iter: 472   edges: 469   complex: 5.11%"
     ]
    },
    {
     "name": "stdout",
     "output_type": "stream",
     "text": [
      "\n",
      "[22  112]  iter: 473   edges: 470   complex: 5.12%"
     ]
    },
    {
     "name": "stdout",
     "output_type": "stream",
     "text": [
      "\n",
      "[82  126]  iter: 474   edges: 471   complex: 5.13%"
     ]
    },
    {
     "name": "stdout",
     "output_type": "stream",
     "text": [
      "\n",
      "[61  73]  iter: 475   edges: 471   complex: 5.13%"
     ]
    },
    {
     "name": "stdout",
     "output_type": "stream",
     "text": [
      "\n",
      "[62  134]  iter: 476   edges: 472   complex: 5.14%"
     ]
    },
    {
     "name": "stdout",
     "output_type": "stream",
     "text": [
      "\n",
      "[73  90]  iter: 477   edges: 473   complex: 5.15%"
     ]
    },
    {
     "name": "stdout",
     "output_type": "stream",
     "text": [
      "\n",
      "[125  126]  iter: 478   edges: 473   complex: 5.15%"
     ]
    },
    {
     "name": "stdout",
     "output_type": "stream",
     "text": [
      "\n",
      "[87  90]  iter: 479   edges: 474   complex: 5.16%"
     ]
    },
    {
     "name": "stdout",
     "output_type": "stream",
     "text": [
      "\n",
      "[75  106]  iter: 480   edges: 475   complex: 5.17%"
     ]
    },
    {
     "name": "stdout",
     "output_type": "stream",
     "text": [
      "   Score = 0.903"
     ]
    },
    {
     "name": "stdout",
     "output_type": "stream",
     "text": [
      "    <E> = 88.99    log(Z) = 4.13   S = 93.12\n",
      "[47  49]  iter: 481   edges: 476   complex: 5.19%"
     ]
    },
    {
     "name": "stdout",
     "output_type": "stream",
     "text": [
      "\n",
      "[9  25]  iter: 482   edges: 477   complex: 5.2%"
     ]
    },
    {
     "name": "stdout",
     "output_type": "stream",
     "text": [
      "\n",
      "[50  67]  iter: 483   edges: 478   complex: 5.21%"
     ]
    },
    {
     "name": "stdout",
     "output_type": "stream",
     "text": [
      "\n",
      "[61  81]  iter: 484   edges: 479   complex: 5.22%"
     ]
    },
    {
     "name": "stdout",
     "output_type": "stream",
     "text": [
      "\n",
      "[39  44]  iter: 485   edges: 480   complex: 5.23%"
     ]
    },
    {
     "name": "stdout",
     "output_type": "stream",
     "text": [
      "\n",
      "[24  59]  iter: 486   edges: 481   complex: 5.24%"
     ]
    },
    {
     "name": "stdout",
     "output_type": "stream",
     "text": [
      "\n",
      "[42  48]  iter: 487   edges: 481   complex: 5.24%"
     ]
    },
    {
     "name": "stdout",
     "output_type": "stream",
     "text": [
      "\n",
      "[27  42]  iter: 488   edges: 482   complex: 5.25%"
     ]
    },
    {
     "name": "stdout",
     "output_type": "stream",
     "text": [
      "\n",
      "[48  103]  iter: 489   edges: 483   complex: 5.26%"
     ]
    },
    {
     "name": "stdout",
     "output_type": "stream",
     "text": [
      "\n",
      "[10  65]  iter: 490   edges: 484   complex: 5.27%"
     ]
    },
    {
     "name": "stdout",
     "output_type": "stream",
     "text": [
      "\n",
      "[2  88]  iter: 491   edges: 485   complex: 5.28%"
     ]
    },
    {
     "name": "stdout",
     "output_type": "stream",
     "text": [
      "\n",
      "[86  117]  iter: 492   edges: 486   complex: 5.29%"
     ]
    },
    {
     "name": "stdout",
     "output_type": "stream",
     "text": [
      "\n",
      "[11  74]  iter: 493   edges: 487   complex: 5.31%"
     ]
    },
    {
     "name": "stdout",
     "output_type": "stream",
     "text": [
      "\n",
      "[43  45]  iter: 494   edges: 488   complex: 5.32%"
     ]
    },
    {
     "name": "stdout",
     "output_type": "stream",
     "text": [
      "\n",
      "[24  69]  iter: 495   edges: 489   complex: 5.33%"
     ]
    },
    {
     "name": "stdout",
     "output_type": "stream",
     "text": [
      "   Score = 0.906"
     ]
    },
    {
     "name": "stdout",
     "output_type": "stream",
     "text": [
      "    <E> = 88.95    log(Z) = 4.27   S = 93.23\n",
      "[122  127]  iter: 496   edges: 490   complex: 5.34%"
     ]
    },
    {
     "name": "stdout",
     "output_type": "stream",
     "text": [
      "\n",
      "[9  18]  iter: 497   edges: 491   complex: 5.35%"
     ]
    },
    {
     "name": "stdout",
     "output_type": "stream",
     "text": [
      "\n",
      "[14  93]  iter: 498   edges: 492   complex: 5.36%"
     ]
    },
    {
     "name": "stdout",
     "output_type": "stream",
     "text": [
      "\n",
      "[11  81]  iter: 499   edges: 492   complex: 5.36%"
     ]
    },
    {
     "name": "stdout",
     "output_type": "stream",
     "text": [
      "\n",
      "[7  19]  iter: 500   edges: 493   complex: 5.37%"
     ]
    },
    {
     "name": "stdout",
     "output_type": "stream",
     "text": [
      "\n",
      "[4  90]  iter: 501   edges: 494   complex: 5.38%"
     ]
    },
    {
     "name": "stdout",
     "output_type": "stream",
     "text": [
      "\n",
      "[22  80]  iter: 502   edges: 495   complex: 5.39%"
     ]
    },
    {
     "name": "stdout",
     "output_type": "stream",
     "text": [
      "\n",
      "[82  84]  iter: 503   edges: 496   complex: 5.4%"
     ]
    },
    {
     "name": "stdout",
     "output_type": "stream",
     "text": [
      "\n",
      "[19  93]  iter: 504   edges: 497   complex: 5.41%"
     ]
    },
    {
     "name": "stdout",
     "output_type": "stream",
     "text": [
      "\n",
      "[21  43]  iter: 505   edges: 498   complex: 5.42%"
     ]
    },
    {
     "name": "stdout",
     "output_type": "stream",
     "text": [
      "\n",
      "[74  96]  iter: 506   edges: 499   complex: 5.44%"
     ]
    },
    {
     "name": "stdout",
     "output_type": "stream",
     "text": [
      "\n",
      "[42  81]  iter: 507   edges: 500   complex: 5.45%"
     ]
    },
    {
     "name": "stdout",
     "output_type": "stream",
     "text": [
      "\n",
      "[61  134]  iter: 508   edges: 501   complex: 5.46%"
     ]
    },
    {
     "name": "stdout",
     "output_type": "stream",
     "text": [
      "\n",
      "[21  25]  iter: 509   edges: 502   complex: 5.47%"
     ]
    },
    {
     "name": "stdout",
     "output_type": "stream",
     "text": [
      "\n",
      "[25  88]  iter: 510   edges: 503   complex: 5.48%"
     ]
    },
    {
     "name": "stdout",
     "output_type": "stream",
     "text": [
      "   Score = 0.907"
     ]
    },
    {
     "name": "stdout",
     "output_type": "stream",
     "text": [
      "    <E> = 88.34    log(Z) = 4.45   S = 92.78\n",
      "[22  26]  iter: 511   edges: 503   complex: 5.48%"
     ]
    },
    {
     "name": "stdout",
     "output_type": "stream",
     "text": [
      "\n",
      "[27  87]  iter: 512   edges: 504   complex: 5.49%"
     ]
    },
    {
     "name": "stdout",
     "output_type": "stream",
     "text": [
      "\n",
      "[47  83]  iter: 513   edges: 505   complex: 5.5%"
     ]
    },
    {
     "name": "stdout",
     "output_type": "stream",
     "text": [
      "\n",
      "[46  47]  iter: 514   edges: 505   complex: 5.5%"
     ]
    },
    {
     "name": "stdout",
     "output_type": "stream",
     "text": [
      "\n",
      "[46  76]  iter: 515   edges: 506   complex: 5.51%"
     ]
    },
    {
     "name": "stdout",
     "output_type": "stream",
     "text": [
      "\n",
      "[34  95]  iter: 516   edges: 507   complex: 5.52%"
     ]
    },
    {
     "name": "stdout",
     "output_type": "stream",
     "text": [
      "\n",
      "[61  75]  iter: 517   edges: 508   complex: 5.53%"
     ]
    },
    {
     "name": "stdout",
     "output_type": "stream",
     "text": [
      "\n",
      "[27  73]  iter: 518   edges: 509   complex: 5.54%"
     ]
    },
    {
     "name": "stdout",
     "output_type": "stream",
     "text": [
      "\n",
      "[11  124]  iter: 519   edges: 510   complex: 5.56%"
     ]
    },
    {
     "name": "stdout",
     "output_type": "stream",
     "text": [
      "\n",
      "[102  104]  iter: 520   edges: 511   complex: 5.57%"
     ]
    },
    {
     "name": "stdout",
     "output_type": "stream",
     "text": [
      "\n",
      "[62  82]  iter: 521   edges: 512   complex: 5.58%"
     ]
    },
    {
     "name": "stdout",
     "output_type": "stream",
     "text": [
      "\n",
      "[65  84]  iter: 522   edges: 513   complex: 5.59%"
     ]
    },
    {
     "name": "stdout",
     "output_type": "stream",
     "text": [
      "\n",
      "[96  99]  iter: 523   edges: 514   complex: 5.6%"
     ]
    },
    {
     "name": "stdout",
     "output_type": "stream",
     "text": [
      "\n",
      "[63  136]  iter: 524   edges: 515   complex: 5.61%"
     ]
    },
    {
     "name": "stdout",
     "output_type": "stream",
     "text": [
      "\n",
      "[38  109]  iter: 525   edges: 516   complex: 5.62%"
     ]
    },
    {
     "name": "stdout",
     "output_type": "stream",
     "text": [
      "   Score = 0.907"
     ]
    },
    {
     "name": "stdout",
     "output_type": "stream",
     "text": [
      "    <E> = 87.98    log(Z) = 4.58   S = 92.55\n",
      "[83  124]  iter: 526   edges: 517   complex: 5.63%"
     ]
    },
    {
     "name": "stdout",
     "output_type": "stream",
     "text": [
      "\n",
      "[48  135]  iter: 527   edges: 518   complex: 5.64%"
     ]
    },
    {
     "name": "stdout",
     "output_type": "stream",
     "text": [
      "\n",
      "[38  43]  iter: 528   edges: 519   complex: 5.65%"
     ]
    },
    {
     "name": "stdout",
     "output_type": "stream",
     "text": [
      "\n",
      "[3  76]  iter: 529   edges: 520   complex: 5.66%"
     ]
    },
    {
     "name": "stdout",
     "output_type": "stream",
     "text": [
      "\n",
      "[122  136]  iter: 530   edges: 521   complex: 5.68%"
     ]
    },
    {
     "name": "stdout",
     "output_type": "stream",
     "text": [
      "\n",
      "[66  72]  iter: 531   edges: 522   complex: 5.69%"
     ]
    },
    {
     "name": "stdout",
     "output_type": "stream",
     "text": [
      "\n",
      "[44  51]  iter: 532   edges: 523   complex: 5.7%"
     ]
    },
    {
     "name": "stdout",
     "output_type": "stream",
     "text": [
      "\n",
      "[11  22]  iter: 533   edges: 524   complex: 5.71%"
     ]
    },
    {
     "name": "stdout",
     "output_type": "stream",
     "text": [
      "\n",
      "[45  123]  iter: 534   edges: 525   complex: 5.72%"
     ]
    },
    {
     "name": "stdout",
     "output_type": "stream",
     "text": [
      "\n",
      "[128  133]  iter: 535   edges: 526   complex: 5.73%"
     ]
    },
    {
     "name": "stdout",
     "output_type": "stream",
     "text": [
      "\n",
      "[2  22]  iter: 536   edges: 527   complex: 5.74%"
     ]
    },
    {
     "name": "stdout",
     "output_type": "stream",
     "text": [
      "\n",
      "[87  96]  iter: 537   edges: 528   complex: 5.75%"
     ]
    },
    {
     "name": "stdout",
     "output_type": "stream",
     "text": [
      "\n",
      "[20  122]  iter: 538   edges: 529   complex: 5.76%"
     ]
    },
    {
     "name": "stdout",
     "output_type": "stream",
     "text": [
      "\n",
      "[29  134]  iter: 539   edges: 530   complex: 5.77%"
     ]
    },
    {
     "name": "stdout",
     "output_type": "stream",
     "text": [
      "\n",
      "[89  99]  iter: 540   edges: 531   complex: 5.78%"
     ]
    },
    {
     "name": "stdout",
     "output_type": "stream",
     "text": [
      "   Score = 0.91"
     ]
    },
    {
     "name": "stdout",
     "output_type": "stream",
     "text": [
      "    <E> = 87.84    log(Z) = 4.71   S = 92.55\n",
      "[66  82]  iter: 541   edges: 532   complex: 5.8%"
     ]
    },
    {
     "name": "stdout",
     "output_type": "stream",
     "text": [
      "\n",
      "[90  124]  iter: 542   edges: 533   complex: 5.81%"
     ]
    },
    {
     "name": "stdout",
     "output_type": "stream",
     "text": [
      "\n",
      "[4  73]  iter: 543   edges: 534   complex: 5.82%"
     ]
    },
    {
     "name": "stdout",
     "output_type": "stream",
     "text": [
      "\n",
      "[88  91]  iter: 544   edges: 535   complex: 5.83%"
     ]
    },
    {
     "name": "stdout",
     "output_type": "stream",
     "text": [
      "\n",
      "[39  40]  iter: 545   edges: 536   complex: 5.84%"
     ]
    },
    {
     "name": "stdout",
     "output_type": "stream",
     "text": [
      "\n",
      "[9  126]  iter: 546   edges: 537   complex: 5.85%"
     ]
    },
    {
     "name": "stdout",
     "output_type": "stream",
     "text": [
      "\n",
      "[73  96]  iter: 547   edges: 538   complex: 5.86%"
     ]
    },
    {
     "name": "stdout",
     "output_type": "stream",
     "text": [
      "\n",
      "[114  135]  iter: 548   edges: 539   complex: 5.87%"
     ]
    },
    {
     "name": "stdout",
     "output_type": "stream",
     "text": [
      "\n",
      "[127  136]  iter: 549   edges: 540   complex: 5.88%"
     ]
    },
    {
     "name": "stdout",
     "output_type": "stream",
     "text": [
      "\n",
      "[82  109]  iter: 550   edges: 541   complex: 5.89%"
     ]
    },
    {
     "name": "stdout",
     "output_type": "stream",
     "text": [
      "\n",
      "[44  91]  iter: 551   edges: 542   complex: 5.9%"
     ]
    },
    {
     "name": "stdout",
     "output_type": "stream",
     "text": [
      "\n",
      "[22  24]  iter: 552   edges: 543   complex: 5.92%"
     ]
    },
    {
     "name": "stdout",
     "output_type": "stream",
     "text": [
      "\n",
      "[55  124]  iter: 553   edges: 544   complex: 5.93%"
     ]
    },
    {
     "name": "stdout",
     "output_type": "stream",
     "text": [
      "\n",
      "[1  22]  iter: 554   edges: 545   complex: 5.94%"
     ]
    },
    {
     "name": "stdout",
     "output_type": "stream",
     "text": [
      "\n",
      "[46  48]  iter: 555   edges: 546   complex: 5.95%"
     ]
    },
    {
     "name": "stdout",
     "output_type": "stream",
     "text": [
      "   Score = 0.911"
     ]
    },
    {
     "name": "stdout",
     "output_type": "stream",
     "text": [
      "    <E> = 87.18    log(Z) = 4.87   S = 92.05\n",
      "[48  76]  iter: 556   edges: 547   complex: 5.96%"
     ]
    },
    {
     "name": "stdout",
     "output_type": "stream",
     "text": [
      "\n",
      "[125  133]  iter: 557   edges: 548   complex: 5.97%"
     ]
    },
    {
     "name": "stdout",
     "output_type": "stream",
     "text": [
      "\n",
      "[20  26]  iter: 558   edges: 549   complex: 5.98%"
     ]
    },
    {
     "name": "stdout",
     "output_type": "stream",
     "text": [
      "\n",
      "[11  85]  iter: 559   edges: 550   complex: 5.99%"
     ]
    },
    {
     "name": "stdout",
     "output_type": "stream",
     "text": [
      "\n",
      "[24  136]  iter: 560   edges: 551   complex: 6.0%"
     ]
    },
    {
     "name": "stdout",
     "output_type": "stream",
     "text": [
      "\n",
      "[56  80]  iter: 561   edges: 552   complex: 6.01%"
     ]
    },
    {
     "name": "stdout",
     "output_type": "stream",
     "text": [
      "\n",
      "[134  136]  iter: 562   edges: 553   complex: 6.02%"
     ]
    },
    {
     "name": "stdout",
     "output_type": "stream",
     "text": [
      "\n",
      "[7  134]  iter: 563   edges: 554   complex: 6.03%"
     ]
    },
    {
     "name": "stdout",
     "output_type": "stream",
     "text": [
      "\n",
      "[47  75]  iter: 564   edges: 555   complex: 6.05%"
     ]
    },
    {
     "name": "stdout",
     "output_type": "stream",
     "text": [
      "\n",
      "[124  136]  iter: 565   edges: 556   complex: 6.06%"
     ]
    },
    {
     "name": "stdout",
     "output_type": "stream",
     "text": [
      "\n",
      "[50  51]  iter: 566   edges: 557   complex: 6.07%"
     ]
    },
    {
     "name": "stdout",
     "output_type": "stream",
     "text": [
      "\n",
      "[19  64]  iter: 567   edges: 558   complex: 6.08%"
     ]
    },
    {
     "name": "stdout",
     "output_type": "stream",
     "text": [
      "\n",
      "[11  26]  iter: 568   edges: 559   complex: 6.09%"
     ]
    },
    {
     "name": "stdout",
     "output_type": "stream",
     "text": [
      "\n",
      "[47  50]  iter: 569   edges: 560   complex: 6.1%"
     ]
    },
    {
     "name": "stdout",
     "output_type": "stream",
     "text": [
      "\n",
      "[9  46]  iter: 570   edges: 561   complex: 6.11%"
     ]
    },
    {
     "name": "stdout",
     "output_type": "stream",
     "text": [
      "   Score = 0.914"
     ]
    },
    {
     "name": "stdout",
     "output_type": "stream",
     "text": [
      "    <E> = 86.73    log(Z) = 5.0   S = 91.73\n",
      "[43  84]  iter: 571   edges: 562   complex: 6.12%"
     ]
    },
    {
     "name": "stdout",
     "output_type": "stream",
     "text": [
      "\n",
      "[2  6]  iter: 572   edges: 563   complex: 6.13%"
     ]
    },
    {
     "name": "stdout",
     "output_type": "stream",
     "text": [
      "\n",
      "[8  62]  iter: 573   edges: 564   complex: 6.14%"
     ]
    },
    {
     "name": "stdout",
     "output_type": "stream",
     "text": [
      "\n",
      "[55  78]  iter: 574   edges: 565   complex: 6.15%"
     ]
    },
    {
     "name": "stdout",
     "output_type": "stream",
     "text": [
      "\n",
      "[62  103]  iter: 575   edges: 566   complex: 6.17%"
     ]
    },
    {
     "name": "stdout",
     "output_type": "stream",
     "text": [
      "\n",
      "[76  122]  iter: 576   edges: 567   complex: 6.18%"
     ]
    },
    {
     "name": "stdout",
     "output_type": "stream",
     "text": [
      "\n",
      "[5  93]  iter: 577   edges: 568   complex: 6.19%"
     ]
    },
    {
     "name": "stdout",
     "output_type": "stream",
     "text": [
      "\n",
      "[82  135]  iter: 578   edges: 569   complex: 6.2%"
     ]
    },
    {
     "name": "stdout",
     "output_type": "stream",
     "text": [
      "\n",
      "[63  122]  iter: 579   edges: 570   complex: 6.21%"
     ]
    },
    {
     "name": "stdout",
     "output_type": "stream",
     "text": [
      "\n",
      "[89  94]  iter: 580   edges: 571   complex: 6.22%"
     ]
    },
    {
     "name": "stdout",
     "output_type": "stream",
     "text": [
      "\n",
      "[50  82]  iter: 581   edges: 572   complex: 6.23%"
     ]
    },
    {
     "name": "stdout",
     "output_type": "stream",
     "text": [
      "\n",
      "[73  132]  iter: 582   edges: 573   complex: 6.24%"
     ]
    },
    {
     "name": "stdout",
     "output_type": "stream",
     "text": [
      "\n",
      "[84  134]  iter: 583   edges: 574   complex: 6.25%"
     ]
    },
    {
     "name": "stdout",
     "output_type": "stream",
     "text": [
      "\n",
      "[24  125]  iter: 584   edges: 575   complex: 6.26%"
     ]
    },
    {
     "name": "stdout",
     "output_type": "stream",
     "text": [
      "\n",
      "[42  125]  iter: 585   edges: 576   complex: 6.27%"
     ]
    },
    {
     "name": "stdout",
     "output_type": "stream",
     "text": [
      "   Score = 0.914"
     ]
    },
    {
     "name": "stdout",
     "output_type": "stream",
     "text": [
      "    <E> = 86.61    log(Z) = 5.1   S = 91.71\n",
      "[8  49]  iter: 586   edges: 577   complex: 6.29%"
     ]
    },
    {
     "name": "stdout",
     "output_type": "stream",
     "text": [
      "\n",
      "[90  93]  iter: 587   edges: 578   complex: 6.3%"
     ]
    },
    {
     "name": "stdout",
     "output_type": "stream",
     "text": [
      "\n",
      "[75  92]  iter: 588   edges: 579   complex: 6.31%"
     ]
    },
    {
     "name": "stdout",
     "output_type": "stream",
     "text": [
      "\n",
      "[81  94]  iter: 589   edges: 580   complex: 6.32%"
     ]
    },
    {
     "name": "stdout",
     "output_type": "stream",
     "text": [
      "\n",
      "[7  69]  iter: 590   edges: 581   complex: 6.33%"
     ]
    },
    {
     "name": "stdout",
     "output_type": "stream",
     "text": [
      "\n",
      "[48  73]  iter: 591   edges: 582   complex: 6.34%"
     ]
    },
    {
     "name": "stdout",
     "output_type": "stream",
     "text": [
      "\n",
      "[21  92]  iter: 592   edges: 583   complex: 6.35%"
     ]
    },
    {
     "name": "stdout",
     "output_type": "stream",
     "text": [
      "\n",
      "[94  122]  iter: 593   edges: 584   complex: 6.36%"
     ]
    },
    {
     "name": "stdout",
     "output_type": "stream",
     "text": [
      "\n",
      "[123  132]  iter: 594   edges: 585   complex: 6.37%"
     ]
    },
    {
     "name": "stdout",
     "output_type": "stream",
     "text": [
      "\n",
      "[69  91]  iter: 595   edges: 586   complex: 6.38%"
     ]
    },
    {
     "name": "stdout",
     "output_type": "stream",
     "text": [
      "\n",
      "[84  129]  iter: 596   edges: 587   complex: 6.39%"
     ]
    },
    {
     "name": "stdout",
     "output_type": "stream",
     "text": [
      "\n",
      "[27  92]  iter: 597   edges: 588   complex: 6.41%"
     ]
    },
    {
     "name": "stdout",
     "output_type": "stream",
     "text": [
      "\n",
      "[23  50]  iter: 598   edges: 589   complex: 6.42%"
     ]
    },
    {
     "name": "stdout",
     "output_type": "stream",
     "text": [
      "\n",
      "[61  116]  iter: 599   edges: 590   complex: 6.43%"
     ]
    },
    {
     "name": "stdout",
     "output_type": "stream",
     "text": [
      "\n",
      "[3  13]  iter: 600   edges: 591   complex: 6.44%"
     ]
    },
    {
     "name": "stdout",
     "output_type": "stream",
     "text": [
      "   Score = 0.916"
     ]
    },
    {
     "name": "stdout",
     "output_type": "stream",
     "text": [
      "    <E> = 85.99    log(Z) = 5.23   S = 91.22\n",
      "[3  5]  iter: 601   edges: 592   complex: 6.45%"
     ]
    },
    {
     "name": "stdout",
     "output_type": "stream",
     "text": [
      "\n",
      "[8  121]  iter: 602   edges: 593   complex: 6.46%"
     ]
    },
    {
     "name": "stdout",
     "output_type": "stream",
     "text": [
      "\n",
      "[23  60]  iter: 603   edges: 594   complex: 6.47%"
     ]
    },
    {
     "name": "stdout",
     "output_type": "stream",
     "text": [
      "\n",
      "[63  73]  iter: 604   edges: 594   complex: 6.47%"
     ]
    },
    {
     "name": "stdout",
     "output_type": "stream",
     "text": [
      "\n",
      "[62  87]  iter: 605   edges: 595   complex: 6.48%"
     ]
    },
    {
     "name": "stdout",
     "output_type": "stream",
     "text": [
      "\n",
      "[15  46]  iter: 606   edges: 596   complex: 6.49%"
     ]
    },
    {
     "name": "stdout",
     "output_type": "stream",
     "text": [
      "\n",
      "[17  22]  iter: 607   edges: 597   complex: 6.5%"
     ]
    },
    {
     "name": "stdout",
     "output_type": "stream",
     "text": [
      "\n",
      "[69  70]  iter: 608   edges: 597   complex: 6.5%"
     ]
    },
    {
     "name": "stdout",
     "output_type": "stream",
     "text": [
      "\n",
      "[126  134]  iter: 609   edges: 598   complex: 6.51%"
     ]
    },
    {
     "name": "stdout",
     "output_type": "stream",
     "text": [
      "\n",
      "[74  82]  iter: 610   edges: 599   complex: 6.53%"
     ]
    },
    {
     "name": "stdout",
     "output_type": "stream",
     "text": [
      "\n",
      "[49  69]  iter: 611   edges: 600   complex: 6.54%"
     ]
    },
    {
     "name": "stdout",
     "output_type": "stream",
     "text": [
      "\n",
      "[124  126]  iter: 612   edges: 601   complex: 6.55%"
     ]
    },
    {
     "name": "stdout",
     "output_type": "stream",
     "text": [
      "\n",
      "[67  114]  iter: 613   edges: 602   complex: 6.56%"
     ]
    },
    {
     "name": "stdout",
     "output_type": "stream",
     "text": [
      "\n",
      "[45  46]  iter: 614   edges: 602   complex: 6.56%"
     ]
    },
    {
     "name": "stdout",
     "output_type": "stream",
     "text": [
      "\n",
      "[76  133]  iter: 615   edges: 603   complex: 6.57%"
     ]
    },
    {
     "name": "stdout",
     "output_type": "stream",
     "text": [
      "   Score = 0.917"
     ]
    },
    {
     "name": "stdout",
     "output_type": "stream",
     "text": [
      "    <E> = 85.86    log(Z) = 5.36   S = 91.22\n",
      "[125  128]  iter: 616   edges: 604   complex: 6.58%"
     ]
    },
    {
     "name": "stdout",
     "output_type": "stream",
     "text": [
      "\n",
      "[64  83]  iter: 617   edges: 605   complex: 6.59%"
     ]
    },
    {
     "name": "stdout",
     "output_type": "stream",
     "text": [
      "\n",
      "[26  30]  iter: 618   edges: 606   complex: 6.6%"
     ]
    },
    {
     "name": "stdout",
     "output_type": "stream",
     "text": [
      "\n",
      "[91  98]  iter: 619   edges: 607   complex: 6.61%"
     ]
    },
    {
     "name": "stdout",
     "output_type": "stream",
     "text": [
      "\n",
      "[38  45]  iter: 620   edges: 608   complex: 6.62%"
     ]
    },
    {
     "name": "stdout",
     "output_type": "stream",
     "text": [
      "\n",
      "[99  116]  iter: 621   edges: 609   complex: 6.63%"
     ]
    },
    {
     "name": "stdout",
     "output_type": "stream",
     "text": [
      "\n",
      "[107  109]  iter: 622   edges: 610   complex: 6.64%"
     ]
    },
    {
     "name": "stdout",
     "output_type": "stream",
     "text": [
      "\n",
      "[65  91]  iter: 623   edges: 611   complex: 6.66%"
     ]
    },
    {
     "name": "stdout",
     "output_type": "stream",
     "text": [
      "\n",
      "[21  88]  iter: 624   edges: 612   complex: 6.67%"
     ]
    },
    {
     "name": "stdout",
     "output_type": "stream",
     "text": [
      "\n",
      "[64  87]  iter: 625   edges: 613   complex: 6.68%"
     ]
    },
    {
     "name": "stdout",
     "output_type": "stream",
     "text": [
      "\n",
      "[73  116]  iter: 626   edges: 614   complex: 6.69%"
     ]
    },
    {
     "name": "stdout",
     "output_type": "stream",
     "text": [
      "\n",
      "[7  14]  iter: 627   edges: 615   complex: 6.7%"
     ]
    },
    {
     "name": "stdout",
     "output_type": "stream",
     "text": [
      "\n",
      "[48  86]  iter: 628   edges: 616   complex: 6.71%"
     ]
    },
    {
     "name": "stdout",
     "output_type": "stream",
     "text": [
      "\n",
      "[26  44]  iter: 629   edges: 617   complex: 6.72%"
     ]
    },
    {
     "name": "stdout",
     "output_type": "stream",
     "text": [
      "\n",
      "[81  88]  iter: 630   edges: 618   complex: 6.73%"
     ]
    },
    {
     "name": "stdout",
     "output_type": "stream",
     "text": [
      "   Score = 0.917"
     ]
    },
    {
     "name": "stdout",
     "output_type": "stream",
     "text": [
      "    <E> = 85.63    log(Z) = 5.49   S = 91.11\n",
      "[83  87]  iter: 631   edges: 619   complex: 6.74%"
     ]
    },
    {
     "name": "stdout",
     "output_type": "stream",
     "text": [
      "\n",
      "[3  72]  iter: 632   edges: 620   complex: 6.75%"
     ]
    },
    {
     "name": "stdout",
     "output_type": "stream",
     "text": [
      "\n",
      "[133  136]  iter: 633   edges: 621   complex: 6.76%"
     ]
    },
    {
     "name": "stdout",
     "output_type": "stream",
     "text": [
      "\n",
      "[71  72]  iter: 634   edges: 622   complex: 6.78%"
     ]
    },
    {
     "name": "stdout",
     "output_type": "stream",
     "text": [
      "\n",
      "[83  133]  iter: 635   edges: 623   complex: 6.79%"
     ]
    },
    {
     "name": "stdout",
     "output_type": "stream",
     "text": [
      "\n",
      "[7  22]  iter: 636   edges: 624   complex: 6.8%"
     ]
    },
    {
     "name": "stdout",
     "output_type": "stream",
     "text": [
      "\n",
      "[61  90]  iter: 637   edges: 625   complex: 6.81%"
     ]
    },
    {
     "name": "stdout",
     "output_type": "stream",
     "text": [
      "\n",
      "[29  30]  iter: 638   edges: 626   complex: 6.82%"
     ]
    },
    {
     "name": "stdout",
     "output_type": "stream",
     "text": [
      "\n",
      "[26  77]  iter: 639   edges: 627   complex: 6.83%"
     ]
    },
    {
     "name": "stdout",
     "output_type": "stream",
     "text": [
      "\n",
      "[8  124]  iter: 640   edges: 628   complex: 6.84%"
     ]
    },
    {
     "name": "stdout",
     "output_type": "stream",
     "text": [
      "\n",
      "[130  133]  iter: 641   edges: 629   complex: 6.85%"
     ]
    },
    {
     "name": "stdout",
     "output_type": "stream",
     "text": [
      "\n",
      "[46  69]  iter: 642   edges: 630   complex: 6.86%"
     ]
    },
    {
     "name": "stdout",
     "output_type": "stream",
     "text": [
      "\n",
      "[34  116]  iter: 643   edges: 631   complex: 6.87%"
     ]
    },
    {
     "name": "stdout",
     "output_type": "stream",
     "text": [
      "\n",
      "[82  117]  iter: 644   edges: 632   complex: 6.88%"
     ]
    },
    {
     "name": "stdout",
     "output_type": "stream",
     "text": [
      "\n",
      "[18  89]  iter: 645   edges: 633   complex: 6.9%"
     ]
    },
    {
     "name": "stdout",
     "output_type": "stream",
     "text": [
      "   Score = 0.919"
     ]
    },
    {
     "name": "stdout",
     "output_type": "stream",
     "text": [
      "    <E> = 85.37    log(Z) = 5.62   S = 90.98\n",
      "[88  89]  iter: 646   edges: 633   complex: 6.9%"
     ]
    },
    {
     "name": "stdout",
     "output_type": "stream",
     "text": [
      "\n",
      "[21  26]  iter: 647   edges: 633   complex: 6.9%"
     ]
    },
    {
     "name": "stdout",
     "output_type": "stream",
     "text": [
      "\n",
      "[89  109]  iter: 648   edges: 634   complex: 6.91%"
     ]
    },
    {
     "name": "stdout",
     "output_type": "stream",
     "text": [
      "\n",
      "[87  92]  iter: 649   edges: 635   complex: 6.92%"
     ]
    },
    {
     "name": "stdout",
     "output_type": "stream",
     "text": [
      "\n",
      "[81  133]  iter: 650   edges: 636   complex: 6.93%"
     ]
    },
    {
     "name": "stdout",
     "output_type": "stream",
     "text": [
      "\n",
      "[46  133]  iter: 651   edges: 637   complex: 6.94%"
     ]
    },
    {
     "name": "stdout",
     "output_type": "stream",
     "text": [
      "\n",
      "[87  127]  iter: 652   edges: 638   complex: 6.95%"
     ]
    },
    {
     "name": "stdout",
     "output_type": "stream",
     "text": [
      "\n",
      "[89  132]  iter: 653   edges: 639   complex: 6.96%"
     ]
    },
    {
     "name": "stdout",
     "output_type": "stream",
     "text": [
      "\n",
      "[66  73]  iter: 654   edges: 640   complex: 6.97%"
     ]
    },
    {
     "name": "stdout",
     "output_type": "stream",
     "text": [
      "\n",
      "[11  87]  iter: 655   edges: 641   complex: 6.98%"
     ]
    },
    {
     "name": "stdout",
     "output_type": "stream",
     "text": [
      "\n",
      "[24  133]  iter: 656   edges: 642   complex: 6.99%"
     ]
    },
    {
     "name": "stdout",
     "output_type": "stream",
     "text": [
      "\n",
      "[106  112]  iter: 657   edges: 643   complex: 7.0%"
     ]
    },
    {
     "name": "stdout",
     "output_type": "stream",
     "text": [
      "\n",
      "[22  61]  iter: 658   edges: 644   complex: 7.02%"
     ]
    },
    {
     "name": "stdout",
     "output_type": "stream",
     "text": [
      "\n",
      "[126  131]  iter: 659   edges: 645   complex: 7.03%"
     ]
    },
    {
     "name": "stdout",
     "output_type": "stream",
     "text": [
      "\n",
      "[2  11]  iter: 660   edges: 646   complex: 7.04%"
     ]
    },
    {
     "name": "stdout",
     "output_type": "stream",
     "text": [
      "   Score = 0.919"
     ]
    },
    {
     "name": "stdout",
     "output_type": "stream",
     "text": [
      "    <E> = 84.97    log(Z) = 5.77   S = 90.74\n",
      "[22  126]  iter: 661   edges: 647   complex: 7.05%"
     ]
    },
    {
     "name": "stdout",
     "output_type": "stream",
     "text": [
      "\n",
      "[62  129]  iter: 662   edges: 648   complex: 7.06%"
     ]
    },
    {
     "name": "stdout",
     "output_type": "stream",
     "text": [
      "\n",
      "[49  64]  iter: 663   edges: 649   complex: 7.07%"
     ]
    },
    {
     "name": "stdout",
     "output_type": "stream",
     "text": [
      "\n",
      "[63  70]  iter: 664   edges: 650   complex: 7.08%"
     ]
    },
    {
     "name": "stdout",
     "output_type": "stream",
     "text": [
      "\n",
      "[5  46]  iter: 665   edges: 651   complex: 7.09%"
     ]
    },
    {
     "name": "stdout",
     "output_type": "stream",
     "text": [
      "\n",
      "[83  135]  iter: 666   edges: 652   complex: 7.1%"
     ]
    },
    {
     "name": "stdout",
     "output_type": "stream",
     "text": [
      "\n",
      "[67  122]  iter: 667   edges: 653   complex: 7.11%"
     ]
    },
    {
     "name": "stdout",
     "output_type": "stream",
     "text": [
      "\n",
      "[85  125]  iter: 668   edges: 654   complex: 7.12%"
     ]
    },
    {
     "name": "stdout",
     "output_type": "stream",
     "text": [
      "\n",
      "[61  93]  iter: 669   edges: 655   complex: 7.14%"
     ]
    },
    {
     "name": "stdout",
     "output_type": "stream",
     "text": [
      "\n",
      "[20  90]  iter: 670   edges: 656   complex: 7.15%"
     ]
    },
    {
     "name": "stdout",
     "output_type": "stream",
     "text": [
      "\n",
      "[24  68]  iter: 671   edges: 657   complex: 7.16%"
     ]
    },
    {
     "name": "stdout",
     "output_type": "stream",
     "text": [
      "\n",
      "[39  86]  iter: 672   edges: 658   complex: 7.17%"
     ]
    },
    {
     "name": "stdout",
     "output_type": "stream",
     "text": [
      "\n",
      "[7  132]  iter: 673   edges: 659   complex: 7.18%"
     ]
    },
    {
     "name": "stdout",
     "output_type": "stream",
     "text": [
      "\n",
      "[126  136]  iter: 674   edges: 660   complex: 7.19%"
     ]
    },
    {
     "name": "stdout",
     "output_type": "stream",
     "text": [
      "\n",
      "[82  133]  iter: 675   edges: 661   complex: 7.2%"
     ]
    },
    {
     "name": "stdout",
     "output_type": "stream",
     "text": [
      "   Score = 0.92"
     ]
    },
    {
     "name": "stdout",
     "output_type": "stream",
     "text": [
      "    <E> = 84.76    log(Z) = 5.92   S = 90.68\n",
      "[9  134]  iter: 676   edges: 662   complex: 7.21%"
     ]
    },
    {
     "name": "stdout",
     "output_type": "stream",
     "text": [
      "\n",
      "[81  127]  iter: 677   edges: 663   complex: 7.22%"
     ]
    },
    {
     "name": "stdout",
     "output_type": "stream",
     "text": [
      "\n",
      "[24  46]  iter: 678   edges: 664   complex: 7.23%"
     ]
    },
    {
     "name": "stdout",
     "output_type": "stream",
     "text": [
      "\n",
      "[35  89]  iter: 679   edges: 665   complex: 7.24%"
     ]
    },
    {
     "name": "stdout",
     "output_type": "stream",
     "text": [
      "\n",
      "[64  134]  iter: 680   edges: 666   complex: 7.25%"
     ]
    },
    {
     "name": "stdout",
     "output_type": "stream",
     "text": [
      "\n",
      "[9  27]  iter: 681   edges: 667   complex: 7.27%"
     ]
    },
    {
     "name": "stdout",
     "output_type": "stream",
     "text": [
      "\n",
      "[27  64]  iter: 682   edges: 668   complex: 7.28%"
     ]
    },
    {
     "name": "stdout",
     "output_type": "stream",
     "text": [
      "\n",
      "[8  21]  iter: 683   edges: 669   complex: 7.29%"
     ]
    },
    {
     "name": "stdout",
     "output_type": "stream",
     "text": [
      "\n",
      "[6  82]  iter: 684   edges: 670   complex: 7.3%"
     ]
    },
    {
     "name": "stdout",
     "output_type": "stream",
     "text": [
      "\n",
      "[11  66]  iter: 685   edges: 671   complex: 7.31%"
     ]
    },
    {
     "name": "stdout",
     "output_type": "stream",
     "text": [
      "\n",
      "[27  50]  iter: 686   edges: 672   complex: 7.32%"
     ]
    },
    {
     "name": "stdout",
     "output_type": "stream",
     "text": [
      "\n",
      "[44  66]  iter: 687   edges: 673   complex: 7.33%"
     ]
    },
    {
     "name": "stdout",
     "output_type": "stream",
     "text": [
      "\n",
      "[121  127]  iter: 688   edges: 674   complex: 7.34%"
     ]
    },
    {
     "name": "stdout",
     "output_type": "stream",
     "text": [
      "\n",
      "[89  90]  iter: 689   edges: 674   complex: 7.34%"
     ]
    },
    {
     "name": "stdout",
     "output_type": "stream",
     "text": [
      "\n",
      "[12  17]  iter: 690   edges: 675   complex: 7.35%"
     ]
    },
    {
     "name": "stdout",
     "output_type": "stream",
     "text": [
      "   Score = 0.922"
     ]
    },
    {
     "name": "stdout",
     "output_type": "stream",
     "text": [
      "    <E> = 84.48    log(Z) = 6.06   S = 90.54\n",
      "[123  124]  iter: 691   edges: 675   complex: 7.35%"
     ]
    },
    {
     "name": "stdout",
     "output_type": "stream",
     "text": [
      "\n",
      "[65  67]  iter: 692   edges: 676   complex: 7.36%"
     ]
    },
    {
     "name": "stdout",
     "output_type": "stream",
     "text": [
      "\n",
      "[43  123]  iter: 693   edges: 677   complex: 7.37%"
     ]
    },
    {
     "name": "stdout",
     "output_type": "stream",
     "text": [
      "\n",
      "[46  61]  iter: 694   edges: 678   complex: 7.39%"
     ]
    },
    {
     "name": "stdout",
     "output_type": "stream",
     "text": [
      "\n",
      "[64  72]  iter: 695   edges: 679   complex: 7.4%"
     ]
    },
    {
     "name": "stdout",
     "output_type": "stream",
     "text": [
      "\n",
      "[19  68]  iter: 696   edges: 680   complex: 7.41%"
     ]
    },
    {
     "name": "stdout",
     "output_type": "stream",
     "text": [
      "\n",
      "[65  123]  iter: 697   edges: 681   complex: 7.42%"
     ]
    },
    {
     "name": "stdout",
     "output_type": "stream",
     "text": [
      "\n",
      "[43  109]  iter: 698   edges: 682   complex: 7.43%"
     ]
    },
    {
     "name": "stdout",
     "output_type": "stream",
     "text": [
      "\n",
      "[80  89]  iter: 699   edges: 683   complex: 7.44%"
     ]
    },
    {
     "name": "stdout",
     "output_type": "stream",
     "text": [
      "\n",
      "[6  22]  iter: 700   edges: 684   complex: 7.45%"
     ]
    },
    {
     "name": "stdout",
     "output_type": "stream",
     "text": [
      "\n",
      "[42  43]  iter: 701   edges: 684   complex: 7.45%"
     ]
    },
    {
     "name": "stdout",
     "output_type": "stream",
     "text": [
      "\n",
      "[84  136]  iter: 702   edges: 685   complex: 7.46%"
     ]
    },
    {
     "name": "stdout",
     "output_type": "stream",
     "text": [
      "\n",
      "[46  88]  iter: 703   edges: 686   complex: 7.47%"
     ]
    },
    {
     "name": "stdout",
     "output_type": "stream",
     "text": [
      "\n",
      "[45  89]  iter: 704   edges: 687   complex: 7.48%"
     ]
    },
    {
     "name": "stdout",
     "output_type": "stream",
     "text": [
      "\n",
      "[3  84]  iter: 705   edges: 688   complex: 7.49%"
     ]
    },
    {
     "name": "stdout",
     "output_type": "stream",
     "text": [
      "   Score = 0.922"
     ]
    },
    {
     "name": "stdout",
     "output_type": "stream",
     "text": [
      "    <E> = 84.03    log(Z) = 6.21   S = 90.24\n",
      "[7  46]  iter: 706   edges: 689   complex: 7.51%"
     ]
    },
    {
     "name": "stdout",
     "output_type": "stream",
     "text": [
      "\n",
      "[7  42]  iter: 707   edges: 690   complex: 7.52%"
     ]
    },
    {
     "name": "stdout",
     "output_type": "stream",
     "text": [
      "\n",
      "[10  96]  iter: 708   edges: 691   complex: 7.53%"
     ]
    },
    {
     "name": "stdout",
     "output_type": "stream",
     "text": [
      "\n",
      "[44  71]  iter: 709   edges: 692   complex: 7.54%"
     ]
    },
    {
     "name": "stdout",
     "output_type": "stream",
     "text": [
      "\n",
      "[86  118]  iter: 710   edges: 693   complex: 7.55%"
     ]
    },
    {
     "name": "stdout",
     "output_type": "stream",
     "text": [
      "\n",
      "[65  69]  iter: 711   edges: 694   complex: 7.56%"
     ]
    },
    {
     "name": "stdout",
     "output_type": "stream",
     "text": [
      "\n",
      "[29  43]  iter: 712   edges: 695   complex: 7.57%"
     ]
    },
    {
     "name": "stdout",
     "output_type": "stream",
     "text": [
      "\n",
      "[10  89]  iter: 713   edges: 695   complex: 7.57%"
     ]
    },
    {
     "name": "stdout",
     "output_type": "stream",
     "text": [
      "\n",
      "[90  96]  iter: 714   edges: 696   complex: 7.58%"
     ]
    },
    {
     "name": "stdout",
     "output_type": "stream",
     "text": [
      "\n",
      "[22  46]  iter: 715   edges: 697   complex: 7.59%"
     ]
    },
    {
     "name": "stdout",
     "output_type": "stream",
     "text": [
      "\n",
      "[7  38]  iter: 716   edges: 698   complex: 7.6%"
     ]
    },
    {
     "name": "stdout",
     "output_type": "stream",
     "text": [
      "\n",
      "[62  64]  iter: 717   edges: 699   complex: 7.61%"
     ]
    },
    {
     "name": "stdout",
     "output_type": "stream",
     "text": [
      "\n",
      "[15  123]  iter: 718   edges: 700   complex: 7.63%"
     ]
    },
    {
     "name": "stdout",
     "output_type": "stream",
     "text": [
      "\n",
      "[2  133]  iter: 719   edges: 701   complex: 7.64%"
     ]
    },
    {
     "name": "stdout",
     "output_type": "stream",
     "text": [
      "\n",
      "[43  133]  iter: 720   edges: 702   complex: 7.65%"
     ]
    },
    {
     "name": "stdout",
     "output_type": "stream",
     "text": [
      "   Score = 0.924"
     ]
    },
    {
     "name": "stdout",
     "output_type": "stream",
     "text": [
      "    <E> = 83.97    log(Z) = 6.34   S = 90.31\n",
      "[45  125]  iter: 721   edges: 703   complex: 7.66%"
     ]
    },
    {
     "name": "stdout",
     "output_type": "stream",
     "text": [
      "\n",
      "[125  134]  iter: 722   edges: 704   complex: 7.67%"
     ]
    },
    {
     "name": "stdout",
     "output_type": "stream",
     "text": [
      "\n",
      "[46  130]  iter: 723   edges: 705   complex: 7.68%"
     ]
    },
    {
     "name": "stdout",
     "output_type": "stream",
     "text": [
      "\n",
      "[10  91]  iter: 724   edges: 706   complex: 7.69%"
     ]
    },
    {
     "name": "stdout",
     "output_type": "stream",
     "text": [
      "\n",
      "[45  49]  iter: 725   edges: 707   complex: 7.7%"
     ]
    },
    {
     "name": "stdout",
     "output_type": "stream",
     "text": [
      "\n",
      "[5  8]  iter: 726   edges: 708   complex: 7.71%"
     ]
    },
    {
     "name": "stdout",
     "output_type": "stream",
     "text": [
      "\n",
      "[69  83]  iter: 727   edges: 709   complex: 7.72%"
     ]
    },
    {
     "name": "stdout",
     "output_type": "stream",
     "text": [
      "\n",
      "[10  43]  iter: 728   edges: 710   complex: 7.73%"
     ]
    },
    {
     "name": "stdout",
     "output_type": "stream",
     "text": [
      "\n",
      "[10  92]  iter: 729   edges: 711   complex: 7.75%"
     ]
    },
    {
     "name": "stdout",
     "output_type": "stream",
     "text": [
      "\n",
      "[49  123]  iter: 730   edges: 712   complex: 7.76%"
     ]
    },
    {
     "name": "stdout",
     "output_type": "stream",
     "text": [
      "\n",
      "[123  136]  iter: 731   edges: 713   complex: 7.77%"
     ]
    },
    {
     "name": "stdout",
     "output_type": "stream",
     "text": [
      "\n",
      "[22  129]  iter: 732   edges: 714   complex: 7.78%"
     ]
    },
    {
     "name": "stdout",
     "output_type": "stream",
     "text": [
      "\n",
      "[42  124]  iter: 733   edges: 715   complex: 7.79%"
     ]
    },
    {
     "name": "stdout",
     "output_type": "stream",
     "text": [
      "\n",
      "[26  83]  iter: 734   edges: 716   complex: 7.8%"
     ]
    },
    {
     "name": "stdout",
     "output_type": "stream",
     "text": [
      "\n",
      "[17  43]  iter: 735   edges: 717   complex: 7.81%"
     ]
    },
    {
     "name": "stdout",
     "output_type": "stream",
     "text": [
      "   Score = 0.925"
     ]
    },
    {
     "name": "stdout",
     "output_type": "stream",
     "text": [
      "    <E> = 83.6    log(Z) = 6.5   S = 90.11\n",
      "[47  123]  iter: 736   edges: 718   complex: 7.82%"
     ]
    },
    {
     "name": "stdout",
     "output_type": "stream",
     "text": [
      "\n",
      "[42  64]  iter: 737   edges: 719   complex: 7.83%"
     ]
    },
    {
     "name": "stdout",
     "output_type": "stream",
     "text": [
      "\n",
      "[84  87]  iter: 738   edges: 720   complex: 7.84%"
     ]
    },
    {
     "name": "stdout",
     "output_type": "stream",
     "text": [
      "\n",
      "[82  87]  iter: 739   edges: 721   complex: 7.85%"
     ]
    },
    {
     "name": "stdout",
     "output_type": "stream",
     "text": [
      "\n",
      "[90  126]  iter: 740   edges: 722   complex: 7.86%"
     ]
    },
    {
     "name": "stdout",
     "output_type": "stream",
     "text": [
      "\n",
      "[128  135]  iter: 741   edges: 723   complex: 7.88%"
     ]
    },
    {
     "name": "stdout",
     "output_type": "stream",
     "text": [
      "\n",
      "[91  92]  iter: 742   edges: 723   complex: 7.88%"
     ]
    },
    {
     "name": "stdout",
     "output_type": "stream",
     "text": [
      "\n",
      "[48  122]  iter: 743   edges: 724   complex: 7.89%"
     ]
    },
    {
     "name": "stdout",
     "output_type": "stream",
     "text": [
      "\n",
      "[91  122]  iter: 744   edges: 725   complex: 7.9%"
     ]
    },
    {
     "name": "stdout",
     "output_type": "stream",
     "text": [
      "\n",
      "[20  91]  iter: 745   edges: 726   complex: 7.91%"
     ]
    },
    {
     "name": "stdout",
     "output_type": "stream",
     "text": [
      "\n",
      "[17  26]  iter: 746   edges: 727   complex: 7.92%"
     ]
    },
    {
     "name": "stdout",
     "output_type": "stream",
     "text": [
      "\n",
      "[6  81]  iter: 747   edges: 728   complex: 7.93%"
     ]
    },
    {
     "name": "stdout",
     "output_type": "stream",
     "text": [
      "\n",
      "[123  130]  iter: 748   edges: 729   complex: 7.94%"
     ]
    },
    {
     "name": "stdout",
     "output_type": "stream",
     "text": [
      "\n",
      "[12  130]  iter: 749   edges: 730   complex: 7.95%"
     ]
    },
    {
     "name": "stdout",
     "output_type": "stream",
     "text": [
      "\n",
      "[11  123]  iter: 750   edges: 731   complex: 7.96%"
     ]
    },
    {
     "name": "stdout",
     "output_type": "stream",
     "text": [
      "   Score = 0.926"
     ]
    },
    {
     "name": "stdout",
     "output_type": "stream",
     "text": [
      "    <E> = 83.2    log(Z) = 6.64   S = 89.84\n",
      "[46  116]  iter: 751   edges: 732   complex: 7.97%"
     ]
    },
    {
     "name": "stdout",
     "output_type": "stream",
     "text": [
      "\n",
      "[38  39]  iter: 752   edges: 732   complex: 7.97%"
     ]
    },
    {
     "name": "stdout",
     "output_type": "stream",
     "text": [
      "\n",
      "[45  59]  iter: 753   edges: 732   complex: 7.97%"
     ]
    },
    {
     "name": "stdout",
     "output_type": "stream",
     "text": [
      "\n",
      "[15  121]  iter: 754   edges: 733   complex: 7.98%"
     ]
    },
    {
     "name": "stdout",
     "output_type": "stream",
     "text": [
      "\n",
      "[61  122]  iter: 755   edges: 734   complex: 8.0%"
     ]
    },
    {
     "name": "stdout",
     "output_type": "stream",
     "text": [
      "\n",
      "[84  121]  iter: 756   edges: 735   complex: 8.01%"
     ]
    },
    {
     "name": "stdout",
     "output_type": "stream",
     "text": [
      "\n",
      "[17  30]  iter: 757   edges: 736   complex: 8.02%"
     ]
    },
    {
     "name": "stdout",
     "output_type": "stream",
     "text": [
      "\n",
      "[7  81]  iter: 758   edges: 737   complex: 8.03%"
     ]
    },
    {
     "name": "stdout",
     "output_type": "stream",
     "text": [
      "\n",
      "[6  70]  iter: 759   edges: 738   complex: 8.04%"
     ]
    },
    {
     "name": "stdout",
     "output_type": "stream",
     "text": [
      "\n",
      "[2  70]  iter: 760   edges: 739   complex: 8.05%"
     ]
    },
    {
     "name": "stdout",
     "output_type": "stream",
     "text": [
      "\n",
      "[19  26]  iter: 761   edges: 740   complex: 8.06%"
     ]
    },
    {
     "name": "stdout",
     "output_type": "stream",
     "text": [
      "\n",
      "[62  123]  iter: 762   edges: 740   complex: 8.06%"
     ]
    },
    {
     "name": "stdout",
     "output_type": "stream",
     "text": [
      "\n",
      "[23  89]  iter: 763   edges: 741   complex: 8.07%"
     ]
    },
    {
     "name": "stdout",
     "output_type": "stream",
     "text": [
      "\n",
      "[42  121]  iter: 764   edges: 742   complex: 8.08%"
     ]
    },
    {
     "name": "stdout",
     "output_type": "stream",
     "text": [
      "\n",
      "[72  99]  iter: 765   edges: 743   complex: 8.09%"
     ]
    },
    {
     "name": "stdout",
     "output_type": "stream",
     "text": [
      "   Score = 0.925"
     ]
    },
    {
     "name": "stdout",
     "output_type": "stream",
     "text": [
      "    <E> = 83.1    log(Z) = 6.79   S = 89.89\n",
      "[131  134]  iter: 766   edges: 744   complex: 8.1%"
     ]
    },
    {
     "name": "stdout",
     "output_type": "stream",
     "text": [
      "\n",
      "[89  122]  iter: 767   edges: 745   complex: 8.12%"
     ]
    },
    {
     "name": "stdout",
     "output_type": "stream",
     "text": [
      "\n",
      "[73  130]  iter: 768   edges: 746   complex: 8.13%"
     ]
    },
    {
     "name": "stdout",
     "output_type": "stream",
     "text": [
      "\n",
      "[91  136]  iter: 769   edges: 747   complex: 8.14%"
     ]
    },
    {
     "name": "stdout",
     "output_type": "stream",
     "text": [
      "\n",
      "[69  124]  iter: 770   edges: 748   complex: 8.15%"
     ]
    },
    {
     "name": "stdout",
     "output_type": "stream",
     "text": [
      "\n",
      "[22  84]  iter: 771   edges: 749   complex: 8.16%"
     ]
    },
    {
     "name": "stdout",
     "output_type": "stream",
     "text": [
      "\n",
      "[81  82]  iter: 772   edges: 750   complex: 8.17%"
     ]
    },
    {
     "name": "stdout",
     "output_type": "stream",
     "text": [
      "\n",
      "[48  49]  iter: 773   edges: 750   complex: 8.17%"
     ]
    },
    {
     "name": "stdout",
     "output_type": "stream",
     "text": [
      "\n",
      "[69  132]  iter: 774   edges: 751   complex: 8.18%"
     ]
    },
    {
     "name": "stdout",
     "output_type": "stream",
     "text": [
      "\n",
      "[121  130]  iter: 775   edges: 752   complex: 8.19%"
     ]
    },
    {
     "name": "stdout",
     "output_type": "stream",
     "text": [
      "\n",
      "[4  18]  iter: 776   edges: 753   complex: 8.2%"
     ]
    },
    {
     "name": "stdout",
     "output_type": "stream",
     "text": [
      "\n",
      "[45  73]  iter: 777   edges: 754   complex: 8.21%"
     ]
    },
    {
     "name": "stdout",
     "output_type": "stream",
     "text": [
      "\n",
      "[109  112]  iter: 778   edges: 755   complex: 8.22%"
     ]
    },
    {
     "name": "stdout",
     "output_type": "stream",
     "text": [
      "\n",
      "[66  67]  iter: 779   edges: 755   complex: 8.22%"
     ]
    },
    {
     "name": "stdout",
     "output_type": "stream",
     "text": [
      "\n",
      "[76  112]  iter: 780   edges: 756   complex: 8.24%"
     ]
    },
    {
     "name": "stdout",
     "output_type": "stream",
     "text": [
      "   Score = 0.926"
     ]
    },
    {
     "name": "stdout",
     "output_type": "stream",
     "text": [
      "    <E> = 82.72    log(Z) = 6.97   S = 89.69\n",
      "[45  67]  iter: 781   edges: 757   complex: 8.25%"
     ]
    },
    {
     "name": "stdout",
     "output_type": "stream",
     "text": [
      "\n",
      "[116  117]  iter: 782   edges: 758   complex: 8.26%"
     ]
    },
    {
     "name": "stdout",
     "output_type": "stream",
     "text": [
      "\n",
      "[20  134]  iter: 783   edges: 759   complex: 8.27%"
     ]
    },
    {
     "name": "stdout",
     "output_type": "stream",
     "text": [
      "\n",
      "[43  82]  iter: 784   edges: 760   complex: 8.28%"
     ]
    },
    {
     "name": "stdout",
     "output_type": "stream",
     "text": [
      "\n",
      "[72  73]  iter: 785   edges: 761   complex: 8.29%"
     ]
    },
    {
     "name": "stdout",
     "output_type": "stream",
     "text": [
      "\n",
      "[26  67]  iter: 786   edges: 762   complex: 8.3%"
     ]
    },
    {
     "name": "stdout",
     "output_type": "stream",
     "text": [
      "\n",
      "[29  80]  iter: 787   edges: 763   complex: 8.31%"
     ]
    },
    {
     "name": "stdout",
     "output_type": "stream",
     "text": [
      "\n",
      "[9  136]  iter: 788   edges: 764   complex: 8.32%"
     ]
    },
    {
     "name": "stdout",
     "output_type": "stream",
     "text": [
      "\n",
      "[8  82]  iter: 789   edges: 765   complex: 8.33%"
     ]
    },
    {
     "name": "stdout",
     "output_type": "stream",
     "text": [
      "\n",
      "[42  67]  iter: 790   edges: 766   complex: 8.34%"
     ]
    },
    {
     "name": "stdout",
     "output_type": "stream",
     "text": [
      "\n",
      "[25  123]  iter: 791   edges: 767   complex: 8.36%"
     ]
    },
    {
     "name": "stdout",
     "output_type": "stream",
     "text": [
      "\n",
      "[122  126]  iter: 792   edges: 768   complex: 8.37%"
     ]
    },
    {
     "name": "stdout",
     "output_type": "stream",
     "text": [
      "\n",
      "[5  7]  iter: 793   edges: 769   complex: 8.38%"
     ]
    },
    {
     "name": "stdout",
     "output_type": "stream",
     "text": [
      "\n",
      "[64  82]  iter: 794   edges: 770   complex: 8.39%"
     ]
    },
    {
     "name": "stdout",
     "output_type": "stream",
     "text": [
      "\n",
      "[9  131]  iter: 795   edges: 771   complex: 8.4%"
     ]
    },
    {
     "name": "stdout",
     "output_type": "stream",
     "text": [
      "   Score = 0.928"
     ]
    },
    {
     "name": "stdout",
     "output_type": "stream",
     "text": [
      "    <E> = 82.15    log(Z) = 7.12   S = 89.27\n",
      "[61  76]  iter: 796   edges: 771   complex: 8.4%"
     ]
    },
    {
     "name": "stdout",
     "output_type": "stream",
     "text": [
      "\n",
      "[75  133]  iter: 797   edges: 772   complex: 8.41%"
     ]
    },
    {
     "name": "stdout",
     "output_type": "stream",
     "text": [
      "\n",
      "[66  68]  iter: 798   edges: 773   complex: 8.42%"
     ]
    },
    {
     "name": "stdout",
     "output_type": "stream",
     "text": [
      "\n",
      "[64  90]  iter: 799   edges: 774   complex: 8.43%"
     ]
    },
    {
     "name": "stdout",
     "output_type": "stream",
     "text": [
      "\n",
      "[57  96]  iter: 800   edges: 775   complex: 8.44%"
     ]
    },
    {
     "name": "stdout",
     "output_type": "stream",
     "text": [
      "\n",
      "[10  18]  iter: 801   edges: 776   complex: 8.45%"
     ]
    },
    {
     "name": "stdout",
     "output_type": "stream",
     "text": [
      "\n",
      "[113  136]  iter: 802   edges: 777   complex: 8.46%"
     ]
    },
    {
     "name": "stdout",
     "output_type": "stream",
     "text": [
      "\n",
      "[88  132]  iter: 803   edges: 778   complex: 8.47%"
     ]
    },
    {
     "name": "stdout",
     "output_type": "stream",
     "text": [
      "\n",
      "[55  116]  iter: 804   edges: 779   complex: 8.49%"
     ]
    },
    {
     "name": "stdout",
     "output_type": "stream",
     "text": [
      "\n",
      "[6  88]  iter: 805   edges: 780   complex: 8.5%"
     ]
    },
    {
     "name": "stdout",
     "output_type": "stream",
     "text": [
      "\n",
      "[121  122]  iter: 806   edges: 780   complex: 8.5%"
     ]
    },
    {
     "name": "stdout",
     "output_type": "stream",
     "text": [
      "\n",
      "[25  38]  iter: 807   edges: 781   complex: 8.51%"
     ]
    },
    {
     "name": "stdout",
     "output_type": "stream",
     "text": [
      "\n",
      "[69  74]  iter: 808   edges: 782   complex: 8.52%"
     ]
    },
    {
     "name": "stdout",
     "output_type": "stream",
     "text": [
      "\n",
      "[22  82]  iter: 809   edges: 783   complex: 8.53%"
     ]
    },
    {
     "name": "stdout",
     "output_type": "stream",
     "text": [
      "\n",
      "[61  86]  iter: 810   edges: 784   complex: 8.54%"
     ]
    },
    {
     "name": "stdout",
     "output_type": "stream",
     "text": [
      "   Score = 0.926"
     ]
    },
    {
     "name": "stdout",
     "output_type": "stream",
     "text": [
      "    <E> = 82.2    log(Z) = 7.24   S = 89.45\n",
      "[24  82]  iter: 811   edges: 785   complex: 8.55%"
     ]
    },
    {
     "name": "stdout",
     "output_type": "stream",
     "text": [
      "\n",
      "[47  92]  iter: 812   edges: 786   complex: 8.56%"
     ]
    },
    {
     "name": "stdout",
     "output_type": "stream",
     "text": [
      "\n",
      "[44  61]  iter: 813   edges: 787   complex: 8.57%"
     ]
    },
    {
     "name": "stdout",
     "output_type": "stream",
     "text": [
      "\n",
      "[63  84]  iter: 814   edges: 788   complex: 8.58%"
     ]
    },
    {
     "name": "stdout",
     "output_type": "stream",
     "text": [
      "\n",
      "[22  124]  iter: 815   edges: 789   complex: 8.59%"
     ]
    },
    {
     "name": "stdout",
     "output_type": "stream",
     "text": [
      "\n",
      "[122  123]  iter: 816   edges: 789   complex: 8.59%"
     ]
    },
    {
     "name": "stdout",
     "output_type": "stream",
     "text": [
      "\n",
      "[68  126]  iter: 817   edges: 790   complex: 8.61%"
     ]
    },
    {
     "name": "stdout",
     "output_type": "stream",
     "text": [
      "\n",
      "[74  135]  iter: 818   edges: 791   complex: 8.62%"
     ]
    },
    {
     "name": "stdout",
     "output_type": "stream",
     "text": [
      "\n",
      "[44  45]  iter: 819   edges: 791   complex: 8.62%"
     ]
    },
    {
     "name": "stdout",
     "output_type": "stream",
     "text": [
      "\n",
      "[42  49]  iter: 820   edges: 792   complex: 8.63%"
     ]
    },
    {
     "name": "stdout",
     "output_type": "stream",
     "text": [
      "\n",
      "[9  132]  iter: 821   edges: 793   complex: 8.64%"
     ]
    },
    {
     "name": "stdout",
     "output_type": "stream",
     "text": [
      "\n",
      "[26  45]  iter: 822   edges: 794   complex: 8.65%"
     ]
    },
    {
     "name": "stdout",
     "output_type": "stream",
     "text": [
      "\n",
      "[62  122]  iter: 823   edges: 795   complex: 8.66%"
     ]
    },
    {
     "name": "stdout",
     "output_type": "stream",
     "text": [
      "\n",
      "[19  89]  iter: 824   edges: 796   complex: 8.67%"
     ]
    },
    {
     "name": "stdout",
     "output_type": "stream",
     "text": [
      "\n",
      "[6  135]  iter: 825   edges: 797   complex: 8.68%"
     ]
    },
    {
     "name": "stdout",
     "output_type": "stream",
     "text": [
      "   Score = 0.929"
     ]
    },
    {
     "name": "stdout",
     "output_type": "stream",
     "text": [
      "    <E> = 81.65    log(Z) = 7.38   S = 89.03\n",
      "[42  50]  iter: 826   edges: 797   complex: 8.68%"
     ]
    },
    {
     "name": "stdout",
     "output_type": "stream",
     "text": [
      "\n",
      "[47  90]  iter: 827   edges: 798   complex: 8.69%"
     ]
    },
    {
     "name": "stdout",
     "output_type": "stream",
     "text": [
      "\n",
      "[7  26]  iter: 828   edges: 799   complex: 8.7%"
     ]
    },
    {
     "name": "stdout",
     "output_type": "stream",
     "text": [
      "\n",
      "[49  72]  iter: 829   edges: 800   complex: 8.71%"
     ]
    },
    {
     "name": "stdout",
     "output_type": "stream",
     "text": [
      "\n",
      "[22  64]  iter: 830   edges: 801   complex: 8.73%"
     ]
    },
    {
     "name": "stdout",
     "output_type": "stream",
     "text": [
      "\n",
      "[23  24]  iter: 831   edges: 801   complex: 8.73%"
     ]
    },
    {
     "name": "stdout",
     "output_type": "stream",
     "text": [
      "\n",
      "[42  90]  iter: 832   edges: 802   complex: 8.74%"
     ]
    },
    {
     "name": "stdout",
     "output_type": "stream",
     "text": [
      "\n",
      "[47  131]  iter: 833   edges: 803   complex: 8.75%"
     ]
    },
    {
     "name": "stdout",
     "output_type": "stream",
     "text": [
      "\n",
      "[26  89]  iter: 834   edges: 804   complex: 8.76%"
     ]
    },
    {
     "name": "stdout",
     "output_type": "stream",
     "text": [
      "\n",
      "[47  93]  iter: 835   edges: 805   complex: 8.77%"
     ]
    },
    {
     "name": "stdout",
     "output_type": "stream",
     "text": [
      "\n",
      "[21  22]  iter: 836   edges: 805   complex: 8.77%"
     ]
    },
    {
     "name": "stdout",
     "output_type": "stream",
     "text": [
      "\n",
      "[74  109]  iter: 837   edges: 806   complex: 8.78%"
     ]
    },
    {
     "name": "stdout",
     "output_type": "stream",
     "text": [
      "\n",
      "[21  29]  iter: 838   edges: 807   complex: 8.79%"
     ]
    },
    {
     "name": "stdout",
     "output_type": "stream",
     "text": [
      "\n",
      "[41  66]  iter: 839   edges: 808   complex: 8.8%"
     ]
    },
    {
     "name": "stdout",
     "output_type": "stream",
     "text": [
      "\n",
      "[21  76]  iter: 840   edges: 809   complex: 8.81%"
     ]
    },
    {
     "name": "stdout",
     "output_type": "stream",
     "text": [
      "   Score = 0.927"
     ]
    },
    {
     "name": "stdout",
     "output_type": "stream",
     "text": [
      "    <E> = 81.91    log(Z) = 7.52   S = 89.43\n",
      "[22  68]  iter: 841   edges: 810   complex: 8.82%"
     ]
    },
    {
     "name": "stdout",
     "output_type": "stream",
     "text": [
      "\n",
      "[102  103]  iter: 842   edges: 811   complex: 8.83%"
     ]
    },
    {
     "name": "stdout",
     "output_type": "stream",
     "text": [
      "\n",
      "[2  48]  iter: 843   edges: 812   complex: 8.85%"
     ]
    },
    {
     "name": "stdout",
     "output_type": "stream",
     "text": [
      "\n",
      "[40  81]  iter: 844   edges: 813   complex: 8.86%"
     ]
    },
    {
     "name": "stdout",
     "output_type": "stream",
     "text": [
      "\n",
      "[68  92]  iter: 845   edges: 814   complex: 8.87%"
     ]
    },
    {
     "name": "stdout",
     "output_type": "stream",
     "text": [
      "\n",
      "[44  84]  iter: 846   edges: 815   complex: 8.88%"
     ]
    },
    {
     "name": "stdout",
     "output_type": "stream",
     "text": [
      "\n",
      "[81  131]  iter: 847   edges: 816   complex: 8.89%"
     ]
    },
    {
     "name": "stdout",
     "output_type": "stream",
     "text": [
      "\n",
      "[83  85]  iter: 848   edges: 817   complex: 8.9%"
     ]
    },
    {
     "name": "stdout",
     "output_type": "stream",
     "text": [
      "\n",
      "[46  82]  iter: 849   edges: 818   complex: 8.91%"
     ]
    },
    {
     "name": "stdout",
     "output_type": "stream",
     "text": [
      "\n",
      "[67  103]  iter: 850   edges: 819   complex: 8.92%"
     ]
    },
    {
     "name": "stdout",
     "output_type": "stream",
     "text": [
      "\n",
      "[2  28]  iter: 851   edges: 820   complex: 8.93%"
     ]
    },
    {
     "name": "stdout",
     "output_type": "stream",
     "text": [
      "\n",
      "[69  72]  iter: 852   edges: 821   complex: 8.94%"
     ]
    },
    {
     "name": "stdout",
     "output_type": "stream",
     "text": [
      "\n",
      "[59  61]  iter: 853   edges: 822   complex: 8.95%"
     ]
    },
    {
     "name": "stdout",
     "output_type": "stream",
     "text": [
      "\n",
      "[46  136]  iter: 854   edges: 823   complex: 8.97%"
     ]
    },
    {
     "name": "stdout",
     "output_type": "stream",
     "text": [
      "\n",
      "[70  71]  iter: 855   edges: 823   complex: 8.97%"
     ]
    },
    {
     "name": "stdout",
     "output_type": "stream",
     "text": [
      "   Score = 0.929"
     ]
    },
    {
     "name": "stdout",
     "output_type": "stream",
     "text": [
      "    <E> = 81.65    log(Z) = 7.68   S = 89.33\n",
      "[15  79]  iter: 856   edges: 824   complex: 8.98%"
     ]
    },
    {
     "name": "stdout",
     "output_type": "stream",
     "text": [
      "\n",
      "[15  87]  iter: 857   edges: 825   complex: 8.99%"
     ]
    },
    {
     "name": "stdout",
     "output_type": "stream",
     "text": [
      "\n",
      "[26  43]  iter: 858   edges: 826   complex: 9.0%"
     ]
    },
    {
     "name": "stdout",
     "output_type": "stream",
     "text": [
      "\n",
      "[72  135]  iter: 859   edges: 827   complex: 9.01%"
     ]
    },
    {
     "name": "stdout",
     "output_type": "stream",
     "text": [
      "\n",
      "[59  77]  iter: 860   edges: 828   complex: 9.02%"
     ]
    },
    {
     "name": "stdout",
     "output_type": "stream",
     "text": [
      "\n",
      "[4  66]  iter: 861   edges: 829   complex: 9.03%"
     ]
    },
    {
     "name": "stdout",
     "output_type": "stream",
     "text": [
      "\n",
      "[25  81]  iter: 862   edges: 830   complex: 9.04%"
     ]
    },
    {
     "name": "stdout",
     "output_type": "stream",
     "text": [
      "\n",
      "[11  21]  iter: 863   edges: 831   complex: 9.05%"
     ]
    },
    {
     "name": "stdout",
     "output_type": "stream",
     "text": [
      "\n",
      "[3  64]  iter: 864   edges: 832   complex: 9.06%"
     ]
    },
    {
     "name": "stdout",
     "output_type": "stream",
     "text": [
      "\n",
      "[19  136]  iter: 865   edges: 833   complex: 9.07%"
     ]
    },
    {
     "name": "stdout",
     "output_type": "stream",
     "text": [
      "\n",
      "[31  87]  iter: 866   edges: 834   complex: 9.08%"
     ]
    },
    {
     "name": "stdout",
     "output_type": "stream",
     "text": [
      "\n",
      "[125  132]  iter: 867   edges: 835   complex: 9.1%"
     ]
    },
    {
     "name": "stdout",
     "output_type": "stream",
     "text": [
      "\n",
      "[4  121]  iter: 868   edges: 836   complex: 9.11%"
     ]
    },
    {
     "name": "stdout",
     "output_type": "stream",
     "text": [
      "\n",
      "[2  4]  iter: 869   edges: 836   complex: 9.11%"
     ]
    },
    {
     "name": "stdout",
     "output_type": "stream",
     "text": [
      "\n",
      "[7  125]  iter: 870   edges: 837   complex: 9.12%"
     ]
    },
    {
     "name": "stdout",
     "output_type": "stream",
     "text": [
      "   Score = 0.93"
     ]
    },
    {
     "name": "stdout",
     "output_type": "stream",
     "text": [
      "    <E> = 80.96    log(Z) = 7.81   S = 88.77\n",
      "[83  89]  iter: 871   edges: 838   complex: 9.13%"
     ]
    },
    {
     "name": "stdout",
     "output_type": "stream",
     "text": [
      "\n",
      "[48  89]  iter: 872   edges: 839   complex: 9.14%"
     ]
    },
    {
     "name": "stdout",
     "output_type": "stream",
     "text": [
      "\n",
      "[8  75]  iter: 873   edges: 840   complex: 9.15%"
     ]
    },
    {
     "name": "stdout",
     "output_type": "stream",
     "text": [
      "\n",
      "[38  132]  iter: 874   edges: 841   complex: 9.16%"
     ]
    },
    {
     "name": "stdout",
     "output_type": "stream",
     "text": [
      "\n",
      "[50  72]  iter: 875   edges: 842   complex: 9.17%"
     ]
    },
    {
     "name": "stdout",
     "output_type": "stream",
     "text": [
      "\n",
      "[6  130]  iter: 876   edges: 843   complex: 9.18%"
     ]
    },
    {
     "name": "stdout",
     "output_type": "stream",
     "text": [
      "\n",
      "[10  76]  iter: 877   edges: 844   complex: 9.19%"
     ]
    },
    {
     "name": "stdout",
     "output_type": "stream",
     "text": [
      "\n",
      "[46  84]  iter: 878   edges: 845   complex: 9.2%"
     ]
    },
    {
     "name": "stdout",
     "output_type": "stream",
     "text": [
      "\n",
      "[22  122]  iter: 879   edges: 846   complex: 9.22%"
     ]
    },
    {
     "name": "stdout",
     "output_type": "stream",
     "text": [
      "\n",
      "[27  133]  iter: 880   edges: 847   complex: 9.23%"
     ]
    },
    {
     "name": "stdout",
     "output_type": "stream",
     "text": [
      "\n",
      "[63  64]  iter: 881   edges: 847   complex: 9.23%"
     ]
    },
    {
     "name": "stdout",
     "output_type": "stream",
     "text": [
      "\n",
      "[29  126]  iter: 882   edges: 848   complex: 9.24%"
     ]
    },
    {
     "name": "stdout",
     "output_type": "stream",
     "text": [
      "\n",
      "[3  27]  iter: 883   edges: 849   complex: 9.25%"
     ]
    },
    {
     "name": "stdout",
     "output_type": "stream",
     "text": [
      "\n",
      "[46  132]  iter: 884   edges: 850   complex: 9.26%"
     ]
    },
    {
     "name": "stdout",
     "output_type": "stream",
     "text": [
      "\n",
      "[73  126]  iter: 885   edges: 851   complex: 9.27%"
     ]
    },
    {
     "name": "stdout",
     "output_type": "stream",
     "text": [
      "   Score = 0.93"
     ]
    },
    {
     "name": "stdout",
     "output_type": "stream",
     "text": [
      "    <E> = 80.68    log(Z) = 7.95   S = 88.62\n",
      "[40  74]  iter: 886   edges: 852   complex: 9.28%"
     ]
    },
    {
     "name": "stdout",
     "output_type": "stream",
     "text": [
      "\n",
      "[41  62]  iter: 887   edges: 853   complex: 9.29%"
     ]
    },
    {
     "name": "stdout",
     "output_type": "stream",
     "text": [
      "\n",
      "[64  102]  iter: 888   edges: 854   complex: 9.3%"
     ]
    },
    {
     "name": "stdout",
     "output_type": "stream",
     "text": [
      "\n",
      "[85  136]  iter: 889   edges: 855   complex: 9.31%"
     ]
    },
    {
     "name": "stdout",
     "output_type": "stream",
     "text": [
      "\n",
      "[6  86]  iter: 890   edges: 856   complex: 9.32%"
     ]
    },
    {
     "name": "stdout",
     "output_type": "stream",
     "text": [
      "\n",
      "[42  44]  iter: 891   edges: 857   complex: 9.34%"
     ]
    },
    {
     "name": "stdout",
     "output_type": "stream",
     "text": [
      "\n",
      "[60  76]  iter: 892   edges: 858   complex: 9.35%"
     ]
    },
    {
     "name": "stdout",
     "output_type": "stream",
     "text": [
      "\n",
      "[6  43]  iter: 893   edges: 859   complex: 9.36%"
     ]
    },
    {
     "name": "stdout",
     "output_type": "stream",
     "text": [
      "\n",
      "[90  122]  iter: 894   edges: 860   complex: 9.37%"
     ]
    },
    {
     "name": "stdout",
     "output_type": "stream",
     "text": [
      "\n",
      "[44  124]  iter: 895   edges: 861   complex: 9.38%"
     ]
    },
    {
     "name": "stdout",
     "output_type": "stream",
     "text": [
      "\n",
      "[22  73]  iter: 896   edges: 862   complex: 9.39%"
     ]
    },
    {
     "name": "stdout",
     "output_type": "stream",
     "text": [
      "\n",
      "[86  128]  iter: 897   edges: 863   complex: 9.4%"
     ]
    },
    {
     "name": "stdout",
     "output_type": "stream",
     "text": [
      "\n",
      "[70  124]  iter: 898   edges: 864   complex: 9.41%"
     ]
    },
    {
     "name": "stdout",
     "output_type": "stream",
     "text": [
      "\n",
      "[46  120]  iter: 899   edges: 865   complex: 9.42%"
     ]
    },
    {
     "name": "stdout",
     "output_type": "stream",
     "text": [
      "\n",
      "[43  136]  iter: 900   edges: 866   complex: 9.43%"
     ]
    },
    {
     "name": "stdout",
     "output_type": "stream",
     "text": [
      "   Score = 0.932"
     ]
    },
    {
     "name": "stdout",
     "output_type": "stream",
     "text": [
      "    <E> = 80.35    log(Z) = 8.07   S = 88.42\n",
      "[18  25]  iter: 901   edges: 867   complex: 9.44%"
     ]
    },
    {
     "name": "stdout",
     "output_type": "stream",
     "text": [
      "\n",
      "[69  136]  iter: 902   edges: 868   complex: 9.46%"
     ]
    },
    {
     "name": "stdout",
     "output_type": "stream",
     "text": [
      "\n",
      "[115  120]  iter: 903   edges: 869   complex: 9.47%"
     ]
    },
    {
     "name": "stdout",
     "output_type": "stream",
     "text": [
      "\n",
      "[22  133]  iter: 904   edges: 870   complex: 9.48%"
     ]
    },
    {
     "name": "stdout",
     "output_type": "stream",
     "text": [
      "\n",
      "[3  123]  iter: 905   edges: 871   complex: 9.49%"
     ]
    },
    {
     "name": "stdout",
     "output_type": "stream",
     "text": [
      "\n",
      "[65  136]  iter: 906   edges: 872   complex: 9.5%"
     ]
    },
    {
     "name": "stdout",
     "output_type": "stream",
     "text": [
      "\n",
      "[26  129]  iter: 907   edges: 873   complex: 9.51%"
     ]
    },
    {
     "name": "stdout",
     "output_type": "stream",
     "text": [
      "\n",
      "[42  66]  iter: 908   edges: 874   complex: 9.52%"
     ]
    },
    {
     "name": "stdout",
     "output_type": "stream",
     "text": [
      "\n",
      "[34  42]  iter: 909   edges: 875   complex: 9.53%"
     ]
    },
    {
     "name": "stdout",
     "output_type": "stream",
     "text": [
      "\n",
      "[83  121]  iter: 910   edges: 876   complex: 9.54%"
     ]
    },
    {
     "name": "stdout",
     "output_type": "stream",
     "text": [
      "\n",
      "[27  124]  iter: 911   edges: 877   complex: 9.55%"
     ]
    },
    {
     "name": "stdout",
     "output_type": "stream",
     "text": [
      "\n",
      "[5  22]  iter: 912   edges: 878   complex: 9.56%"
     ]
    },
    {
     "name": "stdout",
     "output_type": "stream",
     "text": [
      "\n",
      "[5  66]  iter: 913   edges: 879   complex: 9.58%"
     ]
    },
    {
     "name": "stdout",
     "output_type": "stream",
     "text": [
      "\n",
      "[8  71]  iter: 914   edges: 880   complex: 9.59%"
     ]
    },
    {
     "name": "stdout",
     "output_type": "stream",
     "text": [
      "\n",
      "[21  123]  iter: 915   edges: 881   complex: 9.6%"
     ]
    },
    {
     "name": "stdout",
     "output_type": "stream",
     "text": [
      "   Score = 0.932"
     ]
    },
    {
     "name": "stdout",
     "output_type": "stream",
     "text": [
      "    <E> = 80.27    log(Z) = 8.22   S = 88.49\n",
      "[69  71]  iter: 916   edges: 881   complex: 9.6%"
     ]
    },
    {
     "name": "stdout",
     "output_type": "stream",
     "text": [
      "\n",
      "[87  125]  iter: 917   edges: 882   complex: 9.61%"
     ]
    },
    {
     "name": "stdout",
     "output_type": "stream",
     "text": [
      "\n",
      "[124  133]  iter: 918   edges: 883   complex: 9.62%"
     ]
    },
    {
     "name": "stdout",
     "output_type": "stream",
     "text": [
      "\n",
      "[76  82]  iter: 919   edges: 884   complex: 9.63%"
     ]
    },
    {
     "name": "stdout",
     "output_type": "stream",
     "text": [
      "\n",
      "[82  98]  iter: 920   edges: 885   complex: 9.64%"
     ]
    },
    {
     "name": "stdout",
     "output_type": "stream",
     "text": [
      "\n",
      "[30  79]  iter: 921   edges: 886   complex: 9.65%"
     ]
    },
    {
     "name": "stdout",
     "output_type": "stream",
     "text": [
      "\n",
      "[26  81]  iter: 922   edges: 887   complex: 9.66%"
     ]
    },
    {
     "name": "stdout",
     "output_type": "stream",
     "text": [
      "\n",
      "[18  66]  iter: 923   edges: 888   complex: 9.67%"
     ]
    },
    {
     "name": "stdout",
     "output_type": "stream",
     "text": [
      "\n",
      "[45  50]  iter: 924   edges: 889   complex: 9.68%"
     ]
    },
    {
     "name": "stdout",
     "output_type": "stream",
     "text": [
      "\n",
      "[67  82]  iter: 925   edges: 890   complex: 9.69%"
     ]
    },
    {
     "name": "stdout",
     "output_type": "stream",
     "text": [
      "\n",
      "[61  63]  iter: 926   edges: 891   complex: 9.71%"
     ]
    },
    {
     "name": "stdout",
     "output_type": "stream",
     "text": [
      "\n",
      "[17  23]  iter: 927   edges: 892   complex: 9.72%"
     ]
    },
    {
     "name": "stdout",
     "output_type": "stream",
     "text": [
      "\n",
      "[1  47]  iter: 928   edges: 893   complex: 9.73%"
     ]
    },
    {
     "name": "stdout",
     "output_type": "stream",
     "text": [
      "\n",
      "[30  42]  iter: 929   edges: 894   complex: 9.74%"
     ]
    },
    {
     "name": "stdout",
     "output_type": "stream",
     "text": [
      "\n",
      "[11  117]  iter: 930   edges: 895   complex: 9.75%"
     ]
    },
    {
     "name": "stdout",
     "output_type": "stream",
     "text": [
      "   Score = 0.934"
     ]
    },
    {
     "name": "stdout",
     "output_type": "stream",
     "text": [
      "    <E> = 80.03    log(Z) = 8.33   S = 88.36\n",
      "[19  45]  iter: 931   edges: 896   complex: 9.76%"
     ]
    },
    {
     "name": "stdout",
     "output_type": "stream",
     "text": [
      "\n",
      "[38  93]  iter: 932   edges: 897   complex: 9.77%"
     ]
    },
    {
     "name": "stdout",
     "output_type": "stream",
     "text": [
      "\n",
      "[5  62]  iter: 933   edges: 897   complex: 9.77%"
     ]
    },
    {
     "name": "stdout",
     "output_type": "stream",
     "text": [
      "\n",
      "[24  123]  iter: 934   edges: 898   complex: 9.78%"
     ]
    },
    {
     "name": "stdout",
     "output_type": "stream",
     "text": [
      "\n",
      "[22  123]  iter: 935   edges: 899   complex: 9.79%"
     ]
    },
    {
     "name": "stdout",
     "output_type": "stream",
     "text": [
      "\n",
      "[46  134]  iter: 936   edges: 900   complex: 9.8%"
     ]
    },
    {
     "name": "stdout",
     "output_type": "stream",
     "text": [
      "\n",
      "[55  62]  iter: 937   edges: 901   complex: 9.81%"
     ]
    },
    {
     "name": "stdout",
     "output_type": "stream",
     "text": [
      "\n",
      "[47  62]  iter: 938   edges: 901   complex: 9.81%"
     ]
    },
    {
     "name": "stdout",
     "output_type": "stream",
     "text": [
      "\n",
      "[29  129]  iter: 939   edges: 902   complex: 9.83%"
     ]
    },
    {
     "name": "stdout",
     "output_type": "stream",
     "text": [
      "\n",
      "[6  9]  iter: 940   edges: 903   complex: 9.84%"
     ]
    },
    {
     "name": "stdout",
     "output_type": "stream",
     "text": [
      "\n",
      "[62  121]  iter: 941   edges: 904   complex: 9.85%"
     ]
    },
    {
     "name": "stdout",
     "output_type": "stream",
     "text": [
      "\n",
      "[9  23]  iter: 942   edges: 905   complex: 9.86%"
     ]
    },
    {
     "name": "stdout",
     "output_type": "stream",
     "text": [
      "\n",
      "[22  23]  iter: 943   edges: 905   complex: 9.86%"
     ]
    },
    {
     "name": "stdout",
     "output_type": "stream",
     "text": [
      "\n",
      "[76  103]  iter: 944   edges: 905   complex: 9.86%"
     ]
    },
    {
     "name": "stdout",
     "output_type": "stream",
     "text": [
      "\n",
      "[48  61]  iter: 945   edges: 906   complex: 9.87%"
     ]
    },
    {
     "name": "stdout",
     "output_type": "stream",
     "text": [
      "   Score = 0.933"
     ]
    },
    {
     "name": "stdout",
     "output_type": "stream",
     "text": [
      "    <E> = 80.22    log(Z) = 8.47   S = 88.69\n",
      "[61  67]  iter: 946   edges: 907   complex: 9.88%"
     ]
    },
    {
     "name": "stdout",
     "output_type": "stream",
     "text": [
      "\n",
      "[41  89]  iter: 947   edges: 908   complex: 9.89%"
     ]
    },
    {
     "name": "stdout",
     "output_type": "stream",
     "text": [
      "\n",
      "[70  81]  iter: 948   edges: 909   complex: 9.9%"
     ]
    },
    {
     "name": "stdout",
     "output_type": "stream",
     "text": [
      "\n",
      "[26  103]  iter: 949   edges: 910   complex: 9.91%"
     ]
    },
    {
     "name": "stdout",
     "output_type": "stream",
     "text": [
      "\n",
      "[59  76]  iter: 950   edges: 910   complex: 9.91%"
     ]
    },
    {
     "name": "stdout",
     "output_type": "stream",
     "text": [
      "\n",
      "[71  91]  iter: 951   edges: 911   complex: 9.92%"
     ]
    },
    {
     "name": "stdout",
     "output_type": "stream",
     "text": [
      "\n",
      "[44  89]  iter: 952   edges: 912   complex: 9.93%"
     ]
    },
    {
     "name": "stdout",
     "output_type": "stream",
     "text": [
      "\n",
      "[82  86]  iter: 953   edges: 913   complex: 9.95%"
     ]
    },
    {
     "name": "stdout",
     "output_type": "stream",
     "text": [
      "\n",
      "[62  136]  iter: 954   edges: 914   complex: 9.96%"
     ]
    },
    {
     "name": "stdout",
     "output_type": "stream",
     "text": [
      "\n",
      "[63  89]  iter: 955   edges: 915   complex: 9.97%"
     ]
    },
    {
     "name": "stdout",
     "output_type": "stream",
     "text": [
      "\n",
      "[70  90]  iter: 956   edges: 916   complex: 9.98%"
     ]
    },
    {
     "name": "stdout",
     "output_type": "stream",
     "text": [
      "\n",
      "[80  124]  iter: 957   edges: 917   complex: 9.99%"
     ]
    },
    {
     "name": "stdout",
     "output_type": "stream",
     "text": [
      "\n",
      "[124  130]  iter: 958   edges: 918   complex: 10.0%"
     ]
    },
    {
     "name": "stdout",
     "output_type": "stream",
     "text": [
      "\n",
      "[44  68]  iter: 959   edges: 919   complex: 10.01%"
     ]
    },
    {
     "name": "stdout",
     "output_type": "stream",
     "text": [
      "\n",
      "[68  69]  iter: 960   edges: 919   complex: 10.01%"
     ]
    },
    {
     "name": "stdout",
     "output_type": "stream",
     "text": [
      "   Score = 0.932"
     ]
    },
    {
     "name": "stdout",
     "output_type": "stream",
     "text": [
      "    <E> = 79.84    log(Z) = 8.6   S = 88.44\n",
      "[65  81]  iter: 961   edges: 920   complex: 10.02%"
     ]
    },
    {
     "name": "stdout",
     "output_type": "stream",
     "text": [
      "\n",
      "[71  84]  iter: 962   edges: 921   complex: 10.03%"
     ]
    },
    {
     "name": "stdout",
     "output_type": "stream",
     "text": [
      "\n",
      "[46  124]  iter: 963   edges: 922   complex: 10.04%"
     ]
    },
    {
     "name": "stdout",
     "output_type": "stream",
     "text": [
      "\n",
      "[64  66]  iter: 964   edges: 922   complex: 10.04%"
     ]
    },
    {
     "name": "stdout",
     "output_type": "stream",
     "text": [
      "\n",
      "[88  130]  iter: 965   edges: 923   complex: 10.05%"
     ]
    },
    {
     "name": "stdout",
     "output_type": "stream",
     "text": [
      "\n",
      "[5  47]  iter: 966   edges: 924   complex: 10.07%"
     ]
    },
    {
     "name": "stdout",
     "output_type": "stream",
     "text": [
      "\n",
      "[1  46]  iter: 967   edges: 925   complex: 10.08%"
     ]
    },
    {
     "name": "stdout",
     "output_type": "stream",
     "text": [
      "\n",
      "[24  66]  iter: 968   edges: 926   complex: 10.09%"
     ]
    },
    {
     "name": "stdout",
     "output_type": "stream",
     "text": [
      "\n",
      "[12  88]  iter: 969   edges: 927   complex: 10.1%"
     ]
    },
    {
     "name": "stdout",
     "output_type": "stream",
     "text": [
      "\n",
      "[10  66]  iter: 970   edges: 928   complex: 10.11%"
     ]
    },
    {
     "name": "stdout",
     "output_type": "stream",
     "text": [
      "\n",
      "[122  125]  iter: 971   edges: 929   complex: 10.12%"
     ]
    },
    {
     "name": "stdout",
     "output_type": "stream",
     "text": [
      "\n",
      "[89  128]  iter: 972   edges: 930   complex: 10.13%"
     ]
    },
    {
     "name": "stdout",
     "output_type": "stream",
     "text": [
      "\n",
      "[45  133]  iter: 973   edges: 931   complex: 10.14%"
     ]
    },
    {
     "name": "stdout",
     "output_type": "stream",
     "text": [
      "\n",
      "[68  129]  iter: 974   edges: 932   complex: 10.15%"
     ]
    },
    {
     "name": "stdout",
     "output_type": "stream",
     "text": [
      "\n",
      "[38  136]  iter: 975   edges: 933   complex: 10.16%"
     ]
    },
    {
     "name": "stdout",
     "output_type": "stream",
     "text": [
      "   Score = 0.934"
     ]
    },
    {
     "name": "stdout",
     "output_type": "stream",
     "text": [
      "    <E> = 79.45    log(Z) = 8.72   S = 88.17\n",
      "[10  23]  iter: 976   edges: 934   complex: 10.17%"
     ]
    },
    {
     "name": "stdout",
     "output_type": "stream",
     "text": [
      "\n",
      "[11  39]  iter: 977   edges: 935   complex: 10.19%"
     ]
    },
    {
     "name": "stdout",
     "output_type": "stream",
     "text": [
      "\n",
      "[9  135]  iter: 978   edges: 936   complex: 10.2%"
     ]
    },
    {
     "name": "stdout",
     "output_type": "stream",
     "text": [
      "\n",
      "[68  127]  iter: 979   edges: 937   complex: 10.21%"
     ]
    },
    {
     "name": "stdout",
     "output_type": "stream",
     "text": [
      "\n",
      "[14  23]  iter: 980   edges: 938   complex: 10.22%"
     ]
    },
    {
     "name": "stdout",
     "output_type": "stream",
     "text": [
      "\n",
      "[4  24]  iter: 981   edges: 939   complex: 10.23%"
     ]
    },
    {
     "name": "stdout",
     "output_type": "stream",
     "text": [
      "\n",
      "[56  96]  iter: 982   edges: 940   complex: 10.24%"
     ]
    },
    {
     "name": "stdout",
     "output_type": "stream",
     "text": [
      "\n",
      "[65  68]  iter: 983   edges: 940   complex: 10.24%"
     ]
    },
    {
     "name": "stdout",
     "output_type": "stream",
     "text": [
      "\n",
      "[24  65]  iter: 984   edges: 941   complex: 10.25%"
     ]
    },
    {
     "name": "stdout",
     "output_type": "stream",
     "text": [
      "\n",
      "[2  136]  iter: 985   edges: 942   complex: 10.26%"
     ]
    },
    {
     "name": "stdout",
     "output_type": "stream",
     "text": [
      "\n",
      "[63  134]  iter: 986   edges: 943   complex: 10.27%"
     ]
    },
    {
     "name": "stdout",
     "output_type": "stream",
     "text": [
      "\n",
      "[76  96]  iter: 987   edges: 943   complex: 10.27%"
     ]
    },
    {
     "name": "stdout",
     "output_type": "stream",
     "text": [
      "\n",
      "[42  123]  iter: 988   edges: 944   complex: 10.28%"
     ]
    },
    {
     "name": "stdout",
     "output_type": "stream",
     "text": [
      "\n",
      "[29  120]  iter: 989   edges: 945   complex: 10.29%"
     ]
    },
    {
     "name": "stdout",
     "output_type": "stream",
     "text": [
      "\n",
      "[40  51]  iter: 990   edges: 946   complex: 10.31%"
     ]
    },
    {
     "name": "stdout",
     "output_type": "stream",
     "text": [
      "   Score = 0.934"
     ]
    },
    {
     "name": "stdout",
     "output_type": "stream",
     "text": [
      "    <E> = 79.22    log(Z) = 8.83   S = 88.05\n",
      "[96  122]  iter: 991   edges: 947   complex: 10.32%"
     ]
    },
    {
     "name": "stdout",
     "output_type": "stream",
     "text": [
      "\n",
      "[42  45]  iter: 992   edges: 948   complex: 10.33%"
     ]
    },
    {
     "name": "stdout",
     "output_type": "stream",
     "text": [
      "\n",
      "[126  127]  iter: 993   edges: 949   complex: 10.34%"
     ]
    },
    {
     "name": "stdout",
     "output_type": "stream",
     "text": [
      "\n",
      "[49  65]  iter: 994   edges: 950   complex: 10.35%"
     ]
    },
    {
     "name": "stdout",
     "output_type": "stream",
     "text": [
      "\n",
      "[65  76]  iter: 995   edges: 951   complex: 10.36%"
     ]
    },
    {
     "name": "stdout",
     "output_type": "stream",
     "text": [
      "\n",
      "[4  91]  iter: 996   edges: 952   complex: 10.37%"
     ]
    },
    {
     "name": "stdout",
     "output_type": "stream",
     "text": [
      "\n",
      "[60  116]  iter: 997   edges: 953   complex: 10.38%"
     ]
    },
    {
     "name": "stdout",
     "output_type": "stream",
     "text": [
      "\n",
      "[10  71]  iter: 998   edges: 954   complex: 10.39%"
     ]
    },
    {
     "name": "stdout",
     "output_type": "stream",
     "text": [
      "\n",
      "[74  96]  iter: 999   edges: 954   complex: 10.39%"
     ]
    },
    {
     "name": "stdout",
     "output_type": "stream",
     "text": [
      "\n",
      "[67  93]  iter: 1000   edges: 955   complex: 10.4%"
     ]
    },
    {
     "name": "stdout",
     "output_type": "stream",
     "text": [
      "\n",
      "[38  133]  iter: 1001   edges: 956   complex: 10.41%"
     ]
    },
    {
     "name": "stdout",
     "output_type": "stream",
     "text": [
      "\n",
      "[67  72]  iter: 1002   edges: 957   complex: 10.42%"
     ]
    },
    {
     "name": "stdout",
     "output_type": "stream",
     "text": [
      "\n",
      "[23  65]  iter: 1003   edges: 958   complex: 10.44%"
     ]
    },
    {
     "name": "stdout",
     "output_type": "stream",
     "text": [
      "\n",
      "[72  83]  iter: 1004   edges: 959   complex: 10.45%"
     ]
    },
    {
     "name": "stdout",
     "output_type": "stream",
     "text": [
      "\n",
      "[4  134]  iter: 1005   edges: 960   complex: 10.46%"
     ]
    },
    {
     "name": "stdout",
     "output_type": "stream",
     "text": [
      "   Score = 0.936"
     ]
    },
    {
     "name": "stdout",
     "output_type": "stream",
     "text": [
      "    <E> = 78.59    log(Z) = 8.96   S = 87.55\n",
      "[90  123]  iter: 1006   edges: 961   complex: 10.47%"
     ]
    },
    {
     "name": "stdout",
     "output_type": "stream",
     "text": [
      "\n",
      "[82  131]  iter: 1007   edges: 962   complex: 10.48%"
     ]
    },
    {
     "name": "stdout",
     "output_type": "stream",
     "text": [
      "\n",
      "[2  43]  iter: 1008   edges: 962   complex: 10.48%"
     ]
    },
    {
     "name": "stdout",
     "output_type": "stream",
     "text": [
      "\n",
      "[20  43]  iter: 1009   edges: 963   complex: 10.49%"
     ]
    },
    {
     "name": "stdout",
     "output_type": "stream",
     "text": [
      "\n",
      "[72  92]  iter: 1010   edges: 964   complex: 10.5%"
     ]
    },
    {
     "name": "stdout",
     "output_type": "stream",
     "text": [
      "\n",
      "[19  81]  iter: 1011   edges: 965   complex: 10.51%"
     ]
    },
    {
     "name": "stdout",
     "output_type": "stream",
     "text": [
      "\n",
      "[85  134]  iter: 1012   edges: 966   complex: 10.52%"
     ]
    },
    {
     "name": "stdout",
     "output_type": "stream",
     "text": [
      "\n",
      "[71  135]  iter: 1013   edges: 967   complex: 10.53%"
     ]
    },
    {
     "name": "stdout",
     "output_type": "stream",
     "text": [
      "\n",
      "[124  127]  iter: 1014   edges: 968   complex: 10.54%"
     ]
    },
    {
     "name": "stdout",
     "output_type": "stream",
     "text": [
      "\n",
      "[4  126]  iter: 1015   edges: 969   complex: 10.56%"
     ]
    },
    {
     "name": "stdout",
     "output_type": "stream",
     "text": [
      "\n",
      "[28  86]  iter: 1016   edges: 970   complex: 10.57%"
     ]
    },
    {
     "name": "stdout",
     "output_type": "stream",
     "text": [
      "\n",
      "[63  77]  iter: 1017   edges: 971   complex: 10.58%"
     ]
    },
    {
     "name": "stdout",
     "output_type": "stream",
     "text": [
      "\n",
      "[26  65]  iter: 1018   edges: 972   complex: 10.59%"
     ]
    },
    {
     "name": "stdout",
     "output_type": "stream",
     "text": [
      "\n",
      "[9  70]  iter: 1019   edges: 973   complex: 10.6%"
     ]
    },
    {
     "name": "stdout",
     "output_type": "stream",
     "text": [
      "\n",
      "[9  19]  iter: 1020   edges: 974   complex: 10.61%"
     ]
    },
    {
     "name": "stdout",
     "output_type": "stream",
     "text": [
      "   Score = 0.933"
     ]
    },
    {
     "name": "stdout",
     "output_type": "stream",
     "text": [
      "    <E> = 78.5    log(Z) = 9.1   S = 87.6\n",
      "[5  10]  iter: 1021   edges: 975   complex: 10.62%"
     ]
    },
    {
     "name": "stdout",
     "output_type": "stream",
     "text": [
      "\n",
      "[126  135]  iter: 1022   edges: 976   complex: 10.63%"
     ]
    },
    {
     "name": "stdout",
     "output_type": "stream",
     "text": [
      "\n",
      "[43  126]  iter: 1023   edges: 977   complex: 10.64%"
     ]
    },
    {
     "name": "stdout",
     "output_type": "stream",
     "text": [
      "\n",
      "[68  88]  iter: 1024   edges: 978   complex: 10.65%"
     ]
    },
    {
     "name": "stdout",
     "output_type": "stream",
     "text": [
      "\n",
      "[93  122]  iter: 1025   edges: 979   complex: 10.66%"
     ]
    },
    {
     "name": "stdout",
     "output_type": "stream",
     "text": [
      "\n",
      "[5  128]  iter: 1026   edges: 980   complex: 10.68%"
     ]
    },
    {
     "name": "stdout",
     "output_type": "stream",
     "text": [
      "\n",
      "[88  122]  iter: 1027   edges: 981   complex: 10.69%"
     ]
    },
    {
     "name": "stdout",
     "output_type": "stream",
     "text": [
      "\n",
      "[20  23]  iter: 1028   edges: 982   complex: 10.7%"
     ]
    },
    {
     "name": "stdout",
     "output_type": "stream",
     "text": [
      "\n",
      "[23  71]  iter: 1029   edges: 983   complex: 10.71%"
     ]
    },
    {
     "name": "stdout",
     "output_type": "stream",
     "text": [
      "\n",
      "[66  69]  iter: 1030   edges: 983   complex: 10.71%"
     ]
    },
    {
     "name": "stdout",
     "output_type": "stream",
     "text": [
      "\n",
      "[121  131]  iter: 1031   edges: 984   complex: 10.72%"
     ]
    },
    {
     "name": "stdout",
     "output_type": "stream",
     "text": [
      "\n",
      "[98  103]  iter: 1032   edges: 985   complex: 10.73%"
     ]
    },
    {
     "name": "stdout",
     "output_type": "stream",
     "text": [
      "\n",
      "[93  94]  iter: 1033   edges: 986   complex: 10.74%"
     ]
    },
    {
     "name": "stdout",
     "output_type": "stream",
     "text": [
      "\n",
      "[68  71]  iter: 1034   edges: 987   complex: 10.75%"
     ]
    },
    {
     "name": "stdout",
     "output_type": "stream",
     "text": [
      "\n",
      "[124  125]  iter: 1035   edges: 987   complex: 10.75%"
     ]
    },
    {
     "name": "stdout",
     "output_type": "stream",
     "text": [
      "   Score = 0.935"
     ]
    },
    {
     "name": "stdout",
     "output_type": "stream",
     "text": [
      "    <E> = 78.26    log(Z) = 9.26   S = 87.52\n",
      "[91  93]  iter: 1036   edges: 988   complex: 10.76%"
     ]
    },
    {
     "name": "stdout",
     "output_type": "stream",
     "text": [
      "\n",
      "[48  65]  iter: 1037   edges: 989   complex: 10.77%"
     ]
    },
    {
     "name": "stdout",
     "output_type": "stream",
     "text": [
      "\n",
      "[29  84]  iter: 1038   edges: 990   complex: 10.78%"
     ]
    },
    {
     "name": "stdout",
     "output_type": "stream",
     "text": [
      "\n",
      "[5  29]  iter: 1039   edges: 991   complex: 10.8%"
     ]
    },
    {
     "name": "stdout",
     "output_type": "stream",
     "text": [
      "\n",
      "[26  82]  iter: 1040   edges: 992   complex: 10.81%"
     ]
    },
    {
     "name": "stdout",
     "output_type": "stream",
     "text": [
      "\n",
      "[9  121]  iter: 1041   edges: 993   complex: 10.82%"
     ]
    },
    {
     "name": "stdout",
     "output_type": "stream",
     "text": [
      "\n",
      "[38  106]  iter: 1042   edges: 994   complex: 10.83%"
     ]
    },
    {
     "name": "stdout",
     "output_type": "stream",
     "text": [
      "\n",
      "[89  133]  iter: 1043   edges: 994   complex: 10.83%"
     ]
    },
    {
     "name": "stdout",
     "output_type": "stream",
     "text": [
      "\n",
      "[67  131]  iter: 1044   edges: 995   complex: 10.84%"
     ]
    },
    {
     "name": "stdout",
     "output_type": "stream",
     "text": [
      "\n",
      "[87  91]  iter: 1045   edges: 996   complex: 10.85%"
     ]
    },
    {
     "name": "stdout",
     "output_type": "stream",
     "text": [
      "\n",
      "[11  121]  iter: 1046   edges: 996   complex: 10.85%"
     ]
    },
    {
     "name": "stdout",
     "output_type": "stream",
     "text": [
      "\n",
      "[87  128]  iter: 1047   edges: 997   complex: 10.86%"
     ]
    },
    {
     "name": "stdout",
     "output_type": "stream",
     "text": [
      "\n",
      "[29  38]  iter: 1048   edges: 998   complex: 10.87%"
     ]
    },
    {
     "name": "stdout",
     "output_type": "stream",
     "text": [
      "\n",
      "[66  89]  iter: 1049   edges: 999   complex: 10.88%"
     ]
    },
    {
     "name": "stdout",
     "output_type": "stream",
     "text": [
      "\n",
      "[72  74]  iter: 1050   edges: 999   complex: 10.88%"
     ]
    },
    {
     "name": "stdout",
     "output_type": "stream",
     "text": [
      "   Score = 0.936"
     ]
    },
    {
     "name": "stdout",
     "output_type": "stream",
     "text": [
      "    <E> = 78.22    log(Z) = 9.39   S = 87.61\n",
      "[42  82]  iter: 1051   edges: 999   complex: 10.88%"
     ]
    },
    {
     "name": "stdout",
     "output_type": "stream",
     "text": [
      "\n",
      "[44  76]  iter: 1052   edges: 1000   complex: 10.89%"
     ]
    },
    {
     "name": "stdout",
     "output_type": "stream",
     "text": [
      "\n",
      "[59  90]  iter: 1053   edges: 1001   complex: 10.9%"
     ]
    },
    {
     "name": "stdout",
     "output_type": "stream",
     "text": [
      "\n",
      "[22  135]  iter: 1054   edges: 1002   complex: 10.92%"
     ]
    },
    {
     "name": "stdout",
     "output_type": "stream",
     "text": [
      "\n",
      "[64  86]  iter: 1055   edges: 1003   complex: 10.93%"
     ]
    },
    {
     "name": "stdout",
     "output_type": "stream",
     "text": [
      "\n",
      "[6  133]  iter: 1056   edges: 1004   complex: 10.94%"
     ]
    },
    {
     "name": "stdout",
     "output_type": "stream",
     "text": [
      "\n",
      "[70  127]  iter: 1057   edges: 1005   complex: 10.95%"
     ]
    },
    {
     "name": "stdout",
     "output_type": "stream",
     "text": [
      "\n",
      "[22  125]  iter: 1058   edges: 1006   complex: 10.96%"
     ]
    },
    {
     "name": "stdout",
     "output_type": "stream",
     "text": [
      "\n",
      "[68  89]  iter: 1059   edges: 1007   complex: 10.97%"
     ]
    },
    {
     "name": "stdout",
     "output_type": "stream",
     "text": [
      "\n",
      "[21  87]  iter: 1060   edges: 1008   complex: 10.98%"
     ]
    },
    {
     "name": "stdout",
     "output_type": "stream",
     "text": [
      "\n",
      "[43  96]  iter: 1061   edges: 1009   complex: 10.99%"
     ]
    },
    {
     "name": "stdout",
     "output_type": "stream",
     "text": [
      "\n",
      "[91  103]  iter: 1062   edges: 1010   complex: 11.0%"
     ]
    },
    {
     "name": "stdout",
     "output_type": "stream",
     "text": [
      "\n",
      "[66  70]  iter: 1063   edges: 1010   complex: 11.0%"
     ]
    },
    {
     "name": "stdout",
     "output_type": "stream",
     "text": [
      "\n",
      "[128  134]  iter: 1064   edges: 1011   complex: 11.01%"
     ]
    },
    {
     "name": "stdout",
     "output_type": "stream",
     "text": [
      "\n",
      "[24  45]  iter: 1065   edges: 1012   complex: 11.02%"
     ]
    },
    {
     "name": "stdout",
     "output_type": "stream",
     "text": [
      "   Score = 0.937"
     ]
    },
    {
     "name": "stdout",
     "output_type": "stream",
     "text": [
      "    <E> = 77.76    log(Z) = 9.52   S = 87.28\n",
      "[59  91]  iter: 1066   edges: 1013   complex: 11.03%"
     ]
    },
    {
     "name": "stdout",
     "output_type": "stream",
     "text": [
      "\n",
      "[81  136]  iter: 1067   edges: 1014   complex: 11.05%"
     ]
    },
    {
     "name": "stdout",
     "output_type": "stream",
     "text": [
      "\n",
      "[23  87]  iter: 1068   edges: 1015   complex: 11.06%"
     ]
    },
    {
     "name": "stdout",
     "output_type": "stream",
     "text": [
      "\n",
      "[9  64]  iter: 1069   edges: 1016   complex: 11.07%"
     ]
    },
    {
     "name": "stdout",
     "output_type": "stream",
     "text": [
      "\n",
      "[28  29]  iter: 1070   edges: 1017   complex: 11.08%"
     ]
    },
    {
     "name": "stdout",
     "output_type": "stream",
     "text": [
      "\n",
      "[64  74]  iter: 1071   edges: 1018   complex: 11.09%"
     ]
    },
    {
     "name": "stdout",
     "output_type": "stream",
     "text": [
      "\n",
      "[77  135]  iter: 1072   edges: 1019   complex: 11.1%"
     ]
    },
    {
     "name": "stdout",
     "output_type": "stream",
     "text": [
      "\n",
      "[45  94]  iter: 1073   edges: 1020   complex: 11.11%"
     ]
    },
    {
     "name": "stdout",
     "output_type": "stream",
     "text": [
      "\n",
      "[86  87]  iter: 1074   edges: 1020   complex: 11.11%"
     ]
    },
    {
     "name": "stdout",
     "output_type": "stream",
     "text": [
      "\n",
      "[90  91]  iter: 1075   edges: 1020   complex: 11.11%"
     ]
    },
    {
     "name": "stdout",
     "output_type": "stream",
     "text": [
      "\n",
      "[42  134]  iter: 1076   edges: 1021   complex: 11.12%"
     ]
    },
    {
     "name": "stdout",
     "output_type": "stream",
     "text": [
      "\n",
      "[82  83]  iter: 1077   edges: 1021   complex: 11.12%"
     ]
    },
    {
     "name": "stdout",
     "output_type": "stream",
     "text": [
      "\n",
      "[43  71]  iter: 1078   edges: 1022   complex: 11.13%"
     ]
    },
    {
     "name": "stdout",
     "output_type": "stream",
     "text": [
      "\n",
      "[23  67]  iter: 1079   edges: 1023   complex: 11.14%"
     ]
    },
    {
     "name": "stdout",
     "output_type": "stream",
     "text": [
      "\n",
      "[121  125]  iter: 1080   edges: 1024   complex: 11.15%"
     ]
    },
    {
     "name": "stdout",
     "output_type": "stream",
     "text": [
      "   Score = 0.937"
     ]
    },
    {
     "name": "stdout",
     "output_type": "stream",
     "text": [
      "    <E> = 77.45    log(Z) = 9.65   S = 87.1\n",
      "[81  122]  iter: 1081   edges: 1025   complex: 11.17%"
     ]
    },
    {
     "name": "stdout",
     "output_type": "stream",
     "text": [
      "\n",
      "[21  42]  iter: 1082   edges: 1026   complex: 11.18%"
     ]
    },
    {
     "name": "stdout",
     "output_type": "stream",
     "text": [
      "\n",
      "[9  42]  iter: 1083   edges: 1027   complex: 11.19%"
     ]
    },
    {
     "name": "stdout",
     "output_type": "stream",
     "text": [
      "\n",
      "[2  72]  iter: 1084   edges: 1028   complex: 11.2%"
     ]
    },
    {
     "name": "stdout",
     "output_type": "stream",
     "text": [
      "\n",
      "[128  130]  iter: 1085   edges: 1028   complex: 11.2%"
     ]
    },
    {
     "name": "stdout",
     "output_type": "stream",
     "text": [
      "\n",
      "[4  85]  iter: 1086   edges: 1029   complex: 11.21%"
     ]
    },
    {
     "name": "stdout",
     "output_type": "stream",
     "text": [
      "\n",
      "[21  45]  iter: 1087   edges: 1030   complex: 11.22%"
     ]
    },
    {
     "name": "stdout",
     "output_type": "stream",
     "text": [
      "\n",
      "[84  126]  iter: 1088   edges: 1031   complex: 11.23%"
     ]
    },
    {
     "name": "stdout",
     "output_type": "stream",
     "text": [
      "\n",
      "[21  85]  iter: 1089   edges: 1032   complex: 11.24%"
     ]
    },
    {
     "name": "stdout",
     "output_type": "stream",
     "text": [
      "\n",
      "[23  47]  iter: 1090   edges: 1033   complex: 11.25%"
     ]
    },
    {
     "name": "stdout",
     "output_type": "stream",
     "text": [
      "\n",
      "[85  89]  iter: 1091   edges: 1033   complex: 11.25%"
     ]
    },
    {
     "name": "stdout",
     "output_type": "stream",
     "text": [
      "\n",
      "[4  136]  iter: 1092   edges: 1034   complex: 11.26%"
     ]
    },
    {
     "name": "stdout",
     "output_type": "stream",
     "text": [
      "\n",
      "[50  55]  iter: 1093   edges: 1035   complex: 11.27%"
     ]
    },
    {
     "name": "stdout",
     "output_type": "stream",
     "text": [
      "\n",
      "[64  122]  iter: 1094   edges: 1036   complex: 11.29%"
     ]
    },
    {
     "name": "stdout",
     "output_type": "stream",
     "text": [
      "\n",
      "[83  129]  iter: 1095   edges: 1037   complex: 11.3%"
     ]
    },
    {
     "name": "stdout",
     "output_type": "stream",
     "text": [
      "   Score = 0.937"
     ]
    },
    {
     "name": "stdout",
     "output_type": "stream",
     "text": [
      "    <E> = 77.39    log(Z) = 9.77   S = 87.16\n",
      "[122  130]  iter: 1096   edges: 1038   complex: 11.31%"
     ]
    },
    {
     "name": "stdout",
     "output_type": "stream",
     "text": [
      "\n",
      "[27  96]  iter: 1097   edges: 1039   complex: 11.32%"
     ]
    },
    {
     "name": "stdout",
     "output_type": "stream",
     "text": [
      "\n",
      "[71  92]  iter: 1098   edges: 1040   complex: 11.33%"
     ]
    },
    {
     "name": "stdout",
     "output_type": "stream",
     "text": [
      "\n",
      "[84  88]  iter: 1099   edges: 1041   complex: 11.34%"
     ]
    },
    {
     "name": "stdout",
     "output_type": "stream",
     "text": [
      "\n",
      "[10  84]  iter: 1100   edges: 1042   complex: 11.35%"
     ]
    },
    {
     "name": "stdout",
     "output_type": "stream",
     "text": [
      "\n",
      "[87  88]  iter: 1101   edges: 1042   complex: 11.35%"
     ]
    },
    {
     "name": "stdout",
     "output_type": "stream",
     "text": [
      "\n",
      "[125  129]  iter: 1102   edges: 1043   complex: 11.36%"
     ]
    },
    {
     "name": "stdout",
     "output_type": "stream",
     "text": [
      "\n",
      "[48  72]  iter: 1103   edges: 1044   complex: 11.37%"
     ]
    },
    {
     "name": "stdout",
     "output_type": "stream",
     "text": [
      "\n",
      "[122  132]  iter: 1104   edges: 1045   complex: 11.38%"
     ]
    },
    {
     "name": "stdout",
     "output_type": "stream",
     "text": [
      "\n",
      "[27  45]  iter: 1105   edges: 1046   complex: 11.39%"
     ]
    },
    {
     "name": "stdout",
     "output_type": "stream",
     "text": [
      "\n",
      "[67  70]  iter: 1106   edges: 1047   complex: 11.41%"
     ]
    },
    {
     "name": "stdout",
     "output_type": "stream",
     "text": [
      "\n",
      "[63  67]  iter: 1107   edges: 1048   complex: 11.42%"
     ]
    },
    {
     "name": "stdout",
     "output_type": "stream",
     "text": [
      "\n",
      "[84  125]  iter: 1108   edges: 1049   complex: 11.43%"
     ]
    },
    {
     "name": "stdout",
     "output_type": "stream",
     "text": [
      "\n",
      "[96  125]  iter: 1109   edges: 1050   complex: 11.44%"
     ]
    },
    {
     "name": "stdout",
     "output_type": "stream",
     "text": [
      "\n",
      "[22  70]  iter: 1110   edges: 1051   complex: 11.45%"
     ]
    },
    {
     "name": "stdout",
     "output_type": "stream",
     "text": [
      "   Score = 0.937"
     ]
    },
    {
     "name": "stdout",
     "output_type": "stream",
     "text": [
      "    <E> = 77.4    log(Z) = 9.89   S = 87.29\n",
      "[14  130]  iter: 1111   edges: 1052   complex: 11.46%"
     ]
    },
    {
     "name": "stdout",
     "output_type": "stream",
     "text": [
      "\n",
      "[73  89]  iter: 1112   edges: 1053   complex: 11.47%"
     ]
    },
    {
     "name": "stdout",
     "output_type": "stream",
     "text": [
      "\n",
      "[10  124]  iter: 1113   edges: 1054   complex: 11.48%"
     ]
    },
    {
     "name": "stdout",
     "output_type": "stream",
     "text": [
      "\n",
      "[9  83]  iter: 1114   edges: 1055   complex: 11.49%"
     ]
    },
    {
     "name": "stdout",
     "output_type": "stream",
     "text": [
      "\n",
      "[11  71]  iter: 1115   edges: 1056   complex: 11.5%"
     ]
    },
    {
     "name": "stdout",
     "output_type": "stream",
     "text": [
      "\n",
      "[17  116]  iter: 1116   edges: 1057   complex: 11.51%"
     ]
    },
    {
     "name": "stdout",
     "output_type": "stream",
     "text": [
      "\n",
      "[6  41]  iter: 1117   edges: 1058   complex: 11.53%"
     ]
    },
    {
     "name": "stdout",
     "output_type": "stream",
     "text": [
      "\n",
      "[93  116]  iter: 1118   edges: 1059   complex: 11.54%"
     ]
    },
    {
     "name": "stdout",
     "output_type": "stream",
     "text": [
      "\n",
      "[19  79]  iter: 1119   edges: 1060   complex: 11.55%"
     ]
    },
    {
     "name": "stdout",
     "output_type": "stream",
     "text": [
      "\n",
      "[15  43]  iter: 1120   edges: 1061   complex: 11.56%"
     ]
    },
    {
     "name": "stdout",
     "output_type": "stream",
     "text": [
      "\n",
      "[17  24]  iter: 1121   edges: 1062   complex: 11.57%"
     ]
    },
    {
     "name": "stdout",
     "output_type": "stream",
     "text": [
      "\n",
      "[11  62]  iter: 1122   edges: 1063   complex: 11.58%"
     ]
    },
    {
     "name": "stdout",
     "output_type": "stream",
     "text": [
      "\n",
      "[21  47]  iter: 1123   edges: 1064   complex: 11.59%"
     ]
    },
    {
     "name": "stdout",
     "output_type": "stream",
     "text": [
      "\n",
      "[30  116]  iter: 1124   edges: 1064   complex: 11.59%"
     ]
    },
    {
     "name": "stdout",
     "output_type": "stream",
     "text": [
      "\n",
      "[3  41]  iter: 1125   edges: 1065   complex: 11.6%"
     ]
    },
    {
     "name": "stdout",
     "output_type": "stream",
     "text": [
      "   Score = 0.937"
     ]
    },
    {
     "name": "stdout",
     "output_type": "stream",
     "text": [
      "    <E> = 76.9    log(Z) = 10.04   S = 86.94\n",
      "[49  128]  iter: 1126   edges: 1066   complex: 11.61%"
     ]
    },
    {
     "name": "stdout",
     "output_type": "stream",
     "text": [
      "\n",
      "[49  126]  iter: 1127   edges: 1067   complex: 11.62%"
     ]
    },
    {
     "name": "stdout",
     "output_type": "stream",
     "text": [
      "\n",
      "[47  82]  iter: 1128   edges: 1068   complex: 11.63%"
     ]
    },
    {
     "name": "stdout",
     "output_type": "stream",
     "text": [
      "\n",
      "[46  72]  iter: 1129   edges: 1069   complex: 11.64%"
     ]
    },
    {
     "name": "stdout",
     "output_type": "stream",
     "text": [
      "\n",
      "[56  121]  iter: 1130   edges: 1070   complex: 11.66%"
     ]
    },
    {
     "name": "stdout",
     "output_type": "stream",
     "text": [
      "\n",
      "[24  62]  iter: 1131   edges: 1071   complex: 11.67%"
     ]
    },
    {
     "name": "stdout",
     "output_type": "stream",
     "text": [
      "\n",
      "[67  68]  iter: 1132   edges: 1071   complex: 11.67%"
     ]
    },
    {
     "name": "stdout",
     "output_type": "stream",
     "text": [
      "\n",
      "[62  76]  iter: 1133   edges: 1072   complex: 11.68%"
     ]
    },
    {
     "name": "stdout",
     "output_type": "stream",
     "text": [
      "\n",
      "[69  122]  iter: 1134   edges: 1073   complex: 11.69%"
     ]
    },
    {
     "name": "stdout",
     "output_type": "stream",
     "text": [
      "\n",
      "[73  85]  iter: 1135   edges: 1074   complex: 11.7%"
     ]
    },
    {
     "name": "stdout",
     "output_type": "stream",
     "text": [
      "\n",
      "[48  70]  iter: 1136   edges: 1075   complex: 11.71%"
     ]
    },
    {
     "name": "stdout",
     "output_type": "stream",
     "text": [
      "\n",
      "[26  131]  iter: 1137   edges: 1076   complex: 11.72%"
     ]
    },
    {
     "name": "stdout",
     "output_type": "stream",
     "text": [
      "\n",
      "[11  126]  iter: 1138   edges: 1077   complex: 11.73%"
     ]
    },
    {
     "name": "stdout",
     "output_type": "stream",
     "text": [
      "\n",
      "[24  116]  iter: 1139   edges: 1078   complex: 11.74%"
     ]
    },
    {
     "name": "stdout",
     "output_type": "stream",
     "text": [
      "\n",
      "[43  85]  iter: 1140   edges: 1079   complex: 11.75%"
     ]
    },
    {
     "name": "stdout",
     "output_type": "stream",
     "text": [
      "   Score = 0.938"
     ]
    },
    {
     "name": "stdout",
     "output_type": "stream",
     "text": [
      "    <E> = 76.75    log(Z) = 10.2   S = 86.94\n",
      "[67  130]  iter: 1141   edges: 1080   complex: 11.76%"
     ]
    },
    {
     "name": "stdout",
     "output_type": "stream",
     "text": [
      "\n",
      "[1  74]  iter: 1142   edges: 1081   complex: 11.78%"
     ]
    },
    {
     "name": "stdout",
     "output_type": "stream",
     "text": [
      "\n",
      "[1  91]  iter: 1143   edges: 1082   complex: 11.79%"
     ]
    },
    {
     "name": "stdout",
     "output_type": "stream",
     "text": [
      "\n",
      "[15  135]  iter: 1144   edges: 1083   complex: 11.8%"
     ]
    },
    {
     "name": "stdout",
     "output_type": "stream",
     "text": [
      "\n",
      "[77  128]  iter: 1145   edges: 1084   complex: 11.81%"
     ]
    },
    {
     "name": "stdout",
     "output_type": "stream",
     "text": [
      "\n",
      "[66  84]  iter: 1146   edges: 1085   complex: 11.82%"
     ]
    },
    {
     "name": "stdout",
     "output_type": "stream",
     "text": [
      "\n",
      "[23  88]  iter: 1147   edges: 1086   complex: 11.83%"
     ]
    },
    {
     "name": "stdout",
     "output_type": "stream",
     "text": [
      "\n",
      "[84  131]  iter: 1148   edges: 1087   complex: 11.84%"
     ]
    },
    {
     "name": "stdout",
     "output_type": "stream",
     "text": [
      "\n",
      "[65  66]  iter: 1149   edges: 1087   complex: 11.84%"
     ]
    },
    {
     "name": "stdout",
     "output_type": "stream",
     "text": [
      "\n",
      "[26  49]  iter: 1150   edges: 1088   complex: 11.85%"
     ]
    },
    {
     "name": "stdout",
     "output_type": "stream",
     "text": [
      "\n",
      "[5  43]  iter: 1151   edges: 1088   complex: 11.85%"
     ]
    },
    {
     "name": "stdout",
     "output_type": "stream",
     "text": [
      "\n",
      "[19  83]  iter: 1152   edges: 1089   complex: 11.86%"
     ]
    },
    {
     "name": "stdout",
     "output_type": "stream",
     "text": [
      "\n",
      "[50  75]  iter: 1153   edges: 1090   complex: 11.87%"
     ]
    },
    {
     "name": "stdout",
     "output_type": "stream",
     "text": [
      "\n",
      "[5  26]  iter: 1154   edges: 1091   complex: 11.88%"
     ]
    },
    {
     "name": "stdout",
     "output_type": "stream",
     "text": [
      "\n",
      "[5  82]  iter: 1155   edges: 1092   complex: 11.9%"
     ]
    },
    {
     "name": "stdout",
     "output_type": "stream",
     "text": [
      "   Score = 0.939"
     ]
    },
    {
     "name": "stdout",
     "output_type": "stream",
     "text": [
      "    <E> = 76.74    log(Z) = 10.34   S = 87.08\n",
      "[9  122]  iter: 1156   edges: 1093   complex: 11.91%"
     ]
    },
    {
     "name": "stdout",
     "output_type": "stream",
     "text": [
      "\n",
      "[25  66]  iter: 1157   edges: 1094   complex: 11.92%"
     ]
    },
    {
     "name": "stdout",
     "output_type": "stream",
     "text": [
      "\n",
      "[25  121]  iter: 1158   edges: 1095   complex: 11.93%"
     ]
    },
    {
     "name": "stdout",
     "output_type": "stream",
     "text": [
      "\n",
      "[76  77]  iter: 1159   edges: 1095   complex: 11.93%"
     ]
    },
    {
     "name": "stdout",
     "output_type": "stream",
     "text": [
      "\n",
      "[18  88]  iter: 1160   edges: 1096   complex: 11.94%"
     ]
    },
    {
     "name": "stdout",
     "output_type": "stream",
     "text": [
      "\n",
      "[4  6]  iter: 1161   edges: 1097   complex: 11.95%"
     ]
    },
    {
     "name": "stdout",
     "output_type": "stream",
     "text": [
      "\n",
      "[122  135]  iter: 1162   edges: 1098   complex: 11.96%"
     ]
    },
    {
     "name": "stdout",
     "output_type": "stream",
     "text": [
      "\n",
      "[43  88]  iter: 1163   edges: 1099   complex: 11.97%"
     ]
    },
    {
     "name": "stdout",
     "output_type": "stream",
     "text": [
      "\n",
      "[61  125]  iter: 1164   edges: 1100   complex: 11.98%"
     ]
    },
    {
     "name": "stdout",
     "output_type": "stream",
     "text": [
      "\n",
      "[7  17]  iter: 1165   edges: 1101   complex: 11.99%"
     ]
    },
    {
     "name": "stdout",
     "output_type": "stream",
     "text": [
      "\n",
      "[24  90]  iter: 1166   edges: 1102   complex: 12.0%"
     ]
    },
    {
     "name": "stdout",
     "output_type": "stream",
     "text": [
      "\n",
      "[77  96]  iter: 1167   edges: 1102   complex: 12.0%"
     ]
    },
    {
     "name": "stdout",
     "output_type": "stream",
     "text": [
      "\n",
      "[9  113]  iter: 1168   edges: 1103   complex: 12.02%"
     ]
    },
    {
     "name": "stdout",
     "output_type": "stream",
     "text": [
      "\n",
      "[22  67]  iter: 1169   edges: 1104   complex: 12.03%"
     ]
    },
    {
     "name": "stdout",
     "output_type": "stream",
     "text": [
      "\n",
      "[44  125]  iter: 1170   edges: 1105   complex: 12.04%"
     ]
    },
    {
     "name": "stdout",
     "output_type": "stream",
     "text": [
      "   Score = 0.939"
     ]
    },
    {
     "name": "stdout",
     "output_type": "stream",
     "text": [
      "    <E> = 76.18    log(Z) = 10.5   S = 86.68\n",
      "[3  116]  iter: 1171   edges: 1106   complex: 12.05%"
     ]
    },
    {
     "name": "stdout",
     "output_type": "stream",
     "text": [
      "\n",
      "[6  89]  iter: 1172   edges: 1107   complex: 12.06%"
     ]
    },
    {
     "name": "stdout",
     "output_type": "stream",
     "text": [
      "\n",
      "[45  130]  iter: 1173   edges: 1108   complex: 12.07%"
     ]
    },
    {
     "name": "stdout",
     "output_type": "stream",
     "text": [
      "\n",
      "[7  84]  iter: 1174   edges: 1109   complex: 12.08%"
     ]
    },
    {
     "name": "stdout",
     "output_type": "stream",
     "text": [
      "\n",
      "[23  92]  iter: 1175   edges: 1110   complex: 12.09%"
     ]
    },
    {
     "name": "stdout",
     "output_type": "stream",
     "text": [
      "\n",
      "[10  39]  iter: 1176   edges: 1111   complex: 12.1%"
     ]
    },
    {
     "name": "stdout",
     "output_type": "stream",
     "text": [
      "\n",
      "[9  10]  iter: 1177   edges: 1111   complex: 12.1%"
     ]
    },
    {
     "name": "stdout",
     "output_type": "stream",
     "text": [
      "\n",
      "[10  13]  iter: 1178   edges: 1112   complex: 12.11%"
     ]
    },
    {
     "name": "stdout",
     "output_type": "stream",
     "text": [
      "\n",
      "[21  83]  iter: 1179   edges: 1113   complex: 12.12%"
     ]
    },
    {
     "name": "stdout",
     "output_type": "stream",
     "text": [
      "\n",
      "[11  68]  iter: 1180   edges: 1114   complex: 12.14%"
     ]
    },
    {
     "name": "stdout",
     "output_type": "stream",
     "text": [
      "\n",
      "[130  135]  iter: 1181   edges: 1115   complex: 12.15%"
     ]
    },
    {
     "name": "stdout",
     "output_type": "stream",
     "text": [
      "\n",
      "[20  24]  iter: 1182   edges: 1116   complex: 12.16%"
     ]
    },
    {
     "name": "stdout",
     "output_type": "stream",
     "text": [
      "\n",
      "[4  96]  iter: 1183   edges: 1117   complex: 12.17%"
     ]
    },
    {
     "name": "stdout",
     "output_type": "stream",
     "text": [
      "\n",
      "[20  131]  iter: 1184   edges: 1118   complex: 12.18%"
     ]
    },
    {
     "name": "stdout",
     "output_type": "stream",
     "text": [
      "\n",
      "[3  70]  iter: 1185   edges: 1119   complex: 12.19%"
     ]
    },
    {
     "name": "stdout",
     "output_type": "stream",
     "text": [
      "   Score = 0.939"
     ]
    },
    {
     "name": "stdout",
     "output_type": "stream",
     "text": [
      "    <E> = 76.16    log(Z) = 10.64   S = 86.81\n",
      "[124  131]  iter: 1186   edges: 1120   complex: 12.2%"
     ]
    },
    {
     "name": "stdout",
     "output_type": "stream",
     "text": [
      "\n",
      "[70  84]  iter: 1187   edges: 1121   complex: 12.21%"
     ]
    },
    {
     "name": "stdout",
     "output_type": "stream",
     "text": [
      "\n",
      "[48  83]  iter: 1188   edges: 1122   complex: 12.22%"
     ]
    },
    {
     "name": "stdout",
     "output_type": "stream",
     "text": [
      "\n",
      "[72  87]  iter: 1189   edges: 1123   complex: 12.23%"
     ]
    },
    {
     "name": "stdout",
     "output_type": "stream",
     "text": [
      "\n",
      "[38  120]  iter: 1190   edges: 1124   complex: 12.24%"
     ]
    },
    {
     "name": "stdout",
     "output_type": "stream",
     "text": [
      "\n",
      "[38  44]  iter: 1191   edges: 1124   complex: 12.24%"
     ]
    },
    {
     "name": "stdout",
     "output_type": "stream",
     "text": [
      "\n",
      "[87  109]  iter: 1192   edges: 1125   complex: 12.25%"
     ]
    },
    {
     "name": "stdout",
     "output_type": "stream",
     "text": [
      "\n",
      "[23  48]  iter: 1193   edges: 1126   complex: 12.27%"
     ]
    },
    {
     "name": "stdout",
     "output_type": "stream",
     "text": [
      "\n",
      "[60  82]  iter: 1194   edges: 1127   complex: 12.28%"
     ]
    },
    {
     "name": "stdout",
     "output_type": "stream",
     "text": [
      "\n",
      "[8  38]  iter: 1195   edges: 1128   complex: 12.29%"
     ]
    },
    {
     "name": "stdout",
     "output_type": "stream",
     "text": [
      "\n",
      "[7  64]  iter: 1196   edges: 1129   complex: 12.3%"
     ]
    },
    {
     "name": "stdout",
     "output_type": "stream",
     "text": [
      "\n",
      "[49  66]  iter: 1197   edges: 1130   complex: 12.31%"
     ]
    },
    {
     "name": "stdout",
     "output_type": "stream",
     "text": [
      "\n",
      "[3  134]  iter: 1198   edges: 1131   complex: 12.32%"
     ]
    },
    {
     "name": "stdout",
     "output_type": "stream",
     "text": [
      "\n",
      "[8  88]  iter: 1199   edges: 1132   complex: 12.33%"
     ]
    },
    {
     "name": "stdout",
     "output_type": "stream",
     "text": [
      "\n",
      "[21  124]  iter: 1200   edges: 1133   complex: 12.34%"
     ]
    },
    {
     "name": "stdout",
     "output_type": "stream",
     "text": [
      "   Score = 0.939"
     ]
    },
    {
     "name": "stdout",
     "output_type": "stream",
     "text": [
      "    <E> = 75.67    log(Z) = 10.78   S = 86.45\n",
      "[64  88]  iter: 1201   edges: 1134   complex: 12.35%"
     ]
    },
    {
     "name": "stdout",
     "output_type": "stream",
     "text": [
      "\n",
      "[45  71]  iter: 1202   edges: 1135   complex: 12.36%"
     ]
    },
    {
     "name": "stdout",
     "output_type": "stream",
     "text": [
      "\n",
      "[3  91]  iter: 1203   edges: 1136   complex: 12.37%"
     ]
    },
    {
     "name": "stdout",
     "output_type": "stream",
     "text": [
      "\n",
      "[60  92]  iter: 1204   edges: 1137   complex: 12.39%"
     ]
    },
    {
     "name": "stdout",
     "output_type": "stream",
     "text": [
      "\n",
      "[42  89]  iter: 1205   edges: 1138   complex: 12.4%"
     ]
    },
    {
     "name": "stdout",
     "output_type": "stream",
     "text": [
      "\n",
      "[18  43]  iter: 1206   edges: 1139   complex: 12.41%"
     ]
    },
    {
     "name": "stdout",
     "output_type": "stream",
     "text": [
      "\n",
      "[1  49]  iter: 1207   edges: 1140   complex: 12.42%"
     ]
    },
    {
     "name": "stdout",
     "output_type": "stream",
     "text": [
      "\n",
      "[6  18]  iter: 1208   edges: 1141   complex: 12.43%"
     ]
    },
    {
     "name": "stdout",
     "output_type": "stream",
     "text": [
      "\n",
      "[26  70]  iter: 1209   edges: 1142   complex: 12.44%"
     ]
    },
    {
     "name": "stdout",
     "output_type": "stream",
     "text": [
      "\n",
      "[12  19]  iter: 1210   edges: 1143   complex: 12.45%"
     ]
    },
    {
     "name": "stdout",
     "output_type": "stream",
     "text": [
      "\n",
      "[60  72]  iter: 1211   edges: 1144   complex: 12.46%"
     ]
    },
    {
     "name": "stdout",
     "output_type": "stream",
     "text": [
      "\n",
      "[7  129]  iter: 1212   edges: 1145   complex: 12.47%"
     ]
    },
    {
     "name": "stdout",
     "output_type": "stream",
     "text": [
      "\n",
      "[89  91]  iter: 1213   edges: 1145   complex: 12.47%"
     ]
    },
    {
     "name": "stdout",
     "output_type": "stream",
     "text": [
      "\n",
      "[11  64]  iter: 1214   edges: 1146   complex: 12.48%"
     ]
    },
    {
     "name": "stdout",
     "output_type": "stream",
     "text": [
      "\n",
      "[10  46]  iter: 1215   edges: 1147   complex: 12.49%"
     ]
    },
    {
     "name": "stdout",
     "output_type": "stream",
     "text": [
      "   Score = 0.939"
     ]
    },
    {
     "name": "stdout",
     "output_type": "stream",
     "text": [
      "    <E> = 75.57    log(Z) = 10.92   S = 86.49\n",
      "[26  124]  iter: 1216   edges: 1148   complex: 12.51%"
     ]
    },
    {
     "name": "stdout",
     "output_type": "stream",
     "text": [
      "\n",
      "[23  25]  iter: 1217   edges: 1149   complex: 12.52%"
     ]
    },
    {
     "name": "stdout",
     "output_type": "stream",
     "text": [
      "\n",
      "[2  41]  iter: 1218   edges: 1150   complex: 12.53%"
     ]
    },
    {
     "name": "stdout",
     "output_type": "stream",
     "text": [
      "\n",
      "[9  66]  iter: 1219   edges: 1151   complex: 12.54%"
     ]
    },
    {
     "name": "stdout",
     "output_type": "stream",
     "text": [
      "\n",
      "[14  41]  iter: 1220   edges: 1152   complex: 12.55%"
     ]
    },
    {
     "name": "stdout",
     "output_type": "stream",
     "text": [
      "\n",
      "[82  134]  iter: 1221   edges: 1153   complex: 12.56%"
     ]
    },
    {
     "name": "stdout",
     "output_type": "stream",
     "text": [
      "\n",
      "[11  90]  iter: 1222   edges: 1154   complex: 12.57%"
     ]
    },
    {
     "name": "stdout",
     "output_type": "stream",
     "text": [
      "\n",
      "[80  135]  iter: 1223   edges: 1155   complex: 12.58%"
     ]
    },
    {
     "name": "stdout",
     "output_type": "stream",
     "text": [
      "\n",
      "[47  89]  iter: 1224   edges: 1156   complex: 12.59%"
     ]
    },
    {
     "name": "stdout",
     "output_type": "stream",
     "text": [
      "\n",
      "[41  60]  iter: 1225   edges: 1157   complex: 12.6%"
     ]
    },
    {
     "name": "stdout",
     "output_type": "stream",
     "text": [
      "\n",
      "[2  90]  iter: 1226   edges: 1158   complex: 12.61%"
     ]
    },
    {
     "name": "stdout",
     "output_type": "stream",
     "text": [
      "\n",
      "[109  124]  iter: 1227   edges: 1159   complex: 12.63%"
     ]
    },
    {
     "name": "stdout",
     "output_type": "stream",
     "text": [
      "\n",
      "[77  113]  iter: 1228   edges: 1160   complex: 12.64%"
     ]
    },
    {
     "name": "stdout",
     "output_type": "stream",
     "text": [
      "\n",
      "[6  48]  iter: 1229   edges: 1161   complex: 12.65%"
     ]
    },
    {
     "name": "stdout",
     "output_type": "stream",
     "text": [
      "\n",
      "[9  44]  iter: 1230   edges: 1162   complex: 12.66%"
     ]
    },
    {
     "name": "stdout",
     "output_type": "stream",
     "text": [
      "   Score = 0.941"
     ]
    },
    {
     "name": "stdout",
     "output_type": "stream",
     "text": [
      "    <E> = 75.39    log(Z) = 11.02   S = 86.4\n",
      "[14  121]  iter: 1231   edges: 1163   complex: 12.67%"
     ]
    },
    {
     "name": "stdout",
     "output_type": "stream",
     "text": [
      "\n",
      "[49  67]  iter: 1232   edges: 1164   complex: 12.68%"
     ]
    },
    {
     "name": "stdout",
     "output_type": "stream",
     "text": [
      "\n",
      "[22  90]  iter: 1233   edges: 1165   complex: 12.69%"
     ]
    },
    {
     "name": "stdout",
     "output_type": "stream",
     "text": [
      "\n",
      "[1  4]  iter: 1234   edges: 1166   complex: 12.7%"
     ]
    },
    {
     "name": "stdout",
     "output_type": "stream",
     "text": [
      "\n",
      "[89  136]  iter: 1235   edges: 1167   complex: 12.71%"
     ]
    },
    {
     "name": "stdout",
     "output_type": "stream",
     "text": [
      "\n",
      "[67  75]  iter: 1236   edges: 1168   complex: 12.72%"
     ]
    },
    {
     "name": "stdout",
     "output_type": "stream",
     "text": [
      "\n",
      "[29  64]  iter: 1237   edges: 1169   complex: 12.73%"
     ]
    },
    {
     "name": "stdout",
     "output_type": "stream",
     "text": [
      "\n",
      "[87  133]  iter: 1238   edges: 1170   complex: 12.75%"
     ]
    },
    {
     "name": "stdout",
     "output_type": "stream",
     "text": [
      "\n",
      "[6  103]  iter: 1239   edges: 1171   complex: 12.76%"
     ]
    },
    {
     "name": "stdout",
     "output_type": "stream",
     "text": [
      "\n",
      "[23  66]  iter: 1240   edges: 1172   complex: 12.77%"
     ]
    },
    {
     "name": "stdout",
     "output_type": "stream",
     "text": [
      "\n",
      "[15  27]  iter: 1241   edges: 1173   complex: 12.78%"
     ]
    },
    {
     "name": "stdout",
     "output_type": "stream",
     "text": [
      "\n",
      "[39  46]  iter: 1242   edges: 1174   complex: 12.79%"
     ]
    },
    {
     "name": "stdout",
     "output_type": "stream",
     "text": [
      "\n",
      "[22  23]  iter: 1243   edges: 1174   complex: 12.79%"
     ]
    },
    {
     "name": "stdout",
     "output_type": "stream",
     "text": [
      "\n",
      "[64  93]  iter: 1244   edges: 1175   complex: 12.8%"
     ]
    },
    {
     "name": "stdout",
     "output_type": "stream",
     "text": [
      "\n",
      "[42  135]  iter: 1245   edges: 1175   complex: 12.8%"
     ]
    },
    {
     "name": "stdout",
     "output_type": "stream",
     "text": [
      "   Score = 0.942"
     ]
    },
    {
     "name": "stdout",
     "output_type": "stream",
     "text": [
      "    <E> = 75.33    log(Z) = 11.17   S = 86.5\n",
      "[88  124]  iter: 1246   edges: 1176   complex: 12.81%"
     ]
    },
    {
     "name": "stdout",
     "output_type": "stream",
     "text": [
      "\n",
      "[91  126]  iter: 1247   edges: 1177   complex: 12.82%"
     ]
    },
    {
     "name": "stdout",
     "output_type": "stream",
     "text": [
      "\n",
      "[60  62]  iter: 1248   edges: 1178   complex: 12.83%"
     ]
    },
    {
     "name": "stdout",
     "output_type": "stream",
     "text": [
      "\n",
      "[68  82]  iter: 1249   edges: 1179   complex: 12.84%"
     ]
    },
    {
     "name": "stdout",
     "output_type": "stream",
     "text": [
      "\n",
      "[29  77]  iter: 1250   edges: 1180   complex: 12.85%"
     ]
    },
    {
     "name": "stdout",
     "output_type": "stream",
     "text": [
      "\n",
      "[96  136]  iter: 1251   edges: 1181   complex: 12.86%"
     ]
    },
    {
     "name": "stdout",
     "output_type": "stream",
     "text": [
      "\n",
      "[76  80]  iter: 1252   edges: 1181   complex: 12.86%"
     ]
    },
    {
     "name": "stdout",
     "output_type": "stream",
     "text": [
      "\n",
      "[41  43]  iter: 1253   edges: 1182   complex: 12.88%"
     ]
    },
    {
     "name": "stdout",
     "output_type": "stream",
     "text": [
      "\n",
      "[91  135]  iter: 1254   edges: 1183   complex: 12.89%"
     ]
    },
    {
     "name": "stdout",
     "output_type": "stream",
     "text": [
      "\n",
      "[20  66]  iter: 1255   edges: 1184   complex: 12.9%"
     ]
    },
    {
     "name": "stdout",
     "output_type": "stream",
     "text": [
      "\n",
      "[50  73]  iter: 1256   edges: 1185   complex: 12.91%"
     ]
    },
    {
     "name": "stdout",
     "output_type": "stream",
     "text": [
      "\n",
      "[65  102]  iter: 1257   edges: 1186   complex: 12.92%"
     ]
    },
    {
     "name": "stdout",
     "output_type": "stream",
     "text": [
      "\n",
      "[16  44]  iter: 1258   edges: 1187   complex: 12.93%"
     ]
    },
    {
     "name": "stdout",
     "output_type": "stream",
     "text": [
      "\n",
      "[22  43]  iter: 1259   edges: 1188   complex: 12.94%"
     ]
    },
    {
     "name": "stdout",
     "output_type": "stream",
     "text": [
      "\n",
      "[109  135]  iter: 1260   edges: 1189   complex: 12.95%"
     ]
    },
    {
     "name": "stdout",
     "output_type": "stream",
     "text": [
      "   Score = 0.943"
     ]
    },
    {
     "name": "stdout",
     "output_type": "stream",
     "text": [
      "    <E> = 75.07    log(Z) = 11.29   S = 86.36\n",
      "[3  127]  iter: 1261   edges: 1190   complex: 12.96%"
     ]
    },
    {
     "name": "stdout",
     "output_type": "stream",
     "text": [
      "\n",
      "[96  133]  iter: 1262   edges: 1191   complex: 12.97%"
     ]
    },
    {
     "name": "stdout",
     "output_type": "stream",
     "text": [
      "\n",
      "[90  135]  iter: 1263   edges: 1192   complex: 12.98%"
     ]
    },
    {
     "name": "stdout",
     "output_type": "stream",
     "text": [
      "\n",
      "[6  76]  iter: 1264   edges: 1193   complex: 13.0%"
     ]
    },
    {
     "name": "stdout",
     "output_type": "stream",
     "text": [
      "\n",
      "[5  113]  iter: 1265   edges: 1194   complex: 13.01%"
     ]
    },
    {
     "name": "stdout",
     "output_type": "stream",
     "text": [
      "\n",
      "[90  134]  iter: 1266   edges: 1195   complex: 13.02%"
     ]
    },
    {
     "name": "stdout",
     "output_type": "stream",
     "text": [
      "\n",
      "[134  135]  iter: 1267   edges: 1195   complex: 13.02%"
     ]
    },
    {
     "name": "stdout",
     "output_type": "stream",
     "text": [
      "\n",
      "[24  91]  iter: 1268   edges: 1196   complex: 13.03%"
     ]
    },
    {
     "name": "stdout",
     "output_type": "stream",
     "text": [
      "\n",
      "[88  134]  iter: 1269   edges: 1197   complex: 13.04%"
     ]
    },
    {
     "name": "stdout",
     "output_type": "stream",
     "text": [
      "\n",
      "[90  133]  iter: 1270   edges: 1198   complex: 13.05%"
     ]
    },
    {
     "name": "stdout",
     "output_type": "stream",
     "text": [
      "\n",
      "[9  76]  iter: 1271   edges: 1199   complex: 13.06%"
     ]
    },
    {
     "name": "stdout",
     "output_type": "stream",
     "text": [
      "\n",
      "[44  70]  iter: 1272   edges: 1200   complex: 13.07%"
     ]
    },
    {
     "name": "stdout",
     "output_type": "stream",
     "text": [
      "\n",
      "[80  90]  iter: 1273   edges: 1201   complex: 13.08%"
     ]
    },
    {
     "name": "stdout",
     "output_type": "stream",
     "text": [
      "\n",
      "[43  125]  iter: 1274   edges: 1201   complex: 13.08%"
     ]
    },
    {
     "name": "stdout",
     "output_type": "stream",
     "text": [
      "\n",
      "[18  68]  iter: 1275   edges: 1202   complex: 13.09%"
     ]
    },
    {
     "name": "stdout",
     "output_type": "stream",
     "text": [
      "   Score = 0.944"
     ]
    },
    {
     "name": "stdout",
     "output_type": "stream",
     "text": [
      "    <E> = 74.77    log(Z) = 11.43   S = 86.21\n",
      "[133  134]  iter: 1276   edges: 1202   complex: 13.09%"
     ]
    },
    {
     "name": "stdout",
     "output_type": "stream",
     "text": [
      "\n",
      "[80  96]  iter: 1277   edges: 1203   complex: 13.1%"
     ]
    },
    {
     "name": "stdout",
     "output_type": "stream",
     "text": [
      "\n",
      "[62  90]  iter: 1278   edges: 1204   complex: 13.12%"
     ]
    },
    {
     "name": "stdout",
     "output_type": "stream",
     "text": [
      "\n",
      "[20  60]  iter: 1279   edges: 1205   complex: 13.13%"
     ]
    },
    {
     "name": "stdout",
     "output_type": "stream",
     "text": [
      "\n",
      "[91  124]  iter: 1280   edges: 1206   complex: 13.14%"
     ]
    },
    {
     "name": "stdout",
     "output_type": "stream",
     "text": [
      "\n",
      "[2  38]  iter: 1281   edges: 1207   complex: 13.15%"
     ]
    },
    {
     "name": "stdout",
     "output_type": "stream",
     "text": [
      "\n",
      "[84  93]  iter: 1282   edges: 1208   complex: 13.16%"
     ]
    },
    {
     "name": "stdout",
     "output_type": "stream",
     "text": [
      "\n",
      "[45  122]  iter: 1283   edges: 1209   complex: 13.17%"
     ]
    },
    {
     "name": "stdout",
     "output_type": "stream",
     "text": [
      "\n",
      "[103  134]  iter: 1284   edges: 1210   complex: 13.18%"
     ]
    },
    {
     "name": "stdout",
     "output_type": "stream",
     "text": [
      "\n",
      "[68  132]  iter: 1285   edges: 1211   complex: 13.19%"
     ]
    },
    {
     "name": "stdout",
     "output_type": "stream",
     "text": [
      "\n",
      "[17  18]  iter: 1286   edges: 1211   complex: 13.19%"
     ]
    },
    {
     "name": "stdout",
     "output_type": "stream",
     "text": [
      "\n",
      "[26  27]  iter: 1287   edges: 1212   complex: 13.2%"
     ]
    },
    {
     "name": "stdout",
     "output_type": "stream",
     "text": [
      "\n",
      "[23  121]  iter: 1288   edges: 1213   complex: 13.21%"
     ]
    },
    {
     "name": "stdout",
     "output_type": "stream",
     "text": [
      "\n",
      "[92  124]  iter: 1289   edges: 1213   complex: 13.21%"
     ]
    },
    {
     "name": "stdout",
     "output_type": "stream",
     "text": [
      "\n",
      "[114  121]  iter: 1290   edges: 1214   complex: 13.22%"
     ]
    },
    {
     "name": "stdout",
     "output_type": "stream",
     "text": [
      "   Score = 0.944"
     ]
    },
    {
     "name": "stdout",
     "output_type": "stream",
     "text": [
      "    <E> = 74.39    log(Z) = 11.58   S = 85.97\n",
      "[3  81]  iter: 1291   edges: 1215   complex: 13.24%"
     ]
    },
    {
     "name": "stdout",
     "output_type": "stream",
     "text": [
      "\n",
      "[19  20]  iter: 1292   edges: 1215   complex: 13.24%"
     ]
    },
    {
     "name": "stdout",
     "output_type": "stream",
     "text": [
      "\n",
      "[72  88]  iter: 1293   edges: 1216   complex: 13.25%"
     ]
    },
    {
     "name": "stdout",
     "output_type": "stream",
     "text": [
      "\n",
      "[12  23]  iter: 1294   edges: 1217   complex: 13.26%"
     ]
    },
    {
     "name": "stdout",
     "output_type": "stream",
     "text": [
      "\n",
      "[23  76]  iter: 1295   edges: 1218   complex: 13.27%"
     ]
    },
    {
     "name": "stdout",
     "output_type": "stream",
     "text": [
      "\n",
      "[3  122]  iter: 1296   edges: 1219   complex: 13.28%"
     ]
    },
    {
     "name": "stdout",
     "output_type": "stream",
     "text": [
      "\n",
      "[6  7]  iter: 1297   edges: 1219   complex: 13.28%"
     ]
    },
    {
     "name": "stdout",
     "output_type": "stream",
     "text": [
      "\n",
      "[24  81]  iter: 1298   edges: 1220   complex: 13.29%"
     ]
    },
    {
     "name": "stdout",
     "output_type": "stream",
     "text": [
      "\n",
      "[69  127]  iter: 1299   edges: 1221   complex: 13.3%"
     ]
    },
    {
     "name": "stdout",
     "output_type": "stream",
     "text": [
      "\n",
      "[129  136]  iter: 1300   edges: 1222   complex: 13.31%"
     ]
    },
    {
     "name": "stdout",
     "output_type": "stream",
     "text": [
      "\n",
      "[19  76]  iter: 1301   edges: 1223   complex: 13.32%"
     ]
    },
    {
     "name": "stdout",
     "output_type": "stream",
     "text": [
      "\n",
      "[92  125]  iter: 1302   edges: 1224   complex: 13.33%"
     ]
    },
    {
     "name": "stdout",
     "output_type": "stream",
     "text": [
      "\n",
      "[79  89]  iter: 1303   edges: 1225   complex: 13.34%"
     ]
    },
    {
     "name": "stdout",
     "output_type": "stream",
     "text": [
      "\n",
      "[63  130]  iter: 1304   edges: 1226   complex: 13.36%"
     ]
    },
    {
     "name": "stdout",
     "output_type": "stream",
     "text": [
      "\n",
      "[127  135]  iter: 1305   edges: 1227   complex: 13.37%"
     ]
    },
    {
     "name": "stdout",
     "output_type": "stream",
     "text": [
      "   Score = 0.943"
     ]
    },
    {
     "name": "stdout",
     "output_type": "stream",
     "text": [
      "    <E> = 74.48    log(Z) = 11.72   S = 86.2\n",
      "[65  90]  iter: 1306   edges: 1228   complex: 13.38%"
     ]
    },
    {
     "name": "stdout",
     "output_type": "stream",
     "text": [
      "\n",
      "[66  122]  iter: 1307   edges: 1229   complex: 13.39%"
     ]
    },
    {
     "name": "stdout",
     "output_type": "stream",
     "text": [
      "\n",
      "[66  91]  iter: 1308   edges: 1230   complex: 13.4%"
     ]
    },
    {
     "name": "stdout",
     "output_type": "stream",
     "text": [
      "\n",
      "[10  25]  iter: 1309   edges: 1231   complex: 13.41%"
     ]
    },
    {
     "name": "stdout",
     "output_type": "stream",
     "text": [
      "\n",
      "[2  124]  iter: 1310   edges: 1232   complex: 13.42%"
     ]
    },
    {
     "name": "stdout",
     "output_type": "stream",
     "text": [
      "\n",
      "[18  62]  iter: 1311   edges: 1233   complex: 13.43%"
     ]
    },
    {
     "name": "stdout",
     "output_type": "stream",
     "text": [
      "\n",
      "[6  45]  iter: 1312   edges: 1234   complex: 13.44%"
     ]
    },
    {
     "name": "stdout",
     "output_type": "stream",
     "text": [
      "\n",
      "[39  47]  iter: 1313   edges: 1235   complex: 13.45%"
     ]
    },
    {
     "name": "stdout",
     "output_type": "stream",
     "text": [
      "\n",
      "[8  29]  iter: 1314   edges: 1236   complex: 13.46%"
     ]
    },
    {
     "name": "stdout",
     "output_type": "stream",
     "text": [
      "\n",
      "[9  80]  iter: 1315   edges: 1237   complex: 13.47%"
     ]
    },
    {
     "name": "stdout",
     "output_type": "stream",
     "text": [
      "\n",
      "[18  46]  iter: 1316   edges: 1238   complex: 13.49%"
     ]
    },
    {
     "name": "stdout",
     "output_type": "stream",
     "text": [
      "\n",
      "[90  127]  iter: 1317   edges: 1239   complex: 13.5%"
     ]
    },
    {
     "name": "stdout",
     "output_type": "stream",
     "text": [
      "\n",
      "[1  135]  iter: 1318   edges: 1240   complex: 13.51%"
     ]
    },
    {
     "name": "stdout",
     "output_type": "stream",
     "text": [
      "\n",
      "[29  89]  iter: 1319   edges: 1241   complex: 13.52%"
     ]
    },
    {
     "name": "stdout",
     "output_type": "stream",
     "text": [
      "\n",
      "[79  82]  iter: 1320   edges: 1242   complex: 13.53%"
     ]
    },
    {
     "name": "stdout",
     "output_type": "stream",
     "text": [
      "   Score = 0.943"
     ]
    },
    {
     "name": "stdout",
     "output_type": "stream",
     "text": [
      "    <E> = 73.78    log(Z) = 11.85   S = 85.64\n",
      "[125  136]  iter: 1321   edges: 1243   complex: 13.54%"
     ]
    },
    {
     "name": "stdout",
     "output_type": "stream",
     "text": [
      "\n",
      "[63  128]  iter: 1322   edges: 1244   complex: 13.55%"
     ]
    },
    {
     "name": "stdout",
     "output_type": "stream",
     "text": [
      "\n",
      "[72  93]  iter: 1323   edges: 1245   complex: 13.56%"
     ]
    },
    {
     "name": "stdout",
     "output_type": "stream",
     "text": [
      "\n",
      "[24  79]  iter: 1324   edges: 1246   complex: 13.57%"
     ]
    },
    {
     "name": "stdout",
     "output_type": "stream",
     "text": [
      "\n",
      "[30  45]  iter: 1325   edges: 1247   complex: 13.58%"
     ]
    },
    {
     "name": "stdout",
     "output_type": "stream",
     "text": [
      "\n",
      "[24  121]  iter: 1326   edges: 1248   complex: 13.59%"
     ]
    },
    {
     "name": "stdout",
     "output_type": "stream",
     "text": [
      "\n",
      "[87  89]  iter: 1327   edges: 1248   complex: 13.59%"
     ]
    },
    {
     "name": "stdout",
     "output_type": "stream",
     "text": [
      "\n",
      "[116  123]  iter: 1328   edges: 1249   complex: 13.61%"
     ]
    },
    {
     "name": "stdout",
     "output_type": "stream",
     "text": [
      "\n",
      "[4  10]  iter: 1329   edges: 1250   complex: 13.62%"
     ]
    },
    {
     "name": "stdout",
     "output_type": "stream",
     "text": [
      "\n",
      "[1  89]  iter: 1330   edges: 1251   complex: 13.63%"
     ]
    },
    {
     "name": "stdout",
     "output_type": "stream",
     "text": [
      "\n",
      "[8  10]  iter: 1331   edges: 1251   complex: 13.63%"
     ]
    },
    {
     "name": "stdout",
     "output_type": "stream",
     "text": [
      "\n",
      "[66  123]  iter: 1332   edges: 1252   complex: 13.64%"
     ]
    },
    {
     "name": "stdout",
     "output_type": "stream",
     "text": [
      "\n",
      "[29  36]  iter: 1333   edges: 1253   complex: 13.65%"
     ]
    },
    {
     "name": "stdout",
     "output_type": "stream",
     "text": [
      "\n",
      "[2  68]  iter: 1334   edges: 1254   complex: 13.66%"
     ]
    },
    {
     "name": "stdout",
     "output_type": "stream",
     "text": [
      "\n",
      "[21  80]  iter: 1335   edges: 1255   complex: 13.67%"
     ]
    },
    {
     "name": "stdout",
     "output_type": "stream",
     "text": [
      "   Score = 0.944"
     ]
    },
    {
     "name": "stdout",
     "output_type": "stream",
     "text": [
      "    <E> = 74.02    log(Z) = 12.02   S = 86.04\n",
      "[130  134]  iter: 1336   edges: 1256   complex: 13.68%"
     ]
    },
    {
     "name": "stdout",
     "output_type": "stream",
     "text": [
      "\n",
      "[6  24]  iter: 1337   edges: 1257   complex: 13.69%"
     ]
    },
    {
     "name": "stdout",
     "output_type": "stream",
     "text": [
      "\n",
      "[41  74]  iter: 1338   edges: 1258   complex: 13.7%"
     ]
    },
    {
     "name": "stdout",
     "output_type": "stream",
     "text": [
      "\n",
      "[11  29]  iter: 1339   edges: 1258   complex: 13.7%"
     ]
    },
    {
     "name": "stdout",
     "output_type": "stream",
     "text": [
      "\n",
      "[66  96]  iter: 1340   edges: 1259   complex: 13.71%"
     ]
    },
    {
     "name": "stdout",
     "output_type": "stream",
     "text": [
      "\n",
      "[129  135]  iter: 1341   edges: 1260   complex: 13.73%"
     ]
    },
    {
     "name": "stdout",
     "output_type": "stream",
     "text": [
      "\n",
      "[96  121]  iter: 1342   edges: 1261   complex: 13.74%"
     ]
    },
    {
     "name": "stdout",
     "output_type": "stream",
     "text": [
      "\n",
      "[2  84]  iter: 1343   edges: 1262   complex: 13.75%"
     ]
    },
    {
     "name": "stdout",
     "output_type": "stream",
     "text": [
      "\n",
      "[21  27]  iter: 1344   edges: 1263   complex: 13.76%"
     ]
    },
    {
     "name": "stdout",
     "output_type": "stream",
     "text": [
      "\n",
      "[17  47]  iter: 1345   edges: 1264   complex: 13.77%"
     ]
    },
    {
     "name": "stdout",
     "output_type": "stream",
     "text": [
      "\n",
      "[124  128]  iter: 1346   edges: 1265   complex: 13.78%"
     ]
    },
    {
     "name": "stdout",
     "output_type": "stream",
     "text": [
      "\n",
      "[65  87]  iter: 1347   edges: 1266   complex: 13.79%"
     ]
    },
    {
     "name": "stdout",
     "output_type": "stream",
     "text": [
      "\n",
      "[15  22]  iter: 1348   edges: 1267   complex: 13.8%"
     ]
    },
    {
     "name": "stdout",
     "output_type": "stream",
     "text": [
      "\n",
      "[42  122]  iter: 1349   edges: 1268   complex: 13.81%"
     ]
    },
    {
     "name": "stdout",
     "output_type": "stream",
     "text": [
      "\n",
      "[88  109]  iter: 1350   edges: 1269   complex: 13.82%"
     ]
    },
    {
     "name": "stdout",
     "output_type": "stream",
     "text": [
      "   Score = 0.943"
     ]
    },
    {
     "name": "stdout",
     "output_type": "stream",
     "text": [
      "    <E> = 73.58    log(Z) = 12.15   S = 85.73\n",
      "[11  45]  iter: 1351   edges: 1270   complex: 13.83%"
     ]
    },
    {
     "name": "stdout",
     "output_type": "stream",
     "text": [
      "\n",
      "[17  89]  iter: 1352   edges: 1271   complex: 13.85%"
     ]
    },
    {
     "name": "stdout",
     "output_type": "stream",
     "text": [
      "\n",
      "[71  133]  iter: 1353   edges: 1272   complex: 13.86%"
     ]
    },
    {
     "name": "stdout",
     "output_type": "stream",
     "text": [
      "\n",
      "[14  16]  iter: 1354   edges: 1273   complex: 13.87%"
     ]
    },
    {
     "name": "stdout",
     "output_type": "stream",
     "text": [
      "\n",
      "[60  74]  iter: 1355   edges: 1274   complex: 13.88%"
     ]
    },
    {
     "name": "stdout",
     "output_type": "stream",
     "text": [
      "\n",
      "[66  87]  iter: 1356   edges: 1275   complex: 13.89%"
     ]
    },
    {
     "name": "stdout",
     "output_type": "stream",
     "text": [
      "\n",
      "[20  47]  iter: 1357   edges: 1276   complex: 13.9%"
     ]
    },
    {
     "name": "stdout",
     "output_type": "stream",
     "text": [
      "\n",
      "[67  125]  iter: 1358   edges: 1277   complex: 13.91%"
     ]
    },
    {
     "name": "stdout",
     "output_type": "stream",
     "text": [
      "\n",
      "[18  63]  iter: 1359   edges: 1278   complex: 13.92%"
     ]
    },
    {
     "name": "stdout",
     "output_type": "stream",
     "text": [
      "\n",
      "[49  84]  iter: 1360   edges: 1279   complex: 13.93%"
     ]
    },
    {
     "name": "stdout",
     "output_type": "stream",
     "text": [
      "\n",
      "[80  87]  iter: 1361   edges: 1280   complex: 13.94%"
     ]
    },
    {
     "name": "stdout",
     "output_type": "stream",
     "text": [
      "\n",
      "[93  125]  iter: 1362   edges: 1281   complex: 13.95%"
     ]
    },
    {
     "name": "stdout",
     "output_type": "stream",
     "text": [
      "\n",
      "[10  135]  iter: 1363   edges: 1282   complex: 13.97%"
     ]
    },
    {
     "name": "stdout",
     "output_type": "stream",
     "text": [
      "\n",
      "[86  126]  iter: 1364   edges: 1283   complex: 13.98%"
     ]
    },
    {
     "name": "stdout",
     "output_type": "stream",
     "text": [
      "\n",
      "[20  82]  iter: 1365   edges: 1284   complex: 13.99%"
     ]
    },
    {
     "name": "stdout",
     "output_type": "stream",
     "text": [
      "   Score = 0.943"
     ]
    },
    {
     "name": "stdout",
     "output_type": "stream",
     "text": [
      "    <E> = 73.66    log(Z) = 12.28   S = 85.95\n",
      "[2  44]  iter: 1366   edges: 1285   complex: 14.0%"
     ]
    },
    {
     "name": "stdout",
     "output_type": "stream",
     "text": [
      "\n",
      "[45  47]  iter: 1367   edges: 1285   complex: 14.0%"
     ]
    },
    {
     "name": "stdout",
     "output_type": "stream",
     "text": [
      "\n",
      "[9  125]  iter: 1368   edges: 1286   complex: 14.01%"
     ]
    },
    {
     "name": "stdout",
     "output_type": "stream",
     "text": [
      "\n",
      "[29  47]  iter: 1369   edges: 1286   complex: 14.01%"
     ]
    },
    {
     "name": "stdout",
     "output_type": "stream",
     "text": [
      "\n",
      "[123  129]  iter: 1370   edges: 1287   complex: 14.02%"
     ]
    },
    {
     "name": "stdout",
     "output_type": "stream",
     "text": [
      "\n",
      "[6  126]  iter: 1371   edges: 1288   complex: 14.03%"
     ]
    },
    {
     "name": "stdout",
     "output_type": "stream",
     "text": [
      "\n",
      "[15  18]  iter: 1372   edges: 1289   complex: 14.04%"
     ]
    },
    {
     "name": "stdout",
     "output_type": "stream",
     "text": [
      "\n",
      "[11  24]  iter: 1373   edges: 1290   complex: 14.05%"
     ]
    },
    {
     "name": "stdout",
     "output_type": "stream",
     "text": [
      "\n",
      "[20  132]  iter: 1374   edges: 1291   complex: 14.06%"
     ]
    },
    {
     "name": "stdout",
     "output_type": "stream",
     "text": [
      "\n",
      "[123  134]  iter: 1375   edges: 1292   complex: 14.07%"
     ]
    },
    {
     "name": "stdout",
     "output_type": "stream",
     "text": [
      "\n",
      "[47  72]  iter: 1376   edges: 1293   complex: 14.08%"
     ]
    },
    {
     "name": "stdout",
     "output_type": "stream",
     "text": [
      "\n",
      "[19  123]  iter: 1377   edges: 1294   complex: 14.1%"
     ]
    },
    {
     "name": "stdout",
     "output_type": "stream",
     "text": [
      "\n",
      "[68  135]  iter: 1378   edges: 1295   complex: 14.11%"
     ]
    },
    {
     "name": "stdout",
     "output_type": "stream",
     "text": [
      "\n",
      "[18  125]  iter: 1379   edges: 1296   complex: 14.12%"
     ]
    },
    {
     "name": "stdout",
     "output_type": "stream",
     "text": [
      "\n",
      "[83  88]  iter: 1380   edges: 1297   complex: 14.13%"
     ]
    },
    {
     "name": "stdout",
     "output_type": "stream",
     "text": [
      "   Score = 0.944"
     ]
    },
    {
     "name": "stdout",
     "output_type": "stream",
     "text": [
      "    <E> = 73.33    log(Z) = 12.41   S = 85.74\n",
      "[10  27]  iter: 1381   edges: 1298   complex: 14.14%"
     ]
    },
    {
     "name": "stdout",
     "output_type": "stream",
     "text": [
      "\n",
      "[9  26]  iter: 1382   edges: 1299   complex: 14.15%"
     ]
    },
    {
     "name": "stdout",
     "output_type": "stream",
     "text": [
      "\n",
      "[67  85]  iter: 1383   edges: 1300   complex: 14.16%"
     ]
    },
    {
     "name": "stdout",
     "output_type": "stream",
     "text": [
      "\n",
      "[135  136]  iter: 1384   edges: 1300   complex: 14.16%"
     ]
    },
    {
     "name": "stdout",
     "output_type": "stream",
     "text": [
      "\n",
      "[80  93]  iter: 1385   edges: 1300   complex: 14.16%"
     ]
    },
    {
     "name": "stdout",
     "output_type": "stream",
     "text": [
      "\n",
      "[15  90]  iter: 1386   edges: 1301   complex: 14.17%"
     ]
    },
    {
     "name": "stdout",
     "output_type": "stream",
     "text": [
      "\n",
      "[23  126]  iter: 1387   edges: 1302   complex: 14.18%"
     ]
    },
    {
     "name": "stdout",
     "output_type": "stream",
     "text": [
      "\n",
      "[19  84]  iter: 1388   edges: 1303   complex: 14.19%"
     ]
    },
    {
     "name": "stdout",
     "output_type": "stream",
     "text": [
      "\n",
      "[9  22]  iter: 1389   edges: 1304   complex: 14.2%"
     ]
    },
    {
     "name": "stdout",
     "output_type": "stream",
     "text": [
      "\n",
      "[73  135]  iter: 1390   edges: 1305   complex: 14.22%"
     ]
    },
    {
     "name": "stdout",
     "output_type": "stream",
     "text": [
      "\n",
      "[4  26]  iter: 1391   edges: 1306   complex: 14.23%"
     ]
    },
    {
     "name": "stdout",
     "output_type": "stream",
     "text": [
      "\n",
      "[42  129]  iter: 1392   edges: 1307   complex: 14.24%"
     ]
    },
    {
     "name": "stdout",
     "output_type": "stream",
     "text": [
      "\n",
      "[81  126]  iter: 1393   edges: 1308   complex: 14.25%"
     ]
    },
    {
     "name": "stdout",
     "output_type": "stream",
     "text": [
      "\n",
      "[47  61]  iter: 1394   edges: 1309   complex: 14.26%"
     ]
    },
    {
     "name": "stdout",
     "output_type": "stream",
     "text": [
      "\n",
      "[44  134]  iter: 1395   edges: 1310   complex: 14.27%"
     ]
    },
    {
     "name": "stdout",
     "output_type": "stream",
     "text": [
      "   Score = 0.945"
     ]
    },
    {
     "name": "stdout",
     "output_type": "stream",
     "text": [
      "    <E> = 72.72    log(Z) = 12.54   S = 85.26\n",
      "[26  86]  iter: 1396   edges: 1311   complex: 14.28%"
     ]
    },
    {
     "name": "stdout",
     "output_type": "stream",
     "text": [
      "\n",
      "[50  125]  iter: 1397   edges: 1312   complex: 14.29%"
     ]
    },
    {
     "name": "stdout",
     "output_type": "stream",
     "text": [
      "\n",
      "[75  121]  iter: 1398   edges: 1313   complex: 14.3%"
     ]
    },
    {
     "name": "stdout",
     "output_type": "stream",
     "text": [
      "\n",
      "[9  123]  iter: 1399   edges: 1314   complex: 14.31%"
     ]
    },
    {
     "name": "stdout",
     "output_type": "stream",
     "text": [
      "\n",
      "[10  67]  iter: 1400   edges: 1315   complex: 14.32%"
     ]
    },
    {
     "name": "stdout",
     "output_type": "stream",
     "text": [
      "\n",
      "[28  88]  iter: 1401   edges: 1316   complex: 14.34%"
     ]
    },
    {
     "name": "stdout",
     "output_type": "stream",
     "text": [
      "\n",
      "[20  88]  iter: 1402   edges: 1317   complex: 14.35%"
     ]
    },
    {
     "name": "stdout",
     "output_type": "stream",
     "text": [
      "\n",
      "[1  71]  iter: 1403   edges: 1318   complex: 14.36%"
     ]
    },
    {
     "name": "stdout",
     "output_type": "stream",
     "text": [
      "\n",
      "[4  124]  iter: 1404   edges: 1319   complex: 14.37%"
     ]
    },
    {
     "name": "stdout",
     "output_type": "stream",
     "text": [
      "\n",
      "[50  91]  iter: 1405   edges: 1320   complex: 14.38%"
     ]
    },
    {
     "name": "stdout",
     "output_type": "stream",
     "text": [
      "\n",
      "[83  86]  iter: 1406   edges: 1321   complex: 14.39%"
     ]
    },
    {
     "name": "stdout",
     "output_type": "stream",
     "text": [
      "\n",
      "[23  127]  iter: 1407   edges: 1322   complex: 14.4%"
     ]
    },
    {
     "name": "stdout",
     "output_type": "stream",
     "text": [
      "\n",
      "[6  113]  iter: 1408   edges: 1323   complex: 14.41%"
     ]
    },
    {
     "name": "stdout",
     "output_type": "stream",
     "text": [
      "\n",
      "[42  63]  iter: 1409   edges: 1324   complex: 14.42%"
     ]
    },
    {
     "name": "stdout",
     "output_type": "stream",
     "text": [
      "\n",
      "[2  135]  iter: 1410   edges: 1325   complex: 14.43%"
     ]
    },
    {
     "name": "stdout",
     "output_type": "stream",
     "text": [
      "   Score = 0.944"
     ]
    },
    {
     "name": "stdout",
     "output_type": "stream",
     "text": [
      "    <E> = 72.62    log(Z) = 12.66   S = 85.28\n",
      "[4  42]  iter: 1411   edges: 1326   complex: 14.44%"
     ]
    },
    {
     "name": "stdout",
     "output_type": "stream",
     "text": [
      "\n",
      "[26  109]  iter: 1412   edges: 1327   complex: 14.46%"
     ]
    },
    {
     "name": "stdout",
     "output_type": "stream",
     "text": [
      "\n",
      "[93  126]  iter: 1413   edges: 1328   complex: 14.47%"
     ]
    },
    {
     "name": "stdout",
     "output_type": "stream",
     "text": [
      "\n",
      "[121  135]  iter: 1414   edges: 1329   complex: 14.48%"
     ]
    },
    {
     "name": "stdout",
     "output_type": "stream",
     "text": [
      "\n",
      "[71  132]  iter: 1415   edges: 1330   complex: 14.49%"
     ]
    },
    {
     "name": "stdout",
     "output_type": "stream",
     "text": [
      "\n",
      "[45  82]  iter: 1416   edges: 1331   complex: 14.5%"
     ]
    },
    {
     "name": "stdout",
     "output_type": "stream",
     "text": [
      "\n",
      "[50  89]  iter: 1417   edges: 1332   complex: 14.51%"
     ]
    },
    {
     "name": "stdout",
     "output_type": "stream",
     "text": [
      "\n",
      "[7  29]  iter: 1418   edges: 1333   complex: 14.52%"
     ]
    },
    {
     "name": "stdout",
     "output_type": "stream",
     "text": [
      "\n",
      "[82  89]  iter: 1419   edges: 1333   complex: 14.52%"
     ]
    },
    {
     "name": "stdout",
     "output_type": "stream",
     "text": [
      "\n",
      "[25  50]  iter: 1420   edges: 1334   complex: 14.53%"
     ]
    },
    {
     "name": "stdout",
     "output_type": "stream",
     "text": [
      "\n",
      "[1  11]  iter: 1421   edges: 1335   complex: 14.54%"
     ]
    },
    {
     "name": "stdout",
     "output_type": "stream",
     "text": [
      "\n",
      "[44  86]  iter: 1422   edges: 1336   complex: 14.55%"
     ]
    },
    {
     "name": "stdout",
     "output_type": "stream",
     "text": [
      "\n",
      "[66  71]  iter: 1423   edges: 1337   complex: 14.56%"
     ]
    },
    {
     "name": "stdout",
     "output_type": "stream",
     "text": [
      "\n",
      "[5  92]  iter: 1424   edges: 1338   complex: 14.58%"
     ]
    },
    {
     "name": "stdout",
     "output_type": "stream",
     "text": [
      "\n",
      "[16  122]  iter: 1425   edges: 1339   complex: 14.59%"
     ]
    },
    {
     "name": "stdout",
     "output_type": "stream",
     "text": [
      "   Score = 0.945"
     ]
    },
    {
     "name": "stdout",
     "output_type": "stream",
     "text": [
      "    <E> = 72.2    log(Z) = 12.81   S = 85.0\n",
      "[45  87]  iter: 1426   edges: 1340   complex: 14.6%"
     ]
    },
    {
     "name": "stdout",
     "output_type": "stream",
     "text": [
      "\n",
      "[43  46]  iter: 1427   edges: 1341   complex: 14.61%"
     ]
    },
    {
     "name": "stdout",
     "output_type": "stream",
     "text": [
      "\n",
      "[1  2]  iter: 1428   edges: 1341   complex: 14.61%"
     ]
    },
    {
     "name": "stdout",
     "output_type": "stream",
     "text": [
      "\n",
      "[4  65]  iter: 1429   edges: 1342   complex: 14.62%"
     ]
    },
    {
     "name": "stdout",
     "output_type": "stream",
     "text": [
      "\n",
      "[43  83]  iter: 1430   edges: 1343   complex: 14.63%"
     ]
    },
    {
     "name": "stdout",
     "output_type": "stream",
     "text": [
      "\n",
      "[60  66]  iter: 1431   edges: 1344   complex: 14.64%"
     ]
    },
    {
     "name": "stdout",
     "output_type": "stream",
     "text": [
      "\n",
      "[6  21]  iter: 1432   edges: 1345   complex: 14.65%"
     ]
    },
    {
     "name": "stdout",
     "output_type": "stream",
     "text": [
      "\n",
      "[61  130]  iter: 1433   edges: 1346   complex: 14.66%"
     ]
    },
    {
     "name": "stdout",
     "output_type": "stream",
     "text": [
      "\n",
      "[48  87]  iter: 1434   edges: 1347   complex: 14.67%"
     ]
    },
    {
     "name": "stdout",
     "output_type": "stream",
     "text": [
      "\n",
      "[75  91]  iter: 1435   edges: 1348   complex: 14.68%"
     ]
    },
    {
     "name": "stdout",
     "output_type": "stream",
     "text": [
      "\n",
      "[123  125]  iter: 1436   edges: 1348   complex: 14.68%"
     ]
    },
    {
     "name": "stdout",
     "output_type": "stream",
     "text": [
      "\n",
      "[31  86]  iter: 1437   edges: 1349   complex: 14.69%"
     ]
    },
    {
     "name": "stdout",
     "output_type": "stream",
     "text": [
      "\n",
      "[26  76]  iter: 1438   edges: 1349   complex: 14.69%"
     ]
    },
    {
     "name": "stdout",
     "output_type": "stream",
     "text": [
      "\n",
      "[29  90]  iter: 1439   edges: 1350   complex: 14.71%"
     ]
    },
    {
     "name": "stdout",
     "output_type": "stream",
     "text": [
      "\n",
      "[5  96]  iter: 1440   edges: 1351   complex: 14.72%"
     ]
    },
    {
     "name": "stdout",
     "output_type": "stream",
     "text": [
      "   Score = 0.945"
     ]
    },
    {
     "name": "stdout",
     "output_type": "stream",
     "text": [
      "    <E> = 72.36    log(Z) = 12.93   S = 85.29\n",
      "[76  87]  iter: 1441   edges: 1352   complex: 14.73%"
     ]
    },
    {
     "name": "stdout",
     "output_type": "stream",
     "text": [
      "\n",
      "[40  73]  iter: 1442   edges: 1353   complex: 14.74%"
     ]
    },
    {
     "name": "stdout",
     "output_type": "stream",
     "text": [
      "\n",
      "[20  81]  iter: 1443   edges: 1354   complex: 14.75%"
     ]
    },
    {
     "name": "stdout",
     "output_type": "stream",
     "text": [
      "\n",
      "[84  130]  iter: 1444   edges: 1355   complex: 14.76%"
     ]
    },
    {
     "name": "stdout",
     "output_type": "stream",
     "text": [
      "\n",
      "[89  131]  iter: 1445   edges: 1356   complex: 14.77%"
     ]
    },
    {
     "name": "stdout",
     "output_type": "stream",
     "text": [
      "\n",
      "[76  116]  iter: 1446   edges: 1357   complex: 14.78%"
     ]
    },
    {
     "name": "stdout",
     "output_type": "stream",
     "text": [
      "\n",
      "[56  89]  iter: 1447   edges: 1358   complex: 14.79%"
     ]
    },
    {
     "name": "stdout",
     "output_type": "stream",
     "text": [
      "\n",
      "[85  91]  iter: 1448   edges: 1359   complex: 14.8%"
     ]
    },
    {
     "name": "stdout",
     "output_type": "stream",
     "text": [
      "\n",
      "[9  124]  iter: 1449   edges: 1360   complex: 14.81%"
     ]
    },
    {
     "name": "stdout",
     "output_type": "stream",
     "text": [
      "\n",
      "[69  134]  iter: 1450   edges: 1361   complex: 14.83%"
     ]
    },
    {
     "name": "stdout",
     "output_type": "stream",
     "text": [
      "\n",
      "[44  68]  iter: 1451   edges: 1361   complex: 14.83%"
     ]
    },
    {
     "name": "stdout",
     "output_type": "stream",
     "text": [
      "\n",
      "[21  126]  iter: 1452   edges: 1362   complex: 14.84%"
     ]
    },
    {
     "name": "stdout",
     "output_type": "stream",
     "text": [
      "\n",
      "[40  130]  iter: 1453   edges: 1363   complex: 14.85%"
     ]
    },
    {
     "name": "stdout",
     "output_type": "stream",
     "text": [
      "\n",
      "[69  89]  iter: 1454   edges: 1364   complex: 14.86%"
     ]
    },
    {
     "name": "stdout",
     "output_type": "stream",
     "text": [
      "\n",
      "[123  133]  iter: 1455   edges: 1365   complex: 14.87%"
     ]
    },
    {
     "name": "stdout",
     "output_type": "stream",
     "text": [
      "   Score = 0.944"
     ]
    },
    {
     "name": "stdout",
     "output_type": "stream",
     "text": [
      "    <E> = 72.23    log(Z) = 13.07   S = 85.3\n",
      "[103  116]  iter: 1456   edges: 1366   complex: 14.88%"
     ]
    },
    {
     "name": "stdout",
     "output_type": "stream",
     "text": [
      "\n",
      "[5  6]  iter: 1457   edges: 1366   complex: 14.88%"
     ]
    },
    {
     "name": "stdout",
     "output_type": "stream",
     "text": [
      "\n",
      "[74  136]  iter: 1458   edges: 1367   complex: 14.89%"
     ]
    },
    {
     "name": "stdout",
     "output_type": "stream",
     "text": [
      "\n",
      "[7  135]  iter: 1459   edges: 1368   complex: 14.9%"
     ]
    },
    {
     "name": "stdout",
     "output_type": "stream",
     "text": [
      "\n",
      "[2  8]  iter: 1460   edges: 1369   complex: 14.91%"
     ]
    },
    {
     "name": "stdout",
     "output_type": "stream",
     "text": [
      "\n",
      "[77  121]  iter: 1461   edges: 1370   complex: 14.92%"
     ]
    },
    {
     "name": "stdout",
     "output_type": "stream",
     "text": [
      "\n",
      "[62  68]  iter: 1462   edges: 1371   complex: 14.93%"
     ]
    },
    {
     "name": "stdout",
     "output_type": "stream",
     "text": [
      "\n",
      "[23  122]  iter: 1463   edges: 1372   complex: 14.95%"
     ]
    },
    {
     "name": "stdout",
     "output_type": "stream",
     "text": [
      "\n",
      "[85  93]  iter: 1464   edges: 1373   complex: 14.96%"
     ]
    },
    {
     "name": "stdout",
     "output_type": "stream",
     "text": [
      "\n",
      "[21  66]  iter: 1465   edges: 1374   complex: 14.97%"
     ]
    },
    {
     "name": "stdout",
     "output_type": "stream",
     "text": [
      "\n",
      "[6  25]  iter: 1466   edges: 1375   complex: 14.98%"
     ]
    },
    {
     "name": "stdout",
     "output_type": "stream",
     "text": [
      "\n",
      "[21  71]  iter: 1467   edges: 1375   complex: 14.98%"
     ]
    },
    {
     "name": "stdout",
     "output_type": "stream",
     "text": [
      "\n",
      "[65  71]  iter: 1468   edges: 1376   complex: 14.99%"
     ]
    },
    {
     "name": "stdout",
     "output_type": "stream",
     "text": [
      "\n",
      "[64  65]  iter: 1469   edges: 1376   complex: 14.99%"
     ]
    },
    {
     "name": "stdout",
     "output_type": "stream",
     "text": [
      "\n",
      "[10  42]  iter: 1470   edges: 1377   complex: 15.0%"
     ]
    },
    {
     "name": "stdout",
     "output_type": "stream",
     "text": [
      "   Score = 0.946"
     ]
    },
    {
     "name": "stdout",
     "output_type": "stream",
     "text": [
      "    <E> = 71.86    log(Z) = 13.21   S = 85.07\n",
      "[25  76]  iter: 1471   edges: 1378   complex: 15.01%"
     ]
    },
    {
     "name": "stdout",
     "output_type": "stream",
     "text": [
      "\n",
      "[2  126]  iter: 1472   edges: 1379   complex: 15.02%"
     ]
    },
    {
     "name": "stdout",
     "output_type": "stream",
     "text": [
      "\n",
      "[23  49]  iter: 1473   edges: 1380   complex: 15.03%"
     ]
    },
    {
     "name": "stdout",
     "output_type": "stream",
     "text": [
      "\n",
      "[14  26]  iter: 1474   edges: 1381   complex: 15.04%"
     ]
    },
    {
     "name": "stdout",
     "output_type": "stream",
     "text": [
      "\n",
      "[2  125]  iter: 1475   edges: 1382   complex: 15.05%"
     ]
    },
    {
     "name": "stdout",
     "output_type": "stream",
     "text": [
      "\n",
      "[26  68]  iter: 1476   edges: 1383   complex: 15.07%"
     ]
    },
    {
     "name": "stdout",
     "output_type": "stream",
     "text": [
      "\n",
      "[64  136]  iter: 1477   edges: 1384   complex: 15.08%"
     ]
    },
    {
     "name": "stdout",
     "output_type": "stream",
     "text": [
      "\n",
      "[82  118]  iter: 1478   edges: 1384   complex: 15.08%"
     ]
    },
    {
     "name": "stdout",
     "output_type": "stream",
     "text": [
      "\n",
      "[20  121]  iter: 1479   edges: 1385   complex: 15.09%"
     ]
    },
    {
     "name": "stdout",
     "output_type": "stream",
     "text": [
      "\n",
      "[122  136]  iter: 1480   edges: 1385   complex: 15.09%"
     ]
    },
    {
     "name": "stdout",
     "output_type": "stream",
     "text": [
      "\n",
      "[42  127]  iter: 1481   edges: 1386   complex: 15.1%"
     ]
    },
    {
     "name": "stdout",
     "output_type": "stream",
     "text": [
      "\n",
      "[26  73]  iter: 1482   edges: 1387   complex: 15.11%"
     ]
    },
    {
     "name": "stdout",
     "output_type": "stream",
     "text": [
      "\n",
      "[50  70]  iter: 1483   edges: 1388   complex: 15.12%"
     ]
    },
    {
     "name": "stdout",
     "output_type": "stream",
     "text": [
      "\n",
      "[80  118]  iter: 1484   edges: 1389   complex: 15.13%"
     ]
    },
    {
     "name": "stdout",
     "output_type": "stream",
     "text": [
      "\n",
      "[41  45]  iter: 1485   edges: 1390   complex: 15.14%"
     ]
    },
    {
     "name": "stdout",
     "output_type": "stream",
     "text": [
      "   Score = 0.945"
     ]
    },
    {
     "name": "stdout",
     "output_type": "stream",
     "text": [
      "    <E> = 71.63    log(Z) = 13.35   S = 84.99\n",
      "[112  123]  iter: 1486   edges: 1391   complex: 15.15%"
     ]
    },
    {
     "name": "stdout",
     "output_type": "stream",
     "text": [
      "\n",
      "[5  124]  iter: 1487   edges: 1392   complex: 15.16%"
     ]
    },
    {
     "name": "stdout",
     "output_type": "stream",
     "text": [
      "\n",
      "[42  46]  iter: 1488   edges: 1392   complex: 15.16%"
     ]
    },
    {
     "name": "stdout",
     "output_type": "stream",
     "text": [
      "\n",
      "[8  23]  iter: 1489   edges: 1393   complex: 15.17%"
     ]
    },
    {
     "name": "stdout",
     "output_type": "stream",
     "text": [
      "\n",
      "[81  135]  iter: 1490   edges: 1394   complex: 15.19%"
     ]
    },
    {
     "name": "stdout",
     "output_type": "stream",
     "text": [
      "\n",
      "[43  69]  iter: 1491   edges: 1395   complex: 15.2%"
     ]
    },
    {
     "name": "stdout",
     "output_type": "stream",
     "text": [
      "\n",
      "[70  93]  iter: 1492   edges: 1396   complex: 15.21%"
     ]
    },
    {
     "name": "stdout",
     "output_type": "stream",
     "text": [
      "\n",
      "[23  76]  iter: 1493   edges: 1396   complex: 15.21%"
     ]
    },
    {
     "name": "stdout",
     "output_type": "stream",
     "text": [
      "\n",
      "[76  83]  iter: 1494   edges: 1397   complex: 15.22%"
     ]
    },
    {
     "name": "stdout",
     "output_type": "stream",
     "text": [
      "\n",
      "[9  92]  iter: 1495   edges: 1398   complex: 15.23%"
     ]
    },
    {
     "name": "stdout",
     "output_type": "stream",
     "text": [
      "\n",
      "[47  69]  iter: 1496   edges: 1399   complex: 15.24%"
     ]
    },
    {
     "name": "stdout",
     "output_type": "stream",
     "text": [
      "\n",
      "[65  73]  iter: 1497   edges: 1399   complex: 15.24%"
     ]
    },
    {
     "name": "stdout",
     "output_type": "stream",
     "text": [
      "\n",
      "[64  126]  iter: 1498   edges: 1400   complex: 15.25%"
     ]
    },
    {
     "name": "stdout",
     "output_type": "stream",
     "text": [
      "\n",
      "[44  47]  iter: 1499   edges: 1401   complex: 15.26%"
     ]
    },
    {
     "name": "stdout",
     "output_type": "stream",
     "text": [
      "\n",
      "[44  69]  iter: 1500   edges: 1402   complex: 15.27%"
     ]
    },
    {
     "ename": "InterruptException",
     "evalue": "InterruptException:",
     "output_type": "error",
     "traceback": [
      "InterruptException:\n",
      "\n",
      "Stacktrace:\n",
      "  [1] Array\n",
      "    @ ./boot.jl:459 [inlined]\n",
      "  [2] Array\n",
      "    @ ./boot.jl:468 [inlined]\n",
      "  [3] Array\n",
      "    @ ./boot.jl:476 [inlined]\n",
      "  [4] similar\n",
      "    @ ./abstractarray.jl:841 [inlined]\n",
      "  [5] similar\n",
      "    @ ./abstractarray.jl:840 [inlined]\n",
      "  [6] similar\n",
      "    @ ./broadcast.jl:212 [inlined]\n",
      "  [7] similar\n",
      "    @ ./broadcast.jl:211 [inlined]\n",
      "  [8] copy\n",
      "    @ ./broadcast.jl:885 [inlined]\n",
      "  [9] materialize\n",
      "    @ ./broadcast.jl:860 [inlined]\n",
      " [10] gibbs_sampling(q::Int64, h_local::Vector{Float64}, Jij::Array{Float32, 3}, sequences::Matrix{Int8}, site_degree::Vector{Int64}, contact_list::Matrix{Int64}, sweeps::Int64)\n",
      "    @ FCSeqTools ~/Documents/GitHub/FCSeqTools.jl/src/FCSeqTools.jl:416\n",
      " [11] (::FCSeqTools.var\"#3#4\"{Int64, Float64, Int64, Matrix{Int8}, Vector{Float32}, Array{Float64, 3}, Vector{Float64}, Array{Float32, 3}, Vector{Int64}, Matrix{Int64}, Int64})(f::IOStream)\n",
      "    @ FCSeqTools ~/Documents/GitHub/FCSeqTools.jl/src/FCSeqTools.jl:445\n",
      " [12] open(::FCSeqTools.var\"#3#4\"{Int64, Float64, Int64, Matrix{Int8}, Vector{Float32}, Array{Float64, 3}, Vector{Float64}, Array{Float32, 3}, Vector{Int64}, Matrix{Int64}, Int64}, ::String, ::Vararg{String}; kwargs::Base.Pairs{Symbol, Union{}, Tuple{}, NamedTuple{(), Tuple{}}})\n",
      "    @ Base ./io.jl:384\n",
      " [13] open\n",
      "    @ ./io.jl:381 [inlined]\n",
      " [14] E_A_A(q::Int64, pseudo_count::Float64, number::Int64, number_matrix::Matrix{Int8}, filename::String)\n",
      "    @ FCSeqTools ~/Documents/GitHub/FCSeqTools.jl/src/FCSeqTools.jl:440\n",
      " [15] eval\n",
      "    @ ./boot.jl:368 [inlined]\n",
      " [16] include_string(mapexpr::typeof(REPL.softscope), mod::Module, code::String, filename::String)\n",
      "    @ Base ./loading.jl:1428\n",
      " [17] #invokelatest#2\n",
      "    @ ./essentials.jl:729 [inlined]\n",
      " [18] invokelatest\n",
      "    @ ./essentials.jl:726 [inlined]\n",
      " [19] (::VSCodeServer.var\"#198#199\"{VSCodeServer.NotebookRunCellArguments, String})()\n",
      "    @ VSCodeServer ~/.vscode/extensions/julialang.language-julia-1.38.2/scripts/packages/VSCodeServer/src/serve_notebook.jl:19\n",
      " [20] withpath(f::VSCodeServer.var\"#198#199\"{VSCodeServer.NotebookRunCellArguments, String}, path::String)\n",
      "    @ VSCodeServer ~/.vscode/extensions/julialang.language-julia-1.38.2/scripts/packages/VSCodeServer/src/repl.jl:249\n",
      " [21] notebook_runcell_request(conn::VSCodeServer.JSONRPC.JSONRPCEndpoint{Base.PipeEndpoint, Base.PipeEndpoint}, params::VSCodeServer.NotebookRunCellArguments)\n",
      "    @ VSCodeServer ~/.vscode/extensions/julialang.language-julia-1.38.2/scripts/packages/VSCodeServer/src/serve_notebook.jl:13\n",
      " [22] dispatch_msg(x::VSCodeServer.JSONRPC.JSONRPCEndpoint{Base.PipeEndpoint, Base.PipeEndpoint}, dispatcher::VSCodeServer.JSONRPC.MsgDispatcher, msg::Dict{String, Any})\n",
      "    @ VSCodeServer.JSONRPC ~/.vscode/extensions/julialang.language-julia-1.38.2/scripts/packages/JSONRPC/src/typed.jl:67\n",
      " [23] serve_notebook(pipename::String, outputchannel_logger::Base.CoreLogging.SimpleLogger; crashreporting_pipename::String)\n",
      "    @ VSCodeServer ~/.vscode/extensions/julialang.language-julia-1.38.2/scripts/packages/VSCodeServer/src/serve_notebook.jl:139\n",
      " [24] top-level scope\n",
      "    @ ~/.vscode/extensions/julialang.language-julia-1.38.2/scripts/notebook/notebook.jl:32"
     ]
    }
   ],
   "source": [
    "using Random\n",
    "s=time()\n",
    "Random.seed!(2) \n",
    "natural_sequences=do_number_matrix_rna(do_letter_matrix(\"RF00379.txt\"),0.2)               #21       #12000\n",
    "score,likelihood_gain,generated_sequences,Jij,h,contact_list,site_degree,edge_list = E_A_A(5, 0.05, 7000, natural_sequences,\"example_output.txt\");\n",
    "s=time()-s"
   ]
  },
  {
   "cell_type": "markdown",
   "metadata": {},
   "source": [
    "<font size=\"3\">The model obtained has a performance comparable to the fully connected DCA while having just ~20% of its connectivity. The entropy of the model is 35.08. This means that it is able to generate e³⁵ (3.5x10¹⁵) different 55-102 segments for the RF00379 family. \\\n",
    "Now we can test our artificial sequences. We do the classical statistical check of the PCA projection and the two-point correlation representation. \\\n",
    "We test the performance of our model against the one of the Covariance Model. The CM model only contains trivial one-point and secondary information so our model must do better than it. </font>"
   ]
  },
  {
   "cell_type": "code",
   "execution_count": null,
   "metadata": {},
   "outputs": [],
   "source": [
    "cm_sequences=rna_cm_model_generation(0.8,0.05,7000,natural_sequences,ss_contact_matrix);"
   ]
  },
  {
   "cell_type": "code",
   "execution_count": null,
   "metadata": {},
   "outputs": [],
   "source": [
    "plot_stat_check(natural_sequences, generated_sequences, cm_sequences)"
   ]
  },
  {
   "cell_type": "markdown",
   "metadata": {},
   "source": [
    "<font size=\"3\">The E.A.A. artificial molecules are practically statistically indistinguishable from the natural ones. We see that they have a very similar PCA projection (artificial one seems richer just because we have more artificial sequences than natural ones) while Covariance Model fails to capture the details of the distribution. \n",
    "    The selected model has almost a perfect two-point statistics for all site pairs while the CM model only captures it for the ones involved in secondary structure contacts. \\\n",
    "     </font>\n"
   ]
  },
  {
   "cell_type": "markdown",
   "metadata": {},
   "source": [
    "<font size=\"3\">The interpretability is one of the main reasons in our quest to find parsimonious generative models. Now that we are sure we obtained a good generative model with relatively few parameters we can try to interprete them. \\\n",
    "Dividing the added edges in secondary structure contacts, 3D contacts we have:"
   ]
  },
  {
   "cell_type": "code",
   "execution_count": null,
   "metadata": {},
   "outputs": [],
   "source": [
    "edge_interpretation_plot(len,ss_contact_matrix,tertiary_contact_matrix,edge_list[1:50,:])"
   ]
  },
  {
   "cell_type": "markdown",
   "metadata": {},
   "source": [
    "<font size=\"3\">We see that the secondary structure contacts are taken in the first few iteration. We have lot of neighbouring sites probably due to philogenic effects. It is striking that we see some 3D contacts (in particular around site 40) before the NONE edges. This\n",
    "suggests that our algorithm effectively captures some information about the tertiary structure. \\\n",
    "Those results, that are far more general than this simple example, suggest that the added edges have a co-evolutionary interpretation."
   ]
  },
  {
   "cell_type": "markdown",
   "metadata": {},
   "source": [
    "<font size=\"3\">\n",
    "This notebook serves as an example of the application of the techniques described in the main text.\n"
   ]
  }
 ],
 "metadata": {
  "kernelspec": {
   "display_name": "Julia 1.8.5",
   "language": "julia",
   "name": "julia-1.8"
  },
  "language_info": {
   "file_extension": ".jl",
   "mimetype": "application/julia",
   "name": "julia",
   "version": "1.8.5"
  }
 },
 "nbformat": 4,
 "nbformat_minor": 5
}
