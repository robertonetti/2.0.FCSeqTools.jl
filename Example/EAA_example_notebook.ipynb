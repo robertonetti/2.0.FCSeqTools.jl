{
 "cells": [
  {
   "cell_type": "markdown",
   "metadata": {},
   "source": [
    "# Edge Addition Algorithm - simple implementation example"
   ]
  },
  {
   "cell_type": "markdown",
   "metadata": {},
   "source": [
    "<font size=\"3\">Run time is around ~5 minutes with the default input. \\\n",
    "\\\n",
    "In this example we will use the E.A.A. model to build a low-connectivity DCA model. \\\n",
    "The information that we have about the training RNA family consists in: the sequence alignment and the consenus secondary structure (both trough the Covariance Model) and the 3D contacts trough the PDB file. </font> \n"
   ]
  },
  {
   "cell_type": "code",
   "execution_count": 8,
   "id": "20924cd6",
   "metadata": {},
   "outputs": [],
   "source": [
    "#display(HTML(\"<style>.container { width:90% !important; }</style>\"))\n",
    "#using FCSeqTools\n",
    "#include(\"plotting_tools.jl\")\n",
    "#using Revise\n",
    "include(\"FCSeqTools.jl\");"
   ]
  },
  {
   "cell_type": "markdown",
   "metadata": {},
   "source": [
    "<font size=\"3\">Here is an example of  RF00379 molecule and its associated consensus secondary structure. \\\n",
    "To make the execution faster we will not generate full lenght molecules but just a portion from nucleotide 55 to 102. </font>"
   ]
  },
  {
   "cell_type": "code",
   "execution_count": 2,
   "metadata": {},
   "outputs": [],
   "source": [
    "first=55\n",
    "last=102\n",
    "\n",
    "#tertiary_contact_list, tertiary_contact_matrix = tertiary_plot_tools(len, \"mapp_4qln_A.pdb_A_RF00379.txt.csv\", 8);\n",
    "#natural_sequences = do_number_matrix_rna(do_letter_matrix(\"RF00379.txt\"), 0.2)\n",
    "#ss_contact_list, ss_contact_matrix = secondary_structure_plot_tools(\"RF00379.cm\")\n",
    "#natural_sequences = do_number_matrix_rna(do_letter_matrix(\"RF00379.txt\"),0.2)\n",
    "natural_sequences = do_number_matrix_rna(do_letter_matrix(\"RF00379.txt\")[:, first: last], 0.2)\n",
    "#ss_contact_matrix = ss_contact_matrix[first:last,first:last]\n",
    "#tertiary_contact_matrix = tertiary_contact_matrix[first:last,first:last]\n",
    "len = last - first + 1;\n",
    "#println(\"The segment is $len nucletodide long and has $(sum(vec(ss_contact_matrix))) secondary structure contacts. The database contains $(length(natural_sequences[:,1])) sequences.\")\n",
    "#println(\"\\n\", uppercase(join(collect(molecule)[first:last])))\n",
    "#println(\"\\n\", ss_matrix_to_dot_bracket(ss_contact_matrix))"
   ]
  },
  {
   "cell_type": "markdown",
   "metadata": {},
   "source": [
    "<font size=\"3\">Here is a segment example with its associated secondary structure. \\\n",
    "The database has a different size because the data-cleaning procedure depends on the region selected. \\\n",
    "Now we will run the E.A.A. building up our ineraction netwotk edge by edge till we reach a good performance generative model. \\\n",
    "At each iteration the algorithm reports: the added edge, the iteration number, the number of total added edges and the connectivity percentace of the fully connected case.\\\n",
    "Each 15 iterations the algorithm reports: the model score (Pearson between natural and artificial two-point correlations), the model mean energy, the model partition function and the model entropy. "
   ]
  },
  {
   "cell_type": "code",
   "execution_count": 9,
   "metadata": {},
   "outputs": [
    {
     "name": "stdout",
     "output_type": "stream",
     "text": [
      "Fully connected model has 1128 edges and a score around ~ 0.95\n",
      "\n",
      "ij_ab = 12\n",
      "\n",
      "comparison - total: 0.8710983 sum of singles: 0.951850530758512\n",
      "\n",
      "\n",
      "[7  20]  iter: 1   edges: 0   complex: 0.0%   complex: 0.0%\n",
      "ij_ab = 12\n",
      "\n",
      "comparison - total: 0.856684 sum of singles: 0.9233453597047259\n",
      "\n",
      "\n",
      "[8  19]  iter: 2   edges: 0   complex: 0.0%   complex: 0.0%\n",
      "ij_ab = 16\n",
      "\n",
      "comparison - total: 0.76433545 sum of singles: 0.8375436194600637\n",
      "\n",
      "\n",
      "[7  20]  iter: 3   edges: 0   complex: 0.0%   complex: 0.0%\n",
      "ij_ab = 8\n",
      "\n",
      "comparison - total: 0.7034973 sum of singles: 0.7557946489349063\n",
      "\n",
      "\n",
      "[8  19]  iter: 4   edges: 0   complex: 0.0%   complex: 0.0%\n",
      "ij_ab = 16\n",
      "\n",
      "comparison - total: 0.6767139 sum of singles: 0.7498600814579945\n",
      "\n",
      "\n",
      "[27  38]  iter: 5   edges: 0   complex: 0.0%   complex: 0.0%\n",
      "ij_ab = 8\n",
      "\n",
      "comparison - total: 0.6528897 sum of singles: 0.7050525241959213\n",
      "\n",
      "\n",
      "[9  18]  iter: 6   edges: 0   complex: 0.0%   complex: 0.0%\n",
      "ij_ab = 16\n",
      "\n",
      "comparison - total: 0.55470294 sum of singles: 0.631581660371196\n",
      "\n",
      "\n",
      "[6  21]  iter: 7   edges: 0   complex: 0.0%   complex: 0.0%\n",
      "ij_ab = 4\n",
      "\n",
      "comparison - total: 0.57810074 sum of singles: 0.6085491539668969\n",
      "\n",
      "\n",
      "[8  19]  iter: 8   edges: 0   complex: 0.0%   complex: 0.0%\n",
      "ij_ab = 8\n",
      "\n",
      "comparison - total: 0.57631445 sum of singles: 0.6425932806796766\n",
      "\n",
      "\n",
      "[7  20]  iter: 9   edges: 0   complex: 0.0%   complex: 0.0%\n",
      "ij_ab = 12\n",
      "\n",
      "comparison - total: 0.562753 sum of singles: 0.5998996500531902\n",
      "\n",
      "\n",
      "[9  18]  iter: 10   edges: 0   complex: 0.0%   complex: 0.0%\n",
      "ij_ab = 8\n",
      "\n",
      "comparison - total: 0.5497727 sum of singles: 0.6165536492036595\n",
      "\n",
      "\n",
      "[27  38]  iter: 11   edges: 0   complex: 0.0%   complex: 0.0%\n",
      "ij_ab = 12\n",
      "\n",
      "comparison - total: 0.51168346 sum of singles: 0.5635644630201573\n",
      "\n",
      "\n",
      "[5  22]  iter: 12   edges: 0   complex: 0.0%   complex: 0.0%\n",
      "ij_ab = 8\n",
      "\n",
      "comparison - total: 0.45594302 sum of singles: 0.5404586532341935\n",
      "\n",
      "\n",
      "[1  44]  iter: 13   edges: 0   complex: 0.0%   complex: 0.0%\n",
      "ij_ab = 16\n",
      "\n",
      "comparison - total: 0.4135787 sum of singles: 0.4392990717599912\n",
      "\n",
      "\n",
      "[8  19]  iter: 14   edges: 0   complex: 0.0%   complex: 0.0%"
     ]
    },
    {
     "ename": "LoadError",
     "evalue": "InterruptException:",
     "output_type": "error",
     "traceback": [
      "InterruptException:",
      "",
      "Stacktrace:",
      "  [1] Weights (repeats 2 times)",
      "    @ ~/.julia/packages/StatsBase/XgjIN/src/weights.jl:13 [inlined]",
      "  [2] Weights",
      "    @ ~/.julia/packages/StatsBase/XgjIN/src/weights.jl:16 [inlined]",
      "  [3] gibbs_sampling(q::Int64, h_local::Vector{Float64}, Jij::Array{Float32, 3}, sequences::Matrix{Int8}, site_degree::Vector{Int64}, contact_list::Matrix{Int64}, sweeps::Int64)",
      "    @ Main ~/Documents/GitHub/FCSeqTools.jl/Example/FCSeqTools.jl:114",
      "  [4] (::var\"#35#38\"{IOStream, IOStream, Int64, Int64, Float64, Int64, Int64, Int64, Array{Int8, 3}, Vector{Any}, Matrix{Int8}, Vector{Float32}, Array{Float64, 3}, Vector{Float64}, Array{Float32, 3}, Vector{Int64}, Matrix{Int64}, Int64, Int64, Matrix{Int64}})(f2::IOStream)",
      "    @ Main ~/Documents/GitHub/FCSeqTools.jl/Example/FCSeqTools.jl:321",
      "  [5] open(::var\"#35#38\"{IOStream, IOStream, Int64, Int64, Float64, Int64, Int64, Int64, Array{Int8, 3}, Vector{Any}, Matrix{Int8}, Vector{Float32}, Array{Float64, 3}, Vector{Float64}, Array{Float32, 3}, Vector{Int64}, Matrix{Int64}, Int64, Int64, Matrix{Int64}}, ::String, ::Vararg{String}; kwargs::Base.Pairs{Symbol, Union{}, Tuple{}, NamedTuple{(), Tuple{}}})",
      "    @ Base ./io.jl:384",
      "  [6] open",
      "    @ ./io.jl:381 [inlined]",
      "  [7] #34",
      "    @ ~/Documents/GitHub/FCSeqTools.jl/Example/FCSeqTools.jl:313 [inlined]",
      "  [8] open(::var\"#34#37\"{IOStream, Int64, Int64, Float64, Int64, Int64, Int64, Array{Int8, 3}, Vector{Any}, Matrix{Int8}, Vector{Float32}, Array{Float64, 3}, Vector{Float64}, Array{Float32, 3}, Vector{Int64}, Matrix{Int64}, Int64, Int64, Matrix{Int64}}, ::String, ::Vararg{String}; kwargs::Base.Pairs{Symbol, Union{}, Tuple{}, NamedTuple{(), Tuple{}}})",
      "    @ Base ./io.jl:384",
      "  [9] open",
      "    @ ./io.jl:381 [inlined]",
      " [10] #33",
      "    @ ~/Documents/GitHub/FCSeqTools.jl/Example/FCSeqTools.jl:312 [inlined]",
      " [11] open(::var\"#33#36\"{Int64, Int64, Float64, Int64, Int64, Int64, Array{Int8, 3}, Vector{Any}, Matrix{Int8}, Vector{Float32}, Array{Float64, 3}, Vector{Float64}, Array{Float32, 3}, Vector{Int64}, Matrix{Int64}, Int64, Int64, Matrix{Int64}}, ::String, ::Vararg{String}; kwargs::Base.Pairs{Symbol, Union{}, Tuple{}, NamedTuple{(), Tuple{}}})",
      "    @ Base ./io.jl:384",
      " [12] open",
      "    @ ./io.jl:381 [inlined]",
      " [13] E_A_A(q::Int64, n_step::Int64, pseudo_count::Float64, number::Int64, number_matrix::Matrix{Int8}, filename::String, stats::Bool)",
      "    @ Main ~/Documents/GitHub/FCSeqTools.jl/Example/FCSeqTools.jl:311"
     ]
    }
   ],
   "source": [
    "using Random\n",
    "\n",
    "n_step = 10_000\n",
    "\n",
    "s = time()\n",
    "Random.seed!(2) \n",
    "#natural_sequences = do_number_matrix_rna(do_letter_matrix(\"RF00379.txt\"),0.2)               #21            #12000\n",
    "score, likelihood_gain, generated_sequences, Jij, h, contact_list, site_degree, edge_list = E_A_A(5, n_step, 0.05, 7000, natural_sequences,\"example_output.txt\", true);\n",
    "s = time() - s"
   ]
  },
  {
   "cell_type": "markdown",
   "metadata": {},
   "source": [
    "<font size=\"3\">The model obtained has a performance comparable to the fully connected DCA while having just ~20% of its connectivity. The entropy of the model is 35.08. This means that it is able to generate e³⁵ (3.5x10¹⁵) different 55-102 segments for the RF00379 family. \\\n",
    "Now we can test our artificial sequences. We do the classical statistical check of the PCA projection and the two-point correlation representation. \\\n",
    "We test the performance of our model against the one of the Covariance Model. The CM model only contains trivial one-point and secondary information so our model must do better than it. </font>"
   ]
  },
  {
   "cell_type": "code",
   "execution_count": null,
   "metadata": {},
   "outputs": [],
   "source": [
    "cm_sequences = rna_cm_model_generation(0.8,0.05,7000,natural_sequences,ss_contact_matrix);\n"
   ]
  },
  {
   "cell_type": "code",
   "execution_count": null,
   "metadata": {},
   "outputs": [],
   "source": [
    "plot_stat_check(natural_sequences, generated_sequences, cm_sequences)"
   ]
  },
  {
   "cell_type": "markdown",
   "metadata": {},
   "source": [
    "<font size=\"3\">The E.A.A. artificial molecules are practically statistically indistinguishable from the natural ones. We see that they have a very similar PCA projection (artificial one seems richer just because we have more artificial sequences than natural ones) while Covariance Model fails to capture the details of the distribution. \n",
    "    The selected model has almost a perfect two-point statistics for all site pairs while the CM model only captures it for the ones involved in secondary structure contacts. \\\n",
    "     </font>\n"
   ]
  },
  {
   "cell_type": "markdown",
   "metadata": {},
   "source": [
    "<font size=\"3\">The interpretability is one of the main reasons in our quest to find parsimonious generative models. Now that we are sure we obtained a good generative model with relatively few parameters we can try to interprete them. \\\n",
    "Dividing the added edges in secondary structure contacts, 3D contacts we have:"
   ]
  },
  {
   "cell_type": "code",
   "execution_count": null,
   "metadata": {},
   "outputs": [],
   "source": [
    "edge_interpretation_plot(len,ss_contact_matrix,tertiary_contact_matrix,edge_list[1:50,:])"
   ]
  },
  {
   "cell_type": "markdown",
   "metadata": {},
   "source": [
    "<font size=\"3\">We see that the secondary structure contacts are taken in the first few iteration. We have lot of neighbouring sites probably due to philogenic effects. It is striking that we see some 3D contacts (in particular around site 40) before the NONE edges. This\n",
    "suggests that our algorithm effectively captures some information about the tertiary structure. \\\n",
    "Those results, that are far more general than this simple example, suggest that the added edges have a co-evolutionary interpretation."
   ]
  },
  {
   "cell_type": "markdown",
   "metadata": {},
   "source": [
    "<font size=\"3\">\n",
    "This notebook serves as an example of the application of the techniques described in the main text.\n"
   ]
  }
 ],
 "metadata": {
  "kernelspec": {
   "display_name": "Julia 1.8.5",
   "language": "julia",
   "name": "julia-1.8"
  },
  "language_info": {
   "file_extension": ".jl",
   "mimetype": "application/julia",
   "name": "julia",
   "version": "1.8.5"
  },
  "vscode": {
   "interpreter": {
    "hash": "6412a36ae9b8109c1adf793ae61659867359f52a3cfb701a53c331fa90dc1d37"
   }
  }
 },
 "nbformat": 4,
 "nbformat_minor": 5
}
