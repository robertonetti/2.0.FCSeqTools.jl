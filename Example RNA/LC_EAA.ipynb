{
 "cells": [
  {
   "cell_type": "markdown",
   "metadata": {},
   "source": [
    "# Edge Addition Algorithm - simple implementation example"
   ]
  },
  {
   "cell_type": "markdown",
   "metadata": {},
   "source": [
    "<font size=\"3\">Run time is around ~5 minutes with the default input. \\\n",
    "\\\n",
    "In this example we will use the E.A.A. model to build a low-connectivity DCA model. \\\n",
    "The information that we have about the training RNA family consists in: the sequence alignment and the consenus secondary structure (both trough the Covariance Model) and the 3D contacts trough the PDB file. </font> \n"
   ]
  },
  {
   "cell_type": "code",
   "execution_count": 9,
   "id": "20924cd6",
   "metadata": {},
   "outputs": [],
   "source": [
    "#display(HTML(\"<style>.container { width:90% !important; }</style>\"))\n",
    "#using FCSeqTools\n",
    "#include(\"plotting_tools.jl\")\n",
    "#using Revise\n",
    "include(\"FCSeqTools.jl\");"
   ]
  },
  {
   "cell_type": "markdown",
   "metadata": {},
   "source": [
    "<font size=\"3\">Here is an example of  RF00379 molecule and its associated consensus secondary structure. \\\n",
    "To make the execution faster we will not generate full lenght molecules but just a portion from nucleotide 55 to 102. </font>"
   ]
  },
  {
   "cell_type": "code",
   "execution_count": 7,
   "metadata": {},
   "outputs": [],
   "source": [
    "first=55\n",
    "last=102\n",
    "\n",
    "#tertiary_contact_list, tertiary_contact_matrix = tertiary_plot_tools(len, \"mapp_4qln_A.pdb_A_RF00379.txt.csv\", 8);\n",
    "#natural_sequences = do_number_matrix_rna(do_letter_matrix(\"RF00379.txt\"), 0.2)\n",
    "#ss_contact_list, ss_contact_matrix = secondary_structure_plot_tools(\"RF00379.cm\")\n",
    "#natural_sequences = do_number_matrix_rna(do_letter_matrix(\"RF00379.txt\"),0.2)\n",
    "natural_sequences = do_number_matrix_rna(do_letter_matrix(\"RF00379.txt\")[:, first: last], 0.2)\n",
    "#ss_contact_matrix = ss_contact_matrix[first:last,first:last]\n",
    "#tertiary_contact_matrix = tertiary_contact_matrix[first:last,first:last]\n",
    "len = last - first + 1;\n",
    "#println(\"The segment is $len nucletodide long and has $(sum(vec(ss_contact_matrix))) secondary structure contacts. The database contains $(length(natural_sequences[:,1])) sequences.\")\n",
    "#println(\"\\n\", uppercase(join(collect(molecule)[first:last])))\n",
    "#println(\"\\n\", ss_matrix_to_dot_bracket(ss_contact_matrix))"
   ]
  },
  {
   "cell_type": "markdown",
   "metadata": {},
   "source": [
    "<font size=\"3\">Here is a segment example with its associated secondary structure. \\\n",
    "The database has a different size because the data-cleaning procedure depends on the region selected. \\\n",
    "Now we will run the E.A.A. building up our ineraction netwotk edge by edge till we reach a good performance generative model. \\\n",
    "At each iteration the algorithm reports: the added edge, the iteration number, the number of total added edges and the connectivity percentace of the fully connected case.\\\n",
    "Each 15 iterations the algorithm reports: the model score (Pearson between natural and artificial two-point correlations), the model mean energy, the model partition function and the model entropy. "
   ]
  },
  {
   "cell_type": "code",
   "execution_count": 10,
   "metadata": {},
   "outputs": [
    {
     "name": "stdout",
     "output_type": "stream",
     "text": [
      "Fully connected model has 1128 edges, 28200 elements and a score around ~ 0.95\n",
      "\n",
      "iteration = 20,   Score = 0.508,  <E> = 46.31  log(Z) = 0.29,   S = 46.6   edges: 9,   elements: 20,   edge complexity: 0.8%   elements complexity: 0.07%\n",
      "\n",
      "iteration = 40,   Score = 0.621,  <E> = 45.35  log(Z) = 0.6,   S = 45.95   edges: 16,   elements: 38,   edge complexity: 1.42%   elements complexity: 0.13%\n",
      "\n",
      "iteration = 60,   Score = 0.654,  <E> = 43.97  log(Z) = 0.87,   S = 44.84   edges: 21,   elements: 54,   edge complexity: 1.86%   elements complexity: 0.19%\n",
      "\n",
      "iteration = 80,   Score = 0.681,  <E> = 43.29  log(Z) = 1.09,   S = 44.37   edges: 23,   elements: 73,   edge complexity: 2.04%   elements complexity: 0.26%\n",
      "\n",
      "iteration = 100,   Score = 0.7,  <E> = 42.1  log(Z) = 1.38,   S = 43.48   edges: 27,   elements: 90,   edge complexity: 2.39%   elements complexity: 0.32%\n",
      "\n",
      "iteration = 120,   Score = 0.714,  <E> = 41.22  log(Z) = 1.61,   S = 42.83   edges: 32,   elements: 109,   edge complexity: 2.84%   elements complexity: 0.39%\n",
      "\n",
      "iteration = 140,   Score = 0.741,  <E> = 40.59  log(Z) = 1.91,   S = 42.5   edges: 36,   elements: 126,   edge complexity: 3.19%   elements complexity: 0.45%\n",
      "\n",
      "iteration = 160,   Score = 0.755,  <E> = 39.55  log(Z) = 2.11,   S = 41.66   edges: 46,   elements: 146,   edge complexity: 4.08%   elements complexity: 0.52%\n",
      "\n",
      "iteration = 180,   Score = 0.762,  <E> = 39.21  log(Z) = 2.4,   S = 41.61   edges: 50,   elements: 164,   edge complexity: 4.43%   elements complexity: 0.58%\n",
      "\n",
      "iteration = 200,   Score = 0.772,  <E> = 38.36  log(Z) = 2.61,   S = 40.97   edges: 57,   elements: 182,   edge complexity: 5.05%   elements complexity: 0.65%\n",
      "\n",
      "iteration = 220,   Score = 0.781,  <E> = 37.89  log(Z) = 2.88,   S = 40.77   edges: 61,   elements: 197,   edge complexity: 5.41%   elements complexity: 0.7%\n",
      "\n",
      "iteration = 240,   Score = 0.793,  <E> = 37.13  log(Z) = 3.13,   S = 40.25   edges: 69,   elements: 213,   edge complexity: 6.12%   elements complexity: 0.76%\n",
      "\n",
      "iteration = 260,   Score = 0.797,  <E> = 36.44  log(Z) = 3.37,   S = 39.81   edges: 75,   elements: 229,   edge complexity: 6.65%   elements complexity: 0.81%\n",
      "\n",
      "iteration = 280,   Score = 0.81,  <E> = 35.82  log(Z) = 3.66,   S = 39.47   edges: 79,   elements: 243,   edge complexity: 7.0%   elements complexity: 0.86%\n",
      "\n",
      "iteration = 300,   Score = 0.812,  <E> = 35.12  log(Z) = 3.92,   S = 39.04   edges: 91,   elements: 263,   edge complexity: 8.07%   elements complexity: 0.93%\n",
      "\n",
      "iteration = 320,   Score = 0.821,  <E> = 34.81  log(Z) = 4.21,   S = 39.02   edges: 99,   elements: 280,   edge complexity: 8.78%   elements complexity: 0.99%\n",
      "\n",
      "iteration = 340,   Score = 0.83,  <E> = 34.36  log(Z) = 4.44,   S = 38.8   edges: 111,   elements: 298,   edge complexity: 9.84%   elements complexity: 1.06%\n",
      "\n",
      "iteration = 360,   Score = 0.842,  <E> = 34.17  log(Z) = 4.72,   S = 38.89   edges: 120,   elements: 317,   edge complexity: 10.64%   elements complexity: 1.12%\n",
      "\n",
      "iteration = 380,   Score = 0.839,  <E> = 33.64  log(Z) = 4.93,   S = 38.57   edges: 127,   elements: 332,   edge complexity: 11.26%   elements complexity: 1.18%\n",
      "\n",
      "iteration = 400,   Score = 0.846,  <E> = 33.17  log(Z) = 5.21,   S = 38.37   edges: 134,   elements: 349,   edge complexity: 11.88%   elements complexity: 1.24%\n",
      "\n",
      "iteration = 420,   Score = 0.848,  <E> = 32.65  log(Z) = 5.51,   S = 38.15   edges: 139,   elements: 366,   edge complexity: 12.32%   elements complexity: 1.3%\n",
      "\n",
      "iteration = 440,   Score = 0.856,  <E> = 32.32  log(Z) = 5.74,   S = 38.06   edges: 147,   elements: 382,   edge complexity: 13.03%   elements complexity: 1.35%\n",
      "\n",
      "iteration = 460,   Score = 0.86,  <E> = 32.05  log(Z) = 6.02,   S = 38.07   edges: 156,   elements: 398,   edge complexity: 13.83%   elements complexity: 1.41%\n",
      "\n",
      "iteration = 480,   Score = 0.862,  <E> = 31.57  log(Z) = 6.27,   S = 37.84   edges: 166,   elements: 415,   edge complexity: 14.72%   elements complexity: 1.47%\n",
      "\n",
      "iteration = 500,   Score = 0.869,  <E> = 30.98  log(Z) = 6.49,   S = 37.46   edges: 175,   elements: 434,   edge complexity: 15.51%   elements complexity: 1.54%\n",
      "\n",
      "iteration = 520,   Score = 0.868,  <E> = 31.04  log(Z) = 6.76,   S = 37.8   edges: 182,   elements: 451,   edge complexity: 16.13%   elements complexity: 1.6%\n",
      "\n",
      "iteration = 540,   Score = 0.877,  <E> = 30.97  log(Z) = 7.02,   S = 37.99   edges: 191,   elements: 470,   edge complexity: 16.93%   elements complexity: 1.67%\n",
      "\n",
      "iteration = 560,   Score = 0.881,  <E> = 30.88  log(Z) = 7.31,   S = 38.2   edges: 198,   elements: 487,   edge complexity: 17.55%   elements complexity: 1.73%\n",
      "\n",
      "iteration = 580,   Score = 0.883,  <E> = 30.64  log(Z) = 7.54,   S = 38.18   edges: 207,   elements: 507,   edge complexity: 18.35%   elements complexity: 1.8%\n",
      "\n",
      "iteration = 600,   Score = 0.888,  <E> = 30.32  log(Z) = 7.75,   S = 38.07   edges: 216,   elements: 526,   edge complexity: 19.15%   elements complexity: 1.87%\n",
      "\n",
      "iteration = 620,   Score = 0.889,  <E> = 30.31  log(Z) = 8.0,   S = 38.31   edges: 224,   elements: 542,   edge complexity: 19.86%   elements complexity: 1.92%\n",
      "\n",
      "iteration = 640,   Score = 0.892,  <E> = 29.91  log(Z) = 8.26,   S = 38.17   edges: 229,   elements: 560,   edge complexity: 20.3%   elements complexity: 1.99%\n",
      "\n",
      "iteration = 660,   Score = 0.897,  <E> = 29.71  log(Z) = 8.49,   S = 38.2   edges: 236,   elements: 578,   edge complexity: 20.92%   elements complexity: 2.05%\n",
      "\n",
      "iteration = 680,   Score = 0.897,  <E> = 29.48  log(Z) = 8.75,   S = 38.22   edges: 245,   elements: 598,   edge complexity: 21.72%   elements complexity: 2.12%\n",
      "\n",
      "iteration = 700,   Score = 0.903,  <E> = 28.87  log(Z) = 8.97,   S = 37.84   edges: 256,   elements: 616,   edge complexity: 22.7%   elements complexity: 2.18%\n",
      "\n",
      "iteration = 720,   Score = 0.906,  <E> = 28.68  log(Z) = 9.18,   S = 37.86   edges: 262,   elements: 633,   edge complexity: 23.23%   elements complexity: 2.24%\n",
      "\n",
      "iteration = 740,   Score = 0.907,  <E> = 28.7  log(Z) = 9.41,   S = 38.11   edges: 271,   elements: 652,   edge complexity: 24.02%   elements complexity: 2.31%\n",
      "\n",
      "iteration = 760,   Score = 0.909,  <E> = 28.33  log(Z) = 9.65,   S = 37.98   edges: 281,   elements: 668,   edge complexity: 24.91%   elements complexity: 2.37%\n",
      "\n",
      "iteration = 780,   Score = 0.911,  <E> = 28.19  log(Z) = 9.87,   S = 38.07   edges: 288,   elements: 684,   edge complexity: 25.53%   elements complexity: 2.43%\n",
      "\n",
      "iteration = 800,   Score = 0.915,  <E> = 27.98  log(Z) = 10.14,   S = 38.12   edges: 295,   elements: 701,   edge complexity: 26.15%   elements complexity: 2.49%\n",
      "\n",
      "iteration = 820,   Score = 0.916,  <E> = 27.88  log(Z) = 10.36,   S = 38.24   edges: 304,   elements: 721,   edge complexity: 26.95%   elements complexity: 2.56%\n",
      "\n",
      "iteration = 840,   Score = 0.918,  <E> = 27.72  log(Z) = 10.59,   S = 38.31   edges: 308,   elements: 736,   edge complexity: 27.3%   elements complexity: 2.61%\n",
      "\n",
      "iteration = 860,   Score = 0.919,  <E> = 27.37  log(Z) = 10.84,   S = 38.21   edges: 315,   elements: 755,   edge complexity: 27.93%   elements complexity: 2.68%\n",
      "\n",
      "iteration = 880,   Score = 0.919,  <E> = 27.24  log(Z) = 11.09,   S = 38.33   edges: 322,   elements: 774,   edge complexity: 28.55%   elements complexity: 2.74%\n",
      "\n",
      "iteration = 900,   Score = 0.922,  <E> = 27.19  log(Z) = 11.34,   S = 38.52   edges: 328,   elements: 791,   edge complexity: 29.08%   elements complexity: 2.8%\n",
      "\n",
      "iteration = 920,   Score = 0.925,  <E> = 26.81  log(Z) = 11.54,   S = 38.35   edges: 333,   elements: 810,   edge complexity: 29.52%   elements complexity: 2.87%\n",
      "\n",
      "iteration = 940,   Score = 0.925,  <E> = 26.59  log(Z) = 11.77,   S = 38.36   edges: 343,   elements: 829,   edge complexity: 30.41%   elements complexity: 2.94%\n",
      "\n",
      "iteration = 960,   Score = 0.928,  <E> = 26.5  log(Z) = 11.98,   S = 38.48   edges: 349,   elements: 849,   edge complexity: 30.94%   elements complexity: 3.01%\n",
      "\n",
      "iteration = 980,   Score = 0.926,  <E> = 26.16  log(Z) = 12.19,   S = 38.35   edges: 352,   elements: 866,   edge complexity: 31.21%   elements complexity: 3.07%\n",
      "\n",
      "iteration = 1000,   Score = 0.93,  <E> = 25.95  log(Z) = 12.41,   S = 38.36   edges: 358,   elements: 884,   edge complexity: 31.74%   elements complexity: 3.13%\n",
      "\n",
      "iteration = 1020,   Score = 0.931,  <E> = 25.66  log(Z) = 12.6,   S = 38.26   edges: 367,   elements: 904,   edge complexity: 32.54%   elements complexity: 3.21%\n",
      "\n",
      "iteration = 1040,   Score = 0.93,  <E> = 25.26  log(Z) = 12.78,   S = 38.05   edges: 373,   elements: 922,   edge complexity: 33.07%   elements complexity: 3.27%\n",
      "\n",
      "iteration = 1060,   Score = 0.933,  <E> = 25.36  log(Z) = 12.97,   S = 38.33   edges: 377,   elements: 942,   edge complexity: 33.42%   elements complexity: 3.34%\n",
      "\n",
      "iteration = 1080,   Score = 0.931,  <E> = 25.25  log(Z) = 13.18,   S = 38.42   edges: 382,   elements: 961,   edge complexity: 33.87%   elements complexity: 3.41%\n",
      "\n",
      "iteration = 1100,   Score = 0.935,  <E> = 24.95  log(Z) = 13.38,   S = 38.33   edges: 388,   elements: 978,   edge complexity: 34.4%   elements complexity: 3.47%\n",
      "\n",
      "iteration = 1120,   Score = 0.933,  <E> = 25.01  log(Z) = 13.58,   S = 38.59   edges: 394,   elements: 998,   edge complexity: 34.93%   elements complexity: 3.54%\n",
      "\n",
      "iteration = 1140,   Score = 0.934,  <E> = 24.79  log(Z) = 13.79,   S = 38.58   edges: 400,   elements: 1017,   edge complexity: 35.46%   elements complexity: 3.61%\n",
      "\n",
      "iteration = 1160,   Score = 0.935,  <E> = 24.57  log(Z) = 14.02,   S = 38.59   edges: 407,   elements: 1036,   edge complexity: 36.08%   elements complexity: 3.67%\n",
      "\n",
      "iteration = 1180,   Score = 0.936,  <E> = 24.29  log(Z) = 14.21,   S = 38.51   edges: 412,   elements: 1056,   edge complexity: 36.52%   elements complexity: 3.74%\n",
      "\n",
      "iteration = 1200,   Score = 0.935,  <E> = 24.14  log(Z) = 14.42,   S = 38.57   edges: 417,   elements: 1075,   edge complexity: 36.97%   elements complexity: 3.81%\n",
      "\n",
      "iteration = 1220,   Score = 0.938,  <E> = 23.98  log(Z) = 14.61,   S = 38.6   edges: 417,   elements: 1092,   edge complexity: 36.97%   elements complexity: 3.87%\n",
      "\n",
      "iteration = 1240,   Score = 0.94,  <E> = 23.8  log(Z) = 14.77,   S = 38.57   edges: 421,   elements: 1110,   edge complexity: 37.32%   elements complexity: 3.94%\n",
      "\n",
      "iteration = 1260,   Score = 0.938,  <E> = 23.7  log(Z) = 15.01,   S = 38.71   edges: 427,   elements: 1126,   edge complexity: 37.85%   elements complexity: 3.99%\n",
      "\n",
      "iteration = 1280,   Score = 0.942,  <E> = 23.54  log(Z) = 15.22,   S = 38.76   edges: 433,   elements: 1145,   edge complexity: 38.39%   elements complexity: 4.06%\n",
      "\n",
      "iteration = 1300,   Score = 0.94,  <E> = 23.34  log(Z) = 15.43,   S = 38.77   edges: 439,   elements: 1163,   edge complexity: 38.92%   elements complexity: 4.12%\n",
      "\n",
      "iteration = 1320,   Score = 0.942,  <E> = 23.07  log(Z) = 15.66,   S = 38.72   edges: 442,   elements: 1181,   edge complexity: 39.18%   elements complexity: 4.19%\n",
      "\n",
      "iteration = 1340,   Score = 0.942,  <E> = 22.9  log(Z) = 15.83,   S = 38.72   edges: 448,   elements: 1199,   edge complexity: 39.72%   elements complexity: 4.25%\n",
      "\n",
      "iteration = 1360,   Score = 0.944,  <E> = 22.75  log(Z) = 16.02,   S = 38.77   edges: 450,   elements: 1215,   edge complexity: 39.89%   elements complexity: 4.31%\n",
      "\n",
      "iteration = 1380,   Score = 0.943,  <E> = 22.44  log(Z) = 16.21,   S = 38.65   edges: 457,   elements: 1232,   edge complexity: 40.51%   elements complexity: 4.37%\n",
      "\n",
      "iteration = 1400,   Score = 0.945,  <E> = 22.55  log(Z) = 16.38,   S = 38.92   edges: 464,   elements: 1251,   edge complexity: 41.13%   elements complexity: 4.44%\n",
      "\n",
      "iteration = 1420,   Score = 0.945,  <E> = 22.61  log(Z) = 16.56,   S = 39.17   edges: 468,   elements: 1270,   edge complexity: 41.49%   elements complexity: 4.5%\n",
      "\n",
      "iteration = 1440,   Score = 0.944,  <E> = 22.48  log(Z) = 16.76,   S = 39.24   edges: 470,   elements: 1288,   edge complexity: 41.67%   elements complexity: 4.57%\n",
      "\n",
      "iteration = 1460,   Score = 0.944,  <E> = 22.34  log(Z) = 16.91,   S = 39.25   edges: 471,   elements: 1306,   edge complexity: 41.76%   elements complexity: 4.63%\n",
      "\n",
      "iteration = 1480,   Score = 0.945,  <E> = 22.4  log(Z) = 17.12,   S = 39.52   edges: 478,   elements: 1325,   edge complexity: 42.38%   elements complexity: 4.7%\n",
      "\n",
      "iteration = 1500,   Score = 0.947,  <E> = 22.06  log(Z) = 17.32,   S = 39.38   edges: 483,   elements: 1345,   edge complexity: 42.82%   elements complexity: 4.77%\n",
      "\n",
      "iteration = 1520,   Score = 0.949,  <E> = 21.87  log(Z) = 17.5,   S = 39.37   edges: 487,   elements: 1363,   edge complexity: 43.17%   elements complexity: 4.83%\n",
      "\n",
      "iteration = 1540,   Score = 0.947,  <E> = 21.63  log(Z) = 17.68,   S = 39.32   edges: 494,   elements: 1380,   edge complexity: 43.79%   elements complexity: 4.89%\n",
      "\n",
      "iteration = 1560,   Score = 0.948,  <E> = 21.37  log(Z) = 17.87,   S = 39.25   edges: 499,   elements: 1399,   edge complexity: 44.24%   elements complexity: 4.96%\n",
      "\n",
      "iteration = 1580,   Score = 0.949,  <E> = 21.21  log(Z) = 18.05,   S = 39.25   edges: 504,   elements: 1418,   edge complexity: 44.68%   elements complexity: 5.03%\n",
      "\n",
      "iteration = 1600,   Score = 0.949,  <E> = 21.35  log(Z) = 18.22,   S = 39.57   edges: 509,   elements: 1438,   edge complexity: 45.12%   elements complexity: 5.1%\n",
      "\n",
      "iteration = 1620,   Score = 0.951,  <E> = 21.4  log(Z) = 18.41,   S = 39.81\n",
      " \n",
      "The selceted model has 513 edges and a score = 0.95\n"
     ]
    },
    {
     "data": {
      "text/plain": [
       "1126.164116859436"
      ]
     },
     "execution_count": 10,
     "metadata": {},
     "output_type": "execute_result"
    }
   ],
   "source": [
    "using Random\n",
    "\n",
    "n_step = 10_000\n",
    "method = \"largest_component\"\n",
    "s = time()\n",
    "Random.seed!(2) \n",
    "#                                                                                                 #21            #12000                                          #stats  \n",
    "score, likelihood_gain, generated_sequences, Jij, h, contact_list, site_degree, edge_list = E_A_A(5, n_step, 0.05, 7000, natural_sequences,\"example_output.txt\", false, method); \n",
    "s = time() - s"
   ]
  },
  {
   "cell_type": "markdown",
   "metadata": {},
   "source": [
    "<font size=\"3\">The model obtained has a performance comparable to the fully connected DCA while having just ~20% of its connectivity. The entropy of the model is 35.08. This means that it is able to generate e³⁵ (3.5x10¹⁵) different 55-102 segments for the RF00379 family. \\\n",
    "Now we can test our artificial sequences. We do the classical statistical check of the PCA projection and the two-point correlation representation. \\\n",
    "We test the performance of our model against the one of the Covariance Model. The CM model only contains trivial one-point and secondary information so our model must do better than it. </font>"
   ]
  },
  {
   "cell_type": "code",
   "execution_count": null,
   "metadata": {},
   "outputs": [],
   "source": [
    "cm_sequences = rna_cm_model_generation(0.8,0.05,7000,natural_sequences,ss_contact_matrix);\n"
   ]
  },
  {
   "cell_type": "code",
   "execution_count": null,
   "metadata": {},
   "outputs": [],
   "source": [
    "plot_stat_check(natural_sequences, generated_sequences, cm_sequences)"
   ]
  },
  {
   "cell_type": "markdown",
   "metadata": {},
   "source": [
    "<font size=\"3\">The E.A.A. artificial molecules are practically statistically indistinguishable from the natural ones. We see that they have a very similar PCA projection (artificial one seems richer just because we have more artificial sequences than natural ones) while Covariance Model fails to capture the details of the distribution. \n",
    "    The selected model has almost a perfect two-point statistics for all site pairs while the CM model only captures it for the ones involved in secondary structure contacts. \\\n",
    "     </font>\n"
   ]
  },
  {
   "cell_type": "markdown",
   "metadata": {},
   "source": [
    "<font size=\"3\">The interpretability is one of the main reasons in our quest to find parsimonious generative models. Now that we are sure we obtained a good generative model with relatively few parameters we can try to interprete them. \\\n",
    "Dividing the added edges in secondary structure contacts, 3D contacts we have:"
   ]
  },
  {
   "cell_type": "code",
   "execution_count": null,
   "metadata": {},
   "outputs": [],
   "source": [
    "edge_interpretation_plot(len,ss_contact_matrix,tertiary_contact_matrix,edge_list[1:50,:])"
   ]
  },
  {
   "cell_type": "markdown",
   "metadata": {},
   "source": [
    "<font size=\"3\">We see that the secondary structure contacts are taken in the first few iteration. We have lot of neighbouring sites probably due to philogenic effects. It is striking that we see some 3D contacts (in particular around site 40) before the NONE edges. This\n",
    "suggests that our algorithm effectively captures some information about the tertiary structure. \\\n",
    "Those results, that are far more general than this simple example, suggest that the added edges have a co-evolutionary interpretation."
   ]
  },
  {
   "cell_type": "markdown",
   "metadata": {},
   "source": [
    "<font size=\"3\">\n",
    "This notebook serves as an example of the application of the techniques described in the main text.\n"
   ]
  }
 ],
 "metadata": {
  "kernelspec": {
   "display_name": "Julia 1.8.5",
   "language": "julia",
   "name": "julia-1.8"
  },
  "language_info": {
   "file_extension": ".jl",
   "mimetype": "application/julia",
   "name": "julia",
   "version": "1.8.5"
  },
  "vscode": {
   "interpreter": {
    "hash": "6412a36ae9b8109c1adf793ae61659867359f52a3cfb701a53c331fa90dc1d37"
   }
  }
 },
 "nbformat": 4,
 "nbformat_minor": 5
}
