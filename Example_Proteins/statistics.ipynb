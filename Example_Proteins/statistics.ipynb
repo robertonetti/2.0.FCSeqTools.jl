{
 "cells": [
  {
   "cell_type": "code",
   "execution_count": 13,
   "metadata": {},
   "outputs": [],
   "source": [
    "using XLSX\n",
    "using Plots\n",
    "using JLD\n",
    "\n",
    "include(\"FCSeqTools.jl\");"
   ]
  },
  {
   "cell_type": "code",
   "execution_count": 14,
   "metadata": {},
   "outputs": [],
   "source": [
    "method = \"cumulative\"\n",
    "fraction = 0.3\n",
    "stop = 0.95\n",
    "folder_name = method*string(fraction)*\"_stop=\"*string(stop)\n",
    "folder_path = \"/Users/robertonetti/Documents/GitHub/FCSeqTools.jl/Example_Proteins/\"*folder_name*\"/\"  \n",
    "\n",
    "generated_sequences = JLD.load(folder_path*\"generated_sequences.jld\")[\"data\"];\n",
    "natural_sequences = do_number_matrix_prot(do_letter_matrix(\"CM_130530_MC.fasta\"), 0.2);"
   ]
  },
  {
   "cell_type": "code",
   "execution_count": 22,
   "metadata": {},
   "outputs": [],
   "source": [
    "q = 21\n",
    "model_Cij = correlation_two_point(generated_sequences, q, 0);\n",
    "natural_Cij = correlation_two_point(natural_sequences, q, 0)\n",
    "\n",
    "n_element_plot = 500_000\n",
    "generated_Cij_to_plot = zeros(n_element_plot);\n",
    "natural_Cij_to_plot = zeros(n_element_plot);\n",
    "\n",
    "for i in 1:n_element_plot\n",
    "    j = rand(1:length(model_Cij))\n",
    "    generated_Cij_to_plot[i] = model_Cij[j]\n",
    "    natural_Cij_to_plot[i] = natural_Cij[j]\n",
    "end"
   ]
  },
  {
   "cell_type": "code",
   "execution_count": 26,
   "metadata": {},
   "outputs": [
    {
     "data": {
      "text/plain": [
       "\"/Users/robertonetti/Documents/GitHub/FCSeqTools.jl/Example_Proteins/Cij.png\""
      ]
     },
     "execution_count": 26,
     "metadata": {},
     "output_type": "execute_result"
    }
   ],
   "source": [
    "scatter(generated_Cij_to_plot, natural_Cij_to_plot, markershape=:circle, label=:false, xlabel=\"Cij E.A.A.\", ylabel=\"Cij natural\", title=\"E.A.A. (Cij Pearson=0.95, complexity=3.46%)\", alpha=0.2)\n",
    "savefig(\"Cij.png\")"
   ]
  },
  {
   "cell_type": "code",
   "execution_count": null,
   "metadata": {},
   "outputs": [],
   "source": []
  }
 ],
 "metadata": {
  "kernelspec": {
   "display_name": "Julia 1.8.5",
   "language": "julia",
   "name": "julia-1.8"
  },
  "language_info": {
   "file_extension": ".jl",
   "mimetype": "application/julia",
   "name": "julia",
   "version": "1.8.5"
  },
  "orig_nbformat": 4
 },
 "nbformat": 4,
 "nbformat_minor": 2
}
