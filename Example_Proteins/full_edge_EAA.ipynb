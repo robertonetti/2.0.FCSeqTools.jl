{
 "cells": [
  {
   "cell_type": "markdown",
   "metadata": {},
   "source": [
    "# Edge Addition Algorithm - simple implementation example"
   ]
  },
  {
   "cell_type": "markdown",
   "metadata": {},
   "source": [
    "<font size=\"3\">Run time is around ~5 minutes with the default input. \\\n",
    "\\\n",
    "In this example we will use the E.A.A. model to build a low-connectivity DCA model. \\\n",
    "The information that we have about the training RNA family consists in: the sequence alignment and the consenus secondary structure (both trough the Covariance Model) and the 3D contacts trough the PDB file. </font> \n"
   ]
  },
  {
   "cell_type": "code",
   "execution_count": 9,
   "id": "20924cd6",
   "metadata": {},
   "outputs": [],
   "source": [
    "include(\"FCSeqTools.jl\");"
   ]
  },
  {
   "cell_type": "markdown",
   "metadata": {},
   "source": [
    "<font size=\"3\">Here is an example of  RF00379 molecule and its associated consensus secondary structure. \\\n",
    "To make the execution faster we will not generate full lenght molecules but just a portion from nucleotide 55 to 102. </font>"
   ]
  },
  {
   "cell_type": "code",
   "execution_count": 10,
   "metadata": {},
   "outputs": [],
   "source": [
    "natural_sequences = do_number_matrix_prot(do_letter_matrix(\"CM_130530_MC.fasta\"), 0.2);"
   ]
  },
  {
   "cell_type": "markdown",
   "metadata": {},
   "source": [
    "<font size=\"3\">Here is a segment example with its associated secondary structure. \\\n",
    "The database has a different size because the data-cleaning procedure depends on the region selected. \\\n",
    "Now we will run the E.A.A. building up our ineraction netwotk edge by edge till we reach a good performance generative model. \\\n",
    "At each iteration the algorithm reports: the added edge, the iteration number, the number of total added edges and the connectivity percentace of the fully connected case.\\\n",
    "Each 15 iterations the algorithm reports: the model score (Pearson between natural and artificial two-point correlations), the model mean energy, the model partition function and the model entropy. "
   ]
  },
  {
   "cell_type": "code",
   "execution_count": 11,
   "metadata": {},
   "outputs": [
    {
     "name": "stdout",
     "output_type": "stream",
     "text": [
      "Fully connected model has 4560 edges, 2010960 elements and a score around ~ 0.95\n",
      "\n",
      "iteration = 20,   Score = 0.164\n",
      "\n",
      " <E> = 196.36,  log(Z) = 0.82,   S = 197.18\n",
      " edges: 20,   elements: 8820,   edge complexity: 0.44 %,  elements complexity: 0.44 %\n",
      "\n",
      "iteration = 40,   Score = 0.286\n",
      "\n",
      " <E> = 185.3,  log(Z) = 1.62,   S = 186.92\n",
      " edges: 40,   elements: 17640,   edge complexity: 0.88 %,  elements complexity: 0.88 %\n",
      "\n",
      "iteration = 60,   Score = 0.413\n",
      "\n",
      " <E> = 175.23,  log(Z) = 2.44,   S = 177.67\n",
      " edges: 60,   elements: 26460,   edge complexity: 1.32 %,  elements complexity: 1.32 %\n",
      "\n",
      "iteration = 80,   Score = 0.488\n",
      "\n",
      " <E> = 165.46,  log(Z) = 3.16,   S = 168.61\n",
      " edges: 80,   elements: 35280,   edge complexity: 1.75 %,  elements complexity: 1.75 %\n",
      "\n",
      "iteration = 100,   Score = 0.566\n",
      "\n",
      " <E> = 157.06,  log(Z) = 3.93,   S = 160.99\n",
      " edges: 100,   elements: 44100,   edge complexity: 2.19 %,  elements complexity: 2.19 %\n",
      "\n",
      "iteration = 120,   Score = 0.63\n",
      "\n",
      " <E> = 149.28,  log(Z) = 4.86,   S = 154.14\n",
      " edges: 120,   elements: 52920,   edge complexity: 2.63 %,  elements complexity: 2.63 %\n",
      "\n",
      "iteration = 140,   Score = 0.675\n",
      "\n",
      " <E> = 142.66,  log(Z) = 5.53,   S = 148.19\n",
      " edges: 140,   elements: 61740,   edge complexity: 3.07 %,  elements complexity: 3.07 %\n",
      "\n",
      "iteration = 160,   Score = 0.708\n",
      "\n",
      " <E> = 136.57,  log(Z) = 6.32,   S = 142.88\n",
      " edges: 160,   elements: 70560,   edge complexity: 3.51 %,  elements complexity: 3.51 %\n",
      "\n",
      "iteration = 180,   Score = 0.732\n",
      "\n",
      " <E> = 130.45,  log(Z) = 7.24,   S = 137.69\n",
      " edges: 180,   elements: 79380,   edge complexity: 3.95 %,  elements complexity: 3.95 %\n",
      "\n",
      "iteration = 200,   Score = 0.751\n",
      "\n",
      " <E> = 125.49,  log(Z) = 8.09,   S = 133.58\n",
      " edges: 200,   elements: 88200,   edge complexity: 4.39 %,  elements complexity: 4.39 %\n",
      "\n",
      "iteration = 220,   Score = 0.766\n",
      "\n",
      " <E> = 120.25,  log(Z) = 8.99,   S = 129.24\n",
      " edges: 220,   elements: 97020,   edge complexity: 4.82 %,  elements complexity: 4.82 %\n",
      "\n",
      "iteration = 240,   Score = 0.784\n",
      "\n",
      " <E> = 115.62,  log(Z) = 9.86,   S = 125.47\n",
      " edges: 240,   elements: 105840,   edge complexity: 5.26 %,  elements complexity: 5.26 %\n",
      "\n",
      "iteration = 260,   Score = 0.798\n",
      "\n",
      " <E> = 110.52,  log(Z) = 10.56,   S = 121.07\n",
      " edges: 260,   elements: 114660,   edge complexity: 5.7 %,  elements complexity: 5.7 %\n",
      "\n",
      "iteration = 280,   Score = 0.808\n",
      "\n",
      " <E> = 106.02,  log(Z) = 11.46,   S = 117.48\n",
      " edges: 280,   elements: 123480,   edge complexity: 6.14 %,  elements complexity: 6.14 %\n",
      "\n",
      "iteration = 300,   Score = 0.819\n",
      "\n",
      " <E> = 102.28,  log(Z) = 12.31,   S = 114.59\n",
      " edges: 300,   elements: 132300,   edge complexity: 6.58 %,  elements complexity: 6.58 %\n",
      "\n",
      "iteration = 320,   Score = 0.831\n",
      "\n",
      " <E> = 97.82,  log(Z) = 12.95,   S = 110.77\n",
      " edges: 320,   elements: 141120,   edge complexity: 7.02 %,  elements complexity: 7.02 %\n",
      "\n",
      "iteration = 340,   Score = 0.838\n",
      "\n",
      " <E> = 94.43,  log(Z) = 13.85,   S = 108.28\n",
      " edges: 340,   elements: 149940,   edge complexity: 7.46 %,  elements complexity: 7.46 %\n",
      "\n",
      "iteration = 360,   Score = 0.846\n",
      "\n",
      " <E> = 90.97,  log(Z) = 14.61,   S = 105.58\n",
      " edges: 360,   elements: 158760,   edge complexity: 7.89 %,  elements complexity: 7.89 %\n",
      "\n",
      "iteration = 380,   Score = 0.858\n",
      "\n",
      " <E> = 87.1,  log(Z) = 15.37,   S = 102.47\n",
      " edges: 380,   elements: 167580,   edge complexity: 8.33 %,  elements complexity: 8.33 %\n",
      "\n",
      "iteration = 400,   Score = 0.861\n",
      "\n",
      " <E> = 83.34,  log(Z) = 16.24,   S = 99.58\n",
      " edges: 400,   elements: 176400,   edge complexity: 8.77 %,  elements complexity: 8.77 %\n",
      "\n",
      "iteration = 420,   Score = 0.867\n",
      "\n",
      " <E> = 80.55,  log(Z) = 16.94,   S = 97.49\n",
      " edges: 420,   elements: 185220,   edge complexity: 9.21 %,  elements complexity: 9.21 %\n",
      "\n",
      "iteration = 440,   Score = 0.87\n",
      "\n",
      " <E> = 77.29,  log(Z) = 17.8,   S = 95.1\n",
      " edges: 440,   elements: 194040,   edge complexity: 9.65 %,  elements complexity: 9.65 %\n",
      "\n",
      "iteration = 460,   Score = 0.875\n",
      "\n",
      " <E> = 74.05,  log(Z) = 18.63,   S = 92.68\n",
      " edges: 460,   elements: 202860,   edge complexity: 10.09 %,  elements complexity: 10.09 %\n",
      "\n",
      "iteration = 480,   Score = 0.879\n",
      "\n",
      " <E> = 71.45,  log(Z) = 19.21,   S = 90.67\n",
      " edges: 480,   elements: 211680,   edge complexity: 10.53 %,  elements complexity: 10.53 %\n",
      "\n",
      "iteration = 500,   Score = 0.885\n",
      "\n",
      " <E> = 68.34,  log(Z) = 20.05,   S = 88.39\n",
      " edges: 500,   elements: 220500,   edge complexity: 10.96 %,  elements complexity: 10.96 %\n",
      "\n",
      "iteration = 520,   Score = 0.889\n",
      "\n",
      " <E> = 65.76,  log(Z) = 20.74,   S = 86.5\n",
      " edges: 520,   elements: 229320,   edge complexity: 11.4 %,  elements complexity: 11.4 %\n",
      "\n",
      "iteration = 540,   Score = 0.892\n",
      "\n",
      " <E> = 63.09,  log(Z) = 21.49,   S = 84.58\n",
      " edges: 540,   elements: 238140,   edge complexity: 11.84 %,  elements complexity: 11.84 %\n",
      "\n",
      "iteration = 560,   Score = 0.895\n",
      "\n",
      " <E> = 60.7,  log(Z) = 22.11,   S = 82.81\n",
      " edges: 560,   elements: 246960,   edge complexity: 12.28 %,  elements complexity: 12.28 %\n",
      "\n",
      "iteration = 580,   Score = 0.901\n",
      "\n",
      " <E> = 58.11,  log(Z) = 22.8,   S = 80.91\n",
      " \n",
      "The selceted model has 579 edges and a score = 0.9\n"
     ]
    },
    {
     "data": {
      "text/plain": [
       "4250.3807780742645"
      ]
     },
     "execution_count": 11,
     "metadata": {},
     "output_type": "execute_result"
    }
   ],
   "source": [
    "using Random\n",
    "\n",
    "n_step = 100_000\n",
    "method = \"full_edge\"\n",
    "\n",
    "s = time()\n",
    "Random.seed!(2) \n",
    "#                                                                                                 #21            #12000                                          #stats  #cumulative\n",
    "score, likelihood_gain, generated_sequences, Jij, h, contact_list, site_degree, edge_list = E_A_A(21, n_step, 0.05, 12000, natural_sequences, \"example_output.txt\", method); \n",
    "\n",
    "s = time() - s"
   ]
  },
  {
   "cell_type": "markdown",
   "metadata": {},
   "source": [
    "<font size=\"3\">The model obtained has a performance comparable to the fully connected DCA while having just ~20% of its connectivity. The entropy of the model is 35.08. This means that it is able to generate e³⁵ (3.5x10¹⁵) different 55-102 segments for the RF00379 family. \\\n",
    "Now we can test our artificial sequences. We do the classical statistical check of the PCA projection and the two-point correlation representation. \\\n",
    "We test the performance of our model against the one of the Covariance Model. The CM model only contains trivial one-point and secondary information so our model must do better than it. </font>"
   ]
  },
  {
   "cell_type": "code",
   "execution_count": null,
   "metadata": {},
   "outputs": [],
   "source": [
    "cm_sequences = rna_cm_model_generation(0.8,0.05,7000,natural_sequences,ss_contact_matrix);\n"
   ]
  },
  {
   "cell_type": "code",
   "execution_count": null,
   "metadata": {},
   "outputs": [],
   "source": [
    "plot_stat_check(natural_sequences, generated_sequences, cm_sequences)"
   ]
  },
  {
   "cell_type": "markdown",
   "metadata": {},
   "source": [
    "<font size=\"3\">The E.A.A. artificial molecules are practically statistically indistinguishable from the natural ones. We see that they have a very similar PCA projection (artificial one seems richer just because we have more artificial sequences than natural ones) while Covariance Model fails to capture the details of the distribution. \n",
    "    The selected model has almost a perfect two-point statistics for all site pairs while the CM model only captures it for the ones involved in secondary structure contacts. \\\n",
    "     </font>\n"
   ]
  },
  {
   "cell_type": "markdown",
   "metadata": {},
   "source": [
    "<font size=\"3\">The interpretability is one of the main reasons in our quest to find parsimonious generative models. Now that we are sure we obtained a good generative model with relatively few parameters we can try to interprete them. \\\n",
    "Dividing the added edges in secondary structure contacts, 3D contacts we have:"
   ]
  },
  {
   "cell_type": "code",
   "execution_count": null,
   "metadata": {},
   "outputs": [],
   "source": [
    "edge_interpretation_plot(len,ss_contact_matrix,tertiary_contact_matrix,edge_list[1:50,:])"
   ]
  },
  {
   "cell_type": "markdown",
   "metadata": {},
   "source": [
    "<font size=\"3\">We see that the secondary structure contacts are taken in the first few iteration. We have lot of neighbouring sites probably due to philogenic effects. It is striking that we see some 3D contacts (in particular around site 40) before the NONE edges. This\n",
    "suggests that our algorithm effectively captures some information about the tertiary structure. \\\n",
    "Those results, that are far more general than this simple example, suggest that the added edges have a co-evolutionary interpretation."
   ]
  },
  {
   "cell_type": "markdown",
   "metadata": {},
   "source": [
    "<font size=\"3\">\n",
    "This notebook serves as an example of the application of the techniques described in the main text.\n"
   ]
  }
 ],
 "metadata": {
  "kernelspec": {
   "display_name": "Julia 1.8.5",
   "language": "julia",
   "name": "julia-1.8"
  },
  "language_info": {
   "file_extension": ".jl",
   "mimetype": "application/julia",
   "name": "julia",
   "version": "1.8.5"
  },
  "vscode": {
   "interpreter": {
    "hash": "6412a36ae9b8109c1adf793ae61659867359f52a3cfb701a53c331fa90dc1d37"
   }
  }
 },
 "nbformat": 4,
 "nbformat_minor": 5
}
