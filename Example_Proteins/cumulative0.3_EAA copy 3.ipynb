{
 "cells": [
  {
   "cell_type": "markdown",
   "metadata": {},
   "source": [
    "# Edge Addition Algorithm - simple implementation example"
   ]
  },
  {
   "cell_type": "markdown",
   "metadata": {},
   "source": [
    "<font size=\"3\">Run time is around ~5 minutes with the default input. \\\n",
    "\\\n",
    "In this example we will use the E.A.A. model to build a low-connectivity DCA model. \\\n",
    "The information that we have about the training RNA family consists in: the sequence alignment and the consenus secondary structure (both trough the Covariance Model) and the 3D contacts trough the PDB file. </font> \n"
   ]
  },
  {
   "cell_type": "code",
   "execution_count": 1,
   "id": "20924cd6",
   "metadata": {},
   "outputs": [],
   "source": [
    "include(\"FCSeqTools.jl\");"
   ]
  },
  {
   "cell_type": "markdown",
   "metadata": {},
   "source": [
    "<font size=\"3\">Here is an example of  RF00379 molecule and its associated consensus secondary structure. \\\n",
    "To make the execution faster we will not generate full lenght molecules but just a portion from nucleotide 55 to 102. </font>"
   ]
  },
  {
   "cell_type": "code",
   "execution_count": 2,
   "metadata": {},
   "outputs": [],
   "source": [
    "natural_sequences = do_number_matrix_prot(do_letter_matrix(\"CM_130530_MC.fasta\"), 0.2);"
   ]
  },
  {
   "cell_type": "markdown",
   "metadata": {},
   "source": [
    "<font size=\"3\">Here is a segment example with its associated secondary structure. \\\n",
    "The database has a different size because the data-cleaning procedure depends on the region selected. \\\n",
    "Now we will run the E.A.A. building up our ineraction netwotk edge by edge till we reach a good performance generative model. \\\n",
    "At each iteration the algorithm reports: the added edge, the iteration number, the number of total added edges and the connectivity percentace of the fully connected case.\\\n",
    "Each 15 iterations the algorithm reports: the model score (Pearson between natural and artificial two-point correlations), the model mean energy, the model partition function and the model entropy. "
   ]
  },
  {
   "cell_type": "code",
   "execution_count": 3,
   "metadata": {},
   "outputs": [
    {
     "name": "stdout",
     "output_type": "stream",
     "text": [
      "Fully connected model has 4560 edges, 2010960 elements and a score around ~ 0.95\n",
      "\n",
      "iteration = 20,   Score = 0.097\n",
      "\n",
      " <E> = 200.85,  log(Z) = 0.85,   S = 201.7\n",
      " edges: 20,   elements: 170,   edge complexity: 0.44 %,  elements complexity: 0.01 %\n",
      "\n",
      "iteration = 40,   Score = 0.157\n",
      "\n",
      " <E> = 196.09,  log(Z) = 2.16,   S = 198.25\n",
      " edges: 39,   elements: 350,   edge complexity: 0.86 %,  elements complexity: 0.02 %\n",
      "\n",
      "iteration = 60,   Score = 0.241\n",
      "\n",
      " <E> = 191.02,  log(Z) = 3.03,   S = 194.05\n",
      " edges: 59,   elements: 520,   edge complexity: 1.29 %,  elements complexity: 0.03 %\n",
      "\n",
      "iteration = 80,   Score = 0.312\n",
      "\n",
      " <E> = 187.0,  log(Z) = 3.94,   S = 190.94\n",
      " edges: 79,   elements: 717,   edge complexity: 1.73 %,  elements complexity: 0.04 %\n",
      "\n",
      "iteration = 100,   Score = 0.361\n",
      "\n",
      " <E> = 183.0,  log(Z) = 4.98,   S = 187.98\n",
      " edges: 98,   elements: 905,   edge complexity: 2.15 %,  elements complexity: 0.05 %\n",
      "\n",
      "iteration = 120,   Score = 0.396\n",
      "\n",
      " <E> = 179.37,  log(Z) = 5.83,   S = 185.2\n",
      " edges: 116,   elements: 1140,   edge complexity: 2.54 %,  elements complexity: 0.06 %\n",
      "\n",
      "iteration = 140,   Score = 0.437\n",
      "\n",
      " <E> = 177.26,  log(Z) = 6.67,   S = 183.92\n",
      " edges: 134,   elements: 1331,   edge complexity: 2.94 %,  elements complexity: 0.07 %\n",
      "\n",
      "iteration = 160,   Score = 0.486\n",
      "\n",
      " <E> = 171.33,  log(Z) = 7.58,   S = 178.91\n",
      " edges: 153,   elements: 1539,   edge complexity: 3.36 %,  elements complexity: 0.08 %\n",
      "\n",
      "iteration = 180,   Score = 0.513\n",
      "\n",
      " <E> = 167.61,  log(Z) = 8.57,   S = 176.17\n",
      " edges: 172,   elements: 1751,   edge complexity: 3.77 %,  elements complexity: 0.09 %\n",
      "\n",
      "iteration = 200,   Score = 0.531\n",
      "\n",
      " <E> = 163.84,  log(Z) = 9.44,   S = 173.28\n",
      " edges: 189,   elements: 2027,   edge complexity: 4.14 %,  elements complexity: 0.1 %\n",
      "\n",
      "iteration = 220,   Score = 0.563\n",
      "\n",
      " <E> = 160.64,  log(Z) = 10.39,   S = 171.03\n",
      " edges: 207,   elements: 2244,   edge complexity: 4.54 %,  elements complexity: 0.11 %\n",
      "\n",
      "iteration = 240,   Score = 0.594\n",
      "\n",
      " <E> = 156.58,  log(Z) = 11.29,   S = 167.87\n",
      " edges: 225,   elements: 2478,   edge complexity: 4.93 %,  elements complexity: 0.12 %\n",
      "\n",
      "iteration = 260,   Score = 0.62\n",
      "\n",
      " <E> = 152.94,  log(Z) = 12.3,   S = 165.24\n",
      " edges: 244,   elements: 2718,   edge complexity: 5.35 %,  elements complexity: 0.14 %\n",
      "\n",
      "iteration = 280,   Score = 0.634\n",
      "\n",
      " <E> = 150.0,  log(Z) = 13.21,   S = 163.21\n",
      " edges: 261,   elements: 3008,   edge complexity: 5.72 %,  elements complexity: 0.15 %\n",
      "\n",
      "iteration = 300,   Score = 0.642\n",
      "\n",
      " <E> = 147.88,  log(Z) = 14.27,   S = 162.15\n",
      " edges: 274,   elements: 3307,   edge complexity: 6.01 %,  elements complexity: 0.16 %\n",
      "\n",
      "iteration = 320,   Score = 0.658\n",
      "\n",
      " <E> = 144.01,  log(Z) = 15.17,   S = 159.18\n",
      " edges: 292,   elements: 3589,   edge complexity: 6.4 %,  elements complexity: 0.18 %\n",
      "\n",
      "iteration = 340,   Score = 0.673\n",
      "\n",
      " <E> = 140.11,  log(Z) = 16.02,   S = 156.13\n",
      " edges: 312,   elements: 3894,   edge complexity: 6.84 %,  elements complexity: 0.19 %\n",
      "\n",
      "iteration = 360,   Score = 0.686\n",
      "\n",
      " <E> = 137.72,  log(Z) = 16.98,   S = 154.7\n",
      " edges: 329,   elements: 4178,   edge complexity: 7.21 %,  elements complexity: 0.21 %\n",
      "\n",
      "iteration = 380,   Score = 0.698\n",
      "\n",
      " <E> = 134.93,  log(Z) = 17.96,   S = 152.89\n",
      " edges: 347,   elements: 4480,   edge complexity: 7.61 %,  elements complexity: 0.22 %\n",
      "\n",
      "iteration = 400,   Score = 0.703\n",
      "\n",
      " <E> = 133.08,  log(Z) = 18.86,   S = 151.94\n",
      " \n",
      "The selceted model has 362 edges and a score = 0.7\n"
     ]
    },
    {
     "data": {
      "text/plain": [
       "2476.5670771598816"
      ]
     },
     "execution_count": 3,
     "metadata": {},
     "output_type": "execute_result"
    }
   ],
   "source": [
    "using Random\n",
    "\n",
    "n_step = 100_000\n",
    "method = \"cumulative\"\n",
    "fraction = 0.3\n",
    "stop = 0.7\n",
    "s = time()\n",
    "Random.seed!(2) \n",
    "#                                                                                                 #21              #12000                                           \n",
    "score, likelihood_gain, generated_sequences, Jij, h, contact_list, site_degree, edge_list, path = E_A_A(21, n_step, 0.05, 12000, natural_sequences,\"example_output.txt\", method, fraction, stop); \n",
    "s = time() - s"
   ]
  },
  {
   "attachments": {},
   "cell_type": "markdown",
   "id": "13ebb2d5",
   "metadata": {},
   "source": [
    "## saving data"
   ]
  },
  {
   "cell_type": "code",
   "execution_count": 4,
   "id": "909ba0e5",
   "metadata": {},
   "outputs": [],
   "source": [
    "using JLD\n",
    "\n",
    "folder_name = method*string(fraction)*\"_stop=\"*string(stop)\n",
    "path = \"/Users/robertonetti/Documents/GitHub/FCSeqTools.jl/Example_Proteins/\"*folder_name  \n",
    "\n",
    "JLD.save(path*\"/\"*\"score.jld\",\"data\", score)\n",
    "JLD.save(path*\"/\"*\"likelihood_gain.jld\",\"data\", likelihood_gain)\n",
    "JLD.save(path*\"/\"*\"generated_sequences.jld\",\"data\", generated_sequences)\n",
    "JLD.save(path*\"/\"*\"Jij.jld\",\"data\", Jij)\n",
    "JLD.save(path*\"/\"*\"h.jld\",\"data\", h)\n",
    "JLD.save(path*\"/\"*\"contact_list.jld\",\"data\", contact_list)\n",
    "JLD.save(path*\"/\"*\"site_degree.jld\",\"data\", site_degree)\n",
    "JLD.save(path*\"/\"*\"edge_list.jld\",\"data\", edge_list)\n"
   ]
  },
  {
   "attachments": {},
   "cell_type": "markdown",
   "id": "0c4e1927",
   "metadata": {},
   "source": [
    "## Saving the model"
   ]
  },
  {
   "cell_type": "code",
   "execution_count": 17,
   "id": "3919994c",
   "metadata": {},
   "outputs": [
    {
     "data": {
      "text/plain": [
       "print_model_to_file_prot (generic function with 1 method)"
      ]
     },
     "metadata": {},
     "output_type": "display_data"
    }
   ],
   "source": [
    "function print_model_to_file_prot(natural_sequences,Jij,h,filename)\n",
    "    open(filename, \"w\") do f\n",
    "        for i in 1:length(natural_sequences[1,:])\n",
    "            for j in i+1:length(natural_sequences[1,:])\n",
    "                for k in 1:21    \n",
    "                    if k==1\n",
    "                        k2=1        \n",
    "                    elseif k==2\n",
    "                        k2=2\n",
    "                    elseif k==3\n",
    "                        k2=3\n",
    "                    elseif k==4\n",
    "                        k2=4\n",
    "                    elseif k==5\n",
    "                        k2=5\n",
    "                    elseif k==6\n",
    "                        k2=6\n",
    "                    elseif k==7\n",
    "                        k2=7\n",
    "                    elseif k==8\n",
    "                        k2=8\n",
    "                    elseif k==9\n",
    "                        k2=9\n",
    "                    elseif k==10\n",
    "                        k2=10\n",
    "                    elseif k==11\n",
    "                        k2=11\n",
    "                    elseif k==12\n",
    "                        k2=12\n",
    "                    elseif k==13\n",
    "                        k2=13\n",
    "                    elseif k==14\n",
    "                        k2=14\n",
    "                    elseif k==15\n",
    "                        k2=15\n",
    "                    elseif k==16\n",
    "                        k2=16\n",
    "                    elseif k==17\n",
    "                        k2=17\n",
    "                    elseif k==18\n",
    "                        k2=18\n",
    "                    elseif k==19\n",
    "                        k2=19\n",
    "                    elseif k==20\n",
    "                        k2=20\n",
    "                    elseif k==21\n",
    "                        k2=0\n",
    "                    end\n",
    "                        \n",
    "                    for l in 1:21\n",
    "                        if l==1\n",
    "                            l2=1\n",
    "                        elseif l==2\n",
    "                            l2=2\n",
    "                        elseif l==3\n",
    "                            l2=3\n",
    "                        elseif l==4\n",
    "                            l2=4\n",
    "                        elseif l==5\n",
    "                            l2=5\n",
    "                        elseif l==6\n",
    "                            l2=6\n",
    "                        elseif l==7\n",
    "                            l2=7\n",
    "                        elseif l==8\n",
    "                            l2=8\n",
    "                        elseif l==9\n",
    "                            l2=9\n",
    "                        elseif l==10\n",
    "                            l2=10\n",
    "                        elseif l==11\n",
    "                            l2=11\n",
    "                        elseif l==12\n",
    "                            l2=12\n",
    "                        elseif l==13\n",
    "                            l2=13\n",
    "                        elseif l==14\n",
    "                            l2=14\n",
    "                        elseif l==15\n",
    "                            l2=15\n",
    "                        elseif l==16\n",
    "                            l2=16\n",
    "                        elseif l==17\n",
    "                            l2=17\n",
    "                        elseif l==18\n",
    "                            l2=18\n",
    "                        elseif l==19\n",
    "                            l2=19\n",
    "                        elseif l==20\n",
    "                            l2=20\n",
    "                        elseif l==21\n",
    "                            l2=0\n",
    "                        end\n",
    "                        opo=Jij[i,j,21*(k-1)+l]\n",
    "                        write(f,\"\\nJ $(i-1) $(j-1) $(k2) $(l2) $opo\" )\n",
    "                    end\n",
    "                end\n",
    "            end\n",
    "        end\n",
    "        for i in 1:length(natural_sequences[1,:])\n",
    "            for j in 1:21          \n",
    "                if j==1\n",
    "                    j2=1\n",
    "                elseif j==2\n",
    "                    j2=2\n",
    "                elseif j==3\n",
    "                    j2=3\n",
    "                elseif j==4\n",
    "                    j2=4\n",
    "                elseif j==5\n",
    "                    j2=5\n",
    "                elseif j==6\n",
    "                    j2=6\n",
    "                elseif j==7\n",
    "                    j2=7\n",
    "                elseif j==8\n",
    "                    j2=8\n",
    "                elseif j==9\n",
    "                    j2=9\n",
    "                elseif j==10\n",
    "                    j2=10\n",
    "                elseif j==11\n",
    "                    j2=11\n",
    "                elseif j==12\n",
    "                    j2=12\n",
    "                elseif j==13\n",
    "                    j2=13\n",
    "                elseif j==14\n",
    "                    j2=14\n",
    "                elseif j==15\n",
    "                    j2=15\n",
    "                elseif j==16\n",
    "                    j2=16\n",
    "                elseif j==17\n",
    "                    j2=17\n",
    "                elseif j==18\n",
    "                    j2=18\n",
    "                elseif j==19\n",
    "                    j2=19\n",
    "                elseif j==20\n",
    "                    j2=20\n",
    "                elseif j==21\n",
    "                    j2=0\n",
    "                end\n",
    "                opo=h[21*(i-1)+j]\n",
    "                write(f,\"\\nh $(i-1) $(j2) $opo\" )\n",
    "            end\n",
    "        end\n",
    "    end\n",
    "end"
   ]
  },
  {
   "cell_type": "code",
   "execution_count": 19,
   "id": "1c9c8dd2",
   "metadata": {},
   "outputs": [],
   "source": [
    "filename = \"model_cumulative0.3_proteins.txt\"\n",
    "print_model_to_file_prot(natural_sequences, Jij, h, filename)"
   ]
  },
  {
   "cell_type": "markdown",
   "metadata": {},
   "source": [
    "<font size=\"3\">The model obtained has a performance comparable to the fully connected DCA while having just ~20% of its connectivity. The entropy of the model is 35.08. This means that it is able to generate e³⁵ (3.5x10¹⁵) different 55-102 segments for the RF00379 family. \\\n",
    "Now we can test our artificial sequences. We do the classical statistical check of the PCA projection and the two-point correlation representation. \\\n",
    "We test the performance of our model against the one of the Covariance Model. The CM model only contains trivial one-point and secondary information so our model must do better than it. </font>"
   ]
  },
  {
   "cell_type": "code",
   "execution_count": null,
   "metadata": {},
   "outputs": [],
   "source": [
    "cm_sequences = rna_cm_model_generation(0.8,0.05,7000,natural_sequences,ss_contact_matrix);\n"
   ]
  },
  {
   "cell_type": "code",
   "execution_count": null,
   "metadata": {},
   "outputs": [],
   "source": [
    "plot_stat_check(natural_sequences, generated_sequences, cm_sequences)"
   ]
  },
  {
   "cell_type": "markdown",
   "metadata": {},
   "source": [
    "<font size=\"3\">The E.A.A. artificial molecules are practically statistically indistinguishable from the natural ones. We see that they have a very similar PCA projection (artificial one seems richer just because we have more artificial sequences than natural ones) while Covariance Model fails to capture the details of the distribution. \n",
    "    The selected model has almost a perfect two-point statistics for all site pairs while the CM model only captures it for the ones involved in secondary structure contacts. \\\n",
    "     </font>\n"
   ]
  },
  {
   "cell_type": "markdown",
   "metadata": {},
   "source": [
    "<font size=\"3\">The interpretability is one of the main reasons in our quest to find parsimonious generative models. Now that we are sure we obtained a good generative model with relatively few parameters we can try to interprete them. \\\n",
    "Dividing the added edges in secondary structure contacts, 3D contacts we have:"
   ]
  },
  {
   "cell_type": "code",
   "execution_count": null,
   "metadata": {},
   "outputs": [],
   "source": [
    "edge_interpretation_plot(len,ss_contact_matrix,tertiary_contact_matrix,edge_list[1:50,:])"
   ]
  },
  {
   "cell_type": "markdown",
   "metadata": {},
   "source": [
    "<font size=\"3\">We see that the secondary structure contacts are taken in the first few iteration. We have lot of neighbouring sites probably due to philogenic effects. It is striking that we see some 3D contacts (in particular around site 40) before the NONE edges. This\n",
    "suggests that our algorithm effectively captures some information about the tertiary structure. \\\n",
    "Those results, that are far more general than this simple example, suggest that the added edges have a co-evolutionary interpretation."
   ]
  },
  {
   "cell_type": "markdown",
   "metadata": {},
   "source": [
    "<font size=\"3\">\n",
    "This notebook serves as an example of the application of the techniques described in the main text.\n"
   ]
  }
 ],
 "metadata": {
  "kernelspec": {
   "display_name": "Julia 1.8.5",
   "language": "julia",
   "name": "julia-1.8"
  },
  "language_info": {
   "file_extension": ".jl",
   "mimetype": "application/julia",
   "name": "julia",
   "version": "1.8.5"
  },
  "vscode": {
   "interpreter": {
    "hash": "6412a36ae9b8109c1adf793ae61659867359f52a3cfb701a53c331fa90dc1d37"
   }
  }
 },
 "nbformat": 4,
 "nbformat_minor": 5
}
