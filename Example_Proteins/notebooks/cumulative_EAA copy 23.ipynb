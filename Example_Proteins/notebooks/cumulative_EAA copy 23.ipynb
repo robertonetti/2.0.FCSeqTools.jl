{
 "cells": [
  {
   "cell_type": "markdown",
   "metadata": {},
   "source": [
    "# Edge Addition Algorithm - simple implementation example"
   ]
  },
  {
   "cell_type": "markdown",
   "metadata": {},
   "source": [
    "<font size=\"3\">Run time is around ~5 minutes with the default input. \\\n",
    "\\\n",
    "In this example we will use the E.A.A. model to build a low-connectivity DCA model. \\\n",
    "The information that we have about the training RNA family consists in: the sequence alignment and the consenus secondary structure (both trough the Covariance Model) and the 3D contacts trough the PDB file. </font> \n"
   ]
  },
  {
   "cell_type": "code",
   "execution_count": 1,
   "id": "20924cd6",
   "metadata": {},
   "outputs": [],
   "source": [
    "include(\"../src/FCSeqTools.jl\");"
   ]
  },
  {
   "cell_type": "markdown",
   "metadata": {},
   "source": [
    "<font size=\"3\">Here is an example of  RF00379 molecule and its associated consensus secondary structure. \\\n",
    "To make the execution faster we will not generate full lenght molecules but just a portion from nucleotide 55 to 102. </font>"
   ]
  },
  {
   "cell_type": "code",
   "execution_count": 2,
   "metadata": {},
   "outputs": [],
   "source": [
    "natural_sequences = do_number_matrix_prot(do_letter_matrix(\"../data/Betalactamases_VIM-NDM.fasta\"), 0.2);\n"
   ]
  },
  {
   "cell_type": "markdown",
   "metadata": {},
   "source": [
    "<font size=\"3\">Here is a segment example with its associated secondary structure. \\\n",
    "The database has a different size because the data-cleaning procedure depends on the region selected. \\\n",
    "Now we will run the E.A.A. building up our ineraction netwotk edge by edge till we reach a good performance generative model. \\\n",
    "At each iteration the algorithm reports: the added edge, the iteration number, the number of total added edges and the connectivity percentace of the fully connected case.\\\n",
    "Each 15 iterations the algorithm reports: the model score (Pearson between natural and artificial two-point correlations), the model mean energy, the model partition function and the model entropy. "
   ]
  },
  {
   "cell_type": "code",
   "execution_count": 3,
   "metadata": {},
   "outputs": [
    {
     "name": "stdout",
     "output_type": "stream",
     "text": [
      "Fully connected model has 24531 edges, 10818171 elements and a score around ~ 0.95\n"
     ]
    },
    {
     "name": "stdout",
     "output_type": "stream",
     "text": [
      "\n",
      "iteration = 20,   Score = 0.089"
     ]
    },
    {
     "name": "stdout",
     "output_type": "stream",
     "text": [
      "\n",
      "\n",
      " <E> = "
     ]
    },
    {
     "name": "stdout",
     "output_type": "stream",
     "text": [
      "357.8,  log(Z) = 0.3,   S = 358.09\n",
      " edges: "
     ]
    },
    {
     "name": "stdout",
     "output_type": "stream",
     "text": [
      "20,   elements: 32,   edge complexity: 0.08 %,  elements complexity: 0.0 %\n"
     ]
    },
    {
     "name": "stdout",
     "output_type": "stream",
     "text": [
      "\n",
      "iteration = 40,   Score = 0.154\n",
      "\n",
      " <E> = "
     ]
    },
    {
     "name": "stdout",
     "output_type": "stream",
     "text": [
      "353.87,  log(Z) = 0.43,   S = 354.3\n",
      " edges: "
     ]
    },
    {
     "name": "stdout",
     "output_type": "stream",
     "text": [
      "40,   elements: 69,   edge complexity: 0.16 %,  elements complexity: 0.0 %\n"
     ]
    },
    {
     "name": "stdout",
     "output_type": "stream",
     "text": [
      "\n",
      "iteration = 60,   Score = 0.207\n",
      "\n",
      " <E> = "
     ]
    },
    {
     "name": "stdout",
     "output_type": "stream",
     "text": [
      "351.1,  log(Z) = 0.43,   S = 351.52\n",
      " edges: "
     ]
    },
    {
     "name": "stdout",
     "output_type": "stream",
     "text": [
      "60,   elements: 110,   edge complexity: 0.24 %,  elements complexity: 0.0 %\n"
     ]
    },
    {
     "name": "stdout",
     "output_type": "stream",
     "text": [
      "\n",
      "iteration = 80,   Score = 0.262\n",
      "\n",
      " <E> = "
     ]
    },
    {
     "name": "stdout",
     "output_type": "stream",
     "text": [
      "350.43,  log(Z) = 0.43,   S = 350.86\n",
      " edges: "
     ]
    },
    {
     "name": "stdout",
     "output_type": "stream",
     "text": [
      "80,   elements: 156,   edge complexity: 0.33 %,  elements complexity: 0.0 %\n"
     ]
    },
    {
     "name": "stdout",
     "output_type": "stream",
     "text": [
      "\n",
      "iteration = 100,   Score = 0.343\n",
      "\n",
      " <E> = "
     ]
    },
    {
     "name": "stdout",
     "output_type": "stream",
     "text": [
      "348.21,  log(Z) = 0.5,   S = 348.71\n",
      " edges: "
     ]
    },
    {
     "name": "stdout",
     "output_type": "stream",
     "text": [
      "100,   elements: 199,   edge complexity: 0.41 %,  elements complexity: 0.0 %\n"
     ]
    },
    {
     "name": "stdout",
     "output_type": "stream",
     "text": [
      "\n",
      "iteration = 120,   Score = 0.394\n",
      "\n",
      " <E> = "
     ]
    },
    {
     "name": "stdout",
     "output_type": "stream",
     "text": [
      "345.54,  log(Z) = 0.59,   S = 346.13\n",
      " edges: "
     ]
    },
    {
     "name": "stdout",
     "output_type": "stream",
     "text": [
      "119,   elements: 247,   edge complexity: 0.49 %,  elements complexity: 0.0 %\n"
     ]
    },
    {
     "name": "stdout",
     "output_type": "stream",
     "text": [
      "\n",
      "iteration = 140,   Score = 0.445\n",
      "\n",
      " <E> = "
     ]
    },
    {
     "name": "stdout",
     "output_type": "stream",
     "text": [
      "341.89,  log(Z) = 0.96,   S = 342.85\n",
      " edges: "
     ]
    },
    {
     "name": "stdout",
     "output_type": "stream",
     "text": [
      "139,   elements: 294,   edge complexity: 0.57 %,  elements complexity: 0.0 %\n"
     ]
    },
    {
     "name": "stdout",
     "output_type": "stream",
     "text": [
      "\n",
      "iteration = 160,   Score = 0.497\n",
      "\n",
      " <E> = "
     ]
    },
    {
     "name": "stdout",
     "output_type": "stream",
     "text": [
      "341.24,  log(Z) = 1.36,   S = 342.6\n",
      " edges: "
     ]
    },
    {
     "name": "stdout",
     "output_type": "stream",
     "text": [
      "158,   elements: 338,   edge complexity: 0.64 %,  elements complexity: 0.0 %\n"
     ]
    },
    {
     "name": "stdout",
     "output_type": "stream",
     "text": [
      "\n",
      "iteration = 180,   Score = 0.53\n",
      "\n",
      " <E> = "
     ]
    },
    {
     "name": "stdout",
     "output_type": "stream",
     "text": [
      "338.97,  log(Z) = 1.67,   S = 340.65\n",
      " edges: "
     ]
    },
    {
     "name": "stdout",
     "output_type": "stream",
     "text": [
      "177,   elements: 387,   edge complexity: 0.72 %,  elements complexity: 0.0 %\n"
     ]
    },
    {
     "name": "stdout",
     "output_type": "stream",
     "text": [
      "\n",
      "iteration = 200,   Score = 0.566\n",
      "\n",
      " <E> = "
     ]
    },
    {
     "name": "stdout",
     "output_type": "stream",
     "text": [
      "336.23,  log(Z) = 1.77,   S = 338.0\n",
      " edges: "
     ]
    },
    {
     "name": "stdout",
     "output_type": "stream",
     "text": [
      "193,   elements: 433,   edge complexity: 0.79 %,  elements complexity: 0.0 %\n"
     ]
    },
    {
     "name": "stdout",
     "output_type": "stream",
     "text": [
      "\n",
      "iteration = 220,   Score = 0.586\n",
      "\n",
      " <E> = "
     ]
    },
    {
     "name": "stdout",
     "output_type": "stream",
     "text": [
      "334.56,  log(Z) = 1.83,   S = 336.4\n",
      " edges: "
     ]
    },
    {
     "name": "stdout",
     "output_type": "stream",
     "text": [
      "212,   elements: 483,   edge complexity: 0.86 %,  elements complexity: 0.0 %\n"
     ]
    },
    {
     "name": "stdout",
     "output_type": "stream",
     "text": [
      "\n",
      "iteration = 240,   Score = 0.602\n",
      "\n",
      " <E> = "
     ]
    },
    {
     "name": "stdout",
     "output_type": "stream",
     "text": [
      "331.69,  log(Z) = 2.0,   S = 333.69\n",
      " edges: "
     ]
    },
    {
     "name": "stdout",
     "output_type": "stream",
     "text": [
      "230,   elements: 541,   edge complexity: 0.94 %,  elements complexity: 0.01 %\n"
     ]
    },
    {
     "name": "stdout",
     "output_type": "stream",
     "text": [
      "\n",
      "iteration = 260,   Score = 0.62\n",
      "\n",
      " <E> = "
     ]
    },
    {
     "name": "stdout",
     "output_type": "stream",
     "text": [
      "329.65,  log(Z) = 2.08,   S = 331.73\n",
      " edges: "
     ]
    },
    {
     "name": "stdout",
     "output_type": "stream",
     "text": [
      "248,   elements: 591,   edge complexity: 1.01 %,  elements complexity: 0.01 %\n"
     ]
    },
    {
     "name": "stdout",
     "output_type": "stream",
     "text": [
      "\n",
      "iteration = 280,   Score = 0.639\n",
      "\n",
      " <E> = "
     ]
    },
    {
     "name": "stdout",
     "output_type": "stream",
     "text": [
      "328.03,  log(Z) = 2.22,   S = 330.26\n",
      " edges: "
     ]
    },
    {
     "name": "stdout",
     "output_type": "stream",
     "text": [
      "265,   elements: 645,   edge complexity: 1.08 %,  elements complexity: 0.01 %\n"
     ]
    },
    {
     "name": "stdout",
     "output_type": "stream",
     "text": [
      "\n",
      "iteration = 300,   Score = 0.652\n",
      "\n",
      " <E> = "
     ]
    },
    {
     "name": "stdout",
     "output_type": "stream",
     "text": [
      "327.01,  log(Z) = 2.33,   S = 329.34\n",
      " edges: "
     ]
    },
    {
     "name": "stdout",
     "output_type": "stream",
     "text": [
      "285,   elements: 702,   edge complexity: 1.16 %,  elements complexity: 0.01 %\n"
     ]
    },
    {
     "name": "stdout",
     "output_type": "stream",
     "text": [
      "\n",
      "iteration = 320,   Score = 0.675\n",
      "\n",
      " <E> = "
     ]
    },
    {
     "name": "stdout",
     "output_type": "stream",
     "text": [
      "326.02,  log(Z) = 2.31,   S = 328.33\n",
      " edges: "
     ]
    },
    {
     "name": "stdout",
     "output_type": "stream",
     "text": [
      "304,   elements: 753,   edge complexity: 1.24 %,  elements complexity: 0.01 %\n"
     ]
    },
    {
     "name": "stdout",
     "output_type": "stream",
     "text": [
      "\n",
      "iteration = 340,   Score = 0.685\n",
      "\n",
      " <E> = "
     ]
    },
    {
     "name": "stdout",
     "output_type": "stream",
     "text": [
      "325.94,  log(Z) = 2.36,   S = 328.3\n",
      " edges: "
     ]
    },
    {
     "name": "stdout",
     "output_type": "stream",
     "text": [
      "319,   elements: 808,   edge complexity: 1.3 %,  elements complexity: 0.01 %\n"
     ]
    },
    {
     "name": "stdout",
     "output_type": "stream",
     "text": [
      "\n",
      "iteration = 360,   Score = 0.699\n",
      "\n",
      " <E> = "
     ]
    },
    {
     "name": "stdout",
     "output_type": "stream",
     "text": [
      "324.11,  log(Z) = 2.4,   S = 326.51\n",
      " edges: "
     ]
    },
    {
     "name": "stdout",
     "output_type": "stream",
     "text": [
      "335,   elements: 869,   edge complexity: 1.37 %,  elements complexity: 0.01 %\n"
     ]
    },
    {
     "name": "stdout",
     "output_type": "stream",
     "text": [
      "\n",
      "iteration = 380,   Score = 0.705\n",
      "\n",
      " <E> = "
     ]
    },
    {
     "name": "stdout",
     "output_type": "stream",
     "text": [
      "323.95,  log(Z) = 2.6,   S = 326.55\n",
      " edges: "
     ]
    },
    {
     "name": "stdout",
     "output_type": "stream",
     "text": [
      "353,   elements: 927,   edge complexity: 1.44 %,  elements complexity: 0.01 %\n"
     ]
    },
    {
     "name": "stdout",
     "output_type": "stream",
     "text": [
      "\n",
      "iteration = 400,   Score = 0.715\n",
      "\n",
      " <E> = "
     ]
    },
    {
     "name": "stdout",
     "output_type": "stream",
     "text": [
      "322.28,  log(Z) = 2.76,   S = 325.03\n",
      " edges: "
     ]
    },
    {
     "name": "stdout",
     "output_type": "stream",
     "text": [
      "367,   elements: 994,   edge complexity: 1.5 %,  elements complexity: 0.01 %\n"
     ]
    },
    {
     "name": "stdout",
     "output_type": "stream",
     "text": [
      "\n",
      "iteration = 420,   Score = 0.722\n",
      "\n",
      " <E> = "
     ]
    },
    {
     "name": "stdout",
     "output_type": "stream",
     "text": [
      "321.18,  log(Z) = 2.81,   S = 323.98\n",
      " edges: "
     ]
    },
    {
     "name": "stdout",
     "output_type": "stream",
     "text": [
      "386,   elements: 1059,   edge complexity: 1.57 %,  elements complexity: 0.01 %\n"
     ]
    },
    {
     "name": "stdout",
     "output_type": "stream",
     "text": [
      "\n",
      "iteration = 440,   Score = 0.736\n",
      "\n",
      " <E> = "
     ]
    },
    {
     "name": "stdout",
     "output_type": "stream",
     "text": [
      "320.98,  log(Z) = 2.79,   S = 323.76\n",
      " edges: "
     ]
    },
    {
     "name": "stdout",
     "output_type": "stream",
     "text": [
      "400,   elements: 1129,   edge complexity: 1.63 %,  elements complexity: 0.01 %\n"
     ]
    },
    {
     "name": "stdout",
     "output_type": "stream",
     "text": [
      "\n",
      "iteration = 460,   Score = 0.743\n",
      "\n",
      " <E> = "
     ]
    },
    {
     "name": "stdout",
     "output_type": "stream",
     "text": [
      "319.44,  log(Z) = 2.87,   S = 322.3\n",
      " edges: "
     ]
    },
    {
     "name": "stdout",
     "output_type": "stream",
     "text": [
      "416,   elements: 1189,   edge complexity: 1.7 %,  elements complexity: 0.01 %\n"
     ]
    },
    {
     "name": "stdout",
     "output_type": "stream",
     "text": [
      "\n",
      "iteration = 480,   Score = 0.751\n",
      "\n",
      " <E> = "
     ]
    },
    {
     "name": "stdout",
     "output_type": "stream",
     "text": [
      "318.41,  log(Z) = 2.89,   S = 321.29\n",
      " edges: "
     ]
    },
    {
     "name": "stdout",
     "output_type": "stream",
     "text": [
      "433,   elements: 1259,   edge complexity: 1.77 %,  elements complexity: 0.01 %\n"
     ]
    },
    {
     "name": "stdout",
     "output_type": "stream",
     "text": [
      "\n",
      "iteration = 500,   Score = 0.757\n",
      "\n",
      " <E> = "
     ]
    },
    {
     "name": "stdout",
     "output_type": "stream",
     "text": [
      "317.0,  log(Z) = 2.83,   S = 319.84\n",
      " edges: "
     ]
    },
    {
     "name": "stdout",
     "output_type": "stream",
     "text": [
      "451,   elements: 1322,   edge complexity: 1.84 %,  elements complexity: 0.01 %\n"
     ]
    },
    {
     "name": "stdout",
     "output_type": "stream",
     "text": [
      "\n",
      "iteration = 520,   Score = 0.766\n",
      "\n",
      " <E> = "
     ]
    },
    {
     "name": "stdout",
     "output_type": "stream",
     "text": [
      "315.32,  log(Z) = 3.13,   S = 318.45\n",
      " edges: "
     ]
    },
    {
     "name": "stdout",
     "output_type": "stream",
     "text": [
      "466,   elements: 1389,   edge complexity: 1.9 %,  elements complexity: 0.01 %\n"
     ]
    },
    {
     "name": "stdout",
     "output_type": "stream",
     "text": [
      "\n",
      "iteration = 540,   Score = 0.768\n",
      "\n",
      " <E> = "
     ]
    },
    {
     "name": "stdout",
     "output_type": "stream",
     "text": [
      "314.58,  log(Z) = 3.27,   S = 317.84\n",
      " edges: "
     ]
    },
    {
     "name": "stdout",
     "output_type": "stream",
     "text": [
      "482,   elements: 1464,   edge complexity: 1.96 %,  elements complexity: 0.01 %\n"
     ]
    },
    {
     "name": "stdout",
     "output_type": "stream",
     "text": [
      "\n",
      "iteration = 560,   Score = 0.774\n",
      "\n",
      " <E> = "
     ]
    },
    {
     "name": "stdout",
     "output_type": "stream",
     "text": [
      "314.77,  log(Z) = 3.37,   S = 318.14\n",
      " edges: "
     ]
    },
    {
     "name": "stdout",
     "output_type": "stream",
     "text": [
      "500,   elements: 1536,   edge complexity: 2.04 %,  elements complexity: 0.01 %\n"
     ]
    },
    {
     "name": "stdout",
     "output_type": "stream",
     "text": [
      "\n",
      "iteration = 580,   Score = 0.783\n",
      "\n",
      " <E> = "
     ]
    },
    {
     "name": "stdout",
     "output_type": "stream",
     "text": [
      "312.08,  log(Z) = 3.4,   S = 315.48\n",
      " edges: "
     ]
    },
    {
     "name": "stdout",
     "output_type": "stream",
     "text": [
      "514,   elements: 1609,   edge complexity: 2.1 %,  elements complexity: 0.01 %\n"
     ]
    },
    {
     "name": "stdout",
     "output_type": "stream",
     "text": [
      "\n",
      "iteration = 600,   Score = 0.784\n",
      "\n",
      " <E> = "
     ]
    },
    {
     "name": "stdout",
     "output_type": "stream",
     "text": [
      "311.26,  log(Z) = 3.54,   S = 314.79\n",
      " edges: "
     ]
    },
    {
     "name": "stdout",
     "output_type": "stream",
     "text": [
      "530,   elements: 1684,   edge complexity: 2.16 %,  elements complexity: 0.02 %\n"
     ]
    },
    {
     "name": "stdout",
     "output_type": "stream",
     "text": [
      "\n",
      "iteration = 620,   Score = 0.793\n",
      "\n",
      " <E> = "
     ]
    },
    {
     "name": "stdout",
     "output_type": "stream",
     "text": [
      "309.81,  log(Z) = 3.78,   S = 313.59\n",
      " edges: "
     ]
    },
    {
     "name": "stdout",
     "output_type": "stream",
     "text": [
      "545,   elements: 1751,   edge complexity: 2.22 %,  elements complexity: 0.02 %\n"
     ]
    },
    {
     "name": "stdout",
     "output_type": "stream",
     "text": [
      "\n",
      "iteration = 640,   Score = 0.802\n",
      "\n",
      " <E> = "
     ]
    },
    {
     "name": "stdout",
     "output_type": "stream",
     "text": [
      "308.49,  log(Z) = 3.68,   S = 312.17\n",
      " edges: "
     ]
    },
    {
     "name": "stdout",
     "output_type": "stream",
     "text": [
      "558,   elements: 1818,   edge complexity: 2.27 %,  elements complexity: 0.02 %\n"
     ]
    },
    {
     "name": "stdout",
     "output_type": "stream",
     "text": [
      "\n",
      "iteration = 660,   Score = 0.808\n",
      "\n",
      " <E> = "
     ]
    },
    {
     "name": "stdout",
     "output_type": "stream",
     "text": [
      "308.71,  log(Z) = 3.71,   S = 312.42\n",
      " edges: "
     ]
    },
    {
     "name": "stdout",
     "output_type": "stream",
     "text": [
      "574,   elements: 1883,   edge complexity: 2.34 %,  elements complexity: 0.02 %\n"
     ]
    },
    {
     "name": "stdout",
     "output_type": "stream",
     "text": [
      "\n",
      "iteration = 680,   Score = 0.813\n",
      "\n",
      " <E> = "
     ]
    },
    {
     "name": "stdout",
     "output_type": "stream",
     "text": [
      "306.44,  log(Z) = 3.53,   S = 309.97\n",
      " edges: "
     ]
    },
    {
     "name": "stdout",
     "output_type": "stream",
     "text": [
      "589,   elements: 1959,   edge complexity: 2.4 %,  elements complexity: 0.02 %\n"
     ]
    },
    {
     "name": "stdout",
     "output_type": "stream",
     "text": [
      "\n",
      "iteration = 700,   Score = 0.818\n",
      "\n",
      " <E> = "
     ]
    },
    {
     "name": "stdout",
     "output_type": "stream",
     "text": [
      "305.3,  log(Z) = 3.6,   S = 308.9\n",
      " edges: "
     ]
    },
    {
     "name": "stdout",
     "output_type": "stream",
     "text": [
      "605,   elements: 2038,   edge complexity: 2.47 %,  elements complexity: 0.02 %\n"
     ]
    },
    {
     "name": "stdout",
     "output_type": "stream",
     "text": [
      "\n",
      "iteration = 720,   Score = 0.82\n",
      "\n",
      " <E> = "
     ]
    },
    {
     "name": "stdout",
     "output_type": "stream",
     "text": [
      "305.03,  log(Z) = 3.72,   S = 308.76\n",
      " edges: "
     ]
    },
    {
     "name": "stdout",
     "output_type": "stream",
     "text": [
      "622,   elements: 2119,   edge complexity: 2.54 %,  elements complexity: 0.02 %\n"
     ]
    },
    {
     "name": "stdout",
     "output_type": "stream",
     "text": [
      "\n",
      "iteration = 740,   Score = 0.825\n",
      "\n",
      " <E> = "
     ]
    },
    {
     "name": "stdout",
     "output_type": "stream",
     "text": [
      "304.13,  log(Z) = 3.84,   S = 307.97\n",
      " edges: "
     ]
    },
    {
     "name": "stdout",
     "output_type": "stream",
     "text": [
      "640,   elements: 2189,   edge complexity: 2.61 %,  elements complexity: 0.02 %\n"
     ]
    },
    {
     "name": "stdout",
     "output_type": "stream",
     "text": [
      "\n",
      "iteration = 760,   Score = 0.827\n",
      "\n",
      " <E> = "
     ]
    },
    {
     "name": "stdout",
     "output_type": "stream",
     "text": [
      "303.47,  log(Z) = 3.82,   S = 307.29\n",
      " edges: "
     ]
    },
    {
     "name": "stdout",
     "output_type": "stream",
     "text": [
      "654,   elements: 2262,   edge complexity: 2.67 %,  elements complexity: 0.02 %\n"
     ]
    },
    {
     "name": "stdout",
     "output_type": "stream",
     "text": [
      "\n",
      "iteration = 780,   Score = 0.829\n",
      "\n",
      " <E> = "
     ]
    },
    {
     "name": "stdout",
     "output_type": "stream",
     "text": [
      "303.18,  log(Z) = 3.78,   S = 306.96\n",
      " edges: "
     ]
    },
    {
     "name": "stdout",
     "output_type": "stream",
     "text": [
      "670,   elements: 2346,   edge complexity: 2.73 %,  elements complexity: 0.02 %\n"
     ]
    },
    {
     "name": "stdout",
     "output_type": "stream",
     "text": [
      "\n",
      "iteration = 800,   Score = 0.832\n",
      "\n",
      " <E> = "
     ]
    },
    {
     "name": "stdout",
     "output_type": "stream",
     "text": [
      "301.71,  log(Z) = 3.86,   S = 305.56\n",
      " edges: "
     ]
    },
    {
     "name": "stdout",
     "output_type": "stream",
     "text": [
      "687,   elements: 2433,   edge complexity: 2.8 %,  elements complexity: 0.02 %\n"
     ]
    },
    {
     "name": "stdout",
     "output_type": "stream",
     "text": [
      "\n",
      "iteration = 820,   Score = 0.837\n",
      "\n",
      " <E> = "
     ]
    },
    {
     "name": "stdout",
     "output_type": "stream",
     "text": [
      "301.38,  log(Z) = 3.89,   S = 305.27\n",
      " edges: "
     ]
    },
    {
     "name": "stdout",
     "output_type": "stream",
     "text": [
      "707,   elements: 2505,   edge complexity: 2.88 %,  elements complexity: 0.02 %\n"
     ]
    },
    {
     "name": "stdout",
     "output_type": "stream",
     "text": [
      "\n",
      "iteration = 840,   Score = 0.839\n",
      "\n",
      " <E> = "
     ]
    },
    {
     "name": "stdout",
     "output_type": "stream",
     "text": [
      "300.37,  log(Z) = 3.85,   S = 304.23\n",
      " edges: "
     ]
    },
    {
     "name": "stdout",
     "output_type": "stream",
     "text": [
      "721,   elements: 2581,   edge complexity: 2.94 %,  elements complexity: 0.02 %\n"
     ]
    },
    {
     "name": "stdout",
     "output_type": "stream",
     "text": [
      "\n",
      "iteration = 860,   Score = 0.843\n",
      "\n",
      " <E> = "
     ]
    },
    {
     "name": "stdout",
     "output_type": "stream",
     "text": [
      "300.05,  log(Z) = 3.76,   S = 303.81\n",
      " edges: "
     ]
    },
    {
     "name": "stdout",
     "output_type": "stream",
     "text": [
      "735,   elements: 2661,   edge complexity: 3.0 %,  elements complexity: 0.02 %\n"
     ]
    },
    {
     "name": "stdout",
     "output_type": "stream",
     "text": [
      "\n",
      "iteration = 880,   Score = 0.844\n",
      "\n",
      " <E> = "
     ]
    },
    {
     "name": "stdout",
     "output_type": "stream",
     "text": [
      "299.31,  log(Z) = 3.93,   S = 303.25\n",
      " edges: "
     ]
    },
    {
     "name": "stdout",
     "output_type": "stream",
     "text": [
      "750,   elements: 2737,   edge complexity: 3.06 %,  elements complexity: 0.03 %\n"
     ]
    },
    {
     "name": "stdout",
     "output_type": "stream",
     "text": [
      "\n",
      "iteration = 900,   Score = 0.849\n",
      "\n",
      " <E> = "
     ]
    },
    {
     "name": "stdout",
     "output_type": "stream",
     "text": [
      "299.01,  log(Z) = 4.05,   S = 303.06\n",
      " edges: "
     ]
    },
    {
     "name": "stdout",
     "output_type": "stream",
     "text": [
      "766,   elements: 2802,   edge complexity: 3.12 %,  elements complexity: 0.03 %\n"
     ]
    },
    {
     "name": "stdout",
     "output_type": "stream",
     "text": [
      "\n",
      "iteration = 920,   Score = 0.853\n",
      "\n",
      " <E> = "
     ]
    },
    {
     "name": "stdout",
     "output_type": "stream",
     "text": [
      "298.29,  log(Z) = 4.06,   S = 302.35\n",
      " edges: "
     ]
    },
    {
     "name": "stdout",
     "output_type": "stream",
     "text": [
      "780,   elements: 2884,   edge complexity: 3.18 %,  elements complexity: 0.03 %\n"
     ]
    },
    {
     "name": "stdout",
     "output_type": "stream",
     "text": [
      "\n",
      "iteration = 940,   Score = 0.853\n",
      "\n",
      " <E> = "
     ]
    },
    {
     "name": "stdout",
     "output_type": "stream",
     "text": [
      "297.98,  log(Z) = 4.12,   S = 302.09\n",
      " edges: "
     ]
    },
    {
     "name": "stdout",
     "output_type": "stream",
     "text": [
      "794,   elements: 2960,   edge complexity: 3.24 %,  elements complexity: 0.03 %\n"
     ]
    },
    {
     "name": "stdout",
     "output_type": "stream",
     "text": [
      "\n",
      "iteration = 960,   Score = 0.857\n",
      "\n",
      " <E> = "
     ]
    },
    {
     "name": "stdout",
     "output_type": "stream",
     "text": [
      "297.23,  log(Z) = 4.12,   S = 301.35\n",
      " edges: "
     ]
    },
    {
     "name": "stdout",
     "output_type": "stream",
     "text": [
      "809,   elements: 3042,   edge complexity: 3.3 %,  elements complexity: 0.03 %\n"
     ]
    },
    {
     "name": "stdout",
     "output_type": "stream",
     "text": [
      "\n",
      "iteration = 980,   Score = 0.859\n",
      "\n",
      " <E> = "
     ]
    },
    {
     "name": "stdout",
     "output_type": "stream",
     "text": [
      "295.43,  log(Z) = 4.21,   S = 299.64\n",
      " edges: "
     ]
    },
    {
     "name": "stdout",
     "output_type": "stream",
     "text": [
      "826,   elements: 3133,   edge complexity: 3.37 %,  elements complexity: 0.03 %\n"
     ]
    },
    {
     "name": "stdout",
     "output_type": "stream",
     "text": [
      "\n",
      "iteration = 1000,   Score = 0.863\n",
      "\n",
      " <E> = "
     ]
    },
    {
     "name": "stdout",
     "output_type": "stream",
     "text": [
      "294.48,  log(Z) = 4.32,   S = 298.79\n",
      " edges: "
     ]
    },
    {
     "name": "stdout",
     "output_type": "stream",
     "text": [
      "838,   elements: 3217,   edge complexity: 3.42 %,  elements complexity: 0.03 %\n"
     ]
    },
    {
     "name": "stdout",
     "output_type": "stream",
     "text": [
      "\n",
      "iteration = 1020,   Score = 0.866\n",
      "\n",
      " <E> = "
     ]
    },
    {
     "name": "stdout",
     "output_type": "stream",
     "text": [
      "294.73,  log(Z) = 4.29,   S = 299.03\n",
      " edges: "
     ]
    },
    {
     "name": "stdout",
     "output_type": "stream",
     "text": [
      "853,   elements: 3304,   edge complexity: 3.48 %,  elements complexity: 0.03 %\n"
     ]
    },
    {
     "name": "stdout",
     "output_type": "stream",
     "text": [
      "\n",
      "iteration = 1040,   Score = 0.868\n",
      "\n",
      " <E> = "
     ]
    },
    {
     "name": "stdout",
     "output_type": "stream",
     "text": [
      "294.02,  log(Z) = 4.42,   S = 298.44\n",
      " edges: "
     ]
    },
    {
     "name": "stdout",
     "output_type": "stream",
     "text": [
      "870,   elements: 3386,   edge complexity: 3.55 %,  elements complexity: 0.03 %\n"
     ]
    },
    {
     "name": "stdout",
     "output_type": "stream",
     "text": [
      "\n",
      "iteration = 1060,   Score = 0.871\n",
      "\n",
      " <E> = "
     ]
    },
    {
     "name": "stdout",
     "output_type": "stream",
     "text": [
      "293.92,  log(Z) = 4.4,   S = 298.32\n",
      " edges: "
     ]
    },
    {
     "name": "stdout",
     "output_type": "stream",
     "text": [
      "884,   elements: 3479,   edge complexity: 3.6 %,  elements complexity: 0.03 %\n"
     ]
    },
    {
     "name": "stdout",
     "output_type": "stream",
     "text": [
      "\n",
      "iteration = 1080,   Score = 0.871\n",
      "\n",
      " <E> = "
     ]
    },
    {
     "name": "stdout",
     "output_type": "stream",
     "text": [
      "292.8,  log(Z) = 4.35,   S = 297.15\n",
      " edges: "
     ]
    },
    {
     "name": "stdout",
     "output_type": "stream",
     "text": [
      "899,   elements: 3561,   edge complexity: 3.66 %,  elements complexity: 0.03 %\n"
     ]
    },
    {
     "name": "stdout",
     "output_type": "stream",
     "text": [
      "\n",
      "iteration = 1100,   Score = 0.873\n",
      "\n",
      " <E> = "
     ]
    },
    {
     "name": "stdout",
     "output_type": "stream",
     "text": [
      "292.15,  log(Z) = 4.31,   S = 296.47\n",
      " edges: "
     ]
    },
    {
     "name": "stdout",
     "output_type": "stream",
     "text": [
      "913,   elements: 3638,   edge complexity: 3.72 %,  elements complexity: 0.03 %\n"
     ]
    },
    {
     "name": "stdout",
     "output_type": "stream",
     "text": [
      "\n",
      "iteration = 1120,   Score = 0.876\n",
      "\n",
      " <E> = "
     ]
    },
    {
     "name": "stdout",
     "output_type": "stream",
     "text": [
      "292.32,  log(Z) = 4.25,   S = 296.57\n",
      " edges: "
     ]
    },
    {
     "name": "stdout",
     "output_type": "stream",
     "text": [
      "926,   elements: 3730,   edge complexity: 3.77 %,  elements complexity: 0.03 %\n"
     ]
    },
    {
     "name": "stdout",
     "output_type": "stream",
     "text": [
      "\n",
      "iteration = 1140,   Score = 0.878\n",
      "\n",
      " <E> = "
     ]
    },
    {
     "name": "stdout",
     "output_type": "stream",
     "text": [
      "291.05,  log(Z) = 4.39,   S = 295.44\n",
      " edges: "
     ]
    },
    {
     "name": "stdout",
     "output_type": "stream",
     "text": [
      "940,   elements: 3814,   edge complexity: 3.83 %,  elements complexity: 0.04 %\n"
     ]
    },
    {
     "name": "stdout",
     "output_type": "stream",
     "text": [
      "\n",
      "iteration = 1160,   Score = 0.878\n",
      "\n",
      " <E> = "
     ]
    },
    {
     "name": "stdout",
     "output_type": "stream",
     "text": [
      "290.7,  log(Z) = 4.52,   S = 295.22\n",
      " edges: "
     ]
    },
    {
     "name": "stdout",
     "output_type": "stream",
     "text": [
      "954,   elements: 3920,   edge complexity: 3.89 %,  elements complexity: 0.04 %\n"
     ]
    },
    {
     "name": "stdout",
     "output_type": "stream",
     "text": [
      "\n",
      "iteration = 1180,   Score = 0.88\n",
      "\n",
      " <E> = "
     ]
    },
    {
     "name": "stdout",
     "output_type": "stream",
     "text": [
      "289.69,  log(Z) = 4.56,   S = 294.25\n",
      " edges: "
     ]
    },
    {
     "name": "stdout",
     "output_type": "stream",
     "text": [
      "969,   elements: 4016,   edge complexity: 3.95 %,  elements complexity: 0.04 %\n"
     ]
    },
    {
     "name": "stdout",
     "output_type": "stream",
     "text": [
      "\n",
      "iteration = 1200,   Score = 0.882\n",
      "\n",
      " <E> = "
     ]
    },
    {
     "name": "stdout",
     "output_type": "stream",
     "text": [
      "289.3,  log(Z) = 4.77,   S = 294.07\n",
      " edges: "
     ]
    },
    {
     "name": "stdout",
     "output_type": "stream",
     "text": [
      "985,   elements: 4092,   edge complexity: 4.02 %,  elements complexity: 0.04 %\n"
     ]
    },
    {
     "name": "stdout",
     "output_type": "stream",
     "text": [
      "\n",
      "iteration = 1220,   Score = 0.886\n",
      "\n",
      " <E> = "
     ]
    },
    {
     "name": "stdout",
     "output_type": "stream",
     "text": [
      "289.76,  log(Z) = 4.74,   S = 294.5\n",
      " edges: "
     ]
    },
    {
     "name": "stdout",
     "output_type": "stream",
     "text": [
      "995,   elements: 4198,   edge complexity: 4.06 %,  elements complexity: 0.04 %\n"
     ]
    },
    {
     "name": "stdout",
     "output_type": "stream",
     "text": [
      "\n",
      "iteration = 1240,   Score = 0.888\n",
      "\n",
      " <E> = "
     ]
    },
    {
     "name": "stdout",
     "output_type": "stream",
     "text": [
      "289.46,  log(Z) = 4.83,   S = 294.29\n",
      " edges: "
     ]
    },
    {
     "name": "stdout",
     "output_type": "stream",
     "text": [
      "1011,   elements: 4286,   edge complexity: 4.12 %,  elements complexity: 0.04 %\n"
     ]
    },
    {
     "name": "stdout",
     "output_type": "stream",
     "text": [
      "\n",
      "iteration = 1260,   Score = 0.889\n",
      "\n",
      " <E> = "
     ]
    },
    {
     "name": "stdout",
     "output_type": "stream",
     "text": [
      "287.74,  log(Z) = 5.03,   S = 292.77\n",
      " edges: "
     ]
    },
    {
     "name": "stdout",
     "output_type": "stream",
     "text": [
      "1024,   elements: 4379,   edge complexity: 4.17 %,  elements complexity: 0.04 %\n"
     ]
    },
    {
     "name": "stdout",
     "output_type": "stream",
     "text": [
      "\n",
      "iteration = 1280,   Score = 0.888\n",
      "\n",
      " <E> = "
     ]
    },
    {
     "name": "stdout",
     "output_type": "stream",
     "text": [
      "287.19,  log(Z) = 5.09,   S = 292.28\n",
      " edges: "
     ]
    },
    {
     "name": "stdout",
     "output_type": "stream",
     "text": [
      "1037,   elements: 4478,   edge complexity: 4.23 %,  elements complexity: 0.04 %\n"
     ]
    },
    {
     "name": "stdout",
     "output_type": "stream",
     "text": [
      "\n",
      "iteration = 1300,   Score = 0.89\n",
      "\n",
      " <E> = "
     ]
    },
    {
     "name": "stdout",
     "output_type": "stream",
     "text": [
      "286.26,  log(Z) = 5.14,   S = 291.4\n",
      " edges: "
     ]
    },
    {
     "name": "stdout",
     "output_type": "stream",
     "text": [
      "1052,   elements: 4569,   edge complexity: 4.29 %,  elements complexity: 0.04 %\n"
     ]
    },
    {
     "name": "stdout",
     "output_type": "stream",
     "text": [
      "\n",
      "iteration = 1320,   Score = 0.891\n",
      "\n",
      " <E> = "
     ]
    },
    {
     "name": "stdout",
     "output_type": "stream",
     "text": [
      "285.85,  log(Z) = 5.06,   S = 290.9\n",
      " edges: "
     ]
    },
    {
     "name": "stdout",
     "output_type": "stream",
     "text": [
      "1069,   elements: 4672,   edge complexity: 4.36 %,  elements complexity: 0.04 %\n"
     ]
    },
    {
     "name": "stdout",
     "output_type": "stream",
     "text": [
      "\n",
      "iteration = 1340,   Score = 0.892\n",
      "\n",
      " <E> = "
     ]
    },
    {
     "name": "stdout",
     "output_type": "stream",
     "text": [
      "285.09,  log(Z) = 5.13,   S = 290.22\n",
      " edges: "
     ]
    },
    {
     "name": "stdout",
     "output_type": "stream",
     "text": [
      "1084,   elements: 4766,   edge complexity: 4.42 %,  elements complexity: 0.04 %\n"
     ]
    },
    {
     "name": "stdout",
     "output_type": "stream",
     "text": [
      "\n",
      "iteration = 1360,   Score = 0.895\n",
      "\n",
      " <E> = "
     ]
    },
    {
     "name": "stdout",
     "output_type": "stream",
     "text": [
      "284.6,  log(Z) = 5.05,   S = 289.65\n",
      " edges: "
     ]
    },
    {
     "name": "stdout",
     "output_type": "stream",
     "text": [
      "1096,   elements: 4856,   edge complexity: 4.47 %,  elements complexity: 0.04 %\n"
     ]
    },
    {
     "name": "stdout",
     "output_type": "stream",
     "text": [
      "\n",
      "iteration = 1380,   Score = 0.898\n",
      "\n",
      " <E> = "
     ]
    },
    {
     "name": "stdout",
     "output_type": "stream",
     "text": [
      "284.59,  log(Z) = 5.15,   S = 289.74\n",
      " edges: "
     ]
    },
    {
     "name": "stdout",
     "output_type": "stream",
     "text": [
      "1112,   elements: 4948,   edge complexity: 4.53 %,  elements complexity: 0.05 %\n"
     ]
    },
    {
     "name": "stdout",
     "output_type": "stream",
     "text": [
      "\n",
      "iteration = 1400,   Score = 0.898\n",
      "\n",
      " <E> = "
     ]
    },
    {
     "name": "stdout",
     "output_type": "stream",
     "text": [
      "283.06,  log(Z) = 5.22,   S = 288.29\n",
      " edges: "
     ]
    },
    {
     "name": "stdout",
     "output_type": "stream",
     "text": [
      "1123,   elements: 5037,   edge complexity: 4.58 %,  elements complexity: 0.05 %\n"
     ]
    },
    {
     "name": "stdout",
     "output_type": "stream",
     "text": [
      "\n",
      "iteration = 1420,   Score = 0.9\n",
      "\n",
      " <E> = "
     ]
    },
    {
     "name": "stdout",
     "output_type": "stream",
     "text": [
      "282.51,  log(Z) = 5.22,   S = 287.73\n",
      " \n",
      "The selceted model has 1135 edges and a score = 0.9\n"
     ]
    }
   ],
   "source": [
    "using Random\n",
    "\n",
    "n_step = 100_000\n",
    "method = \"cumulative\"\n",
    "fraction = 0.3\n",
    "stop = 0.9\n",
    "pseudo_count = 0.7\n",
    "s = time()\n",
    "Random.seed!(2) \n",
    "notebook = \"0.7nb2\"\n",
    "\n",
    "family_name = \"Betalactamases\"\n",
    "score, likelihood_gain, generated_sequences, Jij, h, contact_list, site_degree, edge_list, single_likelihood_gain_vector, path = E_A_A(21, n_step, pseudo_count, 12000, natural_sequences,\"example_output.txt\", family_name, method, notebook, fraction, stop); \n",
    "\n",
    "s = time() - s\n",
    "\n",
    "# SAVE DATA ##################################################################################\n",
    "using JLD\n",
    "init_pseudo_count = 0.01\n",
    "#folder_name = \"../training/\" * method * string(fraction) * \"_stop=\" * string(stop) * \"_reg=\"*string(pseudo_count)*\"_h_ps-count=\" * string(init_pseudo_count) * \"nbook=\"*notebook\n",
    "JLD.save(path*\"/\"*\"score.jld\",\"data\", score)\n",
    "JLD.save(path*\"/\"*\"likelihood_gain.jld\",\"data\", likelihood_gain)\n",
    "JLD.save(path*\"/\"*\"generated_sequences.jld\",\"data\", generated_sequences)\n",
    "JLD.save(path*\"/\"*\"Jij.jld\",\"data\", Jij)\n",
    "JLD.save(path*\"/\"*\"h.jld\",\"data\", h)\n",
    "JLD.save(path*\"/\"*\"contact_list.jld\",\"data\", contact_list)\n",
    "JLD.save(path*\"/\"*\"site_degree.jld\",\"data\", site_degree)\n",
    "JLD.save(path*\"/\"*\"edge_list.jld\",\"data\", edge_list)"
   ]
  },
  {
   "attachments": {},
   "cell_type": "markdown",
   "id": "0c4e1927",
   "metadata": {},
   "source": [
    "## Saving the model"
   ]
  },
  {
   "cell_type": "code",
   "execution_count": null,
   "id": "3919994c",
   "metadata": {},
   "outputs": [],
   "source": [
    "function print_model_to_file_prot(natural_sequences,Jij,h,filename)\n",
    "    open(filename, \"w\") do f\n",
    "        for i in 1:length(natural_sequences[1,:])\n",
    "            for j in i+1:length(natural_sequences[1,:])\n",
    "                for k in 1:21    \n",
    "                    if k==1\n",
    "                        k2=1        \n",
    "                    elseif k==2\n",
    "                        k2=2\n",
    "                    elseif k==3\n",
    "                        k2=3\n",
    "                    elseif k==4\n",
    "                        k2=4\n",
    "                    elseif k==5\n",
    "                        k2=5\n",
    "                    elseif k==6\n",
    "                        k2=6\n",
    "                    elseif k==7\n",
    "                        k2=7\n",
    "                    elseif k==8\n",
    "                        k2=8\n",
    "                    elseif k==9\n",
    "                        k2=9\n",
    "                    elseif k==10\n",
    "                        k2=10\n",
    "                    elseif k==11\n",
    "                        k2=11\n",
    "                    elseif k==12\n",
    "                        k2=12\n",
    "                    elseif k==13\n",
    "                        k2=13\n",
    "                    elseif k==14\n",
    "                        k2=14\n",
    "                    elseif k==15\n",
    "                        k2=15\n",
    "                    elseif k==16\n",
    "                        k2=16\n",
    "                    elseif k==17\n",
    "                        k2=17\n",
    "                    elseif k==18\n",
    "                        k2=18\n",
    "                    elseif k==19\n",
    "                        k2=19\n",
    "                    elseif k==20\n",
    "                        k2=20\n",
    "                    elseif k==21\n",
    "                        k2=0\n",
    "                    end\n",
    "                        \n",
    "                    for l in 1:21\n",
    "                        if l==1\n",
    "                            l2=1\n",
    "                        elseif l==2\n",
    "                            l2=2\n",
    "                        elseif l==3\n",
    "                            l2=3\n",
    "                        elseif l==4\n",
    "                            l2=4\n",
    "                        elseif l==5\n",
    "                            l2=5\n",
    "                        elseif l==6\n",
    "                            l2=6\n",
    "                        elseif l==7\n",
    "                            l2=7\n",
    "                        elseif l==8\n",
    "                            l2=8\n",
    "                        elseif l==9\n",
    "                            l2=9\n",
    "                        elseif l==10\n",
    "                            l2=10\n",
    "                        elseif l==11\n",
    "                            l2=11\n",
    "                        elseif l==12\n",
    "                            l2=12\n",
    "                        elseif l==13\n",
    "                            l2=13\n",
    "                        elseif l==14\n",
    "                            l2=14\n",
    "                        elseif l==15\n",
    "                            l2=15\n",
    "                        elseif l==16\n",
    "                            l2=16\n",
    "                        elseif l==17\n",
    "                            l2=17\n",
    "                        elseif l==18\n",
    "                            l2=18\n",
    "                        elseif l==19\n",
    "                            l2=19\n",
    "                        elseif l==20\n",
    "                            l2=20\n",
    "                        elseif l==21\n",
    "                            l2=0\n",
    "                        end\n",
    "                        opo=Jij[i,j,21*(k-1)+l]\n",
    "                        write(f,\"\\nJ $(i-1) $(j-1) $(k2) $(l2) $opo\" )\n",
    "                    end\n",
    "                end\n",
    "            end\n",
    "        end\n",
    "        for i in 1:length(natural_sequences[1,:])\n",
    "            for j in 1:21          \n",
    "                if j==1\n",
    "                    j2=1\n",
    "                elseif j==2\n",
    "                    j2=2\n",
    "                elseif j==3\n",
    "                    j2=3\n",
    "                elseif j==4\n",
    "                    j2=4\n",
    "                elseif j==5\n",
    "                    j2=5\n",
    "                elseif j==6\n",
    "                    j2=6\n",
    "                elseif j==7\n",
    "                    j2=7\n",
    "                elseif j==8\n",
    "                    j2=8\n",
    "                elseif j==9\n",
    "                    j2=9\n",
    "                elseif j==10\n",
    "                    j2=10\n",
    "                elseif j==11\n",
    "                    j2=11\n",
    "                elseif j==12\n",
    "                    j2=12\n",
    "                elseif j==13\n",
    "                    j2=13\n",
    "                elseif j==14\n",
    "                    j2=14\n",
    "                elseif j==15\n",
    "                    j2=15\n",
    "                elseif j==16\n",
    "                    j2=16\n",
    "                elseif j==17\n",
    "                    j2=17\n",
    "                elseif j==18\n",
    "                    j2=18\n",
    "                elseif j==19\n",
    "                    j2=19\n",
    "                elseif j==20\n",
    "                    j2=20\n",
    "                elseif j==21\n",
    "                    j2=0\n",
    "                end\n",
    "                opo=h[21*(i-1)+j]\n",
    "                write(f,\"\\nh $(i-1) $(j2) $opo\" )\n",
    "            end\n",
    "        end\n",
    "    end\n",
    "end"
   ]
  },
  {
   "cell_type": "code",
   "execution_count": null,
   "id": "1c9c8dd2",
   "metadata": {},
   "outputs": [],
   "source": [
    "filename = \"../saved_models/model_cumulative0.3_stop0.9_pseudocount0.5_init_pscount0.01_nbook3.txt\"\n",
    "print_model_to_file_prot(natural_sequences, Jij, h, filename)"
   ]
  },
  {
   "cell_type": "markdown",
   "metadata": {},
   "source": [
    "<font size=\"3\">The model obtained has a performance comparable to the fully connected DCA while having just ~20% of its connectivity. The entropy of the model is 35.08. This means that it is able to generate e³⁵ (3.5x10¹⁵) different 55-102 segments for the RF00379 family. \\\n",
    "Now we can test our artificial sequences. We do the classical statistical check of the PCA projection and the two-point correlation representation. \\\n",
    "We test the performance of our model against the one of the Covariance Model. The CM model only contains trivial one-point and secondary information so our model must do better than it. </font>"
   ]
  },
  {
   "cell_type": "code",
   "execution_count": null,
   "metadata": {},
   "outputs": [],
   "source": [
    "cm_sequences = rna_cm_model_generation(0.8,0.05,7000,natural_sequences,ss_contact_matrix);\n"
   ]
  },
  {
   "cell_type": "code",
   "execution_count": null,
   "metadata": {},
   "outputs": [],
   "source": [
    "plot_stat_check(natural_sequences, generated_sequences, cm_sequences)"
   ]
  },
  {
   "cell_type": "markdown",
   "metadata": {},
   "source": [
    "<font size=\"3\">The E.A.A. artificial molecules are practically statistically indistinguishable from the natural ones. We see that they have a very similar PCA projection (artificial one seems richer just because we have more artificial sequences than natural ones) while Covariance Model fails to capture the details of the distribution. \n",
    "    The selected model has almost a perfect two-point statistics for all site pairs while the CM model only captures it for the ones involved in secondary structure contacts. \\\n",
    "     </font>\n"
   ]
  },
  {
   "cell_type": "markdown",
   "metadata": {},
   "source": [
    "<font size=\"3\">The interpretability is one of the main reasons in our quest to find parsimonious generative models. Now that we are sure we obtained a good generative model with relatively few parameters we can try to interprete them. \\\n",
    "Dividing the added edges in secondary structure contacts, 3D contacts we have:"
   ]
  },
  {
   "cell_type": "code",
   "execution_count": null,
   "metadata": {},
   "outputs": [],
   "source": [
    "edge_interpretation_plot(len,ss_contact_matrix,tertiary_contact_matrix,edge_list[1:50,:])"
   ]
  },
  {
   "cell_type": "markdown",
   "metadata": {},
   "source": [
    "<font size=\"3\">We see that the secondary structure contacts are taken in the first few iteration. We have lot of neighbouring sites probably due to philogenic effects. It is striking that we see some 3D contacts (in particular around site 40) before the NONE edges. This\n",
    "suggests that our algorithm effectively captures some information about the tertiary structure. \\\n",
    "Those results, that are far more general than this simple example, suggest that the added edges have a co-evolutionary interpretation."
   ]
  },
  {
   "cell_type": "markdown",
   "metadata": {},
   "source": [
    "<font size=\"3\">\n",
    "This notebook serves as an example of the application of the techniques described in the main text.\n"
   ]
  }
 ],
 "metadata": {
  "kernelspec": {
   "display_name": "Julia 1.8.5",
   "language": "julia",
   "name": "julia-1.8"
  },
  "language_info": {
   "file_extension": ".jl",
   "mimetype": "application/julia",
   "name": "julia",
   "version": "1.8.5"
  },
  "vscode": {
   "interpreter": {
    "hash": "6412a36ae9b8109c1adf793ae61659867359f52a3cfb701a53c331fa90dc1d37"
   }
  }
 },
 "nbformat": 4,
 "nbformat_minor": 5
}
