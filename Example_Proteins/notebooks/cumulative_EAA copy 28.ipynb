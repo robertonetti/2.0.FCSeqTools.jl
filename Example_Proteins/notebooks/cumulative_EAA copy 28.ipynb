{
 "cells": [
  {
   "cell_type": "markdown",
   "metadata": {},
   "source": [
    "# Edge Addition Algorithm - simple implementation example"
   ]
  },
  {
   "cell_type": "markdown",
   "metadata": {},
   "source": [
    "<font size=\"3\">Run time is around ~5 minutes with the default input. \\\n",
    "\\\n",
    "In this example we will use the E.A.A. model to build a low-connectivity DCA model. \\\n",
    "The information that we have about the training RNA family consists in: the sequence alignment and the consenus secondary structure (both trough the Covariance Model) and the 3D contacts trough the PDB file. </font> \n"
   ]
  },
  {
   "cell_type": "code",
   "execution_count": 1,
   "id": "20924cd6",
   "metadata": {},
   "outputs": [],
   "source": [
    "include(\"../src/FCSeqTools.jl\");"
   ]
  },
  {
   "cell_type": "markdown",
   "metadata": {},
   "source": [
    "<font size=\"3\">Here is an example of  RF00379 molecule and its associated consensus secondary structure. \\\n",
    "To make the execution faster we will not generate full lenght molecules but just a portion from nucleotide 55 to 102. </font>"
   ]
  },
  {
   "cell_type": "code",
   "execution_count": 2,
   "metadata": {},
   "outputs": [],
   "source": [
    "natural_sequences = do_number_matrix_prot(do_letter_matrix(\"../data/CM_130530_MC.fasta\"), 0.2);"
   ]
  },
  {
   "cell_type": "markdown",
   "metadata": {},
   "source": [
    "<font size=\"3\">Here is a segment example with its associated secondary structure. \\\n",
    "The database has a different size because the data-cleaning procedure depends on the region selected. \\\n",
    "Now we will run the E.A.A. building up our ineraction netwotk edge by edge till we reach a good performance generative model. \\\n",
    "At each iteration the algorithm reports: the added edge, the iteration number, the number of total added edges and the connectivity percentace of the fully connected case.\\\n",
    "Each 15 iterations the algorithm reports: the model score (Pearson between natural and artificial two-point correlations), the model mean energy, the model partition function and the model entropy. "
   ]
  },
  {
   "cell_type": "code",
   "execution_count": 3,
   "metadata": {},
   "outputs": [
    {
     "name": "stdout",
     "output_type": "stream",
     "text": [
      "Fully connected model has 4560 edges, 2010960 elements and a score around ~ 0.95\n"
     ]
    },
    {
     "name": "stdout",
     "output_type": "stream",
     "text": [
      "\n",
      "iteration = 20,   Score = 0.068\n",
      "\n",
      " <E> = "
     ]
    },
    {
     "name": "stdout",
     "output_type": "stream",
     "text": [
      "198.07,  log(Z) = 0.07,   S = 198.15\n",
      " edges: "
     ]
    },
    {
     "name": "stdout",
     "output_type": "stream",
     "text": [
      "20,   elements: 41,   edge complexity: 0.44 %,  elements complexity: 0.0 %\n"
     ]
    },
    {
     "name": "stdout",
     "output_type": "stream",
     "text": [
      "\n",
      "iteration = 40,   Score = 0.111\n",
      "\n",
      " <E> = "
     ]
    },
    {
     "name": "stdout",
     "output_type": "stream",
     "text": [
      "197.06,  log(Z) = 0.12,   S = 197.18\n",
      " edges: "
     ]
    },
    {
     "name": "stdout",
     "output_type": "stream",
     "text": [
      "40,   elements: 87,   edge complexity: 0.88 %,  elements complexity: 0.0 %\n"
     ]
    },
    {
     "name": "stdout",
     "output_type": "stream",
     "text": [
      "\n",
      "iteration = 60,   Score = 0.166\n",
      "\n",
      " <E> = "
     ]
    },
    {
     "name": "stdout",
     "output_type": "stream",
     "text": [
      "196.61,  log(Z) = 0.1,   S = 196.71\n",
      " edges: 57,   elements: 140,   edge complexity: 1.25 %,  elements complexity: 0.01 %\n"
     ]
    },
    {
     "name": "stdout",
     "output_type": "stream",
     "text": [
      "\n",
      "iteration = 80,   Score = 0.194\n",
      "\n",
      " <E> = "
     ]
    },
    {
     "name": "stdout",
     "output_type": "stream",
     "text": [
      "195.95,  log(Z) = 0.02,   S = 195.98\n",
      " edges: "
     ]
    },
    {
     "name": "stdout",
     "output_type": "stream",
     "text": [
      "75,   elements: 186,   edge complexity: 1.64 %,  elements complexity: 0.01 %\n"
     ]
    },
    {
     "name": "stdout",
     "output_type": "stream",
     "text": [
      "\n",
      "iteration = 100,   Score = 0.231\n",
      "\n",
      " <E> = "
     ]
    },
    {
     "name": "stdout",
     "output_type": "stream",
     "text": [
      "194.66,  log(Z) = -0.0,   S = 194.65\n",
      " edges: "
     ]
    },
    {
     "name": "stdout",
     "output_type": "stream",
     "text": [
      "92,   elements: 242,   edge complexity: 2.02 %,  elements complexity: 0.01 %\n"
     ]
    },
    {
     "name": "stdout",
     "output_type": "stream",
     "text": [
      "\n",
      "iteration = 120,   Score = 0.262\n",
      "\n",
      " <E> = "
     ]
    },
    {
     "name": "stdout",
     "output_type": "stream",
     "text": [
      "194.63,  log(Z) = -0.19,   S = 194.44\n",
      " edges: "
     ]
    },
    {
     "name": "stdout",
     "output_type": "stream",
     "text": [
      "110,   elements: 302,   edge complexity: 2.41 %,  elements complexity: 0.02 %\n"
     ]
    },
    {
     "name": "stdout",
     "output_type": "stream",
     "text": [
      "\n",
      "iteration = 140,   Score = 0.293\n",
      "\n",
      " <E> = "
     ]
    },
    {
     "name": "stdout",
     "output_type": "stream",
     "text": [
      "193.18,  log(Z) = -0.24,   S = 192.93\n",
      " edges: 127,   elements: 355,   edge complexity: 2.79 %,  elements complexity: 0.02 %\n"
     ]
    },
    {
     "name": "stdout",
     "output_type": "stream",
     "text": [
      "\n",
      "iteration = 160,   Score = 0.321\n",
      "\n",
      " <E> = "
     ]
    },
    {
     "name": "stdout",
     "output_type": "stream",
     "text": [
      "192.13,  log(Z) = -0.2,   S = 191.93\n",
      " edges: "
     ]
    },
    {
     "name": "stdout",
     "output_type": "stream",
     "text": [
      "143,   elements: 408,   edge complexity: 3.14 %,  elements complexity: 0.02 %\n"
     ]
    },
    {
     "name": "stdout",
     "output_type": "stream",
     "text": [
      "\n",
      "iteration = 180,   Score = 0.343\n",
      "\n",
      " <E> = "
     ]
    },
    {
     "name": "stdout",
     "output_type": "stream",
     "text": [
      "191.49,  log(Z) = -0.37,   S = 191.12\n",
      " edges: 161,   elements: 467,   edge complexity: 3.53 %,  elements complexity: 0.02 %\n"
     ]
    },
    {
     "name": "stdout",
     "output_type": "stream",
     "text": [
      "\n",
      "iteration = 200,   Score = 0.367\n",
      "\n",
      " <E> = "
     ]
    },
    {
     "name": "stdout",
     "output_type": "stream",
     "text": [
      "190.05,  log(Z) = -0.37,   S = 189.67\n",
      " edges: "
     ]
    },
    {
     "name": "stdout",
     "output_type": "stream",
     "text": [
      "179,   elements: 531,   edge complexity: 3.93 %,  elements complexity: 0.03 %\n"
     ]
    },
    {
     "name": "stdout",
     "output_type": "stream",
     "text": [
      "\n",
      "iteration = 220,   Score = 0.381\n",
      "\n",
      " <E> = "
     ]
    },
    {
     "name": "stdout",
     "output_type": "stream",
     "text": [
      "189.39,  log(Z) = -0.33,   S = 189.06\n",
      " edges: 194,   elements: 597,   edge complexity: 4.25 %,  elements complexity: 0.03 %\n"
     ]
    },
    {
     "name": "stdout",
     "output_type": "stream",
     "text": [
      "\n",
      "iteration = 240,   Score = 0.399\n",
      "\n",
      " <E> = "
     ]
    },
    {
     "name": "stdout",
     "output_type": "stream",
     "text": [
      "189.05,  log(Z) = -0.42,   S = 188.63\n",
      " edges: 209,   elements: 656,   edge complexity: 4.58 %,  elements complexity: 0.03 %\n"
     ]
    },
    {
     "name": "stdout",
     "output_type": "stream",
     "text": [
      "\n",
      "iteration = 260,   Score = 0.413\n",
      "\n",
      " <E> = "
     ]
    },
    {
     "name": "stdout",
     "output_type": "stream",
     "text": [
      "188.55,  log(Z) = -0.46,   S = 188.09\n",
      " edges: "
     ]
    },
    {
     "name": "stdout",
     "output_type": "stream",
     "text": [
      "224,   elements: 714,   edge complexity: 4.91 %,  elements complexity: 0.04 %\n"
     ]
    },
    {
     "name": "stdout",
     "output_type": "stream",
     "text": [
      "\n",
      "iteration = 280,   Score = 0.429\n",
      "\n",
      " <E> = "
     ]
    },
    {
     "name": "stdout",
     "output_type": "stream",
     "text": [
      "187.01,  log(Z) = -0.47,   S = 186.55\n",
      " edges: "
     ]
    },
    {
     "name": "stdout",
     "output_type": "stream",
     "text": [
      "243,   elements: 771,   edge complexity: 5.33 %,  elements complexity: 0.04 %\n"
     ]
    },
    {
     "name": "stdout",
     "output_type": "stream",
     "text": [
      "\n",
      "iteration = 300,   Score = 0.443\n",
      "\n",
      " <E> = "
     ]
    },
    {
     "name": "stdout",
     "output_type": "stream",
     "text": [
      "186.71,  log(Z) = -0.62,   S = 186.09\n",
      " edges: "
     ]
    },
    {
     "name": "stdout",
     "output_type": "stream",
     "text": [
      "260,   elements: 841,   edge complexity: 5.7 %,  elements complexity: 0.04 %\n"
     ]
    },
    {
     "name": "stdout",
     "output_type": "stream",
     "text": [
      "\n",
      "iteration = 320,   Score = 0.461\n",
      "\n",
      " <E> = "
     ]
    },
    {
     "name": "stdout",
     "output_type": "stream",
     "text": [
      "185.64,  log(Z) = -0.51,   S = 185.13\n",
      " edges: 273,   elements: 903,   edge complexity: 5.99 %,  elements complexity: 0.04 %\n"
     ]
    },
    {
     "name": "stdout",
     "output_type": "stream",
     "text": [
      "\n",
      "iteration = 340,   Score = 0.473\n",
      "\n",
      " <E> = "
     ]
    },
    {
     "name": "stdout",
     "output_type": "stream",
     "text": [
      "185.36,  log(Z) = -0.62,   S = 184.74\n",
      " edges: "
     ]
    },
    {
     "name": "stdout",
     "output_type": "stream",
     "text": [
      "290,   elements: 985,   edge complexity: 6.36 %,  elements complexity: 0.05 %\n"
     ]
    },
    {
     "name": "stdout",
     "output_type": "stream",
     "text": [
      "\n",
      "iteration = 360,   Score = 0.485\n",
      "\n",
      " <E> = "
     ]
    },
    {
     "name": "stdout",
     "output_type": "stream",
     "text": [
      "185.09,  log(Z) = -0.67,   S = 184.42\n",
      " edges: 304,   elements: 1059,   edge complexity: 6.67 %,  elements complexity: 0.05 %\n"
     ]
    },
    {
     "name": "stdout",
     "output_type": "stream",
     "text": [
      "\n",
      "iteration = 380,   Score = 0.5\n",
      "\n",
      " <E> = "
     ]
    },
    {
     "name": "stdout",
     "output_type": "stream",
     "text": [
      "183.91,  log(Z) = -0.75,   S = 183.16\n",
      " edges: "
     ]
    },
    {
     "name": "stdout",
     "output_type": "stream",
     "text": [
      "319,   elements: 1128,   edge complexity: 7.0 %,  elements complexity: 0.06 %\n"
     ]
    },
    {
     "name": "stdout",
     "output_type": "stream",
     "text": [
      "\n",
      "iteration = 400,   Score = 0.512\n",
      "\n",
      " <E> = "
     ]
    },
    {
     "name": "stdout",
     "output_type": "stream",
     "text": [
      "183.28,  log(Z) = -0.83,   S = 182.45\n",
      " edges: "
     ]
    },
    {
     "name": "stdout",
     "output_type": "stream",
     "text": [
      "336,   elements: 1200,   edge complexity: 7.37 %,  elements complexity: 0.06 %\n"
     ]
    },
    {
     "name": "stdout",
     "output_type": "stream",
     "text": [
      "\n",
      "iteration = 420,   Score = 0.531\n",
      "\n",
      " <E> = "
     ]
    },
    {
     "name": "stdout",
     "output_type": "stream",
     "text": [
      "183.09,  log(Z) = -0.95,   S = 182.14\n",
      " edges: 347,   elements: 1267,   edge complexity: 7.61 %,  elements complexity: 0.06 %\n"
     ]
    },
    {
     "name": "stdout",
     "output_type": "stream",
     "text": [
      "\n",
      "iteration = 440,   Score = 0.538\n",
      "\n",
      " <E> = "
     ]
    },
    {
     "name": "stdout",
     "output_type": "stream",
     "text": [
      "182.52,  log(Z) = -0.99,   S = 181.53\n",
      " edges: "
     ]
    },
    {
     "name": "stdout",
     "output_type": "stream",
     "text": [
      "362,   elements: 1343,   edge complexity: 7.94 %,  elements complexity: 0.07 %\n"
     ]
    },
    {
     "name": "stdout",
     "output_type": "stream",
     "text": [
      "\n",
      "iteration = 460,   Score = 0.544\n",
      "\n",
      " <E> = "
     ]
    },
    {
     "name": "stdout",
     "output_type": "stream",
     "text": [
      "181.7,  log(Z) = -0.98,   S = 180.73\n",
      " edges: 376,   elements: 1420,   edge complexity: 8.25 %,  elements complexity: 0.07 %\n"
     ]
    },
    {
     "name": "stdout",
     "output_type": "stream",
     "text": [
      "\n",
      "iteration = 480,   Score = 0.555\n",
      "\n",
      " <E> = "
     ]
    },
    {
     "name": "stdout",
     "output_type": "stream",
     "text": [
      "181.6,  log(Z) = -0.95,   S = 180.64\n",
      " edges: 391,   elements: 1494,   edge complexity: 8.57 %,  elements complexity: 0.07 %\n"
     ]
    },
    {
     "name": "stdout",
     "output_type": "stream",
     "text": [
      "\n",
      "iteration = 500,   Score = 0.567\n",
      "\n",
      " <E> = "
     ]
    },
    {
     "name": "stdout",
     "output_type": "stream",
     "text": [
      "180.6,  log(Z) = -0.98,   S = 179.61\n",
      " edges: "
     ]
    },
    {
     "name": "stdout",
     "output_type": "stream",
     "text": [
      "404,   elements: 1564,   edge complexity: 8.86 %,  elements complexity: 0.08 %\n"
     ]
    },
    {
     "name": "stdout",
     "output_type": "stream",
     "text": [
      "\n",
      "iteration = 520,   Score = 0.581\n",
      "\n",
      " <E> = "
     ]
    },
    {
     "name": "stdout",
     "output_type": "stream",
     "text": [
      "179.82,  log(Z) = -1.02,   S = 178.8\n",
      " edges: "
     ]
    },
    {
     "name": "stdout",
     "output_type": "stream",
     "text": [
      "415,   elements: 1636,   edge complexity: 9.1 %,  elements complexity: 0.08 %\n"
     ]
    },
    {
     "name": "stdout",
     "output_type": "stream",
     "text": [
      "\n",
      "iteration = 540,   Score = 0.589\n",
      "\n",
      " <E> = "
     ]
    },
    {
     "name": "stdout",
     "output_type": "stream",
     "text": [
      "179.18,  log(Z) = -1.04,   S = 178.14\n",
      " edges: "
     ]
    },
    {
     "name": "stdout",
     "output_type": "stream",
     "text": [
      "428,   elements: 1718,   edge complexity: 9.39 %,  elements complexity: 0.09 %\n"
     ]
    },
    {
     "name": "stdout",
     "output_type": "stream",
     "text": [
      "\n",
      "iteration = 560,   Score = 0.599\n",
      "\n",
      " <E> = "
     ]
    },
    {
     "name": "stdout",
     "output_type": "stream",
     "text": [
      "178.78,  log(Z) = -1.1,   S = 177.67\n",
      " edges: "
     ]
    },
    {
     "name": "stdout",
     "output_type": "stream",
     "text": [
      "445,   elements: 1791,   edge complexity: 9.76 %,  elements complexity: 0.09 %\n"
     ]
    },
    {
     "name": "stdout",
     "output_type": "stream",
     "text": [
      "\n",
      "iteration = 580,   Score = 0.606\n",
      "\n",
      " <E> = "
     ]
    },
    {
     "name": "stdout",
     "output_type": "stream",
     "text": [
      "177.76,  log(Z) = -1.1,   S = 176.66\n",
      " edges: 458,   elements: 1876,   edge complexity: 10.04 %,  elements complexity: 0.09 %\n"
     ]
    },
    {
     "name": "stdout",
     "output_type": "stream",
     "text": [
      "\n",
      "iteration = 600,   Score = 0.613\n",
      "\n",
      " <E> = "
     ]
    },
    {
     "name": "stdout",
     "output_type": "stream",
     "text": [
      "176.95,  log(Z) = -1.15,   S = 175.8\n",
      " edges: 476,   elements: 1960,   edge complexity: 10.44 %,  elements complexity: 0.1 %\n"
     ]
    },
    {
     "name": "stdout",
     "output_type": "stream",
     "text": [
      "\n",
      "iteration = 620,   Score = 0.621\n",
      "\n",
      " <E> = "
     ]
    },
    {
     "name": "stdout",
     "output_type": "stream",
     "text": [
      "175.79,  log(Z) = -1.1,   S = 174.68\n",
      " edges: "
     ]
    },
    {
     "name": "stdout",
     "output_type": "stream",
     "text": [
      "494,   elements: 2026,   edge complexity: 10.83 %,  elements complexity: 0.1 %\n"
     ]
    },
    {
     "name": "stdout",
     "output_type": "stream",
     "text": [
      "\n",
      "iteration = 640,   Score = 0.631\n",
      "\n",
      " <E> = "
     ]
    },
    {
     "name": "stdout",
     "output_type": "stream",
     "text": [
      "175.65,  log(Z) = -1.23,   S = 174.42\n",
      " edges: 511,   elements: 2114,   edge complexity: 11.21 %,  elements complexity: 0.11 %\n"
     ]
    },
    {
     "name": "stdout",
     "output_type": "stream",
     "text": [
      "\n",
      "iteration = 660,   Score = 0.639\n",
      "\n",
      " <E> = "
     ]
    },
    {
     "name": "stdout",
     "output_type": "stream",
     "text": [
      "175.3,  log(Z) = -1.33,   S = 173.97\n",
      " edges: 527,   elements: 2198,   edge complexity: 11.56 %,  elements complexity: 0.11 %\n"
     ]
    },
    {
     "name": "stdout",
     "output_type": "stream",
     "text": [
      "\n",
      "iteration = 680,   Score = 0.649\n",
      "\n",
      " <E> = "
     ]
    },
    {
     "name": "stdout",
     "output_type": "stream",
     "text": [
      "174.61,  log(Z) = -1.43,   S = 173.19\n",
      " edges: "
     ]
    },
    {
     "name": "stdout",
     "output_type": "stream",
     "text": [
      "543,   elements: 2293,   edge complexity: 11.91 %,  elements complexity: 0.11 %\n"
     ]
    },
    {
     "name": "stdout",
     "output_type": "stream",
     "text": [
      "\n",
      "iteration = 700,   Score = 0.652\n",
      "\n",
      " <E> = "
     ]
    },
    {
     "name": "stdout",
     "output_type": "stream",
     "text": [
      "174.52,  log(Z) = -1.4,   S = 173.12\n",
      " edges: 554,   elements: 2382,   edge complexity: 12.15 %,  elements complexity: 0.12 %\n"
     ]
    },
    {
     "name": "stdout",
     "output_type": "stream",
     "text": [
      "\n",
      "iteration = 720,   Score = 0.656\n",
      "\n",
      " <E> = "
     ]
    },
    {
     "name": "stdout",
     "output_type": "stream",
     "text": [
      "173.31,  log(Z) = -1.5,   S = 171.81\n",
      " edges: "
     ]
    },
    {
     "name": "stdout",
     "output_type": "stream",
     "text": [
      "571,   elements: 2473,   edge complexity: 12.52 %,  elements complexity: 0.12 %\n"
     ]
    },
    {
     "name": "stdout",
     "output_type": "stream",
     "text": [
      "\n",
      "iteration = 740,   Score = 0.665\n",
      "\n",
      " <E> = "
     ]
    },
    {
     "name": "stdout",
     "output_type": "stream",
     "text": [
      "172.53,  log(Z) = -1.52,   S = 171.01\n",
      " edges: "
     ]
    },
    {
     "name": "stdout",
     "output_type": "stream",
     "text": [
      "586,   elements: 2553,   edge complexity: 12.85 %,  elements complexity: 0.13 %\n"
     ]
    },
    {
     "name": "stdout",
     "output_type": "stream",
     "text": [
      "\n",
      "iteration = 760,   Score = 0.67\n",
      "\n",
      " <E> = "
     ]
    },
    {
     "name": "stdout",
     "output_type": "stream",
     "text": [
      "171.84,  log(Z) = -1.52,   S = 170.33\n",
      " edges: "
     ]
    },
    {
     "name": "stdout",
     "output_type": "stream",
     "text": [
      "601,   elements: 2633,   edge complexity: 13.18 %,  elements complexity: 0.13 %\n"
     ]
    },
    {
     "name": "stdout",
     "output_type": "stream",
     "text": [
      "\n",
      "iteration = 780,   Score = 0.674\n",
      "\n",
      " <E> = "
     ]
    },
    {
     "name": "stdout",
     "output_type": "stream",
     "text": [
      "171.01,  log(Z) = -1.56,   S = 169.45\n",
      " edges: "
     ]
    },
    {
     "name": "stdout",
     "output_type": "stream",
     "text": [
      "617,   elements: 2725,   edge complexity: 13.53 %,  elements complexity: 0.14 %\n"
     ]
    },
    {
     "name": "stdout",
     "output_type": "stream",
     "text": [
      "\n",
      "iteration = 800,   Score = 0.684\n",
      "\n",
      " <E> = "
     ]
    },
    {
     "name": "stdout",
     "output_type": "stream",
     "text": [
      "170.78,  log(Z) = -1.73,   S = 169.05\n",
      " edges: 629,   elements: 2827,   edge complexity: 13.79 %,  elements complexity: 0.14 %\n"
     ]
    },
    {
     "name": "stdout",
     "output_type": "stream",
     "text": [
      "\n",
      "iteration = 820,   Score = 0.686\n",
      "\n",
      " <E> = "
     ]
    },
    {
     "name": "stdout",
     "output_type": "stream",
     "text": [
      "170.21,  log(Z) = -1.78,   S = 168.42\n",
      " edges: 646,   elements: 2914,   edge complexity: 14.17 %,  elements complexity: 0.14 %\n"
     ]
    },
    {
     "name": "stdout",
     "output_type": "stream",
     "text": [
      "\n",
      "iteration = 840,   Score = 0.691\n",
      "\n",
      " <E> = "
     ]
    },
    {
     "name": "stdout",
     "output_type": "stream",
     "text": [
      "169.77,  log(Z) = -1.95,   S = 167.81\n",
      " edges: 658,   elements: 3010,   edge complexity: 14.43 %,  elements complexity: 0.15 %\n"
     ]
    },
    {
     "name": "stdout",
     "output_type": "stream",
     "text": [
      "\n",
      "iteration = 860,   Score = 0.696\n",
      "\n",
      " <E> = "
     ]
    },
    {
     "name": "stdout",
     "output_type": "stream",
     "text": [
      "169.06,  log(Z) = -2.03,   S = 167.03\n",
      " edges: 673,   elements: 3116,   edge complexity: 14.76 %,  elements complexity: 0.15 %\n"
     ]
    },
    {
     "name": "stdout",
     "output_type": "stream",
     "text": [
      "\n",
      "iteration = 880,   Score = 0.701\n",
      "\n",
      " <E> = "
     ]
    },
    {
     "name": "stdout",
     "output_type": "stream",
     "text": [
      "168.58,  log(Z) = -2.06,   S = 166.53\n",
      " edges: "
     ]
    },
    {
     "name": "stdout",
     "output_type": "stream",
     "text": [
      "688,   elements: 3228,   edge complexity: 15.09 %,  elements complexity: 0.16 %\n"
     ]
    },
    {
     "name": "stdout",
     "output_type": "stream",
     "text": [
      "\n",
      "iteration = 900,   Score = 0.704\n",
      "\n",
      " <E> = "
     ]
    },
    {
     "name": "stdout",
     "output_type": "stream",
     "text": [
      "168.89,  log(Z) = -2.09,   S = 166.8\n",
      " edges: 704,   elements: 3320,   edge complexity: 15.44 %,  elements complexity: 0.17 %\n"
     ]
    },
    {
     "name": "stdout",
     "output_type": "stream",
     "text": [
      "\n",
      "iteration = 920,   Score = 0.709\n",
      "\n",
      " <E> = "
     ]
    },
    {
     "name": "stdout",
     "output_type": "stream",
     "text": [
      "168.13,  log(Z) = -2.04,   S = 166.09\n",
      " edges: 718,   elements: 3410,   edge complexity: 15.75 %,  elements complexity: 0.17 %\n"
     ]
    },
    {
     "name": "stdout",
     "output_type": "stream",
     "text": [
      "\n",
      "iteration = 940,   Score = 0.716\n",
      "\n",
      " <E> = "
     ]
    },
    {
     "name": "stdout",
     "output_type": "stream",
     "text": [
      "167.55,  log(Z) = -2.1,   S = 165.45\n",
      " edges: "
     ]
    },
    {
     "name": "stdout",
     "output_type": "stream",
     "text": [
      "730,   elements: 3508,   edge complexity: 16.01 %,  elements complexity: 0.17 %\n"
     ]
    },
    {
     "name": "stdout",
     "output_type": "stream",
     "text": [
      "\n",
      "iteration = 960,   Score = 0.716\n",
      "\n",
      " <E> = "
     ]
    },
    {
     "name": "stdout",
     "output_type": "stream",
     "text": [
      "166.66,  log(Z) = -2.11,   S = 164.55\n",
      " edges: "
     ]
    },
    {
     "name": "stdout",
     "output_type": "stream",
     "text": [
      "743,   elements: 3598,   edge complexity: 16.29 %,  elements complexity: 0.18 %\n"
     ]
    },
    {
     "name": "stdout",
     "output_type": "stream",
     "text": [
      "\n",
      "iteration = 980,   Score = 0.719\n",
      "\n",
      " <E> = "
     ]
    },
    {
     "name": "stdout",
     "output_type": "stream",
     "text": [
      "166.22,  log(Z) = -2.11,   S = 164.1\n",
      " edges: "
     ]
    },
    {
     "name": "stdout",
     "output_type": "stream",
     "text": [
      "756,   elements: 3687,   edge complexity: 16.58 %,  elements complexity: 0.18 %\n"
     ]
    },
    {
     "name": "stdout",
     "output_type": "stream",
     "text": [
      "\n",
      "iteration = 1000,   Score = 0.727\n",
      "\n",
      " <E> = "
     ]
    },
    {
     "name": "stdout",
     "output_type": "stream",
     "text": [
      "165.88,  log(Z) = -2.17,   S = 163.71\n",
      " edges: "
     ]
    },
    {
     "name": "stdout",
     "output_type": "stream",
     "text": [
      "768,   elements: 3802,   edge complexity: 16.84 %,  elements complexity: 0.19 %\n"
     ]
    },
    {
     "name": "stdout",
     "output_type": "stream",
     "text": [
      "\n",
      "iteration = 1020,   Score = 0.727\n",
      "\n",
      " <E> = "
     ]
    },
    {
     "name": "stdout",
     "output_type": "stream",
     "text": [
      "165.03,  log(Z) = -2.1,   S = 162.94\n",
      " edges: 778,   elements: 3904,   edge complexity: 17.06 %,  elements complexity: 0.19 %\n"
     ]
    },
    {
     "name": "stdout",
     "output_type": "stream",
     "text": [
      "\n",
      "iteration = 1040,   Score = 0.733\n",
      "\n",
      " <E> = "
     ]
    },
    {
     "name": "stdout",
     "output_type": "stream",
     "text": [
      "165.08,  log(Z) = -2.17,   S = 162.9\n",
      " edges: "
     ]
    },
    {
     "name": "stdout",
     "output_type": "stream",
     "text": [
      "794,   elements: 4008,   edge complexity: 17.41 %,  elements complexity: 0.2 %\n"
     ]
    },
    {
     "name": "stdout",
     "output_type": "stream",
     "text": [
      "\n",
      "iteration = 1060,   Score = 0.738\n",
      "\n",
      " <E> = "
     ]
    },
    {
     "name": "stdout",
     "output_type": "stream",
     "text": [
      "164.63,  log(Z) = -2.23,   S = 162.4\n",
      " edges: 807,   elements: 4085,   edge complexity: 17.7 %,  elements complexity: 0.2 %\n"
     ]
    },
    {
     "name": "stdout",
     "output_type": "stream",
     "text": [
      "\n",
      "iteration = 1080,   Score = 0.738\n",
      "\n",
      " <E> = "
     ]
    },
    {
     "name": "stdout",
     "output_type": "stream",
     "text": [
      "164.25,  log(Z) = -2.25,   S = 162.01\n",
      " edges: "
     ]
    },
    {
     "name": "stdout",
     "output_type": "stream",
     "text": [
      "819,   elements: 4176,   edge complexity: 17.96 %,  elements complexity: 0.21 %\n"
     ]
    },
    {
     "name": "stdout",
     "output_type": "stream",
     "text": [
      "\n",
      "iteration = 1100,   Score = 0.742\n",
      "\n",
      " <E> = "
     ]
    },
    {
     "name": "stdout",
     "output_type": "stream",
     "text": [
      "164.3,  log(Z) = -2.26,   S = 162.04\n",
      " edges: 830,   elements: 4275,   edge complexity: 18.2 %,  elements complexity: 0.21 %\n"
     ]
    },
    {
     "name": "stdout",
     "output_type": "stream",
     "text": [
      "\n",
      "iteration = 1120,   Score = 0.744\n",
      "\n",
      " <E> = "
     ]
    },
    {
     "name": "stdout",
     "output_type": "stream",
     "text": [
      "163.21,  log(Z) = -2.28,   S = 160.93\n",
      " edges: "
     ]
    },
    {
     "name": "stdout",
     "output_type": "stream",
     "text": [
      "840,   elements: 4375,   edge complexity: 18.42 %,  elements complexity: 0.22 %\n"
     ]
    },
    {
     "name": "stdout",
     "output_type": "stream",
     "text": [
      "\n",
      "iteration = 1140,   Score = 0.751\n",
      "\n",
      " <E> = "
     ]
    },
    {
     "name": "stdout",
     "output_type": "stream",
     "text": [
      "163.1,  log(Z) = -2.25,   S = 160.85\n",
      " edges: 854,   elements: 4466,   edge complexity: 18.73 %,  elements complexity: 0.22 %\n"
     ]
    },
    {
     "name": "stdout",
     "output_type": "stream",
     "text": [
      "\n",
      "iteration = 1160,   Score = 0.754\n",
      "\n",
      " <E> = "
     ]
    },
    {
     "name": "stdout",
     "output_type": "stream",
     "text": [
      "163.48,  log(Z) = -2.24,   S = 161.24\n",
      " edges: "
     ]
    },
    {
     "name": "stdout",
     "output_type": "stream",
     "text": [
      "867,   elements: 4553,   edge complexity: 19.01 %,  elements complexity: 0.23 %\n"
     ]
    },
    {
     "name": "stdout",
     "output_type": "stream",
     "text": [
      "\n",
      "iteration = 1180,   Score = 0.758\n",
      "\n",
      " <E> = "
     ]
    },
    {
     "name": "stdout",
     "output_type": "stream",
     "text": [
      "161.55,  log(Z) = -2.29,   S = 159.26\n",
      " edges: "
     ]
    },
    {
     "name": "stdout",
     "output_type": "stream",
     "text": [
      "880,   elements: 4669,   edge complexity: 19.3 %,  elements complexity: 0.23 %\n"
     ]
    },
    {
     "name": "stdout",
     "output_type": "stream",
     "text": [
      "\n",
      "iteration = 1200,   Score = 0.762\n",
      "\n",
      " <E> = "
     ]
    },
    {
     "name": "stdout",
     "output_type": "stream",
     "text": [
      "161.71,  log(Z) = -2.25,   S = 159.46\n",
      " edges: "
     ]
    },
    {
     "name": "stdout",
     "output_type": "stream",
     "text": [
      "893,   elements: 4773,   edge complexity: 19.58 %,  elements complexity: 0.24 %\n"
     ]
    },
    {
     "name": "stdout",
     "output_type": "stream",
     "text": [
      "\n",
      "iteration = 1220,   Score = 0.763\n",
      "\n",
      " <E> = "
     ]
    },
    {
     "name": "stdout",
     "output_type": "stream",
     "text": [
      "160.97,  log(Z) = -2.33,   S = 158.64\n",
      " edges: 906,   elements: 4874,   edge complexity: 19.87 %,  elements complexity: 0.24 %\n"
     ]
    },
    {
     "name": "stdout",
     "output_type": "stream",
     "text": [
      "\n",
      "iteration = 1240,   Score = 0.765\n",
      "\n",
      " <E> = "
     ]
    },
    {
     "name": "stdout",
     "output_type": "stream",
     "text": [
      "161.13,  log(Z) = -2.28,   S = 158.84\n",
      " edges: 918,   elements: 4974,   edge complexity: 20.13 %,  elements complexity: 0.25 %\n"
     ]
    },
    {
     "name": "stdout",
     "output_type": "stream",
     "text": [
      "\n",
      "iteration = 1260,   Score = 0.771\n",
      "\n",
      " <E> = "
     ]
    },
    {
     "name": "stdout",
     "output_type": "stream",
     "text": [
      "160.8,  log(Z) = -2.29,   S = 158.5\n",
      " edges: "
     ]
    },
    {
     "name": "stdout",
     "output_type": "stream",
     "text": [
      "931,   elements: 5067,   edge complexity: 20.42 %,  elements complexity: 0.25 %\n"
     ]
    },
    {
     "name": "stdout",
     "output_type": "stream",
     "text": [
      "\n",
      "iteration = 1280,   Score = 0.773\n",
      "\n",
      " <E> = "
     ]
    },
    {
     "name": "stdout",
     "output_type": "stream",
     "text": [
      "160.9,  log(Z) = -2.34,   S = 158.56\n",
      " edges: "
     ]
    },
    {
     "name": "stdout",
     "output_type": "stream",
     "text": [
      "944,   elements: 5166,   edge complexity: 20.7 %,  elements complexity: 0.26 %\n"
     ]
    },
    {
     "name": "stdout",
     "output_type": "stream",
     "text": [
      "\n",
      "iteration = 1300,   Score = 0.775\n",
      "\n",
      " <E> = "
     ]
    },
    {
     "name": "stdout",
     "output_type": "stream",
     "text": [
      "160.9,  log(Z) = -2.35,   S = 158.54\n",
      " edges: 958,   elements: 5268,   edge complexity: 21.01 %,  elements complexity: 0.26 %\n"
     ]
    },
    {
     "name": "stdout",
     "output_type": "stream",
     "text": [
      "\n",
      "iteration = 1320,   Score = 0.773\n",
      "\n",
      " <E> = "
     ]
    },
    {
     "name": "stdout",
     "output_type": "stream",
     "text": [
      "159.67,  log(Z) = -2.4,   S = 157.27\n",
      " edges: "
     ]
    },
    {
     "name": "stdout",
     "output_type": "stream",
     "text": [
      "974,   elements: 5385,   edge complexity: 21.36 %,  elements complexity: 0.27 %\n"
     ]
    },
    {
     "name": "stdout",
     "output_type": "stream",
     "text": [
      "\n",
      "iteration = 1340,   Score = 0.78\n",
      "\n",
      " <E> = "
     ]
    },
    {
     "name": "stdout",
     "output_type": "stream",
     "text": [
      "159.8,  log(Z) = -2.48,   S = 157.32\n",
      " edges: "
     ]
    },
    {
     "name": "stdout",
     "output_type": "stream",
     "text": [
      "989,   elements: 5501,   edge complexity: 21.69 %,  elements complexity: 0.27 %\n"
     ]
    },
    {
     "name": "stdout",
     "output_type": "stream",
     "text": [
      "\n",
      "iteration = 1360,   Score = 0.782\n",
      "\n",
      " <E> = "
     ]
    },
    {
     "name": "stdout",
     "output_type": "stream",
     "text": [
      "159.29,  log(Z) = -2.51,   S = 156.78\n",
      " edges: 1001,   elements: 5626,   edge complexity: 21.95 %,  elements complexity: 0.28 %\n"
     ]
    },
    {
     "name": "stdout",
     "output_type": "stream",
     "text": [
      "\n",
      "iteration = 1380,   Score = 0.785\n",
      "\n",
      " <E> = "
     ]
    },
    {
     "name": "stdout",
     "output_type": "stream",
     "text": [
      "158.71,  log(Z) = -2.5,   S = 156.21\n",
      " edges: "
     ]
    },
    {
     "name": "stdout",
     "output_type": "stream",
     "text": [
      "1013,   elements: 5727,   edge complexity: 22.21 %,  elements complexity: 0.28 %\n"
     ]
    },
    {
     "name": "stdout",
     "output_type": "stream",
     "text": [
      "\n",
      "iteration = 1400,   Score = 0.786\n",
      "\n",
      " <E> = "
     ]
    },
    {
     "name": "stdout",
     "output_type": "stream",
     "text": [
      "158.45,  log(Z) = -2.55,   S = 155.9\n",
      " edges: 1029,   elements: 5854,   edge complexity: 22.57 %,  elements complexity: 0.29 %\n"
     ]
    },
    {
     "name": "stdout",
     "output_type": "stream",
     "text": [
      "\n",
      "iteration = 1420,   Score = 0.787\n",
      "\n",
      " <E> = "
     ]
    },
    {
     "name": "stdout",
     "output_type": "stream",
     "text": [
      "157.69,  log(Z) = -2.52,   S = 155.17\n",
      " edges: 1043,   elements: 5982,   edge complexity: 22.87 %,  elements complexity: 0.3 %\n"
     ]
    },
    {
     "name": "stdout",
     "output_type": "stream",
     "text": [
      "\n",
      "iteration = 1440,   Score = 0.79\n",
      "\n",
      " <E> = "
     ]
    },
    {
     "name": "stdout",
     "output_type": "stream",
     "text": [
      "157.84,  log(Z) = -2.59,   S = 155.25\n",
      " edges: "
     ]
    },
    {
     "name": "stdout",
     "output_type": "stream",
     "text": [
      "1052,   elements: 6113,   edge complexity: 23.07 %,  elements complexity: 0.3 %\n"
     ]
    },
    {
     "name": "stdout",
     "output_type": "stream",
     "text": [
      "\n",
      "iteration = 1460,   Score = 0.793\n",
      "\n",
      " <E> = "
     ]
    },
    {
     "name": "stdout",
     "output_type": "stream",
     "text": [
      "157.69,  log(Z) = -2.48,   S = 155.22\n",
      " edges: 1066,   elements: 6207,   edge complexity: 23.38 %,  elements complexity: 0.31 %\n"
     ]
    },
    {
     "name": "stdout",
     "output_type": "stream",
     "text": [
      "\n",
      "iteration = 1480,   Score = 0.793\n",
      "\n",
      " <E> = "
     ]
    },
    {
     "name": "stdout",
     "output_type": "stream",
     "text": [
      "157.26,  log(Z) = -2.51,   S = 154.74\n",
      " edges: "
     ]
    },
    {
     "name": "stdout",
     "output_type": "stream",
     "text": [
      "1074,   elements: 6341,   edge complexity: 23.55 %,  elements complexity: 0.32 %\n"
     ]
    },
    {
     "name": "stdout",
     "output_type": "stream",
     "text": [
      "\n",
      "iteration = 1500,   Score = 0.797\n",
      "\n",
      " <E> = "
     ]
    },
    {
     "name": "stdout",
     "output_type": "stream",
     "text": [
      "157.08,  log(Z) = -2.5,   S = 154.58\n",
      " edges: 1083,   elements: 6465,   edge complexity: 23.75 %,  elements complexity: 0.32 %\n"
     ]
    },
    {
     "name": "stdout",
     "output_type": "stream",
     "text": [
      "\n",
      "iteration = 1520,   Score = 0.796\n",
      "\n",
      " <E> = "
     ]
    },
    {
     "name": "stdout",
     "output_type": "stream",
     "text": [
      "156.26,  log(Z) = -2.52,   S = 153.74\n",
      " edges: "
     ]
    },
    {
     "name": "stdout",
     "output_type": "stream",
     "text": [
      "1097,   elements: 6586,   edge complexity: 24.06 %,  elements complexity: 0.33 %\n"
     ]
    },
    {
     "name": "stdout",
     "output_type": "stream",
     "text": [
      "\n",
      "iteration = 1540,   Score = 0.801\n",
      "\n",
      " <E> = "
     ]
    },
    {
     "name": "stdout",
     "output_type": "stream",
     "text": [
      "156.64,  log(Z) = -2.55,   S = 154.09\n",
      " edges: "
     ]
    },
    {
     "name": "stdout",
     "output_type": "stream",
     "text": [
      "1107,   elements: 6706,   edge complexity: 24.28 %,  elements complexity: 0.33 %\n"
     ]
    },
    {
     "name": "stdout",
     "output_type": "stream",
     "text": [
      "\n",
      "iteration = 1560,   Score = 0.803\n",
      "\n",
      " <E> = "
     ]
    },
    {
     "name": "stdout",
     "output_type": "stream",
     "text": [
      "156.28,  log(Z) = -2.53,   S = 153.74\n",
      " edges: "
     ]
    },
    {
     "name": "stdout",
     "output_type": "stream",
     "text": [
      "1122,   elements: 6829,   edge complexity: 24.61 %,  elements complexity: 0.34 %\n"
     ]
    },
    {
     "name": "stdout",
     "output_type": "stream",
     "text": [
      "\n",
      "iteration = 1580,   Score = 0.803\n",
      "\n",
      " <E> = "
     ]
    },
    {
     "name": "stdout",
     "output_type": "stream",
     "text": [
      "155.78,  log(Z) = -2.45,   S = 153.33\n",
      " edges: "
     ]
    },
    {
     "name": "stdout",
     "output_type": "stream",
     "text": [
      "1133,   elements: 6930,   edge complexity: 24.85 %,  elements complexity: 0.34 %\n"
     ]
    },
    {
     "name": "stdout",
     "output_type": "stream",
     "text": [
      "\n",
      "iteration = 1600,   Score = 0.805\n",
      "\n",
      " <E> = "
     ]
    },
    {
     "name": "stdout",
     "output_type": "stream",
     "text": [
      "155.66,  log(Z) = -2.45,   S = 153.21\n",
      " edges: 1146,   elements: 7029,   edge complexity: 25.13 %,  elements complexity: 0.35 %\n"
     ]
    },
    {
     "name": "stdout",
     "output_type": "stream",
     "text": [
      "\n",
      "iteration = 1620,   Score = 0.809\n",
      "\n",
      " <E> = "
     ]
    },
    {
     "name": "stdout",
     "output_type": "stream",
     "text": [
      "155.21,  log(Z) = -2.39,   S = 152.82\n",
      " edges: "
     ]
    },
    {
     "name": "stdout",
     "output_type": "stream",
     "text": [
      "1156,   elements: 7158,   edge complexity: 25.35 %,  elements complexity: 0.36 %\n"
     ]
    },
    {
     "name": "stdout",
     "output_type": "stream",
     "text": [
      "\n",
      "iteration = 1640,   Score = 0.809\n",
      "\n",
      " <E> = "
     ]
    },
    {
     "name": "stdout",
     "output_type": "stream",
     "text": [
      "155.59,  log(Z) = -2.47,   S = 153.12\n",
      " edges: "
     ]
    },
    {
     "name": "stdout",
     "output_type": "stream",
     "text": [
      "1170,   elements: 7286,   edge complexity: 25.66 %,  elements complexity: 0.36 %\n"
     ]
    },
    {
     "name": "stdout",
     "output_type": "stream",
     "text": [
      "\n",
      "iteration = 1660,   Score = 0.811\n",
      "\n",
      " <E> = "
     ]
    },
    {
     "name": "stdout",
     "output_type": "stream",
     "text": [
      "154.43,  log(Z) = -2.47,   S = 151.96\n",
      " edges: "
     ]
    },
    {
     "name": "stdout",
     "output_type": "stream",
     "text": [
      "1183,   elements: 7410,   edge complexity: 25.94 %,  elements complexity: 0.37 %\n"
     ]
    },
    {
     "name": "stdout",
     "output_type": "stream",
     "text": [
      "\n",
      "iteration = 1680,   Score = 0.811\n",
      "\n",
      " <E> = "
     ]
    },
    {
     "name": "stdout",
     "output_type": "stream",
     "text": [
      "153.98,  log(Z) = -2.48,   S = 151.5\n",
      " edges: "
     ]
    },
    {
     "name": "stdout",
     "output_type": "stream",
     "text": [
      "1196,   elements: 7528,   edge complexity: 26.23 %,  elements complexity: 0.37 %\n"
     ]
    },
    {
     "name": "stdout",
     "output_type": "stream",
     "text": [
      "\n",
      "iteration = 1700,   Score = 0.814\n",
      "\n",
      " <E> = "
     ]
    },
    {
     "name": "stdout",
     "output_type": "stream",
     "text": [
      "153.76,  log(Z) = -2.43,   S = 151.33\n",
      " edges: "
     ]
    },
    {
     "name": "stdout",
     "output_type": "stream",
     "text": [
      "1204,   elements: 7639,   edge complexity: 26.4 %,  elements complexity: 0.38 %\n"
     ]
    },
    {
     "name": "stdout",
     "output_type": "stream",
     "text": [
      "\n",
      "iteration = 1720,   Score = 0.815\n",
      "\n",
      " <E> = "
     ]
    },
    {
     "name": "stdout",
     "output_type": "stream",
     "text": [
      "154.08,  log(Z) = -2.41,   S = 151.67\n",
      " edges: "
     ]
    },
    {
     "name": "stdout",
     "output_type": "stream",
     "text": [
      "1215,   elements: 7768,   edge complexity: 26.64 %,  elements complexity: 0.39 %\n"
     ]
    },
    {
     "name": "stdout",
     "output_type": "stream",
     "text": [
      "\n",
      "iteration = 1740,   Score = 0.815\n",
      "\n",
      " <E> = "
     ]
    },
    {
     "name": "stdout",
     "output_type": "stream",
     "text": [
      "153.93,  log(Z) = -2.47,   S = 151.46\n",
      " edges: "
     ]
    },
    {
     "name": "stdout",
     "output_type": "stream",
     "text": [
      "1231,   elements: 7889,   edge complexity: 27.0 %,  elements complexity: 0.39 %\n"
     ]
    },
    {
     "name": "stdout",
     "output_type": "stream",
     "text": [
      "\n",
      "iteration = 1760,   Score = 0.816\n",
      "\n",
      " <E> = "
     ]
    },
    {
     "name": "stdout",
     "output_type": "stream",
     "text": [
      "152.9,  log(Z) = -2.42,   S = 150.48\n",
      " edges: 1244,   elements: 8015,   edge complexity: 27.28 %,  elements complexity: 0.4 %\n"
     ]
    },
    {
     "name": "stdout",
     "output_type": "stream",
     "text": [
      "\n",
      "iteration = 1780,   Score = 0.819\n",
      "\n",
      " <E> = "
     ]
    },
    {
     "name": "stdout",
     "output_type": "stream",
     "text": [
      "152.86,  log(Z) = -2.47,   S = 150.4\n",
      " edges: "
     ]
    },
    {
     "name": "stdout",
     "output_type": "stream",
     "text": [
      "1254,   elements: 8143,   edge complexity: 27.5 %,  elements complexity: 0.4 %\n"
     ]
    },
    {
     "name": "stdout",
     "output_type": "stream",
     "text": [
      "\n",
      "iteration = 1800,   Score = 0.819\n",
      "\n",
      " <E> = "
     ]
    },
    {
     "name": "stdout",
     "output_type": "stream",
     "text": [
      "152.24,  log(Z) = -2.45,   S = 149.79\n",
      " edges: "
     ]
    },
    {
     "name": "stdout",
     "output_type": "stream",
     "text": [
      "1266,   elements: 8260,   edge complexity: 27.76 %,  elements complexity: 0.41 %\n"
     ]
    },
    {
     "name": "stdout",
     "output_type": "stream",
     "text": [
      "\n",
      "iteration = 1820,   Score = 0.822\n",
      "\n",
      " <E> = "
     ]
    },
    {
     "name": "stdout",
     "output_type": "stream",
     "text": [
      "152.47,  log(Z) = -2.42,   S = 150.05\n",
      " edges: 1275,   elements: 8361,   edge complexity: 27.96 %,  elements complexity: 0.42 %\n"
     ]
    },
    {
     "name": "stdout",
     "output_type": "stream",
     "text": [
      "\n",
      "iteration = 1840,   Score = 0.824\n",
      "\n",
      " <E> = "
     ]
    },
    {
     "name": "stdout",
     "output_type": "stream",
     "text": [
      "152.29,  log(Z) = -2.39,   S = 149.91\n",
      " edges: "
     ]
    },
    {
     "name": "stdout",
     "output_type": "stream",
     "text": [
      "1285,   elements: 8479,   edge complexity: 28.18 %,  elements complexity: 0.42 %\n"
     ]
    },
    {
     "name": "stdout",
     "output_type": "stream",
     "text": [
      "\n",
      "iteration = 1860,   Score = 0.823\n",
      "\n",
      " <E> = "
     ]
    },
    {
     "name": "stdout",
     "output_type": "stream",
     "text": [
      "151.56,  log(Z) = -2.33,   S = 149.23\n",
      " edges: "
     ]
    },
    {
     "name": "stdout",
     "output_type": "stream",
     "text": [
      "1296,   elements: 8598,   edge complexity: 28.42 %,  elements complexity: 0.43 %\n"
     ]
    },
    {
     "name": "stdout",
     "output_type": "stream",
     "text": [
      "\n",
      "iteration = 1880,   Score = 0.824\n",
      "\n",
      " <E> = "
     ]
    },
    {
     "name": "stdout",
     "output_type": "stream",
     "text": [
      "151.56,  log(Z) = -2.38,   S = 149.18\n",
      " edges: "
     ]
    },
    {
     "name": "stdout",
     "output_type": "stream",
     "text": [
      "1309,   elements: 8719,   edge complexity: 28.71 %,  elements complexity: 0.43 %\n"
     ]
    },
    {
     "name": "stdout",
     "output_type": "stream",
     "text": [
      "\n",
      "iteration = 1900,   Score = 0.827\n",
      "\n",
      " <E> = "
     ]
    },
    {
     "name": "stdout",
     "output_type": "stream",
     "text": [
      "151.17,  log(Z) = -2.39,   S = 148.78\n",
      " edges: 1320,   elements: 8854,   edge complexity: 28.95 %,  elements complexity: 0.44 %\n"
     ]
    },
    {
     "name": "stdout",
     "output_type": "stream",
     "text": [
      "\n",
      "iteration = 1920,   Score = 0.827\n",
      "\n",
      " <E> = "
     ]
    },
    {
     "name": "stdout",
     "output_type": "stream",
     "text": [
      "150.63,  log(Z) = -2.39,   S = 148.25\n",
      " edges: "
     ]
    },
    {
     "name": "stdout",
     "output_type": "stream",
     "text": [
      "1331,   elements: 8967,   edge complexity: 29.19 %,  elements complexity: 0.45 %\n"
     ]
    },
    {
     "name": "stdout",
     "output_type": "stream",
     "text": [
      "\n",
      "iteration = 1940,   Score = 0.829\n",
      "\n",
      " <E> = "
     ]
    },
    {
     "name": "stdout",
     "output_type": "stream",
     "text": [
      "150.3,  log(Z) = -2.35,   S = 147.95\n",
      " edges: 1341,   elements: 9078,   edge complexity: 29.41 %,  elements complexity: 0.45 %\n"
     ]
    },
    {
     "name": "stdout",
     "output_type": "stream",
     "text": [
      "\n",
      "iteration = 1960,   Score = 0.832\n",
      "\n",
      " <E> = "
     ]
    },
    {
     "name": "stdout",
     "output_type": "stream",
     "text": [
      "149.67,  log(Z) = -2.36,   S = 147.31\n",
      " edges: "
     ]
    },
    {
     "name": "stdout",
     "output_type": "stream",
     "text": [
      "1352,   elements: 9194,   edge complexity: 29.65 %,  elements complexity: 0.46 %\n"
     ]
    },
    {
     "name": "stdout",
     "output_type": "stream",
     "text": [
      "\n",
      "iteration = 1980,   Score = 0.832\n",
      "\n",
      " <E> = "
     ]
    },
    {
     "name": "stdout",
     "output_type": "stream",
     "text": [
      "149.87,  log(Z) = -2.38,   S = 147.49\n",
      " edges: "
     ]
    },
    {
     "name": "stdout",
     "output_type": "stream",
     "text": [
      "1360,   elements: 9315,   edge complexity: 29.82 %,  elements complexity: 0.46 %\n"
     ]
    },
    {
     "name": "stdout",
     "output_type": "stream",
     "text": [
      "\n",
      "iteration = 2000,   Score = 0.831\n",
      "\n",
      " <E> = "
     ]
    },
    {
     "name": "stdout",
     "output_type": "stream",
     "text": [
      "149.52,  log(Z) = -2.36,   S = 147.16\n",
      " edges: 1370,   elements: 9439,   edge complexity: 30.04 %,  elements complexity: 0.47 %\n"
     ]
    },
    {
     "name": "stdout",
     "output_type": "stream",
     "text": [
      "\n",
      "iteration = 2020,   Score = 0.834\n",
      "\n",
      " <E> = "
     ]
    },
    {
     "name": "stdout",
     "output_type": "stream",
     "text": [
      "149.95,  log(Z) = -2.44,   S = 147.51\n",
      " edges: "
     ]
    },
    {
     "name": "stdout",
     "output_type": "stream",
     "text": [
      "1379,   elements: 9577,   edge complexity: 30.24 %,  elements complexity: 0.48 %\n"
     ]
    },
    {
     "name": "stdout",
     "output_type": "stream",
     "text": [
      "\n",
      "iteration = 2040,   Score = 0.836\n",
      "\n",
      " <E> = "
     ]
    },
    {
     "name": "stdout",
     "output_type": "stream",
     "text": [
      "149.28,  log(Z) = -2.38,   S = 146.9\n",
      " edges: "
     ]
    },
    {
     "name": "stdout",
     "output_type": "stream",
     "text": [
      "1395,   elements: 9703,   edge complexity: 30.59 %,  elements complexity: 0.48 %\n"
     ]
    },
    {
     "name": "stdout",
     "output_type": "stream",
     "text": [
      "\n",
      "iteration = 2060,   Score = 0.837\n",
      "\n",
      " <E> = "
     ]
    },
    {
     "name": "stdout",
     "output_type": "stream",
     "text": [
      "148.78,  log(Z) = -2.37,   S = 146.42\n",
      " edges: 1404,   elements: 9815,   edge complexity: 30.79 %,  elements complexity: 0.49 %\n"
     ]
    },
    {
     "name": "stdout",
     "output_type": "stream",
     "text": [
      "\n",
      "iteration = 2080,   Score = 0.837\n",
      "\n",
      " <E> = "
     ]
    },
    {
     "name": "stdout",
     "output_type": "stream",
     "text": [
      "148.65,  log(Z) = -2.42,   S = 146.23\n",
      " edges: 1415,   elements: 9931,   edge complexity: 31.03 %,  elements complexity: 0.49 %\n"
     ]
    },
    {
     "name": "stdout",
     "output_type": "stream",
     "text": [
      "\n",
      "iteration = 2100,   Score = 0.836\n",
      "\n",
      " <E> = "
     ]
    },
    {
     "name": "stdout",
     "output_type": "stream",
     "text": [
      "148.23,  log(Z) = -2.4,   S = 145.83\n",
      " edges: 1425,   elements: 10067,   edge complexity: 31.25 %,  elements complexity: 0.5 %\n"
     ]
    },
    {
     "name": "stdout",
     "output_type": "stream",
     "text": [
      "\n",
      "iteration = 2120,   Score = 0.837\n",
      "\n",
      " <E> = "
     ]
    },
    {
     "name": "stdout",
     "output_type": "stream",
     "text": [
      "148.41,  log(Z) = -2.44,   S = 145.97\n",
      " edges: "
     ]
    },
    {
     "name": "stdout",
     "output_type": "stream",
     "text": [
      "1434,   elements: 10195,   edge complexity: 31.45 %,  elements complexity: 0.51 %\n"
     ]
    },
    {
     "name": "stdout",
     "output_type": "stream",
     "text": [
      "\n",
      "iteration = 2140,   Score = 0.839\n",
      "\n",
      " <E> = "
     ]
    },
    {
     "name": "stdout",
     "output_type": "stream",
     "text": [
      "147.87,  log(Z) = -2.41,   S = 145.46\n",
      " edges: 1445,   elements: 10313,   edge complexity: 31.69 %,  elements complexity: 0.51 %\n"
     ]
    },
    {
     "name": "stdout",
     "output_type": "stream",
     "text": [
      "\n",
      "iteration = 2160,   Score = 0.838\n",
      "\n",
      " <E> = "
     ]
    },
    {
     "name": "stdout",
     "output_type": "stream",
     "text": [
      "147.76,  log(Z) = -2.33,   S = 145.42\n",
      " edges: 1456,   elements: 10450,   edge complexity: 31.93 %,  elements complexity: 0.52 %\n"
     ]
    },
    {
     "name": "stdout",
     "output_type": "stream",
     "text": [
      "\n",
      "iteration = 2180,   Score = 0.84\n",
      "\n",
      " <E> = "
     ]
    },
    {
     "name": "stdout",
     "output_type": "stream",
     "text": [
      "147.51,  log(Z) = -2.36,   S = 145.15\n",
      " edges: "
     ]
    },
    {
     "name": "stdout",
     "output_type": "stream",
     "text": [
      "1466,   elements: 10555,   edge complexity: 32.15 %,  elements complexity: 0.52 %\n"
     ]
    },
    {
     "name": "stdout",
     "output_type": "stream",
     "text": [
      "\n",
      "iteration = 2200,   Score = 0.841\n",
      "\n",
      " <E> = "
     ]
    },
    {
     "name": "stdout",
     "output_type": "stream",
     "text": [
      "146.99,  log(Z) = -2.37,   S = 144.62\n",
      " edges: 1477,   elements: 10684,   edge complexity: 32.39 %,  elements complexity: 0.53 %\n"
     ]
    },
    {
     "name": "stdout",
     "output_type": "stream",
     "text": [
      "\n",
      "iteration = 2220,   Score = 0.843\n",
      "\n",
      " <E> = "
     ]
    },
    {
     "name": "stdout",
     "output_type": "stream",
     "text": [
      "147.34,  log(Z) = -2.42,   S = 144.91\n",
      " edges: "
     ]
    },
    {
     "name": "stdout",
     "output_type": "stream",
     "text": [
      "1487,   elements: 10838,   edge complexity: 32.61 %,  elements complexity: 0.54 %\n"
     ]
    },
    {
     "name": "stdout",
     "output_type": "stream",
     "text": [
      "\n",
      "iteration = 2240,   Score = 0.844\n",
      "\n",
      " <E> = "
     ]
    },
    {
     "name": "stdout",
     "output_type": "stream",
     "text": [
      "146.94,  log(Z) = -2.44,   S = 144.5\n",
      " edges: "
     ]
    },
    {
     "name": "stdout",
     "output_type": "stream",
     "text": [
      "1496,   elements: 10966,   edge complexity: 32.81 %,  elements complexity: 0.55 %\n"
     ]
    },
    {
     "name": "stdout",
     "output_type": "stream",
     "text": [
      "\n",
      "iteration = 2260,   Score = 0.845\n",
      "\n",
      " <E> = "
     ]
    },
    {
     "name": "stdout",
     "output_type": "stream",
     "text": [
      "146.62,  log(Z) = -2.44,   S = 144.18\n",
      " edges: 1507,   elements: 11090,   edge complexity: 33.05 %,  elements complexity: 0.55 %\n"
     ]
    },
    {
     "name": "stdout",
     "output_type": "stream",
     "text": [
      "\n",
      "iteration = 2280,   Score = 0.845\n",
      "\n",
      " <E> = "
     ]
    },
    {
     "name": "stdout",
     "output_type": "stream",
     "text": [
      "146.58,  log(Z) = -2.41,   S = 144.17\n",
      " edges: 1518,   elements: 11213,   edge complexity: 33.29 %,  elements complexity: 0.56 %\n"
     ]
    },
    {
     "name": "stdout",
     "output_type": "stream",
     "text": [
      "\n",
      "iteration = 2300,   Score = 0.849\n",
      "\n",
      " <E> = "
     ]
    },
    {
     "name": "stdout",
     "output_type": "stream",
     "text": [
      "146.56,  log(Z) = -2.46,   S = 144.1\n",
      " edges: 1528,   elements: 11330,   edge complexity: 33.51 %,  elements complexity: 0.56 %\n"
     ]
    },
    {
     "name": "stdout",
     "output_type": "stream",
     "text": [
      "\n",
      "iteration = 2320,   Score = 0.848\n",
      "\n",
      " <E> = "
     ]
    },
    {
     "name": "stdout",
     "output_type": "stream",
     "text": [
      "146.13,  log(Z) = -2.45,   S = 143.68\n",
      " edges: 1538,   elements: 11467,   edge complexity: 33.73 %,  elements complexity: 0.57 %\n"
     ]
    },
    {
     "name": "stdout",
     "output_type": "stream",
     "text": [
      "\n",
      "iteration = 2340,   Score = 0.85\n",
      "\n",
      " <E> = "
     ]
    },
    {
     "name": "stdout",
     "output_type": "stream",
     "text": [
      "145.65,  log(Z) = -2.39,   S = 143.25\n",
      " edges: 1547,   elements: 11596,   edge complexity: 33.93 %,  elements complexity: 0.58 %\n"
     ]
    },
    {
     "name": "stdout",
     "output_type": "stream",
     "text": [
      "\n",
      "iteration = 2360,   Score = 0.851\n",
      "\n",
      " <E> = "
     ]
    },
    {
     "name": "stdout",
     "output_type": "stream",
     "text": [
      "145.3,  log(Z) = -2.35,   S = 142.95\n",
      " edges: 1555,   elements: 11702,   edge complexity: 34.1 %,  elements complexity: 0.58 %\n"
     ]
    },
    {
     "name": "stdout",
     "output_type": "stream",
     "text": [
      "\n",
      "iteration = 2380,   Score = 0.848\n",
      "\n",
      " <E> = "
     ]
    },
    {
     "name": "stdout",
     "output_type": "stream",
     "text": [
      "145.32,  log(Z) = -2.25,   S = 143.08\n",
      " edges: 1567,   elements: 11828,   edge complexity: 34.36 %,  elements complexity: 0.59 %\n"
     ]
    },
    {
     "name": "stdout",
     "output_type": "stream",
     "text": [
      "\n",
      "iteration = 2400,   Score = 0.852\n",
      "\n",
      " <E> = "
     ]
    },
    {
     "name": "stdout",
     "output_type": "stream",
     "text": [
      "145.53,  log(Z) = -2.26,   S = 143.26\n",
      " edges: 1578,   elements: 11965,   edge complexity: 34.61 %,  elements complexity: 0.59 %\n"
     ]
    },
    {
     "name": "stdout",
     "output_type": "stream",
     "text": [
      "\n",
      "iteration = 2420,   Score = 0.853\n",
      "\n",
      " <E> = "
     ]
    },
    {
     "name": "stdout",
     "output_type": "stream",
     "text": [
      "145.21,  log(Z) = -2.23,   S = 142.98\n",
      " edges: "
     ]
    },
    {
     "name": "stdout",
     "output_type": "stream",
     "text": [
      "1586,   elements: 12103,   edge complexity: 34.78 %,  elements complexity: 0.6 %\n"
     ]
    },
    {
     "name": "stdout",
     "output_type": "stream",
     "text": [
      "\n",
      "iteration = 2440,   Score = 0.852\n",
      "\n",
      " <E> = "
     ]
    },
    {
     "name": "stdout",
     "output_type": "stream",
     "text": [
      "144.73,  log(Z) = -2.13,   S = 142.6\n",
      " edges: "
     ]
    },
    {
     "name": "stdout",
     "output_type": "stream",
     "text": [
      "1594,   elements: 12230,   edge complexity: 34.96 %,  elements complexity: 0.61 %\n"
     ]
    },
    {
     "name": "stdout",
     "output_type": "stream",
     "text": [
      "\n",
      "iteration = 2460,   Score = 0.853\n",
      "\n",
      " <E> = "
     ]
    },
    {
     "name": "stdout",
     "output_type": "stream",
     "text": [
      "144.7,  log(Z) = -2.1,   S = 142.6\n",
      " edges: 1603,   elements: 12369,   edge complexity: 35.15 %,  elements complexity: 0.62 %\n"
     ]
    },
    {
     "name": "stdout",
     "output_type": "stream",
     "text": [
      "\n",
      "iteration = 2480,   Score = 0.854\n",
      "\n",
      " <E> = "
     ]
    },
    {
     "name": "stdout",
     "output_type": "stream",
     "text": [
      "144.35,  log(Z) = -2.06,   S = 142.29\n",
      " edges: 1612,   elements: 12513,   edge complexity: 35.35 %,  elements complexity: 0.62 %\n"
     ]
    },
    {
     "name": "stdout",
     "output_type": "stream",
     "text": [
      "\n",
      "iteration = 2500,   Score = 0.856\n",
      "\n",
      " <E> = "
     ]
    },
    {
     "name": "stdout",
     "output_type": "stream",
     "text": [
      "144.15,  log(Z) = -1.97,   S = 142.19\n",
      " edges: 1621,   elements: 12615,   edge complexity: 35.55 %,  elements complexity: 0.63 %\n"
     ]
    },
    {
     "name": "stdout",
     "output_type": "stream",
     "text": [
      "\n",
      "iteration = 2520,   Score = 0.856\n",
      "\n",
      " <E> = "
     ]
    },
    {
     "name": "stdout",
     "output_type": "stream",
     "text": [
      "143.83,  log(Z) = -1.97,   S = 141.86\n",
      " edges: 1630,   elements: 12759,   edge complexity: 35.75 %,  elements complexity: 0.63 %\n"
     ]
    },
    {
     "name": "stdout",
     "output_type": "stream",
     "text": [
      "\n",
      "iteration = 2540,   Score = 0.856\n",
      "\n",
      " <E> = "
     ]
    },
    {
     "name": "stdout",
     "output_type": "stream",
     "text": [
      "143.42,  log(Z) = -1.96,   S = 141.45\n",
      " edges: 1636,   elements: 12899,   edge complexity: 35.88 %,  elements complexity: 0.64 %\n"
     ]
    },
    {
     "name": "stdout",
     "output_type": "stream",
     "text": [
      "\n",
      "iteration = 2560,   Score = 0.856\n",
      "\n",
      " <E> = "
     ]
    },
    {
     "name": "stdout",
     "output_type": "stream",
     "text": [
      "143.43,  log(Z) = -2.01,   S = 141.42\n",
      " edges: 1646,   elements: 13032,   edge complexity: 36.1 %,  elements complexity: 0.65 %\n"
     ]
    },
    {
     "name": "stdout",
     "output_type": "stream",
     "text": [
      "\n",
      "iteration = 2580,   Score = 0.856\n",
      "\n",
      " <E> = "
     ]
    },
    {
     "name": "stdout",
     "output_type": "stream",
     "text": [
      "143.17,  log(Z) = -2.01,   S = 141.16\n",
      " edges: 1656,   elements: 13163,   edge complexity: 36.32 %,  elements complexity: 0.65 %\n"
     ]
    },
    {
     "name": "stdout",
     "output_type": "stream",
     "text": [
      "\n",
      "iteration = 2600,   Score = 0.857\n",
      "\n",
      " <E> = "
     ]
    },
    {
     "name": "stdout",
     "output_type": "stream",
     "text": [
      "142.7,  log(Z) = -1.96,   S = 140.74\n",
      " edges: 1668,   elements: 13293,   edge complexity: 36.58 %,  elements complexity: 0.66 %\n"
     ]
    },
    {
     "name": "stdout",
     "output_type": "stream",
     "text": [
      "\n",
      "iteration = 2620,   Score = 0.86\n",
      "\n",
      " <E> = "
     ]
    },
    {
     "name": "stdout",
     "output_type": "stream",
     "text": [
      "142.66,  log(Z) = -1.99,   S = 140.67\n",
      " edges: 1679,   elements: 13405,   edge complexity: 36.82 %,  elements complexity: 0.67 %\n"
     ]
    },
    {
     "name": "stdout",
     "output_type": "stream",
     "text": [
      "\n",
      "iteration = 2640,   Score = 0.861\n",
      "\n",
      " <E> = "
     ]
    },
    {
     "name": "stdout",
     "output_type": "stream",
     "text": [
      "142.37,  log(Z) = -1.98,   S = 140.39\n",
      " edges: 1688,   elements: 13529,   edge complexity: 37.02 %,  elements complexity: 0.67 %\n"
     ]
    },
    {
     "name": "stdout",
     "output_type": "stream",
     "text": [
      "\n",
      "iteration = 2660,   Score = 0.861\n",
      "\n",
      " <E> = "
     ]
    },
    {
     "name": "stdout",
     "output_type": "stream",
     "text": [
      "142.39,  log(Z) = -1.96,   S = 140.44\n",
      " edges: 1695,   elements: 13676,   edge complexity: 37.17 %,  elements complexity: 0.68 %\n"
     ]
    },
    {
     "name": "stdout",
     "output_type": "stream",
     "text": [
      "\n",
      "iteration = 2680,   Score = 0.863\n",
      "\n",
      " <E> = "
     ]
    },
    {
     "name": "stdout",
     "output_type": "stream",
     "text": [
      "142.07,  log(Z) = -1.94,   S = 140.13\n",
      " edges: 1707,   elements: 13808,   edge complexity: 37.43 %,  elements complexity: 0.69 %\n"
     ]
    },
    {
     "name": "stdout",
     "output_type": "stream",
     "text": [
      "\n",
      "iteration = 2700,   Score = 0.862\n",
      "\n",
      " <E> = "
     ]
    },
    {
     "name": "stdout",
     "output_type": "stream",
     "text": [
      "141.46,  log(Z) = -1.94,   S = 139.52\n",
      " edges: 1714,   elements: 13944,   edge complexity: 37.59 %,  elements complexity: 0.69 %\n"
     ]
    },
    {
     "name": "stdout",
     "output_type": "stream",
     "text": [
      "\n",
      "iteration = 2720,   Score = 0.863\n",
      "\n",
      " <E> = "
     ]
    },
    {
     "name": "stdout",
     "output_type": "stream",
     "text": [
      "141.41,  log(Z) = -1.91,   S = 139.49\n",
      " edges: 1724,   elements: 14081,   edge complexity: 37.81 %,  elements complexity: 0.7 %\n"
     ]
    },
    {
     "name": "stdout",
     "output_type": "stream",
     "text": [
      "\n",
      "iteration = 2740,   Score = 0.863\n",
      "\n",
      " <E> = "
     ]
    },
    {
     "name": "stdout",
     "output_type": "stream",
     "text": [
      "141.07,  log(Z) = -1.82,   S = 139.24\n",
      " edges: 1732,   elements: 14218,   edge complexity: 37.98 %,  elements complexity: 0.71 %\n"
     ]
    },
    {
     "name": "stdout",
     "output_type": "stream",
     "text": [
      "\n",
      "iteration = 2760,   Score = 0.865\n",
      "\n",
      " <E> = "
     ]
    },
    {
     "name": "stdout",
     "output_type": "stream",
     "text": [
      "141.39,  log(Z) = -1.84,   S = 139.55\n",
      " edges: 1744,   elements: 14367,   edge complexity: 38.25 %,  elements complexity: 0.71 %\n"
     ]
    },
    {
     "name": "stdout",
     "output_type": "stream",
     "text": [
      "\n",
      "iteration = 2780,   Score = 0.864\n",
      "\n",
      " <E> = "
     ]
    },
    {
     "name": "stdout",
     "output_type": "stream",
     "text": [
      "141.5,  log(Z) = -1.71,   S = 139.79\n",
      " edges: 1751,   elements: 14482,   edge complexity: 38.4 %,  elements complexity: 0.72 %\n"
     ]
    },
    {
     "name": "stdout",
     "output_type": "stream",
     "text": [
      "\n",
      "iteration = 2800,   Score = 0.865\n",
      "\n",
      " <E> = "
     ]
    },
    {
     "name": "stdout",
     "output_type": "stream",
     "text": [
      "141.24,  log(Z) = -1.67,   S = 139.57\n",
      " edges: 1761,   elements: 14600,   edge complexity: 38.62 %,  elements complexity: 0.73 %\n"
     ]
    },
    {
     "name": "stdout",
     "output_type": "stream",
     "text": [
      "\n",
      "iteration = 2820,   Score = 0.866\n",
      "\n",
      " <E> = "
     ]
    },
    {
     "name": "stdout",
     "output_type": "stream",
     "text": [
      "140.79,  log(Z) = -1.57,   S = 139.21\n",
      " edges: 1773,   elements: 14722,   edge complexity: 38.88 %,  elements complexity: 0.73 %\n"
     ]
    },
    {
     "name": "stdout",
     "output_type": "stream",
     "text": [
      "\n",
      "iteration = 2840,   Score = 0.866\n",
      "\n",
      " <E> = "
     ]
    },
    {
     "name": "stdout",
     "output_type": "stream",
     "text": [
      "140.23,  log(Z) = -1.53,   S = 138.7\n",
      " edges: 1783,   elements: 14855,   edge complexity: 39.1 %,  elements complexity: 0.74 %\n"
     ]
    },
    {
     "name": "stdout",
     "output_type": "stream",
     "text": [
      "\n",
      "iteration = 2860,   Score = 0.867\n",
      "\n",
      " <E> = "
     ]
    },
    {
     "name": "stdout",
     "output_type": "stream",
     "text": [
      "140.22,  log(Z) = -1.6,   S = 138.63\n",
      " edges: 1788,   elements: 14991,   edge complexity: 39.21 %,  elements complexity: 0.75 %\n"
     ]
    },
    {
     "name": "stdout",
     "output_type": "stream",
     "text": [
      "\n",
      "iteration = 2880,   Score = 0.868\n",
      "\n",
      " <E> = "
     ]
    },
    {
     "name": "stdout",
     "output_type": "stream",
     "text": [
      "140.13,  log(Z) = -1.58,   S = 138.55\n",
      " edges: 1798,   elements: 15126,   edge complexity: 39.43 %,  elements complexity: 0.75 %\n"
     ]
    },
    {
     "name": "stdout",
     "output_type": "stream",
     "text": [
      "\n",
      "iteration = 2900,   Score = 0.868\n",
      "\n",
      " <E> = "
     ]
    },
    {
     "name": "stdout",
     "output_type": "stream",
     "text": [
      "140.31,  log(Z) = -1.54,   S = 138.77\n",
      " edges: 1808,   elements: 15236,   edge complexity: 39.65 %,  elements complexity: 0.76 %\n"
     ]
    },
    {
     "name": "stdout",
     "output_type": "stream",
     "text": [
      "\n",
      "iteration = 2920,   Score = 0.869\n",
      "\n",
      " <E> = "
     ]
    },
    {
     "name": "stdout",
     "output_type": "stream",
     "text": [
      "140.29,  log(Z) = -1.45,   S = 138.84\n",
      " edges: 1820,   elements: 15367,   edge complexity: 39.91 %,  elements complexity: 0.76 %\n"
     ]
    },
    {
     "name": "stdout",
     "output_type": "stream",
     "text": [
      "\n",
      "iteration = 2940,   Score = 0.87\n",
      "\n",
      " <E> = "
     ]
    },
    {
     "name": "stdout",
     "output_type": "stream",
     "text": [
      "139.92,  log(Z) = -1.4,   S = 138.51\n",
      " edges: "
     ]
    },
    {
     "name": "stdout",
     "output_type": "stream",
     "text": [
      "1828,   elements: 15486,   edge complexity: 40.09 %,  elements complexity: 0.77 %\n"
     ]
    },
    {
     "name": "stdout",
     "output_type": "stream",
     "text": [
      "\n",
      "iteration = 2960,   Score = 0.869\n",
      "\n",
      " <E> = "
     ]
    },
    {
     "name": "stdout",
     "output_type": "stream",
     "text": [
      "139.37,  log(Z) = -1.43,   S = 137.95\n",
      " edges: 1836,   elements: 15626,   edge complexity: 40.26 %,  elements complexity: 0.78 %\n"
     ]
    },
    {
     "name": "stdout",
     "output_type": "stream",
     "text": [
      "\n",
      "iteration = 2980,   Score = 0.87\n",
      "\n",
      " <E> = "
     ]
    },
    {
     "name": "stdout",
     "output_type": "stream",
     "text": [
      "139.33,  log(Z) = -1.45,   S = 137.89\n",
      " edges: 1844,   elements: 15758,   edge complexity: 40.44 %,  elements complexity: 0.78 %\n"
     ]
    },
    {
     "name": "stdout",
     "output_type": "stream",
     "text": [
      "\n",
      "iteration = 3000,   Score = 0.871\n",
      "\n",
      " <E> = "
     ]
    },
    {
     "name": "stdout",
     "output_type": "stream",
     "text": [
      "139.2,  log(Z) = -1.38,   S = 137.82\n",
      " edges: 1851,   elements: 15882,   edge complexity: 40.59 %,  elements complexity: 0.79 %\n"
     ]
    },
    {
     "name": "stdout",
     "output_type": "stream",
     "text": [
      "\n",
      "iteration = 3020,   Score = 0.872\n",
      "\n",
      " <E> = "
     ]
    },
    {
     "name": "stdout",
     "output_type": "stream",
     "text": [
      "138.78,  log(Z) = -1.34,   S = 137.44\n",
      " edges: 1856,   elements: 16000,   edge complexity: 40.7 %,  elements complexity: 0.8 %\n"
     ]
    },
    {
     "name": "stdout",
     "output_type": "stream",
     "text": [
      "\n",
      "iteration = 3040,   Score = 0.873\n",
      "\n",
      " <E> = "
     ]
    },
    {
     "name": "stdout",
     "output_type": "stream",
     "text": [
      "138.69,  log(Z) = -1.26,   S = 137.43\n",
      " edges: 1861,   elements: 16119,   edge complexity: 40.81 %,  elements complexity: 0.8 %\n"
     ]
    },
    {
     "name": "stdout",
     "output_type": "stream",
     "text": [
      "\n",
      "iteration = 3060,   Score = 0.873\n",
      "\n",
      " <E> = "
     ]
    },
    {
     "name": "stdout",
     "output_type": "stream",
     "text": [
      "138.79,  log(Z) = -1.25,   S = 137.54\n",
      " edges: 1871,   elements: 16257,   edge complexity: 41.03 %,  elements complexity: 0.81 %\n"
     ]
    },
    {
     "name": "stdout",
     "output_type": "stream",
     "text": [
      "\n",
      "iteration = 3080,   Score = 0.872\n",
      "\n",
      " <E> = "
     ]
    },
    {
     "name": "stdout",
     "output_type": "stream",
     "text": [
      "138.37,  log(Z) = -1.24,   S = 137.13\n",
      " edges: 1879,   elements: 16397,   edge complexity: 41.21 %,  elements complexity: 0.82 %\n"
     ]
    },
    {
     "name": "stdout",
     "output_type": "stream",
     "text": [
      "\n",
      "iteration = 3100,   Score = 0.874\n",
      "\n",
      " <E> = "
     ]
    },
    {
     "name": "stdout",
     "output_type": "stream",
     "text": [
      "138.23,  log(Z) = -1.21,   S = 137.02\n",
      " edges: 1886,   elements: 16535,   edge complexity: 41.36 %,  elements complexity: 0.82 %\n"
     ]
    },
    {
     "name": "stdout",
     "output_type": "stream",
     "text": [
      "\n",
      "iteration = 3120,   Score = 0.874\n",
      "\n",
      " <E> = "
     ]
    },
    {
     "name": "stdout",
     "output_type": "stream",
     "text": [
      "137.83,  log(Z) = -1.19,   S = 136.64\n",
      " edges: 1895,   elements: 16679,   edge complexity: 41.56 %,  elements complexity: 0.83 %\n"
     ]
    },
    {
     "name": "stdout",
     "output_type": "stream",
     "text": [
      "\n",
      "iteration = 3140,   Score = 0.873\n",
      "\n",
      " <E> = "
     ]
    },
    {
     "name": "stdout",
     "output_type": "stream",
     "text": [
      "137.7,  log(Z) = -1.16,   S = 136.54\n",
      " edges: 1900,   elements: 16780,   edge complexity: 41.67 %,  elements complexity: 0.83 %\n"
     ]
    },
    {
     "name": "stdout",
     "output_type": "stream",
     "text": [
      "\n",
      "iteration = 3160,   Score = 0.876\n",
      "\n",
      " <E> = "
     ]
    },
    {
     "name": "stdout",
     "output_type": "stream",
     "text": [
      "137.59,  log(Z) = -1.13,   S = 136.45\n",
      " edges: 1909,   elements: 16898,   edge complexity: 41.86 %,  elements complexity: 0.84 %\n"
     ]
    },
    {
     "name": "stdout",
     "output_type": "stream",
     "text": [
      "\n",
      "iteration = 3180,   Score = 0.877\n",
      "\n",
      " <E> = "
     ]
    },
    {
     "name": "stdout",
     "output_type": "stream",
     "text": [
      "137.12,  log(Z) = -1.12,   S = 135.99\n",
      " edges: 1916,   elements: 17041,   edge complexity: 42.02 %,  elements complexity: 0.85 %\n"
     ]
    },
    {
     "name": "stdout",
     "output_type": "stream",
     "text": [
      "\n",
      "iteration = 3200,   Score = 0.877\n",
      "\n",
      " <E> = "
     ]
    },
    {
     "name": "stdout",
     "output_type": "stream",
     "text": [
      "137.32,  log(Z) = -1.08,   S = 136.24\n",
      " edges: 1928,   elements: 17158,   edge complexity: 42.28 %,  elements complexity: 0.85 %\n"
     ]
    },
    {
     "name": "stdout",
     "output_type": "stream",
     "text": [
      "\n",
      "iteration = 3220,   Score = 0.877\n",
      "\n",
      " <E> = "
     ]
    },
    {
     "name": "stdout",
     "output_type": "stream",
     "text": [
      "136.61,  log(Z) = -1.07,   S = 135.55\n",
      " edges: 1934,   elements: 17287,   edge complexity: 42.41 %,  elements complexity: 0.86 %\n"
     ]
    },
    {
     "name": "stdout",
     "output_type": "stream",
     "text": [
      "\n",
      "iteration = 3240,   Score = 0.875\n",
      "\n",
      " <E> = "
     ]
    },
    {
     "name": "stdout",
     "output_type": "stream",
     "text": [
      "136.99,  log(Z) = -1.06,   S = 135.92\n",
      " edges: 1944,   elements: 17413,   edge complexity: 42.63 %,  elements complexity: 0.87 %\n"
     ]
    },
    {
     "name": "stdout",
     "output_type": "stream",
     "text": [
      "\n",
      "iteration = 3260,   Score = 0.877\n",
      "\n",
      " <E> = "
     ]
    },
    {
     "name": "stdout",
     "output_type": "stream",
     "text": [
      "136.68,  log(Z) = -1.05,   S = 135.62\n",
      " edges: 1953,   elements: 17522,   edge complexity: 42.83 %,  elements complexity: 0.87 %\n"
     ]
    },
    {
     "name": "stdout",
     "output_type": "stream",
     "text": [
      "\n",
      "iteration = 3280,   Score = 0.878\n",
      "\n",
      " <E> = "
     ]
    },
    {
     "name": "stdout",
     "output_type": "stream",
     "text": [
      "136.6,  log(Z) = -1.08,   S = 135.52\n",
      " edges: "
     ]
    },
    {
     "name": "stdout",
     "output_type": "stream",
     "text": [
      "1961,   elements: 17659,   edge complexity: 43.0 %,  elements complexity: 0.88 %\n"
     ]
    },
    {
     "name": "stdout",
     "output_type": "stream",
     "text": [
      "\n",
      "iteration = 3300,   Score = 0.877\n",
      "\n",
      " <E> = "
     ]
    },
    {
     "name": "stdout",
     "output_type": "stream",
     "text": [
      "136.65,  log(Z) = -1.05,   S = 135.6\n",
      " edges: 1963,   elements: 17780,   edge complexity: 43.05 %,  elements complexity: 0.88 %\n"
     ]
    },
    {
     "name": "stdout",
     "output_type": "stream",
     "text": [
      "\n",
      "iteration = 3320,   Score = 0.878\n",
      "\n",
      " <E> = "
     ]
    },
    {
     "name": "stdout",
     "output_type": "stream",
     "text": [
      "136.54,  log(Z) = -1.05,   S = 135.48\n",
      " edges: 1973,   elements: 17909,   edge complexity: 43.27 %,  elements complexity: 0.89 %\n"
     ]
    },
    {
     "name": "stdout",
     "output_type": "stream",
     "text": [
      "\n",
      "iteration = 3340,   Score = 0.878\n",
      "\n",
      " <E> = "
     ]
    },
    {
     "name": "stdout",
     "output_type": "stream",
     "text": [
      "136.62,  log(Z) = -1.08,   S = 135.54\n",
      " edges: "
     ]
    },
    {
     "name": "stdout",
     "output_type": "stream",
     "text": [
      "1980,   elements: 18028,   edge complexity: 43.42 %,  elements complexity: 0.9 %\n"
     ]
    },
    {
     "name": "stdout",
     "output_type": "stream",
     "text": [
      "\n",
      "iteration = 3360,   Score = 0.879\n",
      "\n",
      " <E> = "
     ]
    },
    {
     "name": "stdout",
     "output_type": "stream",
     "text": [
      "136.59,  log(Z) = -1.04,   S = 135.56\n",
      " edges: 1987,   elements: 18169,   edge complexity: 43.57 %,  elements complexity: 0.9 %\n"
     ]
    },
    {
     "name": "stdout",
     "output_type": "stream",
     "text": [
      "\n",
      "iteration = 3380,   Score = 0.88\n",
      "\n",
      " <E> = "
     ]
    },
    {
     "name": "stdout",
     "output_type": "stream",
     "text": [
      "136.09,  log(Z) = -0.93,   S = 135.16\n",
      " edges: 1999,   elements: 18302,   edge complexity: 43.84 %,  elements complexity: 0.91 %\n"
     ]
    },
    {
     "name": "stdout",
     "output_type": "stream",
     "text": [
      "\n",
      "iteration = 3400,   Score = 0.88\n",
      "\n",
      " <E> = "
     ]
    },
    {
     "name": "stdout",
     "output_type": "stream",
     "text": [
      "136.26,  log(Z) = -0.92,   S = 135.33\n",
      " edges: 2004,   elements: 18408,   edge complexity: 43.95 %,  elements complexity: 0.92 %\n"
     ]
    },
    {
     "name": "stdout",
     "output_type": "stream",
     "text": [
      "\n",
      "iteration = 3420,   Score = 0.88\n",
      "\n",
      " <E> = "
     ]
    },
    {
     "name": "stdout",
     "output_type": "stream",
     "text": [
      "136.18,  log(Z) = -0.92,   S = 135.27\n",
      " edges: 2014,   elements: 18526,   edge complexity: 44.17 %,  elements complexity: 0.92 %\n"
     ]
    },
    {
     "name": "stdout",
     "output_type": "stream",
     "text": [
      "\n",
      "iteration = 3440,   Score = 0.88\n",
      "\n",
      " <E> = "
     ]
    },
    {
     "name": "stdout",
     "output_type": "stream",
     "text": [
      "135.84,  log(Z) = -0.86,   S = 134.97\n",
      " edges: 2026,   elements: 18665,   edge complexity: 44.43 %,  elements complexity: 0.93 %\n"
     ]
    },
    {
     "name": "stdout",
     "output_type": "stream",
     "text": [
      "\n",
      "iteration = 3460,   Score = 0.881\n",
      "\n",
      " <E> = "
     ]
    },
    {
     "name": "stdout",
     "output_type": "stream",
     "text": [
      "135.44,  log(Z) = -0.8,   S = 134.64\n",
      " edges: 2032,   elements: 18790,   edge complexity: 44.56 %,  elements complexity: 0.93 %\n"
     ]
    },
    {
     "name": "stdout",
     "output_type": "stream",
     "text": [
      "\n",
      "iteration = 3480,   Score = 0.881\n",
      "\n",
      " <E> = "
     ]
    },
    {
     "name": "stdout",
     "output_type": "stream",
     "text": [
      "135.03,  log(Z) = -0.81,   S = 134.22\n",
      " edges: 2038,   elements: 18926,   edge complexity: 44.69 %,  elements complexity: 0.94 %\n"
     ]
    },
    {
     "name": "stdout",
     "output_type": "stream",
     "text": [
      "\n",
      "iteration = 3500,   Score = 0.883\n",
      "\n",
      " <E> = "
     ]
    },
    {
     "name": "stdout",
     "output_type": "stream",
     "text": [
      "135.46,  log(Z) = -0.77,   S = 134.69\n",
      " edges: 2047,   elements: 19057,   edge complexity: 44.89 %,  elements complexity: 0.95 %\n"
     ]
    },
    {
     "name": "stdout",
     "output_type": "stream",
     "text": [
      "\n",
      "iteration = 3520,   Score = 0.883\n",
      "\n",
      " <E> = "
     ]
    },
    {
     "name": "stdout",
     "output_type": "stream",
     "text": [
      "135.3,  log(Z) = -0.74,   S = 134.56\n",
      " edges: 2051,   elements: 19171,   edge complexity: 44.98 %,  elements complexity: 0.95 %\n"
     ]
    },
    {
     "name": "stdout",
     "output_type": "stream",
     "text": [
      "\n",
      "iteration = 3540,   Score = 0.885\n",
      "\n",
      " <E> = "
     ]
    },
    {
     "name": "stdout",
     "output_type": "stream",
     "text": [
      "134.45,  log(Z) = -0.73,   S = 133.72\n",
      " edges: 2061,   elements: 19313,   edge complexity: 45.2 %,  elements complexity: 0.96 %\n"
     ]
    },
    {
     "name": "stdout",
     "output_type": "stream",
     "text": [
      "\n",
      "iteration = 3560,   Score = 0.886\n",
      "\n",
      " <E> = "
     ]
    },
    {
     "name": "stdout",
     "output_type": "stream",
     "text": [
      "134.49,  log(Z) = -0.7,   S = 133.79\n",
      " edges: 2068,   elements: 19447,   edge complexity: 45.35 %,  elements complexity: 0.97 %\n"
     ]
    },
    {
     "name": "stdout",
     "output_type": "stream",
     "text": [
      "\n",
      "iteration = 3580,   Score = 0.884\n",
      "\n",
      " <E> = "
     ]
    },
    {
     "name": "stdout",
     "output_type": "stream",
     "text": [
      "134.17,  log(Z) = -0.67,   S = 133.5\n",
      " edges: "
     ]
    },
    {
     "name": "stdout",
     "output_type": "stream",
     "text": [
      "2077,   elements: 19581,   edge complexity: 45.55 %,  elements complexity: 0.97 %\n"
     ]
    },
    {
     "name": "stdout",
     "output_type": "stream",
     "text": [
      "\n",
      "iteration = 3600,   Score = 0.885\n",
      "\n",
      " <E> = "
     ]
    },
    {
     "name": "stdout",
     "output_type": "stream",
     "text": [
      "134.06,  log(Z) = -0.68,   S = 133.38\n",
      " edges: "
     ]
    },
    {
     "name": "stdout",
     "output_type": "stream",
     "text": [
      "2083,   elements: 19740,   edge complexity: 45.68 %,  elements complexity: 0.98 %\n"
     ]
    },
    {
     "name": "stdout",
     "output_type": "stream",
     "text": [
      "\n",
      "iteration = 3620,   Score = 0.886\n",
      "\n",
      " <E> = "
     ]
    },
    {
     "name": "stdout",
     "output_type": "stream",
     "text": [
      "134.26,  log(Z) = -0.66,   S = 133.6\n",
      " edges: 2090,   elements: 19892,   edge complexity: 45.83 %,  elements complexity: 0.99 %\n"
     ]
    },
    {
     "name": "stdout",
     "output_type": "stream",
     "text": [
      "\n",
      "iteration = 3640,   Score = 0.885\n",
      "\n",
      " <E> = "
     ]
    },
    {
     "name": "stdout",
     "output_type": "stream",
     "text": [
      "134.09,  log(Z) = -0.63,   S = 133.46\n",
      " edges: 2101,   elements: 20011,   edge complexity: 46.07 %,  elements complexity: 1.0 %\n"
     ]
    },
    {
     "name": "stdout",
     "output_type": "stream",
     "text": [
      "\n",
      "iteration = 3660,   Score = 0.887\n",
      "\n",
      " <E> = "
     ]
    },
    {
     "name": "stdout",
     "output_type": "stream",
     "text": [
      "134.46,  log(Z) = -0.56,   S = 133.9\n",
      " edges: 2109,   elements: 20140,   edge complexity: 46.25 %,  elements complexity: 1.0 %\n"
     ]
    },
    {
     "name": "stdout",
     "output_type": "stream",
     "text": [
      "\n",
      "iteration = 3680,   Score = 0.885\n",
      "\n",
      " <E> = "
     ]
    },
    {
     "name": "stdout",
     "output_type": "stream",
     "text": [
      "133.76,  log(Z) = -0.48,   S = 133.28\n",
      " edges: 2116,   elements: 20264,   edge complexity: 46.4 %,  elements complexity: 1.01 %\n"
     ]
    },
    {
     "name": "stdout",
     "output_type": "stream",
     "text": [
      "\n",
      "iteration = 3700,   Score = 0.885\n",
      "\n",
      " <E> = "
     ]
    },
    {
     "name": "stdout",
     "output_type": "stream",
     "text": [
      "133.91,  log(Z) = -0.44,   S = 133.47\n",
      " edges: 2123,   elements: 20414,   edge complexity: 46.56 %,  elements complexity: 1.02 %\n"
     ]
    },
    {
     "name": "stdout",
     "output_type": "stream",
     "text": [
      "\n",
      "iteration = 3720,   Score = 0.887\n",
      "\n",
      " <E> = "
     ]
    },
    {
     "name": "stdout",
     "output_type": "stream",
     "text": [
      "133.28,  log(Z) = -0.32,   S = 132.96\n",
      " edges: 2131,   elements: 20530,   edge complexity: 46.73 %,  elements complexity: 1.02 %\n"
     ]
    },
    {
     "name": "stdout",
     "output_type": "stream",
     "text": [
      "\n",
      "iteration = 3740,   Score = 0.888\n",
      "\n",
      " <E> = "
     ]
    },
    {
     "name": "stdout",
     "output_type": "stream",
     "text": [
      "132.92,  log(Z) = -0.28,   S = 132.64\n",
      " edges: "
     ]
    },
    {
     "name": "stdout",
     "output_type": "stream",
     "text": [
      "2139,   elements: 20672,   edge complexity: 46.91 %,  elements complexity: 1.03 %\n"
     ]
    },
    {
     "name": "stdout",
     "output_type": "stream",
     "text": [
      "\n",
      "iteration = 3760,   Score = 0.888\n",
      "\n",
      " <E> = "
     ]
    },
    {
     "name": "stdout",
     "output_type": "stream",
     "text": [
      "132.21,  log(Z) = -0.23,   S = 131.98\n",
      " edges: 2145,   elements: 20795,   edge complexity: 47.04 %,  elements complexity: 1.03 %\n"
     ]
    },
    {
     "name": "stdout",
     "output_type": "stream",
     "text": [
      "\n",
      "iteration = 3780,   Score = 0.889\n",
      "\n",
      " <E> = "
     ]
    },
    {
     "name": "stdout",
     "output_type": "stream",
     "text": [
      "132.62,  log(Z) = -0.26,   S = 132.36\n",
      " edges: 2153,   elements: 20905,   edge complexity: 47.21 %,  elements complexity: 1.04 %\n"
     ]
    },
    {
     "name": "stdout",
     "output_type": "stream",
     "text": [
      "\n",
      "iteration = 3800,   Score = 0.889\n",
      "\n",
      " <E> = "
     ]
    },
    {
     "name": "stdout",
     "output_type": "stream",
     "text": [
      "132.42,  log(Z) = -0.24,   S = 132.18\n",
      " edges: 2162,   elements: 21051,   edge complexity: 47.41 %,  elements complexity: 1.05 %\n"
     ]
    },
    {
     "name": "stdout",
     "output_type": "stream",
     "text": [
      "\n",
      "iteration = 3820,   Score = 0.888\n",
      "\n",
      " <E> = "
     ]
    },
    {
     "name": "stdout",
     "output_type": "stream",
     "text": [
      "133.02,  log(Z) = -0.18,   S = 132.84\n",
      " edges: 2170,   elements: 21180,   edge complexity: 47.59 %,  elements complexity: 1.05 %\n"
     ]
    },
    {
     "name": "stdout",
     "output_type": "stream",
     "text": [
      "\n",
      "iteration = 3840,   Score = 0.889\n",
      "\n",
      " <E> = "
     ]
    },
    {
     "name": "stdout",
     "output_type": "stream",
     "text": [
      "132.07,  log(Z) = -0.12,   S = 131.95\n",
      " edges: 2177,   elements: 21295,   edge complexity: 47.74 %,  elements complexity: 1.06 %\n"
     ]
    },
    {
     "name": "stdout",
     "output_type": "stream",
     "text": [
      "\n",
      "iteration = 3860,   Score = 0.89\n",
      "\n",
      " <E> = "
     ]
    },
    {
     "name": "stdout",
     "output_type": "stream",
     "text": [
      "132.28,  log(Z) = -0.09,   S = 132.18\n",
      " edges: 2184,   elements: 21421,   edge complexity: 47.89 %,  elements complexity: 1.07 %\n"
     ]
    },
    {
     "name": "stdout",
     "output_type": "stream",
     "text": [
      "\n",
      "iteration = 3880,   Score = 0.89\n",
      "\n",
      " <E> = "
     ]
    },
    {
     "name": "stdout",
     "output_type": "stream",
     "text": [
      "131.78,  log(Z) = -0.06,   S = 131.73\n",
      " edges: 2191,   elements: 21542,   edge complexity: 48.05 %,  elements complexity: 1.07 %\n"
     ]
    },
    {
     "name": "stdout",
     "output_type": "stream",
     "text": [
      "\n",
      "iteration = 3900,   Score = 0.891\n",
      "\n",
      " <E> = "
     ]
    },
    {
     "name": "stdout",
     "output_type": "stream",
     "text": [
      "131.52,  log(Z) = -0.02,   S = 131.5\n",
      " edges: "
     ]
    },
    {
     "name": "stdout",
     "output_type": "stream",
     "text": [
      "2198,   elements: 21677,   edge complexity: 48.2 %,  elements complexity: 1.08 %\n"
     ]
    },
    {
     "name": "stdout",
     "output_type": "stream",
     "text": [
      "\n",
      "iteration = 3920,   Score = 0.892\n",
      "\n",
      " <E> = "
     ]
    },
    {
     "name": "stdout",
     "output_type": "stream",
     "text": [
      "131.43,  log(Z) = 0.05,   S = 131.47\n",
      " edges: "
     ]
    },
    {
     "name": "stdout",
     "output_type": "stream",
     "text": [
      "2206,   elements: 21796,   edge complexity: 48.38 %,  elements complexity: 1.08 %\n"
     ]
    },
    {
     "name": "stdout",
     "output_type": "stream",
     "text": [
      "\n",
      "iteration = 3940,   Score = 0.892\n",
      "\n",
      " <E> = "
     ]
    },
    {
     "name": "stdout",
     "output_type": "stream",
     "text": [
      "131.22,  log(Z) = 0.08,   S = 131.3\n",
      " edges: 2211,   elements: 21932,   edge complexity: 48.49 %,  elements complexity: 1.09 %\n"
     ]
    },
    {
     "name": "stdout",
     "output_type": "stream",
     "text": [
      "\n",
      "iteration = 3960,   Score = 0.893\n",
      "\n",
      " <E> = "
     ]
    },
    {
     "name": "stdout",
     "output_type": "stream",
     "text": [
      "131.2,  log(Z) = 0.12,   S = 131.33\n",
      " edges: 2218,   elements: 22072,   edge complexity: 48.64 %,  elements complexity: 1.1 %\n"
     ]
    },
    {
     "name": "stdout",
     "output_type": "stream",
     "text": [
      "\n",
      "iteration = 3980,   Score = 0.891\n",
      "\n",
      " <E> = "
     ]
    },
    {
     "name": "stdout",
     "output_type": "stream",
     "text": [
      "131.26,  log(Z) = 0.13,   S = 131.39\n",
      " edges: 2222,   elements: 22212,   edge complexity: 48.73 %,  elements complexity: 1.1 %\n"
     ]
    },
    {
     "name": "stdout",
     "output_type": "stream",
     "text": [
      "\n",
      "iteration = 4000,   Score = 0.893\n",
      "\n",
      " <E> = "
     ]
    },
    {
     "name": "stdout",
     "output_type": "stream",
     "text": [
      "130.51,  log(Z) = 0.17,   S = 130.68\n",
      " edges: 2227,   elements: 22345,   edge complexity: 48.84 %,  elements complexity: 1.11 %\n"
     ]
    },
    {
     "name": "stdout",
     "output_type": "stream",
     "text": [
      "\n",
      "iteration = 4020,   Score = 0.893\n",
      "\n",
      " <E> = "
     ]
    },
    {
     "name": "stdout",
     "output_type": "stream",
     "text": [
      "131.48,  log(Z) = 0.16,   S = 131.64\n",
      " edges: 2229,   elements: 22478,   edge complexity: 48.88 %,  elements complexity: 1.12 %\n"
     ]
    },
    {
     "name": "stdout",
     "output_type": "stream",
     "text": [
      "\n",
      "iteration = 4040,   Score = 0.893\n",
      "\n",
      " <E> = "
     ]
    },
    {
     "name": "stdout",
     "output_type": "stream",
     "text": [
      "130.67,  log(Z) = 0.23,   S = 130.9\n",
      " edges: 2237,   elements: 22586,   edge complexity: 49.06 %,  elements complexity: 1.12 %\n"
     ]
    },
    {
     "name": "stdout",
     "output_type": "stream",
     "text": [
      "\n",
      "iteration = 4060,   Score = 0.893\n",
      "\n",
      " <E> = "
     ]
    },
    {
     "name": "stdout",
     "output_type": "stream",
     "text": [
      "130.62,  log(Z) = 0.29,   S = 130.91\n",
      " edges: 2242,   elements: 22721,   edge complexity: 49.17 %,  elements complexity: 1.13 %\n"
     ]
    },
    {
     "name": "stdout",
     "output_type": "stream",
     "text": [
      "\n",
      "iteration = 4080,   Score = 0.893\n",
      "\n",
      " <E> = "
     ]
    },
    {
     "name": "stdout",
     "output_type": "stream",
     "text": [
      "130.41,  log(Z) = 0.47,   S = 130.88\n",
      " edges: "
     ]
    },
    {
     "name": "stdout",
     "output_type": "stream",
     "text": [
      "2251,   elements: 22820,   edge complexity: 49.36 %,  elements complexity: 1.13 %\n"
     ]
    },
    {
     "name": "stdout",
     "output_type": "stream",
     "text": [
      "\n",
      "iteration = 4100,   Score = 0.893\n",
      "\n",
      " <E> = "
     ]
    },
    {
     "name": "stdout",
     "output_type": "stream",
     "text": [
      "130.15,  log(Z) = 0.53,   S = 130.69\n",
      " edges: 2258,   elements: 22969,   edge complexity: 49.52 %,  elements complexity: 1.14 %\n"
     ]
    },
    {
     "name": "stdout",
     "output_type": "stream",
     "text": [
      "\n",
      "iteration = 4120,   Score = 0.894\n",
      "\n",
      " <E> = "
     ]
    },
    {
     "name": "stdout",
     "output_type": "stream",
     "text": [
      "129.97,  log(Z) = 0.53,   S = 130.5\n",
      " edges: 2263,   elements: 23099,   edge complexity: 49.63 %,  elements complexity: 1.15 %\n"
     ]
    },
    {
     "name": "stdout",
     "output_type": "stream",
     "text": [
      "\n",
      "iteration = 4140,   Score = 0.894\n",
      "\n",
      " <E> = "
     ]
    },
    {
     "name": "stdout",
     "output_type": "stream",
     "text": [
      "129.54,  log(Z) = 0.55,   S = 130.08\n",
      " edges: 2271,   elements: 23225,   edge complexity: 49.8 %,  elements complexity: 1.15 %\n"
     ]
    },
    {
     "name": "stdout",
     "output_type": "stream",
     "text": [
      "\n",
      "iteration = 4160,   Score = 0.894\n",
      "\n",
      " <E> = "
     ]
    },
    {
     "name": "stdout",
     "output_type": "stream",
     "text": [
      "129.34,  log(Z) = 0.58,   S = 129.92\n",
      " edges: 2276,   elements: 23352,   edge complexity: 49.91 %,  elements complexity: 1.16 %\n"
     ]
    },
    {
     "name": "stdout",
     "output_type": "stream",
     "text": [
      "\n",
      "iteration = 4180,   Score = 0.895\n",
      "\n",
      " <E> = "
     ]
    },
    {
     "name": "stdout",
     "output_type": "stream",
     "text": [
      "129.15,  log(Z) = 0.61,   S = 129.77\n",
      " edges: 2281,   elements: 23479,   edge complexity: 50.02 %,  elements complexity: 1.17 %\n"
     ]
    },
    {
     "name": "stdout",
     "output_type": "stream",
     "text": [
      "\n",
      "iteration = 4200,   Score = 0.896\n",
      "\n",
      " <E> = "
     ]
    },
    {
     "name": "stdout",
     "output_type": "stream",
     "text": [
      "129.44,  log(Z) = 0.7,   S = 130.14\n",
      " edges: 2287,   elements: 23598,   edge complexity: 50.15 %,  elements complexity: 1.17 %\n"
     ]
    },
    {
     "name": "stdout",
     "output_type": "stream",
     "text": [
      "\n",
      "iteration = 4220,   Score = 0.895\n",
      "\n",
      " <E> = "
     ]
    },
    {
     "name": "stdout",
     "output_type": "stream",
     "text": [
      "128.25,  log(Z) = 0.77,   S = 129.02\n",
      " edges: 2293,   elements: 23738,   edge complexity: 50.29 %,  elements complexity: 1.18 %\n"
     ]
    },
    {
     "name": "stdout",
     "output_type": "stream",
     "text": [
      "\n",
      "iteration = 4240,   Score = 0.895\n",
      "\n",
      " <E> = "
     ]
    },
    {
     "name": "stdout",
     "output_type": "stream",
     "text": [
      "128.75,  log(Z) = 0.73,   S = 129.47\n",
      " edges: 2297,   elements: 23866,   edge complexity: 50.37 %,  elements complexity: 1.19 %\n"
     ]
    },
    {
     "name": "stdout",
     "output_type": "stream",
     "text": [
      "\n",
      "iteration = 4260,   Score = 0.896\n",
      "\n",
      " <E> = "
     ]
    },
    {
     "name": "stdout",
     "output_type": "stream",
     "text": [
      "128.37,  log(Z) = 0.72,   S = 129.09\n",
      " edges: 2304,   elements: 24002,   edge complexity: 50.53 %,  elements complexity: 1.19 %\n"
     ]
    },
    {
     "name": "stdout",
     "output_type": "stream",
     "text": [
      "\n",
      "iteration = 4280,   Score = 0.896\n",
      "\n",
      " <E> = "
     ]
    },
    {
     "name": "stdout",
     "output_type": "stream",
     "text": [
      "128.18,  log(Z) = 0.72,   S = 128.9\n",
      " edges: 2314,   elements: 24155,   edge complexity: 50.75 %,  elements complexity: 1.2 %\n"
     ]
    },
    {
     "name": "stdout",
     "output_type": "stream",
     "text": [
      "\n",
      "iteration = 4300,   Score = 0.896\n",
      "\n",
      " <E> = "
     ]
    },
    {
     "name": "stdout",
     "output_type": "stream",
     "text": [
      "128.17,  log(Z) = 0.71,   S = 128.89\n",
      " edges: 2321,   elements: 24310,   edge complexity: 50.9 %,  elements complexity: 1.21 %\n"
     ]
    },
    {
     "name": "stdout",
     "output_type": "stream",
     "text": [
      "\n",
      "iteration = 4320,   Score = 0.897\n",
      "\n",
      " <E> = "
     ]
    },
    {
     "name": "stdout",
     "output_type": "stream",
     "text": [
      "128.43,  log(Z) = 0.77,   S = 129.2\n",
      " edges: 2325,   elements: 24463,   edge complexity: 50.99 %,  elements complexity: 1.22 %\n"
     ]
    },
    {
     "name": "stdout",
     "output_type": "stream",
     "text": [
      "\n",
      "iteration = 4340,   Score = 0.897\n",
      "\n",
      " <E> = "
     ]
    },
    {
     "name": "stdout",
     "output_type": "stream",
     "text": [
      "128.09,  log(Z) = 0.83,   S = 128.92\n",
      " edges: 2332,   elements: 24600,   edge complexity: 51.14 %,  elements complexity: 1.22 %\n"
     ]
    },
    {
     "name": "stdout",
     "output_type": "stream",
     "text": [
      "\n",
      "iteration = 4360,   Score = 0.898\n",
      "\n",
      " <E> = "
     ]
    },
    {
     "name": "stdout",
     "output_type": "stream",
     "text": [
      "127.96,  log(Z) = 0.84,   S = 128.79\n",
      " edges: 2339,   elements: 24736,   edge complexity: 51.29 %,  elements complexity: 1.23 %\n"
     ]
    },
    {
     "name": "stdout",
     "output_type": "stream",
     "text": [
      "\n",
      "iteration = 4380,   Score = 0.898\n",
      "\n",
      " <E> = "
     ]
    },
    {
     "name": "stdout",
     "output_type": "stream",
     "text": [
      "127.99,  log(Z) = 0.88,   S = 128.87\n",
      " edges: 2342,   elements: 24878,   edge complexity: 51.36 %,  elements complexity: 1.24 %\n"
     ]
    },
    {
     "name": "stdout",
     "output_type": "stream",
     "text": [
      "\n",
      "iteration = 4400,   Score = 0.897\n",
      "\n",
      " <E> = "
     ]
    },
    {
     "name": "stdout",
     "output_type": "stream",
     "text": [
      "127.04,  log(Z) = 0.91,   S = 127.95\n",
      " edges: 2350,   elements: 25001,   edge complexity: 51.54 %,  elements complexity: 1.24 %\n"
     ]
    },
    {
     "name": "stdout",
     "output_type": "stream",
     "text": [
      "\n",
      "iteration = 4420,   Score = 0.897\n",
      "\n",
      " <E> = "
     ]
    },
    {
     "name": "stdout",
     "output_type": "stream",
     "text": [
      "127.15,  log(Z) = 0.96,   S = 128.11\n",
      " edges: 2351,   elements: 25114,   edge complexity: 51.56 %,  elements complexity: 1.25 %\n"
     ]
    },
    {
     "name": "stdout",
     "output_type": "stream",
     "text": [
      "\n",
      "iteration = 4440,   Score = 0.898\n",
      "\n",
      " <E> = "
     ]
    },
    {
     "name": "stdout",
     "output_type": "stream",
     "text": [
      "126.78,  log(Z) = 0.98,   S = 127.76\n",
      " edges: 2359,   elements: 25244,   edge complexity: 51.73 %,  elements complexity: 1.26 %\n"
     ]
    },
    {
     "name": "stdout",
     "output_type": "stream",
     "text": [
      "\n",
      "iteration = 4460,   Score = 0.9\n",
      "\n",
      " <E> = "
     ]
    },
    {
     "name": "stdout",
     "output_type": "stream",
     "text": [
      "126.68,  log(Z) = 1.03,   S = 127.71\n",
      " \n",
      "The selceted model has 2364 edges and a score = 0.9\n"
     ]
    },
    {
     "data": {
      "text/plain": [
       "147899.17761397362"
      ]
     },
     "metadata": {},
     "output_type": "display_data"
    }
   ],
   "source": [
    "using Random\n",
    "\n",
    "n_step = 100_000\n",
    "method = \"cumulative\"\n",
    "fraction = 0.3\n",
    "stop = 0.9\n",
    "pseudo_count = 0.9\n",
    "s = time()\n",
    "Random.seed!(1) \n",
    "notebook = \"0.9nb1\"\n",
    "#                                                                                                 #21                 #12000                                           \n",
    "score, likelihood_gain, generated_sequences, Jij, h, contact_list, site_degree, edge_list, path = E_A_A(21, n_step, pseudo_count, 12000, natural_sequences,\"example_output.txt\", method, notebook, fraction, stop); \n",
    "s = time() - s"
   ]
  },
  {
   "attachments": {},
   "cell_type": "markdown",
   "id": "13ebb2d5",
   "metadata": {},
   "source": [
    "## saving data"
   ]
  },
  {
   "cell_type": "code",
   "execution_count": 4,
   "id": "909ba0e5",
   "metadata": {},
   "outputs": [],
   "source": [
    "using JLD\n",
    "\n",
    "init_pseudo_count = 0.01\n",
    "folder_name = \"../training/\" * method * string(fraction) * \"_stop=\" * string(stop) * \"_reg=\"*string(pseudo_count)*\"_h_ps-count=\" * string(init_pseudo_count) * \"nbook=\"*notebook\n",
    "\n",
    "JLD.save(folder_name*\"/\"*\"score.jld\",\"data\", score)\n",
    "JLD.save(folder_name*\"/\"*\"likelihood_gain.jld\",\"data\", likelihood_gain)\n",
    "JLD.save(folder_name*\"/\"*\"generated_sequences.jld\",\"data\", generated_sequences)\n",
    "JLD.save(folder_name*\"/\"*\"Jij.jld\",\"data\", Jij)\n",
    "JLD.save(folder_name*\"/\"*\"h.jld\",\"data\", h)\n",
    "JLD.save(folder_name*\"/\"*\"contact_list.jld\",\"data\", contact_list)\n",
    "JLD.save(folder_name*\"/\"*\"site_degree.jld\",\"data\", site_degree)\n",
    "JLD.save(folder_name*\"/\"*\"edge_list.jld\",\"data\", edge_list)"
   ]
  },
  {
   "attachments": {},
   "cell_type": "markdown",
   "id": "0c4e1927",
   "metadata": {},
   "source": [
    "## Saving the model"
   ]
  },
  {
   "cell_type": "code",
   "execution_count": 21,
   "id": "3919994c",
   "metadata": {},
   "outputs": [
    {
     "data": {
      "text/plain": [
       "print_model_to_file_prot (generic function with 1 method)"
      ]
     },
     "execution_count": 21,
     "metadata": {},
     "output_type": "execute_result"
    }
   ],
   "source": [
    "function print_model_to_file_prot(natural_sequences,Jij,h,filename)\n",
    "    open(filename, \"w\") do f\n",
    "        for i in 1:length(natural_sequences[1,:])\n",
    "            for j in i+1:length(natural_sequences[1,:])\n",
    "                for k in 1:21    \n",
    "                    if k==1\n",
    "                        k2=1        \n",
    "                    elseif k==2\n",
    "                        k2=2\n",
    "                    elseif k==3\n",
    "                        k2=3\n",
    "                    elseif k==4\n",
    "                        k2=4\n",
    "                    elseif k==5\n",
    "                        k2=5\n",
    "                    elseif k==6\n",
    "                        k2=6\n",
    "                    elseif k==7\n",
    "                        k2=7\n",
    "                    elseif k==8\n",
    "                        k2=8\n",
    "                    elseif k==9\n",
    "                        k2=9\n",
    "                    elseif k==10\n",
    "                        k2=10\n",
    "                    elseif k==11\n",
    "                        k2=11\n",
    "                    elseif k==12\n",
    "                        k2=12\n",
    "                    elseif k==13\n",
    "                        k2=13\n",
    "                    elseif k==14\n",
    "                        k2=14\n",
    "                    elseif k==15\n",
    "                        k2=15\n",
    "                    elseif k==16\n",
    "                        k2=16\n",
    "                    elseif k==17\n",
    "                        k2=17\n",
    "                    elseif k==18\n",
    "                        k2=18\n",
    "                    elseif k==19\n",
    "                        k2=19\n",
    "                    elseif k==20\n",
    "                        k2=20\n",
    "                    elseif k==21\n",
    "                        k2=0\n",
    "                    end\n",
    "                        \n",
    "                    for l in 1:21\n",
    "                        if l==1\n",
    "                            l2=1\n",
    "                        elseif l==2\n",
    "                            l2=2\n",
    "                        elseif l==3\n",
    "                            l2=3\n",
    "                        elseif l==4\n",
    "                            l2=4\n",
    "                        elseif l==5\n",
    "                            l2=5\n",
    "                        elseif l==6\n",
    "                            l2=6\n",
    "                        elseif l==7\n",
    "                            l2=7\n",
    "                        elseif l==8\n",
    "                            l2=8\n",
    "                        elseif l==9\n",
    "                            l2=9\n",
    "                        elseif l==10\n",
    "                            l2=10\n",
    "                        elseif l==11\n",
    "                            l2=11\n",
    "                        elseif l==12\n",
    "                            l2=12\n",
    "                        elseif l==13\n",
    "                            l2=13\n",
    "                        elseif l==14\n",
    "                            l2=14\n",
    "                        elseif l==15\n",
    "                            l2=15\n",
    "                        elseif l==16\n",
    "                            l2=16\n",
    "                        elseif l==17\n",
    "                            l2=17\n",
    "                        elseif l==18\n",
    "                            l2=18\n",
    "                        elseif l==19\n",
    "                            l2=19\n",
    "                        elseif l==20\n",
    "                            l2=20\n",
    "                        elseif l==21\n",
    "                            l2=0\n",
    "                        end\n",
    "                        opo=Jij[i,j,21*(k-1)+l]\n",
    "                        write(f,\"\\nJ $(i-1) $(j-1) $(k2) $(l2) $opo\" )\n",
    "                    end\n",
    "                end\n",
    "            end\n",
    "        end\n",
    "        for i in 1:length(natural_sequences[1,:])\n",
    "            for j in 1:21          \n",
    "                if j==1\n",
    "                    j2=1\n",
    "                elseif j==2\n",
    "                    j2=2\n",
    "                elseif j==3\n",
    "                    j2=3\n",
    "                elseif j==4\n",
    "                    j2=4\n",
    "                elseif j==5\n",
    "                    j2=5\n",
    "                elseif j==6\n",
    "                    j2=6\n",
    "                elseif j==7\n",
    "                    j2=7\n",
    "                elseif j==8\n",
    "                    j2=8\n",
    "                elseif j==9\n",
    "                    j2=9\n",
    "                elseif j==10\n",
    "                    j2=10\n",
    "                elseif j==11\n",
    "                    j2=11\n",
    "                elseif j==12\n",
    "                    j2=12\n",
    "                elseif j==13\n",
    "                    j2=13\n",
    "                elseif j==14\n",
    "                    j2=14\n",
    "                elseif j==15\n",
    "                    j2=15\n",
    "                elseif j==16\n",
    "                    j2=16\n",
    "                elseif j==17\n",
    "                    j2=17\n",
    "                elseif j==18\n",
    "                    j2=18\n",
    "                elseif j==19\n",
    "                    j2=19\n",
    "                elseif j==20\n",
    "                    j2=20\n",
    "                elseif j==21\n",
    "                    j2=0\n",
    "                end\n",
    "                opo=h[21*(i-1)+j]\n",
    "                write(f,\"\\nh $(i-1) $(j2) $opo\" )\n",
    "            end\n",
    "        end\n",
    "    end\n",
    "end"
   ]
  },
  {
   "cell_type": "code",
   "execution_count": null,
   "id": "1c9c8dd2",
   "metadata": {},
   "outputs": [],
   "source": [
    "filename = \"../saved_models/model_cumulative0.3_stop0.9_pseudocount0.5_init_pscount0.01_nbook3.txt\"\n",
    "print_model_to_file_prot(natural_sequences, Jij, h, filename)"
   ]
  },
  {
   "cell_type": "markdown",
   "metadata": {},
   "source": [
    "<font size=\"3\">The model obtained has a performance comparable to the fully connected DCA while having just ~20% of its connectivity. The entropy of the model is 35.08. This means that it is able to generate e³⁵ (3.5x10¹⁵) different 55-102 segments for the RF00379 family. \\\n",
    "Now we can test our artificial sequences. We do the classical statistical check of the PCA projection and the two-point correlation representation. \\\n",
    "We test the performance of our model against the one of the Covariance Model. The CM model only contains trivial one-point and secondary information so our model must do better than it. </font>"
   ]
  },
  {
   "cell_type": "code",
   "execution_count": null,
   "metadata": {},
   "outputs": [],
   "source": [
    "cm_sequences = rna_cm_model_generation(0.8,0.05,7000,natural_sequences,ss_contact_matrix);\n"
   ]
  },
  {
   "cell_type": "code",
   "execution_count": null,
   "metadata": {},
   "outputs": [],
   "source": [
    "plot_stat_check(natural_sequences, generated_sequences, cm_sequences)"
   ]
  },
  {
   "cell_type": "markdown",
   "metadata": {},
   "source": [
    "<font size=\"3\">The E.A.A. artificial molecules are practically statistically indistinguishable from the natural ones. We see that they have a very similar PCA projection (artificial one seems richer just because we have more artificial sequences than natural ones) while Covariance Model fails to capture the details of the distribution. \n",
    "    The selected model has almost a perfect two-point statistics for all site pairs while the CM model only captures it for the ones involved in secondary structure contacts. \\\n",
    "     </font>\n"
   ]
  },
  {
   "cell_type": "markdown",
   "metadata": {},
   "source": [
    "<font size=\"3\">The interpretability is one of the main reasons in our quest to find parsimonious generative models. Now that we are sure we obtained a good generative model with relatively few parameters we can try to interprete them. \\\n",
    "Dividing the added edges in secondary structure contacts, 3D contacts we have:"
   ]
  },
  {
   "cell_type": "code",
   "execution_count": null,
   "metadata": {},
   "outputs": [],
   "source": [
    "edge_interpretation_plot(len,ss_contact_matrix,tertiary_contact_matrix,edge_list[1:50,:])"
   ]
  },
  {
   "cell_type": "markdown",
   "metadata": {},
   "source": [
    "<font size=\"3\">We see that the secondary structure contacts are taken in the first few iteration. We have lot of neighbouring sites probably due to philogenic effects. It is striking that we see some 3D contacts (in particular around site 40) before the NONE edges. This\n",
    "suggests that our algorithm effectively captures some information about the tertiary structure. \\\n",
    "Those results, that are far more general than this simple example, suggest that the added edges have a co-evolutionary interpretation."
   ]
  },
  {
   "cell_type": "markdown",
   "metadata": {},
   "source": [
    "<font size=\"3\">\n",
    "This notebook serves as an example of the application of the techniques described in the main text.\n"
   ]
  }
 ],
 "metadata": {
  "kernelspec": {
   "display_name": "Julia 1.8.5",
   "language": "julia",
   "name": "julia-1.8"
  },
  "language_info": {
   "file_extension": ".jl",
   "mimetype": "application/julia",
   "name": "julia",
   "version": "1.8.5"
  },
  "vscode": {
   "interpreter": {
    "hash": "6412a36ae9b8109c1adf793ae61659867359f52a3cfb701a53c331fa90dc1d37"
   }
  }
 },
 "nbformat": 4,
 "nbformat_minor": 5
}
