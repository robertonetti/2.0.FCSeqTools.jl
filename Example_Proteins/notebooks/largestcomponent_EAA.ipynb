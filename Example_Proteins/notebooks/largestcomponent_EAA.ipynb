{
 "cells": [
  {
   "cell_type": "markdown",
   "metadata": {},
   "source": [
    "# Edge Addition Algorithm - simple implementation example"
   ]
  },
  {
   "cell_type": "markdown",
   "metadata": {},
   "source": [
    "<font size=\"3\">Run time is around ~5 minutes with the default input. \\\n",
    "\\\n",
    "In this example we will use the E.A.A. model to build a low-connectivity DCA model. \\\n",
    "The information that we have about the training RNA family consists in: the sequence alignment and the consenus secondary structure (both trough the Covariance Model) and the 3D contacts trough the PDB file. </font> \n"
   ]
  },
  {
   "cell_type": "code",
   "execution_count": 2,
   "id": "20924cd6",
   "metadata": {},
   "outputs": [],
   "source": [
    "include(\"../src/FCSeqTools.jl\");"
   ]
  },
  {
   "cell_type": "markdown",
   "metadata": {},
   "source": [
    "<font size=\"3\">Here is an example of  RF00379 molecule and its associated consensus secondary structure. \\\n",
    "To make the execution faster we will not generate full lenght molecules but just a portion from nucleotide 55 to 102. </font>"
   ]
  },
  {
   "cell_type": "code",
   "execution_count": 3,
   "metadata": {},
   "outputs": [],
   "source": [
    "natural_sequences = do_number_matrix_prot(do_letter_matrix(\"../data/CM_130530_MC.fasta\"), 0.2);"
   ]
  },
  {
   "cell_type": "markdown",
   "metadata": {},
   "source": [
    "<font size=\"3\">Here is a segment example with its associated secondary structure. \\\n",
    "The database has a different size because the data-cleaning procedure depends on the region selected. \\\n",
    "Now we will run the E.A.A. building up our ineraction netwotk edge by edge till we reach a good performance generative model. \\\n",
    "At each iteration the algorithm reports: the added edge, the iteration number, the number of total added edges and the connectivity percentace of the fully connected case.\\\n",
    "Each 15 iterations the algorithm reports: the model score (Pearson between natural and artificial two-point correlations), the model mean energy, the model partition function and the model entropy. "
   ]
  },
  {
   "cell_type": "code",
   "execution_count": 4,
   "metadata": {},
   "outputs": [
    {
     "name": "stdout",
     "output_type": "stream",
     "text": [
      "Fully connected model has 4560 edges, 2010960 elements and a score around ~ 0.95\n"
     ]
    },
    {
     "ename": "LoadError",
     "evalue": "InterruptException:",
     "output_type": "error",
     "traceback": [
      "InterruptException:",
      "",
      "Stacktrace:",
      "  [1] Array",
      "    @ ./boot.jl:459 [inlined]",
      "  [2] Array",
      "    @ ./boot.jl:468 [inlined]",
      "  [3] similar",
      "    @ ./array.jl:378 [inlined]",
      "  [4] similar",
      "    @ ./abstractarray.jl:795 [inlined]",
      "  [5] _unsafe_getindex",
      "    @ ./multidimensional.jl:887 [inlined]",
      "  [6] _getindex",
      "    @ ./multidimensional.jl:875 [inlined]",
      "  [7] getindex",
      "    @ ./abstractarray.jl:1241 [inlined]",
      "  [8] fij_two_point(number_matrix::Matrix{Int8}, q::Int64, pseudo_count::Float64)",
      "    @ Main ~/Documents/GitHub/FCSeqTools.jl/Example_Proteins/src/FCSeqTools.jl:191",
      "  [9] (::var\"#18#22\"{IOStream, IOStream, IOStream, Int64, Int64, Float64, Int64, String, Float64, Float64, Int64, Vector{Any}, Vector{Float32}, Array{Float64, 3}, Vector{Float64}, Int64})(f3::IOStream)",
      "    @ Main ~/Documents/GitHub/FCSeqTools.jl/Example_Proteins/src/FCSeqTools.jl:526",
      " [10] open(::var\"#18#22\"{IOStream, IOStream, IOStream, Int64, Int64, Float64, Int64, String, Float64, Float64, Int64, Vector{Any}, Vector{Float32}, Array{Float64, 3}, Vector{Float64}, Int64}, ::String, ::Vararg{String}; kwargs::Base.Pairs{Symbol, Union{}, Tuple{}, NamedTuple{(), Tuple{}}})",
      "    @ Base ./io.jl:384",
      " [11] open",
      "    @ ./io.jl:381 [inlined]",
      " [12] (::var\"#17#21\"{IOStream, IOStream, Int64, Int64, Float64, Int64, String, Float64, Float64, Int64, Vector{Any}, Vector{Float32}, Array{Float64, 3}, Vector{Float64}, Int64})(f2::IOStream)",
      "    @ Main ~/Documents/GitHub/FCSeqTools.jl/Example_Proteins/src/FCSeqTools.jl:515",
      " [13] open(::var\"#17#21\"{IOStream, IOStream, Int64, Int64, Float64, Int64, String, Float64, Float64, Int64, Vector{Any}, Vector{Float32}, Array{Float64, 3}, Vector{Float64}, Int64}, ::String, ::Vararg{String}; kwargs::Base.Pairs{Symbol, Union{}, Tuple{}, NamedTuple{(), Tuple{}}})",
      "    @ Base ./io.jl:384",
      " [14] open",
      "    @ ./io.jl:381 [inlined]",
      " [15] (::var\"#16#20\"{IOStream, Int64, Int64, Float64, Int64, String, Float64, Float64, Int64, Vector{Any}, Vector{Float32}, Array{Float64, 3}, Vector{Float64}, Int64})(f1::IOStream)",
      "    @ Main ~/Documents/GitHub/FCSeqTools.jl/Example_Proteins/src/FCSeqTools.jl:514",
      " [16] open(::var\"#16#20\"{IOStream, Int64, Int64, Float64, Int64, String, Float64, Float64, Int64, Vector{Any}, Vector{Float32}, Array{Float64, 3}, Vector{Float64}, Int64}, ::String, ::Vararg{String}; kwargs::Base.Pairs{Symbol, Union{}, Tuple{}, NamedTuple{(), Tuple{}}})",
      "    @ Base ./io.jl:384",
      " [17] open",
      "    @ ./io.jl:381 [inlined]",
      " [18] (::var\"#15#19\"{Int64, Int64, Float64, Int64, String, Float64, Float64, Int64, Vector{Any}, Vector{Float32}, Array{Float64, 3}, Vector{Float64}, Int64})(f::IOStream)",
      "    @ Main ~/Documents/GitHub/FCSeqTools.jl/Example_Proteins/src/FCSeqTools.jl:513",
      " [19] open(::var\"#15#19\"{Int64, Int64, Float64, Int64, String, Float64, Float64, Int64, Vector{Any}, Vector{Float32}, Array{Float64, 3}, Vector{Float64}, Int64}, ::String, ::Vararg{String}; kwargs::Base.Pairs{Symbol, Union{}, Tuple{}, NamedTuple{(), Tuple{}}})",
      "    @ Base ./io.jl:384",
      " [20] open",
      "    @ ./io.jl:381 [inlined]",
      " [21] E_A_A(q::Int64, n_step::Int64, pseudo_count::Float64, number::Int64, number_matrix::Matrix{Int8}, filename::String, method::String, fraction::Float64, stop::Float64)",
      "    @ Main ~/Documents/GitHub/FCSeqTools.jl/Example_Proteins/src/FCSeqTools.jl:512",
      " [22] E_A_A(q::Int64, n_step::Int64, pseudo_count::Float64, number::Int64, number_matrix::Matrix{Int8}, filename::String, method::String)",
      "    @ Main ~/Documents/GitHub/FCSeqTools.jl/Example_Proteins/src/FCSeqTools.jl:456"
     ]
    }
   ],
   "source": [
    "using Random\n",
    "\n",
    "n_step = 100_000\n",
    "method = \"largest_component\"\n",
    "s = time()\n",
    "Random.seed!(2) \n",
    "#                                                                                                 #21 o 5          #7000                                        \n",
    "score, likelihood_gain, generated_sequences, Jij, h, contact_list, site_degree, edge_list = E_A_A(21, n_step, 0.05, 12000, natural_sequences,\"example_output.txt\", method); \n",
    "\n",
    "s = time() - s"
   ]
  },
  {
   "cell_type": "markdown",
   "metadata": {},
   "source": [
    "<font size=\"3\">The model obtained has a performance comparable to the fully connected DCA while having just ~20% of its connectivity. The entropy of the model is 35.08. This means that it is able to generate e³⁵ (3.5x10¹⁵) different 55-102 segments for the RF00379 family. \\\n",
    "Now we can test our artificial sequences. We do the classical statistical check of the PCA projection and the two-point correlation representation. \\\n",
    "We test the performance of our model against the one of the Covariance Model. The CM model only contains trivial one-point and secondary information so our model must do better than it. </font>"
   ]
  },
  {
   "cell_type": "code",
   "execution_count": null,
   "metadata": {},
   "outputs": [],
   "source": [
    "cm_sequences = rna_cm_model_generation(0.8,0.05,7000,natural_sequences,ss_contact_matrix);\n"
   ]
  },
  {
   "cell_type": "code",
   "execution_count": null,
   "metadata": {},
   "outputs": [],
   "source": [
    "plot_stat_check(natural_sequences, generated_sequences, cm_sequences)"
   ]
  },
  {
   "cell_type": "markdown",
   "metadata": {},
   "source": [
    "<font size=\"3\">The E.A.A. artificial molecules are practically statistically indistinguishable from the natural ones. We see that they have a very similar PCA projection (artificial one seems richer just because we have more artificial sequences than natural ones) while Covariance Model fails to capture the details of the distribution. \n",
    "    The selected model has almost a perfect two-point statistics for all site pairs while the CM model only captures it for the ones involved in secondary structure contacts. \\\n",
    "     </font>\n"
   ]
  },
  {
   "cell_type": "markdown",
   "metadata": {},
   "source": [
    "<font size=\"3\">The interpretability is one of the main reasons in our quest to find parsimonious generative models. Now that we are sure we obtained a good generative model with relatively few parameters we can try to interprete them. \\\n",
    "Dividing the added edges in secondary structure contacts, 3D contacts we have:"
   ]
  },
  {
   "cell_type": "code",
   "execution_count": null,
   "metadata": {},
   "outputs": [],
   "source": [
    "edge_interpretation_plot(len,ss_contact_matrix,tertiary_contact_matrix,edge_list[1:50,:])"
   ]
  },
  {
   "cell_type": "markdown",
   "metadata": {},
   "source": [
    "<font size=\"3\">We see that the secondary structure contacts are taken in the first few iteration. We have lot of neighbouring sites probably due to philogenic effects. It is striking that we see some 3D contacts (in particular around site 40) before the NONE edges. This\n",
    "suggests that our algorithm effectively captures some information about the tertiary structure. \\\n",
    "Those results, that are far more general than this simple example, suggest that the added edges have a co-evolutionary interpretation."
   ]
  },
  {
   "cell_type": "markdown",
   "metadata": {},
   "source": [
    "<font size=\"3\">\n",
    "This notebook serves as an example of the application of the techniques described in the main text.\n"
   ]
  }
 ],
 "metadata": {
  "kernelspec": {
   "display_name": "Julia 1.8.5",
   "language": "julia",
   "name": "julia-1.8"
  },
  "language_info": {
   "file_extension": ".jl",
   "mimetype": "application/julia",
   "name": "julia",
   "version": "1.8.5"
  },
  "vscode": {
   "interpreter": {
    "hash": "6412a36ae9b8109c1adf793ae61659867359f52a3cfb701a53c331fa90dc1d37"
   }
  }
 },
 "nbformat": 4,
 "nbformat_minor": 5
}
