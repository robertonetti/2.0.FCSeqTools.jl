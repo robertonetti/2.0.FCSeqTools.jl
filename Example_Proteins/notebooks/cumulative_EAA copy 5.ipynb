{
 "cells": [
  {
   "cell_type": "markdown",
   "metadata": {},
   "source": [
    "# Edge Addition Algorithm - simple implementation example"
   ]
  },
  {
   "cell_type": "markdown",
   "metadata": {},
   "source": [
    "<font size=\"3\">Run time is around ~5 minutes with the default input. \\\n",
    "\\\n",
    "In this example we will use the E.A.A. model to build a low-connectivity DCA model. \\\n",
    "The information that we have about the training RNA family consists in: the sequence alignment and the consenus secondary structure (both trough the Covariance Model) and the 3D contacts trough the PDB file. </font> \n"
   ]
  },
  {
   "cell_type": "code",
   "execution_count": 5,
   "id": "20924cd6",
   "metadata": {},
   "outputs": [],
   "source": [
    "include(\"../src/FCSeqTools.jl\");"
   ]
  },
  {
   "cell_type": "markdown",
   "metadata": {},
   "source": [
    "<font size=\"3\">Here is an example of  RF00379 molecule and its associated consensus secondary structure. \\\n",
    "To make the execution faster we will not generate full lenght molecules but just a portion from nucleotide 55 to 102. </font>"
   ]
  },
  {
   "cell_type": "code",
   "execution_count": 6,
   "metadata": {},
   "outputs": [],
   "source": [
    "natural_sequences = do_number_matrix_prot(do_letter_matrix(\"../data/Betalactamases_VIM-NDM.fasta\"), 0.2);\n"
   ]
  },
  {
   "cell_type": "markdown",
   "metadata": {},
   "source": [
    "<font size=\"3\">Here is a segment example with its associated secondary structure. \\\n",
    "The database has a different size because the data-cleaning procedure depends on the region selected. \\\n",
    "Now we will run the E.A.A. building up our ineraction netwotk edge by edge till we reach a good performance generative model. \\\n",
    "At each iteration the algorithm reports: the added edge, the iteration number, the number of total added edges and the connectivity percentace of the fully connected case.\\\n",
    "Each 15 iterations the algorithm reports: the model score (Pearson between natural and artificial two-point correlations), the model mean energy, the model partition function and the model entropy. "
   ]
  },
  {
   "cell_type": "code",
   "execution_count": 7,
   "metadata": {},
   "outputs": [
    {
     "name": "stdout",
     "output_type": "stream",
     "text": [
      "Fully connected model has 24531 edges, 10818171 elements and a score around ~ 0.95\n"
     ]
    },
    {
     "name": "stdout",
     "output_type": "stream",
     "text": [
      "\n",
      "iteration = 20,   Score = 0.08\n",
      "\n",
      " <E> = "
     ]
    },
    {
     "name": "stdout",
     "output_type": "stream",
     "text": [
      "355.1,  log(Z) = 0.4,   S = 355.49\n",
      " edges: "
     ]
    },
    {
     "name": "stdout",
     "output_type": "stream",
     "text": [
      "20,   elements: 50,   edge complexity: 0.08 %,  elements complexity: 0.0 %\n"
     ]
    },
    {
     "name": "stdout",
     "output_type": "stream",
     "text": [
      "\n",
      "iteration = 40,   Score = 0.154\n",
      "\n",
      " <E> = "
     ]
    },
    {
     "name": "stdout",
     "output_type": "stream",
     "text": [
      "351.97,  log(Z) = 0.93,   S = 352.9\n",
      " edges: "
     ]
    },
    {
     "name": "stdout",
     "output_type": "stream",
     "text": [
      "40,   elements: 108,   edge complexity: 0.16 %,  elements complexity: 0.0 %\n"
     ]
    },
    {
     "name": "stdout",
     "output_type": "stream",
     "text": [
      "\n",
      "iteration = 60,   Score = 0.243\n",
      "\n",
      " <E> = "
     ]
    },
    {
     "name": "stdout",
     "output_type": "stream",
     "text": [
      "347.69,  log(Z) = 1.2,   S = 348.89\n",
      " edges: "
     ]
    },
    {
     "name": "stdout",
     "output_type": "stream",
     "text": [
      "60,   elements: 179,   edge complexity: 0.24 %,  elements complexity: 0.0 %\n"
     ]
    },
    {
     "name": "stdout",
     "output_type": "stream",
     "text": [
      "\n",
      "iteration = 80,   Score = 0.318\n",
      "\n",
      " <E> = "
     ]
    },
    {
     "name": "stdout",
     "output_type": "stream",
     "text": [
      "346.29,  log(Z) = 1.47,   S = 347.77\n",
      " edges: "
     ]
    },
    {
     "name": "stdout",
     "output_type": "stream",
     "text": [
      "80,   elements: 247,   edge complexity: 0.33 %,  elements complexity: 0.0 %\n"
     ]
    },
    {
     "name": "stdout",
     "output_type": "stream",
     "text": [
      "\n",
      "iteration = 100,   Score = 0.408\n",
      "\n",
      " <E> = "
     ]
    },
    {
     "name": "stdout",
     "output_type": "stream",
     "text": [
      "341.6,  log(Z) = 1.87,   S = 343.47\n",
      " edges: "
     ]
    },
    {
     "name": "stdout",
     "output_type": "stream",
     "text": [
      "99,   elements: 314,   edge complexity: 0.4 %,  elements complexity: 0.0 %\n"
     ]
    },
    {
     "name": "stdout",
     "output_type": "stream",
     "text": [
      "\n",
      "iteration = 120,   Score = 0.437\n",
      "\n",
      " <E> = "
     ]
    },
    {
     "name": "stdout",
     "output_type": "stream",
     "text": [
      "339.24,  log(Z) = 2.25,   S = 341.49\n",
      " edges: "
     ]
    },
    {
     "name": "stdout",
     "output_type": "stream",
     "text": [
      "117,   elements: 408,   edge complexity: 0.48 %,  elements complexity: 0.0 %\n"
     ]
    },
    {
     "name": "stdout",
     "output_type": "stream",
     "text": [
      "\n",
      "iteration = 140,   Score = 0.478\n",
      "\n",
      " <E> = "
     ]
    },
    {
     "name": "stdout",
     "output_type": "stream",
     "text": [
      "336.12,  log(Z) = 2.62,   S = 338.74\n",
      " edges: "
     ]
    },
    {
     "name": "stdout",
     "output_type": "stream",
     "text": [
      "135,   elements: 488,   edge complexity: 0.55 %,  elements complexity: 0.0 %\n"
     ]
    },
    {
     "name": "stdout",
     "output_type": "stream",
     "text": [
      "\n",
      "iteration = 160,   Score = 0.505\n",
      "\n",
      " <E> = "
     ]
    },
    {
     "name": "stdout",
     "output_type": "stream",
     "text": [
      "331.25,  log(Z) = 3.17,   S = 334.42\n",
      " edges: "
     ]
    },
    {
     "name": "stdout",
     "output_type": "stream",
     "text": [
      "153,   elements: 577,   edge complexity: 0.62 %,  elements complexity: 0.01 %\n"
     ]
    },
    {
     "name": "stdout",
     "output_type": "stream",
     "text": [
      "\n",
      "iteration = 180,   Score = 0.548\n",
      "\n",
      " <E> = "
     ]
    },
    {
     "name": "stdout",
     "output_type": "stream",
     "text": [
      "328.22,  log(Z) = 3.51,   S = 331.73\n",
      " edges: "
     ]
    },
    {
     "name": "stdout",
     "output_type": "stream",
     "text": [
      "173,   elements: 670,   edge complexity: 0.71 %,  elements complexity: 0.01 %\n"
     ]
    },
    {
     "name": "stdout",
     "output_type": "stream",
     "text": [
      "\n",
      "iteration = 200,   Score = 0.571\n",
      "\n",
      " <E> = "
     ]
    },
    {
     "name": "stdout",
     "output_type": "stream",
     "text": [
      "326.26,  log(Z) = 3.89,   S = 330.15\n",
      " edges: "
     ]
    },
    {
     "name": "stdout",
     "output_type": "stream",
     "text": [
      "192,   elements: 769,   edge complexity: 0.78 %,  elements complexity: 0.01 %\n"
     ]
    },
    {
     "name": "stdout",
     "output_type": "stream",
     "text": [
      "\n",
      "iteration = 220,   Score = 0.589\n",
      "\n",
      " <E> = "
     ]
    },
    {
     "name": "stdout",
     "output_type": "stream",
     "text": [
      "324.02,  log(Z) = 4.21,   S = 328.23\n",
      " edges: "
     ]
    },
    {
     "name": "stdout",
     "output_type": "stream",
     "text": [
      "210,   elements: 890,   edge complexity: 0.86 %,  elements complexity: 0.01 %\n"
     ]
    },
    {
     "name": "stdout",
     "output_type": "stream",
     "text": [
      "\n",
      "iteration = 240,   Score = 0.618\n",
      "\n",
      " <E> = "
     ]
    },
    {
     "name": "stdout",
     "output_type": "stream",
     "text": [
      "321.37,  log(Z) = 4.64,   S = 326.02\n",
      " edges: "
     ]
    },
    {
     "name": "stdout",
     "output_type": "stream",
     "text": [
      "228,   elements: 980,   edge complexity: 0.93 %,  elements complexity: 0.01 %\n"
     ]
    },
    {
     "name": "stdout",
     "output_type": "stream",
     "text": [
      "\n",
      "iteration = 260,   Score = 0.638\n",
      "\n",
      " <E> = "
     ]
    },
    {
     "name": "stdout",
     "output_type": "stream",
     "text": [
      "320.51,  log(Z) = 4.98,   S = 325.49\n",
      " edges: "
     ]
    },
    {
     "name": "stdout",
     "output_type": "stream",
     "text": [
      "245,   elements: 1094,   edge complexity: 1.0 %,  elements complexity: 0.01 %\n"
     ]
    },
    {
     "name": "stdout",
     "output_type": "stream",
     "text": [
      "\n",
      "iteration = 280,   Score = 0.658\n",
      "\n",
      " <E> = "
     ]
    },
    {
     "name": "stdout",
     "output_type": "stream",
     "text": [
      "315.7,  log(Z) = 5.46,   S = 321.16\n",
      " edges: "
     ]
    },
    {
     "name": "stdout",
     "output_type": "stream",
     "text": [
      "263,   elements: 1201,   edge complexity: 1.07 %,  elements complexity: 0.01 %\n"
     ]
    },
    {
     "name": "stdout",
     "output_type": "stream",
     "text": [
      "\n",
      "iteration = 300,   Score = 0.675\n",
      "\n",
      " <E> = "
     ]
    },
    {
     "name": "stdout",
     "output_type": "stream",
     "text": [
      "315.35,  log(Z) = 5.81,   S = 321.16\n",
      " edges: "
     ]
    },
    {
     "name": "stdout",
     "output_type": "stream",
     "text": [
      "282,   elements: 1325,   edge complexity: 1.15 %,  elements complexity: 0.01 %\n"
     ]
    },
    {
     "name": "stdout",
     "output_type": "stream",
     "text": [
      "\n",
      "iteration = 320,   Score = 0.692\n",
      "\n",
      " <E> = "
     ]
    },
    {
     "name": "stdout",
     "output_type": "stream",
     "text": [
      "312.15,  log(Z) = 6.14,   S = 318.29\n",
      " edges: "
     ]
    },
    {
     "name": "stdout",
     "output_type": "stream",
     "text": [
      "296,   elements: 1450,   edge complexity: 1.21 %,  elements complexity: 0.01 %\n"
     ]
    },
    {
     "name": "stdout",
     "output_type": "stream",
     "text": [
      "\n",
      "iteration = 340,   Score = 0.708\n",
      "\n",
      " <E> = "
     ]
    },
    {
     "name": "stdout",
     "output_type": "stream",
     "text": [
      "308.01,  log(Z) = 6.65,   S = 314.66\n",
      " edges: "
     ]
    },
    {
     "name": "stdout",
     "output_type": "stream",
     "text": [
      "316,   elements: 1566,   edge complexity: 1.29 %,  elements complexity: 0.01 %\n"
     ]
    },
    {
     "name": "stdout",
     "output_type": "stream",
     "text": [
      "\n",
      "iteration = 360,   Score = 0.722\n",
      "\n",
      " <E> = "
     ]
    },
    {
     "name": "stdout",
     "output_type": "stream",
     "text": [
      "306.25,  log(Z) = 6.99,   S = 313.24\n",
      " edges: "
     ]
    },
    {
     "name": "stdout",
     "output_type": "stream",
     "text": [
      "334,   elements: 1704,   edge complexity: 1.36 %,  elements complexity: 0.02 %\n"
     ]
    },
    {
     "name": "stdout",
     "output_type": "stream",
     "text": [
      "\n",
      "iteration = 380,   Score = 0.733\n",
      "\n",
      " <E> = "
     ]
    },
    {
     "name": "stdout",
     "output_type": "stream",
     "text": [
      "304.41,  log(Z) = 7.25,   S = 311.67\n",
      " edges: "
     ]
    },
    {
     "name": "stdout",
     "output_type": "stream",
     "text": [
      "348,   elements: 1816,   edge complexity: 1.42 %,  elements complexity: 0.02 %\n"
     ]
    },
    {
     "name": "stdout",
     "output_type": "stream",
     "text": [
      "\n",
      "iteration = 400,   Score = 0.738\n",
      "\n",
      " <E> = "
     ]
    },
    {
     "name": "stdout",
     "output_type": "stream",
     "text": [
      "303.47,  log(Z) = 7.73,   S = 311.2\n",
      " edges: "
     ]
    },
    {
     "name": "stdout",
     "output_type": "stream",
     "text": [
      "365,   elements: 1966,   edge complexity: 1.49 %,  elements complexity: 0.02 %\n"
     ]
    },
    {
     "name": "stdout",
     "output_type": "stream",
     "text": [
      "\n",
      "iteration = 420,   Score = 0.746\n",
      "\n",
      " <E> = "
     ]
    },
    {
     "name": "stdout",
     "output_type": "stream",
     "text": [
      "301.36,  log(Z) = 8.22,   S = 309.59\n",
      " edges: "
     ]
    },
    {
     "name": "stdout",
     "output_type": "stream",
     "text": [
      "382,   elements: 2085,   edge complexity: 1.56 %,  elements complexity: 0.02 %\n"
     ]
    },
    {
     "name": "stdout",
     "output_type": "stream",
     "text": [
      "\n",
      "iteration = 440,   Score = 0.755\n",
      "\n",
      " <E> = "
     ]
    },
    {
     "name": "stdout",
     "output_type": "stream",
     "text": [
      "299.24,  log(Z) = 8.52,   S = 307.75\n",
      " edges: "
     ]
    },
    {
     "name": "stdout",
     "output_type": "stream",
     "text": [
      "398,   elements: 2223,   edge complexity: 1.62 %,  elements complexity: 0.02 %\n"
     ]
    },
    {
     "name": "stdout",
     "output_type": "stream",
     "text": [
      "\n",
      "iteration = 460,   Score = 0.761\n",
      "\n",
      " <E> = "
     ]
    },
    {
     "name": "stdout",
     "output_type": "stream",
     "text": [
      "298.44,  log(Z) = 8.86,   S = 307.3\n",
      " edges: "
     ]
    },
    {
     "name": "stdout",
     "output_type": "stream",
     "text": [
      "413,   elements: 2360,   edge complexity: 1.68 %,  elements complexity: 0.02 %\n"
     ]
    },
    {
     "name": "stdout",
     "output_type": "stream",
     "text": [
      "\n",
      "iteration = 480,   Score = 0.769\n",
      "\n",
      " <E> = "
     ]
    },
    {
     "name": "stdout",
     "output_type": "stream",
     "text": [
      "296.46,  log(Z) = 9.11,   S = 305.57\n",
      " edges: "
     ]
    },
    {
     "name": "stdout",
     "output_type": "stream",
     "text": [
      "432,   elements: 2501,   edge complexity: 1.76 %,  elements complexity: 0.02 %\n"
     ]
    },
    {
     "name": "stdout",
     "output_type": "stream",
     "text": [
      "\n",
      "iteration = 500,   Score = 0.779\n",
      "\n",
      " <E> = "
     ]
    },
    {
     "name": "stdout",
     "output_type": "stream",
     "text": [
      "292.87,  log(Z) = 9.62,   S = 302.49\n",
      " edges: "
     ]
    },
    {
     "name": "stdout",
     "output_type": "stream",
     "text": [
      "446,   elements: 2638,   edge complexity: 1.82 %,  elements complexity: 0.02 %\n"
     ]
    },
    {
     "name": "stdout",
     "output_type": "stream",
     "text": [
      "\n",
      "iteration = 520,   Score = 0.785\n",
      "\n",
      " <E> = "
     ]
    },
    {
     "name": "stdout",
     "output_type": "stream",
     "text": [
      "293.38,  log(Z) = 9.94,   S = 303.32\n",
      " edges: "
     ]
    },
    {
     "name": "stdout",
     "output_type": "stream",
     "text": [
      "461,   elements: 2781,   edge complexity: 1.88 %,  elements complexity: 0.03 %\n"
     ]
    },
    {
     "name": "stdout",
     "output_type": "stream",
     "text": [
      "\n",
      "iteration = 540,   Score = 0.794\n",
      "\n",
      " <E> = "
     ]
    },
    {
     "name": "stdout",
     "output_type": "stream",
     "text": [
      "291.47,  log(Z) = 10.41,   S = 301.88\n",
      " edges: "
     ]
    },
    {
     "name": "stdout",
     "output_type": "stream",
     "text": [
      "479,   elements: 2933,   edge complexity: 1.95 %,  elements complexity: 0.03 %\n"
     ]
    },
    {
     "name": "stdout",
     "output_type": "stream",
     "text": [
      "\n",
      "iteration = 560,   Score = 0.8\n",
      "\n",
      " <E> = "
     ]
    },
    {
     "name": "stdout",
     "output_type": "stream",
     "text": [
      "291.01,  log(Z) = 10.89,   S = 301.9\n",
      " edges: "
     ]
    },
    {
     "name": "stdout",
     "output_type": "stream",
     "text": [
      "493,   elements: 3071,   edge complexity: 2.01 %,  elements complexity: 0.03 %\n"
     ]
    },
    {
     "name": "stdout",
     "output_type": "stream",
     "text": [
      "\n",
      "iteration = 580,   Score = 0.807\n",
      "\n",
      " <E> = "
     ]
    },
    {
     "name": "stdout",
     "output_type": "stream",
     "text": [
      "289.18,  log(Z) = 11.24,   S = 300.43\n",
      " edges: "
     ]
    },
    {
     "name": "stdout",
     "output_type": "stream",
     "text": [
      "510,   elements: 3218,   edge complexity: 2.08 %,  elements complexity: 0.03 %\n"
     ]
    },
    {
     "name": "stdout",
     "output_type": "stream",
     "text": [
      "\n",
      "iteration = 600,   Score = 0.812\n",
      "\n",
      " <E> = "
     ]
    },
    {
     "name": "stdout",
     "output_type": "stream",
     "text": [
      "287.31,  log(Z) = 11.74,   S = 299.05\n",
      " edges: "
     ]
    },
    {
     "name": "stdout",
     "output_type": "stream",
     "text": [
      "522,   elements: 3408,   edge complexity: 2.13 %,  elements complexity: 0.03 %\n"
     ]
    },
    {
     "name": "stdout",
     "output_type": "stream",
     "text": [
      "\n",
      "iteration = 620,   Score = 0.818\n",
      "\n",
      " <E> = "
     ]
    },
    {
     "name": "stdout",
     "output_type": "stream",
     "text": [
      "286.47,  log(Z) = 12.18,   S = 298.64\n",
      " edges: "
     ]
    },
    {
     "name": "stdout",
     "output_type": "stream",
     "text": [
      "535,   elements: 3554,   edge complexity: 2.18 %,  elements complexity: 0.03 %\n"
     ]
    },
    {
     "name": "stdout",
     "output_type": "stream",
     "text": [
      "\n",
      "iteration = 640,   Score = 0.822\n",
      "\n",
      " <E> = "
     ]
    },
    {
     "name": "stdout",
     "output_type": "stream",
     "text": [
      "284.49,  log(Z) = 12.65,   S = 297.15\n",
      " edges: "
     ]
    },
    {
     "name": "stdout",
     "output_type": "stream",
     "text": [
      "554,   elements: 3733,   edge complexity: 2.26 %,  elements complexity: 0.03 %\n"
     ]
    },
    {
     "name": "stdout",
     "output_type": "stream",
     "text": [
      "\n",
      "iteration = 660,   Score = 0.829\n",
      "\n",
      " <E> = "
     ]
    },
    {
     "name": "stdout",
     "output_type": "stream",
     "text": [
      "281.64,  log(Z) = 13.15,   S = 294.8\n",
      " edges: "
     ]
    },
    {
     "name": "stdout",
     "output_type": "stream",
     "text": [
      "566,   elements: 3899,   edge complexity: 2.31 %,  elements complexity: 0.04 %\n"
     ]
    },
    {
     "name": "stdout",
     "output_type": "stream",
     "text": [
      "\n",
      "iteration = 680,   Score = 0.829\n",
      "\n",
      " <E> = "
     ]
    },
    {
     "name": "stdout",
     "output_type": "stream",
     "text": [
      "280.68,  log(Z) = 13.55,   S = 294.23\n",
      " edges: "
     ]
    },
    {
     "name": "stdout",
     "output_type": "stream",
     "text": [
      "581,   elements: 4059,   edge complexity: 2.37 %,  elements complexity: 0.04 %\n"
     ]
    },
    {
     "name": "stdout",
     "output_type": "stream",
     "text": [
      "\n",
      "iteration = 700,   Score = 0.836\n",
      "\n",
      " <E> = "
     ]
    },
    {
     "name": "stdout",
     "output_type": "stream",
     "text": [
      "279.12,  log(Z) = 14.11,   S = 293.23\n",
      " edges: "
     ]
    },
    {
     "name": "stdout",
     "output_type": "stream",
     "text": [
      "597,   elements: 4216,   edge complexity: 2.43 %,  elements complexity: 0.04 %\n"
     ]
    },
    {
     "name": "stdout",
     "output_type": "stream",
     "text": [
      "\n",
      "iteration = 720,   Score = 0.836\n",
      "\n",
      " <E> = "
     ]
    },
    {
     "name": "stdout",
     "output_type": "stream",
     "text": [
      "277.73,  log(Z) = 14.57,   S = 292.3\n",
      " edges: "
     ]
    },
    {
     "name": "stdout",
     "output_type": "stream",
     "text": [
      "614,   elements: 4410,   edge complexity: 2.5 %,  elements complexity: 0.04 %\n"
     ]
    },
    {
     "name": "stdout",
     "output_type": "stream",
     "text": [
      "\n",
      "iteration = 740,   Score = 0.842\n",
      "\n",
      " <E> = "
     ]
    },
    {
     "name": "stdout",
     "output_type": "stream",
     "text": [
      "275.47,  log(Z) = 15.0,   S = 290.47\n",
      " edges: "
     ]
    },
    {
     "name": "stdout",
     "output_type": "stream",
     "text": [
      "631,   elements: 4551,   edge complexity: 2.57 %,  elements complexity: 0.04 %\n"
     ]
    },
    {
     "name": "stdout",
     "output_type": "stream",
     "text": [
      "\n",
      "iteration = 760,   Score = 0.846\n",
      "\n",
      " <E> = "
     ]
    },
    {
     "name": "stdout",
     "output_type": "stream",
     "text": [
      "273.15,  log(Z) = 15.55,   S = 288.7\n",
      " edges: "
     ]
    },
    {
     "name": "stdout",
     "output_type": "stream",
     "text": [
      "648,   elements: 4703,   edge complexity: 2.64 %,  elements complexity: 0.04 %\n"
     ]
    },
    {
     "name": "stdout",
     "output_type": "stream",
     "text": [
      "\n",
      "iteration = 780,   Score = 0.85\n",
      "\n",
      " <E> = "
     ]
    },
    {
     "name": "stdout",
     "output_type": "stream",
     "text": [
      "272.43,  log(Z) = 16.0,   S = 288.43\n",
      " edges: "
     ]
    },
    {
     "name": "stdout",
     "output_type": "stream",
     "text": [
      "664,   elements: 4880,   edge complexity: 2.71 %,  elements complexity: 0.05 %\n"
     ]
    },
    {
     "name": "stdout",
     "output_type": "stream",
     "text": [
      "\n",
      "iteration = 800,   Score = 0.855\n",
      "\n",
      " <E> = "
     ]
    },
    {
     "name": "stdout",
     "output_type": "stream",
     "text": [
      "270.93,  log(Z) = 16.49,   S = 287.42\n",
      " edges: "
     ]
    },
    {
     "name": "stdout",
     "output_type": "stream",
     "text": [
      "681,   elements: 5057,   edge complexity: 2.78 %,  elements complexity: 0.05 %\n"
     ]
    },
    {
     "name": "stdout",
     "output_type": "stream",
     "text": [
      "\n",
      "iteration = 820,   Score = 0.857\n",
      "\n",
      " <E> = "
     ]
    },
    {
     "name": "stdout",
     "output_type": "stream",
     "text": [
      "270.5,  log(Z) = 16.98,   S = 287.47\n",
      " edges: "
     ]
    },
    {
     "name": "stdout",
     "output_type": "stream",
     "text": [
      "695,   elements: 5235,   edge complexity: 2.83 %,  elements complexity: 0.05 %\n"
     ]
    },
    {
     "name": "stdout",
     "output_type": "stream",
     "text": [
      "\n",
      "iteration = 840,   Score = 0.859\n",
      "\n",
      " <E> = "
     ]
    },
    {
     "name": "stdout",
     "output_type": "stream",
     "text": [
      "269.48,  log(Z) = 17.46,   S = 286.94\n",
      " edges: "
     ]
    },
    {
     "name": "stdout",
     "output_type": "stream",
     "text": [
      "707,   elements: 5418,   edge complexity: 2.88 %,  elements complexity: 0.05 %\n"
     ]
    },
    {
     "name": "stdout",
     "output_type": "stream",
     "text": [
      "\n",
      "iteration = 860,   Score = 0.863\n",
      "\n",
      " <E> = "
     ]
    },
    {
     "name": "stdout",
     "output_type": "stream",
     "text": [
      "267.79,  log(Z) = 17.82,   S = 285.61\n",
      " edges: "
     ]
    },
    {
     "name": "stdout",
     "output_type": "stream",
     "text": [
      "720,   elements: 5585,   edge complexity: 2.94 %,  elements complexity: 0.05 %\n"
     ]
    },
    {
     "name": "stdout",
     "output_type": "stream",
     "text": [
      "\n",
      "iteration = 880,   Score = 0.867\n",
      "\n",
      " <E> = "
     ]
    },
    {
     "name": "stdout",
     "output_type": "stream",
     "text": [
      "265.43,  log(Z) = 18.23,   S = 283.66\n",
      " edges: "
     ]
    },
    {
     "name": "stdout",
     "output_type": "stream",
     "text": [
      "737,   elements: 5757,   edge complexity: 3.0 %,  elements complexity: 0.05 %\n"
     ]
    },
    {
     "name": "stdout",
     "output_type": "stream",
     "text": [
      "\n",
      "iteration = 900,   Score = 0.869\n",
      "\n",
      " <E> = "
     ]
    },
    {
     "name": "stdout",
     "output_type": "stream",
     "text": [
      "265.4,  log(Z) = 18.65,   S = 284.05\n",
      " edges: "
     ]
    },
    {
     "name": "stdout",
     "output_type": "stream",
     "text": [
      "752,   elements: 5965,   edge complexity: 3.07 %,  elements complexity: 0.06 %\n"
     ]
    },
    {
     "name": "stdout",
     "output_type": "stream",
     "text": [
      "\n",
      "iteration = 920,   Score = 0.87\n",
      "\n",
      " <E> = "
     ]
    },
    {
     "name": "stdout",
     "output_type": "stream",
     "text": [
      "263.22,  log(Z) = 19.17,   S = 282.39\n",
      " edges: "
     ]
    },
    {
     "name": "stdout",
     "output_type": "stream",
     "text": [
      "770,   elements: 6191,   edge complexity: 3.14 %,  elements complexity: 0.06 %\n"
     ]
    },
    {
     "name": "stdout",
     "output_type": "stream",
     "text": [
      "\n",
      "iteration = 940,   Score = 0.873\n",
      "\n",
      " <E> = "
     ]
    },
    {
     "name": "stdout",
     "output_type": "stream",
     "text": [
      "262.28,  log(Z) = 19.64,   S = 281.91\n",
      " edges: "
     ]
    },
    {
     "name": "stdout",
     "output_type": "stream",
     "text": [
      "785,   elements: 6384,   edge complexity: 3.2 %,  elements complexity: 0.06 %\n"
     ]
    },
    {
     "name": "stdout",
     "output_type": "stream",
     "text": [
      "\n",
      "iteration = 960,   Score = 0.875\n",
      "\n",
      " <E> = "
     ]
    },
    {
     "name": "stdout",
     "output_type": "stream",
     "text": [
      "261.51,  log(Z) = 20.05,   S = 281.56\n",
      " edges: "
     ]
    },
    {
     "name": "stdout",
     "output_type": "stream",
     "text": [
      "798,   elements: 6568,   edge complexity: 3.25 %,  elements complexity: 0.06 %\n"
     ]
    },
    {
     "name": "stdout",
     "output_type": "stream",
     "text": [
      "\n",
      "iteration = 980,   Score = 0.875\n",
      "\n",
      " <E> = "
     ]
    },
    {
     "name": "stdout",
     "output_type": "stream",
     "text": [
      "260.69,  log(Z) = 20.47,   S = 281.16\n",
      " edges: "
     ]
    },
    {
     "name": "stdout",
     "output_type": "stream",
     "text": [
      "810,   elements: 6789,   edge complexity: 3.3 %,  elements complexity: 0.06 %\n"
     ]
    },
    {
     "name": "stdout",
     "output_type": "stream",
     "text": [
      "\n",
      "iteration = 1000,   Score = 0.876\n",
      "\n",
      " <E> = "
     ]
    },
    {
     "name": "stdout",
     "output_type": "stream",
     "text": [
      "259.91,  log(Z) = 20.93,   S = 280.84\n",
      " edges: "
     ]
    },
    {
     "name": "stdout",
     "output_type": "stream",
     "text": [
      "820,   elements: 7001,   edge complexity: 3.34 %,  elements complexity: 0.06 %\n"
     ]
    },
    {
     "name": "stdout",
     "output_type": "stream",
     "text": [
      "\n",
      "iteration = 1020,   Score = 0.879\n",
      "\n",
      " <E> = "
     ]
    },
    {
     "name": "stdout",
     "output_type": "stream",
     "text": [
      "257.9,  log(Z) = 21.44,   S = 279.33\n",
      " edges: "
     ]
    },
    {
     "name": "stdout",
     "output_type": "stream",
     "text": [
      "835,   elements: 7221,   edge complexity: 3.4 %,  elements complexity: 0.07 %\n"
     ]
    },
    {
     "name": "stdout",
     "output_type": "stream",
     "text": [
      "\n",
      "iteration = 1040,   Score = 0.88\n",
      "\n",
      " <E> = "
     ]
    },
    {
     "name": "stdout",
     "output_type": "stream",
     "text": [
      "255.71,  log(Z) = 21.96,   S = 277.66\n",
      " edges: "
     ]
    },
    {
     "name": "stdout",
     "output_type": "stream",
     "text": [
      "850,   elements: 7407,   edge complexity: 3.47 %,  elements complexity: 0.07 %\n"
     ]
    },
    {
     "name": "stdout",
     "output_type": "stream",
     "text": [
      "\n",
      "iteration = 1060,   Score = 0.881\n",
      "\n",
      " <E> = "
     ]
    },
    {
     "name": "stdout",
     "output_type": "stream",
     "text": [
      "254.37,  log(Z) = 22.51,   S = 276.88\n",
      " edges: "
     ]
    },
    {
     "name": "stdout",
     "output_type": "stream",
     "text": [
      "863,   elements: 7639,   edge complexity: 3.52 %,  elements complexity: 0.07 %\n"
     ]
    },
    {
     "name": "stdout",
     "output_type": "stream",
     "text": [
      "\n",
      "iteration = 1080,   Score = 0.881\n",
      "\n",
      " <E> = "
     ]
    },
    {
     "name": "stdout",
     "output_type": "stream",
     "text": [
      "253.45,  log(Z) = 23.02,   S = 276.46\n",
      " edges: "
     ]
    },
    {
     "name": "stdout",
     "output_type": "stream",
     "text": [
      "877,   elements: 7909,   edge complexity: 3.58 %,  elements complexity: 0.07 %\n"
     ]
    },
    {
     "name": "stdout",
     "output_type": "stream",
     "text": [
      "\n",
      "iteration = 1100,   Score = 0.884\n",
      "\n",
      " <E> = "
     ]
    },
    {
     "name": "stdout",
     "output_type": "stream",
     "text": [
      "251.85,  log(Z) = 23.53,   S = 275.38\n",
      " edges: "
     ]
    },
    {
     "name": "stdout",
     "output_type": "stream",
     "text": [
      "893,   elements: 8111,   edge complexity: 3.64 %,  elements complexity: 0.07 %\n"
     ]
    },
    {
     "name": "stdout",
     "output_type": "stream",
     "text": [
      "\n",
      "iteration = 1120,   Score = 0.887\n",
      "\n",
      " <E> = "
     ]
    },
    {
     "name": "stdout",
     "output_type": "stream",
     "text": [
      "250.21,  log(Z) = 24.09,   S = 274.3\n",
      " edges: "
     ]
    },
    {
     "name": "stdout",
     "output_type": "stream",
     "text": [
      "908,   elements: 8355,   edge complexity: 3.7 %,  elements complexity: 0.08 %\n"
     ]
    },
    {
     "name": "stdout",
     "output_type": "stream",
     "text": [
      "\n",
      "iteration = 1140,   Score = 0.887\n",
      "\n",
      " <E> = "
     ]
    },
    {
     "name": "stdout",
     "output_type": "stream",
     "text": [
      "249.56,  log(Z) = 24.63,   S = 274.19\n",
      " edges: "
     ]
    },
    {
     "name": "stdout",
     "output_type": "stream",
     "text": [
      "923,   elements: 8594,   edge complexity: 3.76 %,  elements complexity: 0.08 %\n"
     ]
    },
    {
     "name": "stdout",
     "output_type": "stream",
     "text": [
      "\n",
      "iteration = 1160,   Score = 0.89\n",
      "\n",
      " <E> = "
     ]
    },
    {
     "name": "stdout",
     "output_type": "stream",
     "text": [
      "247.84,  log(Z) = 25.1,   S = 272.93\n",
      " edges: "
     ]
    },
    {
     "name": "stdout",
     "output_type": "stream",
     "text": [
      "940,   elements: 8834,   edge complexity: 3.83 %,  elements complexity: 0.08 %\n"
     ]
    },
    {
     "name": "stdout",
     "output_type": "stream",
     "text": [
      "\n",
      "iteration = 1180,   Score = 0.89\n",
      "\n",
      " <E> = "
     ]
    },
    {
     "name": "stdout",
     "output_type": "stream",
     "text": [
      "246.4,  log(Z) = 25.55,   S = 271.95\n",
      " edges: "
     ]
    },
    {
     "name": "stdout",
     "output_type": "stream",
     "text": [
      "952,   elements: 9065,   edge complexity: 3.88 %,  elements complexity: 0.08 %\n"
     ]
    },
    {
     "name": "stdout",
     "output_type": "stream",
     "text": [
      "\n",
      "iteration = 1200,   Score = 0.891\n",
      "\n",
      " <E> = "
     ]
    },
    {
     "name": "stdout",
     "output_type": "stream",
     "text": [
      "245.3,  log(Z) = 25.84,   S = 271.14\n",
      " edges: "
     ]
    },
    {
     "name": "stdout",
     "output_type": "stream",
     "text": [
      "965,   elements: 9271,   edge complexity: 3.93 %,  elements complexity: 0.09 %\n"
     ]
    },
    {
     "name": "stdout",
     "output_type": "stream",
     "text": [
      "\n",
      "iteration = 1220,   Score = 0.895\n",
      "\n",
      " <E> = "
     ]
    },
    {
     "name": "stdout",
     "output_type": "stream",
     "text": [
      "242.95,  log(Z) = 26.37,   S = 269.32\n",
      " edges: "
     ]
    },
    {
     "name": "stdout",
     "output_type": "stream",
     "text": [
      "980,   elements: 9474,   edge complexity: 3.99 %,  elements complexity: 0.09 %\n"
     ]
    },
    {
     "name": "stdout",
     "output_type": "stream",
     "text": [
      "\n",
      "iteration = 1240,   Score = 0.895\n",
      "\n",
      " <E> = "
     ]
    },
    {
     "name": "stdout",
     "output_type": "stream",
     "text": [
      "241.56,  log(Z) = 26.95,   S = 268.5\n",
      " edges: "
     ]
    },
    {
     "name": "stdout",
     "output_type": "stream",
     "text": [
      "998,   elements: 9719,   edge complexity: 4.07 %,  elements complexity: 0.09 %\n"
     ]
    },
    {
     "name": "stdout",
     "output_type": "stream",
     "text": [
      "\n",
      "iteration = 1260,   Score = 0.897\n",
      "\n",
      " <E> = "
     ]
    },
    {
     "name": "stdout",
     "output_type": "stream",
     "text": [
      "240.18,  log(Z) = 27.47,   S = 267.65\n",
      " edges: "
     ]
    },
    {
     "name": "stdout",
     "output_type": "stream",
     "text": [
      "1012,   elements: 9947,   edge complexity: 4.13 %,  elements complexity: 0.09 %\n"
     ]
    },
    {
     "name": "stdout",
     "output_type": "stream",
     "text": [
      "\n",
      "iteration = 1280,   Score = 0.9\n",
      "\n",
      " <E> = "
     ]
    },
    {
     "name": "stdout",
     "output_type": "stream",
     "text": [
      "239.85,  log(Z) = 27.97,   S = 267.82\n",
      " \n",
      "The selceted model has 1028 edges and a score = 0.9\n"
     ]
    }
   ],
   "source": [
    "using Random\n",
    "\n",
    "n_step = 100_000\n",
    "method = \"cumulative\"\n",
    "fraction = 0.3\n",
    "stop = 0.9\n",
    "pseudo_count = 0.1\n",
    "s = time()\n",
    "Random.seed!(2) \n",
    "notebook = \"0.1nb2\"\n",
    "\n",
    "family_name = \"Betalactamases\"\n",
    "score, likelihood_gain, generated_sequences, Jij, h, contact_list, site_degree, edge_list, single_likelihood_gain_vector, path = E_A_A(21, n_step, pseudo_count, 12000, natural_sequences,\"example_output.txt\", family_name, method, notebook, fraction, stop); \n",
    "\n",
    "s = time() - s\n",
    "\n",
    "\n",
    "# SAVE DATA ##################################################################################\n",
    "using JLD\n",
    "init_pseudo_count = 0.01\n",
    "#folder_name = \"../training/\" * method * string(fraction) * \"_stop=\" * string(stop) * \"_reg=\"*string(pseudo_count)*\"_h_ps-count=\" * string(init_pseudo_count) * \"nbook=\"*notebook\n",
    "JLD.save(path*\"/\"*\"score.jld\",\"data\", score)\n",
    "JLD.save(path*\"/\"*\"likelihood_gain.jld\",\"data\", likelihood_gain)\n",
    "JLD.save(path*\"/\"*\"generated_sequences.jld\",\"data\", generated_sequences)\n",
    "JLD.save(path*\"/\"*\"Jij.jld\",\"data\", Jij)\n",
    "JLD.save(path*\"/\"*\"h.jld\",\"data\", h)\n",
    "JLD.save(path*\"/\"*\"contact_list.jld\",\"data\", contact_list)\n",
    "JLD.save(path*\"/\"*\"site_degree.jld\",\"data\", site_degree)\n",
    "JLD.save(path*\"/\"*\"edge_list.jld\",\"data\", edge_list)"
   ]
  },
  {
   "attachments": {},
   "cell_type": "markdown",
   "id": "0c4e1927",
   "metadata": {},
   "source": [
    "## Saving the model"
   ]
  },
  {
   "cell_type": "code",
   "execution_count": null,
   "id": "3919994c",
   "metadata": {},
   "outputs": [],
   "source": [
    "function print_model_to_file_prot(natural_sequences,Jij,h,filename)\n",
    "    open(filename, \"w\") do f\n",
    "        for i in 1:length(natural_sequences[1,:])\n",
    "            for j in i+1:length(natural_sequences[1,:])\n",
    "                for k in 1:21    \n",
    "                    if k==1\n",
    "                        k2=1        \n",
    "                    elseif k==2\n",
    "                        k2=2\n",
    "                    elseif k==3\n",
    "                        k2=3\n",
    "                    elseif k==4\n",
    "                        k2=4\n",
    "                    elseif k==5\n",
    "                        k2=5\n",
    "                    elseif k==6\n",
    "                        k2=6\n",
    "                    elseif k==7\n",
    "                        k2=7\n",
    "                    elseif k==8\n",
    "                        k2=8\n",
    "                    elseif k==9\n",
    "                        k2=9\n",
    "                    elseif k==10\n",
    "                        k2=10\n",
    "                    elseif k==11\n",
    "                        k2=11\n",
    "                    elseif k==12\n",
    "                        k2=12\n",
    "                    elseif k==13\n",
    "                        k2=13\n",
    "                    elseif k==14\n",
    "                        k2=14\n",
    "                    elseif k==15\n",
    "                        k2=15\n",
    "                    elseif k==16\n",
    "                        k2=16\n",
    "                    elseif k==17\n",
    "                        k2=17\n",
    "                    elseif k==18\n",
    "                        k2=18\n",
    "                    elseif k==19\n",
    "                        k2=19\n",
    "                    elseif k==20\n",
    "                        k2=20\n",
    "                    elseif k==21\n",
    "                        k2=0\n",
    "                    end\n",
    "                        \n",
    "                    for l in 1:21\n",
    "                        if l==1\n",
    "                            l2=1\n",
    "                        elseif l==2\n",
    "                            l2=2\n",
    "                        elseif l==3\n",
    "                            l2=3\n",
    "                        elseif l==4\n",
    "                            l2=4\n",
    "                        elseif l==5\n",
    "                            l2=5\n",
    "                        elseif l==6\n",
    "                            l2=6\n",
    "                        elseif l==7\n",
    "                            l2=7\n",
    "                        elseif l==8\n",
    "                            l2=8\n",
    "                        elseif l==9\n",
    "                            l2=9\n",
    "                        elseif l==10\n",
    "                            l2=10\n",
    "                        elseif l==11\n",
    "                            l2=11\n",
    "                        elseif l==12\n",
    "                            l2=12\n",
    "                        elseif l==13\n",
    "                            l2=13\n",
    "                        elseif l==14\n",
    "                            l2=14\n",
    "                        elseif l==15\n",
    "                            l2=15\n",
    "                        elseif l==16\n",
    "                            l2=16\n",
    "                        elseif l==17\n",
    "                            l2=17\n",
    "                        elseif l==18\n",
    "                            l2=18\n",
    "                        elseif l==19\n",
    "                            l2=19\n",
    "                        elseif l==20\n",
    "                            l2=20\n",
    "                        elseif l==21\n",
    "                            l2=0\n",
    "                        end\n",
    "                        opo=Jij[i,j,21*(k-1)+l]\n",
    "                        write(f,\"\\nJ $(i-1) $(j-1) $(k2) $(l2) $opo\" )\n",
    "                    end\n",
    "                end\n",
    "            end\n",
    "        end\n",
    "        for i in 1:length(natural_sequences[1,:])\n",
    "            for j in 1:21          \n",
    "                if j==1\n",
    "                    j2=1\n",
    "                elseif j==2\n",
    "                    j2=2\n",
    "                elseif j==3\n",
    "                    j2=3\n",
    "                elseif j==4\n",
    "                    j2=4\n",
    "                elseif j==5\n",
    "                    j2=5\n",
    "                elseif j==6\n",
    "                    j2=6\n",
    "                elseif j==7\n",
    "                    j2=7\n",
    "                elseif j==8\n",
    "                    j2=8\n",
    "                elseif j==9\n",
    "                    j2=9\n",
    "                elseif j==10\n",
    "                    j2=10\n",
    "                elseif j==11\n",
    "                    j2=11\n",
    "                elseif j==12\n",
    "                    j2=12\n",
    "                elseif j==13\n",
    "                    j2=13\n",
    "                elseif j==14\n",
    "                    j2=14\n",
    "                elseif j==15\n",
    "                    j2=15\n",
    "                elseif j==16\n",
    "                    j2=16\n",
    "                elseif j==17\n",
    "                    j2=17\n",
    "                elseif j==18\n",
    "                    j2=18\n",
    "                elseif j==19\n",
    "                    j2=19\n",
    "                elseif j==20\n",
    "                    j2=20\n",
    "                elseif j==21\n",
    "                    j2=0\n",
    "                end\n",
    "                opo=h[21*(i-1)+j]\n",
    "                write(f,\"\\nh $(i-1) $(j2) $opo\" )\n",
    "            end\n",
    "        end\n",
    "    end\n",
    "end"
   ]
  },
  {
   "cell_type": "code",
   "execution_count": null,
   "id": "1c9c8dd2",
   "metadata": {},
   "outputs": [],
   "source": [
    "filename = \"../saved_models/model_cumulative0.3_stop0.9_pseudocount0.5_init_pscount0.01_nbook3.txt\"\n",
    "print_model_to_file_prot(natural_sequences, Jij, h, filename)"
   ]
  },
  {
   "cell_type": "markdown",
   "metadata": {},
   "source": [
    "<font size=\"3\">The model obtained has a performance comparable to the fully connected DCA while having just ~20% of its connectivity. The entropy of the model is 35.08. This means that it is able to generate e³⁵ (3.5x10¹⁵) different 55-102 segments for the RF00379 family. \\\n",
    "Now we can test our artificial sequences. We do the classical statistical check of the PCA projection and the two-point correlation representation. \\\n",
    "We test the performance of our model against the one of the Covariance Model. The CM model only contains trivial one-point and secondary information so our model must do better than it. </font>"
   ]
  },
  {
   "cell_type": "code",
   "execution_count": null,
   "metadata": {},
   "outputs": [],
   "source": [
    "cm_sequences = rna_cm_model_generation(0.8,0.05,7000,natural_sequences,ss_contact_matrix);\n"
   ]
  },
  {
   "cell_type": "code",
   "execution_count": null,
   "metadata": {},
   "outputs": [],
   "source": [
    "plot_stat_check(natural_sequences, generated_sequences, cm_sequences)"
   ]
  },
  {
   "cell_type": "markdown",
   "metadata": {},
   "source": [
    "<font size=\"3\">The E.A.A. artificial molecules are practically statistically indistinguishable from the natural ones. We see that they have a very similar PCA projection (artificial one seems richer just because we have more artificial sequences than natural ones) while Covariance Model fails to capture the details of the distribution. \n",
    "    The selected model has almost a perfect two-point statistics for all site pairs while the CM model only captures it for the ones involved in secondary structure contacts. \\\n",
    "     </font>\n"
   ]
  },
  {
   "cell_type": "markdown",
   "metadata": {},
   "source": [
    "<font size=\"3\">The interpretability is one of the main reasons in our quest to find parsimonious generative models. Now that we are sure we obtained a good generative model with relatively few parameters we can try to interprete them. \\\n",
    "Dividing the added edges in secondary structure contacts, 3D contacts we have:"
   ]
  },
  {
   "cell_type": "code",
   "execution_count": null,
   "metadata": {},
   "outputs": [],
   "source": [
    "edge_interpretation_plot(len,ss_contact_matrix,tertiary_contact_matrix,edge_list[1:50,:])"
   ]
  },
  {
   "cell_type": "markdown",
   "metadata": {},
   "source": [
    "<font size=\"3\">We see that the secondary structure contacts are taken in the first few iteration. We have lot of neighbouring sites probably due to philogenic effects. It is striking that we see some 3D contacts (in particular around site 40) before the NONE edges. This\n",
    "suggests that our algorithm effectively captures some information about the tertiary structure. \\\n",
    "Those results, that are far more general than this simple example, suggest that the added edges have a co-evolutionary interpretation."
   ]
  },
  {
   "cell_type": "markdown",
   "metadata": {},
   "source": [
    "<font size=\"3\">\n",
    "This notebook serves as an example of the application of the techniques described in the main text.\n"
   ]
  }
 ],
 "metadata": {
  "kernelspec": {
   "display_name": "Julia 1.8.5",
   "language": "julia",
   "name": "julia-1.8"
  },
  "language_info": {
   "file_extension": ".jl",
   "mimetype": "application/julia",
   "name": "julia",
   "version": "1.8.5"
  },
  "vscode": {
   "interpreter": {
    "hash": "6412a36ae9b8109c1adf793ae61659867359f52a3cfb701a53c331fa90dc1d37"
   }
  }
 },
 "nbformat": 4,
 "nbformat_minor": 5
}
