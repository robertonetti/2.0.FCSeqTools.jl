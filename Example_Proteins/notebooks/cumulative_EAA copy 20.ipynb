{
 "cells": [
  {
   "cell_type": "markdown",
   "metadata": {},
   "source": [
    "# Edge Addition Algorithm - simple implementation example"
   ]
  },
  {
   "cell_type": "markdown",
   "metadata": {},
   "source": [
    "<font size=\"3\">Run time is around ~5 minutes with the default input. \\\n",
    "\\\n",
    "In this example we will use the E.A.A. model to build a low-connectivity DCA model. \\\n",
    "The information that we have about the training RNA family consists in: the sequence alignment and the consenus secondary structure (both trough the Covariance Model) and the 3D contacts trough the PDB file. </font> \n"
   ]
  },
  {
   "cell_type": "code",
   "execution_count": 1,
   "id": "20924cd6",
   "metadata": {},
   "outputs": [],
   "source": [
    "include(\"../src/FCSeqTools.jl\");"
   ]
  },
  {
   "cell_type": "markdown",
   "metadata": {},
   "source": [
    "<font size=\"3\">Here is an example of  RF00379 molecule and its associated consensus secondary structure. \\\n",
    "To make the execution faster we will not generate full lenght molecules but just a portion from nucleotide 55 to 102. </font>"
   ]
  },
  {
   "cell_type": "code",
   "execution_count": 2,
   "metadata": {},
   "outputs": [],
   "source": [
    "natural_sequences = do_number_matrix_prot(do_letter_matrix(\"../data/CM_130530_MC.fasta\"), 0.2);"
   ]
  },
  {
   "cell_type": "markdown",
   "metadata": {},
   "source": [
    "<font size=\"3\">Here is a segment example with its associated secondary structure. \\\n",
    "The database has a different size because the data-cleaning procedure depends on the region selected. \\\n",
    "Now we will run the E.A.A. building up our ineraction netwotk edge by edge till we reach a good performance generative model. \\\n",
    "At each iteration the algorithm reports: the added edge, the iteration number, the number of total added edges and the connectivity percentace of the fully connected case.\\\n",
    "Each 15 iterations the algorithm reports: the model score (Pearson between natural and artificial two-point correlations), the model mean energy, the model partition function and the model entropy. "
   ]
  },
  {
   "cell_type": "code",
   "execution_count": 3,
   "metadata": {},
   "outputs": [
    {
     "name": "stdout",
     "output_type": "stream",
     "text": [
      "Fully connected model has 4560 edges, 2010960 elements and a score around ~ 0.95\n"
     ]
    },
    {
     "name": "stdout",
     "output_type": "stream",
     "text": [
      "\n",
      "iteration = 20,   Score = 0.094\n",
      "\n",
      " <E> = "
     ]
    },
    {
     "name": "stdout",
     "output_type": "stream",
     "text": [
      "196.37,  log(Z) = -0.19,   S = 196.18\n",
      " edges: "
     ]
    },
    {
     "name": "stdout",
     "output_type": "stream",
     "text": [
      "20,   elements: 62,   edge complexity: 0.44 %,  elements complexity: 0.0 %\n"
     ]
    },
    {
     "name": "stdout",
     "output_type": "stream",
     "text": [
      "\n",
      "iteration = 40,   Score = 0.155\n",
      "\n",
      " <E> = "
     ]
    },
    {
     "name": "stdout",
     "output_type": "stream",
     "text": [
      "193.93,  log(Z) = -0.52,   S = 193.41\n",
      " edges: "
     ]
    },
    {
     "name": "stdout",
     "output_type": "stream",
     "text": [
      "40,   elements: 155,   edge complexity: 0.88 %,  elements complexity: 0.01 %\n"
     ]
    },
    {
     "name": "stdout",
     "output_type": "stream",
     "text": [
      "\n",
      "iteration = 60,   Score = 0.205\n",
      "\n",
      " <E> = "
     ]
    },
    {
     "name": "stdout",
     "output_type": "stream",
     "text": [
      "192.24,  log(Z) = -1.04,   S = 191.19\n",
      " edges: "
     ]
    },
    {
     "name": "stdout",
     "output_type": "stream",
     "text": [
      "60,   elements: 260,   edge complexity: 1.32 %,  elements complexity: 0.01 %\n"
     ]
    },
    {
     "name": "stdout",
     "output_type": "stream",
     "text": [
      "\n",
      "iteration = 80,   Score = 0.252\n",
      "\n",
      " <E> = "
     ]
    },
    {
     "name": "stdout",
     "output_type": "stream",
     "text": [
      "190.14,  log(Z) = -1.45,   S = 188.69\n",
      " edges: "
     ]
    },
    {
     "name": "stdout",
     "output_type": "stream",
     "text": [
      "77,   elements: 370,   edge complexity: 1.69 %,  elements complexity: 0.02 %\n"
     ]
    },
    {
     "name": "stdout",
     "output_type": "stream",
     "text": [
      "\n",
      "iteration = 100,   Score = 0.297\n",
      "\n",
      " <E> = "
     ]
    },
    {
     "name": "stdout",
     "output_type": "stream",
     "text": [
      "187.61,  log(Z) = -1.51,   S = 186.1\n",
      " edges: "
     ]
    },
    {
     "name": "stdout",
     "output_type": "stream",
     "text": [
      "95,   elements: 469,   edge complexity: 2.08 %,  elements complexity: 0.02 %\n"
     ]
    },
    {
     "name": "stdout",
     "output_type": "stream",
     "text": [
      "\n",
      "iteration = 120,   Score = 0.33\n",
      "\n",
      " <E> = "
     ]
    },
    {
     "name": "stdout",
     "output_type": "stream",
     "text": [
      "186.51,  log(Z) = -1.71,   S = 184.8\n",
      " edges: "
     ]
    },
    {
     "name": "stdout",
     "output_type": "stream",
     "text": [
      "114,   elements: 591,   edge complexity: 2.5 %,  elements complexity: 0.03 %\n"
     ]
    },
    {
     "name": "stdout",
     "output_type": "stream",
     "text": [
      "\n",
      "iteration = 140,   Score = 0.355\n",
      "\n",
      " <E> = "
     ]
    },
    {
     "name": "stdout",
     "output_type": "stream",
     "text": [
      "185.52,  log(Z) = -1.8,   S = 183.72\n",
      " edges: "
     ]
    },
    {
     "name": "stdout",
     "output_type": "stream",
     "text": [
      "134,   elements: 693,   edge complexity: 2.94 %,  elements complexity: 0.03 %\n"
     ]
    },
    {
     "name": "stdout",
     "output_type": "stream",
     "text": [
      "\n",
      "iteration = 160,   Score = 0.405\n",
      "\n",
      " <E> = "
     ]
    },
    {
     "name": "stdout",
     "output_type": "stream",
     "text": [
      "183.91,  log(Z) = -2.11,   S = 181.8\n",
      " edges: "
     ]
    },
    {
     "name": "stdout",
     "output_type": "stream",
     "text": [
      "153,   elements: 785,   edge complexity: 3.36 %,  elements complexity: 0.04 %\n"
     ]
    },
    {
     "name": "stdout",
     "output_type": "stream",
     "text": [
      "\n",
      "iteration = 180,   Score = 0.427\n",
      "\n",
      " <E> = "
     ]
    },
    {
     "name": "stdout",
     "output_type": "stream",
     "text": [
      "181.59,  log(Z) = -2.13,   S = 179.46\n",
      " edges: "
     ]
    },
    {
     "name": "stdout",
     "output_type": "stream",
     "text": [
      "171,   elements: 888,   edge complexity: 3.75 %,  elements complexity: 0.04 %\n"
     ]
    },
    {
     "name": "stdout",
     "output_type": "stream",
     "text": [
      "\n",
      "iteration = 200,   Score = 0.455\n",
      "\n",
      " <E> = "
     ]
    },
    {
     "name": "stdout",
     "output_type": "stream",
     "text": [
      "179.52,  log(Z) = -2.26,   S = 177.25\n",
      " edges: "
     ]
    },
    {
     "name": "stdout",
     "output_type": "stream",
     "text": [
      "188,   elements: 996,   edge complexity: 4.12 %,  elements complexity: 0.05 %\n"
     ]
    },
    {
     "name": "stdout",
     "output_type": "stream",
     "text": [
      "\n",
      "iteration = 220,   Score = 0.483\n",
      "\n",
      " <E> = "
     ]
    },
    {
     "name": "stdout",
     "output_type": "stream",
     "text": [
      "178.18,  log(Z) = -2.24,   S = 175.94\n",
      " edges: "
     ]
    },
    {
     "name": "stdout",
     "output_type": "stream",
     "text": [
      "206,   elements: 1106,   edge complexity: 4.52 %,  elements complexity: 0.05 %\n"
     ]
    },
    {
     "name": "stdout",
     "output_type": "stream",
     "text": [
      "\n",
      "iteration = 240,   Score = 0.506\n",
      "\n",
      " <E> = "
     ]
    },
    {
     "name": "stdout",
     "output_type": "stream",
     "text": [
      "177.05,  log(Z) = -2.46,   S = 174.59\n",
      " edges: "
     ]
    },
    {
     "name": "stdout",
     "output_type": "stream",
     "text": [
      "223,   elements: 1219,   edge complexity: 4.89 %,  elements complexity: 0.06 %\n"
     ]
    },
    {
     "name": "stdout",
     "output_type": "stream",
     "text": [
      "\n",
      "iteration = 260,   Score = 0.528\n",
      "\n",
      " <E> = "
     ]
    },
    {
     "name": "stdout",
     "output_type": "stream",
     "text": [
      "175.63,  log(Z) = -2.43,   S = 173.2\n",
      " edges: 243,   elements: 1342,   edge complexity: 5.33 %,  elements complexity: 0.07 %\n"
     ]
    },
    {
     "name": "stdout",
     "output_type": "stream",
     "text": [
      "\n",
      "iteration = 280,   Score = 0.551\n",
      "\n",
      " <E> = "
     ]
    },
    {
     "name": "stdout",
     "output_type": "stream",
     "text": [
      "173.79,  log(Z) = -2.56,   S = 171.23\n",
      " edges: "
     ]
    },
    {
     "name": "stdout",
     "output_type": "stream",
     "text": [
      "262,   elements: 1475,   edge complexity: 5.75 %,  elements complexity: 0.07 %\n"
     ]
    },
    {
     "name": "stdout",
     "output_type": "stream",
     "text": [
      "\n",
      "iteration = 300,   Score = 0.564\n",
      "\n",
      " <E> = "
     ]
    },
    {
     "name": "stdout",
     "output_type": "stream",
     "text": [
      "172.93,  log(Z) = -2.73,   S = 170.2\n",
      " edges: "
     ]
    },
    {
     "name": "stdout",
     "output_type": "stream",
     "text": [
      "278,   elements: 1605,   edge complexity: 6.1 %,  elements complexity: 0.08 %\n"
     ]
    },
    {
     "name": "stdout",
     "output_type": "stream",
     "text": [
      "\n",
      "iteration = 320,   Score = 0.588\n",
      "\n",
      " <E> = "
     ]
    },
    {
     "name": "stdout",
     "output_type": "stream",
     "text": [
      "171.41,  log(Z) = -2.77,   S = 168.64\n",
      " edges: 298,   elements: 1727,   edge complexity: 6.54 %,  elements complexity: 0.09 %\n"
     ]
    },
    {
     "name": "stdout",
     "output_type": "stream",
     "text": [
      "\n",
      "iteration = 340,   Score = 0.603\n",
      "\n",
      " <E> = "
     ]
    },
    {
     "name": "stdout",
     "output_type": "stream",
     "text": [
      "170.27,  log(Z) = -2.77,   S = 167.5\n",
      " edges: "
     ]
    },
    {
     "name": "stdout",
     "output_type": "stream",
     "text": [
      "316,   elements: 1850,   edge complexity: 6.93 %,  elements complexity: 0.09 %\n"
     ]
    },
    {
     "name": "stdout",
     "output_type": "stream",
     "text": [
      "\n",
      "iteration = 360,   Score = 0.617\n",
      "\n",
      " <E> = "
     ]
    },
    {
     "name": "stdout",
     "output_type": "stream",
     "text": [
      "168.7,  log(Z) = -2.88,   S = 165.82\n",
      " edges: "
     ]
    },
    {
     "name": "stdout",
     "output_type": "stream",
     "text": [
      "334,   elements: 1993,   edge complexity: 7.32 %,  elements complexity: 0.1 %\n"
     ]
    },
    {
     "name": "stdout",
     "output_type": "stream",
     "text": [
      "\n",
      "iteration = 380,   Score = 0.627\n",
      "\n",
      " <E> = "
     ]
    },
    {
     "name": "stdout",
     "output_type": "stream",
     "text": [
      "167.77,  log(Z) = -3.07,   S = 164.7\n",
      " edges: 349,   elements: 2124,   edge complexity: 7.65 %,  elements complexity: 0.11 %\n"
     ]
    },
    {
     "name": "stdout",
     "output_type": "stream",
     "text": [
      "\n",
      "iteration = 400,   Score = 0.641\n",
      "\n",
      " <E> = "
     ]
    },
    {
     "name": "stdout",
     "output_type": "stream",
     "text": [
      "167.04,  log(Z) = -3.13,   S = 163.91\n",
      " edges: "
     ]
    },
    {
     "name": "stdout",
     "output_type": "stream",
     "text": [
      "366,   elements: 2280,   edge complexity: 8.03 %,  elements complexity: 0.11 %\n"
     ]
    },
    {
     "name": "stdout",
     "output_type": "stream",
     "text": [
      "\n",
      "iteration = 420,   Score = 0.652\n",
      "\n",
      " <E> = "
     ]
    },
    {
     "name": "stdout",
     "output_type": "stream",
     "text": [
      "165.56,  log(Z) = -3.12,   S = 162.45\n",
      " edges: "
     ]
    },
    {
     "name": "stdout",
     "output_type": "stream",
     "text": [
      "383,   elements: 2422,   edge complexity: 8.4 %,  elements complexity: 0.12 %\n"
     ]
    },
    {
     "name": "stdout",
     "output_type": "stream",
     "text": [
      "\n",
      "iteration = 440,   Score = 0.662\n",
      "\n",
      " <E> = "
     ]
    },
    {
     "name": "stdout",
     "output_type": "stream",
     "text": [
      "163.3,  log(Z) = -3.06,   S = 160.25\n",
      " edges: 399,   elements: 2563,   edge complexity: 8.75 %,  elements complexity: 0.13 %\n"
     ]
    },
    {
     "name": "stdout",
     "output_type": "stream",
     "text": [
      "\n",
      "iteration = 460,   Score = 0.68\n",
      "\n",
      " <E> = "
     ]
    },
    {
     "name": "stdout",
     "output_type": "stream",
     "text": [
      "162.03,  log(Z) = -3.07,   S = 158.96\n",
      " edges: 418,   elements: 2714,   edge complexity: 9.17 %,  elements complexity: 0.13 %\n"
     ]
    },
    {
     "name": "stdout",
     "output_type": "stream",
     "text": [
      "\n",
      "iteration = 480,   Score = 0.688\n",
      "\n",
      " <E> = "
     ]
    },
    {
     "name": "stdout",
     "output_type": "stream",
     "text": [
      "160.39,  log(Z) = -3.12,   S = 157.27\n",
      " edges: "
     ]
    },
    {
     "name": "stdout",
     "output_type": "stream",
     "text": [
      "436,   elements: 2883,   edge complexity: 9.56 %,  elements complexity: 0.14 %\n"
     ]
    },
    {
     "name": "stdout",
     "output_type": "stream",
     "text": [
      "\n",
      "iteration = 500,   Score = 0.696\n",
      "\n",
      " <E> = "
     ]
    },
    {
     "name": "stdout",
     "output_type": "stream",
     "text": [
      "159.74,  log(Z) = -3.19,   S = 156.55\n",
      " edges: "
     ]
    },
    {
     "name": "stdout",
     "output_type": "stream",
     "text": [
      "454,   elements: 3048,   edge complexity: 9.96 %,  elements complexity: 0.15 %\n"
     ]
    },
    {
     "name": "stdout",
     "output_type": "stream",
     "text": [
      "\n",
      "iteration = 520,   Score = 0.707\n",
      "\n",
      " <E> = "
     ]
    },
    {
     "name": "stdout",
     "output_type": "stream",
     "text": [
      "158.13,  log(Z) = -3.03,   S = 155.1\n",
      " edges: 466,   elements: 3193,   edge complexity: 10.22 %,  elements complexity: 0.16 %\n"
     ]
    },
    {
     "name": "stdout",
     "output_type": "stream",
     "text": [
      "\n",
      "iteration = 540,   Score = 0.714\n",
      "\n",
      " <E> = "
     ]
    },
    {
     "name": "stdout",
     "output_type": "stream",
     "text": [
      "157.99,  log(Z) = -3.08,   S = 154.9\n",
      " edges: "
     ]
    },
    {
     "name": "stdout",
     "output_type": "stream",
     "text": [
      "481,   elements: 3393,   edge complexity: 10.55 %,  elements complexity: 0.17 %\n"
     ]
    },
    {
     "name": "stdout",
     "output_type": "stream",
     "text": [
      "\n",
      "iteration = 560,   Score = 0.723\n",
      "\n",
      " <E> = "
     ]
    },
    {
     "name": "stdout",
     "output_type": "stream",
     "text": [
      "157.19,  log(Z) = -3.03,   S = 154.15\n",
      " edges: "
     ]
    },
    {
     "name": "stdout",
     "output_type": "stream",
     "text": [
      "497,   elements: 3565,   edge complexity: 10.9 %,  elements complexity: 0.18 %\n"
     ]
    },
    {
     "name": "stdout",
     "output_type": "stream",
     "text": [
      "\n",
      "iteration = 580,   Score = 0.726\n",
      "\n",
      " <E> = "
     ]
    },
    {
     "name": "stdout",
     "output_type": "stream",
     "text": [
      "155.96,  log(Z) = -2.98,   S = 152.99\n",
      " edges: 515,   elements: 3731,   edge complexity: 11.29 %,  elements complexity: 0.19 %\n"
     ]
    },
    {
     "name": "stdout",
     "output_type": "stream",
     "text": [
      "\n",
      "iteration = 600,   Score = 0.733\n",
      "\n",
      " <E> = "
     ]
    },
    {
     "name": "stdout",
     "output_type": "stream",
     "text": [
      "155.08,  log(Z) = -3.05,   S = 152.03\n",
      " edges: 531,   elements: 3917,   edge complexity: 11.64 %,  elements complexity: 0.19 %\n"
     ]
    },
    {
     "name": "stdout",
     "output_type": "stream",
     "text": [
      "\n",
      "iteration = 620,   Score = 0.741\n",
      "\n",
      " <E> = "
     ]
    },
    {
     "name": "stdout",
     "output_type": "stream",
     "text": [
      "154.18,  log(Z) = -2.99,   S = 151.18\n",
      " edges: "
     ]
    },
    {
     "name": "stdout",
     "output_type": "stream",
     "text": [
      "548,   elements: 4090,   edge complexity: 12.02 %,  elements complexity: 0.2 %\n"
     ]
    },
    {
     "name": "stdout",
     "output_type": "stream",
     "text": [
      "\n",
      "iteration = 640,   Score = 0.749\n",
      "\n",
      " <E> = "
     ]
    },
    {
     "name": "stdout",
     "output_type": "stream",
     "text": [
      "152.41,  log(Z) = -2.95,   S = 149.46\n",
      " edges: 565,   elements: 4243,   edge complexity: 12.39 %,  elements complexity: 0.21 %\n"
     ]
    },
    {
     "name": "stdout",
     "output_type": "stream",
     "text": [
      "\n",
      "iteration = 660,   Score = 0.756\n",
      "\n",
      " <E> = "
     ]
    },
    {
     "name": "stdout",
     "output_type": "stream",
     "text": [
      "151.21,  log(Z) = -2.87,   S = 148.34\n",
      " edges: "
     ]
    },
    {
     "name": "stdout",
     "output_type": "stream",
     "text": [
      "580,   elements: 4415,   edge complexity: 12.72 %,  elements complexity: 0.22 %\n"
     ]
    },
    {
     "name": "stdout",
     "output_type": "stream",
     "text": [
      "\n",
      "iteration = 680,   Score = 0.762\n",
      "\n",
      " <E> = "
     ]
    },
    {
     "name": "stdout",
     "output_type": "stream",
     "text": [
      "150.78,  log(Z) = -2.87,   S = 147.92\n",
      " edges: "
     ]
    },
    {
     "name": "stdout",
     "output_type": "stream",
     "text": [
      "595,   elements: 4592,   edge complexity: 13.05 %,  elements complexity: 0.23 %\n"
     ]
    },
    {
     "name": "stdout",
     "output_type": "stream",
     "text": [
      "\n",
      "iteration = 700,   Score = 0.764\n",
      "\n",
      " <E> = "
     ]
    },
    {
     "name": "stdout",
     "output_type": "stream",
     "text": [
      "149.84,  log(Z) = -2.74,   S = 147.09\n",
      " edges: "
     ]
    },
    {
     "name": "stdout",
     "output_type": "stream",
     "text": [
      "611,   elements: 4753,   edge complexity: 13.4 %,  elements complexity: 0.24 %\n"
     ]
    },
    {
     "name": "stdout",
     "output_type": "stream",
     "text": [
      "\n",
      "iteration = 720,   Score = 0.772\n",
      "\n",
      " <E> = "
     ]
    },
    {
     "name": "stdout",
     "output_type": "stream",
     "text": [
      "148.89,  log(Z) = -2.76,   S = 146.14\n",
      " edges: 625,   elements: 4923,   edge complexity: 13.71 %,  elements complexity: 0.24 %\n"
     ]
    },
    {
     "name": "stdout",
     "output_type": "stream",
     "text": [
      "\n",
      "iteration = 740,   Score = 0.776\n",
      "\n",
      " <E> = "
     ]
    },
    {
     "name": "stdout",
     "output_type": "stream",
     "text": [
      "148.36,  log(Z) = -2.67,   S = 145.69\n",
      " edges: "
     ]
    },
    {
     "name": "stdout",
     "output_type": "stream",
     "text": [
      "643,   elements: 5118,   edge complexity: 14.1 %,  elements complexity: 0.25 %\n"
     ]
    },
    {
     "name": "stdout",
     "output_type": "stream",
     "text": [
      "\n",
      "iteration = 760,   Score = 0.778\n",
      "\n",
      " <E> = "
     ]
    },
    {
     "name": "stdout",
     "output_type": "stream",
     "text": [
      "147.89,  log(Z) = -2.66,   S = 145.23\n",
      " edges: "
     ]
    },
    {
     "name": "stdout",
     "output_type": "stream",
     "text": [
      "659,   elements: 5309,   edge complexity: 14.45 %,  elements complexity: 0.26 %\n"
     ]
    },
    {
     "name": "stdout",
     "output_type": "stream",
     "text": [
      "\n",
      "iteration = 780,   Score = 0.782\n",
      "\n",
      " <E> = "
     ]
    },
    {
     "name": "stdout",
     "output_type": "stream",
     "text": [
      "146.39,  log(Z) = -2.52,   S = 143.87\n",
      " edges: "
     ]
    },
    {
     "name": "stdout",
     "output_type": "stream",
     "text": [
      "672,   elements: 5465,   edge complexity: 14.74 %,  elements complexity: 0.27 %\n"
     ]
    },
    {
     "name": "stdout",
     "output_type": "stream",
     "text": [
      "\n",
      "iteration = 800,   Score = 0.785\n",
      "\n",
      " <E> = "
     ]
    },
    {
     "name": "stdout",
     "output_type": "stream",
     "text": [
      "144.9,  log(Z) = -2.42,   S = 142.48\n",
      " edges: "
     ]
    },
    {
     "name": "stdout",
     "output_type": "stream",
     "text": [
      "685,   elements: 5670,   edge complexity: 15.02 %,  elements complexity: 0.28 %\n"
     ]
    },
    {
     "name": "stdout",
     "output_type": "stream",
     "text": [
      "\n",
      "iteration = 820,   Score = 0.792\n",
      "\n",
      " <E> = "
     ]
    },
    {
     "name": "stdout",
     "output_type": "stream",
     "text": [
      "144.7,  log(Z) = -2.38,   S = 142.32\n",
      " edges: "
     ]
    },
    {
     "name": "stdout",
     "output_type": "stream",
     "text": [
      "701,   elements: 5862,   edge complexity: 15.37 %,  elements complexity: 0.29 %\n"
     ]
    },
    {
     "name": "stdout",
     "output_type": "stream",
     "text": [
      "\n",
      "iteration = 840,   Score = 0.793\n",
      "\n",
      " <E> = "
     ]
    },
    {
     "name": "stdout",
     "output_type": "stream",
     "text": [
      "144.18,  log(Z) = -2.48,   S = 141.71\n",
      " edges: "
     ]
    },
    {
     "name": "stdout",
     "output_type": "stream",
     "text": [
      "714,   elements: 6071,   edge complexity: 15.66 %,  elements complexity: 0.3 %\n"
     ]
    },
    {
     "name": "stdout",
     "output_type": "stream",
     "text": [
      "\n",
      "iteration = 860,   Score = 0.793\n",
      "\n",
      " <E> = "
     ]
    },
    {
     "name": "stdout",
     "output_type": "stream",
     "text": [
      "143.7,  log(Z) = -2.4,   S = 141.3\n",
      " edges: "
     ]
    },
    {
     "name": "stdout",
     "output_type": "stream",
     "text": [
      "725,   elements: 6258,   edge complexity: 15.9 %,  elements complexity: 0.31 %\n"
     ]
    },
    {
     "name": "stdout",
     "output_type": "stream",
     "text": [
      "\n",
      "iteration = 880,   Score = 0.799\n",
      "\n",
      " <E> = "
     ]
    },
    {
     "name": "stdout",
     "output_type": "stream",
     "text": [
      "142.34,  log(Z) = -2.38,   S = 139.96\n",
      " edges: "
     ]
    },
    {
     "name": "stdout",
     "output_type": "stream",
     "text": [
      "742,   elements: 6441,   edge complexity: 16.27 %,  elements complexity: 0.32 %\n"
     ]
    },
    {
     "name": "stdout",
     "output_type": "stream",
     "text": [
      "\n",
      "iteration = 900,   Score = 0.804\n",
      "\n",
      " <E> = "
     ]
    },
    {
     "name": "stdout",
     "output_type": "stream",
     "text": [
      "142.28,  log(Z) = -2.29,   S = 139.98\n",
      " edges: "
     ]
    },
    {
     "name": "stdout",
     "output_type": "stream",
     "text": [
      "758,   elements: 6657,   edge complexity: 16.62 %,  elements complexity: 0.33 %\n"
     ]
    },
    {
     "name": "stdout",
     "output_type": "stream",
     "text": [
      "\n",
      "iteration = 920,   Score = 0.806\n",
      "\n",
      " <E> = "
     ]
    },
    {
     "name": "stdout",
     "output_type": "stream",
     "text": [
      "141.42,  log(Z) = -2.2,   S = 139.22\n",
      " edges: "
     ]
    },
    {
     "name": "stdout",
     "output_type": "stream",
     "text": [
      "773,   elements: 6851,   edge complexity: 16.95 %,  elements complexity: 0.34 %\n"
     ]
    },
    {
     "name": "stdout",
     "output_type": "stream",
     "text": [
      "\n",
      "iteration = 940,   Score = 0.81\n",
      "\n",
      " <E> = "
     ]
    },
    {
     "name": "stdout",
     "output_type": "stream",
     "text": [
      "140.91,  log(Z) = -2.05,   S = 138.86\n",
      " edges: "
     ]
    },
    {
     "name": "stdout",
     "output_type": "stream",
     "text": [
      "786,   elements: 7059,   edge complexity: 17.24 %,  elements complexity: 0.35 %\n"
     ]
    },
    {
     "name": "stdout",
     "output_type": "stream",
     "text": [
      "\n",
      "iteration = 960,   Score = 0.812\n",
      "\n",
      " <E> = "
     ]
    },
    {
     "name": "stdout",
     "output_type": "stream",
     "text": [
      "140.53,  log(Z) = -1.85,   S = 138.68\n",
      " edges: "
     ]
    },
    {
     "name": "stdout",
     "output_type": "stream",
     "text": [
      "801,   elements: 7248,   edge complexity: 17.57 %,  elements complexity: 0.36 %\n"
     ]
    },
    {
     "name": "stdout",
     "output_type": "stream",
     "text": [
      "\n",
      "iteration = 980,   Score = 0.813\n",
      "\n",
      " <E> = "
     ]
    },
    {
     "name": "stdout",
     "output_type": "stream",
     "text": [
      "140.33,  log(Z) = -1.76,   S = 138.57\n",
      " edges: "
     ]
    },
    {
     "name": "stdout",
     "output_type": "stream",
     "text": [
      "814,   elements: 7452,   edge complexity: 17.85 %,  elements complexity: 0.37 %\n"
     ]
    },
    {
     "name": "stdout",
     "output_type": "stream",
     "text": [
      "\n",
      "iteration = 1000,   Score = 0.816\n",
      "\n",
      " <E> = "
     ]
    },
    {
     "name": "stdout",
     "output_type": "stream",
     "text": [
      "138.86,  log(Z) = -1.55,   S = 137.31\n",
      " edges: "
     ]
    },
    {
     "name": "stdout",
     "output_type": "stream",
     "text": [
      "829,   elements: 7633,   edge complexity: 18.18 %,  elements complexity: 0.38 %\n"
     ]
    },
    {
     "name": "stdout",
     "output_type": "stream",
     "text": [
      "\n",
      "iteration = 1020,   Score = 0.821\n",
      "\n",
      " <E> = "
     ]
    },
    {
     "name": "stdout",
     "output_type": "stream",
     "text": [
      "138.36,  log(Z) = -1.51,   S = 136.85\n",
      " edges: "
     ]
    },
    {
     "name": "stdout",
     "output_type": "stream",
     "text": [
      "842,   elements: 7829,   edge complexity: 18.46 %,  elements complexity: 0.39 %\n"
     ]
    },
    {
     "name": "stdout",
     "output_type": "stream",
     "text": [
      "\n",
      "iteration = 1040,   Score = 0.819\n",
      "\n",
      " <E> = "
     ]
    },
    {
     "name": "stdout",
     "output_type": "stream",
     "text": [
      "137.96,  log(Z) = -1.34,   S = 136.61\n",
      " edges: 858,   elements: 8044,   edge complexity: 18.82 %,  elements complexity: 0.4 %\n"
     ]
    },
    {
     "name": "stdout",
     "output_type": "stream",
     "text": [
      "\n",
      "iteration = 1060,   Score = 0.824\n",
      "\n",
      " <E> = "
     ]
    },
    {
     "name": "stdout",
     "output_type": "stream",
     "text": [
      "136.65,  log(Z) = -1.16,   S = 135.49\n",
      " edges: "
     ]
    },
    {
     "name": "stdout",
     "output_type": "stream",
     "text": [
      "876,   elements: 8242,   edge complexity: 19.21 %,  elements complexity: 0.41 %\n"
     ]
    },
    {
     "name": "stdout",
     "output_type": "stream",
     "text": [
      "\n",
      "iteration = 1080,   Score = 0.826\n",
      "\n",
      " <E> = "
     ]
    },
    {
     "name": "stdout",
     "output_type": "stream",
     "text": [
      "136.11,  log(Z) = -0.93,   S = 135.18\n",
      " edges: "
     ]
    },
    {
     "name": "stdout",
     "output_type": "stream",
     "text": [
      "893,   elements: 8449,   edge complexity: 19.58 %,  elements complexity: 0.42 %\n"
     ]
    },
    {
     "name": "stdout",
     "output_type": "stream",
     "text": [
      "\n",
      "iteration = 1100,   Score = 0.83\n",
      "\n",
      " <E> = "
     ]
    },
    {
     "name": "stdout",
     "output_type": "stream",
     "text": [
      "135.2,  log(Z) = -0.76,   S = 134.44\n",
      " edges: "
     ]
    },
    {
     "name": "stdout",
     "output_type": "stream",
     "text": [
      "907,   elements: 8650,   edge complexity: 19.89 %,  elements complexity: 0.43 %\n"
     ]
    },
    {
     "name": "stdout",
     "output_type": "stream",
     "text": [
      "\n",
      "iteration = 1120,   Score = 0.834\n",
      "\n",
      " <E> = "
     ]
    },
    {
     "name": "stdout",
     "output_type": "stream",
     "text": [
      "134.49,  log(Z) = -0.59,   S = 133.91\n",
      " edges: "
     ]
    },
    {
     "name": "stdout",
     "output_type": "stream",
     "text": [
      "923,   elements: 8849,   edge complexity: 20.24 %,  elements complexity: 0.44 %\n"
     ]
    },
    {
     "name": "stdout",
     "output_type": "stream",
     "text": [
      "\n",
      "iteration = 1140,   Score = 0.834\n",
      "\n",
      " <E> = "
     ]
    },
    {
     "name": "stdout",
     "output_type": "stream",
     "text": [
      "133.89,  log(Z) = -0.49,   S = 133.4\n",
      " edges: "
     ]
    },
    {
     "name": "stdout",
     "output_type": "stream",
     "text": [
      "935,   elements: 9061,   edge complexity: 20.5 %,  elements complexity: 0.45 %\n"
     ]
    },
    {
     "name": "stdout",
     "output_type": "stream",
     "text": [
      "\n",
      "iteration = 1160,   Score = 0.835\n",
      "\n",
      " <E> = "
     ]
    },
    {
     "name": "stdout",
     "output_type": "stream",
     "text": [
      "133.23,  log(Z) = -0.35,   S = 132.88\n",
      " edges: "
     ]
    },
    {
     "name": "stdout",
     "output_type": "stream",
     "text": [
      "948,   elements: 9257,   edge complexity: 20.79 %,  elements complexity: 0.46 %\n"
     ]
    },
    {
     "name": "stdout",
     "output_type": "stream",
     "text": [
      "\n",
      "iteration = 1180,   Score = 0.836\n",
      "\n",
      " <E> = "
     ]
    },
    {
     "name": "stdout",
     "output_type": "stream",
     "text": [
      "133.19,  log(Z) = -0.22,   S = 132.97\n",
      " edges: "
     ]
    },
    {
     "name": "stdout",
     "output_type": "stream",
     "text": [
      "963,   elements: 9457,   edge complexity: 21.12 %,  elements complexity: 0.47 %\n"
     ]
    },
    {
     "name": "stdout",
     "output_type": "stream",
     "text": [
      "\n",
      "iteration = 1200,   Score = 0.838\n",
      "\n",
      " <E> = "
     ]
    },
    {
     "name": "stdout",
     "output_type": "stream",
     "text": [
      "131.72,  log(Z) = -0.04,   S = 131.68\n",
      " edges: "
     ]
    },
    {
     "name": "stdout",
     "output_type": "stream",
     "text": [
      "975,   elements: 9664,   edge complexity: 21.38 %,  elements complexity: 0.48 %\n"
     ]
    },
    {
     "name": "stdout",
     "output_type": "stream",
     "text": [
      "\n",
      "iteration = 1220,   Score = 0.839\n",
      "\n",
      " <E> = "
     ]
    },
    {
     "name": "stdout",
     "output_type": "stream",
     "text": [
      "131.45,  log(Z) = 0.05,   S = 131.5\n",
      " edges: 989,   elements: 9891,   edge complexity: 21.69 %,  elements complexity: 0.49 %\n"
     ]
    },
    {
     "name": "stdout",
     "output_type": "stream",
     "text": [
      "\n",
      "iteration = 1240,   Score = 0.841\n",
      "\n",
      " <E> = "
     ]
    },
    {
     "name": "stdout",
     "output_type": "stream",
     "text": [
      "130.43,  log(Z) = 0.12,   S = 130.55\n",
      " edges: 1001,   elements: 10108,   edge complexity: 21.95 %,  elements complexity: 0.5 %\n"
     ]
    },
    {
     "name": "stdout",
     "output_type": "stream",
     "text": [
      "\n",
      "iteration = 1260,   Score = 0.845\n",
      "\n",
      " <E> = "
     ]
    },
    {
     "name": "stdout",
     "output_type": "stream",
     "text": [
      "129.89,  log(Z) = 0.16,   S = 130.06\n",
      " edges: "
     ]
    },
    {
     "name": "stdout",
     "output_type": "stream",
     "text": [
      "1016,   elements: 10306,   edge complexity: 22.28 %,  elements complexity: 0.51 %\n"
     ]
    },
    {
     "name": "stdout",
     "output_type": "stream",
     "text": [
      "\n",
      "iteration = 1280,   Score = 0.846\n",
      "\n",
      " <E> = "
     ]
    },
    {
     "name": "stdout",
     "output_type": "stream",
     "text": [
      "129.34,  log(Z) = 0.19,   S = 129.52\n",
      " edges: "
     ]
    },
    {
     "name": "stdout",
     "output_type": "stream",
     "text": [
      "1032,   elements: 10506,   edge complexity: 22.63 %,  elements complexity: 0.52 %\n"
     ]
    },
    {
     "name": "stdout",
     "output_type": "stream",
     "text": [
      "\n",
      "iteration = 1300,   Score = 0.848\n",
      "\n",
      " <E> = "
     ]
    },
    {
     "name": "stdout",
     "output_type": "stream",
     "text": [
      "128.58,  log(Z) = 0.29,   S = 128.87\n",
      " edges: "
     ]
    },
    {
     "name": "stdout",
     "output_type": "stream",
     "text": [
      "1048,   elements: 10723,   edge complexity: 22.98 %,  elements complexity: 0.53 %\n"
     ]
    },
    {
     "name": "stdout",
     "output_type": "stream",
     "text": [
      "\n",
      "iteration = 1320,   Score = 0.85\n",
      "\n",
      " <E> = "
     ]
    },
    {
     "name": "stdout",
     "output_type": "stream",
     "text": [
      "128.53,  log(Z) = 0.37,   S = 128.89\n",
      " edges: "
     ]
    },
    {
     "name": "stdout",
     "output_type": "stream",
     "text": [
      "1061,   elements: 10913,   edge complexity: 23.27 %,  elements complexity: 0.54 %\n"
     ]
    },
    {
     "name": "stdout",
     "output_type": "stream",
     "text": [
      "\n",
      "iteration = 1340,   Score = 0.851\n",
      "\n",
      " <E> = "
     ]
    },
    {
     "name": "stdout",
     "output_type": "stream",
     "text": [
      "127.84,  log(Z) = 0.54,   S = 128.37\n",
      " edges: "
     ]
    },
    {
     "name": "stdout",
     "output_type": "stream",
     "text": [
      "1076,   elements: 11122,   edge complexity: 23.6 %,  elements complexity: 0.55 %\n"
     ]
    },
    {
     "name": "stdout",
     "output_type": "stream",
     "text": [
      "\n",
      "iteration = 1360,   Score = 0.853\n",
      "\n",
      " <E> = "
     ]
    },
    {
     "name": "stdout",
     "output_type": "stream",
     "text": [
      "127.2,  log(Z) = 0.69,   S = 127.89\n",
      " edges: "
     ]
    },
    {
     "name": "stdout",
     "output_type": "stream",
     "text": [
      "1091,   elements: 11318,   edge complexity: 23.93 %,  elements complexity: 0.56 %\n"
     ]
    },
    {
     "name": "stdout",
     "output_type": "stream",
     "text": [
      "\n",
      "iteration = 1380,   Score = 0.856\n",
      "\n",
      " <E> = "
     ]
    },
    {
     "name": "stdout",
     "output_type": "stream",
     "text": [
      "126.04,  log(Z) = 0.87,   S = 126.91\n",
      " edges: "
     ]
    },
    {
     "name": "stdout",
     "output_type": "stream",
     "text": [
      "1105,   elements: 11528,   edge complexity: 24.23 %,  elements complexity: 0.57 %\n"
     ]
    },
    {
     "name": "stdout",
     "output_type": "stream",
     "text": [
      "\n",
      "iteration = 1400,   Score = 0.856\n",
      "\n",
      " <E> = "
     ]
    },
    {
     "name": "stdout",
     "output_type": "stream",
     "text": [
      "126.08,  log(Z) = 1.04,   S = 127.12\n",
      " edges: "
     ]
    },
    {
     "name": "stdout",
     "output_type": "stream",
     "text": [
      "1122,   elements: 11730,   edge complexity: 24.61 %,  elements complexity: 0.58 %\n"
     ]
    },
    {
     "name": "stdout",
     "output_type": "stream",
     "text": [
      "\n",
      "iteration = 1420,   Score = 0.857\n",
      "\n",
      " <E> = "
     ]
    },
    {
     "name": "stdout",
     "output_type": "stream",
     "text": [
      "125.57,  log(Z) = 1.22,   S = 126.79\n",
      " edges: "
     ]
    },
    {
     "name": "stdout",
     "output_type": "stream",
     "text": [
      "1133,   elements: 11955,   edge complexity: 24.85 %,  elements complexity: 0.59 %\n"
     ]
    },
    {
     "name": "stdout",
     "output_type": "stream",
     "text": [
      "\n",
      "iteration = 1440,   Score = 0.859\n",
      "\n",
      " <E> = "
     ]
    },
    {
     "name": "stdout",
     "output_type": "stream",
     "text": [
      "124.99,  log(Z) = 1.38,   S = 126.38\n",
      " edges: "
     ]
    },
    {
     "name": "stdout",
     "output_type": "stream",
     "text": [
      "1146,   elements: 12167,   edge complexity: 25.13 %,  elements complexity: 0.61 %\n"
     ]
    },
    {
     "name": "stdout",
     "output_type": "stream",
     "text": [
      "\n",
      "iteration = 1460,   Score = 0.859\n",
      "\n",
      " <E> = "
     ]
    },
    {
     "name": "stdout",
     "output_type": "stream",
     "text": [
      "124.55,  log(Z) = 1.46,   S = 126.01\n",
      " edges: "
     ]
    },
    {
     "name": "stdout",
     "output_type": "stream",
     "text": [
      "1159,   elements: 12371,   edge complexity: 25.42 %,  elements complexity: 0.62 %\n"
     ]
    },
    {
     "name": "stdout",
     "output_type": "stream",
     "text": [
      "\n",
      "iteration = 1480,   Score = 0.861\n",
      "\n",
      " <E> = "
     ]
    },
    {
     "name": "stdout",
     "output_type": "stream",
     "text": [
      "123.81,  log(Z) = 1.59,   S = 125.4\n",
      " edges: 1173,   elements: 12537,   edge complexity: 25.72 %,  elements complexity: 0.62 %\n"
     ]
    },
    {
     "name": "stdout",
     "output_type": "stream",
     "text": [
      "\n",
      "iteration = 1500,   Score = 0.864\n",
      "\n",
      " <E> = "
     ]
    },
    {
     "name": "stdout",
     "output_type": "stream",
     "text": [
      "123.24,  log(Z) = 1.74,   S = 124.98\n",
      " edges: "
     ]
    },
    {
     "name": "stdout",
     "output_type": "stream",
     "text": [
      "1188,   elements: 12705,   edge complexity: 26.05 %,  elements complexity: 0.63 %\n"
     ]
    },
    {
     "name": "stdout",
     "output_type": "stream",
     "text": [
      "\n",
      "iteration = 1520,   Score = 0.866\n",
      "\n",
      " <E> = "
     ]
    },
    {
     "name": "stdout",
     "output_type": "stream",
     "text": [
      "121.87,  log(Z) = 1.97,   S = 123.83\n",
      " edges: "
     ]
    },
    {
     "name": "stdout",
     "output_type": "stream",
     "text": [
      "1203,   elements: 12910,   edge complexity: 26.38 %,  elements complexity: 0.64 %\n"
     ]
    },
    {
     "name": "stdout",
     "output_type": "stream",
     "text": [
      "\n",
      "iteration = 1540,   Score = 0.866\n",
      "\n",
      " <E> = "
     ]
    },
    {
     "name": "stdout",
     "output_type": "stream",
     "text": [
      "121.74,  log(Z) = 2.19,   S = 123.94\n",
      " edges: "
     ]
    },
    {
     "name": "stdout",
     "output_type": "stream",
     "text": [
      "1218,   elements: 13131,   edge complexity: 26.71 %,  elements complexity: 0.65 %\n"
     ]
    },
    {
     "name": "stdout",
     "output_type": "stream",
     "text": [
      "\n",
      "iteration = 1560,   Score = 0.865\n",
      "\n",
      " <E> = "
     ]
    },
    {
     "name": "stdout",
     "output_type": "stream",
     "text": [
      "121.31,  log(Z) = 2.32,   S = 123.63\n",
      " edges: "
     ]
    },
    {
     "name": "stdout",
     "output_type": "stream",
     "text": [
      "1229,   elements: 13345,   edge complexity: 26.95 %,  elements complexity: 0.66 %\n"
     ]
    },
    {
     "name": "stdout",
     "output_type": "stream",
     "text": [
      "\n",
      "iteration = 1580,   Score = 0.868\n",
      "\n",
      " <E> = "
     ]
    },
    {
     "name": "stdout",
     "output_type": "stream",
     "text": [
      "121.21,  log(Z) = 2.51,   S = 123.72\n",
      " edges: "
     ]
    },
    {
     "name": "stdout",
     "output_type": "stream",
     "text": [
      "1241,   elements: 13549,   edge complexity: 27.21 %,  elements complexity: 0.67 %\n"
     ]
    },
    {
     "name": "stdout",
     "output_type": "stream",
     "text": [
      "\n",
      "iteration = 1600,   Score = 0.868\n",
      "\n",
      " <E> = "
     ]
    },
    {
     "name": "stdout",
     "output_type": "stream",
     "text": [
      "120.85,  log(Z) = 2.66,   S = 123.51\n",
      " edges: "
     ]
    },
    {
     "name": "stdout",
     "output_type": "stream",
     "text": [
      "1253,   elements: 13770,   edge complexity: 27.48 %,  elements complexity: 0.68 %\n"
     ]
    },
    {
     "name": "stdout",
     "output_type": "stream",
     "text": [
      "\n",
      "iteration = 1620,   Score = 0.871\n",
      "\n",
      " <E> = "
     ]
    },
    {
     "name": "stdout",
     "output_type": "stream",
     "text": [
      "119.86,  log(Z) = 2.91,   S = 122.77\n",
      " edges: "
     ]
    },
    {
     "name": "stdout",
     "output_type": "stream",
     "text": [
      "1268,   elements: 13975,   edge complexity: 27.81 %,  elements complexity: 0.69 %\n"
     ]
    },
    {
     "name": "stdout",
     "output_type": "stream",
     "text": [
      "\n",
      "iteration = 1640,   Score = 0.87\n",
      "\n",
      " <E> = "
     ]
    },
    {
     "name": "stdout",
     "output_type": "stream",
     "text": [
      "119.22,  log(Z) = 2.99,   S = 122.21\n",
      " edges: "
     ]
    },
    {
     "name": "stdout",
     "output_type": "stream",
     "text": [
      "1283,   elements: 14172,   edge complexity: 28.14 %,  elements complexity: 0.7 %\n"
     ]
    },
    {
     "name": "stdout",
     "output_type": "stream",
     "text": [
      "\n",
      "iteration = 1660,   Score = 0.872\n",
      "\n",
      " <E> = "
     ]
    },
    {
     "name": "stdout",
     "output_type": "stream",
     "text": [
      "118.93,  log(Z) = 3.16,   S = 122.08\n",
      " edges: "
     ]
    },
    {
     "name": "stdout",
     "output_type": "stream",
     "text": [
      "1294,   elements: 14408,   edge complexity: 28.38 %,  elements complexity: 0.72 %\n"
     ]
    },
    {
     "name": "stdout",
     "output_type": "stream",
     "text": [
      "\n",
      "iteration = 1680,   Score = 0.87\n",
      "\n",
      " <E> = "
     ]
    },
    {
     "name": "stdout",
     "output_type": "stream",
     "text": [
      "118.41,  log(Z) = 3.36,   S = 121.77\n",
      " edges: 1310,   elements: 14639,   edge complexity: 28.73 %,  elements complexity: 0.73 %\n"
     ]
    },
    {
     "name": "stdout",
     "output_type": "stream",
     "text": [
      "\n",
      "iteration = 1700,   Score = 0.872\n",
      "\n",
      " <E> = "
     ]
    },
    {
     "name": "stdout",
     "output_type": "stream",
     "text": [
      "117.81,  log(Z) = 3.51,   S = 121.33\n",
      " edges: 1324,   elements: 14850,   edge complexity: 29.04 %,  elements complexity: 0.74 %\n"
     ]
    },
    {
     "name": "stdout",
     "output_type": "stream",
     "text": [
      "\n",
      "iteration = 1720,   Score = 0.873\n",
      "\n",
      " <E> = "
     ]
    },
    {
     "name": "stdout",
     "output_type": "stream",
     "text": [
      "116.96,  log(Z) = 3.62,   S = 120.58\n",
      " edges: "
     ]
    },
    {
     "name": "stdout",
     "output_type": "stream",
     "text": [
      "1338,   elements: 15080,   edge complexity: 29.34 %,  elements complexity: 0.75 %\n"
     ]
    },
    {
     "name": "stdout",
     "output_type": "stream",
     "text": [
      "\n",
      "iteration = 1740,   Score = 0.872\n",
      "\n",
      " <E> = "
     ]
    },
    {
     "name": "stdout",
     "output_type": "stream",
     "text": [
      "116.78,  log(Z) = 3.71,   S = 120.49\n",
      " edges: "
     ]
    },
    {
     "name": "stdout",
     "output_type": "stream",
     "text": [
      "1350,   elements: 15317,   edge complexity: 29.61 %,  elements complexity: 0.76 %\n"
     ]
    },
    {
     "name": "stdout",
     "output_type": "stream",
     "text": [
      "\n",
      "iteration = 1760,   Score = 0.874\n",
      "\n",
      " <E> = "
     ]
    },
    {
     "name": "stdout",
     "output_type": "stream",
     "text": [
      "115.89,  log(Z) = 3.86,   S = 119.74\n",
      " edges: "
     ]
    },
    {
     "name": "stdout",
     "output_type": "stream",
     "text": [
      "1360,   elements: 15553,   edge complexity: 29.82 %,  elements complexity: 0.77 %\n"
     ]
    },
    {
     "name": "stdout",
     "output_type": "stream",
     "text": [
      "\n",
      "iteration = 1780,   Score = 0.877\n",
      "\n",
      " <E> = "
     ]
    },
    {
     "name": "stdout",
     "output_type": "stream",
     "text": [
      "115.81,  log(Z) = 3.99,   S = 119.8\n",
      " edges: 1376,   elements: 15732,   edge complexity: 30.18 %,  elements complexity: 0.78 %\n"
     ]
    },
    {
     "name": "stdout",
     "output_type": "stream",
     "text": [
      "\n",
      "iteration = 1800,   Score = 0.879\n",
      "\n",
      " <E> = "
     ]
    },
    {
     "name": "stdout",
     "output_type": "stream",
     "text": [
      "115.48,  log(Z) = 4.18,   S = 119.66\n",
      " edges: 1388,   elements: 15947,   edge complexity: 30.44 %,  elements complexity: 0.79 %\n"
     ]
    },
    {
     "name": "stdout",
     "output_type": "stream",
     "text": [
      "\n",
      "iteration = 1820,   Score = 0.881\n",
      "\n",
      " <E> = "
     ]
    },
    {
     "name": "stdout",
     "output_type": "stream",
     "text": [
      "115.16,  log(Z) = 4.38,   S = 119.54\n",
      " edges: "
     ]
    },
    {
     "name": "stdout",
     "output_type": "stream",
     "text": [
      "1401,   elements: 16192,   edge complexity: 30.72 %,  elements complexity: 0.81 %\n"
     ]
    },
    {
     "name": "stdout",
     "output_type": "stream",
     "text": [
      "\n",
      "iteration = 1840,   Score = 0.881\n",
      "\n",
      " <E> = "
     ]
    },
    {
     "name": "stdout",
     "output_type": "stream",
     "text": [
      "114.89,  log(Z) = 4.55,   S = 119.44\n",
      " edges: "
     ]
    },
    {
     "name": "stdout",
     "output_type": "stream",
     "text": [
      "1415,   elements: 16419,   edge complexity: 31.03 %,  elements complexity: 0.82 %\n"
     ]
    },
    {
     "name": "stdout",
     "output_type": "stream",
     "text": [
      "\n",
      "iteration = 1860,   Score = 0.882\n",
      "\n",
      " <E> = "
     ]
    },
    {
     "name": "stdout",
     "output_type": "stream",
     "text": [
      "114.97,  log(Z) = 4.75,   S = 119.72\n",
      " edges: "
     ]
    },
    {
     "name": "stdout",
     "output_type": "stream",
     "text": [
      "1426,   elements: 16630,   edge complexity: 31.27 %,  elements complexity: 0.83 %\n"
     ]
    },
    {
     "name": "stdout",
     "output_type": "stream",
     "text": [
      "\n",
      "iteration = 1880,   Score = 0.882\n",
      "\n",
      " <E> = "
     ]
    },
    {
     "name": "stdout",
     "output_type": "stream",
     "text": [
      "114.3,  log(Z) = 4.95,   S = 119.25\n",
      " edges: 1439,   elements: 16843,   edge complexity: 31.56 %,  elements complexity: 0.84 %\n"
     ]
    },
    {
     "name": "stdout",
     "output_type": "stream",
     "text": [
      "\n",
      "iteration = 1900,   Score = 0.882\n",
      "\n",
      " <E> = "
     ]
    },
    {
     "name": "stdout",
     "output_type": "stream",
     "text": [
      "113.98,  log(Z) = 5.06,   S = 119.03\n",
      " edges: 1447,   elements: 17079,   edge complexity: 31.73 %,  elements complexity: 0.85 %\n"
     ]
    },
    {
     "name": "stdout",
     "output_type": "stream",
     "text": [
      "\n",
      "iteration = 1920,   Score = 0.882\n",
      "\n",
      " <E> = "
     ]
    },
    {
     "name": "stdout",
     "output_type": "stream",
     "text": [
      "113.42,  log(Z) = 5.28,   S = 118.7\n",
      " edges: "
     ]
    },
    {
     "name": "stdout",
     "output_type": "stream",
     "text": [
      "1459,   elements: 17291,   edge complexity: 32.0 %,  elements complexity: 0.86 %\n"
     ]
    },
    {
     "name": "stdout",
     "output_type": "stream",
     "text": [
      "\n",
      "iteration = 1940,   Score = 0.881\n",
      "\n",
      " <E> = "
     ]
    },
    {
     "name": "stdout",
     "output_type": "stream",
     "text": [
      "113.08,  log(Z) = 5.39,   S = 118.47\n",
      " edges: "
     ]
    },
    {
     "name": "stdout",
     "output_type": "stream",
     "text": [
      "1475,   elements: 17516,   edge complexity: 32.35 %,  elements complexity: 0.87 %\n"
     ]
    },
    {
     "name": "stdout",
     "output_type": "stream",
     "text": [
      "\n",
      "iteration = 1960,   Score = 0.885\n",
      "\n",
      " <E> = "
     ]
    },
    {
     "name": "stdout",
     "output_type": "stream",
     "text": [
      "111.67,  log(Z) = 5.59,   S = 117.26\n",
      " edges: "
     ]
    },
    {
     "name": "stdout",
     "output_type": "stream",
     "text": [
      "1489,   elements: 17759,   edge complexity: 32.65 %,  elements complexity: 0.88 %\n"
     ]
    },
    {
     "name": "stdout",
     "output_type": "stream",
     "text": [
      "\n",
      "iteration = 1980,   Score = 0.886\n",
      "\n",
      " <E> = "
     ]
    },
    {
     "name": "stdout",
     "output_type": "stream",
     "text": [
      "111.06,  log(Z) = 5.69,   S = 116.75\n",
      " edges: "
     ]
    },
    {
     "name": "stdout",
     "output_type": "stream",
     "text": [
      "1500,   elements: 17968,   edge complexity: 32.89 %,  elements complexity: 0.89 %\n"
     ]
    },
    {
     "name": "stdout",
     "output_type": "stream",
     "text": [
      "\n",
      "iteration = 2000,   Score = 0.886\n",
      "\n",
      " <E> = "
     ]
    },
    {
     "name": "stdout",
     "output_type": "stream",
     "text": [
      "110.94,  log(Z) = 5.88,   S = 116.83\n",
      " edges: "
     ]
    },
    {
     "name": "stdout",
     "output_type": "stream",
     "text": [
      "1511,   elements: 18178,   edge complexity: 33.14 %,  elements complexity: 0.9 %\n"
     ]
    },
    {
     "name": "stdout",
     "output_type": "stream",
     "text": [
      "\n",
      "iteration = 2020,   Score = 0.887\n",
      "\n",
      " <E> = "
     ]
    },
    {
     "name": "stdout",
     "output_type": "stream",
     "text": [
      "110.35,  log(Z) = 5.99,   S = 116.34\n",
      " edges: "
     ]
    },
    {
     "name": "stdout",
     "output_type": "stream",
     "text": [
      "1524,   elements: 18411,   edge complexity: 33.42 %,  elements complexity: 0.92 %\n"
     ]
    },
    {
     "name": "stdout",
     "output_type": "stream",
     "text": [
      "\n",
      "iteration = 2040,   Score = 0.887\n",
      "\n",
      " <E> = "
     ]
    },
    {
     "name": "stdout",
     "output_type": "stream",
     "text": [
      "110.02,  log(Z) = 6.11,   S = 116.13\n",
      " edges: "
     ]
    },
    {
     "name": "stdout",
     "output_type": "stream",
     "text": [
      "1534,   elements: 18691,   edge complexity: 33.64 %,  elements complexity: 0.93 %\n"
     ]
    },
    {
     "name": "stdout",
     "output_type": "stream",
     "text": [
      "\n",
      "iteration = 2060,   Score = 0.887\n",
      "\n",
      " <E> = "
     ]
    },
    {
     "name": "stdout",
     "output_type": "stream",
     "text": [
      "109.94,  log(Z) = 6.31,   S = 116.24\n",
      " edges: 1545,   elements: 18899,   edge complexity: 33.88 %,  elements complexity: 0.94 %\n"
     ]
    },
    {
     "name": "stdout",
     "output_type": "stream",
     "text": [
      "\n",
      "iteration = 2080,   Score = 0.889\n",
      "\n",
      " <E> = "
     ]
    },
    {
     "name": "stdout",
     "output_type": "stream",
     "text": [
      "110.06,  log(Z) = 6.46,   S = 116.52\n",
      " edges: "
     ]
    },
    {
     "name": "stdout",
     "output_type": "stream",
     "text": [
      "1557,   elements: 19126,   edge complexity: 34.14 %,  elements complexity: 0.95 %\n"
     ]
    },
    {
     "name": "stdout",
     "output_type": "stream",
     "text": [
      "\n",
      "iteration = 2100,   Score = 0.89\n",
      "\n",
      " <E> = "
     ]
    },
    {
     "name": "stdout",
     "output_type": "stream",
     "text": [
      "108.98,  log(Z) = 6.63,   S = 115.61\n",
      " edges: "
     ]
    },
    {
     "name": "stdout",
     "output_type": "stream",
     "text": [
      "1572,   elements: 19367,   edge complexity: 34.47 %,  elements complexity: 0.96 %\n"
     ]
    },
    {
     "name": "stdout",
     "output_type": "stream",
     "text": [
      "\n",
      "iteration = 2120,   Score = 0.892\n",
      "\n",
      " <E> = "
     ]
    },
    {
     "name": "stdout",
     "output_type": "stream",
     "text": [
      "109.01,  log(Z) = 6.81,   S = 115.81\n",
      " edges: "
     ]
    },
    {
     "name": "stdout",
     "output_type": "stream",
     "text": [
      "1581,   elements: 19579,   edge complexity: 34.67 %,  elements complexity: 0.97 %\n"
     ]
    },
    {
     "name": "stdout",
     "output_type": "stream",
     "text": [
      "\n",
      "iteration = 2140,   Score = 0.891\n",
      "\n",
      " <E> = "
     ]
    },
    {
     "name": "stdout",
     "output_type": "stream",
     "text": [
      "108.67,  log(Z) = 6.99,   S = 115.66\n",
      " edges: "
     ]
    },
    {
     "name": "stdout",
     "output_type": "stream",
     "text": [
      "1592,   elements: 19806,   edge complexity: 34.91 %,  elements complexity: 0.98 %\n"
     ]
    },
    {
     "name": "stdout",
     "output_type": "stream",
     "text": [
      "\n",
      "iteration = 2160,   Score = 0.892\n",
      "\n",
      " <E> = "
     ]
    },
    {
     "name": "stdout",
     "output_type": "stream",
     "text": [
      "108.18,  log(Z) = 7.23,   S = 115.4\n",
      " edges: 1603,   elements: 20017,   edge complexity: 35.15 %,  elements complexity: 1.0 %\n"
     ]
    },
    {
     "name": "stdout",
     "output_type": "stream",
     "text": [
      "\n",
      "iteration = 2180,   Score = 0.894\n",
      "\n",
      " <E> = "
     ]
    },
    {
     "name": "stdout",
     "output_type": "stream",
     "text": [
      "107.19,  log(Z) = 7.49,   S = 114.68\n",
      " edges: 1615,   elements: 20254,   edge complexity: 35.42 %,  elements complexity: 1.01 %\n"
     ]
    },
    {
     "name": "stdout",
     "output_type": "stream",
     "text": [
      "\n",
      "iteration = 2200,   Score = 0.895\n",
      "\n",
      " <E> = "
     ]
    },
    {
     "name": "stdout",
     "output_type": "stream",
     "text": [
      "106.68,  log(Z) = 7.72,   S = 114.4\n",
      " edges: 1626,   elements: 20484,   edge complexity: 35.66 %,  elements complexity: 1.02 %\n"
     ]
    },
    {
     "name": "stdout",
     "output_type": "stream",
     "text": [
      "\n",
      "iteration = 2220,   Score = 0.894\n",
      "\n",
      " <E> = "
     ]
    },
    {
     "name": "stdout",
     "output_type": "stream",
     "text": [
      "106.2,  log(Z) = 7.88,   S = 114.08\n",
      " edges: 1636,   elements: 20726,   edge complexity: 35.88 %,  elements complexity: 1.03 %\n"
     ]
    },
    {
     "name": "stdout",
     "output_type": "stream",
     "text": [
      "\n",
      "iteration = 2240,   Score = 0.894\n",
      "\n",
      " <E> = "
     ]
    },
    {
     "name": "stdout",
     "output_type": "stream",
     "text": [
      "105.93,  log(Z) = 8.04,   S = 113.97\n",
      " edges: 1646,   elements: 20972,   edge complexity: 36.1 %,  elements complexity: 1.04 %\n"
     ]
    },
    {
     "name": "stdout",
     "output_type": "stream",
     "text": [
      "\n",
      "iteration = 2260,   Score = 0.894\n",
      "\n",
      " <E> = "
     ]
    },
    {
     "name": "stdout",
     "output_type": "stream",
     "text": [
      "105.08,  log(Z) = 8.19,   S = 113.27\n",
      " edges: "
     ]
    },
    {
     "name": "stdout",
     "output_type": "stream",
     "text": [
      "1660,   elements: 21212,   edge complexity: 36.4 %,  elements complexity: 1.05 %\n"
     ]
    },
    {
     "name": "stdout",
     "output_type": "stream",
     "text": [
      "\n",
      "iteration = 2280,   Score = 0.896\n",
      "\n",
      " <E> = "
     ]
    },
    {
     "name": "stdout",
     "output_type": "stream",
     "text": [
      "104.83,  log(Z) = 8.4,   S = 113.24\n",
      " edges: 1671,   elements: 21454,   edge complexity: 36.64 %,  elements complexity: 1.07 %\n"
     ]
    },
    {
     "name": "stdout",
     "output_type": "stream",
     "text": [
      "\n",
      "iteration = 2300,   Score = 0.896\n",
      "\n",
      " <E> = "
     ]
    },
    {
     "name": "stdout",
     "output_type": "stream",
     "text": [
      "104.63,  log(Z) = 8.6,   S = 113.23\n",
      " edges: 1682,   elements: 21669,   edge complexity: 36.89 %,  elements complexity: 1.08 %\n"
     ]
    },
    {
     "name": "stdout",
     "output_type": "stream",
     "text": [
      "\n",
      "iteration = 2320,   Score = 0.896\n",
      "\n",
      " <E> = "
     ]
    },
    {
     "name": "stdout",
     "output_type": "stream",
     "text": [
      "103.9,  log(Z) = 8.78,   S = 112.68\n",
      " edges: 1693,   elements: 21908,   edge complexity: 37.13 %,  elements complexity: 1.09 %\n"
     ]
    },
    {
     "name": "stdout",
     "output_type": "stream",
     "text": [
      "\n",
      "iteration = 2340,   Score = 0.898\n",
      "\n",
      " <E> = "
     ]
    },
    {
     "name": "stdout",
     "output_type": "stream",
     "text": [
      "103.67,  log(Z) = 8.94,   S = 112.61\n",
      " edges: 1705,   elements: 22122,   edge complexity: 37.39 %,  elements complexity: 1.1 %\n"
     ]
    },
    {
     "name": "stdout",
     "output_type": "stream",
     "text": [
      "\n",
      "iteration = 2360,   Score = 0.898\n",
      "\n",
      " <E> = "
     ]
    },
    {
     "name": "stdout",
     "output_type": "stream",
     "text": [
      "103.81,  log(Z) = 9.09,   S = 112.9\n",
      " edges: 1715,   elements: 22330,   edge complexity: 37.61 %,  elements complexity: 1.11 %\n"
     ]
    },
    {
     "name": "stdout",
     "output_type": "stream",
     "text": [
      "\n",
      "iteration = 2380,   Score = 0.897\n",
      "\n",
      " <E> = "
     ]
    },
    {
     "name": "stdout",
     "output_type": "stream",
     "text": [
      "102.86,  log(Z) = 9.34,   S = 112.2\n",
      " edges: "
     ]
    },
    {
     "name": "stdout",
     "output_type": "stream",
     "text": [
      "1726,   elements: 22540,   edge complexity: 37.85 %,  elements complexity: 1.12 %\n"
     ]
    },
    {
     "name": "stdout",
     "output_type": "stream",
     "text": [
      "\n",
      "iteration = 2400,   Score = 0.9\n",
      "\n",
      " <E> = "
     ]
    },
    {
     "name": "stdout",
     "output_type": "stream",
     "text": [
      "102.56,  log(Z) = 9.58,   S = 112.14\n",
      " \n",
      "The selceted model has 1736 edges and a score = 0.9\n"
     ]
    },
    {
     "data": {
      "text/plain": [
       "75080.0857720375"
      ]
     },
     "metadata": {},
     "output_type": "display_data"
    }
   ],
   "source": [
    "using Random\n",
    "\n",
    "n_step = 100_000\n",
    "method = \"cumulative\"\n",
    "fraction = 0.3\n",
    "stop = 0.9\n",
    "pseudo_count = 0.6\n",
    "s = time()\n",
    "Random.seed!(2) \n",
    "notebook = \"0.6nb2\"\n",
    "#                                                                                                 #21                 #12000                                           \n",
    "score, likelihood_gain, generated_sequences, Jij, h, contact_list, site_degree, edge_list, path = E_A_A(21, n_step, pseudo_count, 12000, natural_sequences,\"example_output.txt\", method, notebook, fraction, stop); \n",
    "s = time() - s"
   ]
  },
  {
   "attachments": {},
   "cell_type": "markdown",
   "id": "13ebb2d5",
   "metadata": {},
   "source": [
    "## saving data"
   ]
  },
  {
   "cell_type": "code",
   "execution_count": 4,
   "id": "909ba0e5",
   "metadata": {},
   "outputs": [],
   "source": [
    "using JLD\n",
    "\n",
    "init_pseudo_count = 0.01\n",
    "folder_name = \"../training/\" * method * string(fraction) * \"_stop=\" * string(stop) * \"_reg=\"*string(pseudo_count)*\"_h_ps-count=\" * string(init_pseudo_count) * \"nbook=\"*notebook\n",
    "\n",
    "JLD.save(folder_name*\"/\"*\"score.jld\",\"data\", score)\n",
    "JLD.save(folder_name*\"/\"*\"likelihood_gain.jld\",\"data\", likelihood_gain)\n",
    "JLD.save(folder_name*\"/\"*\"generated_sequences.jld\",\"data\", generated_sequences)\n",
    "JLD.save(folder_name*\"/\"*\"Jij.jld\",\"data\", Jij)\n",
    "JLD.save(folder_name*\"/\"*\"h.jld\",\"data\", h)\n",
    "JLD.save(folder_name*\"/\"*\"contact_list.jld\",\"data\", contact_list)\n",
    "JLD.save(folder_name*\"/\"*\"site_degree.jld\",\"data\", site_degree)\n",
    "JLD.save(folder_name*\"/\"*\"edge_list.jld\",\"data\", edge_list)"
   ]
  },
  {
   "attachments": {},
   "cell_type": "markdown",
   "id": "0c4e1927",
   "metadata": {},
   "source": [
    "## Saving the model"
   ]
  },
  {
   "cell_type": "code",
   "execution_count": 21,
   "id": "3919994c",
   "metadata": {},
   "outputs": [
    {
     "data": {
      "text/plain": [
       "print_model_to_file_prot (generic function with 1 method)"
      ]
     },
     "execution_count": 21,
     "metadata": {},
     "output_type": "execute_result"
    }
   ],
   "source": [
    "function print_model_to_file_prot(natural_sequences,Jij,h,filename)\n",
    "    open(filename, \"w\") do f\n",
    "        for i in 1:length(natural_sequences[1,:])\n",
    "            for j in i+1:length(natural_sequences[1,:])\n",
    "                for k in 1:21    \n",
    "                    if k==1\n",
    "                        k2=1        \n",
    "                    elseif k==2\n",
    "                        k2=2\n",
    "                    elseif k==3\n",
    "                        k2=3\n",
    "                    elseif k==4\n",
    "                        k2=4\n",
    "                    elseif k==5\n",
    "                        k2=5\n",
    "                    elseif k==6\n",
    "                        k2=6\n",
    "                    elseif k==7\n",
    "                        k2=7\n",
    "                    elseif k==8\n",
    "                        k2=8\n",
    "                    elseif k==9\n",
    "                        k2=9\n",
    "                    elseif k==10\n",
    "                        k2=10\n",
    "                    elseif k==11\n",
    "                        k2=11\n",
    "                    elseif k==12\n",
    "                        k2=12\n",
    "                    elseif k==13\n",
    "                        k2=13\n",
    "                    elseif k==14\n",
    "                        k2=14\n",
    "                    elseif k==15\n",
    "                        k2=15\n",
    "                    elseif k==16\n",
    "                        k2=16\n",
    "                    elseif k==17\n",
    "                        k2=17\n",
    "                    elseif k==18\n",
    "                        k2=18\n",
    "                    elseif k==19\n",
    "                        k2=19\n",
    "                    elseif k==20\n",
    "                        k2=20\n",
    "                    elseif k==21\n",
    "                        k2=0\n",
    "                    end\n",
    "                        \n",
    "                    for l in 1:21\n",
    "                        if l==1\n",
    "                            l2=1\n",
    "                        elseif l==2\n",
    "                            l2=2\n",
    "                        elseif l==3\n",
    "                            l2=3\n",
    "                        elseif l==4\n",
    "                            l2=4\n",
    "                        elseif l==5\n",
    "                            l2=5\n",
    "                        elseif l==6\n",
    "                            l2=6\n",
    "                        elseif l==7\n",
    "                            l2=7\n",
    "                        elseif l==8\n",
    "                            l2=8\n",
    "                        elseif l==9\n",
    "                            l2=9\n",
    "                        elseif l==10\n",
    "                            l2=10\n",
    "                        elseif l==11\n",
    "                            l2=11\n",
    "                        elseif l==12\n",
    "                            l2=12\n",
    "                        elseif l==13\n",
    "                            l2=13\n",
    "                        elseif l==14\n",
    "                            l2=14\n",
    "                        elseif l==15\n",
    "                            l2=15\n",
    "                        elseif l==16\n",
    "                            l2=16\n",
    "                        elseif l==17\n",
    "                            l2=17\n",
    "                        elseif l==18\n",
    "                            l2=18\n",
    "                        elseif l==19\n",
    "                            l2=19\n",
    "                        elseif l==20\n",
    "                            l2=20\n",
    "                        elseif l==21\n",
    "                            l2=0\n",
    "                        end\n",
    "                        opo=Jij[i,j,21*(k-1)+l]\n",
    "                        write(f,\"\\nJ $(i-1) $(j-1) $(k2) $(l2) $opo\" )\n",
    "                    end\n",
    "                end\n",
    "            end\n",
    "        end\n",
    "        for i in 1:length(natural_sequences[1,:])\n",
    "            for j in 1:21          \n",
    "                if j==1\n",
    "                    j2=1\n",
    "                elseif j==2\n",
    "                    j2=2\n",
    "                elseif j==3\n",
    "                    j2=3\n",
    "                elseif j==4\n",
    "                    j2=4\n",
    "                elseif j==5\n",
    "                    j2=5\n",
    "                elseif j==6\n",
    "                    j2=6\n",
    "                elseif j==7\n",
    "                    j2=7\n",
    "                elseif j==8\n",
    "                    j2=8\n",
    "                elseif j==9\n",
    "                    j2=9\n",
    "                elseif j==10\n",
    "                    j2=10\n",
    "                elseif j==11\n",
    "                    j2=11\n",
    "                elseif j==12\n",
    "                    j2=12\n",
    "                elseif j==13\n",
    "                    j2=13\n",
    "                elseif j==14\n",
    "                    j2=14\n",
    "                elseif j==15\n",
    "                    j2=15\n",
    "                elseif j==16\n",
    "                    j2=16\n",
    "                elseif j==17\n",
    "                    j2=17\n",
    "                elseif j==18\n",
    "                    j2=18\n",
    "                elseif j==19\n",
    "                    j2=19\n",
    "                elseif j==20\n",
    "                    j2=20\n",
    "                elseif j==21\n",
    "                    j2=0\n",
    "                end\n",
    "                opo=h[21*(i-1)+j]\n",
    "                write(f,\"\\nh $(i-1) $(j2) $opo\" )\n",
    "            end\n",
    "        end\n",
    "    end\n",
    "end"
   ]
  },
  {
   "cell_type": "code",
   "execution_count": null,
   "id": "1c9c8dd2",
   "metadata": {},
   "outputs": [],
   "source": [
    "filename = \"../saved_models/model_cumulative0.3_stop0.9_pseudocount0.5_init_pscount0.01_nbook3.txt\"\n",
    "print_model_to_file_prot(natural_sequences, Jij, h, filename)"
   ]
  },
  {
   "cell_type": "markdown",
   "metadata": {},
   "source": [
    "<font size=\"3\">The model obtained has a performance comparable to the fully connected DCA while having just ~20% of its connectivity. The entropy of the model is 35.08. This means that it is able to generate e³⁵ (3.5x10¹⁵) different 55-102 segments for the RF00379 family. \\\n",
    "Now we can test our artificial sequences. We do the classical statistical check of the PCA projection and the two-point correlation representation. \\\n",
    "We test the performance of our model against the one of the Covariance Model. The CM model only contains trivial one-point and secondary information so our model must do better than it. </font>"
   ]
  },
  {
   "cell_type": "code",
   "execution_count": null,
   "metadata": {},
   "outputs": [],
   "source": [
    "cm_sequences = rna_cm_model_generation(0.8,0.05,7000,natural_sequences,ss_contact_matrix);\n"
   ]
  },
  {
   "cell_type": "code",
   "execution_count": null,
   "metadata": {},
   "outputs": [],
   "source": [
    "plot_stat_check(natural_sequences, generated_sequences, cm_sequences)"
   ]
  },
  {
   "cell_type": "markdown",
   "metadata": {},
   "source": [
    "<font size=\"3\">The E.A.A. artificial molecules are practically statistically indistinguishable from the natural ones. We see that they have a very similar PCA projection (artificial one seems richer just because we have more artificial sequences than natural ones) while Covariance Model fails to capture the details of the distribution. \n",
    "    The selected model has almost a perfect two-point statistics for all site pairs while the CM model only captures it for the ones involved in secondary structure contacts. \\\n",
    "     </font>\n"
   ]
  },
  {
   "cell_type": "markdown",
   "metadata": {},
   "source": [
    "<font size=\"3\">The interpretability is one of the main reasons in our quest to find parsimonious generative models. Now that we are sure we obtained a good generative model with relatively few parameters we can try to interprete them. \\\n",
    "Dividing the added edges in secondary structure contacts, 3D contacts we have:"
   ]
  },
  {
   "cell_type": "code",
   "execution_count": null,
   "metadata": {},
   "outputs": [],
   "source": [
    "edge_interpretation_plot(len,ss_contact_matrix,tertiary_contact_matrix,edge_list[1:50,:])"
   ]
  },
  {
   "cell_type": "markdown",
   "metadata": {},
   "source": [
    "<font size=\"3\">We see that the secondary structure contacts are taken in the first few iteration. We have lot of neighbouring sites probably due to philogenic effects. It is striking that we see some 3D contacts (in particular around site 40) before the NONE edges. This\n",
    "suggests that our algorithm effectively captures some information about the tertiary structure. \\\n",
    "Those results, that are far more general than this simple example, suggest that the added edges have a co-evolutionary interpretation."
   ]
  },
  {
   "cell_type": "markdown",
   "metadata": {},
   "source": [
    "<font size=\"3\">\n",
    "This notebook serves as an example of the application of the techniques described in the main text.\n"
   ]
  }
 ],
 "metadata": {
  "kernelspec": {
   "display_name": "Julia 1.8.5",
   "language": "julia",
   "name": "julia-1.8"
  },
  "language_info": {
   "file_extension": ".jl",
   "mimetype": "application/julia",
   "name": "julia",
   "version": "1.8.5"
  },
  "vscode": {
   "interpreter": {
    "hash": "6412a36ae9b8109c1adf793ae61659867359f52a3cfb701a53c331fa90dc1d37"
   }
  }
 },
 "nbformat": 4,
 "nbformat_minor": 5
}
