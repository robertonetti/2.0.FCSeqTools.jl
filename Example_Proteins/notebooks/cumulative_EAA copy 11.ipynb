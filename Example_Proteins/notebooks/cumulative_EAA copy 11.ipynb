{
 "cells": [
  {
   "cell_type": "markdown",
   "metadata": {},
   "source": [
    "# Edge Addition Algorithm - simple implementation example"
   ]
  },
  {
   "cell_type": "markdown",
   "metadata": {},
   "source": [
    "<font size=\"3\">Run time is around ~5 minutes with the default input. \\\n",
    "\\\n",
    "In this example we will use the E.A.A. model to build a low-connectivity DCA model. \\\n",
    "The information that we have about the training RNA family consists in: the sequence alignment and the consenus secondary structure (both trough the Covariance Model) and the 3D contacts trough the PDB file. </font> \n"
   ]
  },
  {
   "cell_type": "code",
   "execution_count": 1,
   "id": "20924cd6",
   "metadata": {},
   "outputs": [],
   "source": [
    "include(\"../src/FCSeqTools.jl\");"
   ]
  },
  {
   "cell_type": "markdown",
   "metadata": {},
   "source": [
    "<font size=\"3\">Here is an example of  RF00379 molecule and its associated consensus secondary structure. \\\n",
    "To make the execution faster we will not generate full lenght molecules but just a portion from nucleotide 55 to 102. </font>"
   ]
  },
  {
   "cell_type": "code",
   "execution_count": 2,
   "metadata": {},
   "outputs": [],
   "source": [
    "natural_sequences = do_number_matrix_prot(do_letter_matrix(\"../data/Betalactamases_VIM-NDM.fasta\"), 0.2);\n"
   ]
  },
  {
   "cell_type": "markdown",
   "metadata": {},
   "source": [
    "<font size=\"3\">Here is a segment example with its associated secondary structure. \\\n",
    "The database has a different size because the data-cleaning procedure depends on the region selected. \\\n",
    "Now we will run the E.A.A. building up our ineraction netwotk edge by edge till we reach a good performance generative model. \\\n",
    "At each iteration the algorithm reports: the added edge, the iteration number, the number of total added edges and the connectivity percentace of the fully connected case.\\\n",
    "Each 15 iterations the algorithm reports: the model score (Pearson between natural and artificial two-point correlations), the model mean energy, the model partition function and the model entropy. "
   ]
  },
  {
   "cell_type": "code",
   "execution_count": 3,
   "metadata": {},
   "outputs": [
    {
     "name": "stdout",
     "output_type": "stream",
     "text": [
      "Fully connected model has 24531 edges, 10818171 elements and a score around ~ 0.95\n"
     ]
    },
    {
     "name": "stdout",
     "output_type": "stream",
     "text": [
      "\n",
      "iteration = 20,   Score = 0.076\n",
      "\n",
      " <E> = "
     ]
    },
    {
     "name": "stdout",
     "output_type": "stream",
     "text": [
      "356.08,  log(Z) = 0.36,   S = 356.44\n",
      " edges: "
     ]
    },
    {
     "name": "stdout",
     "output_type": "stream",
     "text": [
      "20,   elements: 44,   edge complexity: 0.08 %,  elements complexity: 0.0 %\n"
     ]
    },
    {
     "name": "stdout",
     "output_type": "stream",
     "text": [
      "\n",
      "iteration = 40,   Score = 0.149\n",
      "\n",
      " <E> = "
     ]
    },
    {
     "name": "stdout",
     "output_type": "stream",
     "text": [
      "353.03,  log(Z) = 0.64,   S = 353.66\n",
      " edges: "
     ]
    },
    {
     "name": "stdout",
     "output_type": "stream",
     "text": [
      "40,   elements: 96,   edge complexity: 0.16 %,  elements complexity: 0.0 %\n"
     ]
    },
    {
     "name": "stdout",
     "output_type": "stream",
     "text": [
      "\n",
      "iteration = 60,   Score = 0.238\n",
      "\n",
      " <E> = "
     ]
    },
    {
     "name": "stdout",
     "output_type": "stream",
     "text": [
      "349.26,  log(Z) = 0.83,   S = 350.09\n",
      " edges: "
     ]
    },
    {
     "name": "stdout",
     "output_type": "stream",
     "text": [
      "60,   elements: 157,   edge complexity: 0.24 %,  elements complexity: 0.0 %\n"
     ]
    },
    {
     "name": "stdout",
     "output_type": "stream",
     "text": [
      "\n",
      "iteration = 80,   Score = 0.316\n",
      "\n",
      " <E> = "
     ]
    },
    {
     "name": "stdout",
     "output_type": "stream",
     "text": [
      "348.01,  log(Z) = 1.04,   S = 349.05\n",
      " edges: "
     ]
    },
    {
     "name": "stdout",
     "output_type": "stream",
     "text": [
      "80,   elements: 204,   edge complexity: 0.33 %,  elements complexity: 0.0 %\n"
     ]
    },
    {
     "name": "stdout",
     "output_type": "stream",
     "text": [
      "\n",
      "iteration = 100,   Score = 0.393\n",
      "\n",
      " <E> = "
     ]
    },
    {
     "name": "stdout",
     "output_type": "stream",
     "text": [
      "342.03,  log(Z) = 1.33,   S = 343.36\n",
      " edges: "
     ]
    },
    {
     "name": "stdout",
     "output_type": "stream",
     "text": [
      "100,   elements: 265,   edge complexity: 0.41 %,  elements complexity: 0.0 %\n"
     ]
    },
    {
     "name": "stdout",
     "output_type": "stream",
     "text": [
      "\n",
      "iteration = 120,   Score = 0.438\n",
      "\n",
      " <E> = "
     ]
    },
    {
     "name": "stdout",
     "output_type": "stream",
     "text": [
      "339.56,  log(Z) = 1.48,   S = 341.04\n",
      " edges: "
     ]
    },
    {
     "name": "stdout",
     "output_type": "stream",
     "text": [
      "119,   elements: 331,   edge complexity: 0.49 %,  elements complexity: 0.0 %\n"
     ]
    },
    {
     "name": "stdout",
     "output_type": "stream",
     "text": [
      "\n",
      "iteration = 140,   Score = 0.47\n",
      "\n",
      " <E> = "
     ]
    },
    {
     "name": "stdout",
     "output_type": "stream",
     "text": [
      "336.45,  log(Z) = 1.7,   S = 338.15\n",
      " edges: "
     ]
    },
    {
     "name": "stdout",
     "output_type": "stream",
     "text": [
      "138,   elements: 397,   edge complexity: 0.56 %,  elements complexity: 0.0 %\n"
     ]
    },
    {
     "name": "stdout",
     "output_type": "stream",
     "text": [
      "\n",
      "iteration = 160,   Score = 0.504\n",
      "\n",
      " <E> = "
     ]
    },
    {
     "name": "stdout",
     "output_type": "stream",
     "text": [
      "334.07,  log(Z) = 1.86,   S = 335.93\n",
      " edges: "
     ]
    },
    {
     "name": "stdout",
     "output_type": "stream",
     "text": [
      "155,   elements: 464,   edge complexity: 0.63 %,  elements complexity: 0.0 %\n"
     ]
    },
    {
     "name": "stdout",
     "output_type": "stream",
     "text": [
      "\n",
      "iteration = 180,   Score = 0.539\n",
      "\n",
      " <E> = "
     ]
    },
    {
     "name": "stdout",
     "output_type": "stream",
     "text": [
      "331.37,  log(Z) = 2.01,   S = 333.37\n",
      " edges: "
     ]
    },
    {
     "name": "stdout",
     "output_type": "stream",
     "text": [
      "174,   elements: 530,   edge complexity: 0.71 %,  elements complexity: 0.0 %\n"
     ]
    },
    {
     "name": "stdout",
     "output_type": "stream",
     "text": [
      "\n",
      "iteration = 200,   Score = 0.571\n",
      "\n",
      " <E> = "
     ]
    },
    {
     "name": "stdout",
     "output_type": "stream",
     "text": [
      "330.69,  log(Z) = 2.24,   S = 332.93\n",
      " edges: "
     ]
    },
    {
     "name": "stdout",
     "output_type": "stream",
     "text": [
      "191,   elements: 594,   edge complexity: 0.78 %,  elements complexity: 0.01 %\n"
     ]
    },
    {
     "name": "stdout",
     "output_type": "stream",
     "text": [
      "\n",
      "iteration = 220,   Score = 0.597\n",
      "\n",
      " <E> = "
     ]
    },
    {
     "name": "stdout",
     "output_type": "stream",
     "text": [
      "326.6,  log(Z) = 2.3,   S = 328.9\n",
      " edges: "
     ]
    },
    {
     "name": "stdout",
     "output_type": "stream",
     "text": [
      "210,   elements: 664,   edge complexity: 0.86 %,  elements complexity: 0.01 %\n"
     ]
    },
    {
     "name": "stdout",
     "output_type": "stream",
     "text": [
      "\n",
      "iteration = 240,   Score = 0.606\n",
      "\n",
      " <E> = "
     ]
    },
    {
     "name": "stdout",
     "output_type": "stream",
     "text": [
      "325.35,  log(Z) = 2.42,   S = 327.77\n",
      " edges: "
     ]
    },
    {
     "name": "stdout",
     "output_type": "stream",
     "text": [
      "226,   elements: 743,   edge complexity: 0.92 %,  elements complexity: 0.01 %\n"
     ]
    },
    {
     "name": "stdout",
     "output_type": "stream",
     "text": [
      "\n",
      "iteration = 260,   Score = 0.631\n",
      "\n",
      " <E> = "
     ]
    },
    {
     "name": "stdout",
     "output_type": "stream",
     "text": [
      "322.12,  log(Z) = 2.53,   S = 324.65\n",
      " edges: "
     ]
    },
    {
     "name": "stdout",
     "output_type": "stream",
     "text": [
      "245,   elements: 836,   edge complexity: 1.0 %,  elements complexity: 0.01 %\n"
     ]
    },
    {
     "name": "stdout",
     "output_type": "stream",
     "text": [
      "\n",
      "iteration = 280,   Score = 0.65\n",
      "\n",
      " <E> = "
     ]
    },
    {
     "name": "stdout",
     "output_type": "stream",
     "text": [
      "320.02,  log(Z) = 2.59,   S = 322.61\n",
      " edges: "
     ]
    },
    {
     "name": "stdout",
     "output_type": "stream",
     "text": [
      "262,   elements: 920,   edge complexity: 1.07 %,  elements complexity: 0.01 %\n"
     ]
    },
    {
     "name": "stdout",
     "output_type": "stream",
     "text": [
      "\n",
      "iteration = 300,   Score = 0.675\n",
      "\n",
      " <E> = "
     ]
    },
    {
     "name": "stdout",
     "output_type": "stream",
     "text": [
      "318.12,  log(Z) = 2.82,   S = 320.94\n",
      " edges: "
     ]
    },
    {
     "name": "stdout",
     "output_type": "stream",
     "text": [
      "277,   elements: 1007,   edge complexity: 1.13 %,  elements complexity: 0.01 %\n"
     ]
    },
    {
     "name": "stdout",
     "output_type": "stream",
     "text": [
      "\n",
      "iteration = 320,   Score = 0.685\n",
      "\n",
      " <E> = "
     ]
    },
    {
     "name": "stdout",
     "output_type": "stream",
     "text": [
      "315.36,  log(Z) = 2.99,   S = 318.34\n",
      " edges: "
     ]
    },
    {
     "name": "stdout",
     "output_type": "stream",
     "text": [
      "295,   elements: 1096,   edge complexity: 1.2 %,  elements complexity: 0.01 %\n"
     ]
    },
    {
     "name": "stdout",
     "output_type": "stream",
     "text": [
      "\n",
      "iteration = 340,   Score = 0.696\n",
      "\n",
      " <E> = "
     ]
    },
    {
     "name": "stdout",
     "output_type": "stream",
     "text": [
      "314.33,  log(Z) = 3.14,   S = 317.47\n",
      " edges: "
     ]
    },
    {
     "name": "stdout",
     "output_type": "stream",
     "text": [
      "309,   elements: 1180,   edge complexity: 1.26 %,  elements complexity: 0.01 %\n"
     ]
    },
    {
     "name": "stdout",
     "output_type": "stream",
     "text": [
      "\n",
      "iteration = 360,   Score = 0.709\n",
      "\n",
      " <E> = "
     ]
    },
    {
     "name": "stdout",
     "output_type": "stream",
     "text": [
      "313.17,  log(Z) = 3.25,   S = 316.42\n",
      " edges: "
     ]
    },
    {
     "name": "stdout",
     "output_type": "stream",
     "text": [
      "327,   elements: 1274,   edge complexity: 1.33 %,  elements complexity: 0.01 %\n"
     ]
    },
    {
     "name": "stdout",
     "output_type": "stream",
     "text": [
      "\n",
      "iteration = 380,   Score = 0.723\n",
      "\n",
      " <E> = "
     ]
    },
    {
     "name": "stdout",
     "output_type": "stream",
     "text": [
      "312.73,  log(Z) = 3.44,   S = 316.17\n",
      " edges: "
     ]
    },
    {
     "name": "stdout",
     "output_type": "stream",
     "text": [
      "346,   elements: 1375,   edge complexity: 1.41 %,  elements complexity: 0.01 %\n"
     ]
    },
    {
     "name": "stdout",
     "output_type": "stream",
     "text": [
      "\n",
      "iteration = 400,   Score = 0.732\n",
      "\n",
      " <E> = "
     ]
    },
    {
     "name": "stdout",
     "output_type": "stream",
     "text": [
      "311.37,  log(Z) = 3.55,   S = 314.92\n",
      " edges: "
     ]
    },
    {
     "name": "stdout",
     "output_type": "stream",
     "text": [
      "364,   elements: 1465,   edge complexity: 1.48 %,  elements complexity: 0.01 %\n"
     ]
    },
    {
     "name": "stdout",
     "output_type": "stream",
     "text": [
      "\n",
      "iteration = 420,   Score = 0.742\n",
      "\n",
      " <E> = "
     ]
    },
    {
     "name": "stdout",
     "output_type": "stream",
     "text": [
      "308.93,  log(Z) = 3.66,   S = 312.59\n",
      " edges: "
     ]
    },
    {
     "name": "stdout",
     "output_type": "stream",
     "text": [
      "380,   elements: 1560,   edge complexity: 1.55 %,  elements complexity: 0.01 %\n"
     ]
    },
    {
     "name": "stdout",
     "output_type": "stream",
     "text": [
      "\n",
      "iteration = 440,   Score = 0.754\n",
      "\n",
      " <E> = "
     ]
    },
    {
     "name": "stdout",
     "output_type": "stream",
     "text": [
      "306.7,  log(Z) = 3.97,   S = 310.67\n",
      " edges: "
     ]
    },
    {
     "name": "stdout",
     "output_type": "stream",
     "text": [
      "397,   elements: 1629,   edge complexity: 1.62 %,  elements complexity: 0.02 %\n"
     ]
    },
    {
     "name": "stdout",
     "output_type": "stream",
     "text": [
      "\n",
      "iteration = 460,   Score = 0.759\n",
      "\n",
      " <E> = "
     ]
    },
    {
     "name": "stdout",
     "output_type": "stream",
     "text": [
      "306.1,  log(Z) = 3.99,   S = 310.09\n",
      " edges: "
     ]
    },
    {
     "name": "stdout",
     "output_type": "stream",
     "text": [
      "411,   elements: 1746,   edge complexity: 1.68 %,  elements complexity: 0.02 %\n"
     ]
    },
    {
     "name": "stdout",
     "output_type": "stream",
     "text": [
      "\n",
      "iteration = 480,   Score = 0.765\n",
      "\n",
      " <E> = "
     ]
    },
    {
     "name": "stdout",
     "output_type": "stream",
     "text": [
      "304.97,  log(Z) = 4.11,   S = 309.08\n",
      " edges: "
     ]
    },
    {
     "name": "stdout",
     "output_type": "stream",
     "text": [
      "429,   elements: 1835,   edge complexity: 1.75 %,  elements complexity: 0.02 %\n"
     ]
    },
    {
     "name": "stdout",
     "output_type": "stream",
     "text": [
      "\n",
      "iteration = 500,   Score = 0.777\n",
      "\n",
      " <E> = "
     ]
    },
    {
     "name": "stdout",
     "output_type": "stream",
     "text": [
      "302.9,  log(Z) = 4.18,   S = 307.08\n",
      " edges: "
     ]
    },
    {
     "name": "stdout",
     "output_type": "stream",
     "text": [
      "446,   elements: 1957,   edge complexity: 1.82 %,  elements complexity: 0.02 %\n"
     ]
    },
    {
     "name": "stdout",
     "output_type": "stream",
     "text": [
      "\n",
      "iteration = 520,   Score = 0.785\n",
      "\n",
      " <E> = "
     ]
    },
    {
     "name": "stdout",
     "output_type": "stream",
     "text": [
      "303.19,  log(Z) = 4.46,   S = 307.65\n",
      " edges: "
     ]
    },
    {
     "name": "stdout",
     "output_type": "stream",
     "text": [
      "462,   elements: 2057,   edge complexity: 1.88 %,  elements complexity: 0.02 %\n"
     ]
    },
    {
     "name": "stdout",
     "output_type": "stream",
     "text": [
      "\n",
      "iteration = 540,   Score = 0.791\n",
      "\n",
      " <E> = "
     ]
    },
    {
     "name": "stdout",
     "output_type": "stream",
     "text": [
      "301.23,  log(Z) = 4.65,   S = 305.88\n",
      " edges: "
     ]
    },
    {
     "name": "stdout",
     "output_type": "stream",
     "text": [
      "477,   elements: 2172,   edge complexity: 1.94 %,  elements complexity: 0.02 %\n"
     ]
    },
    {
     "name": "stdout",
     "output_type": "stream",
     "text": [
      "\n",
      "iteration = 560,   Score = 0.799\n",
      "\n",
      " <E> = "
     ]
    },
    {
     "name": "stdout",
     "output_type": "stream",
     "text": [
      "300.42,  log(Z) = 4.6,   S = 305.02\n",
      " edges: "
     ]
    },
    {
     "name": "stdout",
     "output_type": "stream",
     "text": [
      "490,   elements: 2275,   edge complexity: 2.0 %,  elements complexity: 0.02 %\n"
     ]
    },
    {
     "name": "stdout",
     "output_type": "stream",
     "text": [
      "\n",
      "iteration = 580,   Score = 0.804\n",
      "\n",
      " <E> = "
     ]
    },
    {
     "name": "stdout",
     "output_type": "stream",
     "text": [
      "297.99,  log(Z) = 4.76,   S = 302.75\n",
      " edges: "
     ]
    },
    {
     "name": "stdout",
     "output_type": "stream",
     "text": [
      "506,   elements: 2409,   edge complexity: 2.06 %,  elements complexity: 0.02 %\n"
     ]
    },
    {
     "name": "stdout",
     "output_type": "stream",
     "text": [
      "\n",
      "iteration = 600,   Score = 0.809\n",
      "\n",
      " <E> = "
     ]
    },
    {
     "name": "stdout",
     "output_type": "stream",
     "text": [
      "296.49,  log(Z) = 4.89,   S = 301.38\n",
      " edges: "
     ]
    },
    {
     "name": "stdout",
     "output_type": "stream",
     "text": [
      "521,   elements: 2539,   edge complexity: 2.12 %,  elements complexity: 0.02 %\n"
     ]
    },
    {
     "name": "stdout",
     "output_type": "stream",
     "text": [
      "\n",
      "iteration = 620,   Score = 0.813\n",
      "\n",
      " <E> = "
     ]
    },
    {
     "name": "stdout",
     "output_type": "stream",
     "text": [
      "295.29,  log(Z) = 5.1,   S = 300.39\n",
      " edges: "
     ]
    },
    {
     "name": "stdout",
     "output_type": "stream",
     "text": [
      "536,   elements: 2652,   edge complexity: 2.18 %,  elements complexity: 0.02 %\n"
     ]
    },
    {
     "name": "stdout",
     "output_type": "stream",
     "text": [
      "\n",
      "iteration = 640,   Score = 0.816\n",
      "\n",
      " <E> = "
     ]
    },
    {
     "name": "stdout",
     "output_type": "stream",
     "text": [
      "294.82,  log(Z) = 5.32,   S = 300.14\n",
      " edges: "
     ]
    },
    {
     "name": "stdout",
     "output_type": "stream",
     "text": [
      "551,   elements: 2777,   edge complexity: 2.25 %,  elements complexity: 0.03 %\n"
     ]
    },
    {
     "name": "stdout",
     "output_type": "stream",
     "text": [
      "\n",
      "iteration = 660,   Score = 0.82\n",
      "\n",
      " <E> = "
     ]
    },
    {
     "name": "stdout",
     "output_type": "stream",
     "text": [
      "293.97,  log(Z) = 5.52,   S = 299.49\n",
      " edges: "
     ]
    },
    {
     "name": "stdout",
     "output_type": "stream",
     "text": [
      "563,   elements: 2903,   edge complexity: 2.3 %,  elements complexity: 0.03 %\n"
     ]
    },
    {
     "name": "stdout",
     "output_type": "stream",
     "text": [
      "\n",
      "iteration = 680,   Score = 0.825\n",
      "\n",
      " <E> = "
     ]
    },
    {
     "name": "stdout",
     "output_type": "stream",
     "text": [
      "291.53,  log(Z) = 5.62,   S = 297.16\n",
      " edges: "
     ]
    },
    {
     "name": "stdout",
     "output_type": "stream",
     "text": [
      "580,   elements: 3027,   edge complexity: 2.36 %,  elements complexity: 0.03 %\n"
     ]
    },
    {
     "name": "stdout",
     "output_type": "stream",
     "text": [
      "\n",
      "iteration = 700,   Score = 0.831\n",
      "\n",
      " <E> = "
     ]
    },
    {
     "name": "stdout",
     "output_type": "stream",
     "text": [
      "290.69,  log(Z) = 5.76,   S = 296.46\n",
      " edges: "
     ]
    },
    {
     "name": "stdout",
     "output_type": "stream",
     "text": [
      "595,   elements: 3151,   edge complexity: 2.43 %,  elements complexity: 0.03 %\n"
     ]
    },
    {
     "name": "stdout",
     "output_type": "stream",
     "text": [
      "\n",
      "iteration = 720,   Score = 0.835\n",
      "\n",
      " <E> = "
     ]
    },
    {
     "name": "stdout",
     "output_type": "stream",
     "text": [
      "290.27,  log(Z) = 5.98,   S = 296.25\n",
      " edges: "
     ]
    },
    {
     "name": "stdout",
     "output_type": "stream",
     "text": [
      "610,   elements: 3271,   edge complexity: 2.49 %,  elements complexity: 0.03 %\n"
     ]
    },
    {
     "name": "stdout",
     "output_type": "stream",
     "text": [
      "\n",
      "iteration = 740,   Score = 0.84\n",
      "\n",
      " <E> = "
     ]
    },
    {
     "name": "stdout",
     "output_type": "stream",
     "text": [
      "288.87,  log(Z) = 6.27,   S = 295.14\n",
      " edges: "
     ]
    },
    {
     "name": "stdout",
     "output_type": "stream",
     "text": [
      "626,   elements: 3408,   edge complexity: 2.55 %,  elements complexity: 0.03 %\n"
     ]
    },
    {
     "name": "stdout",
     "output_type": "stream",
     "text": [
      "\n",
      "iteration = 760,   Score = 0.841\n",
      "\n",
      " <E> = "
     ]
    },
    {
     "name": "stdout",
     "output_type": "stream",
     "text": [
      "287.34,  log(Z) = 6.42,   S = 293.76\n",
      " edges: "
     ]
    },
    {
     "name": "stdout",
     "output_type": "stream",
     "text": [
      "641,   elements: 3520,   edge complexity: 2.61 %,  elements complexity: 0.03 %\n"
     ]
    },
    {
     "name": "stdout",
     "output_type": "stream",
     "text": [
      "\n",
      "iteration = 780,   Score = 0.843\n",
      "\n",
      " <E> = "
     ]
    },
    {
     "name": "stdout",
     "output_type": "stream",
     "text": [
      "285.35,  log(Z) = 6.71,   S = 292.07\n",
      " edges: "
     ]
    },
    {
     "name": "stdout",
     "output_type": "stream",
     "text": [
      "657,   elements: 3636,   edge complexity: 2.68 %,  elements complexity: 0.03 %\n"
     ]
    },
    {
     "name": "stdout",
     "output_type": "stream",
     "text": [
      "\n",
      "iteration = 800,   Score = 0.851\n",
      "\n",
      " <E> = "
     ]
    },
    {
     "name": "stdout",
     "output_type": "stream",
     "text": [
      "284.17,  log(Z) = 7.03,   S = 291.2\n",
      " edges: "
     ]
    },
    {
     "name": "stdout",
     "output_type": "stream",
     "text": [
      "675,   elements: 3772,   edge complexity: 2.75 %,  elements complexity: 0.03 %\n"
     ]
    },
    {
     "name": "stdout",
     "output_type": "stream",
     "text": [
      "\n",
      "iteration = 820,   Score = 0.854\n",
      "\n",
      " <E> = "
     ]
    },
    {
     "name": "stdout",
     "output_type": "stream",
     "text": [
      "283.7,  log(Z) = 7.3,   S = 291.0\n",
      " edges: "
     ]
    },
    {
     "name": "stdout",
     "output_type": "stream",
     "text": [
      "691,   elements: 3906,   edge complexity: 2.82 %,  elements complexity: 0.04 %\n"
     ]
    },
    {
     "name": "stdout",
     "output_type": "stream",
     "text": [
      "\n",
      "iteration = 840,   Score = 0.858\n",
      "\n",
      " <E> = "
     ]
    },
    {
     "name": "stdout",
     "output_type": "stream",
     "text": [
      "281.87,  log(Z) = 7.52,   S = 289.4\n",
      " edges: "
     ]
    },
    {
     "name": "stdout",
     "output_type": "stream",
     "text": [
      "707,   elements: 4041,   edge complexity: 2.88 %,  elements complexity: 0.04 %\n"
     ]
    },
    {
     "name": "stdout",
     "output_type": "stream",
     "text": [
      "\n",
      "iteration = 860,   Score = 0.86\n",
      "\n",
      " <E> = "
     ]
    },
    {
     "name": "stdout",
     "output_type": "stream",
     "text": [
      "281.73,  log(Z) = 7.75,   S = 289.48\n",
      " edges: "
     ]
    },
    {
     "name": "stdout",
     "output_type": "stream",
     "text": [
      "722,   elements: 4143,   edge complexity: 2.94 %,  elements complexity: 0.04 %\n"
     ]
    },
    {
     "name": "stdout",
     "output_type": "stream",
     "text": [
      "\n",
      "iteration = 880,   Score = 0.863\n",
      "\n",
      " <E> = "
     ]
    },
    {
     "name": "stdout",
     "output_type": "stream",
     "text": [
      "280.62,  log(Z) = 8.01,   S = 288.62\n",
      " edges: "
     ]
    },
    {
     "name": "stdout",
     "output_type": "stream",
     "text": [
      "739,   elements: 4290,   edge complexity: 3.01 %,  elements complexity: 0.04 %\n"
     ]
    },
    {
     "name": "stdout",
     "output_type": "stream",
     "text": [
      "\n",
      "iteration = 900,   Score = 0.865\n",
      "\n",
      " <E> = "
     ]
    },
    {
     "name": "stdout",
     "output_type": "stream",
     "text": [
      "280.43,  log(Z) = 8.32,   S = 288.75\n",
      " edges: "
     ]
    },
    {
     "name": "stdout",
     "output_type": "stream",
     "text": [
      "756,   elements: 4435,   edge complexity: 3.08 %,  elements complexity: 0.04 %\n"
     ]
    },
    {
     "name": "stdout",
     "output_type": "stream",
     "text": [
      "\n",
      "iteration = 920,   Score = 0.866\n",
      "\n",
      " <E> = "
     ]
    },
    {
     "name": "stdout",
     "output_type": "stream",
     "text": [
      "278.56,  log(Z) = 8.65,   S = 287.21\n",
      " edges: "
     ]
    },
    {
     "name": "stdout",
     "output_type": "stream",
     "text": [
      "770,   elements: 4573,   edge complexity: 3.14 %,  elements complexity: 0.04 %\n"
     ]
    },
    {
     "name": "stdout",
     "output_type": "stream",
     "text": [
      "\n",
      "iteration = 940,   Score = 0.869\n",
      "\n",
      " <E> = "
     ]
    },
    {
     "name": "stdout",
     "output_type": "stream",
     "text": [
      "279.1,  log(Z) = 8.83,   S = 287.93\n",
      " edges: "
     ]
    },
    {
     "name": "stdout",
     "output_type": "stream",
     "text": [
      "782,   elements: 4701,   edge complexity: 3.19 %,  elements complexity: 0.04 %\n"
     ]
    },
    {
     "name": "stdout",
     "output_type": "stream",
     "text": [
      "\n",
      "iteration = 960,   Score = 0.875\n",
      "\n",
      " <E> = "
     ]
    },
    {
     "name": "stdout",
     "output_type": "stream",
     "text": [
      "278.55,  log(Z) = 8.99,   S = 287.54\n",
      " edges: "
     ]
    },
    {
     "name": "stdout",
     "output_type": "stream",
     "text": [
      "796,   elements: 4833,   edge complexity: 3.24 %,  elements complexity: 0.04 %\n"
     ]
    },
    {
     "name": "stdout",
     "output_type": "stream",
     "text": [
      "\n",
      "iteration = 980,   Score = 0.876\n",
      "\n",
      " <E> = "
     ]
    },
    {
     "name": "stdout",
     "output_type": "stream",
     "text": [
      "277.17,  log(Z) = 9.22,   S = 286.39\n",
      " edges: "
     ]
    },
    {
     "name": "stdout",
     "output_type": "stream",
     "text": [
      "811,   elements: 4980,   edge complexity: 3.31 %,  elements complexity: 0.05 %\n"
     ]
    },
    {
     "name": "stdout",
     "output_type": "stream",
     "text": [
      "\n",
      "iteration = 1000,   Score = 0.879\n",
      "\n",
      " <E> = "
     ]
    },
    {
     "name": "stdout",
     "output_type": "stream",
     "text": [
      "276.39,  log(Z) = 9.52,   S = 285.91\n",
      " edges: "
     ]
    },
    {
     "name": "stdout",
     "output_type": "stream",
     "text": [
      "827,   elements: 5139,   edge complexity: 3.37 %,  elements complexity: 0.05 %\n"
     ]
    },
    {
     "name": "stdout",
     "output_type": "stream",
     "text": [
      "\n",
      "iteration = 1020,   Score = 0.88\n",
      "\n",
      " <E> = "
     ]
    },
    {
     "name": "stdout",
     "output_type": "stream",
     "text": [
      "275.08,  log(Z) = 9.77,   S = 284.85\n",
      " edges: "
     ]
    },
    {
     "name": "stdout",
     "output_type": "stream",
     "text": [
      "841,   elements: 5284,   edge complexity: 3.43 %,  elements complexity: 0.05 %\n"
     ]
    },
    {
     "name": "stdout",
     "output_type": "stream",
     "text": [
      "\n",
      "iteration = 1040,   Score = 0.88\n",
      "\n",
      " <E> = "
     ]
    },
    {
     "name": "stdout",
     "output_type": "stream",
     "text": [
      "273.73,  log(Z) = 9.87,   S = 283.6\n",
      " edges: "
     ]
    },
    {
     "name": "stdout",
     "output_type": "stream",
     "text": [
      "853,   elements: 5436,   edge complexity: 3.48 %,  elements complexity: 0.05 %\n"
     ]
    },
    {
     "name": "stdout",
     "output_type": "stream",
     "text": [
      "\n",
      "iteration = 1060,   Score = 0.882\n",
      "\n",
      " <E> = "
     ]
    },
    {
     "name": "stdout",
     "output_type": "stream",
     "text": [
      "272.16,  log(Z) = 10.15,   S = 282.3\n",
      " edges: "
     ]
    },
    {
     "name": "stdout",
     "output_type": "stream",
     "text": [
      "870,   elements: 5594,   edge complexity: 3.55 %,  elements complexity: 0.05 %\n"
     ]
    },
    {
     "name": "stdout",
     "output_type": "stream",
     "text": [
      "\n",
      "iteration = 1080,   Score = 0.882\n",
      "\n",
      " <E> = "
     ]
    },
    {
     "name": "stdout",
     "output_type": "stream",
     "text": [
      "272.47,  log(Z) = 10.36,   S = 282.83\n",
      " edges: "
     ]
    },
    {
     "name": "stdout",
     "output_type": "stream",
     "text": [
      "885,   elements: 5770,   edge complexity: 3.61 %,  elements complexity: 0.05 %\n"
     ]
    },
    {
     "name": "stdout",
     "output_type": "stream",
     "text": [
      "\n",
      "iteration = 1100,   Score = 0.885\n",
      "\n",
      " <E> = "
     ]
    },
    {
     "name": "stdout",
     "output_type": "stream",
     "text": [
      "269.21,  log(Z) = 10.65,   S = 279.86\n",
      " edges: "
     ]
    },
    {
     "name": "stdout",
     "output_type": "stream",
     "text": [
      "898,   elements: 5904,   edge complexity: 3.66 %,  elements complexity: 0.05 %\n"
     ]
    },
    {
     "name": "stdout",
     "output_type": "stream",
     "text": [
      "\n",
      "iteration = 1120,   Score = 0.888\n",
      "\n",
      " <E> = "
     ]
    },
    {
     "name": "stdout",
     "output_type": "stream",
     "text": [
      "269.19,  log(Z) = 10.8,   S = 279.99\n",
      " edges: "
     ]
    },
    {
     "name": "stdout",
     "output_type": "stream",
     "text": [
      "913,   elements: 6048,   edge complexity: 3.72 %,  elements complexity: 0.06 %\n"
     ]
    },
    {
     "name": "stdout",
     "output_type": "stream",
     "text": [
      "\n",
      "iteration = 1140,   Score = 0.891\n",
      "\n",
      " <E> = "
     ]
    },
    {
     "name": "stdout",
     "output_type": "stream",
     "text": [
      "269.3,  log(Z) = 11.07,   S = 280.36\n",
      " edges: "
     ]
    },
    {
     "name": "stdout",
     "output_type": "stream",
     "text": [
      "931,   elements: 6181,   edge complexity: 3.8 %,  elements complexity: 0.06 %\n"
     ]
    },
    {
     "name": "stdout",
     "output_type": "stream",
     "text": [
      "\n",
      "iteration = 1160,   Score = 0.892\n",
      "\n",
      " <E> = "
     ]
    },
    {
     "name": "stdout",
     "output_type": "stream",
     "text": [
      "267.31,  log(Z) = 11.4,   S = 278.71\n",
      " edges: "
     ]
    },
    {
     "name": "stdout",
     "output_type": "stream",
     "text": [
      "943,   elements: 6347,   edge complexity: 3.84 %,  elements complexity: 0.06 %\n"
     ]
    },
    {
     "name": "stdout",
     "output_type": "stream",
     "text": [
      "\n",
      "iteration = 1180,   Score = 0.895\n",
      "\n",
      " <E> = "
     ]
    },
    {
     "name": "stdout",
     "output_type": "stream",
     "text": [
      "266.28,  log(Z) = 11.67,   S = 277.95\n",
      " edges: "
     ]
    },
    {
     "name": "stdout",
     "output_type": "stream",
     "text": [
      "959,   elements: 6518,   edge complexity: 3.91 %,  elements complexity: 0.06 %\n"
     ]
    },
    {
     "name": "stdout",
     "output_type": "stream",
     "text": [
      "\n",
      "iteration = 1200,   Score = 0.897\n",
      "\n",
      " <E> = "
     ]
    },
    {
     "name": "stdout",
     "output_type": "stream",
     "text": [
      "265.76,  log(Z) = 11.92,   S = 277.68\n",
      " edges: "
     ]
    },
    {
     "name": "stdout",
     "output_type": "stream",
     "text": [
      "974,   elements: 6688,   edge complexity: 3.97 %,  elements complexity: 0.06 %\n"
     ]
    },
    {
     "name": "stdout",
     "output_type": "stream",
     "text": [
      "\n",
      "iteration = 1220,   Score = 0.9\n",
      "\n",
      " <E> = "
     ]
    },
    {
     "name": "stdout",
     "output_type": "stream",
     "text": [
      "264.86,  log(Z) = 12.18,   S = 277.04\n",
      " \n",
      "The selceted model has 988 edges and a score = 0.9\n"
     ]
    }
   ],
   "source": [
    "using Random\n",
    "\n",
    "n_step = 100_000\n",
    "method = \"cumulative\"\n",
    "fraction = 0.3\n",
    "stop = 0.9\n",
    "pseudo_count = 0.3\n",
    "s = time()\n",
    "Random.seed!(2) \n",
    "notebook = \"0.3nb2\"\n",
    "\n",
    "family_name = \"Betalactamases\"\n",
    "score, likelihood_gain, generated_sequences, Jij, h, contact_list, site_degree, edge_list, single_likelihood_gain_vector, path = E_A_A(21, n_step, pseudo_count, 12000, natural_sequences,\"example_output.txt\", family_name, method, notebook, fraction, stop); \n",
    "\n",
    "s = time() - s\n",
    "\n",
    "# SAVE DATA ##################################################################################\n",
    "using JLD\n",
    "init_pseudo_count = 0.01\n",
    "#folder_name = \"../training/\" * method * string(fraction) * \"_stop=\" * string(stop) * \"_reg=\"*string(pseudo_count)*\"_h_ps-count=\" * string(init_pseudo_count) * \"nbook=\"*notebook\n",
    "JLD.save(path*\"/\"*\"score.jld\",\"data\", score)\n",
    "JLD.save(path*\"/\"*\"likelihood_gain.jld\",\"data\", likelihood_gain)\n",
    "JLD.save(path*\"/\"*\"generated_sequences.jld\",\"data\", generated_sequences)\n",
    "JLD.save(path*\"/\"*\"Jij.jld\",\"data\", Jij)\n",
    "JLD.save(path*\"/\"*\"h.jld\",\"data\", h)\n",
    "JLD.save(path*\"/\"*\"contact_list.jld\",\"data\", contact_list)\n",
    "JLD.save(path*\"/\"*\"site_degree.jld\",\"data\", site_degree)\n",
    "JLD.save(path*\"/\"*\"edge_list.jld\",\"data\", edge_list)"
   ]
  },
  {
   "attachments": {},
   "cell_type": "markdown",
   "id": "0c4e1927",
   "metadata": {},
   "source": [
    "## Saving the model"
   ]
  },
  {
   "cell_type": "code",
   "execution_count": null,
   "id": "3919994c",
   "metadata": {},
   "outputs": [],
   "source": [
    "function print_model_to_file_prot(natural_sequences,Jij,h,filename)\n",
    "    open(filename, \"w\") do f\n",
    "        for i in 1:length(natural_sequences[1,:])\n",
    "            for j in i+1:length(natural_sequences[1,:])\n",
    "                for k in 1:21    \n",
    "                    if k==1\n",
    "                        k2=1        \n",
    "                    elseif k==2\n",
    "                        k2=2\n",
    "                    elseif k==3\n",
    "                        k2=3\n",
    "                    elseif k==4\n",
    "                        k2=4\n",
    "                    elseif k==5\n",
    "                        k2=5\n",
    "                    elseif k==6\n",
    "                        k2=6\n",
    "                    elseif k==7\n",
    "                        k2=7\n",
    "                    elseif k==8\n",
    "                        k2=8\n",
    "                    elseif k==9\n",
    "                        k2=9\n",
    "                    elseif k==10\n",
    "                        k2=10\n",
    "                    elseif k==11\n",
    "                        k2=11\n",
    "                    elseif k==12\n",
    "                        k2=12\n",
    "                    elseif k==13\n",
    "                        k2=13\n",
    "                    elseif k==14\n",
    "                        k2=14\n",
    "                    elseif k==15\n",
    "                        k2=15\n",
    "                    elseif k==16\n",
    "                        k2=16\n",
    "                    elseif k==17\n",
    "                        k2=17\n",
    "                    elseif k==18\n",
    "                        k2=18\n",
    "                    elseif k==19\n",
    "                        k2=19\n",
    "                    elseif k==20\n",
    "                        k2=20\n",
    "                    elseif k==21\n",
    "                        k2=0\n",
    "                    end\n",
    "                        \n",
    "                    for l in 1:21\n",
    "                        if l==1\n",
    "                            l2=1\n",
    "                        elseif l==2\n",
    "                            l2=2\n",
    "                        elseif l==3\n",
    "                            l2=3\n",
    "                        elseif l==4\n",
    "                            l2=4\n",
    "                        elseif l==5\n",
    "                            l2=5\n",
    "                        elseif l==6\n",
    "                            l2=6\n",
    "                        elseif l==7\n",
    "                            l2=7\n",
    "                        elseif l==8\n",
    "                            l2=8\n",
    "                        elseif l==9\n",
    "                            l2=9\n",
    "                        elseif l==10\n",
    "                            l2=10\n",
    "                        elseif l==11\n",
    "                            l2=11\n",
    "                        elseif l==12\n",
    "                            l2=12\n",
    "                        elseif l==13\n",
    "                            l2=13\n",
    "                        elseif l==14\n",
    "                            l2=14\n",
    "                        elseif l==15\n",
    "                            l2=15\n",
    "                        elseif l==16\n",
    "                            l2=16\n",
    "                        elseif l==17\n",
    "                            l2=17\n",
    "                        elseif l==18\n",
    "                            l2=18\n",
    "                        elseif l==19\n",
    "                            l2=19\n",
    "                        elseif l==20\n",
    "                            l2=20\n",
    "                        elseif l==21\n",
    "                            l2=0\n",
    "                        end\n",
    "                        opo=Jij[i,j,21*(k-1)+l]\n",
    "                        write(f,\"\\nJ $(i-1) $(j-1) $(k2) $(l2) $opo\" )\n",
    "                    end\n",
    "                end\n",
    "            end\n",
    "        end\n",
    "        for i in 1:length(natural_sequences[1,:])\n",
    "            for j in 1:21          \n",
    "                if j==1\n",
    "                    j2=1\n",
    "                elseif j==2\n",
    "                    j2=2\n",
    "                elseif j==3\n",
    "                    j2=3\n",
    "                elseif j==4\n",
    "                    j2=4\n",
    "                elseif j==5\n",
    "                    j2=5\n",
    "                elseif j==6\n",
    "                    j2=6\n",
    "                elseif j==7\n",
    "                    j2=7\n",
    "                elseif j==8\n",
    "                    j2=8\n",
    "                elseif j==9\n",
    "                    j2=9\n",
    "                elseif j==10\n",
    "                    j2=10\n",
    "                elseif j==11\n",
    "                    j2=11\n",
    "                elseif j==12\n",
    "                    j2=12\n",
    "                elseif j==13\n",
    "                    j2=13\n",
    "                elseif j==14\n",
    "                    j2=14\n",
    "                elseif j==15\n",
    "                    j2=15\n",
    "                elseif j==16\n",
    "                    j2=16\n",
    "                elseif j==17\n",
    "                    j2=17\n",
    "                elseif j==18\n",
    "                    j2=18\n",
    "                elseif j==19\n",
    "                    j2=19\n",
    "                elseif j==20\n",
    "                    j2=20\n",
    "                elseif j==21\n",
    "                    j2=0\n",
    "                end\n",
    "                opo=h[21*(i-1)+j]\n",
    "                write(f,\"\\nh $(i-1) $(j2) $opo\" )\n",
    "            end\n",
    "        end\n",
    "    end\n",
    "end"
   ]
  },
  {
   "cell_type": "code",
   "execution_count": null,
   "id": "1c9c8dd2",
   "metadata": {},
   "outputs": [],
   "source": [
    "filename = \"../saved_models/model_cumulative0.3_stop0.9_pseudocount0.5_init_pscount0.01_nbook3.txt\"\n",
    "print_model_to_file_prot(natural_sequences, Jij, h, filename)"
   ]
  },
  {
   "cell_type": "markdown",
   "metadata": {},
   "source": [
    "<font size=\"3\">The model obtained has a performance comparable to the fully connected DCA while having just ~20% of its connectivity. The entropy of the model is 35.08. This means that it is able to generate e³⁵ (3.5x10¹⁵) different 55-102 segments for the RF00379 family. \\\n",
    "Now we can test our artificial sequences. We do the classical statistical check of the PCA projection and the two-point correlation representation. \\\n",
    "We test the performance of our model against the one of the Covariance Model. The CM model only contains trivial one-point and secondary information so our model must do better than it. </font>"
   ]
  },
  {
   "cell_type": "code",
   "execution_count": null,
   "metadata": {},
   "outputs": [],
   "source": [
    "cm_sequences = rna_cm_model_generation(0.8,0.05,7000,natural_sequences,ss_contact_matrix);\n"
   ]
  },
  {
   "cell_type": "code",
   "execution_count": null,
   "metadata": {},
   "outputs": [],
   "source": [
    "plot_stat_check(natural_sequences, generated_sequences, cm_sequences)"
   ]
  },
  {
   "cell_type": "markdown",
   "metadata": {},
   "source": [
    "<font size=\"3\">The E.A.A. artificial molecules are practically statistically indistinguishable from the natural ones. We see that they have a very similar PCA projection (artificial one seems richer just because we have more artificial sequences than natural ones) while Covariance Model fails to capture the details of the distribution. \n",
    "    The selected model has almost a perfect two-point statistics for all site pairs while the CM model only captures it for the ones involved in secondary structure contacts. \\\n",
    "     </font>\n"
   ]
  },
  {
   "cell_type": "markdown",
   "metadata": {},
   "source": [
    "<font size=\"3\">The interpretability is one of the main reasons in our quest to find parsimonious generative models. Now that we are sure we obtained a good generative model with relatively few parameters we can try to interprete them. \\\n",
    "Dividing the added edges in secondary structure contacts, 3D contacts we have:"
   ]
  },
  {
   "cell_type": "code",
   "execution_count": null,
   "metadata": {},
   "outputs": [],
   "source": [
    "edge_interpretation_plot(len,ss_contact_matrix,tertiary_contact_matrix,edge_list[1:50,:])"
   ]
  },
  {
   "cell_type": "markdown",
   "metadata": {},
   "source": [
    "<font size=\"3\">We see that the secondary structure contacts are taken in the first few iteration. We have lot of neighbouring sites probably due to philogenic effects. It is striking that we see some 3D contacts (in particular around site 40) before the NONE edges. This\n",
    "suggests that our algorithm effectively captures some information about the tertiary structure. \\\n",
    "Those results, that are far more general than this simple example, suggest that the added edges have a co-evolutionary interpretation."
   ]
  },
  {
   "cell_type": "markdown",
   "metadata": {},
   "source": [
    "<font size=\"3\">\n",
    "This notebook serves as an example of the application of the techniques described in the main text.\n"
   ]
  }
 ],
 "metadata": {
  "kernelspec": {
   "display_name": "Julia 1.8.5",
   "language": "julia",
   "name": "julia-1.8"
  },
  "language_info": {
   "file_extension": ".jl",
   "mimetype": "application/julia",
   "name": "julia",
   "version": "1.8.5"
  },
  "vscode": {
   "interpreter": {
    "hash": "6412a36ae9b8109c1adf793ae61659867359f52a3cfb701a53c331fa90dc1d37"
   }
  }
 },
 "nbformat": 4,
 "nbformat_minor": 5
}
