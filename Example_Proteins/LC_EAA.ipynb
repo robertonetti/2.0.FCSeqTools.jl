{
 "cells": [
  {
   "cell_type": "markdown",
   "metadata": {},
   "source": [
    "# Edge Addition Algorithm - simple implementation example"
   ]
  },
  {
   "cell_type": "markdown",
   "metadata": {},
   "source": [
    "<font size=\"3\">Run time is around ~5 minutes with the default input. \\\n",
    "\\\n",
    "In this example we will use the E.A.A. model to build a low-connectivity DCA model. \\\n",
    "The information that we have about the training RNA family consists in: the sequence alignment and the consenus secondary structure (both trough the Covariance Model) and the 3D contacts trough the PDB file. </font> \n"
   ]
  },
  {
   "cell_type": "code",
   "execution_count": 16,
   "id": "20924cd6",
   "metadata": {},
   "outputs": [],
   "source": [
    "include(\"FCSeqTools.jl\");"
   ]
  },
  {
   "cell_type": "markdown",
   "metadata": {},
   "source": [
    "<font size=\"3\">Here is an example of  RF00379 molecule and its associated consensus secondary structure. \\\n",
    "To make the execution faster we will not generate full lenght molecules but just a portion from nucleotide 55 to 102. </font>"
   ]
  },
  {
   "cell_type": "code",
   "execution_count": 12,
   "metadata": {},
   "outputs": [],
   "source": [
    "natural_sequences = do_number_matrix_prot(do_letter_matrix(\"CM_130530_MC.fasta\"), 0.2);"
   ]
  },
  {
   "cell_type": "markdown",
   "metadata": {},
   "source": [
    "<font size=\"3\">Here is a segment example with its associated secondary structure. \\\n",
    "The database has a different size because the data-cleaning procedure depends on the region selected. \\\n",
    "Now we will run the E.A.A. building up our ineraction netwotk edge by edge till we reach a good performance generative model. \\\n",
    "At each iteration the algorithm reports: the added edge, the iteration number, the number of total added edges and the connectivity percentace of the fully connected case.\\\n",
    "Each 15 iterations the algorithm reports: the model score (Pearson between natural and artificial two-point correlations), the model mean energy, the model partition function and the model entropy. "
   ]
  },
  {
   "cell_type": "code",
   "execution_count": 17,
   "metadata": {},
   "outputs": [
    {
     "name": "stdout",
     "output_type": "stream",
     "text": [
      "Fully connected model has 4560 edges, 2010960 elements and a score around ~ 0.95\n"
     ]
    },
    {
     "name": "stdout",
     "output_type": "stream",
     "text": [
      "\n",
      "iteration = 20,   Score = 0.042"
     ]
    },
    {
     "name": "stdout",
     "output_type": "stream",
     "text": [
      ",  <E> = 204.9,  log(Z) = 0.38,   S = 205.28"
     ]
    },
    {
     "name": "stdout",
     "output_type": "stream",
     "text": [
      ",   edges: 12,   elements: 20,   edge complexity: 0.26 %,  elements complexity: 0.0 %\n"
     ]
    },
    {
     "name": "stdout",
     "output_type": "stream",
     "text": [
      "\n",
      "iteration = 40,   Score = 0.057"
     ]
    },
    {
     "name": "stdout",
     "output_type": "stream",
     "text": [
      ",  <E> = 203.7,  log(Z) = 1.43,   S = 205.13,   edges: 20,   elements: 40,   edge complexity: 0.44 %,  elements complexity: 0.0 %\n"
     ]
    },
    {
     "name": "stdout",
     "output_type": "stream",
     "text": [
      "\n",
      "iteration = 60,   Score = 0.068"
     ]
    },
    {
     "name": "stdout",
     "output_type": "stream",
     "text": [
      ",  <E> = 202.5,  log(Z) = 2.29,   S = 204.79,   edges: 28,   elements: 60,   edge complexity: 0.61 %,  elements complexity: 0.0 %\n"
     ]
    },
    {
     "name": "stdout",
     "output_type": "stream",
     "text": [
      "\n",
      "iteration = 80,   Score = 0.08"
     ]
    },
    {
     "name": "stdout",
     "output_type": "stream",
     "text": [
      ",  <E> = 201.58,  log(Z) = 3.38,   S = 204.96,   edges: 37,   elements: 80,   edge complexity: 0.81 %,  elements complexity: 0.0 %\n"
     ]
    },
    {
     "name": "stdout",
     "output_type": "stream",
     "text": [
      "\n",
      "iteration = 100,   Score = 0.095"
     ]
    },
    {
     "name": "stdout",
     "output_type": "stream",
     "text": [
      ",  <E> = 200.62,  log(Z) = 4.17,   S = 204.79"
     ]
    },
    {
     "name": "stdout",
     "output_type": "stream",
     "text": [
      ",   edges: 45,   elements: 100,   edge complexity: 0.99 %,  elements complexity: 0.0 %\n"
     ]
    },
    {
     "name": "stdout",
     "output_type": "stream",
     "text": [
      "\n",
      "iteration = 120,   Score = 0.114"
     ]
    },
    {
     "name": "stdout",
     "output_type": "stream",
     "text": [
      ",  <E> = 199.17,  log(Z) = 5.03,   S = 204.2,   edges: 51,   elements: 120,   edge complexity: 1.12 %,  elements complexity: 0.01 %\n"
     ]
    },
    {
     "name": "stdout",
     "output_type": "stream",
     "text": [
      "\n",
      "iteration = 140,   Score = 0.121"
     ]
    },
    {
     "name": "stdout",
     "output_type": "stream",
     "text": [
      ",  <E> = 198.53,  log(Z) = 5.82,   S = 204.35,   edges: 57,   elements: 140,   edge complexity: 1.25 %,  elements complexity: 0.01 %\n"
     ]
    },
    {
     "name": "stdout",
     "output_type": "stream",
     "text": [
      "\n",
      "iteration = 160,   Score = 0.142"
     ]
    },
    {
     "name": "stdout",
     "output_type": "stream",
     "text": [
      ",  <E> = 197.1,  log(Z) = 6.66,   S = 203.76,   edges: 64,   elements: 160,   edge complexity: 1.4 %,  elements complexity: 0.01 %\n"
     ]
    },
    {
     "name": "stdout",
     "output_type": "stream",
     "text": [
      "\n",
      "iteration = 180,   Score = 0.149"
     ]
    },
    {
     "name": "stdout",
     "output_type": "stream",
     "text": [
      ",  <E> = 196.58,  log(Z) = 7.35,   S = 203.92,   edges: 70,   elements: 180,   edge complexity: 1.54 %,  elements complexity: 0.01 %\n"
     ]
    },
    {
     "name": "stdout",
     "output_type": "stream",
     "text": [
      "\n",
      "iteration = 200,   Score = 0.155"
     ]
    },
    {
     "name": "stdout",
     "output_type": "stream",
     "text": [
      ",  <E> = 196.06,  log(Z) = 8.36,   S = 204.42,   edges: 76,   elements: 200,   edge complexity: 1.67 %,  elements complexity: 0.01 %\n"
     ]
    },
    {
     "name": "stdout",
     "output_type": "stream",
     "text": [
      "\n",
      "iteration = 220,   Score = 0.176"
     ]
    },
    {
     "name": "stdout",
     "output_type": "stream",
     "text": [
      ",  <E> = 194.97,  log(Z) = 9.15,   S = 204.12,   edges: 85,   elements: 220,   edge complexity: 1.86 %,  elements complexity: 0.01 %\n"
     ]
    },
    {
     "name": "stdout",
     "output_type": "stream",
     "text": [
      "\n",
      "iteration = 240,   Score = 0.183"
     ]
    },
    {
     "name": "stdout",
     "output_type": "stream",
     "text": [
      ",  <E> = 194.54,  log(Z) = 9.73,   S = 204.27,   edges: 88,   elements: 240,   edge complexity: 1.93 %,  elements complexity: 0.01 %\n"
     ]
    },
    {
     "name": "stdout",
     "output_type": "stream",
     "text": [
      "\n",
      "iteration = 260,   Score = 0.19"
     ]
    },
    {
     "name": "stdout",
     "output_type": "stream",
     "text": [
      ",  <E> = 193.49,  log(Z) = 10.59,   S = 204.09,   edges: 98,   elements: 260,   edge complexity: 2.15 %,  elements complexity: 0.01 %\n"
     ]
    },
    {
     "name": "stdout",
     "output_type": "stream",
     "text": [
      "\n",
      "iteration = 280,   Score = 0.188"
     ]
    },
    {
     "name": "stdout",
     "output_type": "stream",
     "text": [
      ",  <E> = 192.46,  log(Z) = 11.54,   S = 204.0,   edges: 106,   elements: 280,   edge complexity: 2.32 %,  elements complexity: 0.01 %\n"
     ]
    },
    {
     "name": "stdout",
     "output_type": "stream",
     "text": [
      "\n",
      "iteration = 300,   Score = 0.201"
     ]
    },
    {
     "name": "stdout",
     "output_type": "stream",
     "text": [
      ",  <E> = 191.81,  log(Z) = 12.52,   S = 204.33,   edges: 112,   elements: 300,   edge complexity: 2.46 %,  elements complexity: 0.01 %\n"
     ]
    },
    {
     "name": "stdout",
     "output_type": "stream",
     "text": [
      "\n",
      "iteration = 320,   Score = 0.223"
     ]
    },
    {
     "name": "stdout",
     "output_type": "stream",
     "text": [
      ",  <E> = 191.62,  log(Z) = 13.27,   S = 204.89,   edges: 118,   elements: 319,   edge complexity: 2.59 %,  elements complexity: 0.02 %\n"
     ]
    },
    {
     "name": "stdout",
     "output_type": "stream",
     "text": [
      "\n",
      "iteration = 340,   Score = 0.233"
     ]
    },
    {
     "name": "stdout",
     "output_type": "stream",
     "text": [
      ",  <E> = 190.94,  log(Z) = 14.3,   S = 205.24,   edges: 126,   elements: 339,   edge complexity: 2.76 %,  elements complexity: 0.02 %\n"
     ]
    },
    {
     "name": "stdout",
     "output_type": "stream",
     "text": [
      "\n",
      "iteration = 360,   Score = 0.242"
     ]
    },
    {
     "name": "stdout",
     "output_type": "stream",
     "text": [
      ",  <E> = 190.41,  log(Z) = 15.3,   S = 205.71,   edges: 131,   elements: 359,   edge complexity: 2.87 %,  elements complexity: 0.02 %\n"
     ]
    },
    {
     "name": "stdout",
     "output_type": "stream",
     "text": [
      "\n",
      "iteration = 380,   Score = 0.255"
     ]
    },
    {
     "name": "stdout",
     "output_type": "stream",
     "text": [
      ",  <E> = 189.51,  log(Z) = 16.12,   S = 205.64,   edges: 136,   elements: 379,   edge complexity: 2.98 %,  elements complexity: 0.02 %\n"
     ]
    },
    {
     "name": "stdout",
     "output_type": "stream",
     "text": [
      "\n",
      "iteration = 400,   Score = 0.265"
     ]
    },
    {
     "name": "stdout",
     "output_type": "stream",
     "text": [
      ",  <E> = 188.66,  log(Z) = 16.98,   S = 205.64,   edges: 142,   elements: 399,   edge complexity: 3.11 %,  elements complexity: 0.02 %\n"
     ]
    },
    {
     "name": "stdout",
     "output_type": "stream",
     "text": [
      "\n",
      "iteration = 420,   Score = 0.268"
     ]
    },
    {
     "name": "stdout",
     "output_type": "stream",
     "text": [
      ",  <E> = 188.68,  log(Z) = 17.96,   S = 206.64,   edges: 149,   elements: 419,   edge complexity: 3.27 %,  elements complexity: 0.02 %\n"
     ]
    },
    {
     "name": "stdout",
     "output_type": "stream",
     "text": [
      "\n",
      "iteration = 440,   Score = 0.277"
     ]
    },
    {
     "name": "stdout",
     "output_type": "stream",
     "text": [
      ",  <E> = 187.69,  log(Z) = 18.93,   S = 206.63,   edges: 158,   elements: 439,   edge complexity: 3.46 %,  elements complexity: 0.02 %\n"
     ]
    },
    {
     "name": "stdout",
     "output_type": "stream",
     "text": [
      "\n",
      "iteration = 460,   Score = 0.29"
     ]
    },
    {
     "name": "stdout",
     "output_type": "stream",
     "text": [
      ",  <E> = 186.95,  log(Z) = 19.74,   S = 206.69,   edges: 167,   elements: 458,   edge complexity: 3.66 %,  elements complexity: 0.02 %\n"
     ]
    },
    {
     "name": "stdout",
     "output_type": "stream",
     "text": [
      "\n",
      "iteration = 480,   Score = 0.298"
     ]
    },
    {
     "name": "stdout",
     "output_type": "stream",
     "text": [
      ",  <E> = 186.44,  log(Z) = 20.51,   S = 206.95,   edges: 172,   elements: 478,   edge complexity: 3.77 %,  elements complexity: 0.02 %\n"
     ]
    },
    {
     "name": "stdout",
     "output_type": "stream",
     "text": [
      "\n",
      "iteration = 500,   Score = 0.3"
     ]
    },
    {
     "name": "stdout",
     "output_type": "stream",
     "text": [
      ",  <E> = 185.3,  log(Z) = 21.02,   S = 206.32,   edges: 178,   elements: 498,   edge complexity: 3.9 %,  elements complexity: 0.02 %\n"
     ]
    },
    {
     "name": "stdout",
     "output_type": "stream",
     "text": [
      "\n",
      "iteration = 520,   Score = 0.305"
     ]
    },
    {
     "name": "stdout",
     "output_type": "stream",
     "text": [
      ",  <E> = 184.72,  log(Z) = 21.84,   S = 206.55,   edges: 184,   elements: 518,   edge complexity: 4.04 %,  elements complexity: 0.03 %\n"
     ]
    },
    {
     "name": "stdout",
     "output_type": "stream",
     "text": [
      "\n",
      "iteration = 540,   Score = 0.331"
     ]
    },
    {
     "name": "stdout",
     "output_type": "stream",
     "text": [
      ",  <E> = 183.0,  log(Z) = 22.68,   S = 205.68,   edges: 194,   elements: 538,   edge complexity: 4.25 %,  elements complexity: 0.03 %\n"
     ]
    },
    {
     "name": "stdout",
     "output_type": "stream",
     "text": [
      "\n",
      "iteration = 560,   Score = 0.334"
     ]
    },
    {
     "name": "stdout",
     "output_type": "stream",
     "text": [
      ",  <E> = 182.11,  log(Z) = 23.43,   S = 205.54,   edges: 203,   elements: 558,   edge complexity: 4.45 %,  elements complexity: 0.03 %\n"
     ]
    },
    {
     "name": "stdout",
     "output_type": "stream",
     "text": [
      "\n",
      "iteration = 580,   Score = 0.338"
     ]
    },
    {
     "name": "stdout",
     "output_type": "stream",
     "text": [
      ",  <E> = 181.44,  log(Z) = 24.39,   S = 205.83,   edges: 209,   elements: 577,   edge complexity: 4.58 %,  elements complexity: 0.03 %\n"
     ]
    },
    {
     "name": "stdout",
     "output_type": "stream",
     "text": [
      "\n",
      "iteration = 600,   Score = 0.332"
     ]
    },
    {
     "name": "stdout",
     "output_type": "stream",
     "text": [
      ",  <E> = 180.7,  log(Z) = 25.11,   S = 205.81,   edges: 213,   elements: 596,   edge complexity: 4.67 %,  elements complexity: 0.03 %\n"
     ]
    },
    {
     "name": "stdout",
     "output_type": "stream",
     "text": [
      "\n",
      "iteration = 620,   Score = 0.342"
     ]
    },
    {
     "name": "stdout",
     "output_type": "stream",
     "text": [
      ",  <E> = 180.24,  log(Z) = 26.02,   S = 206.26,   edges: 216,   elements: 615,   edge complexity: 4.74 %,  elements complexity: 0.03 %\n"
     ]
    },
    {
     "name": "stdout",
     "output_type": "stream",
     "text": [
      "\n",
      "iteration = 640,   Score = 0.35"
     ]
    },
    {
     "name": "stdout",
     "output_type": "stream",
     "text": [
      ",  <E> = 180.08,  log(Z) = 27.08,   S = 207.15,   edges: 223,   elements: 635,   edge complexity: 4.89 %,  elements complexity: 0.03 %\n"
     ]
    },
    {
     "name": "stdout",
     "output_type": "stream",
     "text": [
      "\n",
      "iteration = 660,   Score = 0.368"
     ]
    },
    {
     "name": "stdout",
     "output_type": "stream",
     "text": [
      ",  <E> = 179.58,  log(Z) = 27.92,   S = 207.5,   edges: 230,   elements: 655,   edge complexity: 5.04 %,  elements complexity: 0.03 %\n"
     ]
    },
    {
     "name": "stdout",
     "output_type": "stream",
     "text": [
      "\n",
      "iteration = 680,   Score = 0.375"
     ]
    },
    {
     "name": "stdout",
     "output_type": "stream",
     "text": [
      ",  <E> = 178.61,  log(Z) = 28.74,   S = 207.35,   edges: 235,   elements: 675,   edge complexity: 5.15 %,  elements complexity: 0.03 %\n"
     ]
    },
    {
     "name": "stdout",
     "output_type": "stream",
     "text": [
      "\n",
      "iteration = 700,   Score = 0.381"
     ]
    },
    {
     "name": "stdout",
     "output_type": "stream",
     "text": [
      ",  <E> = 178.32,  log(Z) = 29.61,   S = 207.93,   edges: 239,   elements: 695,   edge complexity: 5.24 %,  elements complexity: 0.03 %\n"
     ]
    },
    {
     "name": "stdout",
     "output_type": "stream",
     "text": [
      "\n",
      "iteration = 720,   Score = 0.383"
     ]
    },
    {
     "name": "stdout",
     "output_type": "stream",
     "text": [
      ",  <E> = 177.9,  log(Z) = 30.39,   S = 208.29,   edges: 245,   elements: 715,   edge complexity: 5.37 %,  elements complexity: 0.04 %\n"
     ]
    },
    {
     "name": "stdout",
     "output_type": "stream",
     "text": [
      "\n",
      "iteration = 740,   Score = 0.388"
     ]
    },
    {
     "name": "stdout",
     "output_type": "stream",
     "text": [
      ",  <E> = 176.04,  log(Z) = 31.23,   S = 207.27,   edges: 252,   elements: 735,   edge complexity: 5.53 %,  elements complexity: 0.04 %\n"
     ]
    },
    {
     "name": "stdout",
     "output_type": "stream",
     "text": [
      "\n",
      "iteration = 760,   Score = 0.395"
     ]
    },
    {
     "name": "stdout",
     "output_type": "stream",
     "text": [
      ",  <E> = 175.54,  log(Z) = 31.98,   S = 207.52,   edges: 252,   elements: 754,   edge complexity: 5.53 %,  elements complexity: 0.04 %\n"
     ]
    },
    {
     "name": "stdout",
     "output_type": "stream",
     "text": [
      "\n",
      "iteration = 780,   Score = 0.402"
     ]
    },
    {
     "name": "stdout",
     "output_type": "stream",
     "text": [
      ",  <E> = 174.68,  log(Z) = 32.66,   S = 207.33,   edges: 261,   elements: 774,   edge complexity: 5.72 %,  elements complexity: 0.04 %\n"
     ]
    },
    {
     "name": "stdout",
     "output_type": "stream",
     "text": [
      "\n",
      "iteration = 800,   Score = 0.399"
     ]
    },
    {
     "name": "stdout",
     "output_type": "stream",
     "text": [
      ",  <E> = 174.42,  log(Z) = 33.59,   S = 208.01"
     ]
    },
    {
     "name": "stdout",
     "output_type": "stream",
     "text": [
      ",   edges: 267,   elements: 794,   edge complexity: 5.86 %,  elements complexity: 0.04 %\n"
     ]
    },
    {
     "name": "stdout",
     "output_type": "stream",
     "text": [
      "\n",
      "iteration = 820,   Score = 0.41"
     ]
    },
    {
     "name": "stdout",
     "output_type": "stream",
     "text": [
      ",  <E> = 173.42,  log(Z) = 34.64,   S = 208.07,   edges: 272,   elements: 814,   edge complexity: 5.96 %,  elements complexity: 0.04 %\n"
     ]
    },
    {
     "name": "stdout",
     "output_type": "stream",
     "text": [
      "\n",
      "iteration = 840,   Score = 0.407"
     ]
    },
    {
     "name": "stdout",
     "output_type": "stream",
     "text": [
      ",  <E> = 172.72,  log(Z) = 35.49,   S = 208.21,   edges: 279,   elements: 834,   edge complexity: 6.12 %,  elements complexity: 0.04 %\n"
     ]
    },
    {
     "name": "stdout",
     "output_type": "stream",
     "text": [
      "\n",
      "iteration = 860,   Score = 0.408"
     ]
    },
    {
     "name": "stdout",
     "output_type": "stream",
     "text": [
      ",  <E> = 173.08,  log(Z) = 36.43,   S = 209.51,   edges: 286,   elements: 854,   edge complexity: 6.27 %,  elements complexity: 0.04 %\n"
     ]
    },
    {
     "name": "stdout",
     "output_type": "stream",
     "text": [
      "\n",
      "iteration = 880,   Score = 0.425"
     ]
    },
    {
     "name": "stdout",
     "output_type": "stream",
     "text": [
      ",  <E> = 171.91,  log(Z) = 37.43,   S = 209.34"
     ]
    },
    {
     "name": "stdout",
     "output_type": "stream",
     "text": [
      ",   edges: 289,   elements: 874,   edge complexity: 6.34 %,  elements complexity: 0.04 %\n"
     ]
    },
    {
     "name": "stdout",
     "output_type": "stream",
     "text": [
      "\n",
      "iteration = 900,   Score = 0.429"
     ]
    },
    {
     "name": "stdout",
     "output_type": "stream",
     "text": [
      ",  <E> = 171.71,  log(Z) = 38.56,   S = 210.27,   edges: 296,   elements: 894,   edge complexity: 6.49 %,  elements complexity: 0.04 %\n"
     ]
    },
    {
     "name": "stdout",
     "output_type": "stream",
     "text": [
      "\n",
      "iteration = 920,   Score = 0.432"
     ]
    },
    {
     "name": "stdout",
     "output_type": "stream",
     "text": [
      ",  <E> = 171.35,  log(Z) = 39.4,   S = 210.75,   edges: 298,   elements: 911,   edge complexity: 6.54 %,  elements complexity: 0.05 %\n"
     ]
    },
    {
     "name": "stdout",
     "output_type": "stream",
     "text": [
      "\n",
      "iteration = 940,   Score = 0.445"
     ]
    },
    {
     "name": "stdout",
     "output_type": "stream",
     "text": [
      ",  <E> = 170.28,  log(Z) = 40.2,   S = 210.47,   edges: 310,   elements: 931,   edge complexity: 6.8 %,  elements complexity: 0.05 %\n"
     ]
    },
    {
     "name": "stdout",
     "output_type": "stream",
     "text": [
      "\n",
      "iteration = 960,   Score = 0.439"
     ]
    },
    {
     "name": "stdout",
     "output_type": "stream",
     "text": [
      ",  <E> = 170.07,  log(Z) = 41.16,   S = 211.23,   edges: 314,   elements: 951,   edge complexity: 6.89 %,  elements complexity: 0.05 %\n"
     ]
    },
    {
     "name": "stdout",
     "output_type": "stream",
     "text": [
      "\n",
      "iteration = 980,   Score = 0.452"
     ]
    },
    {
     "name": "stdout",
     "output_type": "stream",
     "text": [
      ",  <E> = 168.44,  log(Z) = 42.06,   S = 210.5,   edges: 320,   elements: 970,   edge complexity: 7.02 %,  elements complexity: 0.05 %\n"
     ]
    },
    {
     "name": "stdout",
     "output_type": "stream",
     "text": [
      "\n",
      "iteration = 1000,   Score = 0.464"
     ]
    },
    {
     "name": "stdout",
     "output_type": "stream",
     "text": [
      ",  <E> = 168.11,  log(Z) = 42.9,   S = 211.01"
     ]
    },
    {
     "name": "stdout",
     "output_type": "stream",
     "text": [
      ",   edges: 324,   elements: 990,   edge complexity: 7.11 %,  elements complexity: 0.05 %\n"
     ]
    },
    {
     "name": "stdout",
     "output_type": "stream",
     "text": [
      "\n",
      "iteration = 1020,   Score = 0.463"
     ]
    },
    {
     "name": "stdout",
     "output_type": "stream",
     "text": [
      ",  <E> = 167.75,  log(Z) = 43.72,   S = 211.47,   edges: 331,   elements: 1010,   edge complexity: 7.26 %,  elements complexity: 0.05 %\n"
     ]
    },
    {
     "name": "stdout",
     "output_type": "stream",
     "text": [
      "\n",
      "iteration = 1040,   Score = 0.466"
     ]
    },
    {
     "name": "stdout",
     "output_type": "stream",
     "text": [
      ",  <E> = 167.03,  log(Z) = 44.55,   S = 211.58,   edges: 339,   elements: 1029,   edge complexity: 7.43 %,  elements complexity: 0.05 %\n"
     ]
    },
    {
     "name": "stdout",
     "output_type": "stream",
     "text": [
      "\n",
      "iteration = 1060,   Score = 0.481"
     ]
    },
    {
     "name": "stdout",
     "output_type": "stream",
     "text": [
      ",  <E> = 166.09,  log(Z) = 45.26,   S = 211.35,   edges: 344,   elements: 1049,   edge complexity: 7.54 %,  elements complexity: 0.05 %\n"
     ]
    },
    {
     "name": "stdout",
     "output_type": "stream",
     "text": [
      "\n",
      "iteration = 1080,   Score = 0.487"
     ]
    },
    {
     "name": "stdout",
     "output_type": "stream",
     "text": [
      ",  <E> = 166.11,  log(Z) = 46.19,   S = 212.31,   edges: 351,   elements: 1069,   edge complexity: 7.7 %,  elements complexity: 0.05 %\n"
     ]
    },
    {
     "name": "stdout",
     "output_type": "stream",
     "text": [
      "\n",
      "iteration = 1100,   Score = 0.482"
     ]
    },
    {
     "name": "stdout",
     "output_type": "stream",
     "text": [
      ",  <E> = 165.68,  log(Z) = 47.25,   S = 212.93,   edges: 356,   elements: 1089,   edge complexity: 7.81 %,  elements complexity: 0.05 %\n"
     ]
    },
    {
     "name": "stdout",
     "output_type": "stream",
     "text": [
      "\n",
      "iteration = 1120,   Score = 0.484"
     ]
    },
    {
     "name": "stdout",
     "output_type": "stream",
     "text": [
      ",  <E> = 165.13,  log(Z) = 48.32,   S = 213.46,   edges: 366,   elements: 1109,   edge complexity: 8.03 %,  elements complexity: 0.06 %\n"
     ]
    },
    {
     "name": "stdout",
     "output_type": "stream",
     "text": [
      "\n",
      "iteration = 1140,   Score = 0.491"
     ]
    },
    {
     "name": "stdout",
     "output_type": "stream",
     "text": [
      ",  <E> = 164.2,  log(Z) = 49.28,   S = 213.48,   edges: 375,   elements: 1129,   edge complexity: 8.22 %,  elements complexity: 0.06 %\n"
     ]
    },
    {
     "name": "stdout",
     "output_type": "stream",
     "text": [
      "\n",
      "iteration = 1160,   Score = 0.496"
     ]
    },
    {
     "name": "stdout",
     "output_type": "stream",
     "text": [
      ",  <E> = 163.72,  log(Z) = 50.15,   S = 213.87,   edges: 381,   elements: 1149,   edge complexity: 8.36 %,  elements complexity: 0.06 %\n"
     ]
    },
    {
     "name": "stdout",
     "output_type": "stream",
     "text": [
      "\n",
      "iteration = 1180,   Score = 0.505"
     ]
    },
    {
     "name": "stdout",
     "output_type": "stream",
     "text": [
      ",  <E> = 162.92,  log(Z) = 50.94,   S = 213.86,   edges: 386,   elements: 1168,   edge complexity: 8.46 %,  elements complexity: 0.06 %\n"
     ]
    },
    {
     "name": "stdout",
     "output_type": "stream",
     "text": [
      "\n",
      "iteration = 1200,   Score = 0.509"
     ]
    },
    {
     "name": "stdout",
     "output_type": "stream",
     "text": [
      ",  <E> = 161.73,  log(Z) = 51.9,   S = 213.63,   edges: 393,   elements: 1188,   edge complexity: 8.62 %,  elements complexity: 0.06 %\n"
     ]
    },
    {
     "name": "stdout",
     "output_type": "stream",
     "text": [
      "\n",
      "iteration = 1220,   Score = 0.507"
     ]
    },
    {
     "name": "stdout",
     "output_type": "stream",
     "text": [
      ",  <E> = 161.44,  log(Z) = 53.06,   S = 214.5,   edges: 401,   elements: 1208,   edge complexity: 8.79 %,  elements complexity: 0.06 %\n"
     ]
    },
    {
     "name": "stdout",
     "output_type": "stream",
     "text": [
      "\n",
      "iteration = 1240,   Score = 0.514"
     ]
    },
    {
     "name": "stdout",
     "output_type": "stream",
     "text": [
      ",  <E> = 160.28,  log(Z) = 53.88,   S = 214.15,   edges: 411,   elements: 1228,   edge complexity: 9.01 %,  elements complexity: 0.06 %\n"
     ]
    },
    {
     "name": "stdout",
     "output_type": "stream",
     "text": [
      "\n",
      "iteration = 1260,   Score = 0.518"
     ]
    },
    {
     "name": "stdout",
     "output_type": "stream",
     "text": [
      ",  <E> = 159.49,  log(Z) = 54.74,   S = 214.23,   edges: 418,   elements: 1248,   edge complexity: 9.17 %,  elements complexity: 0.06 %\n"
     ]
    },
    {
     "name": "stdout",
     "output_type": "stream",
     "text": [
      "\n",
      "iteration = 1280,   Score = 0.513"
     ]
    },
    {
     "name": "stdout",
     "output_type": "stream",
     "text": [
      ",  <E> = 159.62,  log(Z) = 55.81,   S = 215.42"
     ]
    },
    {
     "name": "stdout",
     "output_type": "stream",
     "text": [
      ",   edges: 422,   elements: 1267,   edge complexity: 9.25 %,  elements complexity: 0.06 %\n"
     ]
    },
    {
     "name": "stdout",
     "output_type": "stream",
     "text": [
      "\n",
      "iteration = 1300,   Score = 0.522"
     ]
    },
    {
     "name": "stdout",
     "output_type": "stream",
     "text": [
      ",  <E> = 159.35,  log(Z) = 56.49,   S = 215.84,   edges: 429,   elements: 1287,   edge complexity: 9.41 %,  elements complexity: 0.06 %\n"
     ]
    },
    {
     "name": "stdout",
     "output_type": "stream",
     "text": [
      "\n",
      "iteration = 1320,   Score = 0.527"
     ]
    },
    {
     "name": "stdout",
     "output_type": "stream",
     "text": [
      ",  <E> = 158.84,  log(Z) = 57.48,   S = 216.31,   edges: 434,   elements: 1306,   edge complexity: 9.52 %,  elements complexity: 0.06 %\n"
     ]
    },
    {
     "name": "stdout",
     "output_type": "stream",
     "text": [
      "\n",
      "iteration = 1340,   Score = 0.53"
     ]
    },
    {
     "name": "stdout",
     "output_type": "stream",
     "text": [
      ",  <E> = 158.18,  log(Z) = 58.42,   S = 216.6,   edges: 440,   elements: 1326,   edge complexity: 9.65 %,  elements complexity: 0.07 %\n"
     ]
    },
    {
     "name": "stdout",
     "output_type": "stream",
     "text": [
      "\n",
      "iteration = 1360,   Score = 0.536"
     ]
    },
    {
     "name": "stdout",
     "output_type": "stream",
     "text": [
      ",  <E> = 157.4,  log(Z) = 59.38,   S = 216.78,   edges: 447,   elements: 1346,   edge complexity: 9.8 %,  elements complexity: 0.07 %\n"
     ]
    },
    {
     "name": "stdout",
     "output_type": "stream",
     "text": [
      "\n",
      "iteration = 1380,   Score = 0.531"
     ]
    },
    {
     "name": "stdout",
     "output_type": "stream",
     "text": [
      ",  <E> = 157.11,  log(Z) = 60.32,   S = 217.43,   edges: 453,   elements: 1366,   edge complexity: 9.93 %,  elements complexity: 0.07 %\n"
     ]
    },
    {
     "name": "stdout",
     "output_type": "stream",
     "text": [
      "\n",
      "iteration = 1400,   Score = 0.534"
     ]
    },
    {
     "name": "stdout",
     "output_type": "stream",
     "text": [
      ",  <E> = 156.89,  log(Z) = 61.08,   S = 217.97,   edges: 458,   elements: 1386,   edge complexity: 10.04 %,  elements complexity: 0.07 %\n"
     ]
    },
    {
     "name": "stdout",
     "output_type": "stream",
     "text": [
      "\n",
      "iteration = 1420,   Score = 0.534"
     ]
    },
    {
     "name": "stdout",
     "output_type": "stream",
     "text": [
      ",  <E> = 156.61,  log(Z) = 62.09,   S = 218.7,   edges: 463,   elements: 1406,   edge complexity: 10.15 %,  elements complexity: 0.07 %\n"
     ]
    },
    {
     "name": "stdout",
     "output_type": "stream",
     "text": [
      "\n",
      "iteration = 1440,   Score = 0.536"
     ]
    },
    {
     "name": "stdout",
     "output_type": "stream",
     "text": [
      ",  <E> = 155.9,  log(Z) = 63.05,   S = 218.96"
     ]
    },
    {
     "name": "stdout",
     "output_type": "stream",
     "text": [
      ",   edges: 465,   elements: 1425,   edge complexity: 10.2 %,  elements complexity: 0.07 %\n"
     ]
    },
    {
     "name": "stdout",
     "output_type": "stream",
     "text": [
      "\n",
      "iteration = 1460,   Score = 0.542"
     ]
    },
    {
     "name": "stdout",
     "output_type": "stream",
     "text": [
      ",  <E> = 155.7,  log(Z) = 64.05,   S = 219.75,   edges: 472,   elements: 1445,   edge complexity: 10.35 %,  elements complexity: 0.07 %\n"
     ]
    },
    {
     "name": "stdout",
     "output_type": "stream",
     "text": [
      "\n",
      "iteration = 1480,   Score = 0.546"
     ]
    },
    {
     "name": "stdout",
     "output_type": "stream",
     "text": [
      ",  <E> = 154.56,  log(Z) = 64.82,   S = 219.39,   edges: 477,   elements: 1464,   edge complexity: 10.46 %,  elements complexity: 0.07 %\n"
     ]
    },
    {
     "name": "stdout",
     "output_type": "stream",
     "text": [
      "\n",
      "iteration = 1500,   Score = 0.543"
     ]
    },
    {
     "name": "stdout",
     "output_type": "stream",
     "text": [
      ",  <E> = 154.32,  log(Z) = 65.68,   S = 220.0,   edges: 482,   elements: 1484,   edge complexity: 10.57 %,  elements complexity: 0.07 %\n"
     ]
    },
    {
     "name": "stdout",
     "output_type": "stream",
     "text": [
      "\n",
      "iteration = 1520,   Score = 0.547"
     ]
    },
    {
     "name": "stdout",
     "output_type": "stream",
     "text": [
      ",  <E> = 153.84,  log(Z) = 66.61,   S = 220.45"
     ]
    },
    {
     "name": "stdout",
     "output_type": "stream",
     "text": [
      ",   edges: 489,   elements: 1504,   edge complexity: 10.72 %,  elements complexity: 0.07 %\n"
     ]
    },
    {
     "name": "stdout",
     "output_type": "stream",
     "text": [
      "\n",
      "iteration = 1540,   Score = 0.561"
     ]
    },
    {
     "name": "stdout",
     "output_type": "stream",
     "text": [
      ",  <E> = 152.28,  log(Z) = 67.54,   S = 219.81,   edges: 497,   elements: 1524,   edge complexity: 10.9 %,  elements complexity: 0.08 %\n"
     ]
    },
    {
     "name": "stdout",
     "output_type": "stream",
     "text": [
      "\n",
      "iteration = 1560,   Score = 0.562"
     ]
    },
    {
     "name": "stdout",
     "output_type": "stream",
     "text": [
      ",  <E> = 152.24,  log(Z) = 68.5,   S = 220.74,   edges: 503,   elements: 1544,   edge complexity: 11.03 %,  elements complexity: 0.08 %\n"
     ]
    },
    {
     "name": "stdout",
     "output_type": "stream",
     "text": [
      "\n",
      "iteration = 1580,   Score = 0.564"
     ]
    },
    {
     "name": "stdout",
     "output_type": "stream",
     "text": [
      ",  <E> = 151.0,  log(Z) = 69.46,   S = 220.47,   edges: 511,   elements: 1563,   edge complexity: 11.21 %,  elements complexity: 0.08 %\n"
     ]
    },
    {
     "name": "stdout",
     "output_type": "stream",
     "text": [
      "\n",
      "iteration = 1600,   Score = 0.574"
     ]
    },
    {
     "name": "stdout",
     "output_type": "stream",
     "text": [
      ",  <E> = 150.9,  log(Z) = 70.46,   S = 221.37,   edges: 513,   elements: 1582,   edge complexity: 11.25 %,  elements complexity: 0.08 %\n"
     ]
    },
    {
     "name": "stdout",
     "output_type": "stream",
     "text": [
      "\n",
      "iteration = 1620,   Score = 0.576"
     ]
    },
    {
     "name": "stdout",
     "output_type": "stream",
     "text": [
      ",  <E> = 149.82,  log(Z) = 71.25,   S = 221.07,   edges: 516,   elements: 1602,   edge complexity: 11.32 %,  elements complexity: 0.08 %\n"
     ]
    },
    {
     "name": "stdout",
     "output_type": "stream",
     "text": [
      "\n",
      "iteration = 1640,   Score = 0.574"
     ]
    },
    {
     "name": "stdout",
     "output_type": "stream",
     "text": [
      ",  <E> = 150.05,  log(Z) = 72.23,   S = 222.28,   edges: 522,   elements: 1621,   edge complexity: 11.45 %,  elements complexity: 0.08 %\n"
     ]
    },
    {
     "name": "stdout",
     "output_type": "stream",
     "text": [
      "\n",
      "iteration = 1660,   Score = 0.576"
     ]
    },
    {
     "name": "stdout",
     "output_type": "stream",
     "text": [
      ",  <E> = 149.45,  log(Z) = 73.14,   S = 222.59,   edges: 524,   elements: 1639,   edge complexity: 11.49 %,  elements complexity: 0.08 %\n"
     ]
    },
    {
     "name": "stdout",
     "output_type": "stream",
     "text": [
      "\n",
      "iteration = 1680,   Score = 0.583"
     ]
    },
    {
     "name": "stdout",
     "output_type": "stream",
     "text": [
      ",  <E> = 148.95,  log(Z) = 73.95,   S = 222.9,   edges: 527,   elements: 1659,   edge complexity: 11.56 %,  elements complexity: 0.08 %\n"
     ]
    },
    {
     "name": "stdout",
     "output_type": "stream",
     "text": [
      "\n",
      "iteration = 1700,   Score = 0.584"
     ]
    },
    {
     "name": "stdout",
     "output_type": "stream",
     "text": [
      ",  <E> = 148.13,  log(Z) = 74.76,   S = 222.88,   edges: 533,   elements: 1679,   edge complexity: 11.69 %,  elements complexity: 0.08 %\n"
     ]
    },
    {
     "name": "stdout",
     "output_type": "stream",
     "text": [
      "\n",
      "iteration = 1720,   Score = 0.583"
     ]
    },
    {
     "name": "stdout",
     "output_type": "stream",
     "text": [
      ",  <E> = 148.14,  log(Z) = 75.65,   S = 223.78,   edges: 538,   elements: 1699,   edge complexity: 11.8 %,  elements complexity: 0.08 %\n"
     ]
    },
    {
     "name": "stdout",
     "output_type": "stream",
     "text": [
      "\n",
      "iteration = 1740,   Score = 0.593"
     ]
    },
    {
     "name": "stdout",
     "output_type": "stream",
     "text": [
      ",  <E> = 147.2,  log(Z) = 76.42,   S = 223.62,   edges: 542,   elements: 1719,   edge complexity: 11.89 %,  elements complexity: 0.09 %\n"
     ]
    },
    {
     "name": "stdout",
     "output_type": "stream",
     "text": [
      "\n",
      "iteration = 1760,   Score = 0.591"
     ]
    },
    {
     "name": "stdout",
     "output_type": "stream",
     "text": [
      ",  <E> = 146.62,  log(Z) = 77.43,   S = 224.05,   edges: 549,   elements: 1739,   edge complexity: 12.04 %,  elements complexity: 0.09 %\n"
     ]
    },
    {
     "name": "stdout",
     "output_type": "stream",
     "text": [
      "\n",
      "iteration = 1780,   Score = 0.594"
     ]
    },
    {
     "name": "stdout",
     "output_type": "stream",
     "text": [
      ",  <E> = 146.47,  log(Z) = 78.47,   S = 224.94,   edges: 553,   elements: 1758,   edge complexity: 12.13 %,  elements complexity: 0.09 %\n"
     ]
    },
    {
     "name": "stdout",
     "output_type": "stream",
     "text": [
      "\n",
      "iteration = 1800,   Score = 0.594"
     ]
    },
    {
     "name": "stdout",
     "output_type": "stream",
     "text": [
      ",  <E> = 146.24,  log(Z) = 79.36,   S = 225.6,   edges: 554,   elements: 1778,   edge complexity: 12.15 %,  elements complexity: 0.09 %\n"
     ]
    },
    {
     "name": "stdout",
     "output_type": "stream",
     "text": [
      "\n",
      "iteration = 1820,   Score = 0.591"
     ]
    },
    {
     "name": "stdout",
     "output_type": "stream",
     "text": [
      ",  <E> = 145.96,  log(Z) = 80.23,   S = 226.19,   edges: 557,   elements: 1798,   edge complexity: 12.21 %,  elements complexity: 0.09 %\n"
     ]
    },
    {
     "name": "stdout",
     "output_type": "stream",
     "text": [
      "\n",
      "iteration = 1840,   Score = 0.593"
     ]
    },
    {
     "name": "stdout",
     "output_type": "stream",
     "text": [
      ",  <E> = 145.35,  log(Z) = 81.13,   S = 226.49,   edges: 563,   elements: 1818,   edge complexity: 12.35 %,  elements complexity: 0.09 %\n"
     ]
    },
    {
     "name": "stdout",
     "output_type": "stream",
     "text": [
      "\n",
      "iteration = 1860,   Score = 0.598"
     ]
    },
    {
     "name": "stdout",
     "output_type": "stream",
     "text": [
      ",  <E> = 144.74,  log(Z) = 82.1,   S = 226.83,   edges: 567,   elements: 1838,   edge complexity: 12.43 %,  elements complexity: 0.09 %\n"
     ]
    },
    {
     "name": "stdout",
     "output_type": "stream",
     "text": [
      "\n",
      "iteration = 1880,   Score = 0.602"
     ]
    },
    {
     "name": "stdout",
     "output_type": "stream",
     "text": [
      ",  <E> = 144.42,  log(Z) = 82.94,   S = 227.36,   edges: 571,   elements: 1858,   edge complexity: 12.52 %,  elements complexity: 0.09 %\n"
     ]
    },
    {
     "name": "stdout",
     "output_type": "stream",
     "text": [
      "\n",
      "iteration = 1900,   Score = 0.601"
     ]
    },
    {
     "name": "stdout",
     "output_type": "stream",
     "text": [
      ",  <E> = 144.61,  log(Z) = 83.94,   S = 228.55,   edges: 576,   elements: 1878,   edge complexity: 12.63 %,  elements complexity: 0.09 %\n"
     ]
    },
    {
     "name": "stdout",
     "output_type": "stream",
     "text": [
      "\n",
      "iteration = 1920,   Score = 0.607"
     ]
    },
    {
     "name": "stdout",
     "output_type": "stream",
     "text": [
      ",  <E> = 143.84,  log(Z) = 84.93,   S = 228.77,   edges: 580,   elements: 1897,   edge complexity: 12.72 %,  elements complexity: 0.09 %\n"
     ]
    },
    {
     "name": "stdout",
     "output_type": "stream",
     "text": [
      "\n",
      "iteration = 1940,   Score = 0.607"
     ]
    },
    {
     "name": "stdout",
     "output_type": "stream",
     "text": [
      ",  <E> = 144.01,  log(Z) = 85.81,   S = 229.82,   edges: 583,   elements: 1917,   edge complexity: 12.79 %,  elements complexity: 0.1 %\n"
     ]
    },
    {
     "name": "stdout",
     "output_type": "stream",
     "text": [
      "\n",
      "iteration = 1960,   Score = 0.607"
     ]
    },
    {
     "name": "stdout",
     "output_type": "stream",
     "text": [
      ",  <E> = 143.89,  log(Z) = 86.64,   S = 230.53,   edges: 589,   elements: 1937,   edge complexity: 12.92 %,  elements complexity: 0.1 %\n"
     ]
    },
    {
     "name": "stdout",
     "output_type": "stream",
     "text": [
      "\n",
      "iteration = 1980,   Score = 0.607"
     ]
    },
    {
     "name": "stdout",
     "output_type": "stream",
     "text": [
      ",  <E> = 143.43,  log(Z) = 87.26,   S = 230.69"
     ]
    },
    {
     "name": "stdout",
     "output_type": "stream",
     "text": [
      ",   edges: 592,   elements: 1955,   edge complexity: 12.98 %,  elements complexity: 0.1 %\n"
     ]
    },
    {
     "name": "stdout",
     "output_type": "stream",
     "text": [
      "\n",
      "iteration = 2000,   Score = 0.605"
     ]
    },
    {
     "name": "stdout",
     "output_type": "stream",
     "text": [
      ",  <E> = 143.07,  log(Z) = 88.01,   S = 231.09,   edges: 594,   elements: 1973,   edge complexity: 13.03 %,  elements complexity: 0.1 %\n"
     ]
    },
    {
     "name": "stdout",
     "output_type": "stream",
     "text": [
      "\n",
      "iteration = 2020,   Score = 0.609"
     ]
    },
    {
     "name": "stdout",
     "output_type": "stream",
     "text": [
      ",  <E> = 142.11,  log(Z) = 88.71,   S = 230.82"
     ]
    },
    {
     "name": "stdout",
     "output_type": "stream",
     "text": [
      ",   edges: 595,   elements: 1993,   edge complexity: 13.05 %,  elements complexity: 0.1 %\n"
     ]
    },
    {
     "name": "stdout",
     "output_type": "stream",
     "text": [
      "\n",
      "iteration = 2040,   Score = 0.614"
     ]
    },
    {
     "name": "stdout",
     "output_type": "stream",
     "text": [
      ",  <E> = 141.94,  log(Z) = 89.62,   S = 231.56,   edges: 598,   elements: 2012,   edge complexity: 13.11 %,  elements complexity: 0.1 %\n"
     ]
    },
    {
     "name": "stdout",
     "output_type": "stream",
     "text": [
      "\n",
      "iteration = 2060,   Score = 0.618"
     ]
    },
    {
     "name": "stdout",
     "output_type": "stream",
     "text": [
      ",  <E> = 141.31,  log(Z) = 90.64,   S = 231.95,   edges: 604,   elements: 2032,   edge complexity: 13.25 %,  elements complexity: 0.1 %\n"
     ]
    },
    {
     "name": "stdout",
     "output_type": "stream",
     "text": [
      "\n",
      "iteration = 2080,   Score = 0.618"
     ]
    },
    {
     "name": "stdout",
     "output_type": "stream",
     "text": [
      ",  <E> = 140.76,  log(Z) = 91.42,   S = 232.17,   edges: 610,   elements: 2051,   edge complexity: 13.38 %,  elements complexity: 0.1 %\n"
     ]
    },
    {
     "name": "stdout",
     "output_type": "stream",
     "text": [
      "\n",
      "iteration = 2100,   Score = 0.619"
     ]
    },
    {
     "name": "stdout",
     "output_type": "stream",
     "text": [
      ",  <E> = 140.73,  log(Z) = 92.44,   S = 233.17,   edges: 612,   elements: 2071,   edge complexity: 13.42 %,  elements complexity: 0.1 %\n"
     ]
    },
    {
     "name": "stdout",
     "output_type": "stream",
     "text": [
      "\n",
      "iteration = 2120,   Score = 0.624"
     ]
    },
    {
     "name": "stdout",
     "output_type": "stream",
     "text": [
      ",  <E> = 139.55,  log(Z) = 93.42,   S = 232.97,   edges: 615,   elements: 2090,   edge complexity: 13.49 %,  elements complexity: 0.1 %\n"
     ]
    },
    {
     "name": "stdout",
     "output_type": "stream",
     "text": [
      "\n",
      "iteration = 2140,   Score = 0.63"
     ]
    },
    {
     "name": "stdout",
     "output_type": "stream",
     "text": [
      ",  <E> = 139.05,  log(Z) = 94.2,   S = 233.25,   edges: 618,   elements: 2110,   edge complexity: 13.55 %,  elements complexity: 0.1 %\n"
     ]
    },
    {
     "name": "stdout",
     "output_type": "stream",
     "text": [
      "\n",
      "iteration = 2160,   Score = 0.626"
     ]
    },
    {
     "name": "stdout",
     "output_type": "stream",
     "text": [
      ",  <E> = 138.73,  log(Z) = 95.07,   S = 233.8,   edges: 625,   elements: 2130,   edge complexity: 13.71 %,  elements complexity: 0.11 %\n"
     ]
    },
    {
     "name": "stdout",
     "output_type": "stream",
     "text": [
      "\n",
      "iteration = 2180,   Score = 0.627"
     ]
    },
    {
     "name": "stdout",
     "output_type": "stream",
     "text": [
      ",  <E> = 138.32,  log(Z) = 95.97,   S = 234.29,   edges: 627,   elements: 2150,   edge complexity: 13.75 %,  elements complexity: 0.11 %\n"
     ]
    },
    {
     "name": "stdout",
     "output_type": "stream",
     "text": [
      "\n",
      "iteration = 2200,   Score = 0.629"
     ]
    },
    {
     "name": "stdout",
     "output_type": "stream",
     "text": [
      ",  <E> = 137.66,  log(Z) = 96.82,   S = 234.49,   edges: 629,   elements: 2169,   edge complexity: 13.79 %,  elements complexity: 0.11 %\n"
     ]
    },
    {
     "name": "stdout",
     "output_type": "stream",
     "text": [
      "\n",
      "iteration = 2220,   Score = 0.627"
     ]
    },
    {
     "name": "stdout",
     "output_type": "stream",
     "text": [
      ",  <E> = 138.17,  log(Z) = 97.63,   S = 235.79,   edges: 633,   elements: 2189,   edge complexity: 13.88 %,  elements complexity: 0.11 %\n"
     ]
    },
    {
     "name": "stdout",
     "output_type": "stream",
     "text": [
      "\n",
      "iteration = 2240,   Score = 0.633"
     ]
    },
    {
     "name": "stdout",
     "output_type": "stream",
     "text": [
      ",  <E> = 137.4,  log(Z) = 98.55,   S = 235.95,   edges: 638,   elements: 2207,   edge complexity: 13.99 %,  elements complexity: 0.11 %\n"
     ]
    },
    {
     "name": "stdout",
     "output_type": "stream",
     "text": [
      "\n",
      "iteration = 2260,   Score = 0.632"
     ]
    },
    {
     "name": "stdout",
     "output_type": "stream",
     "text": [
      ",  <E> = 137.07,  log(Z) = 99.34,   S = 236.4,   edges: 639,   elements: 2227,   edge complexity: 14.01 %,  elements complexity: 0.11 %\n"
     ]
    },
    {
     "name": "stdout",
     "output_type": "stream",
     "text": [
      "\n",
      "iteration = 2280,   Score = 0.633"
     ]
    },
    {
     "name": "stdout",
     "output_type": "stream",
     "text": [
      ",  <E> = 136.94,  log(Z) = 100.01,   S = 236.95,   edges: 643,   elements: 2245,   edge complexity: 14.1 %,  elements complexity: 0.11 %\n"
     ]
    },
    {
     "name": "stdout",
     "output_type": "stream",
     "text": [
      "\n",
      "iteration = 2300,   Score = 0.639"
     ]
    },
    {
     "name": "stdout",
     "output_type": "stream",
     "text": [
      ",  <E> = 136.62,  log(Z) = 100.88,   S = 237.5,   edges: 648,   elements: 2264,   edge complexity: 14.21 %,  elements complexity: 0.11 %\n"
     ]
    },
    {
     "name": "stdout",
     "output_type": "stream",
     "text": [
      "\n",
      "iteration = 2320,   Score = 0.639"
     ]
    },
    {
     "name": "stdout",
     "output_type": "stream",
     "text": [
      ",  <E> = 135.63,  log(Z) = 101.84,   S = 237.47,   edges: 652,   elements: 2284,   edge complexity: 14.3 %,  elements complexity: 0.11 %\n"
     ]
    },
    {
     "name": "stdout",
     "output_type": "stream",
     "text": [
      "\n",
      "iteration = 2340,   Score = 0.637"
     ]
    },
    {
     "name": "stdout",
     "output_type": "stream",
     "text": [
      ",  <E> = 135.57,  log(Z) = 102.87,   S = 238.44,   edges: 659,   elements: 2304,   edge complexity: 14.45 %,  elements complexity: 0.11 %\n"
     ]
    },
    {
     "name": "stdout",
     "output_type": "stream",
     "text": [
      "\n",
      "iteration = 2360,   Score = 0.638"
     ]
    },
    {
     "name": "stdout",
     "output_type": "stream",
     "text": [
      ",  <E> = 134.95,  log(Z) = 103.82,   S = 238.77,   edges: 663,   elements: 2323,   edge complexity: 14.54 %,  elements complexity: 0.12 %\n"
     ]
    },
    {
     "name": "stdout",
     "output_type": "stream",
     "text": [
      "\n",
      "iteration = 2380,   Score = 0.638"
     ]
    },
    {
     "name": "stdout",
     "output_type": "stream",
     "text": [
      ",  <E> = 135.05,  log(Z) = 104.77,   S = 239.83,   edges: 667,   elements: 2342,   edge complexity: 14.63 %,  elements complexity: 0.12 %\n"
     ]
    },
    {
     "name": "stdout",
     "output_type": "stream",
     "text": [
      "\n",
      "iteration = 2400,   Score = 0.64"
     ]
    },
    {
     "name": "stdout",
     "output_type": "stream",
     "text": [
      ",  <E> = 134.64,  log(Z) = 105.48,   S = 240.12,   edges: 671,   elements: 2362,   edge complexity: 14.71 %,  elements complexity: 0.12 %\n"
     ]
    },
    {
     "name": "stdout",
     "output_type": "stream",
     "text": [
      "\n",
      "iteration = 2420,   Score = 0.644"
     ]
    },
    {
     "name": "stdout",
     "output_type": "stream",
     "text": [
      ",  <E> = 134.21,  log(Z) = 106.42,   S = 240.62,   edges: 679,   elements: 2382,   edge complexity: 14.89 %,  elements complexity: 0.12 %\n"
     ]
    },
    {
     "name": "stdout",
     "output_type": "stream",
     "text": [
      "\n",
      "iteration = 2440,   Score = 0.646"
     ]
    },
    {
     "name": "stdout",
     "output_type": "stream",
     "text": [
      ",  <E> = 133.59,  log(Z) = 107.26,   S = 240.85,   edges: 687,   elements: 2402,   edge complexity: 15.07 %,  elements complexity: 0.12 %\n"
     ]
    },
    {
     "name": "stdout",
     "output_type": "stream",
     "text": [
      "\n",
      "iteration = 2460,   Score = 0.642"
     ]
    },
    {
     "name": "stdout",
     "output_type": "stream",
     "text": [
      ",  <E> = 133.0,  log(Z) = 107.91,   S = 240.91,   edges: 689,   elements: 2420,   edge complexity: 15.11 %,  elements complexity: 0.12 %\n"
     ]
    },
    {
     "name": "stdout",
     "output_type": "stream",
     "text": [
      "\n",
      "iteration = 2480,   Score = 0.647"
     ]
    },
    {
     "name": "stdout",
     "output_type": "stream",
     "text": [
      ",  <E> = 132.7,  log(Z) = 108.79,   S = 241.49"
     ]
    },
    {
     "name": "stdout",
     "output_type": "stream",
     "text": [
      ",   edges: 695,   elements: 2439,   edge complexity: 15.24 %,  elements complexity: 0.12 %\n"
     ]
    },
    {
     "name": "stdout",
     "output_type": "stream",
     "text": [
      "\n",
      "iteration = 2500,   Score = 0.645"
     ]
    },
    {
     "name": "stdout",
     "output_type": "stream",
     "text": [
      ",  <E> = 132.86,  log(Z) = 109.6,   S = 242.46,   edges: 699,   elements: 2458,   edge complexity: 15.33 %,  elements complexity: 0.12 %\n"
     ]
    },
    {
     "name": "stdout",
     "output_type": "stream",
     "text": [
      "\n",
      "iteration = 2520,   Score = 0.646"
     ]
    },
    {
     "name": "stdout",
     "output_type": "stream",
     "text": [
      ",  <E> = 132.35,  log(Z) = 110.68,   S = 243.03,   edges: 705,   elements: 2478,   edge complexity: 15.46 %,  elements complexity: 0.12 %\n"
     ]
    },
    {
     "name": "stdout",
     "output_type": "stream",
     "text": [
      "\n",
      "iteration = 2540,   Score = 0.642"
     ]
    },
    {
     "name": "stdout",
     "output_type": "stream",
     "text": [
      ",  <E> = 132.61,  log(Z) = 111.63,   S = 244.25,   edges: 707,   elements: 2498,   edge complexity: 15.5 %,  elements complexity: 0.12 %\n"
     ]
    },
    {
     "name": "stdout",
     "output_type": "stream",
     "text": [
      "\n",
      "iteration = 2560,   Score = 0.646"
     ]
    },
    {
     "name": "stdout",
     "output_type": "stream",
     "text": [
      ",  <E> = 132.09,  log(Z) = 112.29,   S = 244.38,   edges: 711,   elements: 2518,   edge complexity: 15.59 %,  elements complexity: 0.13 %\n"
     ]
    },
    {
     "name": "stdout",
     "output_type": "stream",
     "text": [
      "\n",
      "iteration = 2580,   Score = 0.648"
     ]
    },
    {
     "name": "stdout",
     "output_type": "stream",
     "text": [
      ",  <E> = 132.01,  log(Z) = 113.27,   S = 245.28,   edges: 713,   elements: 2536,   edge complexity: 15.64 %,  elements complexity: 0.13 %\n"
     ]
    },
    {
     "name": "stdout",
     "output_type": "stream",
     "text": [
      "\n",
      "iteration = 2600,   Score = 0.647"
     ]
    },
    {
     "name": "stdout",
     "output_type": "stream",
     "text": [
      ",  <E> = 131.36,  log(Z) = 114.26,   S = 245.62,   edges: 716,   elements: 2556,   edge complexity: 15.7 %,  elements complexity: 0.13 %\n"
     ]
    },
    {
     "name": "stdout",
     "output_type": "stream",
     "text": [
      "\n",
      "iteration = 2620,   Score = 0.652"
     ]
    },
    {
     "name": "stdout",
     "output_type": "stream",
     "text": [
      ",  <E> = 130.78,  log(Z) = 115.09,   S = 245.87,   edges: 717,   elements: 2576,   edge complexity: 15.72 %,  elements complexity: 0.13 %\n"
     ]
    },
    {
     "name": "stdout",
     "output_type": "stream",
     "text": [
      "\n",
      "iteration = 2640,   Score = 0.652"
     ]
    },
    {
     "name": "stdout",
     "output_type": "stream",
     "text": [
      ",  <E> = 130.11,  log(Z) = 115.87,   S = 245.98,   edges: 721,   elements: 2595,   edge complexity: 15.81 %,  elements complexity: 0.13 %\n"
     ]
    },
    {
     "name": "stdout",
     "output_type": "stream",
     "text": [
      "\n",
      "iteration = 2660,   Score = 0.656"
     ]
    },
    {
     "name": "stdout",
     "output_type": "stream",
     "text": [
      ",  <E> = 129.82,  log(Z) = 116.89,   S = 246.71,   edges: 726,   elements: 2615,   edge complexity: 15.92 %,  elements complexity: 0.13 %\n"
     ]
    },
    {
     "name": "stdout",
     "output_type": "stream",
     "text": [
      "\n",
      "iteration = 2680,   Score = 0.658"
     ]
    },
    {
     "name": "stdout",
     "output_type": "stream",
     "text": [
      ",  <E> = 128.96,  log(Z) = 117.91,   S = 246.87,   edges: 729,   elements: 2635,   edge complexity: 15.99 %,  elements complexity: 0.13 %\n"
     ]
    },
    {
     "name": "stdout",
     "output_type": "stream",
     "text": [
      "\n",
      "iteration = 2700,   Score = 0.662"
     ]
    },
    {
     "name": "stdout",
     "output_type": "stream",
     "text": [
      ",  <E> = 128.3,  log(Z) = 118.94,   S = 247.23"
     ]
    },
    {
     "name": "stdout",
     "output_type": "stream",
     "text": [
      ",   edges: 732,   elements: 2655,   edge complexity: 16.05 %,  elements complexity: 0.13 %\n"
     ]
    },
    {
     "name": "stdout",
     "output_type": "stream",
     "text": [
      "\n",
      "iteration = 2720,   Score = 0.663"
     ]
    },
    {
     "name": "stdout",
     "output_type": "stream",
     "text": [
      ",  <E> = 127.38,  log(Z) = 119.69,   S = 247.07,   edges: 736,   elements: 2674,   edge complexity: 16.14 %,  elements complexity: 0.13 %\n"
     ]
    },
    {
     "name": "stdout",
     "output_type": "stream",
     "text": [
      "\n",
      "iteration = 2740,   Score = 0.666"
     ]
    },
    {
     "name": "stdout",
     "output_type": "stream",
     "text": [
      ",  <E> = 127.16,  log(Z) = 120.55,   S = 247.71,   edges: 741,   elements: 2694,   edge complexity: 16.25 %,  elements complexity: 0.13 %\n"
     ]
    },
    {
     "name": "stdout",
     "output_type": "stream",
     "text": [
      "\n",
      "iteration = 2760,   Score = 0.669"
     ]
    },
    {
     "name": "stdout",
     "output_type": "stream",
     "text": [
      ",  <E> = 126.83,  log(Z) = 121.29,   S = 248.12,   edges: 747,   elements: 2714,   edge complexity: 16.38 %,  elements complexity: 0.13 %\n"
     ]
    },
    {
     "name": "stdout",
     "output_type": "stream",
     "text": [
      "\n",
      "iteration = 2780,   Score = 0.67"
     ]
    },
    {
     "name": "stdout",
     "output_type": "stream",
     "text": [
      ",  <E> = 126.25,  log(Z) = 122.38,   S = 248.64,   edges: 750,   elements: 2733,   edge complexity: 16.45 %,  elements complexity: 0.14 %\n"
     ]
    },
    {
     "name": "stdout",
     "output_type": "stream",
     "text": [
      "\n",
      "iteration = 2800,   Score = 0.675"
     ]
    },
    {
     "name": "stdout",
     "output_type": "stream",
     "text": [
      ",  <E> = 125.59,  log(Z) = 123.17,   S = 248.75,   edges: 751,   elements: 2753,   edge complexity: 16.47 %,  elements complexity: 0.14 %\n"
     ]
    },
    {
     "name": "stdout",
     "output_type": "stream",
     "text": [
      "\n",
      "iteration = 2820,   Score = 0.671"
     ]
    },
    {
     "name": "stdout",
     "output_type": "stream",
     "text": [
      ",  <E> = 125.61,  log(Z) = 124.04,   S = 249.64,   edges: 754,   elements: 2773,   edge complexity: 16.54 %,  elements complexity: 0.14 %\n"
     ]
    },
    {
     "name": "stdout",
     "output_type": "stream",
     "text": [
      "\n",
      "iteration = 2840,   Score = 0.674"
     ]
    },
    {
     "name": "stdout",
     "output_type": "stream",
     "text": [
      ",  <E> = 125.48,  log(Z) = 124.86,   S = 250.33,   edges: 757,   elements: 2793,   edge complexity: 16.6 %,  elements complexity: 0.14 %\n"
     ]
    },
    {
     "name": "stdout",
     "output_type": "stream",
     "text": [
      "\n",
      "iteration = 2860,   Score = 0.674"
     ]
    },
    {
     "name": "stdout",
     "output_type": "stream",
     "text": [
      ",  <E> = 124.88,  log(Z) = 125.67,   S = 250.55,   edges: 757,   elements: 2812,   edge complexity: 16.6 %,  elements complexity: 0.14 %\n"
     ]
    },
    {
     "name": "stdout",
     "output_type": "stream",
     "text": [
      "\n",
      "iteration = 2880,   Score = 0.673"
     ]
    },
    {
     "name": "stdout",
     "output_type": "stream",
     "text": [
      ",  <E> = 125.02,  log(Z) = 126.44,   S = 251.46"
     ]
    },
    {
     "name": "stdout",
     "output_type": "stream",
     "text": [
      ",   edges: 763,   elements: 2831,   edge complexity: 16.73 %,  elements complexity: 0.14 %\n"
     ]
    },
    {
     "name": "stdout",
     "output_type": "stream",
     "text": [
      "\n",
      "iteration = 2900,   Score = 0.674"
     ]
    },
    {
     "name": "stdout",
     "output_type": "stream",
     "text": [
      ",  <E> = 124.77,  log(Z) = 127.38,   S = 252.15,   edges: 769,   elements: 2851,   edge complexity: 16.86 %,  elements complexity: 0.14 %\n"
     ]
    },
    {
     "name": "stdout",
     "output_type": "stream",
     "text": [
      "\n",
      "iteration = 2920,   Score = 0.677"
     ]
    },
    {
     "name": "stdout",
     "output_type": "stream",
     "text": [
      ",  <E> = 124.56,  log(Z) = 128.27,   S = 252.84,   edges: 772,   elements: 2870,   edge complexity: 16.93 %,  elements complexity: 0.14 %\n"
     ]
    },
    {
     "name": "stdout",
     "output_type": "stream",
     "text": [
      "\n",
      "iteration = 2940,   Score = 0.676"
     ]
    },
    {
     "name": "stdout",
     "output_type": "stream",
     "text": [
      ",  <E> = 124.44,  log(Z) = 129.05,   S = 253.49,   edges: 774,   elements: 2890,   edge complexity: 16.97 %,  elements complexity: 0.14 %\n"
     ]
    },
    {
     "name": "stdout",
     "output_type": "stream",
     "text": [
      "\n",
      "iteration = 2960,   Score = 0.68"
     ]
    },
    {
     "name": "stdout",
     "output_type": "stream",
     "text": [
      ",  <E> = 123.9,  log(Z) = 129.96,   S = 253.86,   edges: 778,   elements: 2910,   edge complexity: 17.06 %,  elements complexity: 0.14 %\n"
     ]
    },
    {
     "name": "stdout",
     "output_type": "stream",
     "text": [
      "\n",
      "iteration = 2980,   Score = 0.681"
     ]
    },
    {
     "name": "stdout",
     "output_type": "stream",
     "text": [
      ",  <E> = 123.48,  log(Z) = 130.9,   S = 254.38,   edges: 779,   elements: 2930,   edge complexity: 17.08 %,  elements complexity: 0.15 %\n"
     ]
    },
    {
     "name": "stdout",
     "output_type": "stream",
     "text": [
      "\n",
      "iteration = 3000,   Score = 0.676"
     ]
    },
    {
     "name": "stdout",
     "output_type": "stream",
     "text": [
      ",  <E> = 123.52,  log(Z) = 131.68,   S = 255.2,   edges: 784,   elements: 2949,   edge complexity: 17.19 %,  elements complexity: 0.15 %\n"
     ]
    },
    {
     "name": "stdout",
     "output_type": "stream",
     "text": [
      "\n",
      "iteration = 3020,   Score = 0.677"
     ]
    },
    {
     "name": "stdout",
     "output_type": "stream",
     "text": [
      ",  <E> = 123.27,  log(Z) = 132.58,   S = 255.85,   edges: 788,   elements: 2969,   edge complexity: 17.28 %,  elements complexity: 0.15 %\n"
     ]
    },
    {
     "name": "stdout",
     "output_type": "stream",
     "text": [
      "\n",
      "iteration = 3040,   Score = 0.681"
     ]
    },
    {
     "name": "stdout",
     "output_type": "stream",
     "text": [
      ",  <E> = 122.98,  log(Z) = 133.56,   S = 256.55,   edges: 794,   elements: 2988,   edge complexity: 17.41 %,  elements complexity: 0.15 %\n"
     ]
    },
    {
     "name": "stdout",
     "output_type": "stream",
     "text": [
      "\n",
      "iteration = 3060,   Score = 0.683"
     ]
    },
    {
     "name": "stdout",
     "output_type": "stream",
     "text": [
      ",  <E> = 122.89,  log(Z) = 134.62,   S = 257.51,   edges: 799,   elements: 3008,   edge complexity: 17.52 %,  elements complexity: 0.15 %\n"
     ]
    },
    {
     "name": "stdout",
     "output_type": "stream",
     "text": [
      "\n",
      "iteration = 3080,   Score = 0.681"
     ]
    },
    {
     "name": "stdout",
     "output_type": "stream",
     "text": [
      ",  <E> = 122.45,  log(Z) = 135.55,   S = 258.0"
     ]
    },
    {
     "name": "stdout",
     "output_type": "stream",
     "text": [
      ",   edges: 802,   elements: 3028,   edge complexity: 17.59 %,  elements complexity: 0.15 %\n"
     ]
    },
    {
     "name": "stdout",
     "output_type": "stream",
     "text": [
      "\n",
      "iteration = 3100,   Score = 0.685"
     ]
    },
    {
     "name": "stdout",
     "output_type": "stream",
     "text": [
      ",  <E> = 122.47,  log(Z) = 136.58,   S = 259.05,   edges: 805,   elements: 3047,   edge complexity: 17.65 %,  elements complexity: 0.15 %\n"
     ]
    },
    {
     "name": "stdout",
     "output_type": "stream",
     "text": [
      "\n",
      "iteration = 3120,   Score = 0.689"
     ]
    },
    {
     "name": "stdout",
     "output_type": "stream",
     "text": [
      ",  <E> = 121.49,  log(Z) = 137.57,   S = 259.06,   edges: 813,   elements: 3067,   edge complexity: 17.83 %,  elements complexity: 0.15 %\n"
     ]
    },
    {
     "name": "stdout",
     "output_type": "stream",
     "text": [
      "\n",
      "iteration = 3140,   Score = 0.694"
     ]
    },
    {
     "name": "stdout",
     "output_type": "stream",
     "text": [
      ",  <E> = 121.15,  log(Z) = 138.47,   S = 259.62,   edges: 817,   elements: 3086,   edge complexity: 17.92 %,  elements complexity: 0.15 %\n"
     ]
    },
    {
     "name": "stdout",
     "output_type": "stream",
     "text": [
      "\n",
      "iteration = 3160,   Score = 0.7"
     ]
    },
    {
     "name": "stdout",
     "output_type": "stream",
     "text": [
      ",  <E> = 120.35,  log(Z) = 139.42,   S = 259.77"
     ]
    },
    {
     "name": "stdout",
     "output_type": "stream",
     "text": [
      ",   edges: 821,   elements: 3106,   edge complexity: 18.0 %,  elements complexity: 0.15 %\n"
     ]
    },
    {
     "name": "stdout",
     "output_type": "stream",
     "text": [
      "\n",
      "iteration = 3180,   Score = 0.7"
     ]
    },
    {
     "name": "stdout",
     "output_type": "stream",
     "text": [
      ",  <E> = 119.83,  log(Z) = 140.19,   S = 260.02,   edges: 826,   elements: 3125,   edge complexity: 18.11 %,  elements complexity: 0.16 %\n"
     ]
    },
    {
     "name": "stdout",
     "output_type": "stream",
     "text": [
      "\n",
      "iteration = 3200,   Score = 0.698"
     ]
    },
    {
     "name": "stdout",
     "output_type": "stream",
     "text": [
      ",  <E> = 119.45,  log(Z) = 141.03,   S = 260.48,   edges: 830,   elements: 3145,   edge complexity: 18.2 %,  elements complexity: 0.16 %\n"
     ]
    },
    {
     "name": "stdout",
     "output_type": "stream",
     "text": [
      "\n",
      "iteration = 3220,   Score = 0.698"
     ]
    },
    {
     "name": "stdout",
     "output_type": "stream",
     "text": [
      ",  <E> = 118.92,  log(Z) = 141.98,   S = 260.9,   edges: 833,   elements: 3164,   edge complexity: 18.27 %,  elements complexity: 0.16 %\n"
     ]
    },
    {
     "name": "stdout",
     "output_type": "stream",
     "text": [
      "\n",
      "iteration = 3240,   Score = 0.702"
     ]
    },
    {
     "name": "stdout",
     "output_type": "stream",
     "text": [
      ",  <E> = 118.8,  log(Z) = 142.89,   S = 261.69,   edges: 834,   elements: 3182,   edge complexity: 18.29 %,  elements complexity: 0.16 %\n"
     ]
    },
    {
     "name": "stdout",
     "output_type": "stream",
     "text": [
      "\n",
      "iteration = 3260,   Score = 0.7"
     ]
    },
    {
     "name": "stdout",
     "output_type": "stream",
     "text": [
      ",  <E> = 118.22,  log(Z) = 143.83,   S = 262.05,   edges: 836,   elements: 3201,   edge complexity: 18.33 %,  elements complexity: 0.16 %\n"
     ]
    },
    {
     "name": "stdout",
     "output_type": "stream",
     "text": [
      "\n",
      "iteration = 3280,   Score = 0.702"
     ]
    },
    {
     "name": "stdout",
     "output_type": "stream",
     "text": [
      ",  <E> = 117.43,  log(Z) = 144.63,   S = 262.06,   edges: 841,   elements: 3220,   edge complexity: 18.44 %,  elements complexity: 0.16 %\n"
     ]
    },
    {
     "name": "stdout",
     "output_type": "stream",
     "text": [
      "\n",
      "iteration = 3300,   Score = 0.702"
     ]
    },
    {
     "name": "stdout",
     "output_type": "stream",
     "text": [
      ",  <E> = 117.17,  log(Z) = 145.64,   S = 262.81,   edges: 847,   elements: 3240,   edge complexity: 18.57 %,  elements complexity: 0.16 %\n"
     ]
    },
    {
     "name": "stdout",
     "output_type": "stream",
     "text": [
      "\n",
      "iteration = 3320,   Score = 0.701"
     ]
    },
    {
     "name": "stdout",
     "output_type": "stream",
     "text": [
      ",  <E> = 116.61,  log(Z) = 146.54,   S = 263.16"
     ]
    },
    {
     "name": "stdout",
     "output_type": "stream",
     "text": [
      ",   edges: 850,   elements: 3257,   edge complexity: 18.64 %,  elements complexity: 0.16 %\n"
     ]
    },
    {
     "name": "stdout",
     "output_type": "stream",
     "text": [
      "\n",
      "iteration = 3340,   Score = 0.701"
     ]
    },
    {
     "name": "stdout",
     "output_type": "stream",
     "text": [
      ",  <E> = 116.33,  log(Z) = 147.51,   S = 263.84,   edges: 856,   elements: 3276,   edge complexity: 18.77 %,  elements complexity: 0.16 %\n"
     ]
    },
    {
     "name": "stdout",
     "output_type": "stream",
     "text": [
      "\n",
      "iteration = 3360,   Score = 0.702"
     ]
    },
    {
     "name": "stdout",
     "output_type": "stream",
     "text": [
      ",  <E> = 115.97,  log(Z) = 148.31,   S = 264.27,   edges: 858,   elements: 3294,   edge complexity: 18.82 %,  elements complexity: 0.16 %\n"
     ]
    },
    {
     "name": "stdout",
     "output_type": "stream",
     "text": [
      "\n",
      "iteration = 3380,   Score = 0.703"
     ]
    },
    {
     "name": "stdout",
     "output_type": "stream",
     "text": [
      ",  <E> = 115.47,  log(Z) = 149.29,   S = 264.76,   edges: 861,   elements: 3312,   edge complexity: 18.88 %,  elements complexity: 0.16 %\n"
     ]
    },
    {
     "name": "stdout",
     "output_type": "stream",
     "text": [
      "\n",
      "iteration = 3400,   Score = 0.7"
     ]
    },
    {
     "name": "stdout",
     "output_type": "stream",
     "text": [
      ",  <E> = 115.29,  log(Z) = 150.15,   S = 265.44,   edges: 863,   elements: 3331,   edge complexity: 18.93 %,  elements complexity: 0.17 %\n"
     ]
    },
    {
     "name": "stdout",
     "output_type": "stream",
     "text": [
      "\n",
      "iteration = 3420,   Score = 0.702"
     ]
    },
    {
     "name": "stdout",
     "output_type": "stream",
     "text": [
      ",  <E> = 114.99,  log(Z) = 151.02,   S = 266.02,   edges: 868,   elements: 3350,   edge complexity: 19.04 %,  elements complexity: 0.17 %\n"
     ]
    },
    {
     "name": "stdout",
     "output_type": "stream",
     "text": [
      "\n",
      "iteration = 3440,   Score = 0.706"
     ]
    },
    {
     "name": "stdout",
     "output_type": "stream",
     "text": [
      ",  <E> = 114.55,  log(Z) = 152.03,   S = 266.57,   edges: 871,   elements: 3369,   edge complexity: 19.1 %,  elements complexity: 0.17 %\n"
     ]
    },
    {
     "name": "stdout",
     "output_type": "stream",
     "text": [
      "\n",
      "iteration = 3460,   Score = 0.708"
     ]
    },
    {
     "name": "stdout",
     "output_type": "stream",
     "text": [
      ",  <E> = 114.24,  log(Z) = 152.98,   S = 267.22,   edges: 874,   elements: 3389,   edge complexity: 19.17 %,  elements complexity: 0.17 %\n"
     ]
    },
    {
     "name": "stdout",
     "output_type": "stream",
     "text": [
      "\n",
      "iteration = 3480,   Score = 0.709"
     ]
    },
    {
     "name": "stdout",
     "output_type": "stream",
     "text": [
      ",  <E> = 114.04,  log(Z) = 154.03,   S = 268.07,   edges: 877,   elements: 3409,   edge complexity: 19.23 %,  elements complexity: 0.17 %\n"
     ]
    },
    {
     "name": "stdout",
     "output_type": "stream",
     "text": [
      "\n",
      "iteration = 3500,   Score = 0.713"
     ]
    },
    {
     "name": "stdout",
     "output_type": "stream",
     "text": [
      ",  <E> = 113.2,  log(Z) = 155.02,   S = 268.21,   edges: 881,   elements: 3427,   edge complexity: 19.32 %,  elements complexity: 0.17 %\n"
     ]
    },
    {
     "name": "stdout",
     "output_type": "stream",
     "text": [
      "\n",
      "iteration = 3520,   Score = 0.715"
     ]
    },
    {
     "name": "stdout",
     "output_type": "stream",
     "text": [
      ",  <E> = 113.02,  log(Z) = 155.92,   S = 268.94,   edges: 888,   elements: 3446,   edge complexity: 19.47 %,  elements complexity: 0.17 %\n"
     ]
    },
    {
     "ename": "InterruptException",
     "evalue": "InterruptException:",
     "output_type": "error",
     "traceback": [
      "InterruptException:\n",
      "\n",
      "Stacktrace:\n",
      "  [1] Array\n",
      "    @ ./boot.jl:459 [inlined]\n",
      "  [2] Array\n",
      "    @ ./boot.jl:468 [inlined]\n",
      "  [3] Array\n",
      "    @ ./boot.jl:476 [inlined]\n",
      "  [4] similar\n",
      "    @ ./abstractarray.jl:841 [inlined]\n",
      "  [5] similar\n",
      "    @ ./abstractarray.jl:840 [inlined]\n",
      "  [6] similar\n",
      "    @ ./broadcast.jl:212 [inlined]\n",
      "  [7] similar\n",
      "    @ ./broadcast.jl:211 [inlined]\n",
      "  [8] copy\n",
      "    @ ./broadcast.jl:885 [inlined]\n",
      "  [9] materialize\n",
      "    @ ./broadcast.jl:860 [inlined]\n",
      " [10] gibbs_sampling(q::Int64, h_local::Vector{Float64}, Jij::Array{Float32, 3}, sequences::Matrix{Int8}, site_degree::Vector{Int64}, contact_list::Matrix{Int64}, sweeps::Int64)\n",
      "    @ Main ~/Documents/GitHub/FCSeqTools.jl/Example_Proteins/FCSeqTools.jl:114\n",
      " [11] (::var\"#62#66\"{IOStream, IOStream, IOStream, Int64, Int64, Float64, Int64, String, Float64, Float64, Int64, Vector{Any}, Vector{Float32}, Array{Float64, 3}, Vector{Float64}, Int64})(f3::IOStream)\n",
      "    @ Main ~/Documents/GitHub/FCSeqTools.jl/Example_Proteins/FCSeqTools.jl:359\n",
      " [12] open(::var\"#62#66\"{IOStream, IOStream, IOStream, Int64, Int64, Float64, Int64, String, Float64, Float64, Int64, Vector{Any}, Vector{Float32}, Array{Float64, 3}, Vector{Float64}, Int64}, ::String, ::Vararg{String}; kwargs::Base.Pairs{Symbol, Union{}, Tuple{}, NamedTuple{(), Tuple{}}})\n",
      "    @ Base ./io.jl:384\n",
      " [13] open\n",
      "    @ ./io.jl:381 [inlined]\n",
      " [14] (::var\"#61#65\"{IOStream, IOStream, Int64, Int64, Float64, Int64, String, Float64, Float64, Int64, Vector{Any}, Vector{Float32}, Array{Float64, 3}, Vector{Float64}, Int64})(f2::IOStream)\n",
      "    @ Main ~/Documents/GitHub/FCSeqTools.jl/Example_Proteins/FCSeqTools.jl:350\n",
      " [15] open(::var\"#61#65\"{IOStream, IOStream, Int64, Int64, Float64, Int64, String, Float64, Float64, Int64, Vector{Any}, Vector{Float32}, Array{Float64, 3}, Vector{Float64}, Int64}, ::String, ::Vararg{String}; kwargs::Base.Pairs{Symbol, Union{}, Tuple{}, NamedTuple{(), Tuple{}}})\n",
      "    @ Base ./io.jl:384\n",
      " [16] open\n",
      "    @ ./io.jl:381 [inlined]\n",
      " [17] (::var\"#60#64\"{IOStream, Int64, Int64, Float64, Int64, String, Float64, Float64, Int64, Vector{Any}, Vector{Float32}, Array{Float64, 3}, Vector{Float64}, Int64})(f1::IOStream)\n",
      "    @ Main ~/Documents/GitHub/FCSeqTools.jl/Example_Proteins/FCSeqTools.jl:349\n",
      " [18] open(::var\"#60#64\"{IOStream, Int64, Int64, Float64, Int64, String, Float64, Float64, Int64, Vector{Any}, Vector{Float32}, Array{Float64, 3}, Vector{Float64}, Int64}, ::String, ::Vararg{String}; kwargs::Base.Pairs{Symbol, Union{}, Tuple{}, NamedTuple{(), Tuple{}}})\n",
      "    @ Base ./io.jl:384\n",
      " [19] open\n",
      "    @ ./io.jl:381 [inlined]\n",
      " [20] (::var\"#59#63\"{Int64, Int64, Float64, Int64, String, Float64, Float64, Int64, Vector{Any}, Vector{Float32}, Array{Float64, 3}, Vector{Float64}, Int64})(f::IOStream)\n",
      "    @ Main ~/Documents/GitHub/FCSeqTools.jl/Example_Proteins/FCSeqTools.jl:348\n",
      " [21] open(::var\"#59#63\"{Int64, Int64, Float64, Int64, String, Float64, Float64, Int64, Vector{Any}, Vector{Float32}, Array{Float64, 3}, Vector{Float64}, Int64}, ::String, ::Vararg{String}; kwargs::Base.Pairs{Symbol, Union{}, Tuple{}, NamedTuple{(), Tuple{}}})\n",
      "    @ Base ./io.jl:384\n",
      " [22] open\n",
      "    @ ./io.jl:381 [inlined]\n",
      " [23] E_A_A(q::Int64, n_step::Int64, pseudo_count::Float64, number::Int64, number_matrix::Matrix{Int8}, filename::String, method::String, fraction::Float64, stop::Float64)\n",
      "    @ Main ~/Documents/GitHub/FCSeqTools.jl/Example_Proteins/FCSeqTools.jl:347\n",
      " [24] E_A_A(q::Int64, n_step::Int64, pseudo_count::Float64, number::Int64, number_matrix::Matrix{Int8}, filename::String, method::String)\n",
      "    @ Main ~/Documents/GitHub/FCSeqTools.jl/Example_Proteins/FCSeqTools.jl:300\n",
      " [25] eval\n",
      "    @ ./boot.jl:368 [inlined]\n",
      " [26] include_string(mapexpr::typeof(REPL.softscope), mod::Module, code::String, filename::String)\n",
      "    @ Base ./loading.jl:1428\n",
      " [27] #invokelatest#2\n",
      "    @ ./essentials.jl:729 [inlined]\n",
      " [28] invokelatest\n",
      "    @ ./essentials.jl:726 [inlined]\n",
      " [29] (::VSCodeServer.var\"#198#199\"{VSCodeServer.NotebookRunCellArguments, String})()\n",
      "    @ VSCodeServer ~/.vscode/extensions/julialang.language-julia-1.38.2/scripts/packages/VSCodeServer/src/serve_notebook.jl:19\n",
      " [30] withpath(f::VSCodeServer.var\"#198#199\"{VSCodeServer.NotebookRunCellArguments, String}, path::String)\n",
      "    @ VSCodeServer ~/.vscode/extensions/julialang.language-julia-1.38.2/scripts/packages/VSCodeServer/src/repl.jl:249\n",
      " [31] notebook_runcell_request(conn::VSCodeServer.JSONRPC.JSONRPCEndpoint{Base.PipeEndpoint, Base.PipeEndpoint}, params::VSCodeServer.NotebookRunCellArguments)\n",
      "    @ VSCodeServer ~/.vscode/extensions/julialang.language-julia-1.38.2/scripts/packages/VSCodeServer/src/serve_notebook.jl:13\n",
      " [32] dispatch_msg(x::VSCodeServer.JSONRPC.JSONRPCEndpoint{Base.PipeEndpoint, Base.PipeEndpoint}, dispatcher::VSCodeServer.JSONRPC.MsgDispatcher, msg::Dict{String, Any})\n",
      "    @ VSCodeServer.JSONRPC ~/.vscode/extensions/julialang.language-julia-1.38.2/scripts/packages/JSONRPC/src/typed.jl:67\n",
      " [33] serve_notebook(pipename::String, outputchannel_logger::Base.CoreLogging.SimpleLogger; crashreporting_pipename::String)\n",
      "    @ VSCodeServer ~/.vscode/extensions/julialang.language-julia-1.38.2/scripts/packages/VSCodeServer/src/serve_notebook.jl:139\n",
      " [34] top-level scope\n",
      "    @ ~/.vscode/extensions/julialang.language-julia-1.38.2/scripts/notebook/notebook.jl:32"
     ]
    }
   ],
   "source": [
    "using Random\n",
    "\n",
    "n_step = 100_000\n",
    "method = \"largest_component\"\n",
    "s = time()\n",
    "Random.seed!(2) \n",
    "#                                                                                                 #21 o 5          #7000                                        \n",
    "score, likelihood_gain, generated_sequences, Jij, h, contact_list, site_degree, edge_list = E_A_A(21, n_step, 0.05, 12000, natural_sequences,\"example_output.txt\", method); \n",
    "\n",
    "s = time() - s"
   ]
  },
  {
   "cell_type": "markdown",
   "metadata": {},
   "source": [
    "<font size=\"3\">The model obtained has a performance comparable to the fully connected DCA while having just ~20% of its connectivity. The entropy of the model is 35.08. This means that it is able to generate e³⁵ (3.5x10¹⁵) different 55-102 segments for the RF00379 family. \\\n",
    "Now we can test our artificial sequences. We do the classical statistical check of the PCA projection and the two-point correlation representation. \\\n",
    "We test the performance of our model against the one of the Covariance Model. The CM model only contains trivial one-point and secondary information so our model must do better than it. </font>"
   ]
  },
  {
   "cell_type": "code",
   "execution_count": null,
   "metadata": {},
   "outputs": [],
   "source": [
    "cm_sequences = rna_cm_model_generation(0.8,0.05,7000,natural_sequences,ss_contact_matrix);\n"
   ]
  },
  {
   "cell_type": "code",
   "execution_count": null,
   "metadata": {},
   "outputs": [],
   "source": [
    "plot_stat_check(natural_sequences, generated_sequences, cm_sequences)"
   ]
  },
  {
   "cell_type": "markdown",
   "metadata": {},
   "source": [
    "<font size=\"3\">The E.A.A. artificial molecules are practically statistically indistinguishable from the natural ones. We see that they have a very similar PCA projection (artificial one seems richer just because we have more artificial sequences than natural ones) while Covariance Model fails to capture the details of the distribution. \n",
    "    The selected model has almost a perfect two-point statistics for all site pairs while the CM model only captures it for the ones involved in secondary structure contacts. \\\n",
    "     </font>\n"
   ]
  },
  {
   "cell_type": "markdown",
   "metadata": {},
   "source": [
    "<font size=\"3\">The interpretability is one of the main reasons in our quest to find parsimonious generative models. Now that we are sure we obtained a good generative model with relatively few parameters we can try to interprete them. \\\n",
    "Dividing the added edges in secondary structure contacts, 3D contacts we have:"
   ]
  },
  {
   "cell_type": "code",
   "execution_count": null,
   "metadata": {},
   "outputs": [],
   "source": [
    "edge_interpretation_plot(len,ss_contact_matrix,tertiary_contact_matrix,edge_list[1:50,:])"
   ]
  },
  {
   "cell_type": "markdown",
   "metadata": {},
   "source": [
    "<font size=\"3\">We see that the secondary structure contacts are taken in the first few iteration. We have lot of neighbouring sites probably due to philogenic effects. It is striking that we see some 3D contacts (in particular around site 40) before the NONE edges. This\n",
    "suggests that our algorithm effectively captures some information about the tertiary structure. \\\n",
    "Those results, that are far more general than this simple example, suggest that the added edges have a co-evolutionary interpretation."
   ]
  },
  {
   "cell_type": "markdown",
   "metadata": {},
   "source": [
    "<font size=\"3\">\n",
    "This notebook serves as an example of the application of the techniques described in the main text.\n"
   ]
  }
 ],
 "metadata": {
  "kernelspec": {
   "display_name": "Julia 1.8.5",
   "language": "julia",
   "name": "julia-1.8"
  },
  "language_info": {
   "file_extension": ".jl",
   "mimetype": "application/julia",
   "name": "julia",
   "version": "1.8.5"
  },
  "vscode": {
   "interpreter": {
    "hash": "6412a36ae9b8109c1adf793ae61659867359f52a3cfb701a53c331fa90dc1d37"
   }
  }
 },
 "nbformat": 4,
 "nbformat_minor": 5
}
