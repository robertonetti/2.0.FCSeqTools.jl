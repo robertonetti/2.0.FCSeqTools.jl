{
 "cells": [
  {
   "cell_type": "code",
   "execution_count": 8,
   "metadata": {},
   "outputs": [],
   "source": [
    "using Plots\n",
    "using JLD\n",
    "using StatsPlots\n",
    "using LaTeXStrings\n",
    "using Statistics\n",
    "\n",
    "include(\"../src/FCSeqTools.jl\");\n",
    "include(\"../src/functions.jl\");\n",
    "\n",
    "# SELECT DATA ############################################################################\n",
    "alignment = \"Betalactamases\"  # \"CM_alignment\"    \n",
    "sigla = \"(BL)\"  #  \"(CM)\"                                             \n",
    "method = \"cumulative\"\n",
    "test = \"main_test\"\n",
    "stop = 0.9\n",
    "fraction = 0.3\n",
    "alphas = [0.05, 0.1, 0.2, 0.3, 0.4, 0.5, 0.6, 0.7, 0.8, 0.9]#, 0.95]\n",
    "l = length(alphas)\n",
    "notebooks = [1, 2, 3]\n",
    "#########################################################################################\n",
    "q = 21\n",
    "sigla == \"(CM)\"  ? L = 96  : L = 222\n",
    "#########################################################################################\n",
    "\n",
    "rm(joinpath(\"figures/\"* alignment * \"/complexity_vs_pseudo-count\"), force=true, recursive=true)\n",
    "mkdir(joinpath(\"figures/\"* alignment * \"/complexity_vs_pseudo-count\"))\n",
    "path = joinpath(\"figures/\"* alignment * \"/complexity_vs_pseudo-count\");"
   ]
  },
  {
   "attachments": {},
   "cell_type": "markdown",
   "metadata": {},
   "source": [
    "## Complexity vs Pseudo Count"
   ]
  },
  {
   "cell_type": "code",
   "execution_count": 9,
   "metadata": {},
   "outputs": [],
   "source": [
    "edges, elements, iterations = zeros(l), zeros(l), zeros(l)\n",
    "mom2_edges, mom2_elements = zeros(l), zeros(l)\n",
    "σ_edges, σ_elements = zeros(l), zeros(l)\n",
    "idx = 0\n",
    "for α ∈ alphas\n",
    "    idx += 1\n",
    "    for nbk ∈ notebooks\n",
    "        folder = \"../training/\" * alignment * \"/\" * method * \"/\" * test * \"/\"\n",
    "        path_α_nbk = folder *method*string(fraction)*\"_stop=\"*string(stop)*\"_reg=\"*string(α)*\"_nb\"*string(nbk)\n",
    "        data = parse.(Float64, split(readlines(open(path_α_nbk * \"/iterations.txt\", \"r\"))[end], \" \")[1:end-1])\n",
    "        iterations[idx] += data[1]\n",
    "        edges[idx] += data[6] \n",
    "        elements[idx] += data[7]\n",
    "        mom2_edges[idx] += data[6] * data[6] \n",
    "        mom2_elements[idx] += data[7] * data[7]\n",
    "    end \n",
    "    edges[idx] /= 3\n",
    "    elements[idx] /= 3\n",
    "    mom2_edges[idx] /= 3\n",
    "    mom2_elements[idx] /= 3\n",
    "end\n",
    "σ_edges = sqrt.(mom2_edges .- edges .* edges)\n",
    "σ_elements = sqrt.(mom2_elements .- elements .* elements)\n",
    "\n",
    "Nij_tot = L * (L - 1) /2\n",
    "Nij_ab_tot = Nij_tot * q^2;"
   ]
  },
  {
   "cell_type": "code",
   "execution_count": 10,
   "metadata": {},
   "outputs": [],
   "source": [
    "plot(alphas, elements./Nij_ab_tot*100, yerr=σ_edges./Nij_ab_tot*100, xlabel=\"pseudo-count \"*L\"(\\alpha)\", ylabel=\"%\", marker=:circle, title= sigla*\" Element Complexity vs pseudo-count\", label=:false)\n",
    "savefig(joinpath(path,\"element_complexity_vs_pseudo-count.png\"));"
   ]
  },
  {
   "cell_type": "code",
   "execution_count": 11,
   "metadata": {},
   "outputs": [],
   "source": [
    "plot(alphas, edges ./ Nij_tot * 100, yerr=σ_edges./Nij_tot*100, xlabel=\"pseudo-count \"*L\"(\\alpha)\", ylabel=\"%\", marker=:circle, title=sigla*\" Edge Complexity vs pseudo-count\", label=:false)\n",
    "savefig(joinpath(path,\"edge_complexity_vs_pseudo-count.png\"));"
   ]
  },
  {
   "attachments": {},
   "cell_type": "markdown",
   "metadata": {},
   "source": [
    "## Robustness of the learning vs pseudo-count"
   ]
  },
  {
   "cell_type": "code",
   "execution_count": 12,
   "metadata": {},
   "outputs": [
    {
     "name": "stdout",
     "output_type": "stream",
     "text": [
      "0.05\n",
      "0.1\n",
      "0.2\n",
      "0.3\n",
      "0.4\n",
      "0.5\n",
      "0.6\n",
      "0.7\n",
      "0.8\n",
      "0.9\n"
     ]
    }
   ],
   "source": [
    "comm_elements, comm_edges = zeros(l), zeros(l)\n",
    "tot_edges, tot_elements = zeros(l), zeros(l)\n",
    "mom2_comm_edges, mom2_comm_elements = zeros(l), zeros(l)\n",
    "σ_comm_edges, σ_comm_elements = zeros(l), zeros(l)\n",
    "\n",
    "idx = 0\n",
    "for α in alphas\n",
    "    println(α)\n",
    "    idx += 1\n",
    "    folder = \"../training/\" * alignment * \"/\" * method * \"/\" * test * \"/\"\n",
    "    path_α_nb1 = folder * method * string(fraction) * \"_stop=\" * string(stop) * \"_reg=\" * string(α) * \"_nb\" * string(1)\n",
    "    path_α_nb2 = folder * method * string(fraction) * \"_stop=\" * string(stop) * \"_reg=\" * string(α) * \"_nb\" * string(2)\n",
    "    path_α_nb3 = folder * method * string(fraction) * \"_stop=\" * string(stop) * \"_reg=\" * string(α) * \"_nb\" * string(3)\n",
    "    file_path1 = joinpath(path_α_nb1, \"example_output.txt\");\n",
    "    file_path2 = joinpath(path_α_nb2, \"example_output.txt\");\n",
    "    file_path3 = joinpath(path_α_nb3, \"example_output.txt\");\n",
    "    edges1, elements1, scores1 = read_example_output(file_path1)\n",
    "    edges2, elements2, scores2 = read_example_output(file_path2)\n",
    "    edges3, elements3, scores3 = read_example_output(file_path3)\n",
    "\n",
    "    n_edges12, n_elements12, n_edges_x12, n_edges_y12, n_elements_x12, n_elements_y12 = compare_edges(edges1, elements1, edges2, elements2, L);\n",
    "    n_edges13, n_elements13, n_edges_x13, n_edges_y13, n_elements_x13, n_elements_y13 = compare_edges(edges1, elements1, edges3, elements3, L);\n",
    "    n_edges23, n_elements23, n_edges_x23, n_edges_y23, n_elements_x23, n_elements_y23 = compare_edges(edges2, elements2, edges3, elements3, L);\n",
    "\n",
    "    comm_edges[idx] = (n_edges12[end] + n_edges13[end] + n_edges23[end]) / 3\n",
    "    comm_elements[idx] = (n_elements12[end] + n_elements13[end] + n_elements23[end]) / 3\n",
    "    mom2_comm_edges[idx] = (n_edges12[end]*n_edges12[end] + n_edges13[end]*n_edges13[end] + n_edges23[end]*n_edges23[end]) / 3\n",
    "    mom2_comm_elements[idx] = (n_elements12[end]*n_elements12[end] + n_elements13[end]*n_elements13[end] + n_elements23[end]*n_elements23[end]) / 3\n",
    "\n",
    "    tot_edges[idx] = (n_edges_x12[end] + n_edges_x13[end] + n_edges_x23[end] + n_edges_y12[end] + n_edges_y13[end] + n_edges_y23[end]) / 6\n",
    "    tot_elements[idx] = (n_elements_x12[end] + n_elements_x13[end] + n_elements_x23[end] + n_elements_y12[end] + n_elements_y13[end] + n_elements_y23[end]) / 6\n",
    "  \n",
    "end\n",
    "σ_comm_edges = sqrt.(mom2_comm_edges .- comm_edges .* comm_edges)\n",
    "σ_comm_elements = sqrt.(mom2_comm_elements .- comm_elements .* comm_elements);"
   ]
  },
  {
   "cell_type": "code",
   "execution_count": 13,
   "metadata": {},
   "outputs": [],
   "source": [
    "plot(alphas, comm_edges./tot_edges*100, yerr=σ_comm_edges./tot_edges*100, xlabel=\"pseudo-count \"*L\"(\\alpha)\", ylabel=\"%\", marker=:circle, title= sigla*\" Common Edges vs pseudo-count\", label=:false)\n",
    "savefig(joinpath(path,\"common_edges_vs_pseudo-count.png\"));\n"
   ]
  },
  {
   "cell_type": "code",
   "execution_count": 14,
   "metadata": {},
   "outputs": [],
   "source": [
    "plot(alphas, comm_elements./tot_elements*100, yerr=σ_comm_edges./tot_elements*100, xlabel=\"pseudo-count \"*L\"(\\alpha)\", ylabel=\"%\", marker=:circle, title= sigla*\" Common Elements vs pseudo-count\", label=:false)\n",
    "savefig(joinpath(path,\"common_elements_vs_pseudo-count.png\"));"
   ]
  },
  {
   "cell_type": "code",
   "execution_count": null,
   "metadata": {},
   "outputs": [],
   "source": []
  }
 ],
 "metadata": {
  "kernelspec": {
   "display_name": "Julia 1.8.5",
   "language": "julia",
   "name": "julia-1.8"
  },
  "language_info": {
   "file_extension": ".jl",
   "mimetype": "application/julia",
   "name": "julia",
   "version": "1.8.5"
  },
  "orig_nbformat": 4
 },
 "nbformat": 4,
 "nbformat_minor": 2
}
