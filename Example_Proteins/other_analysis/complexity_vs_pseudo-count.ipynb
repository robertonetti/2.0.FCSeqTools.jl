{
 "cells": [
  {
   "cell_type": "code",
   "execution_count": 21,
   "metadata": {},
   "outputs": [],
   "source": [
    "using Plots\n",
    "using JLD\n",
    "using StatsPlots\n",
    "using LaTeXStrings\n",
    "using Statistics\n",
    "\n",
    "include(\"../src/FCSeqTools.jl\");\n",
    "include(\"../src/functions.jl\");\n",
    "\n",
    "alignment = \"CM_alignment\" #\"Betalactamases\" # \"CM_alignment\"\n",
    "\n",
    "rm(joinpath(\"figures/\"* alignment * \"/complexity_vs_pseudo-count\"), force=true, recursive=true)\n",
    "mkdir(joinpath(\"figures/\"* alignment * \"/complexity_vs_pseudo-count\"))\n",
    "path = joinpath(\"figures/\"* alignment * \"/complexity_vs_pseudo-count\");"
   ]
  },
  {
   "attachments": {},
   "cell_type": "markdown",
   "metadata": {},
   "source": [
    "## Complexity vs Pseudo Count"
   ]
  },
  {
   "cell_type": "code",
   "execution_count": 23,
   "metadata": {},
   "outputs": [],
   "source": [
    "method = \"cumulative\"\n",
    "test = \"main_test\"\n",
    "stop = 0.9\n",
    "fraction = 0.3\n",
    "pseudocounts = [0.05, 0.1, 0.2, 0.3, 0.4, 0.5, 0.6, 0.7, 0.8, 0.9]\n",
    "l = length(pseudocounts)\n",
    "notebooks = [1, 2, 3]\n",
    "edges, elements, iterations = zeros(l), zeros(l), zeros(l)\n",
    "idx = 0\n",
    "for α ∈ pseudocounts\n",
    "    idx += 1\n",
    "    for nbk ∈ 1:3\n",
    "        folder = \"../training/\" * alignment * \"/\" * method * \"/\" * test * \"/\"\n",
    "        path_α_nbk = folder *method*string(fraction)*\"_stop=\"*string(stop)*\"_reg=\"*string(α)*\"_nb\"*string(nbk)\n",
    "        data = parse.(Float64, split(readlines(open(path_α_nbk * \"/iterations.txt\", \"r\"))[end], \" \")[1:end-1])\n",
    "        edges[idx] += data[6]\n",
    "        elements[idx] += data[7]\n",
    "        iterations[idx] += data[1]\n",
    "    end \n",
    "end\n",
    "edges ./= 3\n",
    "elements ./= 3\n",
    "iterations ./= 3\n",
    "\n",
    "L, q = 96, 21\n",
    "Nij_tot = L * (L - 1) /2\n",
    "Nij_ab_tot = Nij_tot * q^2;"
   ]
  },
  {
   "cell_type": "code",
   "execution_count": 24,
   "metadata": {},
   "outputs": [],
   "source": [
    "plot(pseudocounts, elements./Nij_ab_tot*100, xlabel=\"pseudo-count \"*L\"(\\alpha)\", ylabel=\"%\", marker=:circle, title=\"(CM) Element Complexity vs pseudo-count\", label=:false)\n",
    "savefig(joinpath(path,\"element_complexity_vs_pseudo-count.png\"));"
   ]
  },
  {
   "cell_type": "code",
   "execution_count": 25,
   "metadata": {},
   "outputs": [],
   "source": [
    "plot(pseudocounts, edges ./ Nij_tot * 100, xlabel=\"pseudo-count \"*L\"(\\alpha)\", ylabel=\"%\", marker=:circle, title=\"(CM) Edge Complexity vs pseudo-count\", label=:false)\n",
    "savefig(joinpath(path,\"edge_complexity_vs_pseudo-count.png\"));"
   ]
  },
  {
   "cell_type": "code",
   "execution_count": null,
   "metadata": {},
   "outputs": [],
   "source": []
  }
 ],
 "metadata": {
  "kernelspec": {
   "display_name": "Julia 1.8.5",
   "language": "julia",
   "name": "julia-1.8"
  },
  "language_info": {
   "file_extension": ".jl",
   "mimetype": "application/julia",
   "name": "julia",
   "version": "1.8.5"
  },
  "orig_nbformat": 4
 },
 "nbformat": 4,
 "nbformat_minor": 2
}
