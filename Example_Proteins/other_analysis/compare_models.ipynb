{
 "cells": [
  {
   "cell_type": "code",
   "execution_count": 184,
   "metadata": {},
   "outputs": [],
   "source": [
    "using Plots\n",
    "using JLD\n",
    "using StatsPlots\n",
    "using LaTeXStrings\n",
    "using Statistics\n",
    "\n",
    "include(\"../src/FCSeqTools.jl\");\n",
    "include(\"../src/functions.jl\");\n",
    "\n",
    "model1 = \"EAA_(0.05_0.01_nb1)\"\n",
    "model2 = \"EAA_(0.05_0.01_nb2)\" #\"EAA_bmDCA\"\n",
    "folder_name = model1*\"_vs_\"*model2\n",
    "alignment = \"CM_alignment\"\n",
    "\n",
    "# Se è un modello di Francesco Zamponi ######################################\n",
    "#model_zamponi = model2[1:3]\n",
    "#############################################################################\n",
    "\n",
    "rm(joinpath(\"figures/\"* alignment * \"/comparison_models\",folder_name), force=true, recursive=true)\n",
    "mkdir(joinpath(\"figures/\"* alignment * \"/comparison_models\",folder_name))\n",
    "path = joinpath(\"figures/\"* alignment * \"/comparison_models\",folder_name);\n",
    "\n",
    "L, q = 96, 21;"
   ]
  },
  {
   "attachments": {},
   "cell_type": "markdown",
   "metadata": {},
   "source": [
    "# Compare Couplings"
   ]
  },
  {
   "cell_type": "code",
   "execution_count": 185,
   "metadata": {},
   "outputs": [],
   "source": [
    "method = \"cumulative\"\n",
    "fraction = 0.3\n",
    "stop = 0.9\n",
    "α = 0.05 # pseudo count \n",
    "init_pseudo_count = 0.01\n",
    "\n",
    "\n",
    "# Choose Notebooks ##################################\n",
    "test = \"main_test\"\n",
    "nbook1 = \"1\"\n",
    "nbook2 = \"2\"\n",
    "\n",
    "folder1 = \"../training/\" * alignment * \"/\" * method * \"/\" * test * \"/\"\n",
    "folder2 = \"../training/\" * alignment * \"/\" * method * \"/\" * test * \"/\"\n",
    "######################################################\n",
    "\n",
    "path1 = folder1 *method*string(fraction)*\"_stop=\"*string(stop) *\"_reg=\"*string(α) *\"_nb\"*nbook1\n",
    "path2 = folder2 *method*string(fraction)*\"_stop=\"*string(stop) *\"_reg=\"*string(α)*\"_nb\"*nbook2\n",
    "\n",
    "h1 = JLD.load(path1* \"/h.jld\")[\"data\"]\n",
    "Jij1 = JLD.load(path1* \"/Jij.jld\")[\"data\"];\n",
    "iteration1 = open(path1* \"/iterations.txt\", \"r\")\n",
    "data1 = parse.(Float64, split(readlines(iteration1)[end], \" \")[1:end-1])\n",
    "edge_n1, element_n1 = data1[6], data1[7]\n",
    "\n",
    "# Se è un modello dei nostri #################################################\n",
    "\n",
    "h2 = JLD.load(path2* \"/h.jld\")[\"data\"]\n",
    "Jij2 = JLD.load(path2* \"/Jij.jld\")[\"data\"];\n",
    "iteration2 = open(path2* \"/iterations.txt\", \"r\");\n",
    "data2 = parse.(Float64, split(readlines(iteration2)[end], \" \")[1:end-1])\n",
    "edge_n2, element_n2 = data2[6], data2[7]\n",
    "\n",
    "#############################################################################\n",
    "\n",
    "# Se è un modello di Francesco Zamponi ######################################\n",
    "\"\"\"\n",
    "filepath2 = \"../saved_models/Francesco_Zamponi/Parameters_CM_\"* model_zamponi *\"-PCD40.dat\";\n",
    "Jij2, h2 = read_model(filepath2);\n",
    "\"\"\"\n",
    "#############################################################################\n",
    "\n",
    "Nij_tot = L * (L - 1) /2\n",
    "Nij_ab_tot = Nij_tot * q^2;"
   ]
  },
  {
   "attachments": {},
   "cell_type": "markdown",
   "metadata": {},
   "source": [
    "#### Scatter Plot of all the Jijs "
   ]
  },
  {
   "cell_type": "code",
   "execution_count": 186,
   "metadata": {},
   "outputs": [],
   "source": [
    "n_element_plot = 50_000\n",
    "Jij1_to_plot = zeros(n_element_plot);\n",
    "Jij2_to_plot = zeros(n_element_plot);\n",
    "\n",
    "for i in 1:n_element_plot\n",
    "    j = rand(1:length(Jij1))\n",
    "    Jij1_to_plot[i] = Jij1[j]\n",
    "    Jij2_to_plot[i] = Jij2[j]\n",
    "end\n",
    "\n",
    "scatter(Jij1_to_plot, Jij2_to_plot, markershape=:circle, label=:false, xlabel=\"Jij(a,b) (\"*model1*\")\", ylabel=\"Jij(a,b) (\"*model2*\")\", title=\"Couplings nb.1 vs nb.2\", alpha=0.2)\n",
    "savefig(joinpath(path,\"All_the_Jij1_vs_Jij2.png\"));"
   ]
  },
  {
   "attachments": {},
   "cell_type": "markdown",
   "metadata": {},
   "source": [
    "### Count Jijs in common and plot the distributions"
   ]
  },
  {
   "cell_type": "code",
   "execution_count": 187,
   "metadata": {},
   "outputs": [
    {
     "name": "stdout",
     "output_type": "stream",
     "text": [
      "Complexity model 1: 1.93%;    Complexity model 2: 1.93%\n",
      "\n",
      "Common Edges: \n",
      "34.08% of the total (L^2);   90.4% of the nonzeros of model 2;   88.5% of the nonzeros of model 2\n",
      "\n",
      "Common Elements: \n",
      "0.74% of the total (L^2*q^2);   39.22% of the nonzeros in model 1;   38.4% of the nonzeros of model 2\n",
      "\n",
      "Number of cases where  J_1 == 0  &&  J_2 != 0: 23903\n",
      "\n",
      "Number of cases where  J_1 != 0  &&  J_2 == 0: 23079\n",
      "\n",
      "Number of cases where  J_1 == 0  &&   J_2 == 0: 1991422\n",
      "\n",
      "Number of cases where  J_1 != 0  &&  J_2 != 0: 14892\n"
     ]
    }
   ],
   "source": [
    "Jij_plot_1 = Jij1\n",
    "Jij_plot_2 = Jij2\n",
    "\n",
    "n_ij, n_ij_ab, n_01, n_10, n_00, Jij_common1, Jij_common2 = count_common_Jij(Jij_plot_1, Jij_plot_2);\n",
    "\n",
    "frac_ij_tot = round(n_ij/Nij_tot * 100, digits=2)\n",
    "frac_ijab_tot = round(n_ij_ab/Nij_ab_tot * 100, digits=2)\n",
    "\n",
    "frac_ij_1 = round(n_ij/edge_n1 * 100, digits=2)\n",
    "frac_ijab_1 = round(n_ij_ab/element_n1 * 100, digits=2)\n",
    "\n",
    "frac_ij_2 = round(n_ij/edge_n2 * 100, digits=2)\n",
    "#frac_ijab_2 = round(n_ij_ab/element_n2 * 100, digits=2)\n",
    "\n",
    "complex_1 = round(count(!iszero, Jij_plot_2)/Nij_ab_tot*100, digits=2)\n",
    "complex_2 = round(count(!iszero, Jij_plot_2)/Nij_ab_tot*100, digits=2)\n",
    "\n",
    "\n",
    "# Se è un modello di Francesco Zamponi ############################################################################\n",
    "\n",
    "J2 = zeros(L, L)\n",
    "for i ∈ 1:L\n",
    "       for j ∈ 1:L\n",
    "              J2[i, j] = sum(Jij2[i, j, :])\n",
    "       end\n",
    "end\n",
    "frac_ij_2 = round(n_ij/count(!iszero, J2) * 100, digits=1)\n",
    "frac_ijab_2 = round(n_ij_ab/count(!iszero, Jij_plot_2) * 100, digits=1)\n",
    "\n",
    "##################################################################################################################\n",
    "\n",
    "\n",
    "### WRITE ON FILE ################################################################################################################################################\n",
    "filename = \"count_common_Jij\"\n",
    "open(joinpath(path, filename), \"w\") do f  \n",
    "       println(\"Complexity model 1: \",complex_1,\"%;    Complexity model 2: \",complex_1, \"%\")\n",
    "       write(f,\"Complexity model 1: $(complex_1)%;    Complexity model 2:    $(complex_1)%;   \")\n",
    "\n",
    "       println(\"\\nCommon Edges: \\n\",frac_ij_tot,\"% of the total (L^2);   \", frac_ij_1, \"% of the nonzeros of model 2;   \", frac_ij_2, \"% of the nonzeros of model 2\")\n",
    "       write(f,\"\\nCommon Edges: \\n $(frac_ij_tot)% of the total;   $(frac_ij_1)% of the first model;   $(frac_ij_2)% of the second model\")\n",
    "\n",
    "       println(\"\\nCommon Elements: \\n\",frac_ijab_tot,\"% of the total (L^2*q^2);   \",  frac_ijab_1, \"% of the nonzeros in model 1;   \", frac_ijab_2, \"% of the nonzeros of model 2\")\n",
    "       write(f,\"\\nCommon Elements: \\n $(frac_ijab_tot)% of the total;   $(frac_ijab_1)% of the first model;   $(frac_ijab_2)% of the second model\")\n",
    "\n",
    "       println(\"\\nNumber of cases where  J_1 == 0  &&  J_2 != 0: \", n_01)\n",
    "       write(f,\"\\nNumber of cases where  J_1 == 0  &&  J_2 != 0: $n_01\")\n",
    "\n",
    "       println(\"\\nNumber of cases where  J_1 != 0  &&  J_2 == 0: \", n_10)\n",
    "       write(f,\"\\nNumber of cases where  J_1 != 0  &&  J_2 == 0: $n_10\")\n",
    "\n",
    "       println(\"\\nNumber of cases where  J_1 == 0  &&   J_2 == 0: \", n_00)\n",
    "       write(f,\"\\nNumber of cases where  J_1 == 0  &&   J_2 == 0: $n_00\")\n",
    "\n",
    "       println(\"\\nNumber of cases where  J_1 != 0  &&  J_2 != 0: \", n_ij_ab)\n",
    "       write(f,\"\\nNumber of cases where  J_1 != 0  &&  J_2 != 0: $n_ij_ab\")\n",
    "end\n",
    "##################################################################################################################################################################\n",
    "\n",
    "# Plot Scatter & Distributions #####################################################################################\n",
    "x, y = Jij_common1[Jij_common1.!= 0.0], Jij_common2[Jij_common2.!= 0.0]\n",
    "x_label, y_label = \"Jij(a,b)\"*model1, \"Jij(a,b)\"*model2 # (EAA 0.5)\", \"Jij(a,b)\"*model_zamponi\n",
    "title = \"Common Couplings: \"* L\"J_{ij}(a,b)\"\n",
    "\n",
    "\n",
    "plot(  histogram(x, nbins=100, alpha=0.5, orientation=:vertical,label=:false, xticks=[], ylabel=\"counts\", title = title),   \n",
    "       plot(framestyle = :none),\n",
    "       scatter(x, y, markershape=:circle, label=:false, xlabel=x_label, ylabel=y_label, alpha=0.2),\n",
    "       histogram(y, nbins=100, alpha=0.5, orientation=:horizontal, label=:false, yticks=[], xlabel=\"counts\"),\n",
    "       link = :both, \n",
    "       size=(1000, 1000), \n",
    "       spacing=0.1, \n",
    "       )\n",
    "savefig(joinpath(path,\"Common_Jij1_vs_Jij2.png\"));\n",
    "##################################################################################################################"
   ]
  },
  {
   "attachments": {},
   "cell_type": "markdown",
   "metadata": {},
   "source": [
    "#### Count and plot Jijs NOT in common"
   ]
  },
  {
   "cell_type": "code",
   "execution_count": 188,
   "metadata": {},
   "outputs": [],
   "source": [
    "J_diff1 = Jij1[(Jij1.!= 0).*(Jij2.== 0)] \n",
    "J_diff2 = Jij2[(Jij2.!= 0).*(Jij1.== 0)]; "
   ]
  },
  {
   "cell_type": "code",
   "execution_count": 189,
   "metadata": {},
   "outputs": [],
   "source": [
    "histogram(J_diff1, bins = 100, title = \"Jij non in common\", xlabel=\"values\", ylabel=\"counts\", label=:false)\n",
    "savefig(joinpath(path,\"Jij1_NOT_in_common_with_Jij2.png\"));"
   ]
  },
  {
   "cell_type": "code",
   "execution_count": 190,
   "metadata": {},
   "outputs": [],
   "source": [
    "histogram(J_diff2, bins = 100, title = \"Jij non in common\", xlabel=\"values\", ylabel=\"counts\", label=:false)\n",
    "savefig(joinpath(path,\"Jij2_NOT_in_common_with_Jij2.png\"));"
   ]
  },
  {
   "attachments": {},
   "cell_type": "markdown",
   "metadata": {},
   "source": [
    "#### Common Jijs vs Score/Iterations\n"
   ]
  },
  {
   "cell_type": "code",
   "execution_count": 191,
   "metadata": {},
   "outputs": [],
   "source": [
    "file_path1 = joinpath(path1, \"example_output.txt\");\n",
    "file_path2 = joinpath(path2, \"example_output.txt\");\n",
    "\n",
    "\n",
    "edges1, elements1, scores1 = read_example_output(file_path1);\n",
    "edges2, elements2, scores2 = read_example_output(file_path2);"
   ]
  },
  {
   "attachments": {},
   "cell_type": "markdown",
   "metadata": {},
   "source": [
    "## Common Edges/Elements vs Cij score"
   ]
  },
  {
   "cell_type": "code",
   "execution_count": 192,
   "metadata": {},
   "outputs": [],
   "source": [
    "n_edges, n_elements, n_edges_x, n_edges_y, n_elements_x, n_elements_y = compare_edges(edges1, elements1, edges2, elements2);"
   ]
  },
  {
   "cell_type": "code",
   "execution_count": null,
   "metadata": {},
   "outputs": [],
   "source": []
  },
  {
   "cell_type": "code",
   "execution_count": null,
   "metadata": {},
   "outputs": [],
   "source": [
    "scatter(scores_x, n_elements./n_elements_x * 100, marker=:circle, markersize=3, label=\"elements\", legend=:right)\n",
    "scatter!(scores_x, n_edges./n_edges_x * 100, marker=:circle, markersize=3, label=\"edges\")\n",
    "plot!(scores_x, 90*ones(length(scores_x)), label=\"90%\")\n",
    "plot!(scores_x, 50*ones(length(scores_x)), label=\"50%\")\n",
    "xlabel!(L\"C_{ij}\" * \" score\")\n",
    "ylabel!(\"%\")\n",
    "title!(\"Percentage of non-zero parameters in both models\")\n",
    "savefig(joinpath(path,\"number_shared_Jij_vs_Cij_score.png\"));"
   ]
  },
  {
   "cell_type": "code",
   "execution_count": null,
   "metadata": {},
   "outputs": [],
   "source": [
    "scatter(1:length(n_elements), n_elements./n_elements_x * 100, marker=:circle, markersize=3, label=\"elements\", legend=:right)\n",
    "scatter!(1:length(n_elements), n_edges./n_edges_x * 100, marker=:circle, markersize=3, label=\"edges\")\n",
    "plot!(1:length(n_elements), 90*ones(length(n_elements)), label=\"90%\")\n",
    "plot!(1:length(n_elements), 50*ones(length(n_elements)), label=\"50%\")\n",
    "xlabel!(\"E.A.A. iteration\")\n",
    "ylabel!(\"%\")\n",
    "title!(\"Percentage of non-zero parameters in both models\")\n",
    "savefig(joinpath(path,\"number_shared_Jij_vs_iterations.png\"));"
   ]
  },
  {
   "cell_type": "code",
   "execution_count": null,
   "metadata": {},
   "outputs": [],
   "source": []
  }
 ],
 "metadata": {
  "kernelspec": {
   "display_name": "Julia 1.8.5",
   "language": "julia",
   "name": "julia-1.8"
  },
  "language_info": {
   "file_extension": ".jl",
   "mimetype": "application/julia",
   "name": "julia",
   "version": "1.8.5"
  },
  "orig_nbformat": 4
 },
 "nbformat": 4,
 "nbformat_minor": 2
}
