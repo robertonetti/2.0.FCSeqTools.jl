{
 "cells": [
  {
   "cell_type": "code",
   "execution_count": 445,
   "metadata": {},
   "outputs": [],
   "source": [
    "using Plots\n",
    "using JLD\n",
    "using StatsPlots\n",
    "using LaTeXStrings\n",
    "using Statistics"
   ]
  },
  {
   "cell_type": "code",
   "execution_count": 446,
   "metadata": {},
   "outputs": [],
   "source": [
    "include(\"../src/FCSeqTools.jl\");\n",
    "include(\"../src/functions.jl\");"
   ]
  },
  {
   "attachments": {},
   "cell_type": "markdown",
   "metadata": {},
   "source": [
    "### Select Models:"
   ]
  },
  {
   "cell_type": "code",
   "execution_count": 447,
   "metadata": {},
   "outputs": [
    {
     "data": {
      "text/plain": [
       "\"folder_zamponi2 = \\\"new_algo\\\"\\ntipo2 = \\\"dec\\\" # \\\"act\\\" \\nsparsity2 = \\\"0.98\\\"\\nmodel_zamponi2 = \\\"FZ_Parameters_conv_\\\"* tipo2 *\\\"CM\\\"* sparsity2 * \\\".dat\\\"\\nmodel2 = \\\"FZ_\\\" * model_zamponi2[20:end-4];\\n\""
      ]
     },
     "execution_count": 447,
     "metadata": {},
     "output_type": "execute_result"
    }
   ],
   "source": [
    "## SELECT MODEL 1 ############################################################################\n",
    "\"\"\"\n",
    "method1 = \"cumulative\"\n",
    "test1 = \"main_test\"\n",
    "fraction1 = 0.3\n",
    "stop1 = 0.9\n",
    "α1 = 0.05 # pseudo count \n",
    "init_pseudo_count1 = 0.01\n",
    "notebook1 = 1\n",
    "model1 = \"EAA_(\" * string(α1) * \"_\" * string(init_pseudo_count1) * \"_\" * \"nb\" * string(notebook1) * \")\";\n",
    "\"\"\"\n",
    "\n",
    "\n",
    "folder_zamponi1 = \"new_algo\"\n",
    "tipo1 = \"act\" # \"dec\" \n",
    "sparsity1 = \"0.70\"\n",
    "model_zamponi1 = \"FZ_Parameters_conv_\" * tipo1 * \"CM\"* sparsity1 * \".dat\"\n",
    "model1 = \"FZ_\" * model_zamponi1[20:end-4];\n",
    "\n",
    "\n",
    "## SELECT MODEL 2 ############################################################################\n",
    "\n",
    "method2 = \"cumulative\"\n",
    "test2 = \"main_test\"\n",
    "fraction2 = 0.3\n",
    "stop2 = 0.9\n",
    "α2 = 0.9\n",
    "init_pseudo_count2 = 0.01\n",
    "notebook2 = 1\n",
    "model2 = \"EAA_(\" * string(α2) * \"_\" * string(init_pseudo_count2) * \"_\" * \"nb\" * string(notebook2) * \")\";\n",
    "\n",
    "\n",
    "\"\"\"\n",
    "folder_zamponi2 = \"new_algo\"\n",
    "tipo2 = \"dec\" # \"act\" \n",
    "sparsity2 = \"0.98\"\n",
    "model_zamponi2 = \"FZ_Parameters_conv_\"* tipo2 *\"CM\"* sparsity2 * \".dat\"\n",
    "model2 = \"FZ_\" * model_zamponi2[20:end-4];\n",
    "\"\"\"\n"
   ]
  },
  {
   "attachments": {},
   "cell_type": "markdown",
   "metadata": {},
   "source": [
    "### Create Folder:"
   ]
  },
  {
   "cell_type": "code",
   "execution_count": 448,
   "metadata": {},
   "outputs": [],
   "source": [
    "folder_name = model1*\"_vs_\"*model2\n",
    "alignment = \"CM_alignment\"\n",
    "\n",
    "rm(joinpath(\"figures/\"* alignment * \"/comparison_models\",folder_name), force=true, recursive=true)\n",
    "mkdir(joinpath(\"figures/\"* alignment * \"/comparison_models\",folder_name))\n",
    "path = joinpath(\"figures/\"* alignment * \"/comparison_models\",folder_name);\n",
    "\n",
    "L, q = 96, 21;\n",
    "Nij_tot = L * (L - 1) /2\n",
    "Nij_ab_tot = Nij_tot * q^2;"
   ]
  },
  {
   "attachments": {},
   "cell_type": "markdown",
   "metadata": {},
   "source": [
    "### Extract Data:"
   ]
  },
  {
   "cell_type": "code",
   "execution_count": 449,
   "metadata": {},
   "outputs": [
    {
     "name": "stdout",
     "output_type": "stream",
     "text": [
      "ok\n"
     ]
    }
   ],
   "source": [
    "## model 1  ############################################################################################################\n",
    "\n",
    "if model1[1:3] == \"EAA\"\n",
    "    folder1 = \"../training/\" * alignment * \"/\" * method1 * \"/\" * test1 * \"/\"\n",
    "    path1 = folder1*method1*string(fraction1)*\"_stop=\"*string(stop1) *\"_reg=\"*string(α1) *\"_nb\"*string(notebook1)\n",
    "    println(path1)\n",
    "\n",
    "    h1 = JLD.load(path1* \"/h.jld\")[\"data\"]\n",
    "    Jij1 = JLD.load(path1* \"/Jij.jld\")[\"data\"]\n",
    "    iteration1 = open(path1* \"/iterations.txt\", \"r\")\n",
    "    data1 = parse.(Float64, split(readlines(iteration1)[end], \" \")[1:end-1])\n",
    "    edge_n1, element_n1 = data1[6], data1[7]\n",
    "    edge_n11, element_n1 = count(!iszero, sum(abs.(Jij1[:,:,i]) for i in 1:size(Jij1, 3))), count(!iszero, Jij1)\n",
    "\n",
    "elseif model1[1:2] == \"FZ\"\n",
    "    filepath1 = \"../saved_models/Francesco_Zamponi/\"* folder_zamponi1 * \"/\"*model_zamponi1;\n",
    "    Jij1, h1 = read_model(filepath1);\n",
    "    edge_n1, element_n1 = count(!iszero, sum(abs.(Jij1[:,:,i]) for i in 1:size(Jij1, 3))), count(!iszero, Jij1)\n",
    "\n",
    "end;\n",
    "\n",
    "\n",
    "\n",
    "## model 2 ############################################################################################################\n",
    "\n",
    "if model2[1:3] == \"EAA\"\n",
    "    folder2 = \"../training/\" * alignment * \"/\" * method2 * \"/\" * test2 * \"/\"\n",
    "    path2 = folder2*method2*string(fraction2)*\"_stop=\"*string(stop2) *\"_reg=\"*string(α2) *\"_nb\"*string(notebook2)\n",
    "\n",
    "    h2 = JLD.load(path2* \"/h.jld\")[\"data\"]\n",
    "    Jij2 = JLD.load(path2* \"/Jij.jld\")[\"data\"]\n",
    "    iteration2 = open(path2* \"/iterations.txt\", \"r\")\n",
    "    data2 = parse.(Float64, split(readlines(iteration2)[end], \" \")[1:end-1])\n",
    "    edge_n2, element_n2 = data2[6], data2[7]\n",
    "    edge_n22, element_n2 = count(!iszero, sum(abs.(Jij2[:,:,i]) for i in 1:size(Jij2, 3))), count(!iszero, Jij2)\n",
    "    if edge_n2 == edge_n22\n",
    "        println(\"ok\")\n",
    "    end\n",
    "    \n",
    "elseif model2[1:2] == \"FZ\"\n",
    "    filepath2 = \"../saved_models/Francesco_Zamponi/\"* folder_zamponi2 * \"/\" * model_zamponi2;\n",
    "    Jij2, h2 = read_model(filepath2);\n",
    "    edge_n2, element_n2 = count(!iszero, sum(abs.(Jij2[:,:,i]) for i in 1:size(Jij2, 3))), count(!iszero, Jij2)\n",
    "\n",
    "end;"
   ]
  },
  {
   "attachments": {},
   "cell_type": "markdown",
   "metadata": {},
   "source": [
    "### Scatter Plot of all the Jijs:"
   ]
  },
  {
   "cell_type": "code",
   "execution_count": 450,
   "metadata": {},
   "outputs": [],
   "source": [
    "n_element_plot = 50_000\n",
    "Jij1_to_plot = zeros(n_element_plot);\n",
    "Jij2_to_plot = zeros(n_element_plot);\n",
    "\n",
    "for i in 1:n_element_plot\n",
    "    j = rand(1:length(Jij1))\n",
    "    Jij1_to_plot[i] = Jij1[j]\n",
    "    Jij2_to_plot[i] = Jij2[j]\n",
    "end\n",
    "\n",
    "scatter(Jij1_to_plot, Jij2_to_plot, markershape=:circle, label=:false, xlabel=\"Jij(a,b) (\"*model1*\")\", ylabel=\"Jij(a,b) (\"*model2*\")\", title=\"Couplings nb.1 vs nb.2\", alpha=0.2)\n",
    "savefig(joinpath(path,\"All_the_Jij1_vs_Jij2.png\"));"
   ]
  },
  {
   "attachments": {},
   "cell_type": "markdown",
   "metadata": {},
   "source": [
    "### Count J_ijs in common and plot the distributions:"
   ]
  },
  {
   "cell_type": "code",
   "execution_count": 451,
   "metadata": {},
   "outputs": [
    {
     "name": "stdout",
     "output_type": "stream",
     "text": [
      "1.0 1.0\n",
      "45604560.0\n",
      "Edge Complexity model 1: 100.0%;    Edge Complexity model 2: 51.84%\n",
      "\n",
      "Element Complexity model 1: 29.67%;    Element Complexity model 2: 1.26%\n",
      "______________________________________________________________________________________________________________________________________________________\n",
      "\n",
      "Common Edges: \n",
      "51.84% of the total (L^2);   51.84% of the nonzeros of model 2;   100.0% of the nonzeros of model 2\n",
      "\n",
      "Common Elements: \n",
      "1.23% of the total (L^2*q^2);   4.13% of the nonzeros in model 1;   97.16% of the nonzeros of model 2\n",
      "______________________________________________________________________________________________________________________________________________________\n",
      "\n",
      "Number of cases where  J_1 != 0  &&  J_2 != 0: 24649\n",
      "\n",
      "Number of cases where  J_1 == 0  &&  J_2 != 0: 721\n",
      "\n",
      "Number of cases where  J_1 != 0  &&  J_2 == 0: 571984\n",
      "\n",
      "Number of cases where  J_1 == 0  &&   J_2 == 0: 1413606\n",
      "______________________________________________________________________________________________________________________________________________________\n"
     ]
    }
   ],
   "source": [
    "Jij_plot_1 = Jij1\n",
    "Jij_plot_2 = Jij2\n",
    "\n",
    "# count edges/elements in common\n",
    "n_ij, n_ij_ab, n_01, n_10, n_00, Jij_common1, Jij_common2 = count_common_Jij(Jij_plot_1, Jij_plot_2);\n",
    "frac_ij_tot = round(n_ij/Nij_tot * 100, digits=2)\n",
    "frac_ijab_tot = round(n_ij_ab/Nij_ab_tot * 100, digits=2)\n",
    "# compute the complexity\n",
    "complex_edge1 = round(count(!iszero, sum(abs.(Jij_plot_1[:,:,i]) for i in 1:size(Jij1, 3)))/Nij_tot*100, digits=2)\n",
    "complex_edge2 = round(count(!iszero, sum(abs.(Jij_plot_2[:,:,i]) for i in 1:size(Jij2, 3)))/Nij_tot*100, digits=2)\n",
    "\n",
    "complex_element1 = round(count(!iszero, Jij_plot_1)/Nij_ab_tot*100, digits=2)\n",
    "complex_element2 = round(count(!iszero, Jij_plot_2)/Nij_ab_tot*100, digits=2)\n",
    "\n",
    "# fractions wrt model 1 \n",
    "if model1[1:3] == \"EAA\"\n",
    "    frac_ij_1 = round(n_ij/edge_n1 * 100, digits=2)\n",
    "    frac_ijab_1 = round(n_ij_ab/element_n1 * 100, digits=2)\n",
    "\n",
    "elseif model1[1:2] == \"FZ\"\n",
    "    J1 = zeros(L, L)\n",
    "    for i ∈ 1:L\n",
    "        for j ∈ 1:L\n",
    "                J1[i, j] = sum(abs.(Jij1[i, j, :]))\n",
    "        end\n",
    "    end\n",
    "    frac_ij_1 = round(n_ij/count(!iszero, J1) * 100, digits=2)\n",
    "    frac_ijab_1 = round(n_ij_ab/count(!iszero, Jij_plot_1) * 100, digits=2)\n",
    "\n",
    "    frac_ij_1 = round(n_ij/edge_n1 * 100, digits=2)\n",
    "    frac_ijab_1 = round(n_ij_ab/element_n1 * 100, digits=2)\n",
    "    \n",
    "end\n",
    "\n",
    "\n",
    "# fractions wrt model 2 \n",
    "if model2[1:3] == \"EAA\"\n",
    "    frac_ij_2 = round(n_ij/edge_n2 * 100, digits=2)\n",
    "    frac_ijab_2 = round(n_ij_ab/element_n2 * 100, digits=2)\n",
    "\n",
    "elseif model2[1:2] == \"FZ\"\n",
    "    J2 = zeros(L, L)\n",
    "    for i ∈ 1:L\n",
    "        for j ∈ 1:L\n",
    "                J2[i, j] = sum(abs.(Jij2[i, j, :]))\n",
    "        end\n",
    "    end\n",
    "    frac_ij_2 = round(n_ij/count(!iszero, J2) * 100, digits=2)\n",
    "    frac_ijab_2 = round(n_ij_ab/count(!iszero, Jij_plot_2) * 100, digits=2)\n",
    "\n",
    "    frac_ij_2 = round(n_ij/edge_n2 * 100, digits=2)\n",
    "    frac_ijab_2 = round(n_ij_ab/element_n2 * 100, digits=2)\n",
    "end;\n",
    "\n",
    "println(edge_n1 / Nij_tot, \" \", n_ij / edge_n2)\n",
    "println(edge_n1, Nij_tot)\n",
    "\n",
    "### WRITE ON FILE ################################################################################################################################################\n",
    "filename = \"count_common_Jij\"\n",
    "open(joinpath(path, filename), \"w\") do f  \n",
    "       println(\"Edge Complexity model 1: \",complex_edge1,\"%;    Edge Complexity model 2: \",complex_edge2, \"%\")\n",
    "       write(f,\"Edge Complexity model 1: $(complex_edge1)%;    Edge Complexity model 2:    $(complex_edge2)%;   \")\n",
    "       \n",
    "       println(\"\\nElement Complexity model 1: \",complex_element1,\"%;    Element Complexity model 2: \",complex_element2, \"%\")\n",
    "       write(f,\"\\nElement Complexity model 1: $(complex_element1)%;    Element Complexity model 2:    $(complex_element2)%;   \")\n",
    "\n",
    "       println(\"______________________________________________________________________________________________________________________________________________________\")\n",
    "       println(\"\\nCommon Edges: \\n\",frac_ij_tot,\"% of the total (L^2);   \", frac_ij_1, \"% of the nonzeros of model 2;   \", frac_ij_2, \"% of the nonzeros of model 2\")\n",
    "       write(f,\"\\nCommon Edges: \\n $(frac_ij_tot)% of the total;   $(frac_ij_1)% of the first model;   $(frac_ij_2)% of the second model\")\n",
    "\n",
    "       println(\"\\nCommon Elements: \\n\",frac_ijab_tot,\"% of the total (L^2*q^2);   \",  frac_ijab_1, \"% of the nonzeros in model 1;   \", frac_ijab_2, \"% of the nonzeros of model 2\")\n",
    "       write(f,\"\\nCommon Elements: \\n $(frac_ijab_tot)% of the total;   $(frac_ijab_1)% of the first model;   $(frac_ijab_2)% of the second model\")\n",
    "\n",
    "       println(\"______________________________________________________________________________________________________________________________________________________\")\n",
    "       println(\"\\nNumber of cases where  J_1 != 0  &&  J_2 != 0: \", n_ij_ab)\n",
    "       write(f,\"\\nNumber of cases where  J_1 != 0  &&  J_2 != 0: $n_ij_ab\")\n",
    "\n",
    "       println(\"\\nNumber of cases where  J_1 == 0  &&  J_2 != 0: \", n_01)\n",
    "       write(f,\"\\nNumber of cases where  J_1 == 0  &&  J_2 != 0: $n_01\")\n",
    "\n",
    "       println(\"\\nNumber of cases where  J_1 != 0  &&  J_2 == 0: \", n_10)\n",
    "       write(f,\"\\nNumber of cases where  J_1 != 0  &&  J_2 == 0: $n_10\")\n",
    "\n",
    "       println(\"\\nNumber of cases where  J_1 == 0  &&   J_2 == 0: \", n_00)\n",
    "       write(f,\"\\nNumber of cases where  J_1 == 0  &&   J_2 == 0: $n_00\")\n",
    "       println(\"______________________________________________________________________________________________________________________________________________________\")\n",
    "end\n",
    "##################################################################################################################################################################\n",
    "\n",
    "# Plot Scatter & Distributions #####################################################################################\n",
    "x, y = Jij_common1[Jij_common1.!= 0.0], Jij_common2[Jij_common2.!= 0.0]\n",
    "x_label, y_label = \"Jij(a,b) \"*model1, \"Jij(a,b) \"*model2 # (EAA 0.5)\", \"Jij(a,b)\"*model_zamponi\n",
    "title = \"Common Couplings: \"* L\"J_{ij}(a,b)\"\n",
    "\n",
    "\n",
    "plot(  histogram(x, nbins=100, alpha=0.5, orientation=:vertical,label=:false, xticks=[], ylabel=\"counts\", title = title),   \n",
    "       plot(framestyle = :none),\n",
    "       scatter(x, y, markershape=:circle, label=:false, xlabel=x_label, ylabel=y_label, alpha=0.2),\n",
    "       histogram(y, nbins=100, alpha=0.5, orientation=:horizontal, label=:false, yticks=[], xlabel=\"counts\"),\n",
    "       link = :both, \n",
    "       size=(1000, 1000), \n",
    "       spacing=0.1, \n",
    "       )\n",
    "savefig(joinpath(path,\"Common_Jij1_vs_Jij2.png\"));\n",
    "##################################################################################################################"
   ]
  },
  {
   "attachments": {},
   "cell_type": "markdown",
   "metadata": {},
   "source": [
    "#### Count and plot Jijs NOT in common"
   ]
  },
  {
   "cell_type": "code",
   "execution_count": 452,
   "metadata": {},
   "outputs": [],
   "source": [
    "J_diff1 = Jij1[(Jij1.!= 0).*(Jij2.== 0)] \n",
    "J_diff2 = Jij2[(Jij2.!= 0).*(Jij1.== 0)]; "
   ]
  },
  {
   "cell_type": "code",
   "execution_count": 453,
   "metadata": {},
   "outputs": [],
   "source": [
    "histogram(J_diff1, bins = 100, title = \"Jij of model1 not in common with model2\", xlabel=\"values\", ylabel=\"counts\", label=:false)\n",
    "savefig(joinpath(path,\"Jij1_NOT_in_common_with_Jij2.png\"));"
   ]
  },
  {
   "cell_type": "code",
   "execution_count": 454,
   "metadata": {},
   "outputs": [],
   "source": [
    "histogram(J_diff2, bins = 100, title = \"Jij of model2 not in common with model1\", xlabel=\"values\", ylabel=\"counts\", label=:false)\n",
    "savefig(joinpath(path,\"Jij2_NOT_in_common_with_Jij2.png\"));"
   ]
  },
  {
   "attachments": {},
   "cell_type": "markdown",
   "metadata": {},
   "source": [
    "### Common Jijs vs Score/Iterations:\n"
   ]
  },
  {
   "cell_type": "code",
   "execution_count": 455,
   "metadata": {},
   "outputs": [],
   "source": [
    "if model1[1:3] == \"EAA\" && model2[1:3] == \"EAA\"\n",
    "    file_path1 = joinpath(path1, \"example_output.txt\");\n",
    "    file_path2 = joinpath(path2, \"example_output.txt\");\n",
    "\n",
    "    edges1, elements1, scores1 = read_example_output(file_path1);\n",
    "    edges2, elements2, scores2 = read_example_output(file_path2);\n",
    "end;"
   ]
  },
  {
   "attachments": {},
   "cell_type": "markdown",
   "metadata": {},
   "source": [
    "### Common Edges/Elements vs Cij score:"
   ]
  },
  {
   "cell_type": "code",
   "execution_count": 456,
   "metadata": {},
   "outputs": [],
   "source": [
    "if model1[1:3] == \"EAA\" && model2[1:3] == \"EAA\"\n",
    "    n_edges, n_elements, n_edges_x, n_edges_y, n_elements_x, n_elements_y = compare_edges(edges1, elements1, edges2, elements2, L);\n",
    "\n",
    "    scores_x = scores1 #scores2\n",
    "\n",
    "    scatter(scores_x, n_elements./n_elements_x * 100, marker=:circle, markersize=3, label=\"elements\", legend=:right)\n",
    "    scatter!(scores_x, n_edges./n_edges_x * 100, marker=:circle, markersize=3, label=\"edges\")\n",
    "    plot!(scores_x, 90*ones(length(scores_x)), label=\"90%\")\n",
    "    plot!(scores_x, 50*ones(length(scores_x)), label=\"50%\")\n",
    "    xlabel!(L\"C_{ij}\" * \" score\")\n",
    "    ylabel!(\"%\")\n",
    "    title!(\"Percentage of non-zero parameters in both models\")\n",
    "    savefig(joinpath(path,\"number_shared_Jij_vs_Cij_score.png\"))\n",
    "end"
   ]
  },
  {
   "cell_type": "code",
   "execution_count": 457,
   "metadata": {},
   "outputs": [],
   "source": [
    "if model1[1:3] == \"EAA\" && model2[1:3] == \"EAA\"\n",
    "    scatter(1:length(n_elements), n_elements./n_elements_x * 100, marker=:circle, markersize=3, label=\"elements\", legend=:right)\n",
    "    scatter!(1:length(n_elements), n_edges./n_edges_x * 100, marker=:circle, markersize=3, label=\"edges\")\n",
    "    plot!(1:length(n_elements), 90*ones(length(n_elements)), label=\"90%\")\n",
    "    plot!(1:length(n_elements), 50*ones(length(n_elements)), label=\"50%\")\n",
    "    xlabel!(\"E.A.A. iteration\")\n",
    "    ylabel!(\"%\")\n",
    "    title!(\"Percentage of non-zero parameters in both models\")\n",
    "    savefig(joinpath(path,\"number_shared_Jij_vs_iterations.png\"));\n",
    "end"
   ]
  },
  {
   "attachments": {},
   "cell_type": "markdown",
   "metadata": {},
   "source": [
    "### Comparing FZ models with EAA varying pseudo-count:"
   ]
  },
  {
   "attachments": {},
   "cell_type": "markdown",
   "metadata": {},
   "source": [
    "#### Activation:"
   ]
  },
  {
   "cell_type": "code",
   "execution_count": 464,
   "metadata": {},
   "outputs": [],
   "source": [
    "alphas = [0.05, 0.1, 0.2, 0.3, 0.4, 0.5, 0.6, 0.7, 0.8, 0.9]\n",
    "\n",
    "edge_complexity_FZ_dec = 97.08\n",
    "edge_complexity_EAA = [37.7, 36.03, 36.16, 35.0, 35.88, 37.32, 38.25, 40.75, 44.14, 51.84]\n",
    "\n",
    "element_complexity_FZ_dec = 1.99\n",
    "element_complexity_EAA = [1.89, 1.63, 1.48, 1.29, 1.23, 1.19, 1.14, 1.13, 1.13, 1.26]\n",
    "\n",
    "common_edges =         [37.68, 36.01, 36.14, 34.98, 35.83, 37.3, 38.25, 40.75, 44.14, 51.84]\n",
    "common_edges_wrt_FZ =  [38.81, 37.09, 37.23, 36.03, 36.91, 38.42, 39.39, 41.97, 45.47, 53.4]\n",
    "common_edges_wrt_EAA = [99.94, 99.94, 99.94, 99.94, 99.88, 99.94, 100.0, 100.0, 100.0, 100.0]\n",
    "\n",
    "common_elements =         [0.45, 0.45, 0.45, 0.45, 0.46, 0.47, 0.48, 0.49, 0.51, 0.57]\n",
    "common_elements_wrt_FZ =  [22.7, 22.47, 22.82, 22.7, 22.95, 23.54, 23.96, 24.52, 25.5, 28.83]\n",
    "common_elements_wrt_EAA = [23.96, 27.43, 30.66, 35.02, 37.1, 39.48, 41.92, 43.06, 44.93, 45.53];"
   ]
  },
  {
   "cell_type": "code",
   "execution_count": 471,
   "metadata": {},
   "outputs": [
    {
     "data": {
      "image/svg+xml": [
       "<?xml version=\"1.0\" encoding=\"utf-8\"?>\n",
       "<svg xmlns=\"http://www.w3.org/2000/svg\" xmlns:xlink=\"http://www.w3.org/1999/xlink\" width=\"600\" height=\"400\" viewBox=\"0 0 2400 1600\">\n",
       "<defs>\n",
       "  <clipPath id=\"clip350\">\n",
       "    <rect x=\"0\" y=\"0\" width=\"2400\" height=\"1600\"/>\n",
       "  </clipPath>\n",
       "</defs>\n",
       "<path clip-path=\"url(#clip350)\" d=\"M0 1600 L2400 1600 L2400 0 L0 0  Z\" fill=\"#ffffff\" fill-rule=\"evenodd\" fill-opacity=\"1\"/>\n",
       "<defs>\n",
       "  <clipPath id=\"clip351\">\n",
       "    <rect x=\"480\" y=\"0\" width=\"1681\" height=\"1600\"/>\n",
       "  </clipPath>\n",
       "</defs>\n",
       "<path clip-path=\"url(#clip350)\" d=\"M141.853 1486.45 L2352.76 1486.45 L2352.76 47.2441 L141.853 47.2441  Z\" fill=\"#ffffff\" fill-rule=\"evenodd\" fill-opacity=\"1\"/>\n",
       "<defs>\n",
       "  <clipPath id=\"clip352\">\n",
       "    <rect x=\"141\" y=\"47\" width=\"2212\" height=\"1440\"/>\n",
       "  </clipPath>\n",
       "</defs>\n",
       "<polyline clip-path=\"url(#clip352)\" style=\"stroke:#000000; stroke-linecap:round; stroke-linejoin:round; stroke-width:2; stroke-opacity:0.1; fill:none\" points=\"572.501,1486.45 572.501,47.2441 \"/>\n",
       "<polyline clip-path=\"url(#clip352)\" style=\"stroke:#000000; stroke-linecap:round; stroke-linejoin:round; stroke-width:2; stroke-opacity:0.1; fill:none\" points=\"1063.27,1486.45 1063.27,47.2441 \"/>\n",
       "<polyline clip-path=\"url(#clip352)\" style=\"stroke:#000000; stroke-linecap:round; stroke-linejoin:round; stroke-width:2; stroke-opacity:0.1; fill:none\" points=\"1554.03,1486.45 1554.03,47.2441 \"/>\n",
       "<polyline clip-path=\"url(#clip352)\" style=\"stroke:#000000; stroke-linecap:round; stroke-linejoin:round; stroke-width:2; stroke-opacity:0.1; fill:none\" points=\"2044.8,1486.45 2044.8,47.2441 \"/>\n",
       "<polyline clip-path=\"url(#clip350)\" style=\"stroke:#000000; stroke-linecap:round; stroke-linejoin:round; stroke-width:4; stroke-opacity:1; fill:none\" points=\"141.853,1486.45 2352.76,1486.45 \"/>\n",
       "<polyline clip-path=\"url(#clip350)\" style=\"stroke:#000000; stroke-linecap:round; stroke-linejoin:round; stroke-width:4; stroke-opacity:1; fill:none\" points=\"572.501,1486.45 572.501,1467.55 \"/>\n",
       "<polyline clip-path=\"url(#clip350)\" style=\"stroke:#000000; stroke-linecap:round; stroke-linejoin:round; stroke-width:4; stroke-opacity:1; fill:none\" points=\"1063.27,1486.45 1063.27,1467.55 \"/>\n",
       "<polyline clip-path=\"url(#clip350)\" style=\"stroke:#000000; stroke-linecap:round; stroke-linejoin:round; stroke-width:4; stroke-opacity:1; fill:none\" points=\"1554.03,1486.45 1554.03,1467.55 \"/>\n",
       "<polyline clip-path=\"url(#clip350)\" style=\"stroke:#000000; stroke-linecap:round; stroke-linejoin:round; stroke-width:4; stroke-opacity:1; fill:none\" points=\"2044.8,1486.45 2044.8,1467.55 \"/>\n",
       "<path clip-path=\"url(#clip350)\" d=\"M550.684 1517.37 Q547.072 1517.37 545.244 1520.93 Q543.438 1524.47 543.438 1531.6 Q543.438 1538.71 545.244 1542.27 Q547.072 1545.82 550.684 1545.82 Q554.318 1545.82 556.123 1542.27 Q557.952 1538.71 557.952 1531.6 Q557.952 1524.47 556.123 1520.93 Q554.318 1517.37 550.684 1517.37 M550.684 1513.66 Q556.494 1513.66 559.549 1518.27 Q562.628 1522.85 562.628 1531.6 Q562.628 1540.33 559.549 1544.94 Q556.494 1549.52 550.684 1549.52 Q544.873 1549.52 541.795 1544.94 Q538.739 1540.33 538.739 1531.6 Q538.739 1522.85 541.795 1518.27 Q544.873 1513.66 550.684 1513.66 Z\" fill=\"#000000\" fill-rule=\"evenodd\" fill-opacity=\"1\" /><path clip-path=\"url(#clip350)\" d=\"M570.845 1542.97 L575.73 1542.97 L575.73 1548.85 L570.845 1548.85 L570.845 1542.97 Z\" fill=\"#000000\" fill-rule=\"evenodd\" fill-opacity=\"1\" /><path clip-path=\"url(#clip350)\" d=\"M589.943 1544.91 L606.262 1544.91 L606.262 1548.85 L584.318 1548.85 L584.318 1544.91 Q586.98 1542.16 591.563 1537.53 Q596.169 1532.88 597.35 1531.53 Q599.595 1529.01 600.475 1527.27 Q601.378 1525.51 601.378 1523.82 Q601.378 1521.07 599.433 1519.33 Q597.512 1517.6 594.41 1517.6 Q592.211 1517.6 589.757 1518.36 Q587.327 1519.13 584.549 1520.68 L584.549 1515.95 Q587.373 1514.82 589.827 1514.24 Q592.281 1513.66 594.318 1513.66 Q599.688 1513.66 602.882 1516.35 Q606.077 1519.03 606.077 1523.52 Q606.077 1525.65 605.267 1527.57 Q604.48 1529.47 602.373 1532.07 Q601.794 1532.74 598.693 1535.95 Q595.591 1539.15 589.943 1544.91 Z\" fill=\"#000000\" fill-rule=\"evenodd\" fill-opacity=\"1\" /><path clip-path=\"url(#clip350)\" d=\"M1040.41 1517.37 Q1036.8 1517.37 1034.97 1520.93 Q1033.16 1524.47 1033.16 1531.6 Q1033.16 1538.71 1034.97 1542.27 Q1036.8 1545.82 1040.41 1545.82 Q1044.04 1545.82 1045.85 1542.27 Q1047.68 1538.71 1047.68 1531.6 Q1047.68 1524.47 1045.85 1520.93 Q1044.04 1517.37 1040.41 1517.37 M1040.41 1513.66 Q1046.22 1513.66 1049.27 1518.27 Q1052.35 1522.85 1052.35 1531.6 Q1052.35 1540.33 1049.27 1544.94 Q1046.22 1549.52 1040.41 1549.52 Q1034.6 1549.52 1031.52 1544.94 Q1028.46 1540.33 1028.46 1531.6 Q1028.46 1522.85 1031.52 1518.27 Q1034.6 1513.66 1040.41 1513.66 Z\" fill=\"#000000\" fill-rule=\"evenodd\" fill-opacity=\"1\" /><path clip-path=\"url(#clip350)\" d=\"M1060.57 1542.97 L1065.45 1542.97 L1065.45 1548.85 L1060.57 1548.85 L1060.57 1542.97 Z\" fill=\"#000000\" fill-rule=\"evenodd\" fill-opacity=\"1\" /><path clip-path=\"url(#clip350)\" d=\"M1088.49 1518.36 L1076.68 1536.81 L1088.49 1536.81 L1088.49 1518.36 M1087.26 1514.29 L1093.14 1514.29 L1093.14 1536.81 L1098.07 1536.81 L1098.07 1540.7 L1093.14 1540.7 L1093.14 1548.85 L1088.49 1548.85 L1088.49 1540.7 L1072.89 1540.7 L1072.89 1536.19 L1087.26 1514.29 Z\" fill=\"#000000\" fill-rule=\"evenodd\" fill-opacity=\"1\" /><path clip-path=\"url(#clip350)\" d=\"M1531.34 1517.37 Q1527.73 1517.37 1525.9 1520.93 Q1524.09 1524.47 1524.09 1531.6 Q1524.09 1538.71 1525.9 1542.27 Q1527.73 1545.82 1531.34 1545.82 Q1534.97 1545.82 1536.78 1542.27 Q1538.61 1538.71 1538.61 1531.6 Q1538.61 1524.47 1536.78 1520.93 Q1534.97 1517.37 1531.34 1517.37 M1531.34 1513.66 Q1537.15 1513.66 1540.2 1518.27 Q1543.28 1522.85 1543.28 1531.6 Q1543.28 1540.33 1540.2 1544.94 Q1537.15 1549.52 1531.34 1549.52 Q1525.53 1549.52 1522.45 1544.94 Q1519.39 1540.33 1519.39 1531.6 Q1519.39 1522.85 1522.45 1518.27 Q1525.53 1513.66 1531.34 1513.66 Z\" fill=\"#000000\" fill-rule=\"evenodd\" fill-opacity=\"1\" /><path clip-path=\"url(#clip350)\" d=\"M1551.5 1542.97 L1556.38 1542.97 L1556.38 1548.85 L1551.5 1548.85 L1551.5 1542.97 Z\" fill=\"#000000\" fill-rule=\"evenodd\" fill-opacity=\"1\" /><path clip-path=\"url(#clip350)\" d=\"M1577.15 1529.7 Q1574 1529.7 1572.15 1531.86 Q1570.32 1534.01 1570.32 1537.76 Q1570.32 1541.49 1572.15 1543.66 Q1574 1545.82 1577.15 1545.82 Q1580.29 1545.82 1582.12 1543.66 Q1583.98 1541.49 1583.98 1537.76 Q1583.98 1534.01 1582.12 1531.86 Q1580.29 1529.7 1577.15 1529.7 M1586.43 1515.05 L1586.43 1519.31 Q1584.67 1518.48 1582.86 1518.04 Q1581.08 1517.6 1579.32 1517.6 Q1574.69 1517.6 1572.24 1520.72 Q1569.81 1523.85 1569.46 1530.17 Q1570.83 1528.15 1572.89 1527.09 Q1574.95 1526 1577.42 1526 Q1582.63 1526 1585.64 1529.17 Q1588.67 1532.32 1588.67 1537.76 Q1588.67 1543.08 1585.53 1546.3 Q1582.38 1549.52 1577.15 1549.52 Q1571.15 1549.52 1567.98 1544.94 Q1564.81 1540.33 1564.81 1531.6 Q1564.81 1523.41 1568.7 1518.55 Q1572.59 1513.66 1579.14 1513.66 Q1580.9 1513.66 1582.68 1514.01 Q1584.48 1514.36 1586.43 1515.05 Z\" fill=\"#000000\" fill-rule=\"evenodd\" fill-opacity=\"1\" /><path clip-path=\"url(#clip350)\" d=\"M2022.23 1517.37 Q2018.62 1517.37 2016.79 1520.93 Q2014.99 1524.47 2014.99 1531.6 Q2014.99 1538.71 2016.79 1542.27 Q2018.62 1545.82 2022.23 1545.82 Q2025.86 1545.82 2027.67 1542.27 Q2029.5 1538.71 2029.5 1531.6 Q2029.5 1524.47 2027.67 1520.93 Q2025.86 1517.37 2022.23 1517.37 M2022.23 1513.66 Q2028.04 1513.66 2031.1 1518.27 Q2034.18 1522.85 2034.18 1531.6 Q2034.18 1540.33 2031.1 1544.94 Q2028.04 1549.52 2022.23 1549.52 Q2016.42 1549.52 2013.34 1544.94 Q2010.29 1540.33 2010.29 1531.6 Q2010.29 1522.85 2013.34 1518.27 Q2016.42 1513.66 2022.23 1513.66 Z\" fill=\"#000000\" fill-rule=\"evenodd\" fill-opacity=\"1\" /><path clip-path=\"url(#clip350)\" d=\"M2042.39 1542.97 L2047.28 1542.97 L2047.28 1548.85 L2042.39 1548.85 L2042.39 1542.97 Z\" fill=\"#000000\" fill-rule=\"evenodd\" fill-opacity=\"1\" /><path clip-path=\"url(#clip350)\" d=\"M2067.46 1532.44 Q2064.13 1532.44 2062.21 1534.22 Q2060.31 1536 2060.31 1539.13 Q2060.31 1542.25 2062.21 1544.03 Q2064.13 1545.82 2067.46 1545.82 Q2070.8 1545.82 2072.72 1544.03 Q2074.64 1542.23 2074.64 1539.13 Q2074.64 1536 2072.72 1534.22 Q2070.82 1532.44 2067.46 1532.44 M2062.79 1530.45 Q2059.78 1529.7 2058.09 1527.64 Q2056.42 1525.58 2056.42 1522.62 Q2056.42 1518.48 2059.36 1516.07 Q2062.32 1513.66 2067.46 1513.66 Q2072.62 1513.66 2075.56 1516.07 Q2078.5 1518.48 2078.5 1522.62 Q2078.5 1525.58 2076.81 1527.64 Q2075.15 1529.7 2072.16 1530.45 Q2075.54 1531.23 2077.42 1533.52 Q2079.31 1535.82 2079.31 1539.13 Q2079.31 1544.15 2076.23 1546.83 Q2073.18 1549.52 2067.46 1549.52 Q2061.74 1549.52 2058.67 1546.83 Q2055.61 1544.15 2055.61 1539.13 Q2055.61 1535.82 2057.51 1533.52 Q2059.41 1531.23 2062.79 1530.45 M2061.07 1523.06 Q2061.07 1525.75 2062.74 1527.25 Q2064.43 1528.76 2067.46 1528.76 Q2070.47 1528.76 2072.16 1527.25 Q2073.87 1525.75 2073.87 1523.06 Q2073.87 1520.38 2072.16 1518.87 Q2070.47 1517.37 2067.46 1517.37 Q2064.43 1517.37 2062.74 1518.87 Q2061.07 1520.38 2061.07 1523.06 Z\" fill=\"#000000\" fill-rule=\"evenodd\" fill-opacity=\"1\" /><polyline clip-path=\"url(#clip352)\" style=\"stroke:#000000; stroke-linecap:round; stroke-linejoin:round; stroke-width:2; stroke-opacity:0.1; fill:none\" points=\"141.853,1444.11 2352.76,1444.11 \"/>\n",
       "<polyline clip-path=\"url(#clip352)\" style=\"stroke:#000000; stroke-linecap:round; stroke-linejoin:round; stroke-width:2; stroke-opacity:0.1; fill:none\" points=\"141.853,1041.45 2352.76,1041.45 \"/>\n",
       "<polyline clip-path=\"url(#clip352)\" style=\"stroke:#000000; stroke-linecap:round; stroke-linejoin:round; stroke-width:2; stroke-opacity:0.1; fill:none\" points=\"141.853,638.803 2352.76,638.803 \"/>\n",
       "<polyline clip-path=\"url(#clip352)\" style=\"stroke:#000000; stroke-linecap:round; stroke-linejoin:round; stroke-width:2; stroke-opacity:0.1; fill:none\" points=\"141.853,236.152 2352.76,236.152 \"/>\n",
       "<polyline clip-path=\"url(#clip350)\" style=\"stroke:#000000; stroke-linecap:round; stroke-linejoin:round; stroke-width:4; stroke-opacity:1; fill:none\" points=\"141.853,1486.45 141.853,47.2441 \"/>\n",
       "<polyline clip-path=\"url(#clip350)\" style=\"stroke:#000000; stroke-linecap:round; stroke-linejoin:round; stroke-width:4; stroke-opacity:1; fill:none\" points=\"141.853,1444.11 160.751,1444.11 \"/>\n",
       "<polyline clip-path=\"url(#clip350)\" style=\"stroke:#000000; stroke-linecap:round; stroke-linejoin:round; stroke-width:4; stroke-opacity:1; fill:none\" points=\"141.853,1041.45 160.751,1041.45 \"/>\n",
       "<polyline clip-path=\"url(#clip350)\" style=\"stroke:#000000; stroke-linecap:round; stroke-linejoin:round; stroke-width:4; stroke-opacity:1; fill:none\" points=\"141.853,638.803 160.751,638.803 \"/>\n",
       "<polyline clip-path=\"url(#clip350)\" style=\"stroke:#000000; stroke-linecap:round; stroke-linejoin:round; stroke-width:4; stroke-opacity:1; fill:none\" points=\"141.853,236.152 160.751,236.152 \"/>\n",
       "<path clip-path=\"url(#clip350)\" d=\"M68.9087 1442.75 Q72.2652 1443.47 74.1402 1445.74 Q76.0383 1448.01 76.0383 1451.34 Q76.0383 1456.45 72.5198 1459.26 Q69.0013 1462.06 62.5198 1462.06 Q60.3439 1462.06 58.0291 1461.62 Q55.7375 1461.2 53.2838 1460.34 L53.2838 1455.83 Q55.2282 1456.96 57.543 1457.54 Q59.8578 1458.12 62.381 1458.12 Q66.7791 1458.12 69.0707 1456.39 Q71.3855 1454.65 71.3855 1451.34 Q71.3855 1448.28 69.2328 1446.57 Q67.1032 1444.83 63.2837 1444.83 L59.256 1444.83 L59.256 1440.99 L63.4689 1440.99 Q66.918 1440.99 68.7467 1439.63 Q70.5754 1438.24 70.5754 1435.64 Q70.5754 1432.98 68.6772 1431.57 Q66.8022 1430.14 63.2837 1430.14 Q61.3624 1430.14 59.1634 1430.55 Q56.9643 1430.97 54.3254 1431.85 L54.3254 1427.68 Q56.9875 1426.94 59.3023 1426.57 Q61.6402 1426.2 63.7004 1426.2 Q69.0244 1426.2 72.1263 1428.63 Q75.2281 1431.04 75.2281 1435.16 Q75.2281 1438.03 73.5846 1440.02 Q71.9411 1441.99 68.9087 1442.75 Z\" fill=\"#000000\" fill-rule=\"evenodd\" fill-opacity=\"1\" /><path clip-path=\"url(#clip350)\" d=\"M84.9503 1426.83 L103.307 1426.83 L103.307 1430.76 L89.2327 1430.76 L89.2327 1439.23 Q90.2512 1438.89 91.2697 1438.72 Q92.2882 1438.54 93.3067 1438.54 Q99.0937 1438.54 102.473 1441.71 Q105.853 1444.88 105.853 1450.3 Q105.853 1455.88 102.381 1458.98 Q98.9085 1462.06 92.5891 1462.06 Q90.4132 1462.06 88.1447 1461.69 Q85.8993 1461.32 83.492 1460.57 L83.492 1455.88 Q85.5753 1457.01 87.7975 1457.57 Q90.0197 1458.12 92.4965 1458.12 Q96.5011 1458.12 98.8391 1456.01 Q101.177 1453.91 101.177 1450.3 Q101.177 1446.69 98.8391 1444.58 Q96.5011 1442.47 92.4965 1442.47 Q90.6215 1442.47 88.7466 1442.89 Q86.8947 1443.31 84.9503 1444.19 L84.9503 1426.83 Z\" fill=\"#000000\" fill-rule=\"evenodd\" fill-opacity=\"1\" /><path clip-path=\"url(#clip350)\" d=\"M66.5939 1028.25 L54.7884 1046.7 L66.5939 1046.7 L66.5939 1028.25 M65.367 1024.17 L71.2466 1024.17 L71.2466 1046.7 L76.1772 1046.7 L76.1772 1050.59 L71.2466 1050.59 L71.2466 1058.73 L66.5939 1058.73 L66.5939 1050.59 L50.9921 1050.59 L50.9921 1046.07 L65.367 1024.17 Z\" fill=\"#000000\" fill-rule=\"evenodd\" fill-opacity=\"1\" /><path clip-path=\"url(#clip350)\" d=\"M93.9086 1027.25 Q90.2975 1027.25 88.4688 1030.82 Q86.6632 1034.36 86.6632 1041.49 Q86.6632 1048.6 88.4688 1052.16 Q90.2975 1055.7 93.9086 1055.7 Q97.5428 1055.7 99.3483 1052.16 Q101.177 1048.6 101.177 1041.49 Q101.177 1034.36 99.3483 1030.82 Q97.5428 1027.25 93.9086 1027.25 M93.9086 1023.55 Q99.7187 1023.55 102.774 1028.16 Q105.853 1032.74 105.853 1041.49 Q105.853 1050.22 102.774 1054.82 Q99.7187 1059.41 93.9086 1059.41 Q88.0984 1059.41 85.0197 1054.82 Q81.9642 1050.22 81.9642 1041.49 Q81.9642 1032.74 85.0197 1028.16 Q88.0984 1023.55 93.9086 1023.55 Z\" fill=\"#000000\" fill-rule=\"evenodd\" fill-opacity=\"1\" /><path clip-path=\"url(#clip350)\" d=\"M67.5893 625.597 L55.7838 644.046 L67.5893 644.046 L67.5893 625.597 M66.3624 621.523 L72.242 621.523 L72.242 644.046 L77.1725 644.046 L77.1725 647.935 L72.242 647.935 L72.242 656.083 L67.5893 656.083 L67.5893 647.935 L51.9875 647.935 L51.9875 643.421 L66.3624 621.523 Z\" fill=\"#000000\" fill-rule=\"evenodd\" fill-opacity=\"1\" /><path clip-path=\"url(#clip350)\" d=\"M84.9503 621.523 L103.307 621.523 L103.307 625.458 L89.2327 625.458 L89.2327 633.93 Q90.2512 633.583 91.2697 633.421 Q92.2882 633.236 93.3067 633.236 Q99.0937 633.236 102.473 636.407 Q105.853 639.578 105.853 644.995 Q105.853 650.574 102.381 653.676 Q98.9085 656.754 92.5891 656.754 Q90.4132 656.754 88.1447 656.384 Q85.8993 656.013 83.492 655.273 L83.492 650.574 Q85.5753 651.708 87.7975 652.264 Q90.0197 652.819 92.4965 652.819 Q96.5011 652.819 98.8391 650.713 Q101.177 648.606 101.177 644.995 Q101.177 641.384 98.8391 639.277 Q96.5011 637.171 92.4965 637.171 Q90.6215 637.171 88.7466 637.588 Q86.8947 638.004 84.9503 638.884 L84.9503 621.523 Z\" fill=\"#000000\" fill-rule=\"evenodd\" fill-opacity=\"1\" /><path clip-path=\"url(#clip350)\" d=\"M53.793 218.872 L72.1494 218.872 L72.1494 222.807 L58.0754 222.807 L58.0754 231.279 Q59.0939 230.932 60.1124 230.77 Q61.131 230.585 62.1495 230.585 Q67.9365 230.585 71.3161 233.756 Q74.6957 236.927 74.6957 242.344 Q74.6957 247.923 71.2235 251.024 Q67.7513 254.103 61.4319 254.103 Q59.256 254.103 56.9875 253.733 Q54.7421 253.362 52.3347 252.622 L52.3347 247.923 Q54.418 249.057 56.6402 249.612 Q58.8625 250.168 61.3393 250.168 Q65.3439 250.168 67.6819 248.062 Q70.0198 245.955 70.0198 242.344 Q70.0198 238.733 67.6819 236.626 Q65.3439 234.52 61.3393 234.52 Q59.4643 234.52 57.5893 234.937 Q55.7375 235.353 53.793 236.233 L53.793 218.872 Z\" fill=\"#000000\" fill-rule=\"evenodd\" fill-opacity=\"1\" /><path clip-path=\"url(#clip350)\" d=\"M93.9086 221.951 Q90.2975 221.951 88.4688 225.515 Q86.6632 229.057 86.6632 236.187 Q86.6632 243.293 88.4688 246.858 Q90.2975 250.399 93.9086 250.399 Q97.5428 250.399 99.3483 246.858 Q101.177 243.293 101.177 236.187 Q101.177 229.057 99.3483 225.515 Q97.5428 221.951 93.9086 221.951 M93.9086 218.247 Q99.7187 218.247 102.774 222.853 Q105.853 227.437 105.853 236.187 Q105.853 244.913 102.774 249.52 Q99.7187 254.103 93.9086 254.103 Q88.0984 254.103 85.0197 249.52 Q81.9642 244.913 81.9642 236.187 Q81.9642 227.437 85.0197 222.853 Q88.0984 218.247 93.9086 218.247 Z\" fill=\"#000000\" fill-rule=\"evenodd\" fill-opacity=\"1\" /><polyline clip-path=\"url(#clip352)\" style=\"stroke:#009af9; stroke-linecap:round; stroke-linejoin:round; stroke-width:4; stroke-opacity:1; fill:none\" points=\"204.426,1226.67 327.117,1361.16 572.501,1350.69 817.884,1444.11 1063.27,1373.24 1308.65,1257.27 1554.03,1182.38 1799.42,981.056 2044.8,708.059 2290.18,87.9763 \"/>\n",
       "<polyline clip-path=\"url(#clip352)\" style=\"stroke:#e26f46; stroke-linecap:round; stroke-linejoin:round; stroke-width:4; stroke-opacity:1; fill:none\" points=\"204.426,1228.28 327.117,1362.77 572.501,1352.3 817.884,1445.72 1063.27,1377.27 1308.65,1258.89 1554.03,1182.38 1799.42,981.056 2044.8,708.059 2290.18,87.9763 \"/>\n",
       "<path clip-path=\"url(#clip350)\" d=\"M215.55 250.738 L939.137 250.738 L939.137 95.2176 L215.55 95.2176  Z\" fill=\"#ffffff\" fill-rule=\"evenodd\" fill-opacity=\"1\"/>\n",
       "<polyline clip-path=\"url(#clip350)\" style=\"stroke:#000000; stroke-linecap:round; stroke-linejoin:round; stroke-width:4; stroke-opacity:1; fill:none\" points=\"215.55,250.738 939.137,250.738 939.137,95.2176 215.55,95.2176 215.55,250.738 \"/>\n",
       "<polyline clip-path=\"url(#clip350)\" style=\"stroke:#009af9; stroke-linecap:round; stroke-linejoin:round; stroke-width:4; stroke-opacity:1; fill:none\" points=\"240.115,147.058 387.509,147.058 \"/>\n",
       "<path clip-path=\"url(#clip350)\" d=\"M436.102 150.31 L436.102 152.393 L416.519 152.393 Q416.797 156.791 419.158 159.106 Q421.542 161.398 425.778 161.398 Q428.232 161.398 430.523 160.796 Q432.838 160.194 435.107 158.99 L435.107 163.018 Q432.815 163.99 430.408 164.5 Q428 165.009 425.523 165.009 Q419.32 165.009 415.686 161.398 Q412.074 157.787 412.074 151.629 Q412.074 145.264 415.5 141.537 Q418.949 137.787 424.783 137.787 Q430.014 137.787 433.047 141.166 Q436.102 144.523 436.102 150.31 M431.843 149.06 Q431.797 145.565 429.875 143.481 Q427.977 141.398 424.829 141.398 Q421.264 141.398 419.111 143.412 Q416.982 145.426 416.658 149.083 L431.843 149.06 Z\" fill=\"#000000\" fill-rule=\"evenodd\" fill-opacity=\"1\" /><path clip-path=\"url(#clip350)\" d=\"M460.153 142.347 L460.153 128.319 L464.412 128.319 L464.412 164.338 L460.153 164.338 L460.153 160.449 Q458.81 162.763 456.75 163.898 Q454.713 165.009 451.843 165.009 Q447.144 165.009 444.181 161.259 Q441.241 157.509 441.241 151.398 Q441.241 145.287 444.181 141.537 Q447.144 137.787 451.843 137.787 Q454.713 137.787 456.75 138.921 Q458.81 140.032 460.153 142.347 M445.639 151.398 Q445.639 156.097 447.56 158.782 Q449.505 161.444 452.884 161.444 Q456.264 161.444 458.208 158.782 Q460.153 156.097 460.153 151.398 Q460.153 146.699 458.208 144.037 Q456.264 141.352 452.884 141.352 Q449.505 141.352 447.56 144.037 Q445.639 146.699 445.639 151.398 Z\" fill=\"#000000\" fill-rule=\"evenodd\" fill-opacity=\"1\" /><path clip-path=\"url(#clip350)\" d=\"M490.245 151.074 Q490.245 146.444 488.324 143.898 Q486.426 141.352 482.977 141.352 Q479.551 141.352 477.63 143.898 Q475.731 146.444 475.731 151.074 Q475.731 155.68 477.63 158.226 Q479.551 160.773 482.977 160.773 Q486.426 160.773 488.324 158.226 Q490.245 155.68 490.245 151.074 M494.505 161.12 Q494.505 167.74 491.565 170.958 Q488.625 174.199 482.56 174.199 Q480.315 174.199 478.324 173.851 Q476.333 173.527 474.458 172.833 L474.458 168.689 Q476.333 169.708 478.162 170.194 Q479.991 170.68 481.889 170.68 Q486.079 170.68 488.162 168.481 Q490.245 166.305 490.245 161.884 L490.245 159.777 Q488.926 162.069 486.866 163.203 Q484.806 164.338 481.935 164.338 Q477.167 164.338 474.25 160.703 Q471.333 157.069 471.333 151.074 Q471.333 145.055 474.25 141.421 Q477.167 137.787 481.935 137.787 Q484.806 137.787 486.866 138.921 Q488.926 140.055 490.245 142.347 L490.245 138.412 L494.505 138.412 L494.505 161.12 Z\" fill=\"#000000\" fill-rule=\"evenodd\" fill-opacity=\"1\" /><path clip-path=\"url(#clip350)\" d=\"M525.453 150.31 L525.453 152.393 L505.87 152.393 Q506.148 156.791 508.509 159.106 Q510.893 161.398 515.129 161.398 Q517.583 161.398 519.875 160.796 Q522.19 160.194 524.458 158.99 L524.458 163.018 Q522.166 163.99 519.759 164.5 Q517.352 165.009 514.875 165.009 Q508.671 165.009 505.037 161.398 Q501.426 157.787 501.426 151.629 Q501.426 145.264 504.852 141.537 Q508.301 137.787 514.134 137.787 Q519.366 137.787 522.398 141.166 Q525.453 144.523 525.453 150.31 M521.194 149.06 Q521.148 145.565 519.227 143.481 Q517.328 141.398 514.18 141.398 Q510.616 141.398 508.463 143.412 Q506.333 145.426 506.009 149.083 L521.194 149.06 Z\" fill=\"#000000\" fill-rule=\"evenodd\" fill-opacity=\"1\" /><path clip-path=\"url(#clip350)\" d=\"M566.171 139.407 L566.171 143.389 Q564.365 142.393 562.537 141.907 Q560.731 141.398 558.879 141.398 Q554.736 141.398 552.444 144.037 Q550.152 146.652 550.152 151.398 Q550.152 156.143 552.444 158.782 Q554.736 161.398 558.879 161.398 Q560.731 161.398 562.537 160.912 Q564.365 160.402 566.171 159.407 L566.171 163.342 Q564.388 164.176 562.467 164.592 Q560.569 165.009 558.416 165.009 Q552.56 165.009 549.111 161.328 Q545.662 157.648 545.662 151.398 Q545.662 145.055 549.134 141.421 Q552.629 137.787 558.694 137.787 Q560.662 137.787 562.537 138.203 Q564.412 138.597 566.171 139.407 Z\" fill=\"#000000\" fill-rule=\"evenodd\" fill-opacity=\"1\" /><path clip-path=\"url(#clip350)\" d=\"M583.624 141.398 Q580.199 141.398 578.208 144.083 Q576.217 146.745 576.217 151.398 Q576.217 156.051 578.185 158.736 Q580.175 161.398 583.624 161.398 Q587.027 161.398 589.018 158.713 Q591.009 156.027 591.009 151.398 Q591.009 146.791 589.018 144.106 Q587.027 141.398 583.624 141.398 M583.624 137.787 Q589.18 137.787 592.351 141.398 Q595.523 145.009 595.523 151.398 Q595.523 157.764 592.351 161.398 Q589.18 165.009 583.624 165.009 Q578.046 165.009 574.874 161.398 Q571.726 157.764 571.726 151.398 Q571.726 145.009 574.874 141.398 Q578.046 137.787 583.624 137.787 Z\" fill=\"#000000\" fill-rule=\"evenodd\" fill-opacity=\"1\" /><path clip-path=\"url(#clip350)\" d=\"M622.768 143.389 Q624.365 140.518 626.587 139.153 Q628.809 137.787 631.819 137.787 Q635.87 137.787 638.069 140.634 Q640.268 143.458 640.268 148.689 L640.268 164.338 L635.985 164.338 L635.985 148.828 Q635.985 145.102 634.666 143.296 Q633.346 141.49 630.638 141.49 Q627.328 141.49 625.407 143.69 Q623.485 145.889 623.485 149.685 L623.485 164.338 L619.203 164.338 L619.203 148.828 Q619.203 145.078 617.883 143.296 Q616.564 141.49 613.809 141.49 Q610.546 141.49 608.624 143.713 Q606.703 145.912 606.703 149.685 L606.703 164.338 L602.421 164.338 L602.421 138.412 L606.703 138.412 L606.703 142.44 Q608.161 140.055 610.198 138.921 Q612.235 137.787 615.036 137.787 Q617.86 137.787 619.828 139.222 Q621.819 140.657 622.768 143.389 Z\" fill=\"#000000\" fill-rule=\"evenodd\" fill-opacity=\"1\" /><path clip-path=\"url(#clip350)\" d=\"M652.883 160.449 L652.883 174.199 L648.601 174.199 L648.601 138.412 L652.883 138.412 L652.883 142.347 Q654.226 140.032 656.263 138.921 Q658.323 137.787 661.17 137.787 Q665.893 137.787 668.832 141.537 Q671.795 145.287 671.795 151.398 Q671.795 157.509 668.832 161.259 Q665.893 165.009 661.17 165.009 Q658.323 165.009 656.263 163.898 Q654.226 162.763 652.883 160.449 M667.374 151.398 Q667.374 146.699 665.43 144.037 Q663.508 141.352 660.129 141.352 Q656.749 141.352 654.805 144.037 Q652.883 146.699 652.883 151.398 Q652.883 156.097 654.805 158.782 Q656.749 161.444 660.129 161.444 Q663.508 161.444 665.43 158.782 Q667.374 156.097 667.374 151.398 Z\" fill=\"#000000\" fill-rule=\"evenodd\" fill-opacity=\"1\" /><path clip-path=\"url(#clip350)\" d=\"M678.855 128.319 L683.115 128.319 L683.115 164.338 L678.855 164.338 L678.855 128.319 Z\" fill=\"#000000\" fill-rule=\"evenodd\" fill-opacity=\"1\" /><path clip-path=\"url(#clip350)\" d=\"M714.202 150.31 L714.202 152.393 L694.619 152.393 Q694.897 156.791 697.258 159.106 Q699.642 161.398 703.878 161.398 Q706.332 161.398 708.624 160.796 Q710.939 160.194 713.207 158.99 L713.207 163.018 Q710.915 163.99 708.508 164.5 Q706.101 165.009 703.624 165.009 Q697.42 165.009 693.786 161.398 Q690.175 157.787 690.175 151.629 Q690.175 145.264 693.601 141.537 Q697.05 137.787 702.883 137.787 Q708.114 137.787 711.147 141.166 Q714.202 144.523 714.202 150.31 M709.943 149.06 Q709.897 145.565 707.976 143.481 Q706.077 141.398 702.929 141.398 Q699.365 141.398 697.212 143.412 Q695.082 145.426 694.758 149.083 L709.943 149.06 Z\" fill=\"#000000\" fill-rule=\"evenodd\" fill-opacity=\"1\" /><path clip-path=\"url(#clip350)\" d=\"M741.911 138.412 L732.536 151.027 L742.397 164.338 L737.374 164.338 L729.827 154.152 L722.281 164.338 L717.258 164.338 L727.327 150.773 L718.114 138.412 L723.138 138.412 L730.013 147.648 L736.887 138.412 L741.911 138.412 Z\" fill=\"#000000\" fill-rule=\"evenodd\" fill-opacity=\"1\" /><path clip-path=\"url(#clip350)\" d=\"M748.415 138.412 L752.674 138.412 L752.674 164.338 L748.415 164.338 L748.415 138.412 M748.415 128.319 L752.674 128.319 L752.674 133.713 L748.415 133.713 L748.415 128.319 Z\" fill=\"#000000\" fill-rule=\"evenodd\" fill-opacity=\"1\" /><path clip-path=\"url(#clip350)\" d=\"M765.799 131.051 L765.799 138.412 L774.572 138.412 L774.572 141.722 L765.799 141.722 L765.799 155.796 Q765.799 158.967 766.656 159.87 Q767.535 160.773 770.197 160.773 L774.572 160.773 L774.572 164.338 L770.197 164.338 Q765.267 164.338 763.392 162.509 Q761.517 160.657 761.517 155.796 L761.517 141.722 L758.392 141.722 L758.392 138.412 L761.517 138.412 L761.517 131.051 L765.799 131.051 Z\" fill=\"#000000\" fill-rule=\"evenodd\" fill-opacity=\"1\" /><path clip-path=\"url(#clip350)\" d=\"M790.961 166.745 Q789.156 171.375 787.443 172.787 Q785.73 174.199 782.859 174.199 L779.457 174.199 L779.457 170.634 L781.957 170.634 Q783.716 170.634 784.688 169.8 Q785.66 168.967 786.841 165.865 L787.605 163.921 L777.119 138.412 L781.633 138.412 L789.734 158.689 L797.836 138.412 L802.35 138.412 L790.961 166.745 Z\" fill=\"#000000\" fill-rule=\"evenodd\" fill-opacity=\"1\" /><path clip-path=\"url(#clip350)\" d=\"M823.484 129.778 L845.336 129.778 L845.336 133.713 L828.16 133.713 L828.16 143.944 L844.618 143.944 L844.618 147.879 L828.16 147.879 L828.16 160.402 L845.753 160.402 L845.753 164.338 L823.484 164.338 L823.484 129.778 Z\" fill=\"#000000\" fill-rule=\"evenodd\" fill-opacity=\"1\" /><path clip-path=\"url(#clip350)\" d=\"M864.989 134.384 L858.646 151.583 L871.354 151.583 L864.989 134.384 M862.35 129.778 L867.651 129.778 L880.822 164.338 L875.961 164.338 L872.813 155.472 L857.234 155.472 L854.086 164.338 L849.155 164.338 L862.35 129.778 Z\" fill=\"#000000\" fill-rule=\"evenodd\" fill-opacity=\"1\" /><path clip-path=\"url(#clip350)\" d=\"M898.738 134.384 L892.396 151.583 L905.104 151.583 L898.738 134.384 M896.1 129.778 L901.4 129.778 L914.572 164.338 L909.711 164.338 L906.563 155.472 L890.984 155.472 L887.836 164.338 L882.905 164.338 L896.1 129.778 Z\" fill=\"#000000\" fill-rule=\"evenodd\" fill-opacity=\"1\" /><polyline clip-path=\"url(#clip350)\" style=\"stroke:#e26f46; stroke-linecap:round; stroke-linejoin:round; stroke-width:4; stroke-opacity:1; fill:none\" points=\"240.115,198.898 387.509,198.898 \"/>\n",
       "<path clip-path=\"url(#clip350)\" d=\"M432.584 191.247 L432.584 195.229 Q430.778 194.233 428.949 193.747 Q427.144 193.238 425.292 193.238 Q421.148 193.238 418.857 195.877 Q416.565 198.492 416.565 203.238 Q416.565 207.983 418.857 210.622 Q421.148 213.238 425.292 213.238 Q427.144 213.238 428.949 212.752 Q430.778 212.242 432.584 211.247 L432.584 215.182 Q430.801 216.016 428.88 216.432 Q426.982 216.849 424.829 216.849 Q418.973 216.849 415.523 213.168 Q412.074 209.488 412.074 203.238 Q412.074 196.895 415.547 193.261 Q419.042 189.627 425.107 189.627 Q427.074 189.627 428.949 190.043 Q430.824 190.437 432.584 191.247 Z\" fill=\"#000000\" fill-rule=\"evenodd\" fill-opacity=\"1\" /><path clip-path=\"url(#clip350)\" d=\"M450.037 193.238 Q446.611 193.238 444.621 195.923 Q442.63 198.585 442.63 203.238 Q442.63 207.891 444.597 210.576 Q446.588 213.238 450.037 213.238 Q453.44 213.238 455.431 210.553 Q457.421 207.867 457.421 203.238 Q457.421 198.631 455.431 195.946 Q453.44 193.238 450.037 193.238 M450.037 189.627 Q455.593 189.627 458.764 193.238 Q461.935 196.849 461.935 203.238 Q461.935 209.604 458.764 213.238 Q455.593 216.849 450.037 216.849 Q444.459 216.849 441.287 213.238 Q438.139 209.604 438.139 203.238 Q438.139 196.849 441.287 193.238 Q444.459 189.627 450.037 189.627 Z\" fill=\"#000000\" fill-rule=\"evenodd\" fill-opacity=\"1\" /><path clip-path=\"url(#clip350)\" d=\"M489.18 195.229 Q490.778 192.358 493 190.993 Q495.222 189.627 498.231 189.627 Q502.282 189.627 504.481 192.474 Q506.68 195.298 506.68 200.529 L506.68 216.178 L502.398 216.178 L502.398 200.668 Q502.398 196.942 501.079 195.136 Q499.759 193.33 497.051 193.33 Q493.741 193.33 491.819 195.53 Q489.898 197.729 489.898 201.525 L489.898 216.178 L485.616 216.178 L485.616 200.668 Q485.616 196.918 484.296 195.136 Q482.977 193.33 480.222 193.33 Q476.958 193.33 475.037 195.553 Q473.116 197.752 473.116 201.525 L473.116 216.178 L468.833 216.178 L468.833 190.252 L473.116 190.252 L473.116 194.28 Q474.574 191.895 476.611 190.761 Q478.648 189.627 481.449 189.627 Q484.273 189.627 486.241 191.062 Q488.231 192.497 489.18 195.229 Z\" fill=\"#000000\" fill-rule=\"evenodd\" fill-opacity=\"1\" /><path clip-path=\"url(#clip350)\" d=\"M535.361 195.229 Q536.958 192.358 539.18 190.993 Q541.402 189.627 544.412 189.627 Q548.463 189.627 550.662 192.474 Q552.861 195.298 552.861 200.529 L552.861 216.178 L548.578 216.178 L548.578 200.668 Q548.578 196.942 547.259 195.136 Q545.939 193.33 543.231 193.33 Q539.921 193.33 538 195.53 Q536.078 197.729 536.078 201.525 L536.078 216.178 L531.796 216.178 L531.796 200.668 Q531.796 196.918 530.477 195.136 Q529.157 193.33 526.403 193.33 Q523.139 193.33 521.217 195.553 Q519.296 197.752 519.296 201.525 L519.296 216.178 L515.014 216.178 L515.014 190.252 L519.296 190.252 L519.296 194.28 Q520.754 191.895 522.791 190.761 Q524.828 189.627 527.629 189.627 Q530.453 189.627 532.421 191.062 Q534.412 192.497 535.361 195.229 Z\" fill=\"#000000\" fill-rule=\"evenodd\" fill-opacity=\"1\" /><path clip-path=\"url(#clip350)\" d=\"M571.402 193.238 Q567.976 193.238 565.986 195.923 Q563.995 198.585 563.995 203.238 Q563.995 207.891 565.962 210.576 Q567.953 213.238 571.402 213.238 Q574.805 213.238 576.796 210.553 Q578.786 207.867 578.786 203.238 Q578.786 198.631 576.796 195.946 Q574.805 193.238 571.402 193.238 M571.402 189.627 Q576.958 189.627 580.129 193.238 Q583.3 196.849 583.3 203.238 Q583.3 209.604 580.129 213.238 Q576.958 216.849 571.402 216.849 Q565.824 216.849 562.652 213.238 Q559.504 209.604 559.504 203.238 Q559.504 196.849 562.652 193.238 Q565.824 189.627 571.402 189.627 Z\" fill=\"#000000\" fill-rule=\"evenodd\" fill-opacity=\"1\" /><path clip-path=\"url(#clip350)\" d=\"M611.911 200.529 L611.911 216.178 L607.652 216.178 L607.652 200.668 Q607.652 196.988 606.217 195.159 Q604.782 193.33 601.911 193.33 Q598.462 193.33 596.472 195.53 Q594.481 197.729 594.481 201.525 L594.481 216.178 L590.198 216.178 L590.198 190.252 L594.481 190.252 L594.481 194.28 Q596.009 191.942 598.069 190.784 Q600.152 189.627 602.86 189.627 Q607.328 189.627 609.62 192.405 Q611.911 195.159 611.911 200.529 Z\" fill=\"#000000\" fill-rule=\"evenodd\" fill-opacity=\"1\" /><path clip-path=\"url(#clip350)\" d=\"M657.652 202.15 L657.652 204.233 L638.069 204.233 Q638.346 208.631 640.707 210.946 Q643.092 213.238 647.328 213.238 Q649.781 213.238 652.073 212.636 Q654.388 212.034 656.656 210.83 L656.656 214.858 Q654.365 215.83 651.957 216.34 Q649.55 216.849 647.073 216.849 Q640.869 216.849 637.235 213.238 Q633.624 209.627 633.624 203.469 Q633.624 197.104 637.05 193.377 Q640.499 189.627 646.332 189.627 Q651.564 189.627 654.596 193.006 Q657.652 196.363 657.652 202.15 M653.393 200.9 Q653.346 197.405 651.425 195.321 Q649.527 193.238 646.379 193.238 Q642.814 193.238 640.661 195.252 Q638.532 197.266 638.207 200.923 L653.393 200.9 Z\" fill=\"#000000\" fill-rule=\"evenodd\" fill-opacity=\"1\" /><path clip-path=\"url(#clip350)\" d=\"M681.703 194.187 L681.703 180.159 L685.962 180.159 L685.962 216.178 L681.703 216.178 L681.703 212.289 Q680.36 214.603 678.3 215.738 Q676.263 216.849 673.392 216.849 Q668.693 216.849 665.73 213.099 Q662.791 209.349 662.791 203.238 Q662.791 197.127 665.73 193.377 Q668.693 189.627 673.392 189.627 Q676.263 189.627 678.3 190.761 Q680.36 191.872 681.703 194.187 M667.189 203.238 Q667.189 207.937 669.11 210.622 Q671.055 213.284 674.434 213.284 Q677.814 213.284 679.758 210.622 Q681.703 207.937 681.703 203.238 Q681.703 198.539 679.758 195.877 Q677.814 193.192 674.434 193.192 Q671.055 193.192 669.11 195.877 Q667.189 198.539 667.189 203.238 Z\" fill=\"#000000\" fill-rule=\"evenodd\" fill-opacity=\"1\" /><path clip-path=\"url(#clip350)\" d=\"M711.795 202.914 Q711.795 198.284 709.874 195.738 Q707.976 193.192 704.527 193.192 Q701.101 193.192 699.179 195.738 Q697.281 198.284 697.281 202.914 Q697.281 207.52 699.179 210.066 Q701.101 212.613 704.527 212.613 Q707.976 212.613 709.874 210.066 Q711.795 207.52 711.795 202.914 M716.054 212.96 Q716.054 219.58 713.114 222.798 Q710.175 226.039 704.11 226.039 Q701.865 226.039 699.874 225.691 Q697.883 225.367 696.008 224.673 L696.008 220.529 Q697.883 221.548 699.712 222.034 Q701.54 222.52 703.439 222.52 Q707.628 222.52 709.712 220.321 Q711.795 218.145 711.795 213.724 L711.795 211.617 Q710.476 213.909 708.415 215.043 Q706.355 216.178 703.485 216.178 Q698.716 216.178 695.8 212.543 Q692.883 208.909 692.883 202.914 Q692.883 196.895 695.8 193.261 Q698.716 189.627 703.485 189.627 Q706.355 189.627 708.415 190.761 Q710.476 191.895 711.795 194.187 L711.795 190.252 L716.054 190.252 L716.054 212.96 Z\" fill=\"#000000\" fill-rule=\"evenodd\" fill-opacity=\"1\" /><path clip-path=\"url(#clip350)\" d=\"M747.003 202.15 L747.003 204.233 L727.42 204.233 Q727.698 208.631 730.059 210.946 Q732.443 213.238 736.679 213.238 Q739.133 213.238 741.425 212.636 Q743.739 212.034 746.008 210.83 L746.008 214.858 Q743.716 215.83 741.309 216.34 Q738.901 216.849 736.425 216.849 Q730.221 216.849 726.587 213.238 Q722.976 209.627 722.976 203.469 Q722.976 197.104 726.401 193.377 Q729.85 189.627 735.684 189.627 Q740.915 189.627 743.948 193.006 Q747.003 196.363 747.003 202.15 M742.744 200.9 Q742.698 197.405 740.776 195.321 Q738.878 193.238 735.73 193.238 Q732.165 193.238 730.013 195.252 Q727.883 197.266 727.559 200.923 L742.744 200.9 Z\" fill=\"#000000\" fill-rule=\"evenodd\" fill-opacity=\"1\" /><path clip-path=\"url(#clip350)\" d=\"M770.522 191.016 L770.522 195.043 Q768.716 194.117 766.772 193.655 Q764.827 193.192 762.744 193.192 Q759.573 193.192 757.975 194.164 Q756.401 195.136 756.401 197.08 Q756.401 198.562 757.536 199.418 Q758.67 200.252 762.096 201.016 L763.554 201.34 Q768.091 202.312 769.989 204.094 Q771.91 205.854 771.91 209.025 Q771.91 212.636 769.04 214.742 Q766.193 216.849 761.193 216.849 Q759.11 216.849 756.841 216.432 Q754.596 216.039 752.096 215.228 L752.096 210.83 Q754.457 212.057 756.748 212.682 Q759.04 213.284 761.286 213.284 Q764.295 213.284 765.915 212.266 Q767.535 211.224 767.535 209.349 Q767.535 207.613 766.355 206.687 Q765.198 205.761 761.239 204.904 L759.758 204.557 Q755.799 203.724 754.04 202.011 Q752.281 200.275 752.281 197.266 Q752.281 193.608 754.874 191.618 Q757.466 189.627 762.235 189.627 Q764.596 189.627 766.679 189.974 Q768.762 190.321 770.522 191.016 Z\" fill=\"#000000\" fill-rule=\"evenodd\" fill-opacity=\"1\" /></svg>\n"
      ]
     },
     "execution_count": 471,
     "metadata": {},
     "output_type": "execute_result"
    }
   ],
   "source": [
    "plot(alphas, edge_complexity_EAA, label=\"edge complexity EAA\")\n",
    "plot!(alphas, common_edges, label=\"common edges\")"
   ]
  },
  {
   "cell_type": "code",
   "execution_count": 472,
   "metadata": {},
   "outputs": [
    {
     "data": {
      "image/svg+xml": [
       "<?xml version=\"1.0\" encoding=\"utf-8\"?>\n",
       "<svg xmlns=\"http://www.w3.org/2000/svg\" xmlns:xlink=\"http://www.w3.org/1999/xlink\" width=\"600\" height=\"400\" viewBox=\"0 0 2400 1600\">\n",
       "<defs>\n",
       "  <clipPath id=\"clip390\">\n",
       "    <rect x=\"0\" y=\"0\" width=\"2400\" height=\"1600\"/>\n",
       "  </clipPath>\n",
       "</defs>\n",
       "<path clip-path=\"url(#clip390)\" d=\"M0 1600 L2400 1600 L2400 0 L0 0  Z\" fill=\"#ffffff\" fill-rule=\"evenodd\" fill-opacity=\"1\"/>\n",
       "<defs>\n",
       "  <clipPath id=\"clip391\">\n",
       "    <rect x=\"480\" y=\"0\" width=\"1681\" height=\"1600\"/>\n",
       "  </clipPath>\n",
       "</defs>\n",
       "<path clip-path=\"url(#clip390)\" d=\"M156.274 1486.45 L2352.76 1486.45 L2352.76 47.2441 L156.274 47.2441  Z\" fill=\"#ffffff\" fill-rule=\"evenodd\" fill-opacity=\"1\"/>\n",
       "<defs>\n",
       "  <clipPath id=\"clip392\">\n",
       "    <rect x=\"156\" y=\"47\" width=\"2197\" height=\"1440\"/>\n",
       "  </clipPath>\n",
       "</defs>\n",
       "<polyline clip-path=\"url(#clip392)\" style=\"stroke:#000000; stroke-linecap:round; stroke-linejoin:round; stroke-width:2; stroke-opacity:0.1; fill:none\" points=\"584.113,1486.45 584.113,47.2441 \"/>\n",
       "<polyline clip-path=\"url(#clip392)\" style=\"stroke:#000000; stroke-linecap:round; stroke-linejoin:round; stroke-width:2; stroke-opacity:0.1; fill:none\" points=\"1071.68,1486.45 1071.68,47.2441 \"/>\n",
       "<polyline clip-path=\"url(#clip392)\" style=\"stroke:#000000; stroke-linecap:round; stroke-linejoin:round; stroke-width:2; stroke-opacity:0.1; fill:none\" points=\"1559.24,1486.45 1559.24,47.2441 \"/>\n",
       "<polyline clip-path=\"url(#clip392)\" style=\"stroke:#000000; stroke-linecap:round; stroke-linejoin:round; stroke-width:2; stroke-opacity:0.1; fill:none\" points=\"2046.81,1486.45 2046.81,47.2441 \"/>\n",
       "<polyline clip-path=\"url(#clip390)\" style=\"stroke:#000000; stroke-linecap:round; stroke-linejoin:round; stroke-width:4; stroke-opacity:1; fill:none\" points=\"156.274,1486.45 2352.76,1486.45 \"/>\n",
       "<polyline clip-path=\"url(#clip390)\" style=\"stroke:#000000; stroke-linecap:round; stroke-linejoin:round; stroke-width:4; stroke-opacity:1; fill:none\" points=\"584.113,1486.45 584.113,1467.55 \"/>\n",
       "<polyline clip-path=\"url(#clip390)\" style=\"stroke:#000000; stroke-linecap:round; stroke-linejoin:round; stroke-width:4; stroke-opacity:1; fill:none\" points=\"1071.68,1486.45 1071.68,1467.55 \"/>\n",
       "<polyline clip-path=\"url(#clip390)\" style=\"stroke:#000000; stroke-linecap:round; stroke-linejoin:round; stroke-width:4; stroke-opacity:1; fill:none\" points=\"1559.24,1486.45 1559.24,1467.55 \"/>\n",
       "<polyline clip-path=\"url(#clip390)\" style=\"stroke:#000000; stroke-linecap:round; stroke-linejoin:round; stroke-width:4; stroke-opacity:1; fill:none\" points=\"2046.81,1486.45 2046.81,1467.55 \"/>\n",
       "<path clip-path=\"url(#clip390)\" d=\"M562.296 1517.37 Q558.685 1517.37 556.856 1520.93 Q555.05 1524.47 555.05 1531.6 Q555.05 1538.71 556.856 1542.27 Q558.685 1545.82 562.296 1545.82 Q565.93 1545.82 567.735 1542.27 Q569.564 1538.71 569.564 1531.6 Q569.564 1524.47 567.735 1520.93 Q565.93 1517.37 562.296 1517.37 M562.296 1513.66 Q568.106 1513.66 571.161 1518.27 Q574.24 1522.85 574.24 1531.6 Q574.24 1540.33 571.161 1544.94 Q568.106 1549.52 562.296 1549.52 Q556.486 1549.52 553.407 1544.94 Q550.351 1540.33 550.351 1531.6 Q550.351 1522.85 553.407 1518.27 Q556.486 1513.66 562.296 1513.66 Z\" fill=\"#000000\" fill-rule=\"evenodd\" fill-opacity=\"1\" /><path clip-path=\"url(#clip390)\" d=\"M582.458 1542.97 L587.342 1542.97 L587.342 1548.85 L582.458 1548.85 L582.458 1542.97 Z\" fill=\"#000000\" fill-rule=\"evenodd\" fill-opacity=\"1\" /><path clip-path=\"url(#clip390)\" d=\"M601.555 1544.91 L617.874 1544.91 L617.874 1548.85 L595.93 1548.85 L595.93 1544.91 Q598.592 1542.16 603.175 1537.53 Q607.782 1532.88 608.962 1531.53 Q611.207 1529.01 612.087 1527.27 Q612.99 1525.51 612.99 1523.82 Q612.99 1521.07 611.045 1519.33 Q609.124 1517.6 606.022 1517.6 Q603.823 1517.6 601.37 1518.36 Q598.939 1519.13 596.161 1520.68 L596.161 1515.95 Q598.985 1514.82 601.439 1514.24 Q603.893 1513.66 605.93 1513.66 Q611.3 1513.66 614.495 1516.35 Q617.689 1519.03 617.689 1523.52 Q617.689 1525.65 616.879 1527.57 Q616.092 1529.47 613.985 1532.07 Q613.407 1532.74 610.305 1535.95 Q607.203 1539.15 601.555 1544.91 Z\" fill=\"#000000\" fill-rule=\"evenodd\" fill-opacity=\"1\" /><path clip-path=\"url(#clip390)\" d=\"M1048.82 1517.37 Q1045.21 1517.37 1043.38 1520.93 Q1041.57 1524.47 1041.57 1531.6 Q1041.57 1538.71 1043.38 1542.27 Q1045.21 1545.82 1048.82 1545.82 Q1052.45 1545.82 1054.26 1542.27 Q1056.09 1538.71 1056.09 1531.6 Q1056.09 1524.47 1054.26 1520.93 Q1052.45 1517.37 1048.82 1517.37 M1048.82 1513.66 Q1054.63 1513.66 1057.69 1518.27 Q1060.76 1522.85 1060.76 1531.6 Q1060.76 1540.33 1057.69 1544.94 Q1054.63 1549.52 1048.82 1549.52 Q1043.01 1549.52 1039.93 1544.94 Q1036.87 1540.33 1036.87 1531.6 Q1036.87 1522.85 1039.93 1518.27 Q1043.01 1513.66 1048.82 1513.66 Z\" fill=\"#000000\" fill-rule=\"evenodd\" fill-opacity=\"1\" /><path clip-path=\"url(#clip390)\" d=\"M1068.98 1542.97 L1073.87 1542.97 L1073.87 1548.85 L1068.98 1548.85 L1068.98 1542.97 Z\" fill=\"#000000\" fill-rule=\"evenodd\" fill-opacity=\"1\" /><path clip-path=\"url(#clip390)\" d=\"M1096.9 1518.36 L1085.09 1536.81 L1096.9 1536.81 L1096.9 1518.36 M1095.67 1514.29 L1101.55 1514.29 L1101.55 1536.81 L1106.48 1536.81 L1106.48 1540.7 L1101.55 1540.7 L1101.55 1548.85 L1096.9 1548.85 L1096.9 1540.7 L1081.3 1540.7 L1081.3 1536.19 L1095.67 1514.29 Z\" fill=\"#000000\" fill-rule=\"evenodd\" fill-opacity=\"1\" /><path clip-path=\"url(#clip390)\" d=\"M1536.55 1517.37 Q1532.94 1517.37 1531.11 1520.93 Q1529.3 1524.47 1529.3 1531.6 Q1529.3 1538.71 1531.11 1542.27 Q1532.94 1545.82 1536.55 1545.82 Q1540.18 1545.82 1541.99 1542.27 Q1543.82 1538.71 1543.82 1531.6 Q1543.82 1524.47 1541.99 1520.93 Q1540.18 1517.37 1536.55 1517.37 M1536.55 1513.66 Q1542.36 1513.66 1545.41 1518.27 Q1548.49 1522.85 1548.49 1531.6 Q1548.49 1540.33 1545.41 1544.94 Q1542.36 1549.52 1536.55 1549.52 Q1530.74 1549.52 1527.66 1544.94 Q1524.6 1540.33 1524.6 1531.6 Q1524.6 1522.85 1527.66 1518.27 Q1530.74 1513.66 1536.55 1513.66 Z\" fill=\"#000000\" fill-rule=\"evenodd\" fill-opacity=\"1\" /><path clip-path=\"url(#clip390)\" d=\"M1556.71 1542.97 L1561.59 1542.97 L1561.59 1548.85 L1556.71 1548.85 L1556.71 1542.97 Z\" fill=\"#000000\" fill-rule=\"evenodd\" fill-opacity=\"1\" /><path clip-path=\"url(#clip390)\" d=\"M1582.36 1529.7 Q1579.21 1529.7 1577.36 1531.86 Q1575.53 1534.01 1575.53 1537.76 Q1575.53 1541.49 1577.36 1543.66 Q1579.21 1545.82 1582.36 1545.82 Q1585.5 1545.82 1587.33 1543.66 Q1589.19 1541.49 1589.19 1537.76 Q1589.19 1534.01 1587.33 1531.86 Q1585.5 1529.7 1582.36 1529.7 M1591.64 1515.05 L1591.64 1519.31 Q1589.88 1518.48 1588.07 1518.04 Q1586.29 1517.6 1584.53 1517.6 Q1579.9 1517.6 1577.45 1520.72 Q1575.02 1523.85 1574.67 1530.17 Q1576.04 1528.15 1578.1 1527.09 Q1580.16 1526 1582.63 1526 Q1587.84 1526 1590.85 1529.17 Q1593.88 1532.32 1593.88 1537.76 Q1593.88 1543.08 1590.74 1546.3 Q1587.59 1549.52 1582.36 1549.52 Q1576.36 1549.52 1573.19 1544.94 Q1570.02 1540.33 1570.02 1531.6 Q1570.02 1523.41 1573.91 1518.55 Q1577.8 1513.66 1584.35 1513.66 Q1586.11 1513.66 1587.89 1514.01 Q1589.69 1514.36 1591.64 1515.05 Z\" fill=\"#000000\" fill-rule=\"evenodd\" fill-opacity=\"1\" /><path clip-path=\"url(#clip390)\" d=\"M2024.24 1517.37 Q2020.63 1517.37 2018.8 1520.93 Q2016.99 1524.47 2016.99 1531.6 Q2016.99 1538.71 2018.8 1542.27 Q2020.63 1545.82 2024.24 1545.82 Q2027.87 1545.82 2029.68 1542.27 Q2031.51 1538.71 2031.51 1531.6 Q2031.51 1524.47 2029.68 1520.93 Q2027.87 1517.37 2024.24 1517.37 M2024.24 1513.66 Q2030.05 1513.66 2033.11 1518.27 Q2036.18 1522.85 2036.18 1531.6 Q2036.18 1540.33 2033.11 1544.94 Q2030.05 1549.52 2024.24 1549.52 Q2018.43 1549.52 2015.35 1544.94 Q2012.29 1540.33 2012.29 1531.6 Q2012.29 1522.85 2015.35 1518.27 Q2018.43 1513.66 2024.24 1513.66 Z\" fill=\"#000000\" fill-rule=\"evenodd\" fill-opacity=\"1\" /><path clip-path=\"url(#clip390)\" d=\"M2044.4 1542.97 L2049.29 1542.97 L2049.29 1548.85 L2044.4 1548.85 L2044.4 1542.97 Z\" fill=\"#000000\" fill-rule=\"evenodd\" fill-opacity=\"1\" /><path clip-path=\"url(#clip390)\" d=\"M2069.47 1532.44 Q2066.14 1532.44 2064.22 1534.22 Q2062.32 1536 2062.32 1539.13 Q2062.32 1542.25 2064.22 1544.03 Q2066.14 1545.82 2069.47 1545.82 Q2072.8 1545.82 2074.73 1544.03 Q2076.65 1542.23 2076.65 1539.13 Q2076.65 1536 2074.73 1534.22 Q2072.83 1532.44 2069.47 1532.44 M2064.79 1530.45 Q2061.79 1529.7 2060.1 1527.64 Q2058.43 1525.58 2058.43 1522.62 Q2058.43 1518.48 2061.37 1516.07 Q2064.33 1513.66 2069.47 1513.66 Q2074.63 1513.66 2077.57 1516.07 Q2080.51 1518.48 2080.51 1522.62 Q2080.51 1525.58 2078.82 1527.64 Q2077.16 1529.7 2074.17 1530.45 Q2077.55 1531.23 2079.42 1533.52 Q2081.32 1535.82 2081.32 1539.13 Q2081.32 1544.15 2078.24 1546.83 Q2075.19 1549.52 2069.47 1549.52 Q2063.75 1549.52 2060.67 1546.83 Q2057.62 1544.15 2057.62 1539.13 Q2057.62 1535.82 2059.52 1533.52 Q2061.42 1531.23 2064.79 1530.45 M2063.08 1523.06 Q2063.08 1525.75 2064.75 1527.25 Q2066.44 1528.76 2069.47 1528.76 Q2072.48 1528.76 2074.17 1527.25 Q2075.88 1525.75 2075.88 1523.06 Q2075.88 1520.38 2074.17 1518.87 Q2072.48 1517.37 2069.47 1517.37 Q2066.44 1517.37 2064.75 1518.87 Q2063.08 1520.38 2063.08 1523.06 Z\" fill=\"#000000\" fill-rule=\"evenodd\" fill-opacity=\"1\" /><polyline clip-path=\"url(#clip392)\" style=\"stroke:#000000; stroke-linecap:round; stroke-linejoin:round; stroke-width:2; stroke-opacity:0.1; fill:none\" points=\"156.274,1304.28 2352.76,1304.28 \"/>\n",
       "<polyline clip-path=\"url(#clip392)\" style=\"stroke:#000000; stroke-linecap:round; stroke-linejoin:round; stroke-width:2; stroke-opacity:0.1; fill:none\" points=\"156.274,1115.71 2352.76,1115.71 \"/>\n",
       "<polyline clip-path=\"url(#clip392)\" style=\"stroke:#000000; stroke-linecap:round; stroke-linejoin:round; stroke-width:2; stroke-opacity:0.1; fill:none\" points=\"156.274,927.135 2352.76,927.135 \"/>\n",
       "<polyline clip-path=\"url(#clip392)\" style=\"stroke:#000000; stroke-linecap:round; stroke-linejoin:round; stroke-width:2; stroke-opacity:0.1; fill:none\" points=\"156.274,738.56 2352.76,738.56 \"/>\n",
       "<polyline clip-path=\"url(#clip392)\" style=\"stroke:#000000; stroke-linecap:round; stroke-linejoin:round; stroke-width:2; stroke-opacity:0.1; fill:none\" points=\"156.274,549.985 2352.76,549.985 \"/>\n",
       "<polyline clip-path=\"url(#clip392)\" style=\"stroke:#000000; stroke-linecap:round; stroke-linejoin:round; stroke-width:2; stroke-opacity:0.1; fill:none\" points=\"156.274,361.41 2352.76,361.41 \"/>\n",
       "<polyline clip-path=\"url(#clip392)\" style=\"stroke:#000000; stroke-linecap:round; stroke-linejoin:round; stroke-width:2; stroke-opacity:0.1; fill:none\" points=\"156.274,172.835 2352.76,172.835 \"/>\n",
       "<polyline clip-path=\"url(#clip390)\" style=\"stroke:#000000; stroke-linecap:round; stroke-linejoin:round; stroke-width:4; stroke-opacity:1; fill:none\" points=\"156.274,1486.45 156.274,47.2441 \"/>\n",
       "<polyline clip-path=\"url(#clip390)\" style=\"stroke:#000000; stroke-linecap:round; stroke-linejoin:round; stroke-width:4; stroke-opacity:1; fill:none\" points=\"156.274,1304.28 175.172,1304.28 \"/>\n",
       "<polyline clip-path=\"url(#clip390)\" style=\"stroke:#000000; stroke-linecap:round; stroke-linejoin:round; stroke-width:4; stroke-opacity:1; fill:none\" points=\"156.274,1115.71 175.172,1115.71 \"/>\n",
       "<polyline clip-path=\"url(#clip390)\" style=\"stroke:#000000; stroke-linecap:round; stroke-linejoin:round; stroke-width:4; stroke-opacity:1; fill:none\" points=\"156.274,927.135 175.172,927.135 \"/>\n",
       "<polyline clip-path=\"url(#clip390)\" style=\"stroke:#000000; stroke-linecap:round; stroke-linejoin:round; stroke-width:4; stroke-opacity:1; fill:none\" points=\"156.274,738.56 175.172,738.56 \"/>\n",
       "<polyline clip-path=\"url(#clip390)\" style=\"stroke:#000000; stroke-linecap:round; stroke-linejoin:round; stroke-width:4; stroke-opacity:1; fill:none\" points=\"156.274,549.985 175.172,549.985 \"/>\n",
       "<polyline clip-path=\"url(#clip390)\" style=\"stroke:#000000; stroke-linecap:round; stroke-linejoin:round; stroke-width:4; stroke-opacity:1; fill:none\" points=\"156.274,361.41 175.172,361.41 \"/>\n",
       "<polyline clip-path=\"url(#clip390)\" style=\"stroke:#000000; stroke-linecap:round; stroke-linejoin:round; stroke-width:4; stroke-opacity:1; fill:none\" points=\"156.274,172.835 175.172,172.835 \"/>\n",
       "<path clip-path=\"url(#clip390)\" d=\"M62.9365 1290.08 Q59.3254 1290.08 57.4967 1293.65 Q55.6912 1297.19 55.6912 1304.32 Q55.6912 1311.43 57.4967 1314.99 Q59.3254 1318.53 62.9365 1318.53 Q66.5707 1318.53 68.3763 1314.99 Q70.205 1311.43 70.205 1304.32 Q70.205 1297.19 68.3763 1293.65 Q66.5707 1290.08 62.9365 1290.08 M62.9365 1286.38 Q68.7467 1286.38 71.8022 1290.99 Q74.8809 1295.57 74.8809 1304.32 Q74.8809 1313.05 71.8022 1317.65 Q68.7467 1322.24 62.9365 1322.24 Q57.1264 1322.24 54.0477 1317.65 Q50.9921 1313.05 50.9921 1304.32 Q50.9921 1295.57 54.0477 1290.99 Q57.1264 1286.38 62.9365 1286.38 Z\" fill=\"#000000\" fill-rule=\"evenodd\" fill-opacity=\"1\" /><path clip-path=\"url(#clip390)\" d=\"M83.0984 1315.68 L87.9827 1315.68 L87.9827 1321.56 L83.0984 1321.56 L83.0984 1315.68 Z\" fill=\"#000000\" fill-rule=\"evenodd\" fill-opacity=\"1\" /><path clip-path=\"url(#clip390)\" d=\"M108.746 1302.42 Q105.598 1302.42 103.746 1304.57 Q101.918 1306.73 101.918 1310.48 Q101.918 1314.2 103.746 1316.38 Q105.598 1318.53 108.746 1318.53 Q111.895 1318.53 113.723 1316.38 Q115.575 1314.2 115.575 1310.48 Q115.575 1306.73 113.723 1304.57 Q111.895 1302.42 108.746 1302.42 M118.029 1287.77 L118.029 1292.03 Q116.27 1291.19 114.464 1290.75 Q112.682 1290.31 110.922 1290.31 Q106.293 1290.31 103.839 1293.44 Q101.409 1296.56 101.061 1302.88 Q102.427 1300.87 104.487 1299.81 Q106.547 1298.72 109.024 1298.72 Q114.233 1298.72 117.242 1301.89 Q120.274 1305.04 120.274 1310.48 Q120.274 1315.8 117.126 1319.02 Q113.978 1322.24 108.746 1322.24 Q102.751 1322.24 99.5798 1317.65 Q96.4085 1313.05 96.4085 1304.32 Q96.4085 1296.12 100.297 1291.26 Q104.186 1286.38 110.737 1286.38 Q112.496 1286.38 114.279 1286.73 Q116.084 1287.07 118.029 1287.77 Z\" fill=\"#000000\" fill-rule=\"evenodd\" fill-opacity=\"1\" /><path clip-path=\"url(#clip390)\" d=\"M63.1911 1101.51 Q59.58 1101.51 57.7513 1105.07 Q55.9458 1108.61 55.9458 1115.74 Q55.9458 1122.85 57.7513 1126.42 Q59.58 1129.96 63.1911 1129.96 Q66.8254 1129.96 68.6309 1126.42 Q70.4596 1122.85 70.4596 1115.74 Q70.4596 1108.61 68.6309 1105.07 Q66.8254 1101.51 63.1911 1101.51 M63.1911 1097.8 Q69.0013 1097.8 72.0568 1102.41 Q75.1355 1106.99 75.1355 1115.74 Q75.1355 1124.47 72.0568 1129.08 Q69.0013 1133.66 63.1911 1133.66 Q57.381 1133.66 54.3023 1129.08 Q51.2468 1124.47 51.2468 1115.74 Q51.2468 1106.99 54.3023 1102.41 Q57.381 1097.8 63.1911 1097.8 Z\" fill=\"#000000\" fill-rule=\"evenodd\" fill-opacity=\"1\" /><path clip-path=\"url(#clip390)\" d=\"M83.3531 1127.11 L88.2373 1127.11 L88.2373 1132.99 L83.3531 1132.99 L83.3531 1127.11 Z\" fill=\"#000000\" fill-rule=\"evenodd\" fill-opacity=\"1\" /><path clip-path=\"url(#clip390)\" d=\"M108.422 1116.58 Q105.089 1116.58 103.168 1118.36 Q101.27 1120.14 101.27 1123.27 Q101.27 1126.39 103.168 1128.17 Q105.089 1129.96 108.422 1129.96 Q111.756 1129.96 113.677 1128.17 Q115.598 1126.37 115.598 1123.27 Q115.598 1120.14 113.677 1118.36 Q111.779 1116.58 108.422 1116.58 M103.746 1114.59 Q100.737 1113.85 99.0474 1111.79 Q97.3808 1109.73 97.3808 1106.76 Q97.3808 1102.62 100.321 1100.21 Q103.284 1097.8 108.422 1097.8 Q113.584 1097.8 116.524 1100.21 Q119.464 1102.62 119.464 1106.76 Q119.464 1109.73 117.774 1111.79 Q116.108 1113.85 113.121 1114.59 Q116.501 1115.37 118.376 1117.67 Q120.274 1119.96 120.274 1123.27 Q120.274 1128.29 117.195 1130.98 Q114.14 1133.66 108.422 1133.66 Q102.705 1133.66 99.6261 1130.98 Q96.5706 1128.29 96.5706 1123.27 Q96.5706 1119.96 98.4687 1117.67 Q100.367 1115.37 103.746 1114.59 M102.034 1107.2 Q102.034 1109.89 103.7 1111.39 Q105.39 1112.9 108.422 1112.9 Q111.432 1112.9 113.121 1111.39 Q114.834 1109.89 114.834 1107.2 Q114.834 1104.52 113.121 1103.01 Q111.432 1101.51 108.422 1101.51 Q105.39 1101.51 103.7 1103.01 Q102.034 1104.52 102.034 1107.2 Z\" fill=\"#000000\" fill-rule=\"evenodd\" fill-opacity=\"1\" /><path clip-path=\"url(#clip390)\" d=\"M53.9088 940.48 L61.5476 940.48 L61.5476 914.114 L53.2375 915.781 L53.2375 911.521 L61.5013 909.855 L66.1772 909.855 L66.1772 940.48 L73.8161 940.48 L73.8161 944.415 L53.9088 944.415 L53.9088 940.48 Z\" fill=\"#000000\" fill-rule=\"evenodd\" fill-opacity=\"1\" /><path clip-path=\"url(#clip390)\" d=\"M83.2605 938.535 L88.1447 938.535 L88.1447 944.415 L83.2605 944.415 L83.2605 938.535 Z\" fill=\"#000000\" fill-rule=\"evenodd\" fill-opacity=\"1\" /><path clip-path=\"url(#clip390)\" d=\"M108.33 912.933 Q104.719 912.933 102.89 916.498 Q101.084 920.04 101.084 927.169 Q101.084 934.276 102.89 937.841 Q104.719 941.382 108.33 941.382 Q111.964 941.382 113.77 937.841 Q115.598 934.276 115.598 927.169 Q115.598 920.04 113.77 916.498 Q111.964 912.933 108.33 912.933 M108.33 909.23 Q114.14 909.23 117.195 913.836 Q120.274 918.419 120.274 927.169 Q120.274 935.896 117.195 940.503 Q114.14 945.086 108.33 945.086 Q102.52 945.086 99.4409 940.503 Q96.3854 935.896 96.3854 927.169 Q96.3854 918.419 99.4409 913.836 Q102.52 909.23 108.33 909.23 Z\" fill=\"#000000\" fill-rule=\"evenodd\" fill-opacity=\"1\" /><path clip-path=\"url(#clip390)\" d=\"M55.506 751.905 L63.1448 751.905 L63.1448 725.539 L54.8347 727.206 L54.8347 722.946 L63.0985 721.28 L67.7744 721.28 L67.7744 751.905 L75.4133 751.905 L75.4133 755.84 L55.506 755.84 L55.506 751.905 Z\" fill=\"#000000\" fill-rule=\"evenodd\" fill-opacity=\"1\" /><path clip-path=\"url(#clip390)\" d=\"M84.8577 749.96 L89.7419 749.96 L89.7419 755.84 L84.8577 755.84 L84.8577 749.96 Z\" fill=\"#000000\" fill-rule=\"evenodd\" fill-opacity=\"1\" /><path clip-path=\"url(#clip390)\" d=\"M103.955 751.905 L120.274 751.905 L120.274 755.84 L98.3298 755.84 L98.3298 751.905 Q100.992 749.15 105.575 744.52 Q110.182 739.868 111.362 738.525 Q113.608 736.002 114.487 734.266 Q115.39 732.507 115.39 730.817 Q115.39 728.062 113.445 726.326 Q111.524 724.59 108.422 724.59 Q106.223 724.59 103.77 725.354 Q101.339 726.118 98.5613 727.669 L98.5613 722.946 Q101.385 721.812 103.839 721.233 Q106.293 720.655 108.33 720.655 Q113.7 720.655 116.895 723.34 Q120.089 726.025 120.089 730.516 Q120.089 732.645 119.279 734.567 Q118.492 736.465 116.385 739.057 Q115.807 739.729 112.705 742.946 Q109.603 746.141 103.955 751.905 Z\" fill=\"#000000\" fill-rule=\"evenodd\" fill-opacity=\"1\" /><path clip-path=\"url(#clip390)\" d=\"M53.4227 563.33 L61.0615 563.33 L61.0615 536.964 L52.7514 538.631 L52.7514 534.371 L61.0152 532.705 L65.6911 532.705 L65.6911 563.33 L73.33 563.33 L73.33 567.265 L53.4227 567.265 L53.4227 563.33 Z\" fill=\"#000000\" fill-rule=\"evenodd\" fill-opacity=\"1\" /><path clip-path=\"url(#clip390)\" d=\"M82.7744 561.385 L87.6586 561.385 L87.6586 567.265 L82.7744 567.265 L82.7744 561.385 Z\" fill=\"#000000\" fill-rule=\"evenodd\" fill-opacity=\"1\" /><path clip-path=\"url(#clip390)\" d=\"M110.691 536.779 L98.8854 555.228 L110.691 555.228 L110.691 536.779 M109.464 532.705 L115.344 532.705 L115.344 555.228 L120.274 555.228 L120.274 559.117 L115.344 559.117 L115.344 567.265 L110.691 567.265 L110.691 559.117 L95.0891 559.117 L95.0891 554.603 L109.464 532.705 Z\" fill=\"#000000\" fill-rule=\"evenodd\" fill-opacity=\"1\" /><path clip-path=\"url(#clip390)\" d=\"M53.7467 374.755 L61.3856 374.755 L61.3856 348.389 L53.0754 350.056 L53.0754 345.797 L61.3393 344.13 L66.0152 344.13 L66.0152 374.755 L73.654 374.755 L73.654 378.69 L53.7467 378.69 L53.7467 374.755 Z\" fill=\"#000000\" fill-rule=\"evenodd\" fill-opacity=\"1\" /><path clip-path=\"url(#clip390)\" d=\"M83.0984 372.81 L87.9827 372.81 L87.9827 378.69 L83.0984 378.69 L83.0984 372.81 Z\" fill=\"#000000\" fill-rule=\"evenodd\" fill-opacity=\"1\" /><path clip-path=\"url(#clip390)\" d=\"M108.746 359.546 Q105.598 359.546 103.746 361.699 Q101.918 363.852 101.918 367.602 Q101.918 371.329 103.746 373.505 Q105.598 375.658 108.746 375.658 Q111.895 375.658 113.723 373.505 Q115.575 371.329 115.575 367.602 Q115.575 363.852 113.723 361.699 Q111.895 359.546 108.746 359.546 M118.029 344.894 L118.029 349.153 Q116.27 348.32 114.464 347.88 Q112.682 347.44 110.922 347.44 Q106.293 347.44 103.839 350.565 Q101.409 353.69 101.061 360.009 Q102.427 357.996 104.487 356.931 Q106.547 355.843 109.024 355.843 Q114.233 355.843 117.242 359.014 Q120.274 362.162 120.274 367.602 Q120.274 372.926 117.126 376.144 Q113.978 379.361 108.746 379.361 Q102.751 379.361 99.5798 374.778 Q96.4085 370.171 96.4085 361.445 Q96.4085 353.25 100.297 348.389 Q104.186 343.505 110.737 343.505 Q112.496 343.505 114.279 343.852 Q116.084 344.199 118.029 344.894 Z\" fill=\"#000000\" fill-rule=\"evenodd\" fill-opacity=\"1\" /><path clip-path=\"url(#clip390)\" d=\"M54.0014 186.18 L61.6402 186.18 L61.6402 159.814 L53.3301 161.481 L53.3301 157.222 L61.5939 155.555 L66.2698 155.555 L66.2698 186.18 L73.9087 186.18 L73.9087 190.115 L54.0014 190.115 L54.0014 186.18 Z\" fill=\"#000000\" fill-rule=\"evenodd\" fill-opacity=\"1\" /><path clip-path=\"url(#clip390)\" d=\"M83.3531 184.235 L88.2373 184.235 L88.2373 190.115 L83.3531 190.115 L83.3531 184.235 Z\" fill=\"#000000\" fill-rule=\"evenodd\" fill-opacity=\"1\" /><path clip-path=\"url(#clip390)\" d=\"M108.422 173.703 Q105.089 173.703 103.168 175.485 Q101.27 177.268 101.27 180.393 Q101.27 183.518 103.168 185.3 Q105.089 187.083 108.422 187.083 Q111.756 187.083 113.677 185.3 Q115.598 183.495 115.598 180.393 Q115.598 177.268 113.677 175.485 Q111.779 173.703 108.422 173.703 M103.746 171.712 Q100.737 170.972 99.0474 168.911 Q97.3808 166.851 97.3808 163.888 Q97.3808 159.745 100.321 157.337 Q103.284 154.93 108.422 154.93 Q113.584 154.93 116.524 157.337 Q119.464 159.745 119.464 163.888 Q119.464 166.851 117.774 168.911 Q116.108 170.972 113.121 171.712 Q116.501 172.499 118.376 174.791 Q120.274 177.083 120.274 180.393 Q120.274 185.416 117.195 188.101 Q114.14 190.786 108.422 190.786 Q102.705 190.786 99.6261 188.101 Q96.5706 185.416 96.5706 180.393 Q96.5706 177.083 98.4687 174.791 Q100.367 172.499 103.746 171.712 M102.034 164.328 Q102.034 167.013 103.7 168.518 Q105.39 170.023 108.422 170.023 Q111.432 170.023 113.121 168.518 Q114.834 167.013 114.834 164.328 Q114.834 161.643 113.121 160.138 Q111.432 158.634 108.422 158.634 Q105.39 158.634 103.7 160.138 Q102.034 161.643 102.034 164.328 Z\" fill=\"#000000\" fill-rule=\"evenodd\" fill-opacity=\"1\" /><polyline clip-path=\"url(#clip392)\" style=\"stroke:#009af9; stroke-linecap:round; stroke-linejoin:round; stroke-width:4; stroke-opacity:1; fill:none\" points=\"218.439,87.9763 340.33,333.124 584.113,474.555 827.895,653.701 1071.68,710.274 1315.46,747.988 1559.24,795.132 1803.03,804.561 2046.81,804.561 2290.59,681.987 \"/>\n",
       "<polyline clip-path=\"url(#clip392)\" style=\"stroke:#e26f46; stroke-linecap:round; stroke-linejoin:round; stroke-width:4; stroke-opacity:1; fill:none\" points=\"218.439,1445.72 340.33,1445.72 584.113,1445.72 827.895,1445.72 1071.68,1436.29 1315.46,1426.86 1559.24,1417.43 1803.03,1408 2046.81,1389.14 2290.59,1332.57 \"/>\n",
       "<path clip-path=\"url(#clip390)\" d=\"M1480.43 250.738 L2279.54 250.738 L2279.54 95.2176 L1480.43 95.2176  Z\" fill=\"#ffffff\" fill-rule=\"evenodd\" fill-opacity=\"1\"/>\n",
       "<polyline clip-path=\"url(#clip390)\" style=\"stroke:#000000; stroke-linecap:round; stroke-linejoin:round; stroke-width:4; stroke-opacity:1; fill:none\" points=\"1480.43,250.738 2279.54,250.738 2279.54,95.2176 1480.43,95.2176 1480.43,250.738 \"/>\n",
       "<polyline clip-path=\"url(#clip390)\" style=\"stroke:#009af9; stroke-linecap:round; stroke-linejoin:round; stroke-width:4; stroke-opacity:1; fill:none\" points=\"1504.83,147.058 1651.26,147.058 \"/>\n",
       "<path clip-path=\"url(#clip390)\" d=\"M1699.7 150.31 L1699.7 152.393 L1680.11 152.393 Q1680.39 156.791 1682.75 159.106 Q1685.14 161.398 1689.37 161.398 Q1691.83 161.398 1694.12 160.796 Q1696.43 160.194 1698.7 158.99 L1698.7 163.018 Q1696.41 163.99 1694 164.5 Q1691.6 165.009 1689.12 165.009 Q1682.92 165.009 1679.28 161.398 Q1675.67 157.787 1675.67 151.629 Q1675.67 145.264 1679.1 141.537 Q1682.54 137.787 1688.38 137.787 Q1693.61 137.787 1696.64 141.166 Q1699.7 144.523 1699.7 150.31 M1695.44 149.06 Q1695.39 145.565 1693.47 143.481 Q1691.57 141.398 1688.42 141.398 Q1684.86 141.398 1682.71 143.412 Q1680.58 145.426 1680.25 149.083 L1695.44 149.06 Z\" fill=\"#000000\" fill-rule=\"evenodd\" fill-opacity=\"1\" /><path clip-path=\"url(#clip390)\" d=\"M1706.69 128.319 L1710.95 128.319 L1710.95 164.338 L1706.69 164.338 L1706.69 128.319 Z\" fill=\"#000000\" fill-rule=\"evenodd\" fill-opacity=\"1\" /><path clip-path=\"url(#clip390)\" d=\"M1742.04 150.31 L1742.04 152.393 L1722.45 152.393 Q1722.73 156.791 1725.09 159.106 Q1727.48 161.398 1731.71 161.398 Q1734.17 161.398 1736.46 160.796 Q1738.77 160.194 1741.04 158.99 L1741.04 163.018 Q1738.75 163.99 1736.34 164.5 Q1733.93 165.009 1731.46 165.009 Q1725.25 165.009 1721.62 161.398 Q1718.01 157.787 1718.01 151.629 Q1718.01 145.264 1721.43 141.537 Q1724.88 137.787 1730.72 137.787 Q1735.95 137.787 1738.98 141.166 Q1742.04 144.523 1742.04 150.31 M1737.78 149.06 Q1737.73 145.565 1735.81 143.481 Q1733.91 141.398 1730.76 141.398 Q1727.2 141.398 1725.04 143.412 Q1722.92 145.426 1722.59 149.083 L1737.78 149.06 Z\" fill=\"#000000\" fill-rule=\"evenodd\" fill-opacity=\"1\" /><path clip-path=\"url(#clip390)\" d=\"M1769.21 143.389 Q1770.81 140.518 1773.03 139.153 Q1775.25 137.787 1778.26 137.787 Q1782.31 137.787 1784.51 140.634 Q1786.71 143.458 1786.71 148.689 L1786.71 164.338 L1782.43 164.338 L1782.43 148.828 Q1782.43 145.102 1781.11 143.296 Q1779.79 141.49 1777.08 141.49 Q1773.77 141.49 1771.85 143.69 Q1769.93 145.889 1769.93 149.685 L1769.93 164.338 L1765.65 164.338 L1765.65 148.828 Q1765.65 145.078 1764.33 143.296 Q1763.01 141.49 1760.25 141.49 Q1756.99 141.49 1755.07 143.713 Q1753.15 145.912 1753.15 149.685 L1753.15 164.338 L1748.86 164.338 L1748.86 138.412 L1753.15 138.412 L1753.15 142.44 Q1754.6 140.055 1756.64 138.921 Q1758.68 137.787 1761.48 137.787 Q1764.3 137.787 1766.27 139.222 Q1768.26 140.657 1769.21 143.389 Z\" fill=\"#000000\" fill-rule=\"evenodd\" fill-opacity=\"1\" /><path clip-path=\"url(#clip390)\" d=\"M1817.38 150.31 L1817.38 152.393 L1797.8 152.393 Q1798.08 156.791 1800.44 159.106 Q1802.82 161.398 1807.06 161.398 Q1809.51 161.398 1811.8 160.796 Q1814.12 160.194 1816.39 158.99 L1816.39 163.018 Q1814.1 163.99 1811.69 164.5 Q1809.28 165.009 1806.8 165.009 Q1800.6 165.009 1796.97 161.398 Q1793.35 157.787 1793.35 151.629 Q1793.35 145.264 1796.78 141.537 Q1800.23 137.787 1806.06 137.787 Q1811.29 137.787 1814.33 141.166 Q1817.38 144.523 1817.38 150.31 M1813.12 149.06 Q1813.08 145.565 1811.16 143.481 Q1809.26 141.398 1806.11 141.398 Q1802.54 141.398 1800.39 143.412 Q1798.26 145.426 1797.94 149.083 L1813.12 149.06 Z\" fill=\"#000000\" fill-rule=\"evenodd\" fill-opacity=\"1\" /><path clip-path=\"url(#clip390)\" d=\"M1845.92 148.689 L1845.92 164.338 L1841.66 164.338 L1841.66 148.828 Q1841.66 145.148 1840.23 143.319 Q1838.79 141.49 1835.92 141.49 Q1832.47 141.49 1830.48 143.69 Q1828.49 145.889 1828.49 149.685 L1828.49 164.338 L1824.21 164.338 L1824.21 138.412 L1828.49 138.412 L1828.49 142.44 Q1830.02 140.102 1832.08 138.944 Q1834.16 137.787 1836.87 137.787 Q1841.34 137.787 1843.63 140.565 Q1845.92 143.319 1845.92 148.689 Z\" fill=\"#000000\" fill-rule=\"evenodd\" fill-opacity=\"1\" /><path clip-path=\"url(#clip390)\" d=\"M1858.63 131.051 L1858.63 138.412 L1867.41 138.412 L1867.41 141.722 L1858.63 141.722 L1858.63 155.796 Q1858.63 158.967 1859.49 159.87 Q1860.37 160.773 1863.03 160.773 L1867.41 160.773 L1867.41 164.338 L1863.03 164.338 Q1858.1 164.338 1856.22 162.509 Q1854.35 160.657 1854.35 155.796 L1854.35 141.722 L1851.22 141.722 L1851.22 138.412 L1854.35 138.412 L1854.35 131.051 L1858.63 131.051 Z\" fill=\"#000000\" fill-rule=\"evenodd\" fill-opacity=\"1\" /><path clip-path=\"url(#clip390)\" d=\"M1906.73 139.407 L1906.73 143.389 Q1904.93 142.393 1903.1 141.907 Q1901.29 141.398 1899.44 141.398 Q1895.3 141.398 1893.01 144.037 Q1890.72 146.652 1890.72 151.398 Q1890.72 156.143 1893.01 158.782 Q1895.3 161.398 1899.44 161.398 Q1901.29 161.398 1903.1 160.912 Q1904.93 160.402 1906.73 159.407 L1906.73 163.342 Q1904.95 164.176 1903.03 164.592 Q1901.13 165.009 1898.98 165.009 Q1893.12 165.009 1889.67 161.328 Q1886.22 157.648 1886.22 151.398 Q1886.22 145.055 1889.7 141.421 Q1893.19 137.787 1899.26 137.787 Q1901.22 137.787 1903.1 138.203 Q1904.97 138.597 1906.73 139.407 Z\" fill=\"#000000\" fill-rule=\"evenodd\" fill-opacity=\"1\" /><path clip-path=\"url(#clip390)\" d=\"M1924.19 141.398 Q1920.76 141.398 1918.77 144.083 Q1916.78 146.745 1916.78 151.398 Q1916.78 156.051 1918.75 158.736 Q1920.74 161.398 1924.19 161.398 Q1927.59 161.398 1929.58 158.713 Q1931.57 156.027 1931.57 151.398 Q1931.57 146.791 1929.58 144.106 Q1927.59 141.398 1924.19 141.398 M1924.19 137.787 Q1929.74 137.787 1932.91 141.398 Q1936.09 145.009 1936.09 151.398 Q1936.09 157.764 1932.91 161.398 Q1929.74 165.009 1924.19 165.009 Q1918.61 165.009 1915.44 161.398 Q1912.29 157.764 1912.29 151.398 Q1912.29 145.009 1915.44 141.398 Q1918.61 137.787 1924.19 137.787 Z\" fill=\"#000000\" fill-rule=\"evenodd\" fill-opacity=\"1\" /><path clip-path=\"url(#clip390)\" d=\"M1963.33 143.389 Q1964.93 140.518 1967.15 139.153 Q1969.37 137.787 1972.38 137.787 Q1976.43 137.787 1978.63 140.634 Q1980.83 143.458 1980.83 148.689 L1980.83 164.338 L1976.55 164.338 L1976.55 148.828 Q1976.55 145.102 1975.23 143.296 Q1973.91 141.49 1971.2 141.49 Q1967.89 141.49 1965.97 143.69 Q1964.05 145.889 1964.05 149.685 L1964.05 164.338 L1959.77 164.338 L1959.77 148.828 Q1959.77 145.078 1958.45 143.296 Q1957.13 141.49 1954.37 141.49 Q1951.11 141.49 1949.19 143.713 Q1947.27 145.912 1947.27 149.685 L1947.27 164.338 L1942.98 164.338 L1942.98 138.412 L1947.27 138.412 L1947.27 142.44 Q1948.72 140.055 1950.76 138.921 Q1952.8 137.787 1955.6 137.787 Q1958.42 137.787 1960.39 139.222 Q1962.38 140.657 1963.33 143.389 Z\" fill=\"#000000\" fill-rule=\"evenodd\" fill-opacity=\"1\" /><path clip-path=\"url(#clip390)\" d=\"M1993.45 160.449 L1993.45 174.199 L1989.16 174.199 L1989.16 138.412 L1993.45 138.412 L1993.45 142.347 Q1994.79 140.032 1996.83 138.921 Q1998.89 137.787 2001.73 137.787 Q2006.46 137.787 2009.4 141.537 Q2012.36 145.287 2012.36 151.398 Q2012.36 157.509 2009.4 161.259 Q2006.46 165.009 2001.73 165.009 Q1998.89 165.009 1996.83 163.898 Q1994.79 162.763 1993.45 160.449 M2007.94 151.398 Q2007.94 146.699 2005.99 144.037 Q2004.07 141.352 2000.69 141.352 Q1997.31 141.352 1995.37 144.037 Q1993.45 146.699 1993.45 151.398 Q1993.45 156.097 1995.37 158.782 Q1997.31 161.444 2000.69 161.444 Q2004.07 161.444 2005.99 158.782 Q2007.94 156.097 2007.94 151.398 Z\" fill=\"#000000\" fill-rule=\"evenodd\" fill-opacity=\"1\" /><path clip-path=\"url(#clip390)\" d=\"M2019.42 128.319 L2023.68 128.319 L2023.68 164.338 L2019.42 164.338 L2019.42 128.319 Z\" fill=\"#000000\" fill-rule=\"evenodd\" fill-opacity=\"1\" /><path clip-path=\"url(#clip390)\" d=\"M2054.77 150.31 L2054.77 152.393 L2035.18 152.393 Q2035.46 156.791 2037.82 159.106 Q2040.21 161.398 2044.44 161.398 Q2046.89 161.398 2049.19 160.796 Q2051.5 160.194 2053.77 158.99 L2053.77 163.018 Q2051.48 163.99 2049.07 164.5 Q2046.66 165.009 2044.19 165.009 Q2037.98 165.009 2034.35 161.398 Q2030.74 157.787 2030.74 151.629 Q2030.74 145.264 2034.16 141.537 Q2037.61 137.787 2043.45 137.787 Q2048.68 137.787 2051.71 141.166 Q2054.77 144.523 2054.77 150.31 M2050.51 149.06 Q2050.46 145.565 2048.54 143.481 Q2046.64 141.398 2043.49 141.398 Q2039.93 141.398 2037.77 143.412 Q2035.64 145.426 2035.32 149.083 L2050.51 149.06 Z\" fill=\"#000000\" fill-rule=\"evenodd\" fill-opacity=\"1\" /><path clip-path=\"url(#clip390)\" d=\"M2082.47 138.412 L2073.1 151.027 L2082.96 164.338 L2077.94 164.338 L2070.39 154.152 L2062.84 164.338 L2057.82 164.338 L2067.89 150.773 L2058.68 138.412 L2063.7 138.412 L2070.58 147.648 L2077.45 138.412 L2082.47 138.412 Z\" fill=\"#000000\" fill-rule=\"evenodd\" fill-opacity=\"1\" /><path clip-path=\"url(#clip390)\" d=\"M2088.98 138.412 L2093.24 138.412 L2093.24 164.338 L2088.98 164.338 L2088.98 138.412 M2088.98 128.319 L2093.24 128.319 L2093.24 133.713 L2088.98 133.713 L2088.98 128.319 Z\" fill=\"#000000\" fill-rule=\"evenodd\" fill-opacity=\"1\" /><path clip-path=\"url(#clip390)\" d=\"M2106.36 131.051 L2106.36 138.412 L2115.14 138.412 L2115.14 141.722 L2106.36 141.722 L2106.36 155.796 Q2106.36 158.967 2107.22 159.87 Q2108.1 160.773 2110.76 160.773 L2115.14 160.773 L2115.14 164.338 L2110.76 164.338 Q2105.83 164.338 2103.95 162.509 Q2102.08 160.657 2102.08 155.796 L2102.08 141.722 L2098.95 141.722 L2098.95 138.412 L2102.08 138.412 L2102.08 131.051 L2106.36 131.051 Z\" fill=\"#000000\" fill-rule=\"evenodd\" fill-opacity=\"1\" /><path clip-path=\"url(#clip390)\" d=\"M2131.52 166.745 Q2129.72 171.375 2128.01 172.787 Q2126.29 174.199 2123.42 174.199 L2120.02 174.199 L2120.02 170.634 L2122.52 170.634 Q2124.28 170.634 2125.25 169.8 Q2126.22 168.967 2127.4 165.865 L2128.17 163.921 L2117.68 138.412 L2122.2 138.412 L2130.3 158.689 L2138.4 138.412 L2142.91 138.412 L2131.52 166.745 Z\" fill=\"#000000\" fill-rule=\"evenodd\" fill-opacity=\"1\" /><path clip-path=\"url(#clip390)\" d=\"M2164.05 129.778 L2185.9 129.778 L2185.9 133.713 L2168.72 133.713 L2168.72 143.944 L2185.18 143.944 L2185.18 147.879 L2168.72 147.879 L2168.72 160.402 L2186.32 160.402 L2186.32 164.338 L2164.05 164.338 L2164.05 129.778 Z\" fill=\"#000000\" fill-rule=\"evenodd\" fill-opacity=\"1\" /><path clip-path=\"url(#clip390)\" d=\"M2205.55 134.384 L2199.21 151.583 L2211.92 151.583 L2205.55 134.384 M2202.91 129.778 L2208.21 129.778 L2221.38 164.338 L2216.52 164.338 L2213.38 155.472 L2197.8 155.472 L2194.65 164.338 L2189.72 164.338 L2202.91 129.778 Z\" fill=\"#000000\" fill-rule=\"evenodd\" fill-opacity=\"1\" /><path clip-path=\"url(#clip390)\" d=\"M2239.3 134.384 L2232.96 151.583 L2245.67 151.583 L2239.3 134.384 M2236.66 129.778 L2241.96 129.778 L2255.13 164.338 L2250.27 164.338 L2247.13 155.472 L2231.55 155.472 L2228.4 164.338 L2223.47 164.338 L2236.66 129.778 Z\" fill=\"#000000\" fill-rule=\"evenodd\" fill-opacity=\"1\" /><polyline clip-path=\"url(#clip390)\" style=\"stroke:#e26f46; stroke-linecap:round; stroke-linejoin:round; stroke-width:4; stroke-opacity:1; fill:none\" points=\"1504.83,198.898 1651.26,198.898 \"/>\n",
       "<path clip-path=\"url(#clip390)\" d=\"M1696.18 191.247 L1696.18 195.229 Q1694.37 194.233 1692.54 193.747 Q1690.74 193.238 1688.89 193.238 Q1684.74 193.238 1682.45 195.877 Q1680.16 198.492 1680.16 203.238 Q1680.16 207.983 1682.45 210.622 Q1684.74 213.238 1688.89 213.238 Q1690.74 213.238 1692.54 212.752 Q1694.37 212.242 1696.18 211.247 L1696.18 215.182 Q1694.4 216.016 1692.48 216.432 Q1690.58 216.849 1688.42 216.849 Q1682.57 216.849 1679.12 213.168 Q1675.67 209.488 1675.67 203.238 Q1675.67 196.895 1679.14 193.261 Q1682.64 189.627 1688.7 189.627 Q1690.67 189.627 1692.54 190.043 Q1694.42 190.437 1696.18 191.247 Z\" fill=\"#000000\" fill-rule=\"evenodd\" fill-opacity=\"1\" /><path clip-path=\"url(#clip390)\" d=\"M1713.63 193.238 Q1710.21 193.238 1708.22 195.923 Q1706.23 198.585 1706.23 203.238 Q1706.23 207.891 1708.19 210.576 Q1710.18 213.238 1713.63 213.238 Q1717.04 213.238 1719.03 210.553 Q1721.02 207.867 1721.02 203.238 Q1721.02 198.631 1719.03 195.946 Q1717.04 193.238 1713.63 193.238 M1713.63 189.627 Q1719.19 189.627 1722.36 193.238 Q1725.53 196.849 1725.53 203.238 Q1725.53 209.604 1722.36 213.238 Q1719.19 216.849 1713.63 216.849 Q1708.05 216.849 1704.88 213.238 Q1701.73 209.604 1701.73 203.238 Q1701.73 196.849 1704.88 193.238 Q1708.05 189.627 1713.63 189.627 Z\" fill=\"#000000\" fill-rule=\"evenodd\" fill-opacity=\"1\" /><path clip-path=\"url(#clip390)\" d=\"M1752.78 195.229 Q1754.37 192.358 1756.6 190.993 Q1758.82 189.627 1761.83 189.627 Q1765.88 189.627 1768.08 192.474 Q1770.28 195.298 1770.28 200.529 L1770.28 216.178 L1765.99 216.178 L1765.99 200.668 Q1765.99 196.942 1764.67 195.136 Q1763.35 193.33 1760.65 193.33 Q1757.34 193.33 1755.41 195.53 Q1753.49 197.729 1753.49 201.525 L1753.49 216.178 L1749.21 216.178 L1749.21 200.668 Q1749.21 196.918 1747.89 195.136 Q1746.57 193.33 1743.82 193.33 Q1740.55 193.33 1738.63 195.553 Q1736.71 197.752 1736.71 201.525 L1736.71 216.178 L1732.43 216.178 L1732.43 190.252 L1736.71 190.252 L1736.71 194.28 Q1738.17 191.895 1740.21 190.761 Q1742.24 189.627 1745.04 189.627 Q1747.87 189.627 1749.84 191.062 Q1751.83 192.497 1752.78 195.229 Z\" fill=\"#000000\" fill-rule=\"evenodd\" fill-opacity=\"1\" /><path clip-path=\"url(#clip390)\" d=\"M1798.96 195.229 Q1800.55 192.358 1802.78 190.993 Q1805 189.627 1808.01 189.627 Q1812.06 189.627 1814.26 192.474 Q1816.46 195.298 1816.46 200.529 L1816.46 216.178 L1812.17 216.178 L1812.17 200.668 Q1812.17 196.942 1810.85 195.136 Q1809.54 193.33 1806.83 193.33 Q1803.52 193.33 1801.6 195.53 Q1799.67 197.729 1799.67 201.525 L1799.67 216.178 L1795.39 216.178 L1795.39 200.668 Q1795.39 196.918 1794.07 195.136 Q1792.75 193.33 1790 193.33 Q1786.73 193.33 1784.81 195.553 Q1782.89 197.752 1782.89 201.525 L1782.89 216.178 L1778.61 216.178 L1778.61 190.252 L1782.89 190.252 L1782.89 194.28 Q1784.35 191.895 1786.39 190.761 Q1788.42 189.627 1791.22 189.627 Q1794.05 189.627 1796.02 191.062 Q1798.01 192.497 1798.96 195.229 Z\" fill=\"#000000\" fill-rule=\"evenodd\" fill-opacity=\"1\" /><path clip-path=\"url(#clip390)\" d=\"M1835 193.238 Q1831.57 193.238 1829.58 195.923 Q1827.59 198.585 1827.59 203.238 Q1827.59 207.891 1829.56 210.576 Q1831.55 213.238 1835 213.238 Q1838.4 213.238 1840.39 210.553 Q1842.38 207.867 1842.38 203.238 Q1842.38 198.631 1840.39 195.946 Q1838.4 193.238 1835 193.238 M1835 189.627 Q1840.55 189.627 1843.72 193.238 Q1846.9 196.849 1846.9 203.238 Q1846.9 209.604 1843.72 213.238 Q1840.55 216.849 1835 216.849 Q1829.42 216.849 1826.25 213.238 Q1823.1 209.604 1823.1 203.238 Q1823.1 196.849 1826.25 193.238 Q1829.42 189.627 1835 189.627 Z\" fill=\"#000000\" fill-rule=\"evenodd\" fill-opacity=\"1\" /><path clip-path=\"url(#clip390)\" d=\"M1875.51 200.529 L1875.51 216.178 L1871.25 216.178 L1871.25 200.668 Q1871.25 196.988 1869.81 195.159 Q1868.38 193.33 1865.51 193.33 Q1862.06 193.33 1860.07 195.53 Q1858.08 197.729 1858.08 201.525 L1858.08 216.178 L1853.79 216.178 L1853.79 190.252 L1858.08 190.252 L1858.08 194.28 Q1859.6 191.942 1861.66 190.784 Q1863.75 189.627 1866.46 189.627 Q1870.92 189.627 1873.22 192.405 Q1875.51 195.159 1875.51 200.529 Z\" fill=\"#000000\" fill-rule=\"evenodd\" fill-opacity=\"1\" /><path clip-path=\"url(#clip390)\" d=\"M1921.25 202.15 L1921.25 204.233 L1901.66 204.233 Q1901.94 208.631 1904.3 210.946 Q1906.69 213.238 1910.92 213.238 Q1913.38 213.238 1915.67 212.636 Q1917.98 212.034 1920.25 210.83 L1920.25 214.858 Q1917.96 215.83 1915.55 216.34 Q1913.15 216.849 1910.67 216.849 Q1904.47 216.849 1900.83 213.238 Q1897.22 209.627 1897.22 203.469 Q1897.22 197.104 1900.65 193.377 Q1904.09 189.627 1909.93 189.627 Q1915.16 189.627 1918.19 193.006 Q1921.25 196.363 1921.25 202.15 M1916.99 200.9 Q1916.94 197.405 1915.02 195.321 Q1913.12 193.238 1909.97 193.238 Q1906.41 193.238 1904.26 195.252 Q1902.13 197.266 1901.8 200.923 L1916.99 200.9 Z\" fill=\"#000000\" fill-rule=\"evenodd\" fill-opacity=\"1\" /><path clip-path=\"url(#clip390)\" d=\"M1928.24 180.159 L1932.5 180.159 L1932.5 216.178 L1928.24 216.178 L1928.24 180.159 Z\" fill=\"#000000\" fill-rule=\"evenodd\" fill-opacity=\"1\" /><path clip-path=\"url(#clip390)\" d=\"M1963.59 202.15 L1963.59 204.233 L1944 204.233 Q1944.28 208.631 1946.64 210.946 Q1949.03 213.238 1953.26 213.238 Q1955.71 213.238 1958.01 212.636 Q1960.32 212.034 1962.59 210.83 L1962.59 214.858 Q1960.3 215.83 1957.89 216.34 Q1955.48 216.849 1953.01 216.849 Q1946.8 216.849 1943.17 213.238 Q1939.56 209.627 1939.56 203.469 Q1939.56 197.104 1942.98 193.377 Q1946.43 189.627 1952.27 189.627 Q1957.5 189.627 1960.53 193.006 Q1963.59 196.363 1963.59 202.15 M1959.33 200.9 Q1959.28 197.405 1957.36 195.321 Q1955.46 193.238 1952.31 193.238 Q1948.75 193.238 1946.59 195.252 Q1944.46 197.266 1944.14 200.923 L1959.33 200.9 Z\" fill=\"#000000\" fill-rule=\"evenodd\" fill-opacity=\"1\" /><path clip-path=\"url(#clip390)\" d=\"M1990.76 195.229 Q1992.36 192.358 1994.58 190.993 Q1996.8 189.627 1999.81 189.627 Q2003.86 189.627 2006.06 192.474 Q2008.26 195.298 2008.26 200.529 L2008.26 216.178 L2003.98 216.178 L2003.98 200.668 Q2003.98 196.942 2002.66 195.136 Q2001.34 193.33 1998.63 193.33 Q1995.32 193.33 1993.4 195.53 Q1991.48 197.729 1991.48 201.525 L1991.48 216.178 L1987.2 216.178 L1987.2 200.668 Q1987.2 196.918 1985.88 195.136 Q1984.56 193.33 1981.8 193.33 Q1978.54 193.33 1976.62 195.553 Q1974.7 197.752 1974.7 201.525 L1974.7 216.178 L1970.41 216.178 L1970.41 190.252 L1974.7 190.252 L1974.7 194.28 Q1976.15 191.895 1978.19 190.761 Q1980.23 189.627 1983.03 189.627 Q1985.85 189.627 1987.82 191.062 Q1989.81 192.497 1990.76 195.229 Z\" fill=\"#000000\" fill-rule=\"evenodd\" fill-opacity=\"1\" /><path clip-path=\"url(#clip390)\" d=\"M2038.93 202.15 L2038.93 204.233 L2019.35 204.233 Q2019.63 208.631 2021.99 210.946 Q2024.37 213.238 2028.61 213.238 Q2031.06 213.238 2033.35 212.636 Q2035.67 212.034 2037.94 210.83 L2037.94 214.858 Q2035.64 215.83 2033.24 216.34 Q2030.83 216.849 2028.35 216.849 Q2022.15 216.849 2018.52 213.238 Q2014.9 209.627 2014.9 203.469 Q2014.9 197.104 2018.33 193.377 Q2021.78 189.627 2027.61 189.627 Q2032.84 189.627 2035.88 193.006 Q2038.93 196.363 2038.93 202.15 M2034.67 200.9 Q2034.63 197.405 2032.71 195.321 Q2030.81 193.238 2027.66 193.238 Q2024.09 193.238 2021.94 195.252 Q2019.81 197.266 2019.49 200.923 L2034.67 200.9 Z\" fill=\"#000000\" fill-rule=\"evenodd\" fill-opacity=\"1\" /><path clip-path=\"url(#clip390)\" d=\"M2067.47 200.529 L2067.47 216.178 L2063.21 216.178 L2063.21 200.668 Q2063.21 196.988 2061.78 195.159 Q2060.34 193.33 2057.47 193.33 Q2054.02 193.33 2052.03 195.53 Q2050.04 197.729 2050.04 201.525 L2050.04 216.178 L2045.76 216.178 L2045.76 190.252 L2050.04 190.252 L2050.04 194.28 Q2051.57 191.942 2053.63 190.784 Q2055.71 189.627 2058.42 189.627 Q2062.89 189.627 2065.18 192.405 Q2067.47 195.159 2067.47 200.529 Z\" fill=\"#000000\" fill-rule=\"evenodd\" fill-opacity=\"1\" /><path clip-path=\"url(#clip390)\" d=\"M2080.18 182.891 L2080.18 190.252 L2088.95 190.252 L2088.95 193.562 L2080.18 193.562 L2080.18 207.636 Q2080.18 210.807 2081.04 211.71 Q2081.92 212.613 2084.58 212.613 L2088.95 212.613 L2088.95 216.178 L2084.58 216.178 Q2079.65 216.178 2077.77 214.349 Q2075.9 212.497 2075.9 207.636 L2075.9 193.562 L2072.77 193.562 L2072.77 190.252 L2075.9 190.252 L2075.9 182.891 L2080.18 182.891 Z\" fill=\"#000000\" fill-rule=\"evenodd\" fill-opacity=\"1\" /><path clip-path=\"url(#clip390)\" d=\"M2111.08 191.016 L2111.08 195.043 Q2109.28 194.117 2107.33 193.655 Q2105.39 193.192 2103.31 193.192 Q2100.14 193.192 2098.54 194.164 Q2096.96 195.136 2096.96 197.08 Q2096.96 198.562 2098.1 199.418 Q2099.23 200.252 2102.66 201.016 L2104.12 201.34 Q2108.65 202.312 2110.55 204.094 Q2112.47 205.854 2112.47 209.025 Q2112.47 212.636 2109.6 214.742 Q2106.76 216.849 2101.76 216.849 Q2099.67 216.849 2097.4 216.432 Q2095.16 216.039 2092.66 215.228 L2092.66 210.83 Q2095.02 212.057 2097.31 212.682 Q2099.6 213.284 2101.85 213.284 Q2104.86 213.284 2106.48 212.266 Q2108.1 211.224 2108.1 209.349 Q2108.1 207.613 2106.92 206.687 Q2105.76 205.761 2101.8 204.904 L2100.32 204.557 Q2096.36 203.724 2094.6 202.011 Q2092.84 200.275 2092.84 197.266 Q2092.84 193.608 2095.44 191.618 Q2098.03 189.627 2102.8 189.627 Q2105.16 189.627 2107.24 189.974 Q2109.33 190.321 2111.08 191.016 Z\" fill=\"#000000\" fill-rule=\"evenodd\" fill-opacity=\"1\" /></svg>\n"
      ]
     },
     "execution_count": 472,
     "metadata": {},
     "output_type": "execute_result"
    }
   ],
   "source": [
    "plot(alphas, element_complexity_EAA, label=\"element complexity EAA\")\n",
    "plot!(alphas, common_elements,  label=\"common elements\")"
   ]
  },
  {
   "attachments": {},
   "cell_type": "markdown",
   "metadata": {},
   "source": [
    "#### Decimation:"
   ]
  },
  {
   "cell_type": "code",
   "execution_count": 461,
   "metadata": {},
   "outputs": [],
   "source": [
    "\n",
    "edge_complexity_FZ_dec = 100\n",
    "edge_complexity_EAA = [37.7, 36.03, 36.16, 35.0, 35.88, 37.32, 38.25, 40.75, 44.14, 51.84]\n",
    "\n",
    "element_complexity_FZ_dec = 2.96\n",
    "element_complexity_EAA = [1.89, 1.63, ]\n",
    "\n",
    "common_edges =         [37.7, 36.03, 36.16, 35.0, 35.88, 37.32, 38.25, 40.75, 44.14, 51.84]\n",
    "common_edges_wrt_FZ =  [37.7, 36.03, 36.16, 35.0, 35.88, 37.32, 38.25, 40.75, 44.14, 51.84]\n",
    "common_edges_wrt_EAA = [100.0, ]\n",
    "\n",
    "common_elements =         [0.41, ]\n",
    "common_elements_wrt_FZ =  [13.88, ]\n",
    "common_elements_wrt_EAA = [21.78, ];"
   ]
  },
  {
   "cell_type": "code",
   "execution_count": 462,
   "metadata": {},
   "outputs": [
    {
     "data": {
      "text/plain": [
       "441"
      ]
     },
     "execution_count": 462,
     "metadata": {},
     "output_type": "execute_result"
    }
   ],
   "source": [
    "21*21"
   ]
  },
  {
   "cell_type": "code",
   "execution_count": 463,
   "metadata": {},
   "outputs": [],
   "source": [
    "for i in 1:0\n",
    "    println(i)\n",
    "end"
   ]
  },
  {
   "cell_type": "code",
   "execution_count": null,
   "metadata": {},
   "outputs": [],
   "source": []
  }
 ],
 "metadata": {
  "kernelspec": {
   "display_name": "Julia 1.8.5",
   "language": "julia",
   "name": "julia-1.8"
  },
  "language_info": {
   "file_extension": ".jl",
   "mimetype": "application/julia",
   "name": "julia",
   "version": "1.8.5"
  },
  "orig_nbformat": 4
 },
 "nbformat": 4,
 "nbformat_minor": 2
}
