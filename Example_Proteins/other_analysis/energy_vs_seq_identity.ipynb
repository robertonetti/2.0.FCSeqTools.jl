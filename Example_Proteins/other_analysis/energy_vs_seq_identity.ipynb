{
 "cells": [
  {
   "cell_type": "code",
   "execution_count": 1,
   "metadata": {},
   "outputs": [],
   "source": [
    "using Plots, JLD, StatsPlots, LaTeXStrings, Statistics"
   ]
  },
  {
   "cell_type": "code",
   "execution_count": 2,
   "metadata": {},
   "outputs": [],
   "source": [
    "include(\"../src/FCSeqTools.jl\");\n",
    "include(\"../src/functions.jl\");"
   ]
  },
  {
   "cell_type": "code",
   "execution_count": 3,
   "metadata": {},
   "outputs": [],
   "source": [
    "nat_MSA = do_number_matrix_prot(do_letter_matrix(\"../data/CM_130530_MC.fasta\"), 0.2);"
   ]
  },
  {
   "cell_type": "code",
   "execution_count": 4,
   "metadata": {},
   "outputs": [],
   "source": [
    "## SELECT MODEL 1 ############################################################################\n",
    "\n",
    "method1 = \"cumulative\"\n",
    "test1 = \"main_test\"\n",
    "fraction1 = 0.3\n",
    "stop1 = 0.9\n",
    "α1 = 0.1\n",
    "init_pseudo_count1 = 0.01\n",
    "notebook1 = 1\n",
    "model1 = \"EAA_(\" * string(α1) * \"_\" * string(init_pseudo_count1) * \"_\" * \"nb\" * string(notebook1) * \")\";\n",
    "\n",
    "\n",
    "## SELECT MODEL 2 ############################################################################\n",
    "\n",
    "method2 = \"cumulative\"\n",
    "test2 = \"main_test\"\n",
    "fraction2 = 0.3\n",
    "stop2 = 0.9\n",
    "α2 = 0.5\n",
    "init_pseudo_count2 = 0.01\n",
    "notebook2 = 2\n",
    "model2 = \"EAA_(\" * string(α2) * \"_\" * string(init_pseudo_count2) * \"_\" * \"nb\" * string(notebook2) * \")\";\n",
    "\n",
    "## SELECT MODEL 3 ############################################################################\n",
    "\n",
    "method3 = \"cumulative\"\n",
    "test3 = \"main_test\"\n",
    "fraction3 = 0.3\n",
    "stop3 = 0.9\n",
    "α3 = 0.9\n",
    "init_pseudo_count3 = 0.01\n",
    "notebook3 = 3\n",
    "model3 = \"EAA_(\" * string(α3) * \"_\" * string(init_pseudo_count3) * \"_\" * \"nb\" * string(notebook3) * \")\";\n"
   ]
  },
  {
   "cell_type": "code",
   "execution_count": 5,
   "metadata": {},
   "outputs": [],
   "source": [
    "folder_name = model1*\"_vs_\"*model2*\"_vs_\"*model3\n",
    "alignment = \"CM_alignment\"\n",
    "\n",
    "rm(joinpath(\"figures/\"* alignment * \"/energy_vs_seq_identity\",folder_name), force=true, recursive=true)\n",
    "mkdir(joinpath(\"figures/\"* alignment * \"/energy_vs_seq_identity\",folder_name))\n",
    "path = joinpath(\"figures/\"* alignment * \"/energy_vs_seq_identity\",folder_name);\n",
    "\n",
    "L, q = 96, 21;\n",
    "Nij_tot = L * (L - 1) /2\n",
    "Nij_ab_tot = Nij_tot * q^2;"
   ]
  },
  {
   "cell_type": "code",
   "execution_count": 6,
   "metadata": {},
   "outputs": [],
   "source": [
    "## model 1  ############################################################################################################\n",
    "folder1 = \"../training/\" * alignment * \"/\" * method1 * \"/\" * test1 * \"/\"\n",
    "path1 = folder1*method1*string(fraction1)*\"_stop=\"*string(stop1) *\"_reg=\"*string(α1) *\"_nb\"*string(notebook1)\n",
    "h1 = JLD.load(path1* \"/h.jld\")[\"data\"]\n",
    "Jij1 = JLD.load(path1* \"/Jij.jld\")[\"data\"]\n",
    "iteration1 = open(path1* \"/iterations.txt\", \"r\")\n",
    "gen_MSA_1 = JLD.load(path1* \"/generated_sequences.jld\")[\"data\"]\n",
    "data1 = parse.(Float64, split(readlines(iteration1)[end], \" \")[1:end-1])\n",
    "edge_n1, element_n1 = count(!iszero, sum(abs.(Jij1[:,:,i]) for i in 1:size(Jij1, 3))), count(!iszero, Jij1)\n",
    "L1 = size(gen_MSA_1, 1)\n",
    "\n",
    "## model 2 ############################################################################################################\n",
    "folder2 = \"../training/\" * alignment * \"/\" * method2 * \"/\" * test2 * \"/\"\n",
    "path2 = folder2*method2*string(fraction2)*\"_stop=\"*string(stop2) *\"_reg=\"*string(α2) *\"_nb\"*string(notebook2)\n",
    "h2 = JLD.load(path2* \"/h.jld\")[\"data\"]\n",
    "Jij2 = JLD.load(path2* \"/Jij.jld\")[\"data\"]\n",
    "iteration2 = open(path2* \"/iterations.txt\", \"r\")\n",
    "gen_MSA_2 = JLD.load(path2* \"/generated_sequences.jld\")[\"data\"]\n",
    "data2 = parse.(Float64, split(readlines(iteration2)[end], \" \")[1:end-1])\n",
    "edge_n2, element_n2 = count(!iszero, sum(abs.(Jij2[:,:,i]) for i in 1:size(Jij2, 3))), count(!iszero, Jij2)\n",
    "L2 = size(gen_MSA_2, 1)\n",
    "\n",
    "## model 3 ############################################################################################################\n",
    "folder3 = \"../training/\" * alignment * \"/\" * method3 * \"/\" * test3 * \"/\"\n",
    "path3 = folder3*method3*string(fraction3)*\"_stop=\"*string(stop3) *\"_reg=\"*string(α3) *\"_nb\"*string(notebook3)\n",
    "h3 = JLD.load(path3* \"/h.jld\")[\"data\"]\n",
    "Jij3 = JLD.load(path3* \"/Jij.jld\")[\"data\"]\n",
    "iteration3 = open(path3* \"/iterations.txt\", \"r\")\n",
    "gen_MSA_3 = JLD.load(path3* \"/generated_sequences.jld\")[\"data\"]\n",
    "data3 = parse.(Float64, split(readlines(iteration3)[end], \" \")[1:end-1])\n",
    "edge_n3, element_n3 = count(!iszero, sum(abs.(Jij3[:,:,i]) for i in 1:size(Jij3, 3))), count(!iszero, Jij3)\n",
    "L3 = size(gen_MSA_3, 1);"
   ]
  },
  {
   "attachments": {},
   "cell_type": "markdown",
   "metadata": {},
   "source": [
    "#### Compute distance:"
   ]
  },
  {
   "cell_type": "code",
   "execution_count": 7,
   "metadata": {},
   "outputs": [
    {
     "data": {
      "text/plain": [
       "1000"
      ]
     },
     "execution_count": 7,
     "metadata": {},
     "output_type": "execute_result"
    }
   ],
   "source": [
    "distance1, seq_id1 = sequence_identity(nat_MSA, gen_MSA_1)\n",
    "distance2, seq_id2 = sequence_identity(nat_MSA, gen_MSA_2)\n",
    "distance3, seq_id3 = sequence_identity(nat_MSA, gen_MSA_3)\n",
    "distanceWT, seq_idWT = sequence_identity_NAT(nat_MSA);\n",
    "\n",
    "L_stop = 1000"
   ]
  },
  {
   "attachments": {},
   "cell_type": "markdown",
   "metadata": {},
   "source": [
    "#### Compute energies:"
   ]
  },
  {
   "cell_type": "code",
   "execution_count": 8,
   "metadata": {},
   "outputs": [],
   "source": [
    "L_stop_WT = length(distanceWT)\n",
    "\n",
    "energies1 = full_model_energy(q, h1, Jij1, gen_MSA_1, L_stop)\n",
    "energies2 = full_model_energy(q, h2, Jij2, gen_MSA_2, L_stop)\n",
    "energies3 = full_model_energy(q, h3, Jij3, gen_MSA_3, L_stop);\n",
    "\n",
    "## wrt to model 1\n",
    "energies1_1 = full_model_energy(q, h1, Jij1, gen_MSA_1, L_stop)\n",
    "energies2_1 = full_model_energy(q, h1, Jij1, gen_MSA_2, L_stop)\n",
    "energies3_1 = full_model_energy(q, h1, Jij1, gen_MSA_3, L_stop);\n",
    "## wrt to model 2\n",
    "energies1_2 = full_model_energy(q, h2, Jij2, gen_MSA_1, L_stop)\n",
    "energies2_2 = full_model_energy(q, h2, Jij2, gen_MSA_2, L_stop)\n",
    "energies3_2 = full_model_energy(q, h2, Jij2, gen_MSA_3, L_stop);\n",
    "## wrt to model 3\n",
    "energies1_3 = full_model_energy(q, h3, Jij3, gen_MSA_1, L_stop)\n",
    "energies2_3 = full_model_energy(q, h3, Jij3, gen_MSA_2, L_stop)\n",
    "energies3_3 = full_model_energy(q, h3, Jij3, gen_MSA_3, L_stop);\n",
    "\n",
    "## WT wrt to model 1-2-3\n",
    "energiesWT_1 = full_model_energy(q, h1, Jij1, nat_MSA, L_stop_WT)\n",
    "energiesWT_2 = full_model_energy(q, h2, Jij2, nat_MSA, L_stop_WT)\n",
    "energiesWT_3 = full_model_energy(q, h3, Jij3, nat_MSA, L_stop_WT);"
   ]
  },
  {
   "attachments": {},
   "cell_type": "markdown",
   "metadata": {},
   "source": [
    "### Plots:"
   ]
  },
  {
   "cell_type": "code",
   "execution_count": 9,
   "metadata": {},
   "outputs": [],
   "source": [
    "x1, y1 = seq_id1[1:L_stop], energies1\n",
    "x2, y2 = seq_id2[1:L_stop], energies2\n",
    "x3, y3 = seq_id3[1:L_stop], energies3\n",
    "\n",
    "default(grid = true, legend = true)\n",
    "layout = @layout [a _\n",
    "                    b{0.8w,0.8h} c]\n",
    "plot(layout = layout, link = :both, size = (800, 800), xlabel=\"sequence identity\", ylabel=\"energy\", title = \"ciao\")\n",
    "scatter!(x1, y1,  subplot = 2, label=L\"\\alpha = 0.2\", markercolor = :blue, alpha=0.5, title = \"(energia calcolata con modello corrispondente)\")\n",
    "scatter!(x2, y2, subplot = 2, label=L\"\\alpha = 0.5\", markercolor = :red, alpha=0.5)\n",
    "scatter!(x3, y3, subplot = 2, label=L\"\\alpha = 0.9\", markercolor = :green, alpha=0.5)\n",
    "\n",
    "histogram!([x1, y1] , subplot = [1 3], orientation = [:v :h], framestyle = :none, legend = false, alpha=0.2, fillcolors = :blue, title = \"\")\n",
    "histogram!([x2, y2], subplot = [1 3], orientation = [:v :h], framestyle = :none, legend = false, alpha=0.2, fillcolors = :red)\n",
    "histogram!([x3, y3], subplot = [1 3], orientation = [:v :h], framestyle = :none, legend = false, alpha=0.2, fillcolors = :green)\n",
    "\n",
    "savefig(joinpath(path,\"energy wrt corrispondent model.png\"));"
   ]
  },
  {
   "cell_type": "code",
   "execution_count": 10,
   "metadata": {},
   "outputs": [],
   "source": [
    "x1, y1 = seq_id1[1:L_stop], energies1_1\n",
    "x2, y2 = seq_id2[1:L_stop], energies2_1\n",
    "x3, y3 = seq_id3[1:L_stop], energies3_1\n",
    "x4, y4 = seq_idWT[1:L_stop_WT], energiesWT_1\n",
    "\n",
    "default(grid = true, legend = true)\n",
    "layout = @layout [a _\n",
    "                    b{0.8w,0.8h} c]\n",
    "plot(layout = layout, link = :both, size = (800, 800), xlabel=\"sequence identity\", ylabel=\"energy\")\n",
    "\n",
    "scatter!(x1, y1,  subplot = 2, label=L\"\\alpha = 0.2\", markercolor = :blue, alpha=0.5, title = \"(energia calcolata con modello \"*L\"\\alpha=0.2\"*\")\")\n",
    "scatter!(x2, y2, subplot = 2, label=L\"\\alpha = 0.5\", markercolor = :red, alpha=0.5)\n",
    "scatter!(x3, y3, subplot = 2, label=L\"\\alpha = 0.9\", markercolor = :green, alpha=0.5)\n",
    "scatter!(x4, y4, subplot = 2, label=\"WT MSA\", markercolor = :yellow, alpha=0.5)\n",
    "\n",
    "histogram!([x1, y1] , subplot = [1 3], orientation = [:v :h], framestyle = :none, legend = false, alpha=0.2, fillcolors = :blue, title = \"\")\n",
    "histogram!([x2, y2], subplot = [1 3], orientation = [:v :h], framestyle = :none, legend = false, alpha=0.2, fillcolors = :red)\n",
    "histogram!([x3, y3], subplot = [1 3], orientation = [:v :h], framestyle = :none, legend = false, alpha=0.2, fillcolors = :green)\n",
    "histogram!([x4, y4], subplot = [1 3], orientation = [:v :h], framestyle = :none, legend = false, alpha=0.2, fillcolors = :yellow)\n",
    "\n",
    "savefig(joinpath(path,\"energy wrt model alpha=0.2.png\"));"
   ]
  },
  {
   "cell_type": "code",
   "execution_count": 11,
   "metadata": {},
   "outputs": [],
   "source": [
    "x1, y1 = seq_id1[1:L_stop], energies1_2\n",
    "x2, y2 = seq_id2[1:L_stop], energies2_2\n",
    "x3, y3 = seq_id3[1:L_stop], energies3_2\n",
    "x4, y4 = seq_idWT[1:L_stop_WT], energiesWT_2\n",
    "\n",
    "default(grid = true, legend = true)\n",
    "layout = @layout [a _\n",
    "                    b{0.8w,0.8h} c]\n",
    "plot(layout = layout, link = :both, size = (800, 800), xlabel=\"sequence identity\", ylabel=\"energy\")\n",
    "\n",
    "scatter!(x1, y1, subplot = 2, label=L\"\\alpha = 0.2\", markercolor = :blue, alpha=0.5, title = \"(energia calcolata con modello \"*L\"\\alpha=0.5\"*\")\")\n",
    "scatter!(x2, y2, subplot = 2, label=L\"\\alpha = 0.5\", markercolor = :red, alpha=0.5)\n",
    "scatter!(x3, y3, subplot = 2, label=L\"\\alpha = 0.9\", markercolor = :green, alpha=0.5)\n",
    "scatter!(x4, y4, subplot = 2, label=\"WT MSA\", markercolor = :yellow, alpha=0.5)\n",
    "\n",
    "histogram!([x1, y1] , subplot = [1 3], orientation = [:v :h], framestyle = :none, legend = false, alpha=0.2, fillcolors = :blue, title = \"\")\n",
    "histogram!([x2, y2], subplot = [1 3], orientation = [:v :h], framestyle = :none, legend = false, alpha=0.2, fillcolors = :red)\n",
    "histogram!([x3, y3], subplot = [1 3], orientation = [:v :h], framestyle = :none, legend = false, alpha=0.2, fillcolors = :green)\n",
    "histogram!([x4, y4], subplot = [1 3], orientation = [:v :h], framestyle = :none, legend = false, alpha=0.2, fillcolors = :yellow)\n",
    "\n",
    "\n",
    "savefig(joinpath(path,\"energy wrt model alpha=0.5.png\"));"
   ]
  },
  {
   "cell_type": "code",
   "execution_count": 12,
   "metadata": {},
   "outputs": [],
   "source": [
    "x1, y1 = seq_id1[1:L_stop], energies1_3\n",
    "x2, y2 = seq_id2[1:L_stop], energies2_3\n",
    "x3, y3 = seq_id3[1:L_stop], energies3_3\n",
    "x4, y4 = seq_idWT[1:L_stop_WT], energiesWT_3\n",
    "\n",
    "default(grid = true, legend = true)\n",
    "layout = @layout [a _\n",
    "                    b{0.8w,0.8h} c]\n",
    "plot(layout = layout, link = :both, size = (800, 800), xlabel=\"sequence identity\", ylabel=\"energy\")\n",
    "\n",
    "scatter!(x1, y1, subplot = 2, label=L\"\\alpha = 0.2\", markercolor = :blue, alpha=0.5, title = \"(energia calcolata con modello \"*L\"\\alpha=0.9\"*\")\")\n",
    "scatter!(x2, y2, subplot = 2, label=L\"\\alpha = 0.5\", markercolor = :red, alpha=0.5)\n",
    "scatter!(x3, y3, subplot = 2, label=L\"\\alpha = 0.9\", markercolor = :green, alpha=0.5)\n",
    "scatter!(x4, y4, subplot = 2, label=\"WT MSA\", markercolor = :yellow, alpha=0.5)\n",
    "\n",
    "\n",
    "histogram!([x1,  y1] , subplot = [1 3], orientation = [:v :h], framestyle = :none, legend = false, alpha=0.2, fillcolors = :blue, title=\"\")\n",
    "histogram!([x2, y2], subplot = [1 3], orientation = [:v :h], framestyle = :none, legend = false, alpha=0.2, fillcolors = :red)\n",
    "histogram!([x3, y3], subplot = [1 3], orientation = [:v :h], framestyle = :none, legend = false, alpha=0.2, fillcolors = :green)\n",
    "histogram!([x4, y4], subplot = [1 3], orientation = [:v :h], framestyle = :none, legend = false, alpha=0.2, fillcolors = :yellow)\n",
    "\n",
    "savefig(joinpath(path,\"energy wrt model alpha=0.9.png\"));"
   ]
  },
  {
   "attachments": {},
   "cell_type": "markdown",
   "metadata": {},
   "source": [
    "## Number of never seen sequences"
   ]
  },
  {
   "cell_type": "code",
   "execution_count": 13,
   "metadata": {},
   "outputs": [],
   "source": [
    "unseen_pairs_1 = counting_different_pairings(gen_MSA_1[1:L_stop,:], nat_MSA, q);\n",
    "unseen_pairs_2 = counting_different_pairings(gen_MSA_2[1:L_stop,:], nat_MSA, q);\n",
    "unseen_pairs_3 = counting_different_pairings(gen_MSA_3[1:L_stop,:], nat_MSA, q);"
   ]
  },
  {
   "cell_type": "code",
   "execution_count": 14,
   "metadata": {},
   "outputs": [],
   "source": [
    "histogram( unseen_pairs_1, label = L\"\\alpha=0.2\", alpha=:0.5)\n",
    "histogram!(unseen_pairs_2, label = L\"\\alpha=0.5\", alpha=:0.5)\n",
    "histogram!(unseen_pairs_3, label = L\"\\alpha=0.9\", alpha=:0.5)\n",
    "title!(\"Number of never-seen couplings (generated seq.)\")\n",
    "xlabel!(\"number of couplings\")\n",
    "ylabel!(\"counts\")\n",
    "\n",
    "savefig(joinpath(path,\"Number of never-seen couplings.png\"));"
   ]
  },
  {
   "cell_type": "code",
   "execution_count": null,
   "metadata": {},
   "outputs": [],
   "source": []
  }
 ],
 "metadata": {
  "kernelspec": {
   "display_name": "Julia 1.8.5",
   "language": "julia",
   "name": "julia-1.8"
  },
  "language_info": {
   "file_extension": ".jl",
   "mimetype": "application/julia",
   "name": "julia",
   "version": "1.8.5"
  },
  "orig_nbformat": 4
 },
 "nbformat": 4,
 "nbformat_minor": 2
}
