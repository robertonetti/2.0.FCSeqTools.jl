{
 "cells": [
  {
   "cell_type": "code",
   "execution_count": 60,
   "metadata": {},
   "outputs": [],
   "source": [
    "using XLSX\n",
    "using Distributed\n",
    "using Plots\n",
    "using JLD\n",
    "\n",
    "include(\"../FCSeqTools.jl\")\n",
    "include(\"../functions.jl\")\n",
    "\n",
    "rm(\"figures/entropy\", force=true, recursive=true)\n",
    "mkdir(\"figures/entropy\")\n",
    "\n",
    "\n",
    "natural_sequences = do_number_matrix_prot(do_letter_matrix(\"CM_130530_MC.fasta\"), 0.2);\n",
    "ref_seq = natural_sequences[1,:];"
   ]
  },
  {
   "attachments": {},
   "cell_type": "markdown",
   "metadata": {},
   "source": [
    "## Single site entropy: *pseudo_count = 0.5*"
   ]
  },
  {
   "cell_type": "code",
   "execution_count": 69,
   "metadata": {},
   "outputs": [
    {
     "data": {
      "text/plain": [
       "\"figures/entropy/pseudo_count=0.5\""
      ]
     },
     "execution_count": 69,
     "metadata": {},
     "output_type": "execute_result"
    }
   ],
   "source": [
    "# CREATE FOLDERS AND LOAD PARAMETERS\n",
    "rm(joinpath(\"figures/entropy\", \"pseudo_count=0.5\"), force=true, recursive=true)\n",
    "mkdir(joinpath(\"figures/entropy\", \"pseudo_count=0.5\"))\n",
    "path_05 = joinpath(\"figures/entropy\", \"pseudo_count=0.5\")\n",
    "\n",
    "\n",
    "method = \"cumulative\"\n",
    "fraction = 0.3\n",
    "stop = 0.9\n",
    "folder_name = method*string(fraction)*\"_stop=\"*string(stop)\n",
    "\n",
    "folder_name = folder_name * \"_reg=0.5\"\n",
    "folder_path = \"/Users/robertonetti/Documents/GitHub/FCSeqTools.jl/Example_Proteins/\"*folder_name*\"/\"  \n",
    "\n",
    "fields_05 = JLD.load(folder_path*\"h.jld\")[\"data\"]\n",
    "couplings_05 = JLD.load(folder_path*\"Jij.jld\")[\"data\"];\n",
    "\n",
    "path_05"
   ]
  },
  {
   "cell_type": "code",
   "execution_count": 62,
   "metadata": {},
   "outputs": [],
   "source": [
    "q = 21\n",
    "pseudo_count = 0.5\n",
    "threshold = 0.2\n",
    "\n",
    "prof_site_entropy = site_entropy_vector(natural_sequences, q, pseudo_count, threshold);\n",
    "EAA_site_entropy = full_model_site_entropy(q, ref_seq, fields_05, couplings_05, pseudo_count, threshold);"
   ]
  },
  {
   "cell_type": "code",
   "execution_count": 63,
   "metadata": {},
   "outputs": [],
   "source": [
    "histogram(prof_site_entropy, bins=50, title= \"Profile Model: single site entropy\", xlabel=\"site entropy\", ylabel=\"counts\", label =:false)\n",
    "\n",
    "savefig(joinpath(path_05, \"prof_entropy_reg.png\"));"
   ]
  },
  {
   "cell_type": "code",
   "execution_count": 64,
   "metadata": {},
   "outputs": [],
   "source": [
    "histogram(EAA_site_entropy, bins=50, title= \"EAA Model: single site entropy\", xlabel=\"site entropy\", ylabel=\"counts\", label =:false)\n",
    "\n",
    "savefig(joinpath(path_05, \"EAA_entropy_reg.png\"));"
   ]
  },
  {
   "attachments": {},
   "cell_type": "markdown",
   "metadata": {},
   "source": [
    "# Single-site entropies: *pseudo-count = 0.05*"
   ]
  },
  {
   "cell_type": "code",
   "execution_count": 65,
   "metadata": {},
   "outputs": [],
   "source": [
    "rm(joinpath(\"figures/entropy\", \"pseudo_count=0.05\"), force=true, recursive=true)\n",
    "mkdir(joinpath(\"figures/entropy\", \"pseudo_count=0.05\"))\n",
    "path_005 = joinpath(\"figures/entropy\", \"pseudo_count=0.05\")\n",
    "\n",
    "\n",
    "method = \"cumulative\"\n",
    "fraction = 0.3\n",
    "stop = 0.9\n",
    "folder_name = method*string(fraction)*\"_stop=\"*string(stop)\n",
    "\n",
    "folder_path = \"/Users/robertonetti/Documents/GitHub/FCSeqTools.jl/Example_Proteins/\"*folder_name*\"/\"  \n",
    "\n",
    "fields_005 = JLD.load(folder_path*\"h.jld\")[\"data\"]\n",
    "couplings_005 = JLD.load(folder_path*\"Jij.jld\")[\"data\"];\n",
    "\n",
    "q = 21\n",
    "pseudo_count = 0.05\n",
    "threshold = 0.2;"
   ]
  },
  {
   "cell_type": "code",
   "execution_count": 66,
   "metadata": {},
   "outputs": [],
   "source": [
    "prof_site_entropy_005 = site_entropy_vector(natural_sequences, q, pseudo_count, threshold);\n",
    "EAA_site_entropy_005 = full_model_site_entropy(q, ref_seq, fields_005, couplings_005, pseudo_count, threshold);"
   ]
  },
  {
   "cell_type": "code",
   "execution_count": 67,
   "metadata": {},
   "outputs": [],
   "source": [
    "histogram(prof_site_entropy_005, bins=50, title= \"Profile Model: single site entropy\", xlabel=\"site entropy\", ylabel=\"counts\", label =:false)\n",
    "\n",
    "savefig(joinpath(path_005, \"prof_entropy_no_reg.png\"));"
   ]
  },
  {
   "cell_type": "code",
   "execution_count": 68,
   "metadata": {},
   "outputs": [],
   "source": [
    "histogram(EAA_site_entropy_005, bins=50, title= \"EAA Model: single site entropy\", xlabel=\"site entropy\", ylabel=\"counts\", label =:false)\n",
    "savefig(joinpath(path_005, \"EAA_entropy_no_reg.png\"));"
   ]
  },
  {
   "cell_type": "code",
   "execution_count": null,
   "metadata": {},
   "outputs": [],
   "source": []
  }
 ],
 "metadata": {
  "kernelspec": {
   "display_name": "Julia 1.8.5",
   "language": "julia",
   "name": "julia-1.8"
  },
  "language_info": {
   "file_extension": ".jl",
   "mimetype": "application/julia",
   "name": "julia",
   "version": "1.8.5"
  },
  "orig_nbformat": 4
 },
 "nbformat": 4,
 "nbformat_minor": 2
}
