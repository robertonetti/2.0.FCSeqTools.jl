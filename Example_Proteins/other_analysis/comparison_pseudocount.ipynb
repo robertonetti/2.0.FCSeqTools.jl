{
 "cells": [
  {
   "cell_type": "code",
   "execution_count": 1,
   "metadata": {},
   "outputs": [],
   "source": [
    "using Plots\n",
    "using JLD\n",
    "using StatsPlots\n",
    "using LaTeXStrings\n",
    "\n",
    "\n",
    "include(\"../src/FCSeqTools.jl\");\n",
    "include(\"../src/functions.jl\");\n",
    "\n",
    "folder_name = \"pseudo_count=0.5__init_pseudo_count=0.01\"\n",
    "\n",
    "rm(joinpath(\"figures/comparison_pseudocount\",folder_name), force=true, recursive=true)\n",
    "mkdir(joinpath(\"figures/comparison_pseudocount\",folder_name))\n",
    "path = joinpath(\"figures/comparison_pseudocount\",folder_name);"
   ]
  },
  {
   "attachments": {},
   "cell_type": "markdown",
   "metadata": {},
   "source": [
    "# Compare Couplings"
   ]
  },
  {
   "cell_type": "code",
   "execution_count": 7,
   "metadata": {},
   "outputs": [],
   "source": [
    "method = \"cumulative\"\n",
    "fraction = 0.3\n",
    "stop = 0.9\n",
    "pseudo_count = 0.5\n",
    "\n",
    "path1 = \"../training/\" * method * string(fraction) * \"_stop=\" * string(stop) * \"_reg=\"*string(pseudo_count) #* \"_h_ps-count=\" * string(init_pseudo_count)\n",
    "path2 = \"../training/\" * method * string(fraction) * \"_stop=\" * string(stop)  #* \"_h_ps-count=\" * string(init_pseudo_count)\n",
    "\n",
    "h1 = JLD.load(path1* \"/h.jld\")[\"data\"]\n",
    "Jij1 = JLD.load(path1* \"/Jij.jld\")[\"data\"];\n",
    "iteration1 = open(path1* \"/iterations.txt\", \"r\")\n",
    "data1 = parse.(Float64, split(readlines(iteration1)[end], \" \")[1:end-1])\n",
    "\n",
    "h2 = JLD.load(path2* \"/h.jld\")[\"data\"]\n",
    "Jij2 = JLD.load(path2* \"/Jij.jld\")[\"data\"];\n",
    "iteration2 = open(path2* \"/iterations.txt\", \"r\");\n",
    "data2 = parse.(Float64, split(readlines(iteration2)[end], \" \")[1:end-1])\n",
    "\n",
    "edge_n1, element_n1 = data1[6], data1[7]\n",
    "edge_n2, element_n2 = data2[6], data2[7]\n",
    "Nij_tot = 96*(96-1)\n",
    "Nij_ab_tot = Nij_tot * q^2;"
   ]
  },
  {
   "cell_type": "code",
   "execution_count": 8,
   "metadata": {},
   "outputs": [],
   "source": [
    "n_element_plot = 500_000\n",
    "Jij1_to_plot = zeros(n_element_plot);\n",
    "Jij2_to_plot = zeros(n_element_plot);\n",
    "\n",
    "for i in 1:n_element_plot\n",
    "    j = rand(1:length(Jij1))\n",
    "    Jij1_to_plot[i] = Jij1[j]\n",
    "    Jij2_to_plot[i] = Jij2[j]\n",
    "end"
   ]
  },
  {
   "cell_type": "code",
   "execution_count": 9,
   "metadata": {},
   "outputs": [],
   "source": [
    "scatter(Jij1_to_plot, Jij2_to_plot, markershape=:circle, label=:false, xlabel=\"Jij(a,b) α = 0.5\", ylabel=\"Jij(a,b) α = 0.05\", title=\"All the couplings\", alpha=0.2)\n",
    "savefig(\"figures/comparison_pseudocount/Jij.png\");"
   ]
  },
  {
   "cell_type": "code",
   "execution_count": 24,
   "metadata": {},
   "outputs": [
    {
     "name": "stdout",
     "output_type": "stream",
     "text": [
      "Common Edges: \n",
      "14.3% of the total;   79.9% of the first model;   77.1% of the second model\n",
      "\n",
      "Common Elements: \n",
      "0.2% of the total;   41.4% of the first model;   24.4% of the second model\n",
      "\n",
      "Number of cases where: J_0.5 == 0 &  J_{0.05} != 0: 27991\n",
      "\n",
      "Number of cases where: J_0.5 != 0 &  J_{0.05} == 0: 12788\n",
      "\n",
      "Number of cases where: J_0.5 == 0 &  J_{0.05} == 0: 4014429\n",
      "\n",
      "Number of cases where: J_0.5 != 0 &  J_{0.05} != 0: 9048\n"
     ]
    }
   ],
   "source": [
    "n_ij, n_ij_ab, n_01, n_10, n_00, Jij_common1, Jij_common2 = count_common_Jij(Jij1, Jij2);\n",
    "\n",
    "frac_ij_tot = round(n_ij/Nij_tot * 100, digits=1)\n",
    "frac_ijab_tot = round(n_ij_ab/Nij_ab_tot * 100, digits=1)\n",
    "\n",
    "frac_ij_1 = round(n_ij/edge_n1 * 100, digits=1)\n",
    "frac_ijab_1 = round(n_ij_ab/element_n1 * 100, digits=1)\n",
    "frac_ij_2 = round(n_ij/edge_n2 * 100, digits=1)\n",
    "frac_ijab_2 = round(n_ij_ab/element_n2 * 100, digits=1)\n",
    "\n",
    "println(\"Common Edges: \\n\",frac_ij_tot,\"% of the total;   \",  frac_ij_1, \"% of the first model;   \", frac_ij_2, \"% of the second model\")\n",
    "println(\"\\nCommon Elements: \\n\",frac_ijab_tot,\"% of the total;   \",  frac_ijab_1, \"% of the first model;   \", frac_ijab_2, \"% of the second model\")\n",
    "println(\"\\nNumber of cases where: J_0.5 == 0 &  J_{0.05} != 0: \", n_01)\n",
    "println(\"\\nNumber of cases where: J_0.5 != 0 &  J_{0.05} == 0: \", n_10)\n",
    "println(\"\\nNumber of cases where: J_0.5 == 0 &  J_{0.05} == 0: \", n_00)\n",
    "println(\"\\nNumber of cases where: J_0.5 != 0 &  J_{0.05} != 0: \", n_ij_ab)\n"
   ]
  },
  {
   "cell_type": "code",
   "execution_count": 11,
   "metadata": {},
   "outputs": [],
   "source": [
    "x, y = Jij_common1[Jij_common1.!= 0.0], Jij_common2[Jij_common2.!= 0.0]\n",
    "x_label, y_label = L\"J_{ij}(a,b), \\alpha=0.5\", L\"J_{ij}(a,b), \\alpha=0.05\"\n",
    "title = \"Common Couplings: \"* L\"J_{ij}(a,b)\"\n",
    "\n",
    "\n",
    "plot(  histogram(x, nbins=100, alpha=0.5, orientation=:vertical,label=:false, xticks=[], ylabel=\"counts\", title = title),   \n",
    "       plot(framestyle = :none),\n",
    "       scatter(x, y, markershape=:circle, label=:false, xlabel=x_label, ylabel=y_label, alpha=0.2),\n",
    "       histogram(y, nbins=50, alpha=0.5, orientation=:horizontal, label=:false, yticks=[], xlabel=\"counts\"),\n",
    "       link = :both, \n",
    "       size=(1000, 1000), \n",
    "       spacing=0.1, \n",
    "       )\n",
    "\n",
    "savefig(\"figures/comparison_pseudocount/Common_Jij.png\");"
   ]
  },
  {
   "cell_type": "code",
   "execution_count": null,
   "metadata": {},
   "outputs": [],
   "source": []
  },
  {
   "attachments": {},
   "cell_type": "markdown",
   "metadata": {},
   "source": [
    "# test "
   ]
  },
  {
   "cell_type": "code",
   "execution_count": null,
   "metadata": {},
   "outputs": [],
   "source": []
  }
 ],
 "metadata": {
  "kernelspec": {
   "display_name": "Julia 1.8.5",
   "language": "julia",
   "name": "julia-1.8"
  },
  "language_info": {
   "file_extension": ".jl",
   "mimetype": "application/julia",
   "name": "julia",
   "version": "1.8.5"
  },
  "orig_nbformat": 4
 },
 "nbformat": 4,
 "nbformat_minor": 2
}
