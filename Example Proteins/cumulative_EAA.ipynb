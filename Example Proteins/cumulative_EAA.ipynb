{
 "cells": [
  {
   "cell_type": "markdown",
   "metadata": {},
   "source": [
    "# Edge Addition Algorithm - simple implementation example"
   ]
  },
  {
   "cell_type": "markdown",
   "metadata": {},
   "source": [
    "<font size=\"3\">Run time is around ~5 minutes with the default input. \\\n",
    "\\\n",
    "In this example we will use the E.A.A. model to build a low-connectivity DCA model. \\\n",
    "The information that we have about the training RNA family consists in: the sequence alignment and the consenus secondary structure (both trough the Covariance Model) and the 3D contacts trough the PDB file. </font> \n"
   ]
  },
  {
   "cell_type": "code",
   "execution_count": 20,
   "id": "20924cd6",
   "metadata": {},
   "outputs": [],
   "source": [
    "#display(HTML(\"<style>.container { width:90% !important; }</style>\"))\n",
    "#using FCSeqTools\n",
    "#include(\"plotting_tools.jl\")\n",
    "#using Revise\n",
    "include(\"FCSeqTools.jl\");"
   ]
  },
  {
   "cell_type": "markdown",
   "metadata": {},
   "source": [
    "<font size=\"3\">Here is an example of  RF00379 molecule and its associated consensus secondary structure. \\\n",
    "To make the execution faster we will not generate full lenght molecules but just a portion from nucleotide 55 to 102. </font>"
   ]
  },
  {
   "cell_type": "code",
   "execution_count": 10,
   "metadata": {},
   "outputs": [],
   "source": [
    "first=55\n",
    "last=102\n",
    "\n",
    "#tertiary_contact_list, tertiary_contact_matrix = tertiary_plot_tools(len, \"mapp_4qln_A.pdb_A_RF00379.txt.csv\", 8);\n",
    "#natural_sequences = do_number_matrix_rna(do_letter_matrix(\"RF00379.txt\"), 0.2)\n",
    "#ss_contact_list, ss_contact_matrix = secondary_structure_plot_tools(\"RF00379.cm\")\n",
    "#natural_sequences = do_number_matrix_rna(do_letter_matrix(\"RF00379.txt\"),0.2)\n",
    "natural_sequences = do_number_matrix_rna(do_letter_matrix(\"RF00379.txt\")[:, first: last], 0.2)\n",
    "#ss_contact_matrix = ss_contact_matrix[first:last,first:last]\n",
    "#tertiary_contact_matrix = tertiary_contact_matrix[first:last,first:last]\n",
    "len = last - first + 1;\n",
    "#println(\"The segment is $len nucletodide long and has $(sum(vec(ss_contact_matrix))) secondary structure contacts. The database contains $(length(natural_sequences[:,1])) sequences.\")\n",
    "#println(\"\\n\", uppercase(join(collect(molecule)[first:last])))\n",
    "#println(\"\\n\", ss_matrix_to_dot_bracket(ss_contact_matrix))"
   ]
  },
  {
   "cell_type": "markdown",
   "metadata": {},
   "source": [
    "<font size=\"3\">Here is a segment example with its associated secondary structure. \\\n",
    "The database has a different size because the data-cleaning procedure depends on the region selected. \\\n",
    "Now we will run the E.A.A. building up our ineraction netwotk edge by edge till we reach a good performance generative model. \\\n",
    "At each iteration the algorithm reports: the added edge, the iteration number, the number of total added edges and the connectivity percentace of the fully connected case.\\\n",
    "Each 15 iterations the algorithm reports: the model score (Pearson between natural and artificial two-point correlations), the model mean energy, the model partition function and the model entropy. "
   ]
  },
  {
   "cell_type": "code",
   "execution_count": 22,
   "metadata": {},
   "outputs": [
    {
     "name": "stdout",
     "output_type": "stream",
     "text": [
      "Fully connected model has 1128 edges, 28200 elements and a score around ~ 0.95\n",
      "\n",
      "iteration = 20,   Score = 0.721,  <E> = 41.65  log(Z) = 0.11,   S = 41.76   edges: 20,   elements: 500,   edge complexity: 1.77%   elements complexity: 1.77%\n",
      "\n",
      "iteration = 40,   Score = 0.802,  <E> = 38.66  log(Z) = 0.21,   S = 38.87   edges: 40,   elements: 1000,   edge complexity: 3.55%   elements complexity: 3.55%\n",
      "\n",
      "iteration = 60,   Score = 0.852,  <E> = 37.69  log(Z) = 0.34,   S = 38.03   edges: 60,   elements: 1500,   edge complexity: 5.32%   elements complexity: 5.32%\n",
      "\n",
      "iteration = 80,   Score = 0.877,  <E> = 37.01  log(Z) = 0.5,   S = 37.51   edges: 79,   elements: 1975,   edge complexity: 7.0%   elements complexity: 7.0%\n",
      "\n",
      "iteration = 100,   Score = 0.899,  <E> = 36.35  log(Z) = 0.67,   S = 37.02   edges: 99,   elements: 2475,   edge complexity: 8.78%   elements complexity: 8.78%\n",
      "\n",
      "iteration = 120,   Score = 0.906,  <E> = 35.82  log(Z) = 0.85,   S = 36.68   edges: 119,   elements: 2975,   edge complexity: 10.55%   elements complexity: 10.55%\n",
      "\n",
      "iteration = 140,   Score = 0.918,  <E> = 35.34  log(Z) = 1.02,   S = 36.36   edges: 139,   elements: 3475,   edge complexity: 12.32%   elements complexity: 12.32%\n",
      "\n",
      "iteration = 160,   Score = 0.926,  <E> = 34.67  log(Z) = 1.16,   S = 35.83   edges: 158,   elements: 3950,   edge complexity: 14.01%   elements complexity: 14.01%\n",
      "\n",
      "iteration = 180,   Score = 0.932,  <E> = 34.4  log(Z) = 1.3,   S = 35.7   edges: 177,   elements: 4425,   edge complexity: 15.69%   elements complexity: 15.69%\n",
      "\n",
      "iteration = 200,   Score = 0.936,  <E> = 33.93  log(Z) = 1.49,   S = 35.42   edges: 196,   elements: 4900,   edge complexity: 17.38%   elements complexity: 17.38%\n",
      "\n",
      "iteration = 220,   Score = 0.94,  <E> = 33.65  log(Z) = 1.68,   S = 35.33   edges: 215,   elements: 5375,   edge complexity: 19.06%   elements complexity: 19.06%\n",
      "\n",
      "iteration = 240,   Score = 0.945,  <E> = 33.34  log(Z) = 1.83,   S = 35.17   edges: 233,   elements: 5825,   edge complexity: 20.66%   elements complexity: 20.66%\n",
      "\n",
      "iteration = 260,   Score = 0.948,  <E> = 32.82  log(Z) = 1.99,   S = 34.8   edges: 250,   elements: 6250,   edge complexity: 22.16%   elements complexity: 22.16%\n",
      "\n",
      "iteration = 280,   Score = 0.95,  <E> = 32.43  log(Z) = 2.14,   S = 34.56\n",
      " \n",
      "The selceted model has 266 edges and a score = 0.95\n"
     ]
    },
    {
     "data": {
      "text/plain": [
       "142.54883980751038"
      ]
     },
     "execution_count": 22,
     "metadata": {},
     "output_type": "execute_result"
    }
   ],
   "source": [
    "using Random\n",
    "\n",
    "n_step = 2000\n",
    "method = \"cumulative\"\n",
    "\n",
    "s = time()\n",
    "Random.seed!(2) \n",
    "#                                                                                                 #21            #12000                                          #stats  #cumulative\n",
    "score, likelihood_gain, generated_sequences, Jij, h, contact_list, site_degree, edge_list = E_A_A(5, n_step, 0.05, 7000, natural_sequences,\"example_output.txt\", false, method, 0.3); \n",
    "s = time() - s"
   ]
  },
  {
   "cell_type": "markdown",
   "metadata": {},
   "source": [
    "<font size=\"3\">The model obtained has a performance comparable to the fully connected DCA while having just ~20% of its connectivity. The entropy of the model is 35.08. This means that it is able to generate e³⁵ (3.5x10¹⁵) different 55-102 segments for the RF00379 family. \\\n",
    "Now we can test our artificial sequences. We do the classical statistical check of the PCA projection and the two-point correlation representation. \\\n",
    "We test the performance of our model against the one of the Covariance Model. The CM model only contains trivial one-point and secondary information so our model must do better than it. </font>"
   ]
  },
  {
   "cell_type": "code",
   "execution_count": null,
   "metadata": {},
   "outputs": [],
   "source": [
    "cm_sequences = rna_cm_model_generation(0.8,0.05,7000,natural_sequences,ss_contact_matrix);\n"
   ]
  },
  {
   "cell_type": "code",
   "execution_count": null,
   "metadata": {},
   "outputs": [],
   "source": [
    "plot_stat_check(natural_sequences, generated_sequences, cm_sequences)"
   ]
  },
  {
   "cell_type": "markdown",
   "metadata": {},
   "source": [
    "<font size=\"3\">The E.A.A. artificial molecules are practically statistically indistinguishable from the natural ones. We see that they have a very similar PCA projection (artificial one seems richer just because we have more artificial sequences than natural ones) while Covariance Model fails to capture the details of the distribution. \n",
    "    The selected model has almost a perfect two-point statistics for all site pairs while the CM model only captures it for the ones involved in secondary structure contacts. \\\n",
    "     </font>\n"
   ]
  },
  {
   "cell_type": "markdown",
   "metadata": {},
   "source": [
    "<font size=\"3\">The interpretability is one of the main reasons in our quest to find parsimonious generative models. Now that we are sure we obtained a good generative model with relatively few parameters we can try to interprete them. \\\n",
    "Dividing the added edges in secondary structure contacts, 3D contacts we have:"
   ]
  },
  {
   "cell_type": "code",
   "execution_count": null,
   "metadata": {},
   "outputs": [],
   "source": [
    "edge_interpretation_plot(len,ss_contact_matrix,tertiary_contact_matrix,edge_list[1:50,:])"
   ]
  },
  {
   "cell_type": "markdown",
   "metadata": {},
   "source": [
    "<font size=\"3\">We see that the secondary structure contacts are taken in the first few iteration. We have lot of neighbouring sites probably due to philogenic effects. It is striking that we see some 3D contacts (in particular around site 40) before the NONE edges. This\n",
    "suggests that our algorithm effectively captures some information about the tertiary structure. \\\n",
    "Those results, that are far more general than this simple example, suggest that the added edges have a co-evolutionary interpretation."
   ]
  },
  {
   "cell_type": "markdown",
   "metadata": {},
   "source": [
    "<font size=\"3\">\n",
    "This notebook serves as an example of the application of the techniques described in the main text.\n"
   ]
  }
 ],
 "metadata": {
  "kernelspec": {
   "display_name": "Julia 1.8.5",
   "language": "julia",
   "name": "julia-1.8"
  },
  "language_info": {
   "file_extension": ".jl",
   "mimetype": "application/julia",
   "name": "julia",
   "version": "1.8.5"
  },
  "vscode": {
   "interpreter": {
    "hash": "6412a36ae9b8109c1adf793ae61659867359f52a3cfb701a53c331fa90dc1d37"
   }
  }
 },
 "nbformat": 4,
 "nbformat_minor": 5
}
