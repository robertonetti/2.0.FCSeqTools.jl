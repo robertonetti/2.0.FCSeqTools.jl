{
 "cells": [
  {
   "cell_type": "markdown",
   "metadata": {},
   "source": [
    "# Edge Addition Algorithm - simple implementation example"
   ]
  },
  {
   "cell_type": "markdown",
   "metadata": {},
   "source": [
    "<font size=\"3\">Run time is around ~5 minutes with the default input. \\\n",
    "\\\n",
    "In this example we will use the E.A.A. model to build a low-connectivity DCA model. \\\n",
    "The information that we have about the training RNA family consists in: the sequence alignment and the consenus secondary structure (both trough the Covariance Model) and the 3D contacts trough the PDB file. </font> \n"
   ]
  },
  {
   "cell_type": "code",
   "execution_count": 2,
   "id": "20924cd6",
   "metadata": {},
   "outputs": [],
   "source": [
    "#display(HTML(\"<style>.container { width:90% !important; }</style>\"))\n",
    "#using FCSeqTools\n",
    "#include(\"plotting_tools.jl\")\n",
    "#using Revise\n",
    "include(\"FCSeqTools.jl\");"
   ]
  },
  {
   "cell_type": "markdown",
   "metadata": {},
   "source": [
    "<font size=\"3\">Here is an example of  RF00379 molecule and its associated consensus secondary structure. \\\n",
    "To make the execution faster we will not generate full lenght molecules but just a portion from nucleotide 55 to 102. </font>"
   ]
  },
  {
   "cell_type": "code",
   "execution_count": 3,
   "metadata": {},
   "outputs": [],
   "source": [
    "first=55\n",
    "last=102\n",
    "\n",
    "#tertiary_contact_list, tertiary_contact_matrix = tertiary_plot_tools(len, \"mapp_4qln_A.pdb_A_RF00379.txt.csv\", 8);\n",
    "#natural_sequences = do_number_matrix_rna(do_letter_matrix(\"RF00379.txt\"), 0.2)\n",
    "#ss_contact_list, ss_contact_matrix = secondary_structure_plot_tools(\"RF00379.cm\")\n",
    "#natural_sequences = do_number_matrix_rna(do_letter_matrix(\"RF00379.txt\"),0.2)\n",
    "natural_sequences = do_number_matrix_rna(do_letter_matrix(\"RF00379.txt\")[:, first: last], 0.2)\n",
    "#ss_contact_matrix = ss_contact_matrix[first:last,first:last]\n",
    "#tertiary_contact_matrix = tertiary_contact_matrix[first:last,first:last]\n",
    "len = last - first + 1;\n",
    "#println(\"The segment is $len nucletodide long and has $(sum(vec(ss_contact_matrix))) secondary structure contacts. The database contains $(length(natural_sequences[:,1])) sequences.\")\n",
    "#println(\"\\n\", uppercase(join(collect(molecule)[first:last])))\n",
    "#println(\"\\n\", ss_matrix_to_dot_bracket(ss_contact_matrix))"
   ]
  },
  {
   "cell_type": "markdown",
   "metadata": {},
   "source": [
    "<font size=\"3\">Here is a segment example with its associated secondary structure. \\\n",
    "The database has a different size because the data-cleaning procedure depends on the region selected. \\\n",
    "Now we will run the E.A.A. building up our ineraction netwotk edge by edge till we reach a good performance generative model. \\\n",
    "At each iteration the algorithm reports: the added edge, the iteration number, the number of total added edges and the connectivity percentace of the fully connected case.\\\n",
    "Each 15 iterations the algorithm reports: the model score (Pearson between natural and artificial two-point correlations), the model mean energy, the model partition function and the model entropy. "
   ]
  },
  {
   "cell_type": "code",
   "execution_count": 4,
   "metadata": {},
   "outputs": [
    {
     "name": "stdout",
     "output_type": "stream",
     "text": [
      "Fully connected model has 1128 edges, 28200 elements and a score around ~ 0.95\n",
      "\n",
      "iteration = 20,   Score = 0.655,  <E> = 44.81  log(Z) = 0.18,   S = 44.99   edges: 17,   elements: 63,   edge complexity: 1.51%   elements complexity: 0.22%\n",
      "\n",
      "iteration = 40,   Score = 0.698,  <E> = 41.99  log(Z) = 0.45,   S = 42.44   edges: 24,   elements: 116,   edge complexity: 2.13%   elements complexity: 0.41%\n",
      "\n",
      "iteration = 60,   Score = 0.744,  <E> = 39.66  log(Z) = 0.6,   S = 40.26   edges: 34,   elements: 174,   edge complexity: 3.01%   elements complexity: 0.62%\n",
      "\n",
      "iteration = 80,   Score = 0.777,  <E> = 38.32  log(Z) = 0.82,   S = 39.14   edges: 44,   elements: 232,   edge complexity: 3.9%   elements complexity: 0.82%\n",
      "\n",
      "iteration = 100,   Score = 0.801,  <E> = 36.91  log(Z) = 1.07,   S = 37.98   edges: 56,   elements: 290,   edge complexity: 4.96%   elements complexity: 1.03%\n",
      "\n",
      "iteration = 120,   Score = 0.825,  <E> = 36.01  log(Z) = 1.28,   S = 37.29   edges: 68,   elements: 359,   edge complexity: 6.03%   elements complexity: 1.27%\n",
      "\n",
      "iteration = 140,   Score = 0.847,  <E> = 35.39  log(Z) = 1.5,   S = 36.89   edges: 85,   elements: 428,   edge complexity: 7.54%   elements complexity: 1.52%\n",
      "\n",
      "iteration = 160,   Score = 0.859,  <E> = 34.74  log(Z) = 1.72,   S = 36.47   edges: 101,   elements: 495,   edge complexity: 8.95%   elements complexity: 1.76%\n",
      "\n",
      "iteration = 180,   Score = 0.875,  <E> = 34.24  log(Z) = 1.96,   S = 36.2   edges: 116,   elements: 561,   edge complexity: 10.28%   elements complexity: 1.99%\n",
      "\n",
      "iteration = 200,   Score = 0.886,  <E> = 33.77  log(Z) = 2.2,   S = 35.97   edges: 133,   elements: 629,   edge complexity: 11.79%   elements complexity: 2.23%\n",
      "\n",
      "iteration = 220,   Score = 0.894,  <E> = 33.19  log(Z) = 2.41,   S = 35.6   edges: 147,   elements: 698,   edge complexity: 13.03%   elements complexity: 2.48%\n",
      "\n",
      "iteration = 240,   Score = 0.902,  <E> = 33.2  log(Z) = 2.64,   S = 35.83   edges: 162,   elements: 768,   edge complexity: 14.36%   elements complexity: 2.72%\n",
      "\n",
      "iteration = 260,   Score = 0.907,  <E> = 32.55  log(Z) = 2.85,   S = 35.39   edges: 179,   elements: 835,   edge complexity: 15.87%   elements complexity: 2.96%\n",
      "\n",
      "iteration = 280,   Score = 0.914,  <E> = 32.14  log(Z) = 3.07,   S = 35.21   edges: 191,   elements: 891,   edge complexity: 16.93%   elements complexity: 3.16%\n",
      "\n",
      "iteration = 300,   Score = 0.917,  <E> = 31.86  log(Z) = 3.25,   S = 35.11   edges: 201,   elements: 955,   edge complexity: 17.82%   elements complexity: 3.39%\n",
      "\n",
      "iteration = 320,   Score = 0.922,  <E> = 31.37  log(Z) = 3.46,   S = 34.84   edges: 214,   elements: 1022,   edge complexity: 18.97%   elements complexity: 3.62%\n",
      "\n",
      "iteration = 340,   Score = 0.927,  <E> = 31.22  log(Z) = 3.65,   S = 34.87   edges: 229,   elements: 1087,   edge complexity: 20.3%   elements complexity: 3.85%\n",
      "\n",
      "iteration = 360,   Score = 0.93,  <E> = 30.63  log(Z) = 3.84,   S = 34.47   edges: 243,   elements: 1158,   edge complexity: 21.54%   elements complexity: 4.11%\n",
      "\n",
      "iteration = 380,   Score = 0.936,  <E> = 30.33  log(Z) = 4.02,   S = 34.35   edges: 258,   elements: 1216,   edge complexity: 22.87%   elements complexity: 4.31%\n",
      "\n",
      "iteration = 400,   Score = 0.936,  <E> = 30.06  log(Z) = 4.23,   S = 34.28   edges: 271,   elements: 1282,   edge complexity: 24.02%   elements complexity: 4.55%\n",
      "\n",
      "iteration = 420,   Score = 0.939,  <E> = 29.77  log(Z) = 4.43,   S = 34.2   edges: 288,   elements: 1357,   edge complexity: 25.53%   elements complexity: 4.81%\n",
      "\n",
      "iteration = 440,   Score = 0.941,  <E> = 29.67  log(Z) = 4.66,   S = 34.34   edges: 301,   elements: 1418,   edge complexity: 26.68%   elements complexity: 5.03%\n",
      "\n",
      "iteration = 460,   Score = 0.943,  <E> = 29.26  log(Z) = 4.87,   S = 34.13   edges: 315,   elements: 1493,   edge complexity: 27.93%   elements complexity: 5.29%\n",
      "\n",
      "iteration = 480,   Score = 0.947,  <E> = 29.04  log(Z) = 5.05,   S = 34.09   edges: 328,   elements: 1563,   edge complexity: 29.08%   elements complexity: 5.54%\n",
      "\n",
      "iteration = 500,   Score = 0.949,  <E> = 28.71  log(Z) = 5.22,   S = 33.93   edges: 341,   elements: 1624,   edge complexity: 30.23%   elements complexity: 5.76%\n",
      "\n",
      "iteration = 520,   Score = 0.948,  <E> = 28.42  log(Z) = 5.4,   S = 33.82   edges: 352,   elements: 1690,   edge complexity: 31.21%   elements complexity: 5.99%\n",
      "\n",
      "iteration = 540,   Score = 0.949,  <E> = 28.14  log(Z) = 5.59,   S = 33.73   edges: 363,   elements: 1752,   edge complexity: 32.18%   elements complexity: 6.21%\n",
      "\n",
      "iteration = 560,   Score = 0.95,  <E> = 27.71  log(Z) = 5.77,   S = 33.49\n",
      " \n",
      "The selceted model has 370 edges and a score = 0.95\n"
     ]
    },
    {
     "data": {
      "text/plain": [
       "367.70054602622986"
      ]
     },
     "execution_count": 4,
     "metadata": {},
     "output_type": "execute_result"
    }
   ],
   "source": [
    "using Random\n",
    "\n",
    "n_step = 2000\n",
    "method = \"cumulative\"\n",
    "fraction = 0.5\n",
    "s = time()\n",
    "Random.seed!(2) \n",
    "#                                                                                                 #21            #12000                                          #stats  #cumulative\n",
    "score, likelihood_gain, generated_sequences, Jij, h, contact_list, site_degree, edge_list = E_A_A(5, n_step, 0.05, 7000, natural_sequences,\"example_output.txt\", false, method, fraction); \n",
    "s = time() - s"
   ]
  },
  {
   "cell_type": "markdown",
   "metadata": {},
   "source": [
    "<font size=\"3\">The model obtained has a performance comparable to the fully connected DCA while having just ~20% of its connectivity. The entropy of the model is 35.08. This means that it is able to generate e³⁵ (3.5x10¹⁵) different 55-102 segments for the RF00379 family. \\\n",
    "Now we can test our artificial sequences. We do the classical statistical check of the PCA projection and the two-point correlation representation. \\\n",
    "We test the performance of our model against the one of the Covariance Model. The CM model only contains trivial one-point and secondary information so our model must do better than it. </font>"
   ]
  },
  {
   "cell_type": "code",
   "execution_count": null,
   "metadata": {},
   "outputs": [],
   "source": [
    "cm_sequences = rna_cm_model_generation(0.8,0.05,7000,natural_sequences,ss_contact_matrix);\n"
   ]
  },
  {
   "cell_type": "code",
   "execution_count": null,
   "metadata": {},
   "outputs": [],
   "source": [
    "plot_stat_check(natural_sequences, generated_sequences, cm_sequences)"
   ]
  },
  {
   "cell_type": "markdown",
   "metadata": {},
   "source": [
    "<font size=\"3\">The E.A.A. artificial molecules are practically statistically indistinguishable from the natural ones. We see that they have a very similar PCA projection (artificial one seems richer just because we have more artificial sequences than natural ones) while Covariance Model fails to capture the details of the distribution. \n",
    "    The selected model has almost a perfect two-point statistics for all site pairs while the CM model only captures it for the ones involved in secondary structure contacts. \\\n",
    "     </font>\n"
   ]
  },
  {
   "cell_type": "markdown",
   "metadata": {},
   "source": [
    "<font size=\"3\">The interpretability is one of the main reasons in our quest to find parsimonious generative models. Now that we are sure we obtained a good generative model with relatively few parameters we can try to interprete them. \\\n",
    "Dividing the added edges in secondary structure contacts, 3D contacts we have:"
   ]
  },
  {
   "cell_type": "code",
   "execution_count": null,
   "metadata": {},
   "outputs": [],
   "source": [
    "edge_interpretation_plot(len,ss_contact_matrix,tertiary_contact_matrix,edge_list[1:50,:])"
   ]
  },
  {
   "cell_type": "markdown",
   "metadata": {},
   "source": [
    "<font size=\"3\">We see that the secondary structure contacts are taken in the first few iteration. We have lot of neighbouring sites probably due to philogenic effects. It is striking that we see some 3D contacts (in particular around site 40) before the NONE edges. This\n",
    "suggests that our algorithm effectively captures some information about the tertiary structure. \\\n",
    "Those results, that are far more general than this simple example, suggest that the added edges have a co-evolutionary interpretation."
   ]
  },
  {
   "cell_type": "markdown",
   "metadata": {},
   "source": [
    "<font size=\"3\">\n",
    "This notebook serves as an example of the application of the techniques described in the main text.\n"
   ]
  }
 ],
 "metadata": {
  "kernelspec": {
   "display_name": "Julia 1.8.5",
   "language": "julia",
   "name": "julia-1.8"
  },
  "language_info": {
   "file_extension": ".jl",
   "mimetype": "application/julia",
   "name": "julia",
   "version": "1.8.5"
  },
  "vscode": {
   "interpreter": {
    "hash": "6412a36ae9b8109c1adf793ae61659867359f52a3cfb701a53c331fa90dc1d37"
   }
  }
 },
 "nbformat": 4,
 "nbformat_minor": 5
}
